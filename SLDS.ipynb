{
 "cells": [
  {
   "cell_type": "code",
   "execution_count": 1,
   "metadata": {},
   "outputs": [],
   "source": [
    "using Plots"
   ]
  },
  {
   "cell_type": "code",
   "execution_count": 2,
   "metadata": {},
   "outputs": [],
   "source": [
    "using StateSpaceDynamics"
   ]
  },
  {
   "cell_type": "code",
   "execution_count": 3,
   "metadata": {},
   "outputs": [],
   "source": [
    "using LinearAlgebra"
   ]
  },
  {
   "cell_type": "code",
   "execution_count": 4,
   "metadata": {},
   "outputs": [
    {
     "data": {
      "text/plain": [
       "2"
      ]
     },
     "metadata": {},
     "output_type": "display_data"
    }
   ],
   "source": [
    "K = 2"
   ]
  },
  {
   "cell_type": "code",
   "execution_count": 5,
   "metadata": {},
   "outputs": [
    {
     "data": {
      "text/plain": [
       "2-element Vector{StateSpaceDynamics.LinearDynamicalSystem{StateSpaceDynamics.GaussianStateModel{Float64}, StateSpaceDynamics.GaussianObservationModel{Float64}}}:\n",
       " StateSpaceDynamics.LinearDynamicalSystem{StateSpaceDynamics.GaussianStateModel{Float64}, StateSpaceDynamics.GaussianObservationModel{Float64}}(StateSpaceDynamics.GaussianStateModel{Float64}([0.9204668006251124 -0.2350337612917968; 0.2350337612917968 0.9204668006251124], [0.1 0.0; 0.0 0.1], [0.0, 0.0], [0.1 0.0; 0.0 0.1]), StateSpaceDynamics.GaussianObservationModel{Float64}([-0.014219648212551683 0.1392000842138983; 0.4690300454562776 -1.5879853103925734; … ; 0.5558703345064796 0.947792362785379; -0.5473200070148905 1.5503890488656906], [0.5 0.0 … 0.0 0.0; 0.0 0.5 … 0.0 0.0; … ; 0.0 0.0 … 0.5 0.0; 0.0 0.0 … 0.0 0.5]), 2, 10, Bool[1, 1, 1, 1, 1, 1])\n",
       " StateSpaceDynamics.LinearDynamicalSystem{StateSpaceDynamics.GaussianStateModel{Float64}, StateSpaceDynamics.GaussianObservationModel{Float64}}(StateSpaceDynamics.GaussianStateModel{Float64}([0.9204668006251124 -0.2350337612917968; 0.2350337612917968 0.9204668006251124], [0.1 0.0; 0.0 0.1], [0.0, 0.0], [0.1 0.0; 0.0 0.1]), StateSpaceDynamics.GaussianObservationModel{Float64}([-0.014219648212551683 0.1392000842138983; 0.4690300454562776 -1.5879853103925734; … ; 0.5558703345064796 0.947792362785379; -0.5473200070148905 1.5503890488656906], [0.5 0.0 … 0.0 0.0; 0.0 0.5 … 0.0 0.0; … ; 0.0 0.0 … 0.5 0.0; 0.0 0.0 … 0.0 0.5]), 2, 10, Bool[1, 1, 1, 1, 1, 1])"
      ]
     },
     "metadata": {},
     "output_type": "display_data"
    }
   ],
   "source": [
    "# create a state-space model for the tutorial\n",
    "obs_dim = 10\n",
    "latent_dim = 2\n",
    "\n",
    "# set up the state parameters\n",
    "A = 0.95 * [cos(0.25) -sin(0.25); sin(0.25) cos(0.25)] \n",
    "Q = Matrix(0.1 * I(2))\n",
    "\n",
    "x0 = [0.0; 0.0]\n",
    "P0 = Matrix(0.1 * I(2))\n",
    "\n",
    "# set up the observation parameters\n",
    "C = randn(obs_dim, latent_dim)\n",
    "R = Matrix(0.5 * I(10))\n",
    "\n",
    "\n",
    "# create the state-space model\n",
    "emissions = [GaussianLDS(;A=A, \n",
    "                        Q=Q, \n",
    "                        C=C, \n",
    "                        R=R, \n",
    "                        x0=x0, \n",
    "                        P0=P0, \n",
    "                        obs_dim=obs_dim, \n",
    "                        latent_dim=latent_dim, \n",
    "                        fit_bool=fill(true, 6)) for _ in 1:K]\n"
   ]
  },
  {
   "cell_type": "code",
   "execution_count": 6,
   "metadata": {},
   "outputs": [],
   "source": [
    "using StateSpaceDynamics: initialize_transition_matrix, initialize_state_distribution"
   ]
  },
  {
   "cell_type": "code",
   "execution_count": 7,
   "metadata": {},
   "outputs": [
    {
     "data": {
      "text/plain": [
       "SwitchingLinearDynamicalSystem([0.004960339752026778 0.9950396602479732; 0.34396751399405906 0.656032486005941], StateSpaceDynamics.LinearDynamicalSystem[StateSpaceDynamics.LinearDynamicalSystem{StateSpaceDynamics.GaussianStateModel{Float64}, StateSpaceDynamics.GaussianObservationModel{Float64}}(StateSpaceDynamics.GaussianStateModel{Float64}([0.9204668006251124 -0.2350337612917968; 0.2350337612917968 0.9204668006251124], [0.1 0.0; 0.0 0.1], [0.0, 0.0], [0.1 0.0; 0.0 0.1]), StateSpaceDynamics.GaussianObservationModel{Float64}([-0.014219648212551683 0.1392000842138983; 0.4690300454562776 -1.5879853103925734; … ; 0.5558703345064796 0.947792362785379; -0.5473200070148905 1.5503890488656906], [0.5 0.0 … 0.0 0.0; 0.0 0.5 … 0.0 0.0; … ; 0.0 0.0 … 0.5 0.0; 0.0 0.0 … 0.0 0.5]), 2, 10, Bool[1, 1, 1, 1, 1, 1]), StateSpaceDynamics.LinearDynamicalSystem{StateSpaceDynamics.GaussianStateModel{Float64}, StateSpaceDynamics.GaussianObservationModel{Float64}}(StateSpaceDynamics.GaussianStateModel{Float64}([0.9204668006251124 -0.2350337612917968; 0.2350337612917968 0.9204668006251124], [0.1 0.0; 0.0 0.1], [0.0, 0.0], [0.1 0.0; 0.0 0.1]), StateSpaceDynamics.GaussianObservationModel{Float64}([-0.014219648212551683 0.1392000842138983; 0.4690300454562776 -1.5879853103925734; … ; 0.5558703345064796 0.947792362785379; -0.5473200070148905 1.5503890488656906], [0.5 0.0 … 0.0 0.0; 0.0 0.5 … 0.0 0.0; … ; 0.0 0.0 … 0.5 0.0; 0.0 0.0 … 0.0 0.5]), 2, 10, Bool[1, 1, 1, 1, 1, 1])], [0.6221619675444426, 0.37783803245555747], 2)"
      ]
     },
     "metadata": {},
     "output_type": "display_data"
    }
   ],
   "source": [
    "true_ssm = SwitchingLinearDynamicalSystem(initialize_transition_matrix(K), emissions, \n",
    "    initialize_state_distribution(K), K)"
   ]
  },
  {
   "cell_type": "code",
   "execution_count": 8,
   "metadata": {},
   "outputs": [],
   "source": [
    "using LinearAlgebra, Random, Distributions\n",
    "using StatsFuns: logsumexp"
   ]
  },
  {
   "cell_type": "code",
   "execution_count": 9,
   "metadata": {},
   "outputs": [
    {
     "name": "stderr",
     "output_type": "stream",
     "text": [
      "WARNING: both Distributions and StateSpaceDynamics export \"sample\"; uses of it in module Main must be qualified\n"
     ]
    },
    {
     "ename": "UndefVarError",
     "evalue": "UndefVarError: `sample` not defined",
     "output_type": "error",
     "traceback": [
      "UndefVarError: `sample` not defined\n",
      "\n",
      "Stacktrace:\n",
      " [1] top-level scope\n",
      "   @ ~/Documents/GitHub/StateSpaceDynamics.jl/jl_notebook_cell_df34fa98e69747e1a8f8a730347b8e2f_Y113sZmlsZQ==.jl:9"
     ]
    }
   ],
   "source": [
    "\n",
    "# Example usage\n",
    "obs_dim = 2\n",
    "state_dim = 2\n",
    "n_modes = 3\n",
    "T = 100\n",
    "\n",
    "# Generate synthetic data\n",
    "_, observations, _ = sample(true_ssm, T)\n"
   ]
  },
  {
   "cell_type": "code",
   "execution_count": 10,
   "metadata": {},
   "outputs": [],
   "source": []
  }
 ],
 "metadata": {
  "kernelspec": {
   "display_name": "Julia 1.10.4",
   "language": "julia",
   "name": "julia-1.10"
  },
  "language_info": {
   "file_extension": ".jl",
   "mimetype": "application/julia",
   "name": "julia",
   "version": "1.10.4"
  }
 },
 "nbformat": 4,
 "nbformat_minor": 2
}
