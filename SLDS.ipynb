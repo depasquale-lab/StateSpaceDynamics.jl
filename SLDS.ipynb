{
 "cells": [
  {
   "cell_type": "code",
   "execution_count": 1,
   "metadata": {},
   "outputs": [],
   "source": [
    "using Plots"
   ]
  },
  {
   "cell_type": "code",
   "execution_count": 2,
   "metadata": {},
   "outputs": [],
   "source": [
    "using StateSpaceDynamics"
   ]
  },
  {
   "cell_type": "code",
   "execution_count": 3,
   "metadata": {},
   "outputs": [],
   "source": [
    "using LinearAlgebra"
   ]
  },
  {
   "cell_type": "code",
   "execution_count": 4,
   "metadata": {},
   "outputs": [
    {
     "data": {
      "text/plain": [
       "2"
      ]
     },
     "metadata": {},
     "output_type": "display_data"
    }
   ],
   "source": [
    "K = 2"
   ]
  },
  {
   "cell_type": "code",
   "execution_count": 5,
   "metadata": {},
   "outputs": [
    {
     "data": {
      "text/plain": [
       "2-element Vector{StateSpaceDynamics.LinearDynamicalSystem{StateSpaceDynamics.GaussianStateModel{Float64}, StateSpaceDynamics.GaussianObservationModel{Float64}}}:\n",
       " StateSpaceDynamics.LinearDynamicalSystem{StateSpaceDynamics.GaussianStateModel{Float64}, StateSpaceDynamics.GaussianObservationModel{Float64}}(StateSpaceDynamics.GaussianStateModel{Float64}([0.9204668006251124 -0.2350337612917968; 0.2350337612917968 0.9204668006251124], [0.1 0.0; 0.0 0.1], [0.0, 0.0], [0.1 0.0; 0.0 0.1]), StateSpaceDynamics.GaussianObservationModel{Float64}([0.338971409126926 -1.615669630479408; -0.7246751951812889 -1.8935141243258438; … ; -0.32247790187722525 -1.245141727893118; 0.4607462256016656 0.08795973609351078], [0.5 0.0 … 0.0 0.0; 0.0 0.5 … 0.0 0.0; … ; 0.0 0.0 … 0.5 0.0; 0.0 0.0 … 0.0 0.5]), 2, 10, Bool[1, 1, 1, 1, 1, 1])\n",
       " StateSpaceDynamics.LinearDynamicalSystem{StateSpaceDynamics.GaussianStateModel{Float64}, StateSpaceDynamics.GaussianObservationModel{Float64}}(StateSpaceDynamics.GaussianStateModel{Float64}([0.9204668006251124 -0.2350337612917968; 0.2350337612917968 0.9204668006251124], [0.1 0.0; 0.0 0.1], [0.0, 0.0], [0.1 0.0; 0.0 0.1]), StateSpaceDynamics.GaussianObservationModel{Float64}([0.338971409126926 -1.615669630479408; -0.7246751951812889 -1.8935141243258438; … ; -0.32247790187722525 -1.245141727893118; 0.4607462256016656 0.08795973609351078], [0.5 0.0 … 0.0 0.0; 0.0 0.5 … 0.0 0.0; … ; 0.0 0.0 … 0.5 0.0; 0.0 0.0 … 0.0 0.5]), 2, 10, Bool[1, 1, 1, 1, 1, 1])"
      ]
     },
     "metadata": {},
     "output_type": "display_data"
    }
   ],
   "source": [
    "# create a state-space model for the tutorial\n",
    "obs_dim = 10\n",
    "latent_dim = 2\n",
    "\n",
    "# set up the state parameters\n",
    "A = 0.95 * [cos(0.25) -sin(0.25); sin(0.25) cos(0.25)] \n",
    "Q = Matrix(0.1 * I(2))\n",
    "\n",
    "x0 = [0.0; 0.0]\n",
    "P0 = Matrix(0.1 * I(2))\n",
    "\n",
    "# set up the observation parameters\n",
    "C = randn(obs_dim, latent_dim)\n",
    "R = Matrix(0.5 * I(10))\n",
    "\n",
    "\n",
    "# create the state-space model\n",
    "emissions = [GaussianLDS(;A=A, \n",
    "                        Q=Q, \n",
    "                        C=C, \n",
    "                        R=R, \n",
    "                        x0=x0, \n",
    "                        P0=P0, \n",
    "                        obs_dim=obs_dim, \n",
    "                        latent_dim=latent_dim, \n",
    "                        fit_bool=fill(true, 6)) for _ in 1:K]\n"
   ]
  },
  {
   "cell_type": "code",
   "execution_count": 6,
   "metadata": {},
   "outputs": [],
   "source": [
    "using StateSpaceDynamics: initialize_transition_matrix, initialize_state_distribution"
   ]
  },
  {
   "cell_type": "code",
   "execution_count": 7,
   "metadata": {},
   "outputs": [
    {
     "data": {
      "text/plain": [
       "SwitchingLinearDynamicalSystem([0.1430513497044162 0.856948650295584; 0.7739542077580015 0.22604579224199836], StateSpaceDynamics.LinearDynamicalSystem[StateSpaceDynamics.LinearDynamicalSystem{StateSpaceDynamics.GaussianStateModel{Float64}, StateSpaceDynamics.GaussianObservationModel{Float64}}(StateSpaceDynamics.GaussianStateModel{Float64}([0.9204668006251124 -0.2350337612917968; 0.2350337612917968 0.9204668006251124], [0.1 0.0; 0.0 0.1], [0.0, 0.0], [0.1 0.0; 0.0 0.1]), StateSpaceDynamics.GaussianObservationModel{Float64}([0.338971409126926 -1.615669630479408; -0.7246751951812889 -1.8935141243258438; … ; -0.32247790187722525 -1.245141727893118; 0.4607462256016656 0.08795973609351078], [0.5 0.0 … 0.0 0.0; 0.0 0.5 … 0.0 0.0; … ; 0.0 0.0 … 0.5 0.0; 0.0 0.0 … 0.0 0.5]), 2, 10, Bool[1, 1, 1, 1, 1, 1]), StateSpaceDynamics.LinearDynamicalSystem{StateSpaceDynamics.GaussianStateModel{Float64}, StateSpaceDynamics.GaussianObservationModel{Float64}}(StateSpaceDynamics.GaussianStateModel{Float64}([0.9204668006251124 -0.2350337612917968; 0.2350337612917968 0.9204668006251124], [0.1 0.0; 0.0 0.1], [0.0, 0.0], [0.1 0.0; 0.0 0.1]), StateSpaceDynamics.GaussianObservationModel{Float64}([0.338971409126926 -1.615669630479408; -0.7246751951812889 -1.8935141243258438; … ; -0.32247790187722525 -1.245141727893118; 0.4607462256016656 0.08795973609351078], [0.5 0.0 … 0.0 0.0; 0.0 0.5 … 0.0 0.0; … ; 0.0 0.0 … 0.5 0.0; 0.0 0.0 … 0.0 0.5]), 2, 10, Bool[1, 1, 1, 1, 1, 1])], [0.4860232360399128, 0.5139767639600873], 2)"
      ]
     },
     "metadata": {},
     "output_type": "display_data"
    }
   ],
   "source": [
    "true_ssm = SwitchingLinearDynamicalSystem(initialize_transition_matrix(K), emissions, \n",
    "    initialize_state_distribution(K), K)"
   ]
  },
  {
   "cell_type": "code",
   "execution_count": 8,
   "metadata": {},
   "outputs": [],
   "source": [
    "using LinearAlgebra, Random, Distributions\n",
    "using StatsFuns: logsumexp"
   ]
  },
  {
   "cell_type": "code",
   "execution_count": 11,
   "metadata": {},
   "outputs": [],
   "source": [
    "using StateSpaceDynamics: sample"
   ]
  },
  {
   "cell_type": "code",
   "execution_count": 12,
   "metadata": {},
   "outputs": [
    {
     "data": {
      "text/plain": [
       "([0.24476549894621924 0.019359248258796563 … -1.7401734194728746 -1.9790206179131933; 0.21517741599797152 -0.13426780111680525 … 1.377960690303263 1.4562908607225724], [0.22084541775158884 -0.27583698781739274 … -3.723881043841036 -3.5907907796342586; -1.6714596534998334 0.26252993868314045 … -0.6492998192510948 -0.3538406195987812; … ; -0.2073986930158949 -1.665533036991213 … -1.2499421088812703 -0.7216725518926183; 1.337352023420358 0.5447354720033666 … -0.921858072631659 0.6702654838717208], [2, 1, 2, 1, 2, 2, 1, 1, 2, 1  …  1, 1, 2, 1, 2, 1, 2, 1, 2, 1])"
      ]
     },
     "metadata": {},
     "output_type": "display_data"
    }
   ],
   "source": [
    "\n",
    "# Example usage\n",
    "obs_dim = 2\n",
    "state_dim = 2\n",
    "n_modes = 3\n",
    "T = 100\n",
    "\n",
    "# Generate synthetic data\n",
    "_, observations, _ = sample(true_ssm, T)\n"
   ]
  },
  {
   "cell_type": "code",
   "execution_count": 10,
   "metadata": {},
   "outputs": [
    {
     "data": {
      "text/plain": [
       "e_step (generic function with 1 method)"
      ]
     },
     "metadata": {},
     "output_type": "display_data"
    }
   ],
   "source": [
    "function e_step(slds::SwitchingLinearDynamicalSystem, observations::Matrix{Float64})\n",
    "    # Compute log-likelihoods for each mode and time step\n",
    "    T = size(observations, 2)\n",
    "    n_modes = slds.K\n",
    "    gamma = zeros(n_modes, T)\n",
    "\n",
    "    # Forward algorithm for mode probabilities\n",
    "    log_alpha = zeros(n_modes, T)\n",
    "    log_likelihoods = compute_log_likelihoods(slds, observations, gamma)\n",
    "\n",
    "    # Initialize forward probabilities with initial mode distribution\n",
    "    log_alpha[:, 1] .= log.(slds.πₖ) + log_likelihoods[:, 1]\n",
    "\n",
    "    # Recursion for forward probabilities\n",
    "    for t in 2:T\n",
    "        for k in 1:n_modes\n",
    "            log_alpha[k, t] = logsumexp(log_alpha[:, t-1] + log.(slds.A[:, k])) + log_likelihoods[k, t]\n",
    "        end\n",
    "    end\n",
    "\n",
    "    # Compute mode responsibilities (gamma)\n",
    "    gamma .= exp.(log_alpha .- logsumexp(log_alpha, dims=1))  # Normalize in log space\n",
    "    return gamma, log_alpha\n",
    "end\n"
   ]
  },
  {
   "cell_type": "code",
   "execution_count": null,
   "metadata": {},
   "outputs": [],
   "source": [
    "function compute_log_likelihoods(slds::SwitchingLinearDynamicalSystem, observations::Matrix{Float64}, gamma::Matrix{Float64})\n",
    "    T = size(observations, 2)  # Number of time steps\n",
    "    n_modes = slds.K          # Number of modes\n",
    "    state_dim = slds.B[1].latent_dim  # Dimensionality of latent state\n",
    "\n",
    "    log_likelihoods = zeros(n_modes, T)  # Log-likelihoods for each mode and time step\n",
    "\n",
    "    for k in 1:n_modes\n",
    "        lds = slds.B[k]  # Access the Linear Dynamical System for mode k\n",
    "        pred_mean = zeros(state_dim)  # Initialize predicted mean\n",
    "        pred_cov = I(state_dim)  # Initialize predicted covariance as identity\n",
    "\n",
    "        for t in 1:T\n",
    "            # Observation model: obs_mean = C * x, obs_cov = C * P * C' + R\n",
    "            obs_mean = lds.obs_model * pred_mean\n",
    "            obs_cov = Symmetric(lds.obs_model * pred_cov * lds.obs_model' + I(lds.obs_dim))  # Assuming R as identity\n",
    "\n",
    "            # Compute log-likelihood for the current observation\n",
    "            log_likelihoods[k, t] = logpdf(MvNormal(obs_mean, obs_cov), observations[:, t])\n",
    "\n",
    "            # Weighted Kalman update for next-state prediction\n",
    "            pred_mean, pred_cov = weighted_kalman_update(\n",
    "                observations[:, t], [pred_mean], [pred_cov], lds.obs_model, I(lds.obs_dim), gamma[:, t]\n",
    "            )\n",
    "        end\n",
    "    end\n",
    "\n",
    "    return log_likelihoods\n",
    "end\n"
   ]
  },
  {
   "cell_type": "code",
   "execution_count": null,
   "metadata": {},
   "outputs": [],
   "source": [
    "function weighted_kalman_update(\n",
    "    obs::Vector{Float64}, \n",
    "    pred_means::Vector{Vector{Float64}}, \n",
    "    pred_covs::Vector{Matrix{Float64}}, \n",
    "    C::Matrix{Float64}, \n",
    "    R::Matrix{Float64}, \n",
    "    gamma_t::Vector{Float64}\n",
    ")\n",
    "    # Initialize weighted mean and covariance\n",
    "    updated_mean = zeros(size(pred_means[1]))\n",
    "    updated_cov = zeros(size(pred_covs[1]))\n",
    "\n",
    "    for k in 1:length(pred_means)\n",
    "        # Kalman update for mode k\n",
    "        obs_pred = C * pred_means[k]\n",
    "        S = Symmetric(C * pred_covs[k] * C' + R)  # Observation covariance matrix\n",
    "\n",
    "        # Ensure numerical stability with Cholesky decomposition\n",
    "        L = cholesky(S).U\n",
    "        K = pred_covs[k] * C' * inv(L)' * inv(L)  # Equivalent to inv(S) using Cholesky\n",
    "\n",
    "        mean_k = pred_means[k] + K * (obs - obs_pred)\n",
    "        cov_k = pred_covs[k] - K * C * pred_covs[k]\n",
    "\n",
    "        # Weight by gamma_t[k]\n",
    "        updated_mean += gamma_t[k] * mean_k\n",
    "        updated_cov += gamma_t[k] * cov_k\n",
    "    end\n",
    "\n",
    "    return updated_mean, Symmetric(updated_cov)\n",
    "end\n"
   ]
  }
 ],
 "metadata": {
  "kernelspec": {
   "display_name": "Julia 1.10.4",
   "language": "julia",
   "name": "julia-1.10"
  },
  "language_info": {
   "file_extension": ".jl",
   "mimetype": "application/julia",
   "name": "julia",
   "version": "1.10.4"
  }
 },
 "nbformat": 4,
 "nbformat_minor": 2
}
