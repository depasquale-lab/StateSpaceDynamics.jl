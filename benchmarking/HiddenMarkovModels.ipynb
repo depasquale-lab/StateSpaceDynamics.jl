{
 "cells": [
  {
   "cell_type": "code",
   "execution_count": 1,
   "id": "31a7855f",
   "metadata": {},
   "outputs": [
    {
     "name": "stderr",
     "output_type": "stream",
     "text": [
      "\u001b[32m\u001b[1m  Activating\u001b[22m\u001b[39m project at `c:\\Users\\zlosc\\Documents\\GitHub\\StateSpaceDynamics.jl\\benchmarking`\n"
     ]
    }
   ],
   "source": [
    "# Activate the benchmarking environment\n",
    "using Pkg\n",
    "Pkg.activate(\".\")\n",
    "\n",
    "# Import the necessary packages\n",
    "include(\"SSD_Benchmark.jl\")\n",
    "using .SSD_Benchmark\n",
    "using StableRNGs\n",
    "using StateSpaceDynamics"
   ]
  },
  {
   "cell_type": "code",
   "execution_count": 2,
   "id": "496e1e14",
   "metadata": {},
   "outputs": [
    {
     "ename": "DimensionMismatch",
     "evalue": "DimensionMismatch: A has dimensions (1,2) but B has dimensions (1,2)",
     "output_type": "error",
     "traceback": [
      "DimensionMismatch: A has dimensions (1,2) but B has dimensions (1,2)\n",
      "\n",
      "Stacktrace:\n",
      "  [1] gemm_wrapper!(C::Matrix{Float64}, tA::Char, tB::Char, A::Matrix{Float64}, B::Matrix{Float64}, _add::LinearAlgebra.MulAddMul{true, true, Bool, Bool})\n",
      "    @ LinearAlgebra C:\\Users\\zlosc\\AppData\\Local\\Programs\\Julia-1.10.9\\share\\julia\\stdlib\\v1.10\\LinearAlgebra\\src\\matmul.jl:577\n",
      "  [2] generic_matmatmul!\n",
      "    @ C:\\Users\\zlosc\\AppData\\Local\\Programs\\Julia-1.10.9\\share\\julia\\stdlib\\v1.10\\LinearAlgebra\\src\\matmul.jl:352 [inlined]\n",
      "  [3] mul!\n",
      "    @ C:\\Users\\zlosc\\AppData\\Local\\Programs\\Julia-1.10.9\\share\\julia\\stdlib\\v1.10\\LinearAlgebra\\src\\matmul.jl:263 [inlined]\n",
      "  [4] mul!\n",
      "    @ C:\\Users\\zlosc\\AppData\\Local\\Programs\\Julia-1.10.9\\share\\julia\\stdlib\\v1.10\\LinearAlgebra\\src\\matmul.jl:237 [inlined]\n",
      "  [5] *(A::Matrix{Float64}, B::Matrix{Float64})\n",
      "    @ LinearAlgebra C:\\Users\\zlosc\\AppData\\Local\\Programs\\Julia-1.10.9\\share\\julia\\stdlib\\v1.10\\LinearAlgebra\\src\\matmul.jl:113\n",
      "  [6] rand(rng::StableRNGs.LehmerRNG, model::BernoulliRegressionEmission{Float64, Matrix{Float64}}, Φ::Vector{Float64})\n",
      "    @ StateSpaceDynamics c:\\Users\\zlosc\\Documents\\GitHub\\StateSpaceDynamics.jl\\src\\EmissionModels.jl:634\n",
      "  [7] rand(rng::StableRNGs.LehmerRNG, model::HiddenMarkovModel{Float64, Vector{Float64}, Matrix{Float64}, Vector{BernoulliRegressionEmission}}, X::Matrix{Float64}; n::Int64, autoregressive::Bool)\n",
      "    @ StateSpaceDynamics c:\\Users\\zlosc\\Documents\\GitHub\\StateSpaceDynamics.jl\\src\\HiddenMarkovModels.jl:197\n",
      "  [8] rand\n",
      "    @ c:\\Users\\zlosc\\Documents\\GitHub\\StateSpaceDynamics.jl\\src\\HiddenMarkovModels.jl:183 [inlined]\n",
      "  [9] build_data(rng::StableRNGs.LehmerRNG, model::HiddenMarkovModel{Float64, Vector{Float64}, Matrix{Float64}, Vector{BernoulliRegressionEmission}}, instance::Instance)\n",
      "    @ Main.SSD_Benchmark c:\\Users\\zlosc\\Documents\\GitHub\\StateSpaceDynamics.jl\\benchmarking\\Params.jl:33\n",
      " [10] top-level scope\n",
      "    @ c:\\Users\\zlosc\\Documents\\GitHub\\StateSpaceDynamics.jl\\benchmarking\\jl_notebook_cell_df34fa98e69747e1a8f8a730347b8e2f_W3sZmlsZQ==.jl:13"
     ]
    }
   ],
   "source": [
    "rng = StableRNG(50)\n",
    "\n",
    "# Test the instance struct\n",
    "I1 = Instance(num_states=2, num_trials=1, seq_length=100, input_dim=2, output_dim=1)\n",
    "\n",
    "# Test the params struct\n",
    "P1 = init_params(rng, I1)\n",
    "\n",
    "# Test building the models\n",
    "M1 = build_model(SSDImplem(), I1, P1)\n",
    "\n",
    "# Test building the data\n",
    "labels, data = build_data(rng, M1, I1)"
   ]
  }
 ],
 "metadata": {
  "kernelspec": {
   "display_name": "Julia 1.10.9",
   "language": "julia",
   "name": "julia-1.10"
  },
  "language_info": {
   "file_extension": ".jl",
   "mimetype": "application/julia",
   "name": "julia",
   "version": "1.10.9"
  }
 },
 "nbformat": 4,
 "nbformat_minor": 5
}
