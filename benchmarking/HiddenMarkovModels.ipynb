{
 "cells": [
  {
   "cell_type": "code",
   "execution_count": 1,
   "id": "31a7855f",
   "metadata": {},
   "outputs": [
    {
     "name": "stderr",
     "output_type": "stream",
     "text": [
      "\u001b[32m\u001b[1m  Activating\u001b[22m\u001b[39m project at `c:\\Users\\zlosc\\Documents\\GitHub\\StateSpaceDynamics.jl\\benchmarking`\n"
     ]
    }
   ],
   "source": [
    "# Activate the benchmarking environment\n",
    "using Pkg\n",
    "Pkg.activate(\".\")\n",
    "\n",
    "# Import the necessary packages\n",
    "include(\"SSD_Benchmark.jl\")\n",
    "using .SSD_Benchmark\n",
    "using StableRNGs\n",
    "using StateSpaceDynamics"
   ]
  },
  {
   "cell_type": "code",
   "execution_count": 11,
   "id": "496e1e14",
   "metadata": {},
   "outputs": [
    {
     "data": {
      "text/plain": [
       "([[1, 1, 1, 1, 1, 1, 1, 1, 1, 1  …  1, 1, 1, 1, 1, 1, 1, 1, 1, 1], [1, 1, 1, 1, 1, 1, 1, 1, 1, 1  …  1, 1, 1, 1, 1, 1, 1, 1, 1, 1]], [[0.0 1.0 … 1.0 0.0; 0.0 0.0 … 1.0 0.0], [1.0 1.0 … 1.0 1.0; 1.0 1.0 … 0.0 0.0]])"
      ]
     },
     "metadata": {},
     "output_type": "display_data"
    }
   ],
   "source": [
    "rng = StableRNG(50)\n",
    "\n",
    "# Test the instance struct\n",
    "I1 = Instance(num_states=1, num_trials=2, seq_length=100, input_dim=3, output_dim=2)\n",
    "\n",
    "# Test the params struct\n",
    "P1 = init_params(rng, I1)\n",
    "\n",
    "# Test building the models\n",
    "M1 = build_model(SSDImplem(), I1, P1)\n",
    "\n",
    "# Test building the data\n",
    "labels, data = build_data(rng, M1, I1)"
   ]
  }
 ],
 "metadata": {
  "kernelspec": {
   "display_name": "Julia 1.10.9",
   "language": "julia",
   "name": "julia-1.10"
  },
  "language_info": {
   "file_extension": ".jl",
   "mimetype": "application/julia",
   "name": "julia",
   "version": "1.10.9"
  }
 },
 "nbformat": 4,
 "nbformat_minor": 5
}
