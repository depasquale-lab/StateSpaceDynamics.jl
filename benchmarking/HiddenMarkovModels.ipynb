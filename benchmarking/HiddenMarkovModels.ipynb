{
 "cells": [
  {
   "cell_type": "code",
   "execution_count": 1,
   "id": "31a7855f",
   "metadata": {},
   "outputs": [
    {
     "name": "stderr",
     "output_type": "stream",
     "text": [
      "\u001b[32m\u001b[1m  Activating\u001b[22m\u001b[39m project at `c:\\Users\\zachl\\OneDrive\\Documents\\GitHub\\StateSpaceDynamics.jl\\benchmarking`\n"
     ]
    }
   ],
   "source": [
    "# Activate the benchmarking environment\n",
    "using Pkg\n",
    "Pkg.activate(\".\")\n",
    "\n",
    "# Import the necessary packages\n",
    "include(\"SSD_Benchmark.jl\")\n",
    "using .SSD_Benchmark\n",
    "using StableRNGs\n",
    "using StateSpaceDynamics\n",
    "import HiddenMarkovModels as HMMs"
   ]
  },
  {
   "cell_type": "code",
   "execution_count": 2,
   "id": "496e1e14",
   "metadata": {},
   "outputs": [
    {
     "name": "stderr",
     "output_type": "stream",
     "text": [
      "\u001b[32mRunning EM algorithm... 100%|██████████████████████████████████████████████████| Time: 0:00:00 ( 6.45 ms/it)\u001b[39m\u001b[K\n",
      "\u001b[32mRunning EM algorithm... 100%|██████████████████████████████████████████████████| Time: 0:00:00 ( 1.86 ms/it)\u001b[39m\u001b[K\n",
      "\u001b[32mRunning EM algorithm... 100%|██████████████████████████████████████████████████| Time: 0:00:00 ( 3.14 ms/it)\u001b[39m\u001b[K\n",
      "\u001b[32mRunning EM algorithm... 100%|██████████████████████████████████████████████████| Time: 0:00:00 ( 2.22 ms/it)\u001b[39m\u001b[K\n",
      "\u001b[32mRunning EM algorithm... 100%|██████████████████████████████████████████████████| Time: 0:00:00 ( 2.34 ms/it)\u001b[39m\u001b[K\n",
      "\u001b[32mRunning EM algorithm... 100%|██████████████████████████████████████████████████| Time: 0:00:00 ( 2.35 ms/it)\u001b[39m\u001b[K\n",
      "\u001b[32mRunning EM algorithm... 100%|██████████████████████████████████████████████████| Time: 0:00:00 ( 3.32 ms/it)\u001b[39m\u001b[K\n",
      "\u001b[32mRunning EM algorithm... 100%|██████████████████████████████████████████████████| Time: 0:00:00 ( 2.00 ms/it)\u001b[39m\u001b[K\n",
      "\u001b[32mRunning EM algorithm... 100%|██████████████████████████████████████████████████| Time: 0:00:00 ( 2.30 ms/it)\u001b[39m\u001b[K\n",
      "\u001b[32mRunning EM algorithm... 100%|██████████████████████████████████████████████████| Time: 0:00:00 ( 2.18 ms/it)\u001b[39m\u001b[K\n",
      "\u001b[32mRunning EM algorithm... 100%|██████████████████████████████████████████████████| Time: 0:00:00 ( 2.55 ms/it)\u001b[39m\u001b[K\n",
      "\u001b[32mRunning EM algorithm... 100%|██████████████████████████████████████████████████| Time: 0:00:00 ( 2.28 ms/it)\u001b[39m\u001b[K\n",
      "\u001b[32mRunning EM algorithm... 100%|██████████████████████████████████████████████████| Time: 0:00:00 ( 2.66 ms/it)\u001b[39m\u001b[K\n",
      "\u001b[32mRunning EM algorithm... 100%|██████████████████████████████████████████████████| Time: 0:00:00 ( 2.16 ms/it)\u001b[39m\u001b[K\n",
      "\u001b[32mRunning EM algorithm... 100%|██████████████████████████████████████████████████| Time: 0:00:00 ( 2.50 ms/it)\u001b[39m\u001b[K\n",
      "\u001b[32mRunning EM algorithm... 100%|██████████████████████████████████████████████████| Time: 0:00:00 ( 2.15 ms/it)\u001b[39m\u001b[K\n",
      "\u001b[32mRunning EM algorithm... 100%|██████████████████████████████████████████████████| Time: 0:00:00 ( 2.38 ms/it)\u001b[39m\u001b[K\n",
      "\u001b[32mRunning EM algorithm... 100%|██████████████████████████████████████████████████| Time: 0:00:00 ( 2.18 ms/it)\u001b[39m\u001b[K\n",
      "\u001b[32mRunning EM algorithm... 100%|██████████████████████████████████████████████████| Time: 0:00:00 ( 2.31 ms/it)\u001b[39m\u001b[K\n",
      "\u001b[32mRunning EM algorithm... 100%|██████████████████████████████████████████████████| Time: 0:00:00 ( 2.26 ms/it)\u001b[39m\u001b[K\n",
      "\u001b[32mRunning EM algorithm... 100%|██████████████████████████████████████████████████| Time: 0:00:00 ( 2.24 ms/it)\u001b[39m\u001b[K\n",
      "\u001b[32mRunning EM algorithm... 100%|██████████████████████████████████████████████████| Time: 0:00:00 ( 2.48 ms/it)\u001b[39m\u001b[K\n",
      "\u001b[32mRunning EM algorithm... 100%|██████████████████████████████████████████████████| Time: 0:00:00 ( 1.90 ms/it)\u001b[39m\u001b[K\n",
      "\u001b[32mRunning EM algorithm... 100%|██████████████████████████████████████████████████| Time: 0:00:00 ( 2.14 ms/it)\u001b[39m\u001b[K\n",
      "\u001b[32mRunning EM algorithm... 100%|██████████████████████████████████████████████████| Time: 0:00:00 ( 2.35 ms/it)\u001b[39m\u001b[K\n",
      "\u001b[32mRunning EM algorithm... 100%|██████████████████████████████████████████████████| Time: 0:00:00 ( 2.30 ms/it)\u001b[39m\u001b[K\n",
      "\u001b[32mRunning EM algorithm... 100%|██████████████████████████████████████████████████| Time: 0:00:00 ( 2.23 ms/it)\u001b[39m\u001b[K\n",
      "\u001b[32mRunning EM algorithm... 100%|██████████████████████████████████████████████████| Time: 0:00:00 ( 2.20 ms/it)\u001b[39m\u001b[K\n",
      "\u001b[32mRunning EM algorithm... 100%|██████████████████████████████████████████████████| Time: 0:00:00 ( 2.31 ms/it)\u001b[39m\u001b[K\n",
      "\u001b[32mRunning EM algorithm... 100%|██████████████████████████████████████████████████| Time: 0:00:00 ( 2.26 ms/it)\u001b[39m\u001b[K\n",
      "\u001b[32mRunning EM algorithm... 100%|██████████████████████████████████████████████████| Time: 0:00:00 ( 2.53 ms/it)\u001b[39m\u001b[K\n",
      "\u001b[32mRunning EM algorithm... 100%|██████████████████████████████████████████████████| Time: 0:00:00 ( 2.25 ms/it)\u001b[39m\u001b[K\n",
      "\u001b[32mRunning EM algorithm... 100%|██████████████████████████████████████████████████| Time: 0:00:00 ( 2.26 ms/it)\u001b[39m\u001b[K\n",
      "\u001b[32mRunning EM algorithm... 100%|██████████████████████████████████████████████████| Time: 0:00:00 ( 2.26 ms/it)\u001b[39m\u001b[K\n",
      "\u001b[32mRunning EM algorithm... 100%|██████████████████████████████████████████████████| Time: 0:00:00 ( 5.71 ms/it)\u001b[39m\u001b[K\n",
      "\u001b[32mRunning EM algorithm... 100%|██████████████████████████████████████████████████| Time: 0:00:00 ( 2.15 ms/it)\u001b[39m\u001b[K\n",
      "\u001b[32mRunning EM algorithm... 100%|██████████████████████████████████████████████████| Time: 0:00:00 ( 1.99 ms/it)\u001b[39m\u001b[K\n",
      "\u001b[32mRunning EM algorithm... 100%|██████████████████████████████████████████████████| Time: 0:00:00 ( 2.38 ms/it)\u001b[39m\u001b[K\n",
      "\u001b[32mRunning EM algorithm... 100%|██████████████████████████████████████████████████| Time: 0:00:00 ( 2.33 ms/it)\u001b[39m\u001b[K\n",
      "\u001b[32mRunning EM algorithm... 100%|██████████████████████████████████████████████████| Time: 0:00:00 ( 2.58 ms/it)\u001b[39m\u001b[K\n",
      "\u001b[32mRunning EM algorithm... 100%|██████████████████████████████████████████████████| Time: 0:00:00 ( 2.17 ms/it)\u001b[39m\u001b[K\n",
      "\u001b[32mRunning EM algorithm... 100%|██████████████████████████████████████████████████| Time: 0:00:00 ( 2.39 ms/it)\u001b[39m\u001b[K\n"
     ]
    },
    {
     "data": {
      "text/plain": [
       "(time = 2.2853215e8, memory = 73635184, allocs = 176735, success = true)"
      ]
     },
     "metadata": {},
     "output_type": "display_data"
    }
   ],
   "source": [
    "rng = StableRNG(50)\n",
    "\n",
    "# Test the instance struct\n",
    "I1 = HMMInstance(num_states=2, num_trials=5, seq_length=100, input_dim=2, output_dim=1)\n",
    "\n",
    "# Test the params struct\n",
    "P1 = init_params(rng, I1)\n",
    "\n",
    "# Test building the models\n",
    "M1 = build_model(SSD_GLMHMM_Implem(), I1, P1)\n",
    "\n",
    "# Test building the data\n",
    "labels, X, Y, obs_seq, control_seq, seq_ends = build_data(rng, M1, I1)\n",
    "\n",
    "# Run a benchmark\n",
    "B1 = run_benchmark(SSD_GLMHMM_Implem(), M1, X, Y)"
   ]
  },
  {
   "cell_type": "code",
   "execution_count": 3,
   "id": "dc8b912a",
   "metadata": {},
   "outputs": [
    {
     "data": {
      "text/plain": [
       "(time = 1.4574335e8, memory = 135069216, allocs = 182891, success = true)"
      ]
     },
     "metadata": {},
     "output_type": "display_data"
    }
   ],
   "source": [
    "# Test building a HiddenMarkovModels.jl implementation\n",
    "M2 = build_model(HMM_GLMHMM_Implem(), I1, P1)\n",
    "\n",
    "B2 = run_benchmark(HMM_GLMHMM_Implem(), M2, X, Y)"
   ]
  },
  {
   "cell_type": "code",
   "execution_count": 4,
   "id": "0e209ddd",
   "metadata": {},
   "outputs": [
    {
     "data": {
      "text/plain": [
       "(time = 6.310759e8, memory = 808, allocs = 21, success = true)"
      ]
     },
     "metadata": {},
     "output_type": "display_data"
    }
   ],
   "source": [
    "# Test building the dynamax model\n",
    "M3, dparams, dprops = build_model(DYNAMAX_GLMHMM_Implem(), I1, P1)\n",
    "\n",
    "B3 = run_benchmark(DYNAMAX_GLMHMM_Implem(), M3, dparams, dprops, X, Y)"
   ]
  }
 ],
 "metadata": {
  "kernelspec": {
   "display_name": "Julia 1.10.4",
   "language": "julia",
   "name": "julia-1.10"
  },
  "language_info": {
   "file_extension": ".jl",
   "mimetype": "application/julia",
   "name": "julia",
   "version": "1.10.4"
  }
 },
 "nbformat": 4,
 "nbformat_minor": 5
}
