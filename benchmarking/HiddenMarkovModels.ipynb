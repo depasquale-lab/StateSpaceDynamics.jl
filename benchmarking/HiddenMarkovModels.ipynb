{
 "cells": [
  {
   "cell_type": "code",
   "execution_count": null,
   "id": "31a7855f",
   "metadata": {},
   "outputs": [],
   "source": [
    "# Activate the benchmarking environment\n",
    "using Pkg\n",
    "Pkg.activate(\".\")\n",
    "\n",
    "# Import the necessary packages\n",
    "include(\"SSD_Benchmark.jl\")\n",
    "using .SSD_Benchmark\n",
    "using StableRNGs\n",
    "using StateSpaceDynamics\n",
    "import HiddenMarkovModels as HMMs"
   ]
  },
  {
   "cell_type": "code",
   "execution_count": null,
   "id": "6c94b4ab",
   "metadata": {},
   "outputs": [
    {
     "name": "stdout",
     "output_type": "stream",
     "text": [
      "\n",
      "→ Benchmarking GLMHMM with latent_dim=2, obs_dim=1, seq_len=100\n",
      "  Running SSD_GLMHMM_Implem()... ✓ time = 0.074 sec\n",
      "  Running HMM_GLMHMM_Implem()... ✓ time = 0.094 sec\n",
      "  Running DYNAMAX_GLMHMM_Implem()... ✓ time = 0.337 sec\n",
      "--------------------------------------------------\n",
      "\n",
      "→ Benchmarking GLMHMM with latent_dim=2, obs_dim=1, seq_len=200\n",
      "  Running SSD_GLMHMM_Implem()... ✓ time = 0.058 sec\n",
      "  Running HMM_GLMHMM_Implem()... ✓ time = 0.079 sec\n",
      "  Running DYNAMAX_GLMHMM_Implem()... ✓ time = 0.343 sec\n",
      "--------------------------------------------------\n",
      "\n",
      "→ Benchmarking GLMHMM with latent_dim=4, obs_dim=1, seq_len=100\n",
      "  Running SSD_GLMHMM_Implem()... ✓ time = 0.060 sec\n",
      "  Running HMM_GLMHMM_Implem()... ✓ time = 0.085 sec\n",
      "  Running DYNAMAX_GLMHMM_Implem()... ✓ time = 0.346 sec\n",
      "--------------------------------------------------\n",
      "\n",
      "→ Benchmarking GLMHMM with latent_dim=4, obs_dim=1, seq_len=200\n",
      "  Running SSD_GLMHMM_Implem()... ✓ time = 0.134 sec\n",
      "  Running HMM_GLMHMM_Implem()... ✓ time = 0.238 sec\n",
      "  Running DYNAMAX_GLMHMM_Implem()... ✓ time = 0.342 sec\n",
      "--------------------------------------------------\n"
     ]
    }
   ],
   "source": [
    "using StableRNGs\n",
    "using Printf\n",
    "\n",
    "# Benchmark configuration\n",
    "latent_dims = [2, 4]\n",
    "obs_dims = [1]\n",
    "seq_lengths = [100, 200]\n",
    "num_trials = 5  # can increase if you want\n",
    "\n",
    "# Implementations to benchmark\n",
    "implementations = [\n",
    "    SSD_GLMHMM_Implem(),\n",
    "    HMM_GLMHMM_Implem(),\n",
    "    DYNAMAX_GLMHMM_Implem()\n",
    "]\n",
    "\n",
    "all_results = []\n",
    "\n",
    "for latent_dim in latent_dims\n",
    "    for obs_dim in obs_dims\n",
    "        for seq_len in seq_lengths\n",
    "            println(\"\\n→ Benchmarking GLMHMM with latent_dim=$latent_dim, obs_dim=$obs_dim, seq_len=$seq_len\")\n",
    "\n",
    "            # Build instance and RNG\n",
    "            rng = StableRNG(1234)\n",
    "            instance = HMMInstance(\n",
    "                num_states=latent_dim,\n",
    "                num_trials=num_trials,\n",
    "                seq_length=seq_len,\n",
    "                input_dim=latent_dim,   # input_dim = latent_dim (adjust as you like)\n",
    "                output_dim=obs_dim\n",
    "            )\n",
    "\n",
    "            # Create the data for this benchmark instance\n",
    "            gen_instance = HMMInstance(num_states=2, num_trials=5, seq_length=100, input_dim=2, output_dim=1)\n",
    "            gen_params = init_params(rng, gen_instance)\n",
    "            gen_model = build_model(SSD_GLMHMM_Implem(), gen_instance, gen_params)\n",
    "            labels, X, Y, obs_seq, control_seq, seq_ends = build_data(rng, gen_model, gen_instance)\n",
    "\n",
    "            # Prepare results row\n",
    "            results_row = Dict{String, Any}()\n",
    "            results_row[\"config\"] = (latent_dim=latent_dim, obs_dim=obs_dim, seq_len=seq_len)\n",
    "\n",
    "            # Generate benchmarking init params\n",
    "            instance_bench = HMMInstance(num_states=2, num_trials=5, seq_length=100, input_dim=2, output_dim=1)\n",
    "            params_bench = init_params(rng, instance_bench)\n",
    "\n",
    "            # Loop over implementations and run benchmarks\n",
    "            for impl in implementations\n",
    "                print(\"  Running $(string(impl))... \")\n",
    "                try\n",
    "                    if impl isa DYNAMAX_GLMHMM_Implem\n",
    "                        model, dparams, dprops = build_model(impl, instance_bench, params_bench)\n",
    "                        result = run_benchmark(impl, model, dparams, dprops, X, Y)\n",
    "                    else\n",
    "                        model = build_model(impl, instance_bench, params_bench)\n",
    "                        result = run_benchmark(impl, model, X, Y)\n",
    "                    end\n",
    "                    results_row[string(impl)] = result\n",
    "                    if result.success\n",
    "                        @printf(\"✓ time = %.3f sec\\n\", result.time / 1e9)\n",
    "                    else\n",
    "                        println(\"✗ failed\")\n",
    "                    end\n",
    "                catch e\n",
    "                    results_row[string(impl)] = (time=NaN, memory=0, allocs=0, success=false)\n",
    "                    println(\"✗ exception: \", e)\n",
    "                end\n",
    "            end\n",
    "            push!(all_results, results_row)\n",
    "            println(\"-\"^50)\n",
    "        end\n",
    "    end\n",
    "end\n",
    "\n",
    "# write to CSV or show sumary\n",
    "using DataFrames\n",
    "using CSV\n",
    "df = DataFrame()\n",
    "for row in all_results\n",
    "    config = row[\"config\"]\n",
    "    for (name, result) in row\n",
    "        if name == \"config\"\n",
    "            continue\n",
    "        end\n",
    "        push!(df, (\n",
    "            implementation = name,\n",
    "            latent_dim = config.latent_dim,\n",
    "            obs_dim = config.obs_dim,\n",
    "            seq_len = config.seq_len,\n",
    "            time_sec = result[:time] / 1e9,\n",
    "            memory = result[:memory],\n",
    "            allocs = result[:allocs],\n",
    "            success = result[:success]\n",
    "        ))\n",
    "    end\n",
    "end\n",
    "\n",
    "\n",
    "CSV.write(\"glmhmm_benchmark_results.csv\", df)"
   ]
  },
  {
   "cell_type": "code",
   "execution_count": 2,
   "id": "496e1e14",
   "metadata": {},
   "outputs": [
    {
     "name": "stderr",
     "output_type": "stream",
     "text": [
      "\u001b[32mRunning EM algorithm... 100%|██████████████████████████████████████████████████| Time: 0:00:00 ( 6.45 ms/it)\u001b[39m\u001b[K\n",
      "\u001b[32mRunning EM algorithm... 100%|██████████████████████████████████████████████████| Time: 0:00:00 ( 1.86 ms/it)\u001b[39m\u001b[K\n",
      "\u001b[32mRunning EM algorithm... 100%|██████████████████████████████████████████████████| Time: 0:00:00 ( 3.14 ms/it)\u001b[39m\u001b[K\n",
      "\u001b[32mRunning EM algorithm... 100%|██████████████████████████████████████████████████| Time: 0:00:00 ( 2.22 ms/it)\u001b[39m\u001b[K\n",
      "\u001b[32mRunning EM algorithm... 100%|██████████████████████████████████████████████████| Time: 0:00:00 ( 2.34 ms/it)\u001b[39m\u001b[K\n",
      "\u001b[32mRunning EM algorithm... 100%|██████████████████████████████████████████████████| Time: 0:00:00 ( 2.35 ms/it)\u001b[39m\u001b[K\n",
      "\u001b[32mRunning EM algorithm... 100%|██████████████████████████████████████████████████| Time: 0:00:00 ( 3.32 ms/it)\u001b[39m\u001b[K\n",
      "\u001b[32mRunning EM algorithm... 100%|██████████████████████████████████████████████████| Time: 0:00:00 ( 2.00 ms/it)\u001b[39m\u001b[K\n",
      "\u001b[32mRunning EM algorithm... 100%|██████████████████████████████████████████████████| Time: 0:00:00 ( 2.30 ms/it)\u001b[39m\u001b[K\n",
      "\u001b[32mRunning EM algorithm... 100%|██████████████████████████████████████████████████| Time: 0:00:00 ( 2.18 ms/it)\u001b[39m\u001b[K\n",
      "\u001b[32mRunning EM algorithm... 100%|██████████████████████████████████████████████████| Time: 0:00:00 ( 2.55 ms/it)\u001b[39m\u001b[K\n",
      "\u001b[32mRunning EM algorithm... 100%|██████████████████████████████████████████████████| Time: 0:00:00 ( 2.28 ms/it)\u001b[39m\u001b[K\n",
      "\u001b[32mRunning EM algorithm... 100%|██████████████████████████████████████████████████| Time: 0:00:00 ( 2.66 ms/it)\u001b[39m\u001b[K\n",
      "\u001b[32mRunning EM algorithm... 100%|██████████████████████████████████████████████████| Time: 0:00:00 ( 2.16 ms/it)\u001b[39m\u001b[K\n",
      "\u001b[32mRunning EM algorithm... 100%|██████████████████████████████████████████████████| Time: 0:00:00 ( 2.50 ms/it)\u001b[39m\u001b[K\n",
      "\u001b[32mRunning EM algorithm... 100%|██████████████████████████████████████████████████| Time: 0:00:00 ( 2.15 ms/it)\u001b[39m\u001b[K\n",
      "\u001b[32mRunning EM algorithm... 100%|██████████████████████████████████████████████████| Time: 0:00:00 ( 2.38 ms/it)\u001b[39m\u001b[K\n",
      "\u001b[32mRunning EM algorithm... 100%|██████████████████████████████████████████████████| Time: 0:00:00 ( 2.18 ms/it)\u001b[39m\u001b[K\n",
      "\u001b[32mRunning EM algorithm... 100%|██████████████████████████████████████████████████| Time: 0:00:00 ( 2.31 ms/it)\u001b[39m\u001b[K\n",
      "\u001b[32mRunning EM algorithm... 100%|██████████████████████████████████████████████████| Time: 0:00:00 ( 2.26 ms/it)\u001b[39m\u001b[K\n",
      "\u001b[32mRunning EM algorithm... 100%|██████████████████████████████████████████████████| Time: 0:00:00 ( 2.24 ms/it)\u001b[39m\u001b[K\n",
      "\u001b[32mRunning EM algorithm... 100%|██████████████████████████████████████████████████| Time: 0:00:00 ( 2.48 ms/it)\u001b[39m\u001b[K\n",
      "\u001b[32mRunning EM algorithm... 100%|██████████████████████████████████████████████████| Time: 0:00:00 ( 1.90 ms/it)\u001b[39m\u001b[K\n",
      "\u001b[32mRunning EM algorithm... 100%|██████████████████████████████████████████████████| Time: 0:00:00 ( 2.14 ms/it)\u001b[39m\u001b[K\n",
      "\u001b[32mRunning EM algorithm... 100%|██████████████████████████████████████████████████| Time: 0:00:00 ( 2.35 ms/it)\u001b[39m\u001b[K\n",
      "\u001b[32mRunning EM algorithm... 100%|██████████████████████████████████████████████████| Time: 0:00:00 ( 2.30 ms/it)\u001b[39m\u001b[K\n",
      "\u001b[32mRunning EM algorithm... 100%|██████████████████████████████████████████████████| Time: 0:00:00 ( 2.23 ms/it)\u001b[39m\u001b[K\n",
      "\u001b[32mRunning EM algorithm... 100%|██████████████████████████████████████████████████| Time: 0:00:00 ( 2.20 ms/it)\u001b[39m\u001b[K\n",
      "\u001b[32mRunning EM algorithm... 100%|██████████████████████████████████████████████████| Time: 0:00:00 ( 2.31 ms/it)\u001b[39m\u001b[K\n",
      "\u001b[32mRunning EM algorithm... 100%|██████████████████████████████████████████████████| Time: 0:00:00 ( 2.26 ms/it)\u001b[39m\u001b[K\n",
      "\u001b[32mRunning EM algorithm... 100%|██████████████████████████████████████████████████| Time: 0:00:00 ( 2.53 ms/it)\u001b[39m\u001b[K\n",
      "\u001b[32mRunning EM algorithm... 100%|██████████████████████████████████████████████████| Time: 0:00:00 ( 2.25 ms/it)\u001b[39m\u001b[K\n",
      "\u001b[32mRunning EM algorithm... 100%|██████████████████████████████████████████████████| Time: 0:00:00 ( 2.26 ms/it)\u001b[39m\u001b[K\n",
      "\u001b[32mRunning EM algorithm... 100%|██████████████████████████████████████████████████| Time: 0:00:00 ( 2.26 ms/it)\u001b[39m\u001b[K\n",
      "\u001b[32mRunning EM algorithm... 100%|██████████████████████████████████████████████████| Time: 0:00:00 ( 5.71 ms/it)\u001b[39m\u001b[K\n",
      "\u001b[32mRunning EM algorithm... 100%|██████████████████████████████████████████████████| Time: 0:00:00 ( 2.15 ms/it)\u001b[39m\u001b[K\n",
      "\u001b[32mRunning EM algorithm... 100%|██████████████████████████████████████████████████| Time: 0:00:00 ( 1.99 ms/it)\u001b[39m\u001b[K\n",
      "\u001b[32mRunning EM algorithm... 100%|██████████████████████████████████████████████████| Time: 0:00:00 ( 2.38 ms/it)\u001b[39m\u001b[K\n",
      "\u001b[32mRunning EM algorithm... 100%|██████████████████████████████████████████████████| Time: 0:00:00 ( 2.33 ms/it)\u001b[39m\u001b[K\n",
      "\u001b[32mRunning EM algorithm... 100%|██████████████████████████████████████████████████| Time: 0:00:00 ( 2.58 ms/it)\u001b[39m\u001b[K\n",
      "\u001b[32mRunning EM algorithm... 100%|██████████████████████████████████████████████████| Time: 0:00:00 ( 2.17 ms/it)\u001b[39m\u001b[K\n",
      "\u001b[32mRunning EM algorithm... 100%|██████████████████████████████████████████████████| Time: 0:00:00 ( 2.39 ms/it)\u001b[39m\u001b[K\n"
     ]
    },
    {
     "data": {
      "text/plain": [
       "(time = 2.2853215e8, memory = 73635184, allocs = 176735, success = true)"
      ]
     },
     "metadata": {},
     "output_type": "display_data"
    }
   ],
   "source": [
    "rng = StableRNG(50)\n",
    "\n",
    "# Test the instance struct\n",
    "I1 = HMMInstance(num_states=2, num_trials=5, seq_length=100, input_dim=2, output_dim=1)\n",
    "\n",
    "# Test the params struct\n",
    "P1 = init_params(rng, I1)\n",
    "\n",
    "# Test building the models\n",
    "M1 = build_model(SSD_GLMHMM_Implem(), I1, P1)\n",
    "\n",
    "# Test building the data\n",
    "labels, X, Y, obs_seq, control_seq, seq_ends = build_data(rng, M1, I1)\n",
    "\n",
    "# Run a benchmark\n",
    "B1 = run_benchmark(SSD_GLMHMM_Implem(), M1, X, Y)"
   ]
  },
  {
   "cell_type": "code",
   "execution_count": 3,
   "id": "dc8b912a",
   "metadata": {},
   "outputs": [
    {
     "data": {
      "text/plain": [
       "(time = 1.4574335e8, memory = 135069216, allocs = 182891, success = true)"
      ]
     },
     "metadata": {},
     "output_type": "display_data"
    }
   ],
   "source": [
    "# Test building a HiddenMarkovModels.jl implementation\n",
    "M2 = build_model(HMM_GLMHMM_Implem(), I1, P1)\n",
    "\n",
    "B2 = run_benchmark(HMM_GLMHMM_Implem(), M2, X, Y)"
   ]
  },
  {
   "cell_type": "code",
   "execution_count": 4,
   "id": "0e209ddd",
   "metadata": {},
   "outputs": [
    {
     "data": {
      "text/plain": [
       "(time = 6.310759e8, memory = 808, allocs = 21, success = true)"
      ]
     },
     "metadata": {},
     "output_type": "display_data"
    }
   ],
   "source": [
    "# Test building the dynamax model\n",
    "M3, dparams, dprops = build_model(DYNAMAX_GLMHMM_Implem(), I1, P1)\n",
    "\n",
    "B3 = run_benchmark(DYNAMAX_GLMHMM_Implem(), M3, dparams, dprops, X, Y)"
   ]
  }
 ],
 "metadata": {
  "kernelspec": {
   "display_name": "Julia 1.10.4",
   "language": "julia",
   "name": "julia-1.10"
  },
  "language_info": {
   "file_extension": ".jl",
   "mimetype": "application/julia",
   "name": "julia",
   "version": "1.10.4"
  }
 },
 "nbformat": 4,
 "nbformat_minor": 5
}
