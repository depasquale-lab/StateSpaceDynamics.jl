{
 "cells": [
  {
   "cell_type": "code",
   "execution_count": 13,
   "id": "dbbeee16",
   "metadata": {},
   "outputs": [
    {
     "name": "stderr",
     "output_type": "stream",
     "text": [
      "\u001b[32m\u001b[1m  Activating\u001b[22m\u001b[39m project at `C:\\Users\\zlosc\\Documents\\GitHub\\StateSpaceDynamics.jl\\benchmarking`\n"
     ]
    },
    {
     "data": {
      "text/plain": [
       "StateSpaceDynamics"
      ]
     },
     "metadata": {},
     "output_type": "display_data"
    }
   ],
   "source": [
    "cd(\"C:\\\\Users\\\\zlosc\\\\Documents\\\\GitHub\\\\StateSpaceDynamics.jl\")\n",
    "\n",
    "using Pkg\n",
    "Pkg.activate(\"./benchmarking\")\n",
    "\n",
    "using StateSpaceDynamics\n",
    "using Profile\n",
    "using LinearAlgebra\n",
    "using Plots\n",
    "using Random\n",
    "\n",
    "const SSD = StateSpaceDynamics"
   ]
  },
  {
   "cell_type": "code",
   "execution_count": 34,
   "id": "14101dbc",
   "metadata": {},
   "outputs": [
    {
     "data": {
      "text/plain": [
       "2×2 Matrix{Float64}:\n",
       " 0.99  0.01\n",
       " 0.05  0.95"
      ]
     },
     "metadata": {},
     "output_type": "display_data"
    }
   ],
   "source": [
    "A"
   ]
  },
  {
   "cell_type": "code",
   "execution_count": 33,
   "id": "b3b09afe",
   "metadata": {},
   "outputs": [
    {
     "data": {
      "text/plain": [
       "2-element Vector{Float64}:\n",
       " 0.5\n",
       " 0.5"
      ]
     },
     "metadata": {},
     "output_type": "display_data"
    }
   ],
   "source": [
    "πₖ"
   ]
  },
  {
   "cell_type": "code",
   "execution_count": 41,
   "id": "636d8119",
   "metadata": {},
   "outputs": [
    {
     "data": {
      "text/plain": [
       "HiddenMarkovModel{Float64, Vector{Float64}, Matrix{Float64}, Vector{GaussianEmission{Float64, Vector{Float64}, Matrix{Float64}}}}([0.159870383823143 0.14360056136570054 … 0.29110824711432065 0.11569180675840415; 0.2345600336078144 0.06509953748637912 … 0.231496784439123 0.07660658178656968; … ; 0.18675945556754384 0.05870772970770826 … 0.27958337842246234 0.262396357806585; 0.18449948870143254 0.22760702880870895 … 0.2125642876421356 0.015322108204210094], GaussianEmission{Float64, Vector{Float64}, Matrix{Float64}}[GaussianEmission{Float64, Vector{Float64}, Matrix{Float64}}(1, [0.8125904375146918], [0.1;;]), GaussianEmission{Float64, Vector{Float64}, Matrix{Float64}}(1, [0.16338808967634988], [0.2;;]), GaussianEmission{Float64, Vector{Float64}, Matrix{Float64}}(1, [0.02385844350513089], [0.1;;]), GaussianEmission{Float64, Vector{Float64}, Matrix{Float64}}(1, [0.9556846947972149], [1.0;;]), GaussianEmission{Float64, Vector{Float64}, Matrix{Float64}}(1, [0.7010984613851785], [3.0;;]), GaussianEmission{Float64, Vector{Float64}, Matrix{Float64}}(1, [0.45118571808281416], [2.7;;])], [0.044568833107269876, 0.2720601287033461, 0.07764059487224537, 0.24166036945516706, 0.1112677243059748, 0.2528023495559968], 6)"
      ]
     },
     "metadata": {},
     "output_type": "display_data"
    }
   ],
   "source": [
    "\n",
    "# Define the output dimensionality of the HMM\n",
    "output_dim = 1\n",
    "\n",
    "# # Define the transition matrix and the initial state distribution\n",
    "# A = [0.99 0.01; 0.05 0.95];\n",
    "# πₖ = [0.5; 0.5]\n",
    "\n",
    "A = rand(6,6)\n",
    "A .= A ./ sum(A, dims=2)\n",
    "\n",
    "πₖ = rand(6)\n",
    "πₖ .= πₖ ./ sum(πₖ)\n",
    "\n",
    "\n",
    "# Initialize the emission models\n",
    "μ_1 = rand(output_dim)\n",
    "Σ_1 = 0.1 * Matrix{Float64}(I, output_dim, output_dim)\n",
    "emission_1 = GaussianEmission(output_dim=output_dim, μ=μ_1, Σ=Σ_1)\n",
    "\n",
    "μ_2 = rand(output_dim)\n",
    "Σ_2 = 0.2 * Matrix{Float64}(I, output_dim, output_dim)\n",
    "emission_2 = GaussianEmission(output_dim=output_dim, μ=μ_2, Σ=Σ_2)\n",
    "\n",
    "emission_3 = GaussianEmission(output_dim=output_dim, μ=rand(output_dim), Σ=0.1 * Matrix{Float64}(I, output_dim, output_dim))\n",
    "emission_4 = GaussianEmission(output_dim=output_dim, μ=rand(output_dim), Σ=1.0 * Matrix{Float64}(I, output_dim, output_dim))\n",
    "emission_5 = GaussianEmission(output_dim=output_dim, μ=rand(output_dim), Σ=3.0 * Matrix{Float64}(I, output_dim, output_dim))\n",
    "emission_6 = GaussianEmission(output_dim=output_dim, μ=rand(output_dim), Σ=2.7 * Matrix{Float64}(I, output_dim, output_dim))\n",
    "\n",
    "\n",
    "\n",
    "# The general HMM constructor is used as follows\n",
    "model = HiddenMarkovModel(K=6, B=[emission_1, emission_2, emission_3, emission_4, emission_5, emission_6], A=A, πₖ=πₖ)"
   ]
  },
  {
   "cell_type": "code",
   "execution_count": null,
   "id": "2e07fcaf",
   "metadata": {},
   "outputs": [
    {
     "data": {
      "text/plain": [
       "([5, 6, 1, 4, 2, 4, 2, 2, 1, 3  …  5, 6, 4, 6, 2, 4, 4, 5, 5, 4], [-0.7138424124395033 1.3537535292164744 … 0.3803284767245012 0.1517450095088424])"
      ]
     },
     "metadata": {},
     "output_type": "display_data"
    }
   ],
   "source": [
    "\n",
    "# Define number of samples to generate \n",
    "n=1000\n",
    "\n",
    "# Use the SSD sampling function and store the hidden states and emission data\n",
    "true_labels, data = rand(model, n=n)\n"
   ]
  },
  {
   "cell_type": "code",
   "execution_count": 48,
   "id": "d09510e6",
   "metadata": {},
   "outputs": [],
   "source": [
    "emission_1 = GaussianEmission(output_dim=output_dim, μ=rand(output_dim), Σ=0.001 * Matrix{Float64}(I, output_dim, output_dim))\n",
    "emission_2 = GaussianEmission(output_dim=output_dim, μ=rand(output_dim), Σ=5.23 * Matrix{Float64}(I, output_dim, output_dim))\n",
    "emission_3 = GaussianEmission(output_dim=output_dim, μ=rand(output_dim), Σ=9.1 * Matrix{Float64}(I, output_dim, output_dim))\n",
    "emission_4 = GaussianEmission(output_dim=output_dim, μ=rand(output_dim), Σ=0.88 * Matrix{Float64}(I, output_dim, output_dim))\n",
    "emission_5 = GaussianEmission(output_dim=output_dim, μ=rand(output_dim), Σ=2.1 * Matrix{Float64}(I, output_dim, output_dim))\n",
    "emission_6 = GaussianEmission(output_dim=output_dim, μ=rand(output_dim), Σ=3.1 * Matrix{Float64}(I, output_dim, output_dim))\n",
    "\n",
    "A = rand(6,6)\n",
    "A .= A ./ sum(A, dims=2)\n",
    "\n",
    "πₖ = rand(6)\n",
    "πₖ .= πₖ ./ sum(πₖ)\n",
    "\n",
    "test_model = HiddenMarkovModel(K=6, B=[emission_1, emission_2, emission_3, emission_4, emission_5, emission_6], A=A, πₖ=πₖ)\n",
    "\n",
    "# Fit the HMM to the data using the SSD fit!() function\n",
    "@profview lls = fit!(test_model, data, max_iters=100, tol=1e-100)\n",
    "\n",
    "# # Show that we can properly recover the true parameters\n",
    "# println(\"Recovered Emission 1?: \", isapprox(test_model.B[1].μ, model.B[1].μ, atol=0.1) || isapprox(test_model.B[1].μ, model.B[2].μ, atol=0.1))\n",
    "# println(\"Recovered Emission 2?: \",isapprox(test_model.B[2].μ, model.B[2].μ, atol=0.1) || isapprox(test_model.B[2].μ, model.B[1].μ, atol=0.1))\n",
    "\n",
    "# plot(lls)\n",
    "# title!(\"Log-likelihood over EM Iterations\")\n",
    "# xlabel!(\"EM Iteration\")\n",
    "# ylabel!(\"Log-Likelihood\")"
   ]
  }
 ],
 "metadata": {
  "kernelspec": {
   "display_name": "Julia 1.10.9",
   "language": "julia",
   "name": "julia-1.10"
  },
  "language_info": {
   "file_extension": ".jl",
   "mimetype": "application/julia",
   "name": "julia",
   "version": "1.10.9"
  }
 },
 "nbformat": 4,
 "nbformat_minor": 5
}
