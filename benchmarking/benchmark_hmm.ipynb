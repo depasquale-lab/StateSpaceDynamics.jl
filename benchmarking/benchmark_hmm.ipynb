{
 "cells": [
  {
   "cell_type": "code",
   "execution_count": 1,
   "metadata": {},
   "outputs": [
    {
     "name": "stderr",
     "output_type": "stream",
     "text": [
      "\u001b[32m\u001b[1m  Activating\u001b[22m\u001b[39m project at `C:\\Users\\zachl\\OneDrive\\Documents\\GitHub\\StateSpaceDynamics.jl\\benchmarking`\n"
     ]
    }
   ],
   "source": [
    "using Pkg\n",
    "Pkg.activate(\"C:\\\\Users\\\\zachl\\\\OneDrive\\\\Documents\\\\GitHub\\\\StateSpaceDynamics.jl\\\\benchmarking\")\n",
    "Pkg.instantiate()"
   ]
  },
  {
   "cell_type": "code",
   "execution_count": 1,
   "metadata": {},
   "outputs": [],
   "source": [
    "using BenchmarkTools\n",
    "using Random\n",
    "using Statistics\n",
    "# using PythonCall\n",
    "using DataFrames\n",
    "using Printf\n",
    "using LinearAlgebra\n",
    "using CSV\n",
    "using Distributions\n",
    "using HiddenMarkovModels\n",
    "using StateSpaceDynamics"
   ]
  },
  {
   "cell_type": "code",
   "execution_count": 3,
   "metadata": {},
   "outputs": [
    {
     "ename": "UndefVarError",
     "evalue": "UndefVarError: `generate_random_hmm` not defined",
     "output_type": "error",
     "traceback": [
      "UndefVarError: `generate_random_hmm` not defined\n",
      "\n",
      "Stacktrace:\n",
      " [1] top-level scope\n",
      "   @ c:\\Users\\zachl\\OneDrive\\Documents\\GitHub\\StateSpaceDynamics.jl\\benchmarking\\jl_notebook_cell_df34fa98e69747e1a8f8a730347b8e2f_W2sZmlsZQ==.jl:2"
     ]
    }
   ],
   "source": [
    "# Create true model\n",
    "true_model, hmmjl = generate_random_hmm(2, 2)\n",
    "\n",
    "# Generate test data\n",
    "true_model, true_labels, data = generate_test_data(true_model, 1000)"
   ]
  },
  {
   "cell_type": "code",
   "execution_count": 250,
   "metadata": {},
   "outputs": [
    {
     "name": "stdout",
     "output_type": "stream",
     "text": [
      "GaussianEmission(2, [-0.08154554544971672, 0.7737722708677196], [3.54308849520104 1.5433570866323696; 1.5433570866323696 2.00352302061728])\n",
      "GaussianEmission(2, [-0.35389974086822495, -1.0362061789816457], [6.333621577291121 -1.7799757090298411; -1.7799757090298411 5.373991524626046])\n",
      "[0.9209880708086438 0.07901192919135626; 0.2682645423197521 0.731735457680248]\n"
     ]
    }
   ],
   "source": [
    "println(true_model.B[1])\n",
    "println(true_model.B[2])\n",
    "println(true_model.A)"
   ]
  },
  {
   "cell_type": "code",
   "execution_count": 6,
   "metadata": {},
   "outputs": [],
   "source": [
    "using StateSpaceDynamics"
   ]
  },
  {
   "cell_type": "code",
   "execution_count": 11,
   "metadata": {},
   "outputs": [
    {
     "ename": "UndefVarError",
     "evalue": "UndefVarError: `data` not defined",
     "output_type": "error",
     "traceback": [
      "UndefVarError: `data` not defined\n",
      "\n",
      "Stacktrace:\n",
      " [1] top-level scope\n",
      "   @ c:\\Users\\zachl\\OneDrive\\Documents\\GitHub\\StateSpaceDynamics.jl\\benchmarking\\jl_notebook_cell_df34fa98e69747e1a8f8a730347b8e2f_W5sZmlsZQ==.jl:18"
     ]
    }
   ],
   "source": [
    "# Practice fitting hidden markov models .jl so i know how to write the Benchmarking\n",
    "init = [0.6, 0.4]\n",
    "trans = [0.7 0.3; 0.2 0.8]\n",
    "dists = [MvNormal([-0.5, -0.8], I), MvNormal([0.5, 0.8], I)]\n",
    "hmm = HMM(init, trans, dists)\n",
    "\n",
    "T = 10000\n",
    "state_seq, obs_seq = rand(hmm, T);\n",
    "\n",
    "A = rand()\n",
    "Σ = Matrix(A.*I(2))\n",
    "\n",
    "init_guess = [0.5, 0.5]\n",
    "trans_guess = [0.6 0.4; 0.3 0.7]\n",
    "dists_guess = [MvNormal([-0.4, -0.7], Σ), MvNormal([0.4, 0.7], Σ)]\n",
    "hmm_guess = HMM(init_guess, trans_guess, dists_guess);\n",
    "\n",
    "vectorized_data = [data[:, i] for i in 1:size(data, 2)]\n",
    "hmm_est, loglikelihood_evolution = baum_welch(hmm_guess, vectorized_data, atol=1e-10, max_iterations=100);"
   ]
  },
  {
   "cell_type": "code",
   "execution_count": 238,
   "metadata": {},
   "outputs": [
    {
     "data": {
      "text/plain": [
       "Hidden Markov Model with:\n",
       " - initialization: [0.5, 0.5]\n",
       " - transition matrix: [0.6 0.4; 0.3 0.7]\n",
       " - observation distributions: [IsoNormal(\n",
       "dim: 2\n",
       "μ: [-0.4, -0.7]\n",
       "Σ: [0.8 0.0; 0.0 0.8]\n",
       ")\n",
       ", FullNormal(\n",
       "dim: 2\n",
       "μ: [0.4, 0.7]\n",
       "Σ: [0.1 0.2; 0.2 1.0]\n",
       ")\n",
       "]"
      ]
     },
     "metadata": {},
     "output_type": "display_data"
    }
   ],
   "source": [
    "hmm_guess"
   ]
  },
  {
   "cell_type": "code",
   "execution_count": 2,
   "metadata": {},
   "outputs": [],
   "source": [
    "using StateSpaceDynamics\n",
    "# using Distributions\n",
    "using LinearAlgebra"
   ]
  },
  {
   "cell_type": "code",
   "execution_count": 3,
   "metadata": {},
   "outputs": [
    {
     "data": {
      "text/plain": [
       "HiddenMarkovModel([0.19616886057506838 0.8038311394249317; 0.5853816187992231 0.4146183812007768], EmissionModel[GaussianEmission(2, [0.0, 0.0], [1.0 0.0; 0.0 1.0]), GaussianEmission(2, [0.0, 0.0], [1.0 0.0; 0.0 1.0])], [0.23734426101889405, 0.7626557389811058], 2)"
      ]
     },
     "metadata": {},
     "output_type": "display_data"
    }
   ],
   "source": [
    "# Create Guassian Emission Models\n",
    "output_dim = 2\n",
    "μ = [-0.4, -0.7]\n",
    "Σ = 1 * Matrix{Float64}(I, output_dim, output_dim)\n",
    "emission_1 = GaussianEmission(output_dim, μ, Σ)\n",
    "\n",
    "μ = [0.4, 0.7]\n",
    "Σ = 1 * Matrix{Float64}(I, output_dim, output_dim)\n",
    "emission_2 = GaussianEmission(output_dim, μ, Σ)\n",
    "\n",
    "# Create GaussianHMM\n",
    "test_model = StateSpaceDynamics.GaussianHMM(K=2, output_dim=2)\n",
    "test_model.B[1] = emission_1\n",
    "test_model.B[2] = emission_2\n",
    "\n",
    "# Fit a gaussian hmm to the data\n",
    "test_model = StateSpaceDynamics.GaussianHMM(K=2, output_dim=2)\n",
    "# ll = StateSpaceDynamics.fit!(test_model, data, max_iters=100)"
   ]
  },
  {
   "cell_type": "code",
   "execution_count": 181,
   "metadata": {},
   "outputs": [
    {
     "name": "stdout",
     "output_type": "stream",
     "text": [
      "True A: [0.9860801028269849 0.01391989717301509; 0.3821770814044893 0.6178229185955108]\n",
      "Our A: [0.8567766358605983 0.14322336413940706; 0.7376890394366028 0.2623109605633596]\n",
      "HMMjl A: [0.46959980947035035 0.5304001905296496; 0.42600605952853393 0.5739939404714662]\n",
      "\n",
      "True B1: GaussianEmission(2, [0.009552118837806297, -0.4360932926646945], [2.815031376770079 -0.5029464781416295; -0.5029464781416295 0.3840947405591081])\n",
      "Our B1: GaussianEmission(2, [0.09633762011893998, -0.474131717682502], [3.0178950303320105 -0.5225241442338352; -0.5225241442338352 0.33328699344802504])\n",
      "HMMjl B1: IsoNormal(\n",
      "dim: 2\n",
      "μ: [-1.2897983794670145, -0.20502239360039295]\n",
      "Σ: [0.7383945937979036 0.0; 0.0 0.7383945937979036]\n",
      ")\n",
      "\n",
      "\n",
      "True B2: GaussianEmission(2, [1.61419748504034, 0.23338149213477438], [0.4803417151149 -0.5726288216791778; -0.5726288216791778 1.4628299994812846])\n",
      "Our B2: GaussianEmission(2, [0.3099790297627449, -0.2714169785523996], [1.8419560046639865 -0.12100509266521373; -0.12100509266521373 0.8931288973616683])\n",
      "HMMjl B2: IsoNormal(\n",
      "dim: 2\n",
      "μ: [1.2753859820609208, -0.6309480261979066]\n",
      "Σ: [0.8420164920603018 0.0; 0.0 0.8420164920603018]\n",
      ")\n",
      "\n"
     ]
    }
   ],
   "source": [
    "println(\"True A: \", true_model.A)\n",
    "println(\"Our A: \", test_model.A)\n",
    "println(\"HMMjl A: \", hmm_est.trans)\n",
    "println()\n",
    "\n",
    "println(\"True B1: \", true_model.B[1])\n",
    "println(\"Our B1: \", test_model.B[1])\n",
    "println(\"HMMjl B1: \", hmm_est.dists[1])\n",
    "println()\n",
    "\n",
    "println(\"True B2: \", true_model.B[2])\n",
    "println(\"Our B2: \",test_model.B[2])\n",
    "println(\"HMMjl B2: \", hmm_est.dists[2])\n"
   ]
  },
  {
   "cell_type": "code",
   "execution_count": 362,
   "metadata": {},
   "outputs": [
    {
     "data": {
      "text/plain": [
       "DiagNormal\u001b[90m (alias for \u001b[39m\u001b[90mMvNormal{Float64, PDMats.PDiagMat{Float64, Array{Float64, 1}}, Array{Float64, 1}}\u001b[39m\u001b[90m)\u001b[39m"
      ]
     },
     "metadata": {},
     "output_type": "display_data"
    }
   ],
   "source": [
    "dists_guess_orig = [MvNormal([-0.4, -0.7], Σ), MvNormal([0.4, 0.7], Σ)]\n",
    "typeof(dists_guess_orig[1])"
   ]
  },
  {
   "cell_type": "code",
   "execution_count": 2,
   "metadata": {},
   "outputs": [
    {
     "data": {
      "text/plain": [
       "benchmark_fitting (generic function with 2 methods)"
      ]
     },
     "metadata": {},
     "output_type": "display_data"
    }
   ],
   "source": [
    "struct BenchConfig\n",
    "    latent_dims::Vector{Int}\n",
    "    obs_dims::Vector{Int} \n",
    "    seq_lengths::Vector{Int}\n",
    "    n_iters::Int\n",
    "    n_repeats::Int\n",
    "end\n",
    "\n",
    "default_config = BenchConfig(\n",
    "    [2, 4, 8, 16],       # latent dimensions\n",
    "    [4, 8, 16, 32],      # observation dimensions\n",
    "    [100, 500, 1000],    # sequence lengths\n",
    "    100,                 # EM iterations\n",
    "    5                    # benchmark repeats\n",
    ")\n",
    "\n",
    "function initialize_transition_matrix(K::Int)\n",
    "    # Initialize a transition matrix with zeros\n",
    "    A = zeros(Float64, K, K)\n",
    "    \n",
    "    for i in 1:K\n",
    "        # Sample from a Dirichlet distribution\n",
    "        A[i, :] = rand(Dirichlet(ones(K)))\n",
    "    end\n",
    "\n",
    "    A .+= 0.5.*I(K)\n",
    "    A .= A ./ sum(A, dims=2)\n",
    "    return A\n",
    "end\n",
    "\n",
    "\n",
    "function initialize_state_distribution(K::Int)\n",
    "    # initialize a state distribution\n",
    "    return rand(Dirichlet(ones(K)))\n",
    "end\n",
    "\n",
    "\n",
    "function generate_random_hmm(latent_dim::Int, obs_dim::Int)\n",
    "    # Create Gaussian Emission Models with random means and covariances\n",
    "    emissions = Vector{GaussianEmission}(undef, latent_dim)\n",
    "    dists_guess = Vector{MvNormal}(undef, latent_dim)  # Change to MvNormal\n",
    "\n",
    "    for i in 1:latent_dim\n",
    "        μ = randn(obs_dim)\n",
    "        A = rand()\n",
    "        Σ = I(obs_dim) # Diagonal covariance matrix, abs to ensure posdef\n",
    "        emissions[i] = GaussianEmission(obs_dim, μ, Matrix(Σ))\n",
    "        dists_guess[i] = MvNormal(μ, Matrix(Σ))  # Assign MvNormal with full covariance\n",
    "    end\n",
    "\n",
    "    # Create GaussianHMM\n",
    "    true_model = StateSpaceDynamics.GaussianHMM(K=latent_dim, output_dim=obs_dim)\n",
    "    \n",
    "    for i in 1:latent_dim\n",
    "        true_model.B[i] = emissions[i]\n",
    "    end\n",
    "    \n",
    "    true_model.A = initialize_transition_matrix(latent_dim)\n",
    "    true_model.πₖ = initialize_state_distribution(latent_dim)\n",
    "    init_guess = true_model.πₖ\n",
    "    trans_guess = true_model.A\n",
    "\n",
    "\n",
    "    hmm_guess = HMM(init_guess, trans_guess, dists_guess);\n",
    "\n",
    "    return true_model, hmm_guess\n",
    "end\n",
    "\n",
    "\n",
    "function generate_test_data(model, seq_len::Int)\n",
    "    # Sample from the model\n",
    "    labels, data = StateSpaceDynamics.sample(model, n=seq_len)\n",
    "\n",
    "    return model, labels, data\n",
    "end\n",
    "\n",
    "\n",
    "function run_single_benchmark(model_type::Symbol, hmm_ssd, y, params=nothing; config=default_config)\n",
    "    if model_type == :julia\n",
    "        bench = @benchmark begin\n",
    "            model = deepcopy($hmm_ssd)  # Create a fresh copy for each iteration\n",
    "            StateSpaceDynamics.fit!(model, $y, max_iters=$config.n_iters, tol=1e-6)\n",
    "        end samples=config.n_repeats\n",
    "        return (time=minimum(bench).time, memory=bench.memory, allocs=bench.allocs, success=true)\n",
    "    elseif model_type == :hmmjl\n",
    "        bench = @benchmark begin\n",
    "            model = deepcopy($hmm_ssd)\n",
    "            baum_welch(model, $y, atol=1e-6, max_iterations=$config.n_iters, loglikelihood_increasing=false)\n",
    "        end samples=config.n_repeats\n",
    "        return (time=minimum(bench).time, memory=bench.memory, allocs=bench.allocs, success=true)\n",
    "    end\n",
    "end\n",
    "\n",
    "function benchmark_fitting(config::BenchConfig = default_config)\n",
    "    results = []\n",
    "\n",
    "    for latent_dim in config.latent_dims\n",
    "        for obs_dim in config.obs_dims\n",
    "            obs_dim < latent_dim && continue\n",
    "\n",
    "            for seq_len in config.seq_lengths\n",
    "                println(\"\\nTesting configuration: latent_dim=$latent_dim, obs_dim=$obs_dim, seq_len=$seq_len\")\n",
    "\n",
    "                # Create true model\n",
    "                true_model, _ = generate_random_hmm(latent_dim, obs_dim)\n",
    "                \n",
    "                # Generate test data\n",
    "                true_model, true_labels, data = generate_test_data(true_model, seq_len)\n",
    "                vectorized_data = [data[:, i] for i in 1:size(data, 2)]  # Vectorize for HMMjl\n",
    "\n",
    "                # Generate random HMMs for fitting\n",
    "                test_model, HMMjl = generate_random_hmm(latent_dim, obs_dim)\n",
    "\n",
    "                # Run benchmarks separately with error handling\n",
    "                julia_result = try\n",
    "                    run_single_benchmark(:julia, test_model, data)\n",
    "                catch err\n",
    "                    println(\"Error in SSD.jl benchmarking: \", err)\n",
    "                    (time=\"FAIL\", memory=\"FAIL\", allocs=\"FAIL\", success=false)\n",
    "                end\n",
    "\n",
    "                HMMjl_result = try\n",
    "                    run_single_benchmark(:hmmjl, HMMjl, vectorized_data)\n",
    "                catch err\n",
    "                    println(\"Error in HMM.jl benchmarking: \", err)\n",
    "                    (time=\"FAIL\", memory=\"FAIL\", allocs=\"FAIL\", success=false)\n",
    "                end\n",
    "\n",
    "                # Save results\n",
    "                push!(results, Dict(\n",
    "                    \"config\" => (latent_dim=latent_dim, obs_dim=obs_dim, seq_len=seq_len),\n",
    "                    \"SSD.jl\" => julia_result,\n",
    "                    \"HMM.jl\" => HMMjl_result\n",
    "                ))\n",
    "            end\n",
    "        end\n",
    "    end\n",
    "\n",
    "    return results\n",
    "end"
   ]
  },
  {
   "cell_type": "code",
   "execution_count": 6,
   "metadata": {},
   "outputs": [
    {
     "data": {
      "text/plain": [
       "HiddenMarkovModel([1.0;;], EmissionModel[GaussianEmission(2, [0.9805306695039356, -0.7356050416988161], Bool[1 0; 0 1])], [0.9999999999999999], 1)"
      ]
     },
     "metadata": {},
     "output_type": "display_data"
    }
   ],
   "source": [
    "generate_random_hmm(1, 2)[1]"
   ]
  },
  {
   "cell_type": "code",
   "execution_count": null,
   "metadata": {},
   "outputs": [],
   "source": [
    "results = benchmark_fitting()"
   ]
  },
  {
   "cell_type": "code",
   "execution_count": 4,
   "metadata": {},
   "outputs": [
    {
     "data": {
      "text/plain": [
       "\"benchmark_results.csv\""
      ]
     },
     "metadata": {},
     "output_type": "display_data"
    }
   ],
   "source": [
    "using CSV\n",
    "using DataFrames\n",
    "\n",
    "function prepare_results_for_csv(results)\n",
    "    rows = []\n",
    "    for result in results\n",
    "        config = result[\"config\"]\n",
    "        ssd = result[\"SSD.jl\"]\n",
    "        hmmjl = result[\"HMM.jl\"]\n",
    "\n",
    "        # Add a row for SSD.jl\n",
    "        push!(rows, (\n",
    "            latent_dim=config.latent_dim,\n",
    "            obs_dim=config.obs_dim,\n",
    "            seq_len=config.seq_len,\n",
    "            library=\"SSD.jl\",\n",
    "            time=ssd.time,\n",
    "            memory=ssd.memory,\n",
    "            allocs=ssd.allocs,\n",
    "            success=ssd.success,\n",
    "        ))\n",
    "\n",
    "        # Add a row for HMM.jl\n",
    "        push!(rows, (\n",
    "            latent_dim=config.latent_dim,\n",
    "            obs_dim=config.obs_dim,\n",
    "            seq_len=config.seq_len,\n",
    "            library=\"HMM.jl\",\n",
    "            time=hmmjl.time,\n",
    "            memory=hmmjl.memory,\n",
    "            allocs=hmmjl.allocs,\n",
    "            success=hmmjl.success,\n",
    "        ))\n",
    "    end\n",
    "    return DataFrame(rows)\n",
    "end\n",
    "\n",
    "results_df = prepare_results_for_csv(results)\n",
    "CSV.write(\"benchmark_results.csv\", results_df)\n"
   ]
  },
  {
   "cell_type": "code",
   "execution_count": 17,
   "metadata": {},
   "outputs": [],
   "source": [
    "# Create true model\n",
    "latent_dim=2\n",
    "obs_dim=8\n",
    "seq_len=500\n",
    "\n",
    "true_model, _ = generate_random_hmm(latent_dim, obs_dim)\n",
    "                \n",
    "# Generate test data\n",
    "true_model, true_labels, data = generate_test_data(true_model, seq_len)\n",
    "vectorized_data = [data[:, i] for i in 1:size(data, 2)]  # Vectorize for HMMjl\n",
    "\n",
    "# Generate random HMMs for fitting\n",
    "test_model, HMMjl = generate_random_hmm(latent_dim, obs_dim)\n",
    "\n",
    "# Test the HMM.jl package try to find error with cholensky\n",
    "hmm_est, loglikelihood_evolution = baum_welch(HMMjl, vectorized_data, atol=1e-10, max_iterations=1000);"
   ]
  }
 ],
 "metadata": {
  "kernelspec": {
   "display_name": "Julia 1.10.4",
   "language": "julia",
   "name": "julia-1.10"
  },
  "language_info": {
   "file_extension": ".jl",
   "mimetype": "application/julia",
   "name": "julia",
   "version": "1.10.4"
  }
 },
 "nbformat": 4,
 "nbformat_minor": 2
}
