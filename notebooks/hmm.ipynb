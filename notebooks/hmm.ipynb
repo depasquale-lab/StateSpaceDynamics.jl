{
 "cells": [
  {
   "cell_type": "code",
   "execution_count": 1,
   "metadata": {},
   "outputs": [
    {
     "data": {
      "text/plain": [
       "StateSpaceDynamics"
      ]
     },
     "metadata": {},
     "output_type": "display_data"
    }
   ],
   "source": [
    "using Pkg\n",
    "using LinearAlgebra\n",
    "using Plots\n",
    "using Distributions\n",
    "using Random\n",
    "using StateSpaceDynamics\n",
    "using StatsBase\n",
    "\n",
    "const SSD = StateSpaceDynamics"
   ]
  },
  {
   "cell_type": "code",
   "execution_count": 5,
   "metadata": {},
   "outputs": [
    {
     "ename": "MethodError",
     "evalue": "MethodError: no method matching emission_sample(::GaussianEmission; observation_sequence::Matrix{Float64})\n\nClosest candidates are:\n  emission_sample(::GaussianEmission; n) got unsupported keyword argument \"observation_sequence\"\n   @ StateSpaceDynamics c:\\Users\\zachl\\OneDrive\\Documents\\GitHub\\StateSpaceDynamics.jl\\src\\EmissionModels.jl:105\n  emission_sample(!Matched::StateSpaceDynamics.CompositeModelEmission, !Matched::Vector; observation_sequence)\n   @ StateSpaceDynamics c:\\Users\\zachl\\OneDrive\\Documents\\GitHub\\StateSpaceDynamics.jl\\src\\EmissionModels.jl:854\n  emission_sample(!Matched::AutoRegressionEmission, !Matched::Matrix{<:Real}; observation_sequence)\n   @ StateSpaceDynamics c:\\Users\\zachl\\OneDrive\\Documents\\GitHub\\StateSpaceDynamics.jl\\src\\EmissionModels.jl:702\n  ...\n",
     "output_type": "error",
     "traceback": [
      "MethodError: no method matching emission_sample(::GaussianEmission; observation_sequence::Matrix{Float64})\n",
      "\n",
      "Closest candidates are:\n",
      "  emission_sample(::GaussianEmission; n) got unsupported keyword argument \"observation_sequence\"\n",
      "   @ StateSpaceDynamics c:\\Users\\zachl\\OneDrive\\Documents\\GitHub\\StateSpaceDynamics.jl\\src\\EmissionModels.jl:105\n",
      "  emission_sample(!Matched::StateSpaceDynamics.CompositeModelEmission, !Matched::Vector; observation_sequence)\n",
      "   @ StateSpaceDynamics c:\\Users\\zachl\\OneDrive\\Documents\\GitHub\\StateSpaceDynamics.jl\\src\\EmissionModels.jl:854\n",
      "  emission_sample(!Matched::AutoRegressionEmission, !Matched::Matrix{<:Real}; observation_sequence)\n",
      "   @ StateSpaceDynamics c:\\Users\\zachl\\OneDrive\\Documents\\GitHub\\StateSpaceDynamics.jl\\src\\EmissionModels.jl:702\n",
      "  ...\n",
      "\n",
      "\n",
      "Stacktrace:\n",
      " [1] kwerr(::@NamedTuple{observation_sequence::Matrix{Float64}}, ::Function, ::GaussianEmission)\n",
      "   @ Base .\\error.jl:165\n",
      " [2] sample(::HiddenMarkovModel; n::Int64)\n",
      "   @ StateSpaceDynamics c:\\Users\\zachl\\OneDrive\\Documents\\GitHub\\StateSpaceDynamics.jl\\src\\HiddenMarkovModels.jl:156\n",
      " [3] top-level scope\n",
      "   @ c:\\Users\\zachl\\OneDrive\\Documents\\GitHub\\StateSpaceDynamics.jl\\notebooks\\jl_notebook_cell_df34fa98e69747e1a8f8a730347b8e2f_X20sZmlsZQ==.jl:2"
     ]
    }
   ],
   "source": [
    "n=10000\n",
    "true_labels, data = SSD.sample(true_model, n=n)"
   ]
  },
  {
   "cell_type": "markdown",
   "metadata": {},
   "source": [
    "# Gaussian HMM"
   ]
  },
  {
   "cell_type": "code",
   "execution_count": 2,
   "metadata": {},
   "outputs": [
    {
     "ename": "MethodError",
     "evalue": "MethodError: no method matching emission_sample(::GaussianEmission; observation_sequence::Matrix{Float64})\n\nClosest candidates are:\n  emission_sample(::GaussianEmission; n) got unsupported keyword argument \"observation_sequence\"\n   @ StateSpaceDynamics c:\\Users\\zachl\\OneDrive\\Documents\\GitHub\\StateSpaceDynamics.jl\\src\\EmissionModels.jl:105\n  emission_sample(!Matched::StateSpaceDynamics.CompositeModelEmission, !Matched::Vector; observation_sequence)\n   @ StateSpaceDynamics c:\\Users\\zachl\\OneDrive\\Documents\\GitHub\\StateSpaceDynamics.jl\\src\\EmissionModels.jl:854\n  emission_sample(!Matched::AutoRegressionEmission, !Matched::Matrix{<:Real}; observation_sequence)\n   @ StateSpaceDynamics c:\\Users\\zachl\\OneDrive\\Documents\\GitHub\\StateSpaceDynamics.jl\\src\\EmissionModels.jl:702\n  ...\n",
     "output_type": "error",
     "traceback": [
      "MethodError: no method matching emission_sample(::GaussianEmission; observation_sequence::Matrix{Float64})\n",
      "\n",
      "Closest candidates are:\n",
      "  emission_sample(::GaussianEmission; n) got unsupported keyword argument \"observation_sequence\"\n",
      "   @ StateSpaceDynamics c:\\Users\\zachl\\OneDrive\\Documents\\GitHub\\StateSpaceDynamics.jl\\src\\EmissionModels.jl:105\n",
      "  emission_sample(!Matched::StateSpaceDynamics.CompositeModelEmission, !Matched::Vector; observation_sequence)\n",
      "   @ StateSpaceDynamics c:\\Users\\zachl\\OneDrive\\Documents\\GitHub\\StateSpaceDynamics.jl\\src\\EmissionModels.jl:854\n",
      "  emission_sample(!Matched::AutoRegressionEmission, !Matched::Matrix{<:Real}; observation_sequence)\n",
      "   @ StateSpaceDynamics c:\\Users\\zachl\\OneDrive\\Documents\\GitHub\\StateSpaceDynamics.jl\\src\\EmissionModels.jl:702\n",
      "  ...\n",
      "\n",
      "\n",
      "Stacktrace:\n",
      " [1] kwerr(::@NamedTuple{observation_sequence::Matrix{Float64}}, ::Function, ::GaussianEmission)\n",
      "   @ Base .\\error.jl:165\n",
      " [2] sample(::HiddenMarkovModel; n::Int64)\n",
      "   @ StateSpaceDynamics c:\\Users\\zachl\\OneDrive\\Documents\\GitHub\\StateSpaceDynamics.jl\\src\\HiddenMarkovModels.jl:156\n",
      " [3] top-level scope\n",
      "   @ c:\\Users\\zachl\\OneDrive\\Documents\\GitHub\\StateSpaceDynamics.jl\\notebooks\\jl_notebook_cell_df34fa98e69747e1a8f8a730347b8e2f_W2sZmlsZQ==.jl:23"
     ]
    }
   ],
   "source": [
    "\"\"\"\n",
    "Create an underlying GaussianHMM to generate data\n",
    "\"\"\"\n",
    "\n",
    "# Create Guassian Emission Models\n",
    "output_dim = 2\n",
    "μ = [0.0, 0.0]\n",
    "Σ = 0.1 * Matrix{Float64}(I, output_dim, output_dim)\n",
    "emission_1 = GaussianEmission(output_dim, μ, Σ)\n",
    "\n",
    "μ = [2.0, 1.0]\n",
    "Σ = 0.1 * Matrix{Float64}(I, output_dim, output_dim)\n",
    "emission_2 = GaussianEmission(output_dim, μ, Σ)\n",
    "\n",
    "# Create GaussianHMM\n",
    "true_model = SSD.GaussianHMM(K=2, output_dim=2)\n",
    "true_model.B[1] = emission_1\n",
    "true_model.B[2] = emission_2\n",
    "true_model.A = [0.9 0.1; 0.8 0.2]\n",
    "\n",
    "# Sample from the model\n",
    "n=10000\n",
    "true_labels, data = SSD.sample(true_model, n=n)\n",
    "\n",
    "\n",
    "# Fit a gaussian hmm to the data\n",
    "test_model = SSD.GaussianHMM(K=2, output_dim=2)\n",
    "ll = SSD.fit!(test_model, data)\n",
    "\n",
    "print(isapprox(test_model.B[1].μ, true_model.B[1].μ, atol=0.1) || isapprox(test_model.B[1].μ, true_model.B[2].μ, atol=0.1))\n",
    "print(isapprox(test_model.B[2].μ, true_model.B[2].μ, atol=0.1) || isapprox(test_model.B[2].μ, true_model.B[1].μ, atol=0.1))"
   ]
  },
  {
   "cell_type": "markdown",
   "metadata": {},
   "source": [
    "# Switching Bernoulli Regression"
   ]
  },
  {
   "cell_type": "code",
   "execution_count": 6,
   "metadata": {},
   "outputs": [
    {
     "name": "stdout",
     "output_type": "stream",
     "text": [
      "New Function in use...\n"
     ]
    },
    {
     "name": "stderr",
     "output_type": "stream",
     "text": [
      "\u001b[32mRunning EM algorithm...   5%|██                          |  ETA: 0:00:19\u001b[39m\u001b[K\n",
      "\n",
      "\u001b[32mRunning EM algorithm...   9%|███                         |  ETA: 0:00:21\u001b[39m\u001b[K\n",
      "\n",
      "\u001b[32mRunning EM algorithm...  13%|████                        |  ETA: 0:00:25\u001b[39m\u001b[K\n",
      "\n",
      "\u001b[32mRunning EM algorithm...  16%|█████                       |  ETA: 0:00:26\u001b[39m\u001b[K\n",
      "\n",
      "\u001b[32mRunning EM algorithm...  19%|██████                      |  ETA: 0:00:27\u001b[39m\u001b[K\n",
      "\n",
      "\u001b[32mRunning EM algorithm...  21%|██████                      |  ETA: 0:00:29\u001b[39m\u001b[K\n",
      "\n",
      "\u001b[32mRunning EM algorithm...  23%|███████                     |  ETA: 0:00:30\u001b[39m\u001b[K\n",
      "\n",
      "\u001b[32mRunning EM algorithm...  26%|████████                    |  ETA: 0:00:30\u001b[39m\u001b[K\n",
      "\n",
      "\u001b[32mRunning EM algorithm...  28%|████████                    |  ETA: 0:00:32\u001b[39m\u001b[K\n",
      "\n",
      "\u001b[32mRunning EM algorithm...  30%|█████████                   |  ETA: 0:00:32\u001b[39m\u001b[K\n",
      "\n",
      "\u001b[32mRunning EM algorithm...  32%|█████████                   |  ETA: 0:00:32\u001b[39m\u001b[K\n",
      "\n",
      "\u001b[32mRunning EM algorithm...  34%|██████████                  |  ETA: 0:00:31\u001b[39m\u001b[K\n",
      "\n",
      "\u001b[32mRunning EM algorithm...  36%|███████████                 |  ETA: 0:00:31\u001b[39m\u001b[K\n",
      "\n",
      "\u001b[32mRunning EM algorithm...  38%|███████████                 |  ETA: 0:00:30\u001b[39m\u001b[K\n",
      "\n",
      "\u001b[32mRunning EM algorithm...  40%|████████████                |  ETA: 0:00:29\u001b[39m\u001b[K\n",
      "\n",
      "\u001b[32mRunning EM algorithm...  42%|████████████                |  ETA: 0:00:29\u001b[39m\u001b[K\n",
      "\n",
      "\u001b[32mRunning EM algorithm...  44%|█████████████               |  ETA: 0:00:28\u001b[39m\u001b[K\n",
      "\n",
      "\u001b[32mRunning EM algorithm...  46%|█████████████               |  ETA: 0:00:27\u001b[39m\u001b[K\n",
      "\n",
      "\u001b[32mRunning EM algorithm...  48%|██████████████              |  ETA: 0:00:26\u001b[39m\u001b[K\n",
      "\n",
      "\u001b[32mRunning EM algorithm...  50%|███████████████             |  ETA: 0:00:25\u001b[39m\u001b[K\n",
      "\n",
      "\u001b[32mRunning EM algorithm...  52%|███████████████             |  ETA: 0:00:24\u001b[39m\u001b[K\n",
      "\n",
      "\u001b[32mRunning EM algorithm...  54%|████████████████            |  ETA: 0:00:24\u001b[39m\u001b[K\n",
      "\n",
      "\u001b[32mRunning EM algorithm...  56%|████████████████            |  ETA: 0:00:23\u001b[39m\u001b[K\n",
      "\n",
      "\u001b[32mRunning EM algorithm...  58%|█████████████████           |  ETA: 0:00:22\u001b[39m\u001b[K\n",
      "\n",
      "\u001b[32mRunning EM algorithm...  60%|█████████████████           |  ETA: 0:00:21\u001b[39m\u001b[K\n",
      "\n",
      "\u001b[32mRunning EM algorithm...  62%|██████████████████          |  ETA: 0:00:20\u001b[39m\u001b[K\n",
      "\n",
      "\u001b[32mRunning EM algorithm...  64%|██████████████████          |  ETA: 0:00:19\u001b[39m\u001b[K\n",
      "\n",
      "\u001b[32mRunning EM algorithm...  66%|███████████████████         |  ETA: 0:00:18\u001b[39m\u001b[K\n",
      "\n",
      "\u001b[32mRunning EM algorithm...  68%|████████████████████        |  ETA: 0:00:17\u001b[39m\u001b[K\n",
      "\n",
      "\u001b[32mRunning EM algorithm...  70%|████████████████████        |  ETA: 0:00:16\u001b[39m\u001b[K\n",
      "\n",
      "\u001b[32mRunning EM algorithm...  72%|█████████████████████       |  ETA: 0:00:15\u001b[39m\u001b[K\n",
      "\n",
      "\u001b[32mRunning EM algorithm...  74%|█████████████████████       |  ETA: 0:00:14\u001b[39m\u001b[K\n",
      "\n",
      "\u001b[32mRunning EM algorithm...  76%|██████████████████████      |  ETA: 0:00:13\u001b[39m\u001b[K\n",
      "\n",
      "\u001b[32mRunning EM algorithm...  78%|██████████████████████      |  ETA: 0:00:12\u001b[39m\u001b[K\n",
      "\n",
      "\u001b[32mRunning EM algorithm...  80%|███████████████████████     |  ETA: 0:00:11\u001b[39m\u001b[K\n",
      "\n",
      "\u001b[32mRunning EM algorithm...  82%|███████████████████████     |  ETA: 0:00:10\u001b[39m\u001b[K\n",
      "\n",
      "\u001b[32mRunning EM algorithm...  84%|████████████████████████    |  ETA: 0:00:09\u001b[39m\u001b[K\n",
      "\n",
      "\u001b[32mRunning EM algorithm...  86%|█████████████████████████   |  ETA: 0:00:08\u001b[39m\u001b[K\n",
      "\n",
      "\u001b[32mRunning EM algorithm...  89%|█████████████████████████   |  ETA: 0:00:06\u001b[39m\u001b[K\n",
      "\n",
      "\u001b[32mRunning EM algorithm...  91%|██████████████████████████  |  ETA: 0:00:05\u001b[39m\u001b[K\n",
      "\n",
      "\u001b[32mRunning EM algorithm...  93%|███████████████████████████ |  ETA: 0:00:04\u001b[39m\u001b[K\n",
      "\n",
      "\u001b[32mRunning EM algorithm...  95%|███████████████████████████ |  ETA: 0:00:03\u001b[39m\u001b[K\n",
      "\n",
      "\u001b[32mRunning EM algorithm...  97%|████████████████████████████|  ETA: 0:00:02\u001b[39m\u001b[K\n",
      "\n",
      "\u001b[32mRunning EM algorithm...  99%|████████████████████████████|  ETA: 0:00:01\u001b[39m\u001b[K\n",
      "\n",
      "\u001b[32mRunning EM algorithm... 100%|████████████████████████████| Time: 0:00:54\u001b[39m\u001b[K\n",
      "\u001b[34m  iteration:       100\u001b[39m\u001b[K\n",
      "\u001b[34m  log_likelihood:  -23367.202832856514\u001b[39m\u001b[K\n"
     ]
    },
    {
     "name": "stdout",
     "output_type": "stream",
     "text": [
      "truefalse"
     ]
    }
   ],
   "source": [
    "\"\"\"\n",
    "Create Bernoulli Regression Model\n",
    "\"\"\"\n",
    "# Make Emission Models\n",
    "emission_1 = SSD.BernoulliRegressionEmission(input_dim=2, include_intercept=true, β = [3, 1, 8])\n",
    "emission_2 = SSD.BernoulliRegressionEmission(input_dim=2, include_intercept=true, β = [-4, -5, 0.1])\n",
    "\n",
    "# Create Switching Bernoulli Regression and add the emissions\n",
    "true_model = SSD.SwitchingBernoulliRegression(K=2, input_dim=2)\n",
    "true_model.B[1] = emission_1\n",
    "true_model.B[2] = emission_2\n",
    "\n",
    "# Sample from the model\n",
    "n=50000\n",
    "Φ = randn(n, 2)\n",
    "true_labels, data = SSD.sample(true_model, Φ, n=n)\n",
    "\n",
    "# Fit a new Bernoulli Regression Model to the data\n",
    "test_model = SSD.SwitchingBernoulliRegression(K=2, input_dim=2)\n",
    "ll = SSD.fit!(test_model, data, Φ)\n",
    "\n",
    "# Test it works alright\n",
    "print(isapprox(test_model.B[1].β, true_model.B[1].β, atol=0.5) || isapprox(test_model.B[1].β, true_model.B[2].β, atol=0.5))\n",
    "print(isapprox(test_model.B[2].β, true_model.B[2].β, atol=0.5) || isapprox(test_model.B[2].β, true_model.B[1].β, atol=0.5))"
   ]
  },
  {
   "cell_type": "code",
   "execution_count": 7,
   "metadata": {},
   "outputs": [
    {
     "name": "stdout",
     "output_type": "stream",
     "text": [
      "BernoulliRegressionEmission(2, [-4.141221823778882, -5.265402631603095, -0.04267083485481099], true, 0.0)\n",
      "BernoulliRegressionEmission(2, [2.5456938170035426, 0.7906500125721305, 7.156033533757789], true, 0.0)\n"
     ]
    }
   ],
   "source": [
    "println(test_model.B[1])\n",
    "println(test_model.B[2])"
   ]
  },
  {
   "cell_type": "markdown",
   "metadata": {},
   "source": [
    "# Switching Poisson Regression"
   ]
  },
  {
   "cell_type": "code",
   "execution_count": null,
   "metadata": {},
   "outputs": [],
   "source": []
  },
  {
   "cell_type": "code",
   "execution_count": 3,
   "metadata": {},
   "outputs": [],
   "source": [
    "\"\"\"\n",
    "Create a new GaussianHMM and try to fit the synthetic data\n",
    "\"\"\"\n",
    "n = 10  # Number of samples per trial\n",
    "\n",
    "num_trials = 3  # Number of trials\n",
    "trial_inputs = Vector{Matrix{Float64}}(undef, num_trials)  # Vector to store data matrices\n",
    "trial_labels = Vector{Vector{Int}}(undef, num_trials)  # Vector to store label vectors\n",
    "trial_outputs = Vector{Matrix{Float64}}(undef, num_trials)\n",
    "\n",
    "for i in 1:num_trials\n",
    "    true_labels, data = SSD.sample(true_model, n=n)  # Generate data and labels\n",
    "    trial_labels[i] = true_labels  # Store labels for the ith trial\n",
    "    trial_inputs[i] = data  # Store data matrix for the ith trial\n",
    "\n",
    "    true_labels, data = SSD.sample(true_model, n=n)  # Generate data and labels\n",
    "    trial_outputs[i] = data  # Store data matrix for the ith trial\n",
    "end"
   ]
  },
  {
   "cell_type": "code",
   "execution_count": 4,
   "metadata": {},
   "outputs": [
    {
     "name": "stdout",
     "output_type": "stream",
     "text": [
      "Using new GLM function\n"
     ]
    },
    {
     "data": {
      "text/plain": [
       "10-element Vector{Float64}:\n",
       " -Inf\n",
       " -76.70029012455825\n",
       " -47.307492824986895\n",
       " -43.514949067844746\n",
       " -38.92260983372855\n",
       " -34.522308805041895\n",
       " -30.66150287103459\n",
       " -23.450713121590514\n",
       " -21.715453196834286\n",
       " -21.71545319564074"
      ]
     },
     "metadata": {},
     "output_type": "display_data"
    }
   ],
   "source": [
    "\"\"\"\n",
    "Generate a multiple trial GaussianHMM Dataset from the fit model\n",
    "\"\"\"\n",
    "model2 =SSD.GaussianHMM(K=2, output_dim=2)\n",
    "ll = SSD.fit!(model2, trial_inputs)"
   ]
  },
  {
   "cell_type": "code",
   "execution_count": 10,
   "metadata": {},
   "outputs": [
    {
     "name": "stdout",
     "output_type": "stream",
     "text": [
      "Using new GLM function\n"
     ]
    },
    {
     "data": {
      "text/plain": [
       "15-element Vector{Float64}:\n",
       " -Inf\n",
       " -94.84854542844941\n",
       " -70.29312384633938\n",
       " -55.303469591772135\n",
       " -52.810127324022965\n",
       " -54.79990420340076\n",
       " -54.12247048567283\n",
       " -49.315367231017845\n",
       " -46.526669175044375\n",
       " -49.651329530657605\n",
       " -35.09126121833138\n",
       "  28.800189223643617\n",
       " -13.233591564231688\n",
       " -13.233716929664451\n",
       " -13.233716938137356"
      ]
     },
     "metadata": {},
     "output_type": "display_data"
    }
   ],
   "source": [
    "model3 = SSD.SwitchingGaussianRegression(K=2, input_dim=2, output_dim=2)\n",
    "ll2 = SSD.fit!(model3, trial_outputs, trial_inputs, max_iters=100)"
   ]
  },
  {
   "cell_type": "code",
   "execution_count": 11,
   "metadata": {},
   "outputs": [
    {
     "name": "stdout",
     "output_type": "stream",
     "text": [
      "Using new GLM function\n",
      "falsefalsefalsefalse"
     ]
    }
   ],
   "source": [
    "\n",
    "# Function to sample from initial state and transition matrix\n",
    "function sample_states(num_samples, initial_probs, transition_matrix)\n",
    "    states = Vector{Int}(undef, num_samples)\n",
    "    states[1] = rand(Categorical(initial_probs))  # Initial state\n",
    "    for i in 2:num_samples\n",
    "        states[i] = rand(Categorical(transition_matrix[states[i - 1], :]))  # State transitions\n",
    "    end\n",
    "    return states\n",
    "end\n",
    "\n",
    "\n",
    "# Create a true underlying model\n",
    "model = SSD.SwitchingGaussianRegression(K=2, input_dim=1, output_dim=1)\n",
    "model.B[1].β = [100; 100;;]\n",
    "model.B[2].β = [-100; -100;;]\n",
    "model.B[1].Σ = [2.0;;]\n",
    "model.B[2].Σ = [3.0;;]\n",
    "\n",
    "# Define initial state probabilities (π) and transition matrix (A)\n",
    "initial_probs = [0.6, 0.4]  # Probability to start in state 1 or state 2\n",
    "transition_matrix = [0.9 0.1; 0.4 0.6]  # State transition probabilities\n",
    "\n",
    "n = 100 # Number of samples per trial\n",
    "num_trials = 50  # Number of trials\n",
    "n1_std = 10\n",
    "n2_std = 5\n",
    "\n",
    "# Vectors to store generated data\n",
    "trial_inputs = Vector{Matrix{Float64}}(undef, num_trials)\n",
    "trial_labels = Vector{Vector{Int}}(undef, num_trials)\n",
    "trial_outputs = Vector{Matrix{Float64}}(undef, num_trials)\n",
    "\n",
    "\n",
    "\n",
    "# Generate trials\n",
    "for trial in 1:num_trials\n",
    "    # Random input data\n",
    "    x_data = randn(n, 1)  # Random input data for this trial\n",
    "    trial_inputs[trial] = x_data\n",
    "\n",
    "    # Generate state sequence\n",
    "    state_sequence = sample_states(n, initial_probs, transition_matrix)\n",
    "    trial_labels[trial] = state_sequence\n",
    "\n",
    "    # Generate output data based on state and linear relationships\n",
    "    y_data = zeros(n, 1)\n",
    "    for i in 1:n\n",
    "        if state_sequence[i] == 1\n",
    "            y_data[i] = (model.B[1].β[2] * x_data[i] + model.B[1].β[1]) + (randn() * n1_std)\n",
    "        else\n",
    "            y_data[i] = (model.B[2].β[2] * x_data[i] + model.B[2].β[1]) + (randn() * n2_std)\n",
    "        end\n",
    "    end\n",
    "    trial_outputs[trial] = y_data\n",
    "end\n",
    "\n",
    "# Create new model and fit the data\n",
    "est_model = SSD.SwitchingGaussianRegression(K=2, input_dim=1, output_dim=1)\n",
    "ll = SSD.fit!(est_model, trial_inputs, trial_outputs, max_iters=200)\n",
    "\n",
    "# Run tests to assess model fit\n",
    "print(isapprox(est_model.B[1].β, model.B[1].β, atol=0.1) || isapprox(est_model.B[1].β, model.B[2].β, atol=0.1))\n",
    "print(isapprox(est_model.B[2].β, model.B[2].β, atol=0.1) || isapprox(est_model.B[2].β, model.B[1].β, atol=0.1))\n",
    "print(isapprox(est_model.B[1].Σ, model.B[1].Σ, atol=0.01) || isapprox(est_model.B[1].Σ, model.B[2].Σ, atol=0.01))\n",
    "print(isapprox(est_model.B[2].Σ, model.B[2].Σ, atol=0.01) || isapprox(est_model.B[2].Σ, model.B[1].Σ, atol=0.01))\n",
    "\n",
    "\n"
   ]
  },
  {
   "cell_type": "code",
   "execution_count": 12,
   "metadata": {},
   "outputs": [
    {
     "data": {
      "image/png": "[encoded data removed]",
      "image/svg+xml": [
       "<?xml version=\"1.0\" encoding=\"utf-8\"?>\n",
       "<svg xmlns=\"http://www.w3.org/2000/svg\" xmlns:xlink=\"http://www.w3.org/1999/xlink\" width=\"600\" height=\"400\" viewBox=\"0 0 2400 1600\">\n",
       "<defs>\n",
       "  <clipPath id=\"clip170\">\n",
       "    <rect x=\"0\" y=\"0\" width=\"2400\" height=\"1600\"/>\n",
       "  </clipPath>\n",
       "</defs>\n",
       "<path clip-path=\"url(#clip170)\" d=\"M0 1600 L2400 1600 L2400 0 L0 0  Z\" fill=\"#ffffff\" fill-rule=\"evenodd\" fill-opacity=\"1\"/>\n",
       "<defs>\n",
       "  <clipPath id=\"clip171\">\n",
       "    <rect x=\"480\" y=\"0\" width=\"1681\" height=\"1600\"/>\n",
       "  </clipPath>\n",
       "</defs>\n",
       "<path clip-path=\"url(#clip170)\" d=\"M269.352 1486.45 L2352.76 1486.45 L2352.76 47.2441 L269.352 47.2441  Z\" fill=\"#ffffff\" fill-rule=\"evenodd\" fill-opacity=\"1\"/>\n",
       "<defs>\n",
       "  <clipPath id=\"clip172\">\n",
       "    <rect x=\"269\" y=\"47\" width=\"2084\" height=\"1440\"/>\n",
       "  </clipPath>\n",
       "</defs>\n",
       "<polyline clip-path=\"url(#clip172)\" style=\"stroke:#000000; stroke-linecap:round; stroke-linejoin:round; stroke-width:2; stroke-opacity:0.1; fill:none\" points=\"574.001,1486.45 574.001,47.2441 \"/>\n",
       "<polyline clip-path=\"url(#clip172)\" style=\"stroke:#000000; stroke-linecap:round; stroke-linejoin:round; stroke-width:2; stroke-opacity:0.1; fill:none\" points=\"983.475,1486.45 983.475,47.2441 \"/>\n",
       "<polyline clip-path=\"url(#clip172)\" style=\"stroke:#000000; stroke-linecap:round; stroke-linejoin:round; stroke-width:2; stroke-opacity:0.1; fill:none\" points=\"1392.95,1486.45 1392.95,47.2441 \"/>\n",
       "<polyline clip-path=\"url(#clip172)\" style=\"stroke:#000000; stroke-linecap:round; stroke-linejoin:round; stroke-width:2; stroke-opacity:0.1; fill:none\" points=\"1802.42,1486.45 1802.42,47.2441 \"/>\n",
       "<polyline clip-path=\"url(#clip172)\" style=\"stroke:#000000; stroke-linecap:round; stroke-linejoin:round; stroke-width:2; stroke-opacity:0.1; fill:none\" points=\"2211.9,1486.45 2211.9,47.2441 \"/>\n",
       "<polyline clip-path=\"url(#clip170)\" style=\"stroke:#000000; stroke-linecap:round; stroke-linejoin:round; stroke-width:4; stroke-opacity:1; fill:none\" points=\"269.352,1486.45 2352.76,1486.45 \"/>\n",
       "<polyline clip-path=\"url(#clip170)\" style=\"stroke:#000000; stroke-linecap:round; stroke-linejoin:round; stroke-width:4; stroke-opacity:1; fill:none\" points=\"574.001,1486.45 574.001,1467.55 \"/>\n",
       "<polyline clip-path=\"url(#clip170)\" style=\"stroke:#000000; stroke-linecap:round; stroke-linejoin:round; stroke-width:4; stroke-opacity:1; fill:none\" points=\"983.475,1486.45 983.475,1467.55 \"/>\n",
       "<polyline clip-path=\"url(#clip170)\" style=\"stroke:#000000; stroke-linecap:round; stroke-linejoin:round; stroke-width:4; stroke-opacity:1; fill:none\" points=\"1392.95,1486.45 1392.95,1467.55 \"/>\n",
       "<polyline clip-path=\"url(#clip170)\" style=\"stroke:#000000; stroke-linecap:round; stroke-linejoin:round; stroke-width:4; stroke-opacity:1; fill:none\" points=\"1802.42,1486.45 1802.42,1467.55 \"/>\n",
       "<polyline clip-path=\"url(#clip170)\" style=\"stroke:#000000; stroke-linecap:round; stroke-linejoin:round; stroke-width:4; stroke-opacity:1; fill:none\" points=\"2211.9,1486.45 2211.9,1467.55 \"/>\n",
       "<path clip-path=\"url(#clip170)\" d=\"M545.737 1544.91 L562.057 1544.91 L562.057 1548.85 L540.112 1548.85 L540.112 1544.91 Q542.774 1542.16 547.358 1537.53 Q551.964 1532.88 553.145 1531.53 Q555.39 1529.01 556.27 1527.27 Q557.172 1525.51 557.172 1523.82 Q557.172 1521.07 555.228 1519.33 Q553.307 1517.6 550.205 1517.6 Q548.006 1517.6 545.552 1518.36 Q543.121 1519.13 540.344 1520.68 L540.344 1515.95 Q543.168 1514.82 545.621 1514.24 Q548.075 1513.66 550.112 1513.66 Q555.482 1513.66 558.677 1516.35 Q561.871 1519.03 561.871 1523.52 Q561.871 1525.65 561.061 1527.57 Q560.274 1529.47 558.168 1532.07 Q557.589 1532.74 554.487 1535.95 Q551.385 1539.15 545.737 1544.91 Z\" fill=\"#000000\" fill-rule=\"nonzero\" fill-opacity=\"1\" /><path clip-path=\"url(#clip170)\" d=\"M571.871 1542.97 L576.756 1542.97 L576.756 1548.85 L571.871 1548.85 L571.871 1542.97 Z\" fill=\"#000000\" fill-rule=\"nonzero\" fill-opacity=\"1\" /><path clip-path=\"url(#clip170)\" d=\"M586.987 1514.29 L605.343 1514.29 L605.343 1518.22 L591.269 1518.22 L591.269 1526.7 Q592.288 1526.35 593.306 1526.19 Q594.325 1526 595.343 1526 Q601.13 1526 604.51 1529.17 Q607.89 1532.34 607.89 1537.76 Q607.89 1543.34 604.417 1546.44 Q600.945 1549.52 594.626 1549.52 Q592.45 1549.52 590.181 1549.15 Q587.936 1548.78 585.529 1548.04 L585.529 1543.34 Q587.612 1544.47 589.834 1545.03 Q592.056 1545.58 594.533 1545.58 Q598.538 1545.58 600.876 1543.48 Q603.214 1541.37 603.214 1537.76 Q603.214 1534.15 600.876 1532.04 Q598.538 1529.94 594.533 1529.94 Q592.658 1529.94 590.783 1530.35 Q588.931 1530.77 586.987 1531.65 L586.987 1514.29 Z\" fill=\"#000000\" fill-rule=\"nonzero\" fill-opacity=\"1\" /><path clip-path=\"url(#clip170)\" d=\"M950.639 1514.29 L968.996 1514.29 L968.996 1518.22 L954.922 1518.22 L954.922 1526.7 Q955.94 1526.35 956.959 1526.19 Q957.977 1526 958.996 1526 Q964.783 1526 968.162 1529.17 Q971.542 1532.34 971.542 1537.76 Q971.542 1543.34 968.07 1546.44 Q964.598 1549.52 958.278 1549.52 Q956.102 1549.52 953.834 1549.15 Q951.588 1548.78 949.181 1548.04 L949.181 1543.34 Q951.264 1544.47 953.487 1545.03 Q955.709 1545.58 958.186 1545.58 Q962.19 1545.58 964.528 1543.48 Q966.866 1541.37 966.866 1537.76 Q966.866 1534.15 964.528 1532.04 Q962.19 1529.94 958.186 1529.94 Q956.311 1529.94 954.436 1530.35 Q952.584 1530.77 950.639 1531.65 L950.639 1514.29 Z\" fill=\"#000000\" fill-rule=\"nonzero\" fill-opacity=\"1\" /><path clip-path=\"url(#clip170)\" d=\"M980.755 1542.97 L985.639 1542.97 L985.639 1548.85 L980.755 1548.85 L980.755 1542.97 Z\" fill=\"#000000\" fill-rule=\"nonzero\" fill-opacity=\"1\" /><path clip-path=\"url(#clip170)\" d=\"M1005.82 1517.37 Q1002.21 1517.37 1000.38 1520.93 Q998.579 1524.47 998.579 1531.6 Q998.579 1538.71 1000.38 1542.27 Q1002.21 1545.82 1005.82 1545.82 Q1009.46 1545.82 1011.26 1542.27 Q1013.09 1538.71 1013.09 1531.6 Q1013.09 1524.47 1011.26 1520.93 Q1009.46 1517.37 1005.82 1517.37 M1005.82 1513.66 Q1011.63 1513.66 1014.69 1518.27 Q1017.77 1522.85 1017.77 1531.6 Q1017.77 1540.33 1014.69 1544.94 Q1011.63 1549.52 1005.82 1549.52 Q1000.01 1549.52 996.935 1544.94 Q993.88 1540.33 993.88 1531.6 Q993.88 1522.85 996.935 1518.27 Q1000.01 1513.66 1005.82 1513.66 Z\" fill=\"#000000\" fill-rule=\"nonzero\" fill-opacity=\"1\" /><path clip-path=\"url(#clip170)\" d=\"M1359.27 1514.29 L1381.49 1514.29 L1381.49 1516.28 L1368.94 1548.85 L1364.06 1548.85 L1375.87 1518.22 L1359.27 1518.22 L1359.27 1514.29 Z\" fill=\"#000000\" fill-rule=\"nonzero\" fill-opacity=\"1\" /><path clip-path=\"url(#clip170)\" d=\"M1390.61 1542.97 L1395.5 1542.97 L1395.5 1548.85 L1390.61 1548.85 L1390.61 1542.97 Z\" fill=\"#000000\" fill-rule=\"nonzero\" fill-opacity=\"1\" /><path clip-path=\"url(#clip170)\" d=\"M1405.73 1514.29 L1424.08 1514.29 L1424.08 1518.22 L1410.01 1518.22 L1410.01 1526.7 Q1411.03 1526.35 1412.05 1526.19 Q1413.06 1526 1414.08 1526 Q1419.87 1526 1423.25 1529.17 Q1426.63 1532.34 1426.63 1537.76 Q1426.63 1543.34 1423.16 1546.44 Q1419.68 1549.52 1413.37 1549.52 Q1411.19 1549.52 1408.92 1549.15 Q1406.68 1548.78 1404.27 1548.04 L1404.27 1543.34 Q1406.35 1544.47 1408.57 1545.03 Q1410.8 1545.58 1413.27 1545.58 Q1417.28 1545.58 1419.62 1543.48 Q1421.95 1541.37 1421.95 1537.76 Q1421.95 1534.15 1419.62 1532.04 Q1417.28 1529.94 1413.27 1529.94 Q1411.4 1529.94 1409.52 1530.35 Q1407.67 1530.77 1405.73 1531.65 L1405.73 1514.29 Z\" fill=\"#000000\" fill-rule=\"nonzero\" fill-opacity=\"1\" /><path clip-path=\"url(#clip170)\" d=\"M1754.49 1544.91 L1762.13 1544.91 L1762.13 1518.55 L1753.82 1520.21 L1753.82 1515.95 L1762.09 1514.29 L1766.76 1514.29 L1766.76 1544.91 L1774.4 1544.91 L1774.4 1548.85 L1754.49 1548.85 L1754.49 1544.91 Z\" fill=\"#000000\" fill-rule=\"nonzero\" fill-opacity=\"1\" /><path clip-path=\"url(#clip170)\" d=\"M1793.85 1517.37 Q1790.24 1517.37 1788.41 1520.93 Q1786.6 1524.47 1786.6 1531.6 Q1786.6 1538.71 1788.41 1542.27 Q1790.24 1545.82 1793.85 1545.82 Q1797.48 1545.82 1799.29 1542.27 Q1801.12 1538.71 1801.12 1531.6 Q1801.12 1524.47 1799.29 1520.93 Q1797.48 1517.37 1793.85 1517.37 M1793.85 1513.66 Q1799.66 1513.66 1802.71 1518.27 Q1805.79 1522.85 1805.79 1531.6 Q1805.79 1540.33 1802.71 1544.94 Q1799.66 1549.52 1793.85 1549.52 Q1788.04 1549.52 1784.96 1544.94 Q1781.9 1540.33 1781.9 1531.6 Q1781.9 1522.85 1784.96 1518.27 Q1788.04 1513.66 1793.85 1513.66 Z\" fill=\"#000000\" fill-rule=\"nonzero\" fill-opacity=\"1\" /><path clip-path=\"url(#clip170)\" d=\"M1814.01 1542.97 L1818.89 1542.97 L1818.89 1548.85 L1814.01 1548.85 L1814.01 1542.97 Z\" fill=\"#000000\" fill-rule=\"nonzero\" fill-opacity=\"1\" /><path clip-path=\"url(#clip170)\" d=\"M1839.08 1517.37 Q1835.47 1517.37 1833.64 1520.93 Q1831.83 1524.47 1831.83 1531.6 Q1831.83 1538.71 1833.64 1542.27 Q1835.47 1545.82 1839.08 1545.82 Q1842.71 1545.82 1844.52 1542.27 Q1846.35 1538.71 1846.35 1531.6 Q1846.35 1524.47 1844.52 1520.93 Q1842.71 1517.37 1839.08 1517.37 M1839.08 1513.66 Q1844.89 1513.66 1847.94 1518.27 Q1851.02 1522.85 1851.02 1531.6 Q1851.02 1540.33 1847.94 1544.94 Q1844.89 1549.52 1839.08 1549.52 Q1833.27 1549.52 1830.19 1544.94 Q1827.13 1540.33 1827.13 1531.6 Q1827.13 1522.85 1830.19 1518.27 Q1833.27 1513.66 1839.08 1513.66 Z\" fill=\"#000000\" fill-rule=\"nonzero\" fill-opacity=\"1\" /><path clip-path=\"url(#clip170)\" d=\"M2164.47 1544.91 L2172.11 1544.91 L2172.11 1518.55 L2163.8 1520.21 L2163.8 1515.95 L2172.06 1514.29 L2176.74 1514.29 L2176.74 1544.91 L2184.37 1544.91 L2184.37 1548.85 L2164.47 1548.85 L2164.47 1544.91 Z\" fill=\"#000000\" fill-rule=\"nonzero\" fill-opacity=\"1\" /><path clip-path=\"url(#clip170)\" d=\"M2197.85 1544.91 L2214.17 1544.91 L2214.17 1548.85 L2192.22 1548.85 L2192.22 1544.91 Q2194.88 1542.16 2199.47 1537.53 Q2204.07 1532.88 2205.25 1531.53 Q2207.5 1529.01 2208.38 1527.27 Q2209.28 1525.51 2209.28 1523.82 Q2209.28 1521.07 2207.34 1519.33 Q2205.42 1517.6 2202.31 1517.6 Q2200.11 1517.6 2197.66 1518.36 Q2195.23 1519.13 2192.45 1520.68 L2192.45 1515.95 Q2195.28 1514.82 2197.73 1514.24 Q2200.18 1513.66 2202.22 1513.66 Q2207.59 1513.66 2210.79 1516.35 Q2213.98 1519.03 2213.98 1523.52 Q2213.98 1525.65 2213.17 1527.57 Q2212.38 1529.47 2210.28 1532.07 Q2209.7 1532.74 2206.6 1535.95 Q2203.49 1539.15 2197.85 1544.91 Z\" fill=\"#000000\" fill-rule=\"nonzero\" fill-opacity=\"1\" /><path clip-path=\"url(#clip170)\" d=\"M2223.98 1542.97 L2228.86 1542.97 L2228.86 1548.85 L2223.98 1548.85 L2223.98 1542.97 Z\" fill=\"#000000\" fill-rule=\"nonzero\" fill-opacity=\"1\" /><path clip-path=\"url(#clip170)\" d=\"M2239.1 1514.29 L2257.45 1514.29 L2257.45 1518.22 L2243.38 1518.22 L2243.38 1526.7 Q2244.4 1526.35 2245.42 1526.19 Q2246.43 1526 2247.45 1526 Q2253.24 1526 2256.62 1529.17 Q2260 1532.34 2260 1537.76 Q2260 1543.34 2256.53 1546.44 Q2253.05 1549.52 2246.73 1549.52 Q2244.56 1549.52 2242.29 1549.15 Q2240.04 1548.78 2237.64 1548.04 L2237.64 1543.34 Q2239.72 1544.47 2241.94 1545.03 Q2244.17 1545.58 2246.64 1545.58 Q2250.65 1545.58 2252.98 1543.48 Q2255.32 1541.37 2255.32 1537.76 Q2255.32 1534.15 2252.98 1532.04 Q2250.65 1529.94 2246.64 1529.94 Q2244.77 1529.94 2242.89 1530.35 Q2241.04 1530.77 2239.1 1531.65 L2239.1 1514.29 Z\" fill=\"#000000\" fill-rule=\"nonzero\" fill-opacity=\"1\" /><polyline clip-path=\"url(#clip172)\" style=\"stroke:#000000; stroke-linecap:round; stroke-linejoin:round; stroke-width:2; stroke-opacity:0.1; fill:none\" points=\"269.352,1418.02 2352.76,1418.02 \"/>\n",
       "<polyline clip-path=\"url(#clip172)\" style=\"stroke:#000000; stroke-linecap:round; stroke-linejoin:round; stroke-width:2; stroke-opacity:0.1; fill:none\" points=\"269.352,1171.21 2352.76,1171.21 \"/>\n",
       "<polyline clip-path=\"url(#clip172)\" style=\"stroke:#000000; stroke-linecap:round; stroke-linejoin:round; stroke-width:2; stroke-opacity:0.1; fill:none\" points=\"269.352,924.392 2352.76,924.392 \"/>\n",
       "<polyline clip-path=\"url(#clip172)\" style=\"stroke:#000000; stroke-linecap:round; stroke-linejoin:round; stroke-width:2; stroke-opacity:0.1; fill:none\" points=\"269.352,677.578 2352.76,677.578 \"/>\n",
       "<polyline clip-path=\"url(#clip172)\" style=\"stroke:#000000; stroke-linecap:round; stroke-linejoin:round; stroke-width:2; stroke-opacity:0.1; fill:none\" points=\"269.352,430.764 2352.76,430.764 \"/>\n",
       "<polyline clip-path=\"url(#clip172)\" style=\"stroke:#000000; stroke-linecap:round; stroke-linejoin:round; stroke-width:2; stroke-opacity:0.1; fill:none\" points=\"269.352,183.951 2352.76,183.951 \"/>\n",
       "<polyline clip-path=\"url(#clip170)\" style=\"stroke:#000000; stroke-linecap:round; stroke-linejoin:round; stroke-width:4; stroke-opacity:1; fill:none\" points=\"269.352,1486.45 269.352,47.2441 \"/>\n",
       "<polyline clip-path=\"url(#clip170)\" style=\"stroke:#000000; stroke-linecap:round; stroke-linejoin:round; stroke-width:4; stroke-opacity:1; fill:none\" points=\"269.352,1418.02 288.25,1418.02 \"/>\n",
       "<polyline clip-path=\"url(#clip170)\" style=\"stroke:#000000; stroke-linecap:round; stroke-linejoin:round; stroke-width:4; stroke-opacity:1; fill:none\" points=\"269.352,1171.21 288.25,1171.21 \"/>\n",
       "<polyline clip-path=\"url(#clip170)\" style=\"stroke:#000000; stroke-linecap:round; stroke-linejoin:round; stroke-width:4; stroke-opacity:1; fill:none\" points=\"269.352,924.392 288.25,924.392 \"/>\n",
       "<polyline clip-path=\"url(#clip170)\" style=\"stroke:#000000; stroke-linecap:round; stroke-linejoin:round; stroke-width:4; stroke-opacity:1; fill:none\" points=\"269.352,677.578 288.25,677.578 \"/>\n",
       "<polyline clip-path=\"url(#clip170)\" style=\"stroke:#000000; stroke-linecap:round; stroke-linejoin:round; stroke-width:4; stroke-opacity:1; fill:none\" points=\"269.352,430.764 288.25,430.764 \"/>\n",
       "<polyline clip-path=\"url(#clip170)\" style=\"stroke:#000000; stroke-linecap:round; stroke-linejoin:round; stroke-width:4; stroke-opacity:1; fill:none\" points=\"269.352,183.951 288.25,183.951 \"/>\n",
       "<path clip-path=\"url(#clip170)\" d=\"M50.9921 1418.47 L80.6679 1418.47 L80.6679 1422.41 L50.9921 1422.41 L50.9921 1418.47 Z\" fill=\"#000000\" fill-rule=\"nonzero\" fill-opacity=\"1\" /><path clip-path=\"url(#clip170)\" d=\"M91.5706 1431.36 L99.2095 1431.36 L99.2095 1405 L90.8993 1406.67 L90.8993 1402.41 L99.1632 1400.74 L103.839 1400.74 L103.839 1431.36 L111.478 1431.36 L111.478 1435.3 L91.5706 1435.3 L91.5706 1431.36 Z\" fill=\"#000000\" fill-rule=\"nonzero\" fill-opacity=\"1\" /><path clip-path=\"url(#clip170)\" d=\"M121.732 1431.36 L129.371 1431.36 L129.371 1405 L121.061 1406.67 L121.061 1402.41 L129.325 1400.74 L134.001 1400.74 L134.001 1431.36 L141.64 1431.36 L141.64 1435.3 L121.732 1435.3 L121.732 1431.36 Z\" fill=\"#000000\" fill-rule=\"nonzero\" fill-opacity=\"1\" /><path clip-path=\"url(#clip170)\" d=\"M155.112 1431.36 L171.431 1431.36 L171.431 1435.3 L149.487 1435.3 L149.487 1431.36 Q152.149 1428.61 156.732 1423.98 Q161.339 1419.33 162.519 1417.99 Q164.765 1415.46 165.644 1413.73 Q166.547 1411.97 166.547 1410.28 Q166.547 1407.52 164.603 1405.79 Q162.681 1404.05 159.58 1404.05 Q157.38 1404.05 154.927 1404.81 Q152.496 1405.58 149.718 1407.13 L149.718 1402.41 Q152.543 1401.27 154.996 1400.69 Q157.45 1400.12 159.487 1400.12 Q164.857 1400.12 168.052 1402.8 Q171.246 1405.49 171.246 1409.98 Q171.246 1412.11 170.436 1414.03 Q169.649 1415.93 167.542 1418.52 Q166.964 1419.19 163.862 1422.41 Q160.76 1425.6 155.112 1431.36 Z\" fill=\"#000000\" fill-rule=\"nonzero\" fill-opacity=\"1\" /><path clip-path=\"url(#clip170)\" d=\"M191.246 1403.82 Q187.635 1403.82 185.806 1407.38 Q184.001 1410.93 184.001 1418.05 Q184.001 1425.16 185.806 1428.73 Q187.635 1432.27 191.246 1432.27 Q194.88 1432.27 196.686 1428.73 Q198.514 1425.16 198.514 1418.05 Q198.514 1410.93 196.686 1407.38 Q194.88 1403.82 191.246 1403.82 M191.246 1400.12 Q197.056 1400.12 200.112 1404.72 Q203.19 1409.3 203.19 1418.05 Q203.19 1426.78 200.112 1431.39 Q197.056 1435.97 191.246 1435.97 Q185.436 1435.97 182.357 1431.39 Q179.302 1426.78 179.302 1418.05 Q179.302 1409.3 182.357 1404.72 Q185.436 1400.12 191.246 1400.12 Z\" fill=\"#000000\" fill-rule=\"nonzero\" fill-opacity=\"1\" /><path clip-path=\"url(#clip170)\" d=\"M221.408 1403.82 Q217.797 1403.82 215.968 1407.38 Q214.163 1410.93 214.163 1418.05 Q214.163 1425.16 215.968 1428.73 Q217.797 1432.27 221.408 1432.27 Q225.042 1432.27 226.848 1428.73 Q228.676 1425.16 228.676 1418.05 Q228.676 1410.93 226.848 1407.38 Q225.042 1403.82 221.408 1403.82 M221.408 1400.12 Q227.218 1400.12 230.274 1404.72 Q233.352 1409.3 233.352 1418.05 Q233.352 1426.78 230.274 1431.39 Q227.218 1435.97 221.408 1435.97 Q215.598 1435.97 212.519 1431.39 Q209.463 1426.78 209.463 1418.05 Q209.463 1409.3 212.519 1404.72 Q215.598 1400.12 221.408 1400.12 Z\" fill=\"#000000\" fill-rule=\"nonzero\" fill-opacity=\"1\" /><path clip-path=\"url(#clip170)\" d=\"M50.9921 1171.66 L80.6679 1171.66 L80.6679 1175.59 L50.9921 1175.59 L50.9921 1171.66 Z\" fill=\"#000000\" fill-rule=\"nonzero\" fill-opacity=\"1\" /><path clip-path=\"url(#clip170)\" d=\"M91.5706 1184.55 L99.2095 1184.55 L99.2095 1158.19 L90.8993 1159.85 L90.8993 1155.59 L99.1632 1153.93 L103.839 1153.93 L103.839 1184.55 L111.478 1184.55 L111.478 1188.49 L91.5706 1188.49 L91.5706 1184.55 Z\" fill=\"#000000\" fill-rule=\"nonzero\" fill-opacity=\"1\" /><path clip-path=\"url(#clip170)\" d=\"M121.732 1184.55 L129.371 1184.55 L129.371 1158.19 L121.061 1159.85 L121.061 1155.59 L129.325 1153.93 L134.001 1153.93 L134.001 1184.55 L141.64 1184.55 L141.64 1188.49 L121.732 1188.49 L121.732 1184.55 Z\" fill=\"#000000\" fill-rule=\"nonzero\" fill-opacity=\"1\" /><path clip-path=\"url(#clip170)\" d=\"M151.894 1184.55 L159.533 1184.55 L159.533 1158.19 L151.223 1159.85 L151.223 1155.59 L159.487 1153.93 L164.163 1153.93 L164.163 1184.55 L171.802 1184.55 L171.802 1188.49 L151.894 1188.49 L151.894 1184.55 Z\" fill=\"#000000\" fill-rule=\"nonzero\" fill-opacity=\"1\" /><path clip-path=\"url(#clip170)\" d=\"M191.246 1157 Q187.635 1157 185.806 1160.57 Q184.001 1164.11 184.001 1171.24 Q184.001 1178.35 185.806 1181.91 Q187.635 1185.45 191.246 1185.45 Q194.88 1185.45 196.686 1181.91 Q198.514 1178.35 198.514 1171.24 Q198.514 1164.11 196.686 1160.57 Q194.88 1157 191.246 1157 M191.246 1153.3 Q197.056 1153.3 200.112 1157.91 Q203.19 1162.49 203.19 1171.24 Q203.19 1179.97 200.112 1184.57 Q197.056 1189.16 191.246 1189.16 Q185.436 1189.16 182.357 1184.57 Q179.302 1179.97 179.302 1171.24 Q179.302 1162.49 182.357 1157.91 Q185.436 1153.3 191.246 1153.3 Z\" fill=\"#000000\" fill-rule=\"nonzero\" fill-opacity=\"1\" /><path clip-path=\"url(#clip170)\" d=\"M221.408 1157 Q217.797 1157 215.968 1160.57 Q214.163 1164.11 214.163 1171.24 Q214.163 1178.35 215.968 1181.91 Q217.797 1185.45 221.408 1185.45 Q225.042 1185.45 226.848 1181.91 Q228.676 1178.35 228.676 1171.24 Q228.676 1164.11 226.848 1160.57 Q225.042 1157 221.408 1157 M221.408 1153.3 Q227.218 1153.3 230.274 1157.91 Q233.352 1162.49 233.352 1171.24 Q233.352 1179.97 230.274 1184.57 Q227.218 1189.16 221.408 1189.16 Q215.598 1189.16 212.519 1184.57 Q209.463 1179.97 209.463 1171.24 Q209.463 1162.49 212.519 1157.91 Q215.598 1153.3 221.408 1153.3 Z\" fill=\"#000000\" fill-rule=\"nonzero\" fill-opacity=\"1\" /><path clip-path=\"url(#clip170)\" d=\"M50.9921 924.844 L80.6679 924.844 L80.6679 928.779 L50.9921 928.779 L50.9921 924.844 Z\" fill=\"#000000\" fill-rule=\"nonzero\" fill-opacity=\"1\" /><path clip-path=\"url(#clip170)\" d=\"M91.5706 937.737 L99.2095 937.737 L99.2095 911.372 L90.8993 913.038 L90.8993 908.779 L99.1632 907.112 L103.839 907.112 L103.839 937.737 L111.478 937.737 L111.478 941.672 L91.5706 941.672 L91.5706 937.737 Z\" fill=\"#000000\" fill-rule=\"nonzero\" fill-opacity=\"1\" /><path clip-path=\"url(#clip170)\" d=\"M121.732 937.737 L129.371 937.737 L129.371 911.372 L121.061 913.038 L121.061 908.779 L129.325 907.112 L134.001 907.112 L134.001 937.737 L141.64 937.737 L141.64 941.672 L121.732 941.672 L121.732 937.737 Z\" fill=\"#000000\" fill-rule=\"nonzero\" fill-opacity=\"1\" /><path clip-path=\"url(#clip170)\" d=\"M161.084 910.191 Q157.473 910.191 155.644 913.756 Q153.839 917.297 153.839 924.427 Q153.839 931.533 155.644 935.098 Q157.473 938.64 161.084 938.64 Q164.718 938.64 166.524 935.098 Q168.353 931.533 168.353 924.427 Q168.353 917.297 166.524 913.756 Q164.718 910.191 161.084 910.191 M161.084 906.487 Q166.894 906.487 169.95 911.094 Q173.029 915.677 173.029 924.427 Q173.029 933.154 169.95 937.76 Q166.894 942.344 161.084 942.344 Q155.274 942.344 152.195 937.76 Q149.14 933.154 149.14 924.427 Q149.14 915.677 152.195 911.094 Q155.274 906.487 161.084 906.487 Z\" fill=\"#000000\" fill-rule=\"nonzero\" fill-opacity=\"1\" /><path clip-path=\"url(#clip170)\" d=\"M191.246 910.191 Q187.635 910.191 185.806 913.756 Q184.001 917.297 184.001 924.427 Q184.001 931.533 185.806 935.098 Q187.635 938.64 191.246 938.64 Q194.88 938.64 196.686 935.098 Q198.514 931.533 198.514 924.427 Q198.514 917.297 196.686 913.756 Q194.88 910.191 191.246 910.191 M191.246 906.487 Q197.056 906.487 200.112 911.094 Q203.19 915.677 203.19 924.427 Q203.19 933.154 200.112 937.76 Q197.056 942.344 191.246 942.344 Q185.436 942.344 182.357 937.76 Q179.302 933.154 179.302 924.427 Q179.302 915.677 182.357 911.094 Q185.436 906.487 191.246 906.487 Z\" fill=\"#000000\" fill-rule=\"nonzero\" fill-opacity=\"1\" /><path clip-path=\"url(#clip170)\" d=\"M221.408 910.191 Q217.797 910.191 215.968 913.756 Q214.163 917.297 214.163 924.427 Q214.163 931.533 215.968 935.098 Q217.797 938.64 221.408 938.64 Q225.042 938.64 226.848 935.098 Q228.676 931.533 228.676 924.427 Q228.676 917.297 226.848 913.756 Q225.042 910.191 221.408 910.191 M221.408 906.487 Q227.218 906.487 230.274 911.094 Q233.352 915.677 233.352 924.427 Q233.352 933.154 230.274 937.76 Q227.218 942.344 221.408 942.344 Q215.598 942.344 212.519 937.76 Q209.463 933.154 209.463 924.427 Q209.463 915.677 212.519 911.094 Q215.598 906.487 221.408 906.487 Z\" fill=\"#000000\" fill-rule=\"nonzero\" fill-opacity=\"1\" /><path clip-path=\"url(#clip170)\" d=\"M50.9921 678.03 L80.6679 678.03 L80.6679 681.965 L50.9921 681.965 L50.9921 678.03 Z\" fill=\"#000000\" fill-rule=\"nonzero\" fill-opacity=\"1\" /><path clip-path=\"url(#clip170)\" d=\"M91.5706 690.923 L99.2095 690.923 L99.2095 664.558 L90.8993 666.224 L90.8993 661.965 L99.1632 660.298 L103.839 660.298 L103.839 690.923 L111.478 690.923 L111.478 694.858 L91.5706 694.858 L91.5706 690.923 Z\" fill=\"#000000\" fill-rule=\"nonzero\" fill-opacity=\"1\" /><path clip-path=\"url(#clip170)\" d=\"M130.922 663.377 Q127.311 663.377 125.482 666.942 Q123.677 670.483 123.677 677.613 Q123.677 684.72 125.482 688.284 Q127.311 691.826 130.922 691.826 Q134.556 691.826 136.362 688.284 Q138.191 684.72 138.191 677.613 Q138.191 670.483 136.362 666.942 Q134.556 663.377 130.922 663.377 M130.922 659.673 Q136.732 659.673 139.788 664.28 Q142.867 668.863 142.867 677.613 Q142.867 686.34 139.788 690.946 Q136.732 695.53 130.922 695.53 Q125.112 695.53 122.033 690.946 Q118.978 686.34 118.978 677.613 Q118.978 668.863 122.033 664.28 Q125.112 659.673 130.922 659.673 Z\" fill=\"#000000\" fill-rule=\"nonzero\" fill-opacity=\"1\" /><path clip-path=\"url(#clip170)\" d=\"M151.223 694.141 L151.223 689.882 Q152.982 690.715 154.788 691.155 Q156.593 691.594 158.33 691.594 Q162.959 691.594 165.39 688.493 Q167.843 685.368 168.191 679.025 Q166.848 681.016 164.788 682.081 Q162.728 683.145 160.228 683.145 Q155.042 683.145 152.01 680.02 Q149.001 676.872 149.001 671.433 Q149.001 666.109 152.149 662.891 Q155.297 659.673 160.529 659.673 Q166.524 659.673 169.672 664.28 Q172.843 668.863 172.843 677.613 Q172.843 685.784 168.954 690.669 Q165.089 695.53 158.538 695.53 Q156.779 695.53 154.973 695.182 Q153.168 694.835 151.223 694.141 M160.529 679.488 Q163.677 679.488 165.505 677.335 Q167.357 675.183 167.357 671.433 Q167.357 667.706 165.505 665.553 Q163.677 663.377 160.529 663.377 Q157.38 663.377 155.529 665.553 Q153.7 667.706 153.7 671.433 Q153.7 675.183 155.529 677.335 Q157.38 679.488 160.529 679.488 Z\" fill=\"#000000\" fill-rule=\"nonzero\" fill-opacity=\"1\" /><path clip-path=\"url(#clip170)\" d=\"M191.246 663.377 Q187.635 663.377 185.806 666.942 Q184.001 670.483 184.001 677.613 Q184.001 684.72 185.806 688.284 Q187.635 691.826 191.246 691.826 Q194.88 691.826 196.686 688.284 Q198.514 684.72 198.514 677.613 Q198.514 670.483 196.686 666.942 Q194.88 663.377 191.246 663.377 M191.246 659.673 Q197.056 659.673 200.112 664.28 Q203.19 668.863 203.19 677.613 Q203.19 686.34 200.112 690.946 Q197.056 695.53 191.246 695.53 Q185.436 695.53 182.357 690.946 Q179.302 686.34 179.302 677.613 Q179.302 668.863 182.357 664.28 Q185.436 659.673 191.246 659.673 Z\" fill=\"#000000\" fill-rule=\"nonzero\" fill-opacity=\"1\" /><path clip-path=\"url(#clip170)\" d=\"M221.408 663.377 Q217.797 663.377 215.968 666.942 Q214.163 670.483 214.163 677.613 Q214.163 684.72 215.968 688.284 Q217.797 691.826 221.408 691.826 Q225.042 691.826 226.848 688.284 Q228.676 684.72 228.676 677.613 Q228.676 670.483 226.848 666.942 Q225.042 663.377 221.408 663.377 M221.408 659.673 Q227.218 659.673 230.274 664.28 Q233.352 668.863 233.352 677.613 Q233.352 686.34 230.274 690.946 Q227.218 695.53 221.408 695.53 Q215.598 695.53 212.519 690.946 Q209.463 686.34 209.463 677.613 Q209.463 668.863 212.519 664.28 Q215.598 659.673 221.408 659.673 Z\" fill=\"#000000\" fill-rule=\"nonzero\" fill-opacity=\"1\" /><path clip-path=\"url(#clip170)\" d=\"M50.9921 431.216 L80.6679 431.216 L80.6679 435.151 L50.9921 435.151 L50.9921 431.216 Z\" fill=\"#000000\" fill-rule=\"nonzero\" fill-opacity=\"1\" /><path clip-path=\"url(#clip170)\" d=\"M91.5706 444.109 L99.2095 444.109 L99.2095 417.744 L90.8993 419.41 L90.8993 415.151 L99.1632 413.484 L103.839 413.484 L103.839 444.109 L111.478 444.109 L111.478 448.044 L91.5706 448.044 L91.5706 444.109 Z\" fill=\"#000000\" fill-rule=\"nonzero\" fill-opacity=\"1\" /><path clip-path=\"url(#clip170)\" d=\"M130.922 416.563 Q127.311 416.563 125.482 420.128 Q123.677 423.67 123.677 430.799 Q123.677 437.906 125.482 441.47 Q127.311 445.012 130.922 445.012 Q134.556 445.012 136.362 441.47 Q138.191 437.906 138.191 430.799 Q138.191 423.67 136.362 420.128 Q134.556 416.563 130.922 416.563 M130.922 412.859 Q136.732 412.859 139.788 417.466 Q142.867 422.049 142.867 430.799 Q142.867 439.526 139.788 444.132 Q136.732 448.716 130.922 448.716 Q125.112 448.716 122.033 444.132 Q118.978 439.526 118.978 430.799 Q118.978 422.049 122.033 417.466 Q125.112 412.859 130.922 412.859 Z\" fill=\"#000000\" fill-rule=\"nonzero\" fill-opacity=\"1\" /><path clip-path=\"url(#clip170)\" d=\"M161.084 431.633 Q157.751 431.633 155.83 433.415 Q153.931 435.197 153.931 438.322 Q153.931 441.447 155.83 443.23 Q157.751 445.012 161.084 445.012 Q164.417 445.012 166.339 443.23 Q168.26 441.424 168.26 438.322 Q168.26 435.197 166.339 433.415 Q164.441 431.633 161.084 431.633 M156.408 429.642 Q153.399 428.901 151.709 426.841 Q150.043 424.781 150.043 421.818 Q150.043 417.674 152.982 415.267 Q155.945 412.859 161.084 412.859 Q166.246 412.859 169.186 415.267 Q172.126 417.674 172.126 421.818 Q172.126 424.781 170.436 426.841 Q168.769 428.901 165.783 429.642 Q169.163 430.429 171.038 432.72 Q172.936 435.012 172.936 438.322 Q172.936 443.345 169.857 446.031 Q166.802 448.716 161.084 448.716 Q155.367 448.716 152.288 446.031 Q149.232 443.345 149.232 438.322 Q149.232 435.012 151.13 432.72 Q153.029 430.429 156.408 429.642 M154.695 422.258 Q154.695 424.943 156.362 426.447 Q158.052 427.952 161.084 427.952 Q164.093 427.952 165.783 426.447 Q167.496 424.943 167.496 422.258 Q167.496 419.572 165.783 418.068 Q164.093 416.563 161.084 416.563 Q158.052 416.563 156.362 418.068 Q154.695 419.572 154.695 422.258 Z\" fill=\"#000000\" fill-rule=\"nonzero\" fill-opacity=\"1\" /><path clip-path=\"url(#clip170)\" d=\"M191.246 416.563 Q187.635 416.563 185.806 420.128 Q184.001 423.67 184.001 430.799 Q184.001 437.906 185.806 441.47 Q187.635 445.012 191.246 445.012 Q194.88 445.012 196.686 441.47 Q198.514 437.906 198.514 430.799 Q198.514 423.67 196.686 420.128 Q194.88 416.563 191.246 416.563 M191.246 412.859 Q197.056 412.859 200.112 417.466 Q203.19 422.049 203.19 430.799 Q203.19 439.526 200.112 444.132 Q197.056 448.716 191.246 448.716 Q185.436 448.716 182.357 444.132 Q179.302 439.526 179.302 430.799 Q179.302 422.049 182.357 417.466 Q185.436 412.859 191.246 412.859 Z\" fill=\"#000000\" fill-rule=\"nonzero\" fill-opacity=\"1\" /><path clip-path=\"url(#clip170)\" d=\"M221.408 416.563 Q217.797 416.563 215.968 420.128 Q214.163 423.67 214.163 430.799 Q214.163 437.906 215.968 441.47 Q217.797 445.012 221.408 445.012 Q225.042 445.012 226.848 441.47 Q228.676 437.906 228.676 430.799 Q228.676 423.67 226.848 420.128 Q225.042 416.563 221.408 416.563 M221.408 412.859 Q227.218 412.859 230.274 417.466 Q233.352 422.049 233.352 430.799 Q233.352 439.526 230.274 444.132 Q227.218 448.716 221.408 448.716 Q215.598 448.716 212.519 444.132 Q209.463 439.526 209.463 430.799 Q209.463 422.049 212.519 417.466 Q215.598 412.859 221.408 412.859 Z\" fill=\"#000000\" fill-rule=\"nonzero\" fill-opacity=\"1\" /><path clip-path=\"url(#clip170)\" d=\"M50.9921 184.402 L80.6679 184.402 L80.6679 188.337 L50.9921 188.337 L50.9921 184.402 Z\" fill=\"#000000\" fill-rule=\"nonzero\" fill-opacity=\"1\" /><path clip-path=\"url(#clip170)\" d=\"M91.5706 197.295 L99.2095 197.295 L99.2095 170.93 L90.8993 172.596 L90.8993 168.337 L99.1632 166.671 L103.839 166.671 L103.839 197.295 L111.478 197.295 L111.478 201.231 L91.5706 201.231 L91.5706 197.295 Z\" fill=\"#000000\" fill-rule=\"nonzero\" fill-opacity=\"1\" /><path clip-path=\"url(#clip170)\" d=\"M130.922 169.749 Q127.311 169.749 125.482 173.314 Q123.677 176.856 123.677 183.985 Q123.677 191.092 125.482 194.657 Q127.311 198.198 130.922 198.198 Q134.556 198.198 136.362 194.657 Q138.191 191.092 138.191 183.985 Q138.191 176.856 136.362 173.314 Q134.556 169.749 130.922 169.749 M130.922 166.046 Q136.732 166.046 139.788 170.652 Q142.867 175.235 142.867 183.985 Q142.867 192.712 139.788 197.319 Q136.732 201.902 130.922 201.902 Q125.112 201.902 122.033 197.319 Q118.978 192.712 118.978 183.985 Q118.978 175.235 122.033 170.652 Q125.112 166.046 130.922 166.046 Z\" fill=\"#000000\" fill-rule=\"nonzero\" fill-opacity=\"1\" /><path clip-path=\"url(#clip170)\" d=\"M149.904 166.671 L172.126 166.671 L172.126 168.661 L159.58 201.231 L154.695 201.231 L166.501 170.606 L149.904 170.606 L149.904 166.671 Z\" fill=\"#000000\" fill-rule=\"nonzero\" fill-opacity=\"1\" /><path clip-path=\"url(#clip170)\" d=\"M191.246 169.749 Q187.635 169.749 185.806 173.314 Q184.001 176.856 184.001 183.985 Q184.001 191.092 185.806 194.657 Q187.635 198.198 191.246 198.198 Q194.88 198.198 196.686 194.657 Q198.514 191.092 198.514 183.985 Q198.514 176.856 196.686 173.314 Q194.88 169.749 191.246 169.749 M191.246 166.046 Q197.056 166.046 200.112 170.652 Q203.19 175.235 203.19 183.985 Q203.19 192.712 200.112 197.319 Q197.056 201.902 191.246 201.902 Q185.436 201.902 182.357 197.319 Q179.302 192.712 179.302 183.985 Q179.302 175.235 182.357 170.652 Q185.436 166.046 191.246 166.046 Z\" fill=\"#000000\" fill-rule=\"nonzero\" fill-opacity=\"1\" /><path clip-path=\"url(#clip170)\" d=\"M221.408 169.749 Q217.797 169.749 215.968 173.314 Q214.163 176.856 214.163 183.985 Q214.163 191.092 215.968 194.657 Q217.797 198.198 221.408 198.198 Q225.042 198.198 226.848 194.657 Q228.676 191.092 228.676 183.985 Q228.676 176.856 226.848 173.314 Q225.042 169.749 221.408 169.749 M221.408 166.046 Q227.218 166.046 230.274 170.652 Q233.352 175.235 233.352 183.985 Q233.352 192.712 230.274 197.319 Q227.218 201.902 221.408 201.902 Q215.598 201.902 212.519 197.319 Q209.463 192.712 209.463 183.985 Q209.463 175.235 212.519 170.652 Q215.598 166.046 221.408 166.046 Z\" fill=\"#000000\" fill-rule=\"nonzero\" fill-opacity=\"1\" /><polyline clip-path=\"url(#clip172)\" style=\"stroke:#009af9; stroke-linecap:round; stroke-linejoin:round; stroke-width:4; stroke-opacity:1; fill:none\" points=\"328.317,1445.72 492.106,680.384 655.896,87.9763 819.685,169.798 983.475,586.295 1147.26,989.91 1311.05,1099.79 1474.84,1140.18 1638.63,1076.45 1802.42,994.981 1966.21,1052.5 2130,1047.56 2293.79,1047.56 \"/>\n",
       "<path clip-path=\"url(#clip170)\" d=\"M2022.54 198.898 L2283.31 198.898 L2283.31 95.2176 L2022.54 95.2176  Z\" fill=\"#ffffff\" fill-rule=\"evenodd\" fill-opacity=\"1\"/>\n",
       "<polyline clip-path=\"url(#clip170)\" style=\"stroke:#000000; stroke-linecap:round; stroke-linejoin:round; stroke-width:4; stroke-opacity:1; fill:none\" points=\"2022.54,198.898 2283.31,198.898 2283.31,95.2176 2022.54,95.2176 2022.54,198.898 \"/>\n",
       "<polyline clip-path=\"url(#clip170)\" style=\"stroke:#009af9; stroke-linecap:round; stroke-linejoin:round; stroke-width:4; stroke-opacity:1; fill:none\" points=\"2045.69,147.058 2184.58,147.058 \"/>\n",
       "<path clip-path=\"url(#clip170)\" d=\"M2221.57 166.745 Q2219.77 171.375 2218.05 172.787 Q2216.34 174.199 2213.47 174.199 L2210.07 174.199 L2210.07 170.634 L2212.57 170.634 Q2214.33 170.634 2215.3 169.8 Q2216.27 168.967 2217.45 165.865 L2218.22 163.921 L2207.73 138.412 L2212.24 138.412 L2220.35 158.689 L2228.45 138.412 L2232.96 138.412 L2221.57 166.745 Z\" fill=\"#000000\" fill-rule=\"nonzero\" fill-opacity=\"1\" /><path clip-path=\"url(#clip170)\" d=\"M2240.25 160.402 L2247.89 160.402 L2247.89 134.037 L2239.58 135.703 L2239.58 131.444 L2247.85 129.778 L2252.52 129.778 L2252.52 160.402 L2260.16 160.402 L2260.16 164.338 L2240.25 164.338 L2240.25 160.402 Z\" fill=\"#000000\" fill-rule=\"nonzero\" fill-opacity=\"1\" /></svg>\n"
      ],
      "text/html": [
       "<?xml version=\"1.0\" encoding=\"utf-8\"?>\n",
       "<svg xmlns=\"http://www.w3.org/2000/svg\" xmlns:xlink=\"http://www.w3.org/1999/xlink\" width=\"600\" height=\"400\" viewBox=\"0 0 2400 1600\">\n",
       "<defs>\n",
       "  <clipPath id=\"clip220\">\n",
       "    <rect x=\"0\" y=\"0\" width=\"2400\" height=\"1600\"/>\n",
       "  </clipPath>\n",
       "</defs>\n",
       "<path clip-path=\"url(#clip220)\" d=\"M0 1600 L2400 1600 L2400 0 L0 0  Z\" fill=\"#ffffff\" fill-rule=\"evenodd\" fill-opacity=\"1\"/>\n",
       "<defs>\n",
       "  <clipPath id=\"clip221\">\n",
       "    <rect x=\"480\" y=\"0\" width=\"1681\" height=\"1600\"/>\n",
       "  </clipPath>\n",
       "</defs>\n",
       "<path clip-path=\"url(#clip220)\" d=\"M269.352 1486.45 L2352.76 1486.45 L2352.76 47.2441 L269.352 47.2441  Z\" fill=\"#ffffff\" fill-rule=\"evenodd\" fill-opacity=\"1\"/>\n",
       "<defs>\n",
       "  <clipPath id=\"clip222\">\n",
       "    <rect x=\"269\" y=\"47\" width=\"2084\" height=\"1440\"/>\n",
       "  </clipPath>\n",
       "</defs>\n",
       "<polyline clip-path=\"url(#clip222)\" style=\"stroke:#000000; stroke-linecap:round; stroke-linejoin:round; stroke-width:2; stroke-opacity:0.1; fill:none\" points=\"574.001,1486.45 574.001,47.2441 \"/>\n",
       "<polyline clip-path=\"url(#clip222)\" style=\"stroke:#000000; stroke-linecap:round; stroke-linejoin:round; stroke-width:2; stroke-opacity:0.1; fill:none\" points=\"983.475,1486.45 983.475,47.2441 \"/>\n",
       "<polyline clip-path=\"url(#clip222)\" style=\"stroke:#000000; stroke-linecap:round; stroke-linejoin:round; stroke-width:2; stroke-opacity:0.1; fill:none\" points=\"1392.95,1486.45 1392.95,47.2441 \"/>\n",
       "<polyline clip-path=\"url(#clip222)\" style=\"stroke:#000000; stroke-linecap:round; stroke-linejoin:round; stroke-width:2; stroke-opacity:0.1; fill:none\" points=\"1802.42,1486.45 1802.42,47.2441 \"/>\n",
       "<polyline clip-path=\"url(#clip222)\" style=\"stroke:#000000; stroke-linecap:round; stroke-linejoin:round; stroke-width:2; stroke-opacity:0.1; fill:none\" points=\"2211.9,1486.45 2211.9,47.2441 \"/>\n",
       "<polyline clip-path=\"url(#clip220)\" style=\"stroke:#000000; stroke-linecap:round; stroke-linejoin:round; stroke-width:4; stroke-opacity:1; fill:none\" points=\"269.352,1486.45 2352.76,1486.45 \"/>\n",
       "<polyline clip-path=\"url(#clip220)\" style=\"stroke:#000000; stroke-linecap:round; stroke-linejoin:round; stroke-width:4; stroke-opacity:1; fill:none\" points=\"574.001,1486.45 574.001,1467.55 \"/>\n",
       "<polyline clip-path=\"url(#clip220)\" style=\"stroke:#000000; stroke-linecap:round; stroke-linejoin:round; stroke-width:4; stroke-opacity:1; fill:none\" points=\"983.475,1486.45 983.475,1467.55 \"/>\n",
       "<polyline clip-path=\"url(#clip220)\" style=\"stroke:#000000; stroke-linecap:round; stroke-linejoin:round; stroke-width:4; stroke-opacity:1; fill:none\" points=\"1392.95,1486.45 1392.95,1467.55 \"/>\n",
       "<polyline clip-path=\"url(#clip220)\" style=\"stroke:#000000; stroke-linecap:round; stroke-linejoin:round; stroke-width:4; stroke-opacity:1; fill:none\" points=\"1802.42,1486.45 1802.42,1467.55 \"/>\n",
       "<polyline clip-path=\"url(#clip220)\" style=\"stroke:#000000; stroke-linecap:round; stroke-linejoin:round; stroke-width:4; stroke-opacity:1; fill:none\" points=\"2211.9,1486.45 2211.9,1467.55 \"/>\n",
       "<path clip-path=\"url(#clip220)\" d=\"M545.737 1544.91 L562.057 1544.91 L562.057 1548.85 L540.112 1548.85 L540.112 1544.91 Q542.774 1542.16 547.358 1537.53 Q551.964 1532.88 553.145 1531.53 Q555.39 1529.01 556.27 1527.27 Q557.172 1525.51 557.172 1523.82 Q557.172 1521.07 555.228 1519.33 Q553.307 1517.6 550.205 1517.6 Q548.006 1517.6 545.552 1518.36 Q543.121 1519.13 540.344 1520.68 L540.344 1515.95 Q543.168 1514.82 545.621 1514.24 Q548.075 1513.66 550.112 1513.66 Q555.482 1513.66 558.677 1516.35 Q561.871 1519.03 561.871 1523.52 Q561.871 1525.65 561.061 1527.57 Q560.274 1529.47 558.168 1532.07 Q557.589 1532.74 554.487 1535.95 Q551.385 1539.15 545.737 1544.91 Z\" fill=\"#000000\" fill-rule=\"nonzero\" fill-opacity=\"1\" /><path clip-path=\"url(#clip220)\" d=\"M571.871 1542.97 L576.756 1542.97 L576.756 1548.85 L571.871 1548.85 L571.871 1542.97 Z\" fill=\"#000000\" fill-rule=\"nonzero\" fill-opacity=\"1\" /><path clip-path=\"url(#clip220)\" d=\"M586.987 1514.29 L605.343 1514.29 L605.343 1518.22 L591.269 1518.22 L591.269 1526.7 Q592.288 1526.35 593.306 1526.19 Q594.325 1526 595.343 1526 Q601.13 1526 604.51 1529.17 Q607.89 1532.34 607.89 1537.76 Q607.89 1543.34 604.417 1546.44 Q600.945 1549.52 594.626 1549.52 Q592.45 1549.52 590.181 1549.15 Q587.936 1548.78 585.529 1548.04 L585.529 1543.34 Q587.612 1544.47 589.834 1545.03 Q592.056 1545.58 594.533 1545.58 Q598.538 1545.58 600.876 1543.48 Q603.214 1541.37 603.214 1537.76 Q603.214 1534.15 600.876 1532.04 Q598.538 1529.94 594.533 1529.94 Q592.658 1529.94 590.783 1530.35 Q588.931 1530.77 586.987 1531.65 L586.987 1514.29 Z\" fill=\"#000000\" fill-rule=\"nonzero\" fill-opacity=\"1\" /><path clip-path=\"url(#clip220)\" d=\"M950.639 1514.29 L968.996 1514.29 L968.996 1518.22 L954.922 1518.22 L954.922 1526.7 Q955.94 1526.35 956.959 1526.19 Q957.977 1526 958.996 1526 Q964.783 1526 968.162 1529.17 Q971.542 1532.34 971.542 1537.76 Q971.542 1543.34 968.07 1546.44 Q964.598 1549.52 958.278 1549.52 Q956.102 1549.52 953.834 1549.15 Q951.588 1548.78 949.181 1548.04 L949.181 1543.34 Q951.264 1544.47 953.487 1545.03 Q955.709 1545.58 958.186 1545.58 Q962.19 1545.58 964.528 1543.48 Q966.866 1541.37 966.866 1537.76 Q966.866 1534.15 964.528 1532.04 Q962.19 1529.94 958.186 1529.94 Q956.311 1529.94 954.436 1530.35 Q952.584 1530.77 950.639 1531.65 L950.639 1514.29 Z\" fill=\"#000000\" fill-rule=\"nonzero\" fill-opacity=\"1\" /><path clip-path=\"url(#clip220)\" d=\"M980.755 1542.97 L985.639 1542.97 L985.639 1548.85 L980.755 1548.85 L980.755 1542.97 Z\" fill=\"#000000\" fill-rule=\"nonzero\" fill-opacity=\"1\" /><path clip-path=\"url(#clip220)\" d=\"M1005.82 1517.37 Q1002.21 1517.37 1000.38 1520.93 Q998.579 1524.47 998.579 1531.6 Q998.579 1538.71 1000.38 1542.27 Q1002.21 1545.82 1005.82 1545.82 Q1009.46 1545.82 1011.26 1542.27 Q1013.09 1538.71 1013.09 1531.6 Q1013.09 1524.47 1011.26 1520.93 Q1009.46 1517.37 1005.82 1517.37 M1005.82 1513.66 Q1011.63 1513.66 1014.69 1518.27 Q1017.77 1522.85 1017.77 1531.6 Q1017.77 1540.33 1014.69 1544.94 Q1011.63 1549.52 1005.82 1549.52 Q1000.01 1549.52 996.935 1544.94 Q993.88 1540.33 993.88 1531.6 Q993.88 1522.85 996.935 1518.27 Q1000.01 1513.66 1005.82 1513.66 Z\" fill=\"#000000\" fill-rule=\"nonzero\" fill-opacity=\"1\" /><path clip-path=\"url(#clip220)\" d=\"M1359.27 1514.29 L1381.49 1514.29 L1381.49 1516.28 L1368.94 1548.85 L1364.06 1548.85 L1375.87 1518.22 L1359.27 1518.22 L1359.27 1514.29 Z\" fill=\"#000000\" fill-rule=\"nonzero\" fill-opacity=\"1\" /><path clip-path=\"url(#clip220)\" d=\"M1390.61 1542.97 L1395.5 1542.97 L1395.5 1548.85 L1390.61 1548.85 L1390.61 1542.97 Z\" fill=\"#000000\" fill-rule=\"nonzero\" fill-opacity=\"1\" /><path clip-path=\"url(#clip220)\" d=\"M1405.73 1514.29 L1424.08 1514.29 L1424.08 1518.22 L1410.01 1518.22 L1410.01 1526.7 Q1411.03 1526.35 1412.05 1526.19 Q1413.06 1526 1414.08 1526 Q1419.87 1526 1423.25 1529.17 Q1426.63 1532.34 1426.63 1537.76 Q1426.63 1543.34 1423.16 1546.44 Q1419.68 1549.52 1413.37 1549.52 Q1411.19 1549.52 1408.92 1549.15 Q1406.68 1548.78 1404.27 1548.04 L1404.27 1543.34 Q1406.35 1544.47 1408.57 1545.03 Q1410.8 1545.58 1413.27 1545.58 Q1417.28 1545.58 1419.62 1543.48 Q1421.95 1541.37 1421.95 1537.76 Q1421.95 1534.15 1419.62 1532.04 Q1417.28 1529.94 1413.27 1529.94 Q1411.4 1529.94 1409.52 1530.35 Q1407.67 1530.77 1405.73 1531.65 L1405.73 1514.29 Z\" fill=\"#000000\" fill-rule=\"nonzero\" fill-opacity=\"1\" /><path clip-path=\"url(#clip220)\" d=\"M1754.49 1544.91 L1762.13 1544.91 L1762.13 1518.55 L1753.82 1520.21 L1753.82 1515.95 L1762.09 1514.29 L1766.76 1514.29 L1766.76 1544.91 L1774.4 1544.91 L1774.4 1548.85 L1754.49 1548.85 L1754.49 1544.91 Z\" fill=\"#000000\" fill-rule=\"nonzero\" fill-opacity=\"1\" /><path clip-path=\"url(#clip220)\" d=\"M1793.85 1517.37 Q1790.24 1517.37 1788.41 1520.93 Q1786.6 1524.47 1786.6 1531.6 Q1786.6 1538.71 1788.41 1542.27 Q1790.24 1545.82 1793.85 1545.82 Q1797.48 1545.82 1799.29 1542.27 Q1801.12 1538.71 1801.12 1531.6 Q1801.12 1524.47 1799.29 1520.93 Q1797.48 1517.37 1793.85 1517.37 M1793.85 1513.66 Q1799.66 1513.66 1802.71 1518.27 Q1805.79 1522.85 1805.79 1531.6 Q1805.79 1540.33 1802.71 1544.94 Q1799.66 1549.52 1793.85 1549.52 Q1788.04 1549.52 1784.96 1544.94 Q1781.9 1540.33 1781.9 1531.6 Q1781.9 1522.85 1784.96 1518.27 Q1788.04 1513.66 1793.85 1513.66 Z\" fill=\"#000000\" fill-rule=\"nonzero\" fill-opacity=\"1\" /><path clip-path=\"url(#clip220)\" d=\"M1814.01 1542.97 L1818.89 1542.97 L1818.89 1548.85 L1814.01 1548.85 L1814.01 1542.97 Z\" fill=\"#000000\" fill-rule=\"nonzero\" fill-opacity=\"1\" /><path clip-path=\"url(#clip220)\" d=\"M1839.08 1517.37 Q1835.47 1517.37 1833.64 1520.93 Q1831.83 1524.47 1831.83 1531.6 Q1831.83 1538.71 1833.64 1542.27 Q1835.47 1545.82 1839.08 1545.82 Q1842.71 1545.82 1844.52 1542.27 Q1846.35 1538.71 1846.35 1531.6 Q1846.35 1524.47 1844.52 1520.93 Q1842.71 1517.37 1839.08 1517.37 M1839.08 1513.66 Q1844.89 1513.66 1847.94 1518.27 Q1851.02 1522.85 1851.02 1531.6 Q1851.02 1540.33 1847.94 1544.94 Q1844.89 1549.52 1839.08 1549.52 Q1833.27 1549.52 1830.19 1544.94 Q1827.13 1540.33 1827.13 1531.6 Q1827.13 1522.85 1830.19 1518.27 Q1833.27 1513.66 1839.08 1513.66 Z\" fill=\"#000000\" fill-rule=\"nonzero\" fill-opacity=\"1\" /><path clip-path=\"url(#clip220)\" d=\"M2164.47 1544.91 L2172.11 1544.91 L2172.11 1518.55 L2163.8 1520.21 L2163.8 1515.95 L2172.06 1514.29 L2176.74 1514.29 L2176.74 1544.91 L2184.37 1544.91 L2184.37 1548.85 L2164.47 1548.85 L2164.47 1544.91 Z\" fill=\"#000000\" fill-rule=\"nonzero\" fill-opacity=\"1\" /><path clip-path=\"url(#clip220)\" d=\"M2197.85 1544.91 L2214.17 1544.91 L2214.17 1548.85 L2192.22 1548.85 L2192.22 1544.91 Q2194.88 1542.16 2199.47 1537.53 Q2204.07 1532.88 2205.25 1531.53 Q2207.5 1529.01 2208.38 1527.27 Q2209.28 1525.51 2209.28 1523.82 Q2209.28 1521.07 2207.34 1519.33 Q2205.42 1517.6 2202.31 1517.6 Q2200.11 1517.6 2197.66 1518.36 Q2195.23 1519.13 2192.45 1520.68 L2192.45 1515.95 Q2195.28 1514.82 2197.73 1514.24 Q2200.18 1513.66 2202.22 1513.66 Q2207.59 1513.66 2210.79 1516.35 Q2213.98 1519.03 2213.98 1523.52 Q2213.98 1525.65 2213.17 1527.57 Q2212.38 1529.47 2210.28 1532.07 Q2209.7 1532.74 2206.6 1535.95 Q2203.49 1539.15 2197.85 1544.91 Z\" fill=\"#000000\" fill-rule=\"nonzero\" fill-opacity=\"1\" /><path clip-path=\"url(#clip220)\" d=\"M2223.98 1542.97 L2228.86 1542.97 L2228.86 1548.85 L2223.98 1548.85 L2223.98 1542.97 Z\" fill=\"#000000\" fill-rule=\"nonzero\" fill-opacity=\"1\" /><path clip-path=\"url(#clip220)\" d=\"M2239.1 1514.29 L2257.45 1514.29 L2257.45 1518.22 L2243.38 1518.22 L2243.38 1526.7 Q2244.4 1526.35 2245.42 1526.19 Q2246.43 1526 2247.45 1526 Q2253.24 1526 2256.62 1529.17 Q2260 1532.34 2260 1537.76 Q2260 1543.34 2256.53 1546.44 Q2253.05 1549.52 2246.73 1549.52 Q2244.56 1549.52 2242.29 1549.15 Q2240.04 1548.78 2237.64 1548.04 L2237.64 1543.34 Q2239.72 1544.47 2241.94 1545.03 Q2244.17 1545.58 2246.64 1545.58 Q2250.65 1545.58 2252.98 1543.48 Q2255.32 1541.37 2255.32 1537.76 Q2255.32 1534.15 2252.98 1532.04 Q2250.65 1529.94 2246.64 1529.94 Q2244.77 1529.94 2242.89 1530.35 Q2241.04 1530.77 2239.1 1531.65 L2239.1 1514.29 Z\" fill=\"#000000\" fill-rule=\"nonzero\" fill-opacity=\"1\" /><polyline clip-path=\"url(#clip222)\" style=\"stroke:#000000; stroke-linecap:round; stroke-linejoin:round; stroke-width:2; stroke-opacity:0.1; fill:none\" points=\"269.352,1418.02 2352.76,1418.02 \"/>\n",
       "<polyline clip-path=\"url(#clip222)\" style=\"stroke:#000000; stroke-linecap:round; stroke-linejoin:round; stroke-width:2; stroke-opacity:0.1; fill:none\" points=\"269.352,1171.21 2352.76,1171.21 \"/>\n",
       "<polyline clip-path=\"url(#clip222)\" style=\"stroke:#000000; stroke-linecap:round; stroke-linejoin:round; stroke-width:2; stroke-opacity:0.1; fill:none\" points=\"269.352,924.392 2352.76,924.392 \"/>\n",
       "<polyline clip-path=\"url(#clip222)\" style=\"stroke:#000000; stroke-linecap:round; stroke-linejoin:round; stroke-width:2; stroke-opacity:0.1; fill:none\" points=\"269.352,677.578 2352.76,677.578 \"/>\n",
       "<polyline clip-path=\"url(#clip222)\" style=\"stroke:#000000; stroke-linecap:round; stroke-linejoin:round; stroke-width:2; stroke-opacity:0.1; fill:none\" points=\"269.352,430.764 2352.76,430.764 \"/>\n",
       "<polyline clip-path=\"url(#clip222)\" style=\"stroke:#000000; stroke-linecap:round; stroke-linejoin:round; stroke-width:2; stroke-opacity:0.1; fill:none\" points=\"269.352,183.951 2352.76,183.951 \"/>\n",
       "<polyline clip-path=\"url(#clip220)\" style=\"stroke:#000000; stroke-linecap:round; stroke-linejoin:round; stroke-width:4; stroke-opacity:1; fill:none\" points=\"269.352,1486.45 269.352,47.2441 \"/>\n",
       "<polyline clip-path=\"url(#clip220)\" style=\"stroke:#000000; stroke-linecap:round; stroke-linejoin:round; stroke-width:4; stroke-opacity:1; fill:none\" points=\"269.352,1418.02 288.25,1418.02 \"/>\n",
       "<polyline clip-path=\"url(#clip220)\" style=\"stroke:#000000; stroke-linecap:round; stroke-linejoin:round; stroke-width:4; stroke-opacity:1; fill:none\" points=\"269.352,1171.21 288.25,1171.21 \"/>\n",
       "<polyline clip-path=\"url(#clip220)\" style=\"stroke:#000000; stroke-linecap:round; stroke-linejoin:round; stroke-width:4; stroke-opacity:1; fill:none\" points=\"269.352,924.392 288.25,924.392 \"/>\n",
       "<polyline clip-path=\"url(#clip220)\" style=\"stroke:#000000; stroke-linecap:round; stroke-linejoin:round; stroke-width:4; stroke-opacity:1; fill:none\" points=\"269.352,677.578 288.25,677.578 \"/>\n",
       "<polyline clip-path=\"url(#clip220)\" style=\"stroke:#000000; stroke-linecap:round; stroke-linejoin:round; stroke-width:4; stroke-opacity:1; fill:none\" points=\"269.352,430.764 288.25,430.764 \"/>\n",
       "<polyline clip-path=\"url(#clip220)\" style=\"stroke:#000000; stroke-linecap:round; stroke-linejoin:round; stroke-width:4; stroke-opacity:1; fill:none\" points=\"269.352,183.951 288.25,183.951 \"/>\n",
       "<path clip-path=\"url(#clip220)\" d=\"M50.9921 1418.47 L80.6679 1418.47 L80.6679 1422.41 L50.9921 1422.41 L50.9921 1418.47 Z\" fill=\"#000000\" fill-rule=\"nonzero\" fill-opacity=\"1\" /><path clip-path=\"url(#clip220)\" d=\"M91.5706 1431.36 L99.2095 1431.36 L99.2095 1405 L90.8993 1406.67 L90.8993 1402.41 L99.1632 1400.74 L103.839 1400.74 L103.839 1431.36 L111.478 1431.36 L111.478 1435.3 L91.5706 1435.3 L91.5706 1431.36 Z\" fill=\"#000000\" fill-rule=\"nonzero\" fill-opacity=\"1\" /><path clip-path=\"url(#clip220)\" d=\"M121.732 1431.36 L129.371 1431.36 L129.371 1405 L121.061 1406.67 L121.061 1402.41 L129.325 1400.74 L134.001 1400.74 L134.001 1431.36 L141.64 1431.36 L141.64 1435.3 L121.732 1435.3 L121.732 1431.36 Z\" fill=\"#000000\" fill-rule=\"nonzero\" fill-opacity=\"1\" /><path clip-path=\"url(#clip220)\" d=\"M155.112 1431.36 L171.431 1431.36 L171.431 1435.3 L149.487 1435.3 L149.487 1431.36 Q152.149 1428.61 156.732 1423.98 Q161.339 1419.33 162.519 1417.99 Q164.765 1415.46 165.644 1413.73 Q166.547 1411.97 166.547 1410.28 Q166.547 1407.52 164.603 1405.79 Q162.681 1404.05 159.58 1404.05 Q157.38 1404.05 154.927 1404.81 Q152.496 1405.58 149.718 1407.13 L149.718 1402.41 Q152.543 1401.27 154.996 1400.69 Q157.45 1400.12 159.487 1400.12 Q164.857 1400.12 168.052 1402.8 Q171.246 1405.49 171.246 1409.98 Q171.246 1412.11 170.436 1414.03 Q169.649 1415.93 167.542 1418.52 Q166.964 1419.19 163.862 1422.41 Q160.76 1425.6 155.112 1431.36 Z\" fill=\"#000000\" fill-rule=\"nonzero\" fill-opacity=\"1\" /><path clip-path=\"url(#clip220)\" d=\"M191.246 1403.82 Q187.635 1403.82 185.806 1407.38 Q184.001 1410.93 184.001 1418.05 Q184.001 1425.16 185.806 1428.73 Q187.635 1432.27 191.246 1432.27 Q194.88 1432.27 196.686 1428.73 Q198.514 1425.16 198.514 1418.05 Q198.514 1410.93 196.686 1407.38 Q194.88 1403.82 191.246 1403.82 M191.246 1400.12 Q197.056 1400.12 200.112 1404.72 Q203.19 1409.3 203.19 1418.05 Q203.19 1426.78 200.112 1431.39 Q197.056 1435.97 191.246 1435.97 Q185.436 1435.97 182.357 1431.39 Q179.302 1426.78 179.302 1418.05 Q179.302 1409.3 182.357 1404.72 Q185.436 1400.12 191.246 1400.12 Z\" fill=\"#000000\" fill-rule=\"nonzero\" fill-opacity=\"1\" /><path clip-path=\"url(#clip220)\" d=\"M221.408 1403.82 Q217.797 1403.82 215.968 1407.38 Q214.163 1410.93 214.163 1418.05 Q214.163 1425.16 215.968 1428.73 Q217.797 1432.27 221.408 1432.27 Q225.042 1432.27 226.848 1428.73 Q228.676 1425.16 228.676 1418.05 Q228.676 1410.93 226.848 1407.38 Q225.042 1403.82 221.408 1403.82 M221.408 1400.12 Q227.218 1400.12 230.274 1404.72 Q233.352 1409.3 233.352 1418.05 Q233.352 1426.78 230.274 1431.39 Q227.218 1435.97 221.408 1435.97 Q215.598 1435.97 212.519 1431.39 Q209.463 1426.78 209.463 1418.05 Q209.463 1409.3 212.519 1404.72 Q215.598 1400.12 221.408 1400.12 Z\" fill=\"#000000\" fill-rule=\"nonzero\" fill-opacity=\"1\" /><path clip-path=\"url(#clip220)\" d=\"M50.9921 1171.66 L80.6679 1171.66 L80.6679 1175.59 L50.9921 1175.59 L50.9921 1171.66 Z\" fill=\"#000000\" fill-rule=\"nonzero\" fill-opacity=\"1\" /><path clip-path=\"url(#clip220)\" d=\"M91.5706 1184.55 L99.2095 1184.55 L99.2095 1158.19 L90.8993 1159.85 L90.8993 1155.59 L99.1632 1153.93 L103.839 1153.93 L103.839 1184.55 L111.478 1184.55 L111.478 1188.49 L91.5706 1188.49 L91.5706 1184.55 Z\" fill=\"#000000\" fill-rule=\"nonzero\" fill-opacity=\"1\" /><path clip-path=\"url(#clip220)\" d=\"M121.732 1184.55 L129.371 1184.55 L129.371 1158.19 L121.061 1159.85 L121.061 1155.59 L129.325 1153.93 L134.001 1153.93 L134.001 1184.55 L141.64 1184.55 L141.64 1188.49 L121.732 1188.49 L121.732 1184.55 Z\" fill=\"#000000\" fill-rule=\"nonzero\" fill-opacity=\"1\" /><path clip-path=\"url(#clip220)\" d=\"M151.894 1184.55 L159.533 1184.55 L159.533 1158.19 L151.223 1159.85 L151.223 1155.59 L159.487 1153.93 L164.163 1153.93 L164.163 1184.55 L171.802 1184.55 L171.802 1188.49 L151.894 1188.49 L151.894 1184.55 Z\" fill=\"#000000\" fill-rule=\"nonzero\" fill-opacity=\"1\" /><path clip-path=\"url(#clip220)\" d=\"M191.246 1157 Q187.635 1157 185.806 1160.57 Q184.001 1164.11 184.001 1171.24 Q184.001 1178.35 185.806 1181.91 Q187.635 1185.45 191.246 1185.45 Q194.88 1185.45 196.686 1181.91 Q198.514 1178.35 198.514 1171.24 Q198.514 1164.11 196.686 1160.57 Q194.88 1157 191.246 1157 M191.246 1153.3 Q197.056 1153.3 200.112 1157.91 Q203.19 1162.49 203.19 1171.24 Q203.19 1179.97 200.112 1184.57 Q197.056 1189.16 191.246 1189.16 Q185.436 1189.16 182.357 1184.57 Q179.302 1179.97 179.302 1171.24 Q179.302 1162.49 182.357 1157.91 Q185.436 1153.3 191.246 1153.3 Z\" fill=\"#000000\" fill-rule=\"nonzero\" fill-opacity=\"1\" /><path clip-path=\"url(#clip220)\" d=\"M221.408 1157 Q217.797 1157 215.968 1160.57 Q214.163 1164.11 214.163 1171.24 Q214.163 1178.35 215.968 1181.91 Q217.797 1185.45 221.408 1185.45 Q225.042 1185.45 226.848 1181.91 Q228.676 1178.35 228.676 1171.24 Q228.676 1164.11 226.848 1160.57 Q225.042 1157 221.408 1157 M221.408 1153.3 Q227.218 1153.3 230.274 1157.91 Q233.352 1162.49 233.352 1171.24 Q233.352 1179.97 230.274 1184.57 Q227.218 1189.16 221.408 1189.16 Q215.598 1189.16 212.519 1184.57 Q209.463 1179.97 209.463 1171.24 Q209.463 1162.49 212.519 1157.91 Q215.598 1153.3 221.408 1153.3 Z\" fill=\"#000000\" fill-rule=\"nonzero\" fill-opacity=\"1\" /><path clip-path=\"url(#clip220)\" d=\"M50.9921 924.844 L80.6679 924.844 L80.6679 928.779 L50.9921 928.779 L50.9921 924.844 Z\" fill=\"#000000\" fill-rule=\"nonzero\" fill-opacity=\"1\" /><path clip-path=\"url(#clip220)\" d=\"M91.5706 937.737 L99.2095 937.737 L99.2095 911.372 L90.8993 913.038 L90.8993 908.779 L99.1632 907.112 L103.839 907.112 L103.839 937.737 L111.478 937.737 L111.478 941.672 L91.5706 941.672 L91.5706 937.737 Z\" fill=\"#000000\" fill-rule=\"nonzero\" fill-opacity=\"1\" /><path clip-path=\"url(#clip220)\" d=\"M121.732 937.737 L129.371 937.737 L129.371 911.372 L121.061 913.038 L121.061 908.779 L129.325 907.112 L134.001 907.112 L134.001 937.737 L141.64 937.737 L141.64 941.672 L121.732 941.672 L121.732 937.737 Z\" fill=\"#000000\" fill-rule=\"nonzero\" fill-opacity=\"1\" /><path clip-path=\"url(#clip220)\" d=\"M161.084 910.191 Q157.473 910.191 155.644 913.756 Q153.839 917.297 153.839 924.427 Q153.839 931.533 155.644 935.098 Q157.473 938.64 161.084 938.64 Q164.718 938.64 166.524 935.098 Q168.353 931.533 168.353 924.427 Q168.353 917.297 166.524 913.756 Q164.718 910.191 161.084 910.191 M161.084 906.487 Q166.894 906.487 169.95 911.094 Q173.029 915.677 173.029 924.427 Q173.029 933.154 169.95 937.76 Q166.894 942.344 161.084 942.344 Q155.274 942.344 152.195 937.76 Q149.14 933.154 149.14 924.427 Q149.14 915.677 152.195 911.094 Q155.274 906.487 161.084 906.487 Z\" fill=\"#000000\" fill-rule=\"nonzero\" fill-opacity=\"1\" /><path clip-path=\"url(#clip220)\" d=\"M191.246 910.191 Q187.635 910.191 185.806 913.756 Q184.001 917.297 184.001 924.427 Q184.001 931.533 185.806 935.098 Q187.635 938.64 191.246 938.64 Q194.88 938.64 196.686 935.098 Q198.514 931.533 198.514 924.427 Q198.514 917.297 196.686 913.756 Q194.88 910.191 191.246 910.191 M191.246 906.487 Q197.056 906.487 200.112 911.094 Q203.19 915.677 203.19 924.427 Q203.19 933.154 200.112 937.76 Q197.056 942.344 191.246 942.344 Q185.436 942.344 182.357 937.76 Q179.302 933.154 179.302 924.427 Q179.302 915.677 182.357 911.094 Q185.436 906.487 191.246 906.487 Z\" fill=\"#000000\" fill-rule=\"nonzero\" fill-opacity=\"1\" /><path clip-path=\"url(#clip220)\" d=\"M221.408 910.191 Q217.797 910.191 215.968 913.756 Q214.163 917.297 214.163 924.427 Q214.163 931.533 215.968 935.098 Q217.797 938.64 221.408 938.64 Q225.042 938.64 226.848 935.098 Q228.676 931.533 228.676 924.427 Q228.676 917.297 226.848 913.756 Q225.042 910.191 221.408 910.191 M221.408 906.487 Q227.218 906.487 230.274 911.094 Q233.352 915.677 233.352 924.427 Q233.352 933.154 230.274 937.76 Q227.218 942.344 221.408 942.344 Q215.598 942.344 212.519 937.76 Q209.463 933.154 209.463 924.427 Q209.463 915.677 212.519 911.094 Q215.598 906.487 221.408 906.487 Z\" fill=\"#000000\" fill-rule=\"nonzero\" fill-opacity=\"1\" /><path clip-path=\"url(#clip220)\" d=\"M50.9921 678.03 L80.6679 678.03 L80.6679 681.965 L50.9921 681.965 L50.9921 678.03 Z\" fill=\"#000000\" fill-rule=\"nonzero\" fill-opacity=\"1\" /><path clip-path=\"url(#clip220)\" d=\"M91.5706 690.923 L99.2095 690.923 L99.2095 664.558 L90.8993 666.224 L90.8993 661.965 L99.1632 660.298 L103.839 660.298 L103.839 690.923 L111.478 690.923 L111.478 694.858 L91.5706 694.858 L91.5706 690.923 Z\" fill=\"#000000\" fill-rule=\"nonzero\" fill-opacity=\"1\" /><path clip-path=\"url(#clip220)\" d=\"M130.922 663.377 Q127.311 663.377 125.482 666.942 Q123.677 670.483 123.677 677.613 Q123.677 684.72 125.482 688.284 Q127.311 691.826 130.922 691.826 Q134.556 691.826 136.362 688.284 Q138.191 684.72 138.191 677.613 Q138.191 670.483 136.362 666.942 Q134.556 663.377 130.922 663.377 M130.922 659.673 Q136.732 659.673 139.788 664.28 Q142.867 668.863 142.867 677.613 Q142.867 686.34 139.788 690.946 Q136.732 695.53 130.922 695.53 Q125.112 695.53 122.033 690.946 Q118.978 686.34 118.978 677.613 Q118.978 668.863 122.033 664.28 Q125.112 659.673 130.922 659.673 Z\" fill=\"#000000\" fill-rule=\"nonzero\" fill-opacity=\"1\" /><path clip-path=\"url(#clip220)\" d=\"M151.223 694.141 L151.223 689.882 Q152.982 690.715 154.788 691.155 Q156.593 691.594 158.33 691.594 Q162.959 691.594 165.39 688.493 Q167.843 685.368 168.191 679.025 Q166.848 681.016 164.788 682.081 Q162.728 683.145 160.228 683.145 Q155.042 683.145 152.01 680.02 Q149.001 676.872 149.001 671.433 Q149.001 666.109 152.149 662.891 Q155.297 659.673 160.529 659.673 Q166.524 659.673 169.672 664.28 Q172.843 668.863 172.843 677.613 Q172.843 685.784 168.954 690.669 Q165.089 695.53 158.538 695.53 Q156.779 695.53 154.973 695.182 Q153.168 694.835 151.223 694.141 M160.529 679.488 Q163.677 679.488 165.505 677.335 Q167.357 675.183 167.357 671.433 Q167.357 667.706 165.505 665.553 Q163.677 663.377 160.529 663.377 Q157.38 663.377 155.529 665.553 Q153.7 667.706 153.7 671.433 Q153.7 675.183 155.529 677.335 Q157.38 679.488 160.529 679.488 Z\" fill=\"#000000\" fill-rule=\"nonzero\" fill-opacity=\"1\" /><path clip-path=\"url(#clip220)\" d=\"M191.246 663.377 Q187.635 663.377 185.806 666.942 Q184.001 670.483 184.001 677.613 Q184.001 684.72 185.806 688.284 Q187.635 691.826 191.246 691.826 Q194.88 691.826 196.686 688.284 Q198.514 684.72 198.514 677.613 Q198.514 670.483 196.686 666.942 Q194.88 663.377 191.246 663.377 M191.246 659.673 Q197.056 659.673 200.112 664.28 Q203.19 668.863 203.19 677.613 Q203.19 686.34 200.112 690.946 Q197.056 695.53 191.246 695.53 Q185.436 695.53 182.357 690.946 Q179.302 686.34 179.302 677.613 Q179.302 668.863 182.357 664.28 Q185.436 659.673 191.246 659.673 Z\" fill=\"#000000\" fill-rule=\"nonzero\" fill-opacity=\"1\" /><path clip-path=\"url(#clip220)\" d=\"M221.408 663.377 Q217.797 663.377 215.968 666.942 Q214.163 670.483 214.163 677.613 Q214.163 684.72 215.968 688.284 Q217.797 691.826 221.408 691.826 Q225.042 691.826 226.848 688.284 Q228.676 684.72 228.676 677.613 Q228.676 670.483 226.848 666.942 Q225.042 663.377 221.408 663.377 M221.408 659.673 Q227.218 659.673 230.274 664.28 Q233.352 668.863 233.352 677.613 Q233.352 686.34 230.274 690.946 Q227.218 695.53 221.408 695.53 Q215.598 695.53 212.519 690.946 Q209.463 686.34 209.463 677.613 Q209.463 668.863 212.519 664.28 Q215.598 659.673 221.408 659.673 Z\" fill=\"#000000\" fill-rule=\"nonzero\" fill-opacity=\"1\" /><path clip-path=\"url(#clip220)\" d=\"M50.9921 431.216 L80.6679 431.216 L80.6679 435.151 L50.9921 435.151 L50.9921 431.216 Z\" fill=\"#000000\" fill-rule=\"nonzero\" fill-opacity=\"1\" /><path clip-path=\"url(#clip220)\" d=\"M91.5706 444.109 L99.2095 444.109 L99.2095 417.744 L90.8993 419.41 L90.8993 415.151 L99.1632 413.484 L103.839 413.484 L103.839 444.109 L111.478 444.109 L111.478 448.044 L91.5706 448.044 L91.5706 444.109 Z\" fill=\"#000000\" fill-rule=\"nonzero\" fill-opacity=\"1\" /><path clip-path=\"url(#clip220)\" d=\"M130.922 416.563 Q127.311 416.563 125.482 420.128 Q123.677 423.67 123.677 430.799 Q123.677 437.906 125.482 441.47 Q127.311 445.012 130.922 445.012 Q134.556 445.012 136.362 441.47 Q138.191 437.906 138.191 430.799 Q138.191 423.67 136.362 420.128 Q134.556 416.563 130.922 416.563 M130.922 412.859 Q136.732 412.859 139.788 417.466 Q142.867 422.049 142.867 430.799 Q142.867 439.526 139.788 444.132 Q136.732 448.716 130.922 448.716 Q125.112 448.716 122.033 444.132 Q118.978 439.526 118.978 430.799 Q118.978 422.049 122.033 417.466 Q125.112 412.859 130.922 412.859 Z\" fill=\"#000000\" fill-rule=\"nonzero\" fill-opacity=\"1\" /><path clip-path=\"url(#clip220)\" d=\"M161.084 431.633 Q157.751 431.633 155.83 433.415 Q153.931 435.197 153.931 438.322 Q153.931 441.447 155.83 443.23 Q157.751 445.012 161.084 445.012 Q164.417 445.012 166.339 443.23 Q168.26 441.424 168.26 438.322 Q168.26 435.197 166.339 433.415 Q164.441 431.633 161.084 431.633 M156.408 429.642 Q153.399 428.901 151.709 426.841 Q150.043 424.781 150.043 421.818 Q150.043 417.674 152.982 415.267 Q155.945 412.859 161.084 412.859 Q166.246 412.859 169.186 415.267 Q172.126 417.674 172.126 421.818 Q172.126 424.781 170.436 426.841 Q168.769 428.901 165.783 429.642 Q169.163 430.429 171.038 432.72 Q172.936 435.012 172.936 438.322 Q172.936 443.345 169.857 446.031 Q166.802 448.716 161.084 448.716 Q155.367 448.716 152.288 446.031 Q149.232 443.345 149.232 438.322 Q149.232 435.012 151.13 432.72 Q153.029 430.429 156.408 429.642 M154.695 422.258 Q154.695 424.943 156.362 426.447 Q158.052 427.952 161.084 427.952 Q164.093 427.952 165.783 426.447 Q167.496 424.943 167.496 422.258 Q167.496 419.572 165.783 418.068 Q164.093 416.563 161.084 416.563 Q158.052 416.563 156.362 418.068 Q154.695 419.572 154.695 422.258 Z\" fill=\"#000000\" fill-rule=\"nonzero\" fill-opacity=\"1\" /><path clip-path=\"url(#clip220)\" d=\"M191.246 416.563 Q187.635 416.563 185.806 420.128 Q184.001 423.67 184.001 430.799 Q184.001 437.906 185.806 441.47 Q187.635 445.012 191.246 445.012 Q194.88 445.012 196.686 441.47 Q198.514 437.906 198.514 430.799 Q198.514 423.67 196.686 420.128 Q194.88 416.563 191.246 416.563 M191.246 412.859 Q197.056 412.859 200.112 417.466 Q203.19 422.049 203.19 430.799 Q203.19 439.526 200.112 444.132 Q197.056 448.716 191.246 448.716 Q185.436 448.716 182.357 444.132 Q179.302 439.526 179.302 430.799 Q179.302 422.049 182.357 417.466 Q185.436 412.859 191.246 412.859 Z\" fill=\"#000000\" fill-rule=\"nonzero\" fill-opacity=\"1\" /><path clip-path=\"url(#clip220)\" d=\"M221.408 416.563 Q217.797 416.563 215.968 420.128 Q214.163 423.67 214.163 430.799 Q214.163 437.906 215.968 441.47 Q217.797 445.012 221.408 445.012 Q225.042 445.012 226.848 441.47 Q228.676 437.906 228.676 430.799 Q228.676 423.67 226.848 420.128 Q225.042 416.563 221.408 416.563 M221.408 412.859 Q227.218 412.859 230.274 417.466 Q233.352 422.049 233.352 430.799 Q233.352 439.526 230.274 444.132 Q227.218 448.716 221.408 448.716 Q215.598 448.716 212.519 444.132 Q209.463 439.526 209.463 430.799 Q209.463 422.049 212.519 417.466 Q215.598 412.859 221.408 412.859 Z\" fill=\"#000000\" fill-rule=\"nonzero\" fill-opacity=\"1\" /><path clip-path=\"url(#clip220)\" d=\"M50.9921 184.402 L80.6679 184.402 L80.6679 188.337 L50.9921 188.337 L50.9921 184.402 Z\" fill=\"#000000\" fill-rule=\"nonzero\" fill-opacity=\"1\" /><path clip-path=\"url(#clip220)\" d=\"M91.5706 197.295 L99.2095 197.295 L99.2095 170.93 L90.8993 172.596 L90.8993 168.337 L99.1632 166.671 L103.839 166.671 L103.839 197.295 L111.478 197.295 L111.478 201.231 L91.5706 201.231 L91.5706 197.295 Z\" fill=\"#000000\" fill-rule=\"nonzero\" fill-opacity=\"1\" /><path clip-path=\"url(#clip220)\" d=\"M130.922 169.749 Q127.311 169.749 125.482 173.314 Q123.677 176.856 123.677 183.985 Q123.677 191.092 125.482 194.657 Q127.311 198.198 130.922 198.198 Q134.556 198.198 136.362 194.657 Q138.191 191.092 138.191 183.985 Q138.191 176.856 136.362 173.314 Q134.556 169.749 130.922 169.749 M130.922 166.046 Q136.732 166.046 139.788 170.652 Q142.867 175.235 142.867 183.985 Q142.867 192.712 139.788 197.319 Q136.732 201.902 130.922 201.902 Q125.112 201.902 122.033 197.319 Q118.978 192.712 118.978 183.985 Q118.978 175.235 122.033 170.652 Q125.112 166.046 130.922 166.046 Z\" fill=\"#000000\" fill-rule=\"nonzero\" fill-opacity=\"1\" /><path clip-path=\"url(#clip220)\" d=\"M149.904 166.671 L172.126 166.671 L172.126 168.661 L159.58 201.231 L154.695 201.231 L166.501 170.606 L149.904 170.606 L149.904 166.671 Z\" fill=\"#000000\" fill-rule=\"nonzero\" fill-opacity=\"1\" /><path clip-path=\"url(#clip220)\" d=\"M191.246 169.749 Q187.635 169.749 185.806 173.314 Q184.001 176.856 184.001 183.985 Q184.001 191.092 185.806 194.657 Q187.635 198.198 191.246 198.198 Q194.88 198.198 196.686 194.657 Q198.514 191.092 198.514 183.985 Q198.514 176.856 196.686 173.314 Q194.88 169.749 191.246 169.749 M191.246 166.046 Q197.056 166.046 200.112 170.652 Q203.19 175.235 203.19 183.985 Q203.19 192.712 200.112 197.319 Q197.056 201.902 191.246 201.902 Q185.436 201.902 182.357 197.319 Q179.302 192.712 179.302 183.985 Q179.302 175.235 182.357 170.652 Q185.436 166.046 191.246 166.046 Z\" fill=\"#000000\" fill-rule=\"nonzero\" fill-opacity=\"1\" /><path clip-path=\"url(#clip220)\" d=\"M221.408 169.749 Q217.797 169.749 215.968 173.314 Q214.163 176.856 214.163 183.985 Q214.163 191.092 215.968 194.657 Q217.797 198.198 221.408 198.198 Q225.042 198.198 226.848 194.657 Q228.676 191.092 228.676 183.985 Q228.676 176.856 226.848 173.314 Q225.042 169.749 221.408 169.749 M221.408 166.046 Q227.218 166.046 230.274 170.652 Q233.352 175.235 233.352 183.985 Q233.352 192.712 230.274 197.319 Q227.218 201.902 221.408 201.902 Q215.598 201.902 212.519 197.319 Q209.463 192.712 209.463 183.985 Q209.463 175.235 212.519 170.652 Q215.598 166.046 221.408 166.046 Z\" fill=\"#000000\" fill-rule=\"nonzero\" fill-opacity=\"1\" /><polyline clip-path=\"url(#clip222)\" style=\"stroke:#009af9; stroke-linecap:round; stroke-linejoin:round; stroke-width:4; stroke-opacity:1; fill:none\" points=\"328.317,1445.72 492.106,680.384 655.896,87.9763 819.685,169.798 983.475,586.295 1147.26,989.91 1311.05,1099.79 1474.84,1140.18 1638.63,1076.45 1802.42,994.981 1966.21,1052.5 2130,1047.56 2293.79,1047.56 \"/>\n",
       "<path clip-path=\"url(#clip220)\" d=\"M2022.54 198.898 L2283.31 198.898 L2283.31 95.2176 L2022.54 95.2176  Z\" fill=\"#ffffff\" fill-rule=\"evenodd\" fill-opacity=\"1\"/>\n",
       "<polyline clip-path=\"url(#clip220)\" style=\"stroke:#000000; stroke-linecap:round; stroke-linejoin:round; stroke-width:4; stroke-opacity:1; fill:none\" points=\"2022.54,198.898 2283.31,198.898 2283.31,95.2176 2022.54,95.2176 2022.54,198.898 \"/>\n",
       "<polyline clip-path=\"url(#clip220)\" style=\"stroke:#009af9; stroke-linecap:round; stroke-linejoin:round; stroke-width:4; stroke-opacity:1; fill:none\" points=\"2045.69,147.058 2184.58,147.058 \"/>\n",
       "<path clip-path=\"url(#clip220)\" d=\"M2221.57 166.745 Q2219.77 171.375 2218.05 172.787 Q2216.34 174.199 2213.47 174.199 L2210.07 174.199 L2210.07 170.634 L2212.57 170.634 Q2214.33 170.634 2215.3 169.8 Q2216.27 168.967 2217.45 165.865 L2218.22 163.921 L2207.73 138.412 L2212.24 138.412 L2220.35 158.689 L2228.45 138.412 L2232.96 138.412 L2221.57 166.745 Z\" fill=\"#000000\" fill-rule=\"nonzero\" fill-opacity=\"1\" /><path clip-path=\"url(#clip220)\" d=\"M2240.25 160.402 L2247.89 160.402 L2247.89 134.037 L2239.58 135.703 L2239.58 131.444 L2247.85 129.778 L2252.52 129.778 L2252.52 160.402 L2260.16 160.402 L2260.16 164.338 L2240.25 164.338 L2240.25 160.402 Z\" fill=\"#000000\" fill-rule=\"nonzero\" fill-opacity=\"1\" /></svg>\n"
      ]
     },
     "metadata": {},
     "output_type": "display_data"
    }
   ],
   "source": [
    "plot(ll[3:end])"
   ]
  },
  {
   "cell_type": "code",
   "execution_count": 13,
   "metadata": {},
   "outputs": [
    {
     "name": "stdout",
     "output_type": "stream",
     "text": [
      "[-0.7601516559611875; 0.008268807122744058;;]\n",
      "[-0.22355330480039334; 0.003684520938858917;;]\n",
      "[100; 100;;]\n",
      "[-100; -100;;]\n",
      "1.0e-12\n",
      "0.7743027072228642\n"
     ]
    }
   ],
   "source": [
    "println(est_model.B[1].β)\n",
    "println(est_model.B[2].β)\n",
    "\n",
    "println(model.B[1].β)\n",
    "println(model.B[2].β)\n",
    "\n",
    "\n",
    "println(est_model.B[1].Σ[1])\n",
    "println(est_model.B[2].Σ[1])"
   ]
  }
 ],
 "metadata": {
  "kernelspec": {
   "display_name": "Julia 1.10.1",
   "language": "julia",
   "name": "julia-1.10"
  },
  "language_info": {
   "file_extension": ".jl",
   "mimetype": "application/julia",
   "name": "julia",
   "version": "1.10.1"
  },
  "orig_nbformat": 4
 },
 "nbformat": 4,
 "nbformat_minor": 2
}
