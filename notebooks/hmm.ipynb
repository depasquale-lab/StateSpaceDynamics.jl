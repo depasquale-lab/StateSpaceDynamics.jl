{
 "cells": [
  {
   "cell_type": "code",
   "execution_count": 1,
   "metadata": {},
   "outputs": [
    {
     "data": {
      "text/plain": [
       "StateSpaceDynamics"
      ]
     },
     "metadata": {},
     "output_type": "display_data"
    }
   ],
   "source": [
    "using LinearAlgebra\n",
    "using Plots\n",
    "using Random\n",
    "using StateSpaceDynamics\n",
    "\n",
    "\n",
    "const SSD = StateSpaceDynamics"
   ]
  },
  {
   "cell_type": "code",
   "execution_count": 2,
   "metadata": {},
   "outputs": [
    {
     "name": "stderr",
     "output_type": "stream",
     "text": [
      "\u001b[32mRunning EM algorithm... 100%|██████████████████████████████████████████████████| Time: 0:00:11 (56.62 ms/it)\u001b[39m\u001b[K\n"
     ]
    },
    {
     "data": {
      "text/plain": [
       "20-element Vector{Float64}:\n",
       "    -Inf\n",
       "     -9.114432991262418e8\n",
       " -66953.11706962186\n",
       "  -2993.7593973008306\n",
       "  -2708.7986348388627\n",
       "  -2700.8040479694223\n",
       "  -2700.090840937881\n",
       "  -2700.0182298894733\n",
       "  -2700.0072868869015\n",
       "  -2700.004995099556\n",
       "  -2700.0045865831175\n",
       "  -2700.004672019829\n",
       "  -2700.0044488283816\n",
       "  -2700.0045121074813\n",
       "  -2700.0044731444777\n",
       "  -2700.004475762578\n",
       "  -2700.004465611673\n",
       "  -2700.0044797351875\n",
       "  -2700.0044708593814\n",
       "  -2700.004470715914"
      ]
     },
     "metadata": {},
     "output_type": "display_data"
    }
   ],
   "source": [
    "# Define parameters\n",
    "num_trials = 50  # Number of trials\n",
    "trial_length = 1000  # Number of time steps per trial\n",
    "\n",
    "# Create the emission models\n",
    "emission_1 = PoissonRegressionEmission(;\n",
    "    input_dim=3, output_dim=1, include_intercept=true, β=reshape([4, 3, 2, 4], :, 1)\n",
    ")\n",
    "emission_2 = PoissonRegressionEmission(;\n",
    "    input_dim=3, output_dim=1, include_intercept=true, β=reshape([-4, -2, 1, 3], :, 1)\n",
    ")\n",
    "\n",
    "# Initialize the SwitchingPoissonRegression model\n",
    "true_model = SwitchingPoissonRegression(; K=2, input_dim=3, output_dim=1)\n",
    "true_model.A = [0.9 0.1; 0.2 0.8]\n",
    "\n",
    "# Plug in the emission models\n",
    "true_model.B[1] = emission_1\n",
    "true_model.B[2] = emission_2\n",
    "\n",
    "# Create lists to hold data and labels for each trial\n",
    "Φ_trials = [randn(3, trial_length) for _ in 1:num_trials]  # Input features for each trial\n",
    "true_labels_trials = Vector{Vector{Int}}(undef, num_trials)\n",
    "data_trials = Vector{Matrix{Float64}}(undef, num_trials)\n",
    "\n",
    "# Sample data for each trial\n",
    "for i in 1:num_trials\n",
    "    true_labels_trials[i], data_trials[i] = StateSpaceDynamics.sample(\n",
    "        true_model, Φ_trials[i]; n=trial_length\n",
    "    )\n",
    "end\n",
    "\n",
    "# Create a new SwitchingPoissonRegression and try to recover parameters\n",
    "test_model = SwitchingPoissonRegression(; K=2, input_dim=3, output_dim=1)\n",
    "\n",
    "# Initialize the emission models for warm start\n",
    "emission_1 = PoissonRegressionEmission(;\n",
    "    input_dim=3,\n",
    "    output_dim=1,\n",
    "    include_intercept=true,\n",
    "    β=reshape([2.0, 1.0, 4.0, 2.0], :, 1),\n",
    ")\n",
    "emission_2 = PoissonRegressionEmission(;\n",
    "    input_dim=3,\n",
    "    output_dim=1,\n",
    "    include_intercept=true,\n",
    "    β=reshape([-5.0, -1.0, 0.0, 2.0], :, 1),\n",
    ")\n",
    "test_model.B[1], test_model.B[2] = emission_1, emission_2\n",
    "\n",
    "# Fit the model using data from all trials\n",
    "ll = StateSpaceDynamics.fit!(test_model, data_trials, Φ_trials; max_iters=200)"
   ]
  },
  {
   "cell_type": "code",
   "execution_count": 3,
   "metadata": {},
   "outputs": [],
   "source": [
    "function SSD.fit!(\n",
    "    model::HiddenMarkovModel,\n",
    "    Y::Vector{<:Matrix{<:Real}},\n",
    "    X::Union{Vector{<:Matrix{<:Real}},Nothing}=nothing;\n",
    "    max_iters::Int=100,\n",
    "    tol::Float64=1e-6,\n",
    ")\n",
    "    println(\"modified fit\")\n",
    "    lls = [-Inf]\n",
    "    data = X === nothing ? (Y,) : (X, Y)\n",
    "\n",
    "    # Initialize log_likelihood\n",
    "    log_likelihood = -Inf\n",
    "\n",
    "    # Transform each matrix in each tuple to the correct orientation\n",
    "    transposed_matrices = map(data_tuple -> Matrix.(transpose.(data_tuple)), data)\n",
    "    zipped_matrices = collect(zip(transposed_matrices...))\n",
    "    total_obs = sum(size(trial_mat[1], 1) for trial_mat in zipped_matrices)\n",
    "\n",
    "    # initialize a vector of ForwardBackward storage and an aggregate storage\n",
    "    FB_storage_vec = [SSD.initialize_forward_backward(model, size(trial_tuple[1],1)) for trial_tuple in zipped_matrices]\n",
    "    Aggregate_FB_storage = SSD.initialize_forward_backward(model, total_obs)\n",
    "\n",
    "    \n",
    "    for iter in 1:max_iters\n",
    "        # broadcast estep!() to all storage structs\n",
    "        output = SSD.estep!.(Ref(model), zipped_matrices, FB_storage_vec)\n",
    "\n",
    "        # collect storage stucts into one struct for m step\n",
    "        SSD.aggregate_forward_backward!(Aggregate_FB_storage, FB_storage_vec)\n",
    "\n",
    "        # Calculate log_likelihood\n",
    "        log_likelihood_current = SSD.logsumexp(Aggregate_FB_storage.α[:, end])\n",
    "        push!(lls, log_likelihood_current)\n",
    "\n",
    "        # Check for convergence\n",
    "        if abs(log_likelihood_current - log_likelihood) < tol\n",
    "            break\n",
    "        else\n",
    "            log_likelihood = log_likelihood_current\n",
    "        end\n",
    "\n",
    "        # Get data trial tuples stacked for mstep!()\n",
    "        stacked_data = SSD.stack_tuples(zipped_matrices)\n",
    "\n",
    "        # M_step\n",
    "        SSD.mstep!(model, FB_storage_vec, Aggregate_FB_storage, stacked_data)\n",
    "    end\n",
    "\n",
    "    return lls, FB_storage_vec\n",
    "end"
   ]
  },
  {
   "cell_type": "code",
   "execution_count": null,
   "metadata": {},
   "outputs": [],
   "source": [
    "# function update_transition_matrix!(\n",
    "#     model::HiddenMarkovModel, FB_storage_vec::Vector{SSD.ForwardBackward{Float64}}\n",
    "# )\n",
    "#     println(\"Bishop PRML Transition Update\")\n",
    "#     for j in 1:(model.K)\n",
    "#         for k in 1:(model.K)\n",
    "#             # num = exp(SSD.logsumexp([FB_trial.ξ[j, k, 2:end] for FB_trial in FB_storage_vec]))\n",
    "#             num = exp(SSD.logsumexp(vcat([FB_trial.ξ[j, k, 2:end] for FB_trial in FB_storage_vec]...)))\n",
    "#             denom = sum(exp.(SSD.logsumexp(vcat([FB_trial.ξ[j, :, 2:end] for FB_trial in FB_storage_vec]...))))\n",
    "#             model.A[j,k] = num / denom\n",
    "#         end\n",
    "#     end\n",
    "# end\n",
    "\n",
    "# function SSD.mstep!(model::HiddenMarkovModel, FB_storage_vec::Vector{SSD.ForwardBackward{Float64}}, Aggregate_FB_storage::SSD.ForwardBackward, data)\n",
    "#     # update initial state distribution\n",
    "#     SSD.update_initial_state_distribution!(model, FB_storage_vec)\n",
    "#     # update transition matrix\n",
    "#     SSD.update_transition_matrix!(model, Aggregate_FB_storage)\n",
    "#     # update regression models\n",
    "#     SSD.update_emissions!(model, Aggregate_FB_storage, data)\n",
    "# end"
   ]
  },
  {
   "cell_type": "code",
   "execution_count": 4,
   "metadata": {},
   "outputs": [
    {
     "name": "stdout",
     "output_type": "stream",
     "text": [
      "modified fit\n",
      "Bishop PRML Transition Update\n",
      "Bishop PRML Transition Update\n",
      "Bishop PRML Transition Update\n",
      "Bishop PRML Transition Update\n",
      "falsefalse"
     ]
    }
   ],
   "source": [
    "# Create Emission Models\n",
    "emission_1 = GaussianRegressionEmission(input_dim=2, output_dim=5, include_intercept=true, β=50*rand(3, 5))\n",
    "emission_2 = GaussianRegressionEmission(input_dim=2, output_dim=5, include_intercept=true, β=-30*rand(3, 5))\n",
    "\n",
    "# Create Switching Regression Model\n",
    "true_model = SwitchingGaussianRegression(K=2, input_dim=2, output_dim=5, include_intercept=true)\n",
    "# true_model.A = [0.6 0.4; 0.3 0.7]\n",
    "\n",
    "# Plug in the emission models\n",
    "true_model.B[1] = emission_1\n",
    "true_model.B[2] = emission_2\n",
    "\n",
    "# Sample trials from the model 100 time points 50 trials or something\n",
    "num_trials = 5  # Number of times you want to sample\n",
    "n = 10\n",
    "\n",
    "\n",
    "all_labels = Vector{Matrix{Int}}()  # Store each true_labels matrix\n",
    "all_data = Vector{Matrix{Float64}}()  # Store each data matrix\n",
    "Φ_total = Vector{Matrix{Float64}}()\n",
    "\n",
    "for _ in 1:num_trials\n",
    "    Φ = randn(2, n)\n",
    "    true_labels, data = SSD.sample(true_model, Φ, n=n)\n",
    "    # push!(all_labels, true_labels)\n",
    "    push!(all_data, data)\n",
    "    push!(Φ_total, Φ)\n",
    "end\n",
    "\n",
    "\n",
    "# # Try to fit a new model to the data\n",
    "test_model = SSD.SwitchingGaussianRegression(K=2, input_dim=2, output_dim=5, include_intercept=true)\n",
    "test_model.A = [.1111 0.9999; 0.2222 0.8888]\n",
    "ll, FB_storage_vec = SSD.fit!(test_model, all_data, Φ_total; max_iters=10)\n",
    "\n",
    "# # # Test output -> not quite right yet\n",
    "print(isapprox(test_model.B[1].β, true_model.B[1].β, atol=0.1) || isapprox(test_model.B[1].β, true_model.B[2].β, atol=0.1))\n",
    "print(isapprox(test_model.B[2].β, true_model.B[2].β, atol=0.1) || isapprox(test_model.B[2].β, true_model.B[1].β, atol=0.1))"
   ]
  },
  {
   "cell_type": "code",
   "execution_count": 5,
   "metadata": {},
   "outputs": [
    {
     "data": {
      "image/png": "[encoded data removed]",
      "image/svg+xml": [
       "<?xml version=\"1.0\" encoding=\"utf-8\"?>\n",
       "<svg xmlns=\"http://www.w3.org/2000/svg\" xmlns:xlink=\"http://www.w3.org/1999/xlink\" width=\"600\" height=\"400\" viewBox=\"0 0 2400 1600\">\n",
       "<defs>\n",
       "  <clipPath id=\"clip480\">\n",
       "    <rect x=\"0\" y=\"0\" width=\"2400\" height=\"1600\"/>\n",
       "  </clipPath>\n",
       "</defs>\n",
       "<path clip-path=\"url(#clip480)\" d=\"M0 1600 L2400 1600 L2400 0 L0 0  Z\" fill=\"#ffffff\" fill-rule=\"evenodd\" fill-opacity=\"1\"/>\n",
       "<defs>\n",
       "  <clipPath id=\"clip481\">\n",
       "    <rect x=\"480\" y=\"0\" width=\"1681\" height=\"1600\"/>\n",
       "  </clipPath>\n",
       "</defs>\n",
       "<path clip-path=\"url(#clip480)\" d=\"M344.606 1486.45 L2352.76 1486.45 L2352.76 47.2441 L344.606 47.2441  Z\" fill=\"#ffffff\" fill-rule=\"evenodd\" fill-opacity=\"1\"/>\n",
       "<defs>\n",
       "  <clipPath id=\"clip482\">\n",
       "    <rect x=\"344\" y=\"47\" width=\"2009\" height=\"1440\"/>\n",
       "  </clipPath>\n",
       "</defs>\n",
       "<polyline clip-path=\"url(#clip482)\" style=\"stroke:#000000; stroke-linecap:round; stroke-linejoin:round; stroke-width:2; stroke-opacity:0.1; fill:none\" points=\"401.441,1486.45 401.441,47.2441 \"/>\n",
       "<polyline clip-path=\"url(#clip482)\" style=\"stroke:#000000; stroke-linecap:round; stroke-linejoin:round; stroke-width:2; stroke-opacity:0.1; fill:none\" points=\"780.337,1486.45 780.337,47.2441 \"/>\n",
       "<polyline clip-path=\"url(#clip482)\" style=\"stroke:#000000; stroke-linecap:round; stroke-linejoin:round; stroke-width:2; stroke-opacity:0.1; fill:none\" points=\"1159.23,1486.45 1159.23,47.2441 \"/>\n",
       "<polyline clip-path=\"url(#clip482)\" style=\"stroke:#000000; stroke-linecap:round; stroke-linejoin:round; stroke-width:2; stroke-opacity:0.1; fill:none\" points=\"1538.13,1486.45 1538.13,47.2441 \"/>\n",
       "<polyline clip-path=\"url(#clip482)\" style=\"stroke:#000000; stroke-linecap:round; stroke-linejoin:round; stroke-width:2; stroke-opacity:0.1; fill:none\" points=\"1917.03,1486.45 1917.03,47.2441 \"/>\n",
       "<polyline clip-path=\"url(#clip482)\" style=\"stroke:#000000; stroke-linecap:round; stroke-linejoin:round; stroke-width:2; stroke-opacity:0.1; fill:none\" points=\"2295.92,1486.45 2295.92,47.2441 \"/>\n",
       "<polyline clip-path=\"url(#clip482)\" style=\"stroke:#000000; stroke-linecap:round; stroke-linejoin:round; stroke-width:2; stroke-opacity:0.1; fill:none\" points=\"344.606,1205.07 2352.76,1205.07 \"/>\n",
       "<polyline clip-path=\"url(#clip482)\" style=\"stroke:#000000; stroke-linecap:round; stroke-linejoin:round; stroke-width:2; stroke-opacity:0.1; fill:none\" points=\"344.606,832.076 2352.76,832.076 \"/>\n",
       "<polyline clip-path=\"url(#clip482)\" style=\"stroke:#000000; stroke-linecap:round; stroke-linejoin:round; stroke-width:2; stroke-opacity:0.1; fill:none\" points=\"344.606,459.082 2352.76,459.082 \"/>\n",
       "<polyline clip-path=\"url(#clip482)\" style=\"stroke:#000000; stroke-linecap:round; stroke-linejoin:round; stroke-width:2; stroke-opacity:0.1; fill:none\" points=\"344.606,86.0869 2352.76,86.0869 \"/>\n",
       "<polyline clip-path=\"url(#clip480)\" style=\"stroke:#000000; stroke-linecap:round; stroke-linejoin:round; stroke-width:4; stroke-opacity:1; fill:none\" points=\"344.606,1486.45 2352.76,1486.45 \"/>\n",
       "<polyline clip-path=\"url(#clip480)\" style=\"stroke:#000000; stroke-linecap:round; stroke-linejoin:round; stroke-width:4; stroke-opacity:1; fill:none\" points=\"401.441,1486.45 401.441,1467.55 \"/>\n",
       "<polyline clip-path=\"url(#clip480)\" style=\"stroke:#000000; stroke-linecap:round; stroke-linejoin:round; stroke-width:4; stroke-opacity:1; fill:none\" points=\"780.337,1486.45 780.337,1467.55 \"/>\n",
       "<polyline clip-path=\"url(#clip480)\" style=\"stroke:#000000; stroke-linecap:round; stroke-linejoin:round; stroke-width:4; stroke-opacity:1; fill:none\" points=\"1159.23,1486.45 1159.23,1467.55 \"/>\n",
       "<polyline clip-path=\"url(#clip480)\" style=\"stroke:#000000; stroke-linecap:round; stroke-linejoin:round; stroke-width:4; stroke-opacity:1; fill:none\" points=\"1538.13,1486.45 1538.13,1467.55 \"/>\n",
       "<polyline clip-path=\"url(#clip480)\" style=\"stroke:#000000; stroke-linecap:round; stroke-linejoin:round; stroke-width:4; stroke-opacity:1; fill:none\" points=\"1917.03,1486.45 1917.03,1467.55 \"/>\n",
       "<polyline clip-path=\"url(#clip480)\" style=\"stroke:#000000; stroke-linecap:round; stroke-linejoin:round; stroke-width:4; stroke-opacity:1; fill:none\" points=\"2295.92,1486.45 2295.92,1467.55 \"/>\n",
       "<path clip-path=\"url(#clip480)\" d=\"M391.823 1544.91 L399.462 1544.91 L399.462 1518.55 L391.152 1520.21 L391.152 1515.95 L399.415 1514.29 L404.091 1514.29 L404.091 1544.91 L411.73 1544.91 L411.73 1548.85 L391.823 1548.85 L391.823 1544.91 Z\" fill=\"#000000\" fill-rule=\"nonzero\" fill-opacity=\"1\" /><path clip-path=\"url(#clip480)\" d=\"M774.99 1544.91 L791.309 1544.91 L791.309 1548.85 L769.365 1548.85 L769.365 1544.91 Q772.027 1542.16 776.61 1537.53 Q781.217 1532.88 782.397 1531.53 Q784.643 1529.01 785.522 1527.27 Q786.425 1525.51 786.425 1523.82 Q786.425 1521.07 784.481 1519.33 Q782.559 1517.6 779.457 1517.6 Q777.258 1517.6 774.805 1518.36 Q772.374 1519.13 769.596 1520.68 L769.596 1515.95 Q772.42 1514.82 774.874 1514.24 Q777.328 1513.66 779.365 1513.66 Q784.735 1513.66 787.93 1516.35 Q791.124 1519.03 791.124 1523.52 Q791.124 1525.65 790.314 1527.57 Q789.527 1529.47 787.42 1532.07 Q786.842 1532.74 783.74 1535.95 Q780.638 1539.15 774.99 1544.91 Z\" fill=\"#000000\" fill-rule=\"nonzero\" fill-opacity=\"1\" /><path clip-path=\"url(#clip480)\" d=\"M1163.48 1530.21 Q1166.84 1530.93 1168.71 1533.2 Q1170.61 1535.47 1170.61 1538.8 Q1170.61 1543.92 1167.09 1546.72 Q1163.57 1549.52 1157.09 1549.52 Q1154.92 1549.52 1152.6 1549.08 Q1150.31 1548.66 1147.86 1547.81 L1147.86 1543.29 Q1149.8 1544.43 1152.12 1545.01 Q1154.43 1545.58 1156.95 1545.58 Q1161.35 1545.58 1163.64 1543.85 Q1165.96 1542.11 1165.96 1538.8 Q1165.96 1535.75 1163.8 1534.03 Q1161.68 1532.3 1157.86 1532.3 L1153.83 1532.3 L1153.83 1528.45 L1158.04 1528.45 Q1161.49 1528.45 1163.32 1527.09 Q1165.15 1525.7 1165.15 1523.11 Q1165.15 1520.45 1163.25 1519.03 Q1161.37 1517.6 1157.86 1517.6 Q1155.93 1517.6 1153.74 1518.01 Q1151.54 1518.43 1148.9 1519.31 L1148.9 1515.14 Q1151.56 1514.4 1153.87 1514.03 Q1156.21 1513.66 1158.27 1513.66 Q1163.6 1513.66 1166.7 1516.09 Q1169.8 1518.5 1169.8 1522.62 Q1169.8 1525.49 1168.16 1527.48 Q1166.51 1529.45 1163.48 1530.21 Z\" fill=\"#000000\" fill-rule=\"nonzero\" fill-opacity=\"1\" /><path clip-path=\"url(#clip480)\" d=\"M1541.14 1518.36 L1529.33 1536.81 L1541.14 1536.81 L1541.14 1518.36 M1539.91 1514.29 L1545.79 1514.29 L1545.79 1536.81 L1550.72 1536.81 L1550.72 1540.7 L1545.79 1540.7 L1545.79 1548.85 L1541.14 1548.85 L1541.14 1540.7 L1525.54 1540.7 L1525.54 1536.19 L1539.91 1514.29 Z\" fill=\"#000000\" fill-rule=\"nonzero\" fill-opacity=\"1\" /><path clip-path=\"url(#clip480)\" d=\"M1907.3 1514.29 L1925.66 1514.29 L1925.66 1518.22 L1911.59 1518.22 L1911.59 1526.7 Q1912.6 1526.35 1913.62 1526.19 Q1914.64 1526 1915.66 1526 Q1921.45 1526 1924.83 1529.17 Q1928.21 1532.34 1928.21 1537.76 Q1928.21 1543.34 1924.73 1546.44 Q1921.26 1549.52 1914.94 1549.52 Q1912.77 1549.52 1910.5 1549.15 Q1908.25 1548.78 1905.84 1548.04 L1905.84 1543.34 Q1907.93 1544.47 1910.15 1545.03 Q1912.37 1545.58 1914.85 1545.58 Q1918.85 1545.58 1921.19 1543.48 Q1923.53 1541.37 1923.53 1537.76 Q1923.53 1534.15 1921.19 1532.04 Q1918.85 1529.94 1914.85 1529.94 Q1912.97 1529.94 1911.1 1530.35 Q1909.25 1530.77 1907.3 1531.65 L1907.3 1514.29 Z\" fill=\"#000000\" fill-rule=\"nonzero\" fill-opacity=\"1\" /><path clip-path=\"url(#clip480)\" d=\"M2296.33 1529.7 Q2293.18 1529.7 2291.33 1531.86 Q2289.5 1534.01 2289.5 1537.76 Q2289.5 1541.49 2291.33 1543.66 Q2293.18 1545.82 2296.33 1545.82 Q2299.47 1545.82 2301.3 1543.66 Q2303.16 1541.49 2303.16 1537.76 Q2303.16 1534.01 2301.3 1531.86 Q2299.47 1529.7 2296.33 1529.7 M2305.61 1515.05 L2305.61 1519.31 Q2303.85 1518.48 2302.04 1518.04 Q2300.26 1517.6 2298.5 1517.6 Q2293.87 1517.6 2291.42 1520.72 Q2288.99 1523.85 2288.64 1530.17 Q2290.01 1528.15 2292.07 1527.09 Q2294.13 1526 2296.6 1526 Q2301.81 1526 2304.82 1529.17 Q2307.85 1532.32 2307.85 1537.76 Q2307.85 1543.08 2304.71 1546.3 Q2301.56 1549.52 2296.33 1549.52 Q2290.33 1549.52 2287.16 1544.94 Q2283.99 1540.33 2283.99 1531.6 Q2283.99 1523.41 2287.88 1518.55 Q2291.77 1513.66 2298.32 1513.66 Q2300.08 1513.66 2301.86 1514.01 Q2303.66 1514.36 2305.61 1515.05 Z\" fill=\"#000000\" fill-rule=\"nonzero\" fill-opacity=\"1\" /><polyline clip-path=\"url(#clip480)\" style=\"stroke:#000000; stroke-linecap:round; stroke-linejoin:round; stroke-width:4; stroke-opacity:1; fill:none\" points=\"344.606,1486.45 344.606,47.2441 \"/>\n",
       "<polyline clip-path=\"url(#clip480)\" style=\"stroke:#000000; stroke-linecap:round; stroke-linejoin:round; stroke-width:4; stroke-opacity:1; fill:none\" points=\"344.606,1205.07 363.504,1205.07 \"/>\n",
       "<polyline clip-path=\"url(#clip480)\" style=\"stroke:#000000; stroke-linecap:round; stroke-linejoin:round; stroke-width:4; stroke-opacity:1; fill:none\" points=\"344.606,832.076 363.504,832.076 \"/>\n",
       "<polyline clip-path=\"url(#clip480)\" style=\"stroke:#000000; stroke-linecap:round; stroke-linejoin:round; stroke-width:4; stroke-opacity:1; fill:none\" points=\"344.606,459.082 363.504,459.082 \"/>\n",
       "<polyline clip-path=\"url(#clip480)\" style=\"stroke:#000000; stroke-linecap:round; stroke-linejoin:round; stroke-width:4; stroke-opacity:1; fill:none\" points=\"344.606,86.0869 363.504,86.0869 \"/>\n",
       "<path clip-path=\"url(#clip480)\" d=\"M50.9921 1211.97 L80.6679 1211.97 L80.6679 1215.91 L50.9921 1215.91 L50.9921 1211.97 Z\" fill=\"#000000\" fill-rule=\"nonzero\" fill-opacity=\"1\" /><path clip-path=\"url(#clip480)\" d=\"M91.5706 1224.86 L99.2095 1224.86 L99.2095 1198.5 L90.8993 1200.16 L90.8993 1195.91 L99.1632 1194.24 L103.839 1194.24 L103.839 1224.86 L111.478 1224.86 L111.478 1228.8 L91.5706 1228.8 L91.5706 1224.86 Z\" fill=\"#000000\" fill-rule=\"nonzero\" fill-opacity=\"1\" /><path clip-path=\"url(#clip480)\" d=\"M120.922 1222.92 L125.807 1222.92 L125.807 1228.8 L120.922 1228.8 L120.922 1222.92 Z\" fill=\"#000000\" fill-rule=\"nonzero\" fill-opacity=\"1\" /><path clip-path=\"url(#clip480)\" d=\"M136.038 1194.24 L154.394 1194.24 L154.394 1198.17 L140.32 1198.17 L140.32 1206.65 Q141.339 1206.3 142.357 1206.14 Q143.376 1205.95 144.394 1205.95 Q150.181 1205.95 153.561 1209.12 Q156.941 1212.29 156.941 1217.71 Q156.941 1223.29 153.468 1226.39 Q149.996 1229.47 143.677 1229.47 Q141.501 1229.47 139.232 1229.1 Q136.987 1228.73 134.58 1227.99 L134.58 1223.29 Q136.663 1224.42 138.885 1224.98 Q141.107 1225.53 143.584 1225.53 Q147.589 1225.53 149.927 1223.43 Q152.265 1221.32 152.265 1217.71 Q152.265 1214.1 149.927 1211.99 Q147.589 1209.89 143.584 1209.89 Q141.709 1209.89 139.834 1210.3 Q137.982 1210.72 136.038 1211.6 L136.038 1194.24 Z\" fill=\"#000000\" fill-rule=\"nonzero\" fill-opacity=\"1\" /><path clip-path=\"url(#clip480)\" d=\"M176.153 1197.32 Q172.542 1197.32 170.714 1200.88 Q168.908 1204.42 168.908 1211.55 Q168.908 1218.66 170.714 1222.22 Q172.542 1225.77 176.153 1225.77 Q179.788 1225.77 181.593 1222.22 Q183.422 1218.66 183.422 1211.55 Q183.422 1204.42 181.593 1200.88 Q179.788 1197.32 176.153 1197.32 M176.153 1193.61 Q181.964 1193.61 185.019 1198.22 Q188.098 1202.8 188.098 1211.55 Q188.098 1220.28 185.019 1224.89 Q181.964 1229.47 176.153 1229.47 Q170.343 1229.47 167.265 1224.89 Q164.209 1220.28 164.209 1211.55 Q164.209 1202.8 167.265 1198.22 Q170.343 1193.61 176.153 1193.61 Z\" fill=\"#000000\" fill-rule=\"nonzero\" fill-opacity=\"1\" /><path clip-path=\"url(#clip480)\" d=\"M224.487 1203.34 L213.908 1213.96 L224.487 1224.54 L221.732 1227.34 L211.107 1216.72 L200.482 1227.34 L197.751 1224.54 L208.306 1213.96 L197.751 1203.34 L200.482 1200.53 L211.107 1211.16 L221.732 1200.53 L224.487 1203.34 Z\" fill=\"#000000\" fill-rule=\"nonzero\" fill-opacity=\"1\" /><path clip-path=\"url(#clip480)\" d=\"M236.848 1224.86 L244.486 1224.86 L244.486 1198.5 L236.176 1200.16 L236.176 1195.91 L244.44 1194.24 L249.116 1194.24 L249.116 1224.86 L256.755 1224.86 L256.755 1228.8 L236.848 1228.8 L236.848 1224.86 Z\" fill=\"#000000\" fill-rule=\"nonzero\" fill-opacity=\"1\" /><path clip-path=\"url(#clip480)\" d=\"M276.199 1197.32 Q272.588 1197.32 270.759 1200.88 Q268.954 1204.42 268.954 1211.55 Q268.954 1218.66 270.759 1222.22 Q272.588 1225.77 276.199 1225.77 Q279.833 1225.77 281.639 1222.22 Q283.468 1218.66 283.468 1211.55 Q283.468 1204.42 281.639 1200.88 Q279.833 1197.32 276.199 1197.32 M276.199 1193.61 Q282.009 1193.61 285.065 1198.22 Q288.144 1202.8 288.144 1211.55 Q288.144 1220.28 285.065 1224.89 Q282.009 1229.47 276.199 1229.47 Q270.389 1229.47 267.31 1224.89 Q264.255 1220.28 264.255 1211.55 Q264.255 1202.8 267.31 1198.22 Q270.389 1193.61 276.199 1193.61 Z\" fill=\"#000000\" fill-rule=\"nonzero\" fill-opacity=\"1\" /><path clip-path=\"url(#clip480)\" d=\"M300.82 1176.62 L291.228 1191.61 L300.82 1191.61 L300.82 1176.62 M299.823 1173.31 L304.6 1173.31 L304.6 1191.61 L308.606 1191.61 L308.606 1194.77 L304.6 1194.77 L304.6 1201.39 L300.82 1201.39 L300.82 1194.77 L288.144 1194.77 L288.144 1191.1 L299.823 1173.31 Z\" fill=\"#000000\" fill-rule=\"nonzero\" fill-opacity=\"1\" /><path clip-path=\"url(#clip480)\" d=\"M50.9921 838.975 L80.6679 838.975 L80.6679 842.91 L50.9921 842.91 L50.9921 838.975 Z\" fill=\"#000000\" fill-rule=\"nonzero\" fill-opacity=\"1\" /><path clip-path=\"url(#clip480)\" d=\"M91.5706 851.869 L99.2095 851.869 L99.2095 825.503 L90.8993 827.17 L90.8993 822.911 L99.1632 821.244 L103.839 821.244 L103.839 851.869 L111.478 851.869 L111.478 855.804 L91.5706 855.804 L91.5706 851.869 Z\" fill=\"#000000\" fill-rule=\"nonzero\" fill-opacity=\"1\" /><path clip-path=\"url(#clip480)\" d=\"M120.922 849.924 L125.807 849.924 L125.807 855.804 L120.922 855.804 L120.922 849.924 Z\" fill=\"#000000\" fill-rule=\"nonzero\" fill-opacity=\"1\" /><path clip-path=\"url(#clip480)\" d=\"M145.992 824.323 Q142.381 824.323 140.552 827.887 Q138.746 831.429 138.746 838.559 Q138.746 845.665 140.552 849.23 Q142.381 852.771 145.992 852.771 Q149.626 852.771 151.431 849.23 Q153.26 845.665 153.26 838.559 Q153.26 831.429 151.431 827.887 Q149.626 824.323 145.992 824.323 M145.992 820.619 Q151.802 820.619 154.857 825.225 Q157.936 829.809 157.936 838.559 Q157.936 847.285 154.857 851.892 Q151.802 856.475 145.992 856.475 Q140.181 856.475 137.103 851.892 Q134.047 847.285 134.047 838.559 Q134.047 829.809 137.103 825.225 Q140.181 820.619 145.992 820.619 Z\" fill=\"#000000\" fill-rule=\"nonzero\" fill-opacity=\"1\" /><path clip-path=\"url(#clip480)\" d=\"M176.153 824.323 Q172.542 824.323 170.714 827.887 Q168.908 831.429 168.908 838.559 Q168.908 845.665 170.714 849.23 Q172.542 852.771 176.153 852.771 Q179.788 852.771 181.593 849.23 Q183.422 845.665 183.422 838.559 Q183.422 831.429 181.593 827.887 Q179.788 824.323 176.153 824.323 M176.153 820.619 Q181.964 820.619 185.019 825.225 Q188.098 829.809 188.098 838.559 Q188.098 847.285 185.019 851.892 Q181.964 856.475 176.153 856.475 Q170.343 856.475 167.265 851.892 Q164.209 847.285 164.209 838.559 Q164.209 829.809 167.265 825.225 Q170.343 820.619 176.153 820.619 Z\" fill=\"#000000\" fill-rule=\"nonzero\" fill-opacity=\"1\" /><path clip-path=\"url(#clip480)\" d=\"M224.487 830.341 L213.908 840.966 L224.487 851.545 L221.732 854.346 L211.107 843.721 L200.482 854.346 L197.751 851.545 L208.306 840.966 L197.751 830.341 L200.482 827.54 L211.107 838.165 L221.732 827.54 L224.487 830.341 Z\" fill=\"#000000\" fill-rule=\"nonzero\" fill-opacity=\"1\" /><path clip-path=\"url(#clip480)\" d=\"M236.848 851.869 L244.486 851.869 L244.486 825.503 L236.176 827.17 L236.176 822.911 L244.44 821.244 L249.116 821.244 L249.116 851.869 L256.755 851.869 L256.755 855.804 L236.848 855.804 L236.848 851.869 Z\" fill=\"#000000\" fill-rule=\"nonzero\" fill-opacity=\"1\" /><path clip-path=\"url(#clip480)\" d=\"M276.199 824.323 Q272.588 824.323 270.759 827.887 Q268.954 831.429 268.954 838.559 Q268.954 845.665 270.759 849.23 Q272.588 852.771 276.199 852.771 Q279.833 852.771 281.639 849.23 Q283.468 845.665 283.468 838.559 Q283.468 831.429 281.639 827.887 Q279.833 824.323 276.199 824.323 M276.199 820.619 Q282.009 820.619 285.065 825.225 Q288.144 829.809 288.144 838.559 Q288.144 847.285 285.065 851.892 Q282.009 856.475 276.199 856.475 Q270.389 856.475 267.31 851.892 Q264.255 847.285 264.255 838.559 Q264.255 829.809 267.31 825.225 Q270.389 820.619 276.199 820.619 Z\" fill=\"#000000\" fill-rule=\"nonzero\" fill-opacity=\"1\" /><path clip-path=\"url(#clip480)\" d=\"M300.82 803.624 L291.228 818.613 L300.82 818.613 L300.82 803.624 M299.823 800.313 L304.6 800.313 L304.6 818.613 L308.606 818.613 L308.606 821.773 L304.6 821.773 L304.6 828.393 L300.82 828.393 L300.82 821.773 L288.144 821.773 L288.144 818.106 L299.823 800.313 Z\" fill=\"#000000\" fill-rule=\"nonzero\" fill-opacity=\"1\" /><path clip-path=\"url(#clip480)\" d=\"M52.9669 465.981 L82.6427 465.981 L82.6427 469.916 L52.9669 469.916 L52.9669 465.981 Z\" fill=\"#000000\" fill-rule=\"nonzero\" fill-opacity=\"1\" /><path clip-path=\"url(#clip480)\" d=\"M92.7815 448.249 L111.138 448.249 L111.138 452.184 L97.0639 452.184 L97.0639 460.657 Q98.0824 460.309 99.101 460.147 Q100.119 459.962 101.138 459.962 Q106.925 459.962 110.305 463.133 Q113.684 466.305 113.684 471.721 Q113.684 477.3 110.212 480.402 Q106.74 483.48 100.42 483.48 Q98.2445 483.48 95.976 483.11 Q93.7306 482.74 91.3232 481.999 L91.3232 477.3 Q93.4065 478.434 95.6288 478.99 Q97.851 479.545 100.328 479.545 Q104.332 479.545 106.67 477.439 Q109.008 475.332 109.008 471.721 Q109.008 468.11 106.67 466.004 Q104.332 463.897 100.328 463.897 Q98.4528 463.897 96.5778 464.314 Q94.726 464.731 92.7815 465.61 L92.7815 448.249 Z\" fill=\"#000000\" fill-rule=\"nonzero\" fill-opacity=\"1\" /><path clip-path=\"url(#clip480)\" d=\"M122.897 476.93 L127.781 476.93 L127.781 482.809 L122.897 482.809 L122.897 476.93 Z\" fill=\"#000000\" fill-rule=\"nonzero\" fill-opacity=\"1\" /><path clip-path=\"url(#clip480)\" d=\"M147.966 451.328 Q144.355 451.328 142.527 454.893 Q140.721 458.434 140.721 465.564 Q140.721 472.67 142.527 476.235 Q144.355 479.777 147.966 479.777 Q151.601 479.777 153.406 476.235 Q155.235 472.67 155.235 465.564 Q155.235 458.434 153.406 454.893 Q151.601 451.328 147.966 451.328 M147.966 447.624 Q153.777 447.624 156.832 452.231 Q159.911 456.814 159.911 465.564 Q159.911 474.291 156.832 478.897 Q153.777 483.48 147.966 483.48 Q142.156 483.48 139.078 478.897 Q136.022 474.291 136.022 465.564 Q136.022 456.814 139.078 452.231 Q142.156 447.624 147.966 447.624 Z\" fill=\"#000000\" fill-rule=\"nonzero\" fill-opacity=\"1\" /><path clip-path=\"url(#clip480)\" d=\"M178.128 451.328 Q174.517 451.328 172.689 454.893 Q170.883 458.434 170.883 465.564 Q170.883 472.67 172.689 476.235 Q174.517 479.777 178.128 479.777 Q181.763 479.777 183.568 476.235 Q185.397 472.67 185.397 465.564 Q185.397 458.434 183.568 454.893 Q181.763 451.328 178.128 451.328 M178.128 447.624 Q183.938 447.624 186.994 452.231 Q190.073 456.814 190.073 465.564 Q190.073 474.291 186.994 478.897 Q183.938 483.48 178.128 483.48 Q172.318 483.48 169.239 478.897 Q166.184 474.291 166.184 465.564 Q166.184 456.814 169.239 452.231 Q172.318 447.624 178.128 447.624 Z\" fill=\"#000000\" fill-rule=\"nonzero\" fill-opacity=\"1\" /><path clip-path=\"url(#clip480)\" d=\"M226.461 457.346 L215.883 467.971 L226.461 478.55 L223.707 481.351 L213.082 470.726 L202.457 481.351 L199.725 478.55 L210.281 467.971 L199.725 457.346 L202.457 454.545 L213.082 465.17 L223.707 454.545 L226.461 457.346 Z\" fill=\"#000000\" fill-rule=\"nonzero\" fill-opacity=\"1\" /><path clip-path=\"url(#clip480)\" d=\"M238.822 478.874 L246.461 478.874 L246.461 452.508 L238.151 454.175 L238.151 449.916 L246.415 448.249 L251.091 448.249 L251.091 478.874 L258.73 478.874 L258.73 482.809 L238.822 482.809 L238.822 478.874 Z\" fill=\"#000000\" fill-rule=\"nonzero\" fill-opacity=\"1\" /><path clip-path=\"url(#clip480)\" d=\"M278.174 451.328 Q274.563 451.328 272.734 454.893 Q270.929 458.434 270.929 465.564 Q270.929 472.67 272.734 476.235 Q274.563 479.777 278.174 479.777 Q281.808 479.777 283.614 476.235 Q285.443 472.67 285.443 465.564 Q285.443 458.434 283.614 454.893 Q281.808 451.328 278.174 451.328 M278.174 447.624 Q283.984 447.624 287.04 452.231 Q290.118 456.814 290.118 465.564 Q290.118 474.291 287.04 478.897 Q283.984 483.48 278.174 483.48 Q272.364 483.48 269.285 478.897 Q266.23 474.291 266.23 465.564 Q266.23 456.814 269.285 452.231 Q272.364 447.624 278.174 447.624 Z\" fill=\"#000000\" fill-rule=\"nonzero\" fill-opacity=\"1\" /><path clip-path=\"url(#clip480)\" d=\"M302.814 440.259 Q305.541 440.842 307.064 442.685 Q308.606 444.528 308.606 447.236 Q308.606 451.393 305.748 453.668 Q302.889 455.944 297.623 455.944 Q295.855 455.944 293.974 455.587 Q292.112 455.248 290.118 454.552 L290.118 450.885 Q291.698 451.806 293.579 452.277 Q295.46 452.747 297.51 452.747 Q301.083 452.747 302.945 451.336 Q304.826 449.926 304.826 447.236 Q304.826 444.754 303.077 443.362 Q301.347 441.951 298.243 441.951 L294.971 441.951 L294.971 438.829 L298.394 438.829 Q301.196 438.829 302.682 437.719 Q304.168 436.591 304.168 434.485 Q304.168 432.322 302.626 431.174 Q301.102 430.008 298.243 430.008 Q296.682 430.008 294.896 430.347 Q293.109 430.685 290.965 431.4 L290.965 428.015 Q293.128 427.413 295.008 427.112 Q296.908 426.811 298.582 426.811 Q302.908 426.811 305.428 428.786 Q307.948 430.742 307.948 434.09 Q307.948 436.422 306.613 438.039 Q305.278 439.638 302.814 440.259 Z\" fill=\"#000000\" fill-rule=\"nonzero\" fill-opacity=\"1\" /><path clip-path=\"url(#clip480)\" d=\"M296.662 71.8856 Q293.051 71.8856 291.222 75.4504 Q289.417 78.992 289.417 86.1216 Q289.417 93.2281 291.222 96.7928 Q293.051 100.334 296.662 100.334 Q300.296 100.334 302.102 96.7928 Q303.931 93.2281 303.931 86.1216 Q303.931 78.992 302.102 75.4504 Q300.296 71.8856 296.662 71.8856 M296.662 68.1819 Q302.472 68.1819 305.528 72.7883 Q308.606 77.3717 308.606 86.1216 Q308.606 94.8484 305.528 99.4549 Q302.472 104.038 296.662 104.038 Q290.852 104.038 287.773 99.4549 Q284.718 94.8484 284.718 86.1216 Q284.718 77.3717 287.773 72.7883 Q290.852 68.1819 296.662 68.1819 Z\" fill=\"#000000\" fill-rule=\"nonzero\" fill-opacity=\"1\" /><polyline clip-path=\"url(#clip482)\" style=\"stroke:#009af9; stroke-linecap:round; stroke-linejoin:round; stroke-width:4; stroke-opacity:1; fill:none\" points=\"780.337,1445.72 1159.23,652.643 1538.13,105.645 1917.03,87.9763 2295.92,87.9763 \"/>\n",
       "<path clip-path=\"url(#clip480)\" d=\"M2032.57 1438.47 L2285.82 1438.47 L2285.82 1334.79 L2032.57 1334.79  Z\" fill=\"#ffffff\" fill-rule=\"evenodd\" fill-opacity=\"1\"/>\n",
       "<polyline clip-path=\"url(#clip480)\" style=\"stroke:#000000; stroke-linecap:round; stroke-linejoin:round; stroke-width:4; stroke-opacity:1; fill:none\" points=\"2032.57,1438.47 2285.82,1438.47 2285.82,1334.79 2032.57,1334.79 2032.57,1438.47 \"/>\n",
       "<polyline clip-path=\"url(#clip480)\" style=\"stroke:#009af9; stroke-linecap:round; stroke-linejoin:round; stroke-width:4; stroke-opacity:1; fill:none\" points=\"2054.89,1386.63 2188.76,1386.63 \"/>\n",
       "<path clip-path=\"url(#clip480)\" d=\"M2224.92 1406.32 Q2223.11 1410.95 2221.4 1412.36 Q2219.69 1413.78 2216.82 1413.78 L2213.41 1413.78 L2213.41 1410.21 L2215.91 1410.21 Q2217.67 1410.21 2218.64 1409.38 Q2219.62 1408.54 2220.8 1405.44 L2221.56 1403.5 L2211.07 1377.99 L2215.59 1377.99 L2223.69 1398.27 L2231.79 1377.99 L2236.31 1377.99 L2224.92 1406.32 Z\" fill=\"#000000\" fill-rule=\"nonzero\" fill-opacity=\"1\" /><path clip-path=\"url(#clip480)\" d=\"M2243.6 1399.98 L2251.24 1399.98 L2251.24 1373.61 L2242.93 1375.28 L2242.93 1371.02 L2251.19 1369.35 L2255.87 1369.35 L2255.87 1399.98 L2263.5 1399.98 L2263.5 1403.91 L2243.6 1403.91 L2243.6 1399.98 Z\" fill=\"#000000\" fill-rule=\"nonzero\" fill-opacity=\"1\" /></svg>\n"
      ],
      "text/html": [
       "<?xml version=\"1.0\" encoding=\"utf-8\"?>\n",
       "<svg xmlns=\"http://www.w3.org/2000/svg\" xmlns:xlink=\"http://www.w3.org/1999/xlink\" width=\"600\" height=\"400\" viewBox=\"0 0 2400 1600\">\n",
       "<defs>\n",
       "  <clipPath id=\"clip530\">\n",
       "    <rect x=\"0\" y=\"0\" width=\"2400\" height=\"1600\"/>\n",
       "  </clipPath>\n",
       "</defs>\n",
       "<path clip-path=\"url(#clip530)\" d=\"M0 1600 L2400 1600 L2400 0 L0 0  Z\" fill=\"#ffffff\" fill-rule=\"evenodd\" fill-opacity=\"1\"/>\n",
       "<defs>\n",
       "  <clipPath id=\"clip531\">\n",
       "    <rect x=\"480\" y=\"0\" width=\"1681\" height=\"1600\"/>\n",
       "  </clipPath>\n",
       "</defs>\n",
       "<path clip-path=\"url(#clip530)\" d=\"M344.606 1486.45 L2352.76 1486.45 L2352.76 47.2441 L344.606 47.2441  Z\" fill=\"#ffffff\" fill-rule=\"evenodd\" fill-opacity=\"1\"/>\n",
       "<defs>\n",
       "  <clipPath id=\"clip532\">\n",
       "    <rect x=\"344\" y=\"47\" width=\"2009\" height=\"1440\"/>\n",
       "  </clipPath>\n",
       "</defs>\n",
       "<polyline clip-path=\"url(#clip532)\" style=\"stroke:#000000; stroke-linecap:round; stroke-linejoin:round; stroke-width:2; stroke-opacity:0.1; fill:none\" points=\"401.441,1486.45 401.441,47.2441 \"/>\n",
       "<polyline clip-path=\"url(#clip532)\" style=\"stroke:#000000; stroke-linecap:round; stroke-linejoin:round; stroke-width:2; stroke-opacity:0.1; fill:none\" points=\"780.337,1486.45 780.337,47.2441 \"/>\n",
       "<polyline clip-path=\"url(#clip532)\" style=\"stroke:#000000; stroke-linecap:round; stroke-linejoin:round; stroke-width:2; stroke-opacity:0.1; fill:none\" points=\"1159.23,1486.45 1159.23,47.2441 \"/>\n",
       "<polyline clip-path=\"url(#clip532)\" style=\"stroke:#000000; stroke-linecap:round; stroke-linejoin:round; stroke-width:2; stroke-opacity:0.1; fill:none\" points=\"1538.13,1486.45 1538.13,47.2441 \"/>\n",
       "<polyline clip-path=\"url(#clip532)\" style=\"stroke:#000000; stroke-linecap:round; stroke-linejoin:round; stroke-width:2; stroke-opacity:0.1; fill:none\" points=\"1917.03,1486.45 1917.03,47.2441 \"/>\n",
       "<polyline clip-path=\"url(#clip532)\" style=\"stroke:#000000; stroke-linecap:round; stroke-linejoin:round; stroke-width:2; stroke-opacity:0.1; fill:none\" points=\"2295.92,1486.45 2295.92,47.2441 \"/>\n",
       "<polyline clip-path=\"url(#clip532)\" style=\"stroke:#000000; stroke-linecap:round; stroke-linejoin:round; stroke-width:2; stroke-opacity:0.1; fill:none\" points=\"344.606,1205.07 2352.76,1205.07 \"/>\n",
       "<polyline clip-path=\"url(#clip532)\" style=\"stroke:#000000; stroke-linecap:round; stroke-linejoin:round; stroke-width:2; stroke-opacity:0.1; fill:none\" points=\"344.606,832.076 2352.76,832.076 \"/>\n",
       "<polyline clip-path=\"url(#clip532)\" style=\"stroke:#000000; stroke-linecap:round; stroke-linejoin:round; stroke-width:2; stroke-opacity:0.1; fill:none\" points=\"344.606,459.082 2352.76,459.082 \"/>\n",
       "<polyline clip-path=\"url(#clip532)\" style=\"stroke:#000000; stroke-linecap:round; stroke-linejoin:round; stroke-width:2; stroke-opacity:0.1; fill:none\" points=\"344.606,86.0869 2352.76,86.0869 \"/>\n",
       "<polyline clip-path=\"url(#clip530)\" style=\"stroke:#000000; stroke-linecap:round; stroke-linejoin:round; stroke-width:4; stroke-opacity:1; fill:none\" points=\"344.606,1486.45 2352.76,1486.45 \"/>\n",
       "<polyline clip-path=\"url(#clip530)\" style=\"stroke:#000000; stroke-linecap:round; stroke-linejoin:round; stroke-width:4; stroke-opacity:1; fill:none\" points=\"401.441,1486.45 401.441,1467.55 \"/>\n",
       "<polyline clip-path=\"url(#clip530)\" style=\"stroke:#000000; stroke-linecap:round; stroke-linejoin:round; stroke-width:4; stroke-opacity:1; fill:none\" points=\"780.337,1486.45 780.337,1467.55 \"/>\n",
       "<polyline clip-path=\"url(#clip530)\" style=\"stroke:#000000; stroke-linecap:round; stroke-linejoin:round; stroke-width:4; stroke-opacity:1; fill:none\" points=\"1159.23,1486.45 1159.23,1467.55 \"/>\n",
       "<polyline clip-path=\"url(#clip530)\" style=\"stroke:#000000; stroke-linecap:round; stroke-linejoin:round; stroke-width:4; stroke-opacity:1; fill:none\" points=\"1538.13,1486.45 1538.13,1467.55 \"/>\n",
       "<polyline clip-path=\"url(#clip530)\" style=\"stroke:#000000; stroke-linecap:round; stroke-linejoin:round; stroke-width:4; stroke-opacity:1; fill:none\" points=\"1917.03,1486.45 1917.03,1467.55 \"/>\n",
       "<polyline clip-path=\"url(#clip530)\" style=\"stroke:#000000; stroke-linecap:round; stroke-linejoin:round; stroke-width:4; stroke-opacity:1; fill:none\" points=\"2295.92,1486.45 2295.92,1467.55 \"/>\n",
       "<path clip-path=\"url(#clip530)\" d=\"M391.823 1544.91 L399.462 1544.91 L399.462 1518.55 L391.152 1520.21 L391.152 1515.95 L399.415 1514.29 L404.091 1514.29 L404.091 1544.91 L411.73 1544.91 L411.73 1548.85 L391.823 1548.85 L391.823 1544.91 Z\" fill=\"#000000\" fill-rule=\"nonzero\" fill-opacity=\"1\" /><path clip-path=\"url(#clip530)\" d=\"M774.99 1544.91 L791.309 1544.91 L791.309 1548.85 L769.365 1548.85 L769.365 1544.91 Q772.027 1542.16 776.61 1537.53 Q781.217 1532.88 782.397 1531.53 Q784.643 1529.01 785.522 1527.27 Q786.425 1525.51 786.425 1523.82 Q786.425 1521.07 784.481 1519.33 Q782.559 1517.6 779.457 1517.6 Q777.258 1517.6 774.805 1518.36 Q772.374 1519.13 769.596 1520.68 L769.596 1515.95 Q772.42 1514.82 774.874 1514.24 Q777.328 1513.66 779.365 1513.66 Q784.735 1513.66 787.93 1516.35 Q791.124 1519.03 791.124 1523.52 Q791.124 1525.65 790.314 1527.57 Q789.527 1529.47 787.42 1532.07 Q786.842 1532.74 783.74 1535.95 Q780.638 1539.15 774.99 1544.91 Z\" fill=\"#000000\" fill-rule=\"nonzero\" fill-opacity=\"1\" /><path clip-path=\"url(#clip530)\" d=\"M1163.48 1530.21 Q1166.84 1530.93 1168.71 1533.2 Q1170.61 1535.47 1170.61 1538.8 Q1170.61 1543.92 1167.09 1546.72 Q1163.57 1549.52 1157.09 1549.52 Q1154.92 1549.52 1152.6 1549.08 Q1150.31 1548.66 1147.86 1547.81 L1147.86 1543.29 Q1149.8 1544.43 1152.12 1545.01 Q1154.43 1545.58 1156.95 1545.58 Q1161.35 1545.58 1163.64 1543.85 Q1165.96 1542.11 1165.96 1538.8 Q1165.96 1535.75 1163.8 1534.03 Q1161.68 1532.3 1157.86 1532.3 L1153.83 1532.3 L1153.83 1528.45 L1158.04 1528.45 Q1161.49 1528.45 1163.32 1527.09 Q1165.15 1525.7 1165.15 1523.11 Q1165.15 1520.45 1163.25 1519.03 Q1161.37 1517.6 1157.86 1517.6 Q1155.93 1517.6 1153.74 1518.01 Q1151.54 1518.43 1148.9 1519.31 L1148.9 1515.14 Q1151.56 1514.4 1153.87 1514.03 Q1156.21 1513.66 1158.27 1513.66 Q1163.6 1513.66 1166.7 1516.09 Q1169.8 1518.5 1169.8 1522.62 Q1169.8 1525.49 1168.16 1527.48 Q1166.51 1529.45 1163.48 1530.21 Z\" fill=\"#000000\" fill-rule=\"nonzero\" fill-opacity=\"1\" /><path clip-path=\"url(#clip530)\" d=\"M1541.14 1518.36 L1529.33 1536.81 L1541.14 1536.81 L1541.14 1518.36 M1539.91 1514.29 L1545.79 1514.29 L1545.79 1536.81 L1550.72 1536.81 L1550.72 1540.7 L1545.79 1540.7 L1545.79 1548.85 L1541.14 1548.85 L1541.14 1540.7 L1525.54 1540.7 L1525.54 1536.19 L1539.91 1514.29 Z\" fill=\"#000000\" fill-rule=\"nonzero\" fill-opacity=\"1\" /><path clip-path=\"url(#clip530)\" d=\"M1907.3 1514.29 L1925.66 1514.29 L1925.66 1518.22 L1911.59 1518.22 L1911.59 1526.7 Q1912.6 1526.35 1913.62 1526.19 Q1914.64 1526 1915.66 1526 Q1921.45 1526 1924.83 1529.17 Q1928.21 1532.34 1928.21 1537.76 Q1928.21 1543.34 1924.73 1546.44 Q1921.26 1549.52 1914.94 1549.52 Q1912.77 1549.52 1910.5 1549.15 Q1908.25 1548.78 1905.84 1548.04 L1905.84 1543.34 Q1907.93 1544.47 1910.15 1545.03 Q1912.37 1545.58 1914.85 1545.58 Q1918.85 1545.58 1921.19 1543.48 Q1923.53 1541.37 1923.53 1537.76 Q1923.53 1534.15 1921.19 1532.04 Q1918.85 1529.94 1914.85 1529.94 Q1912.97 1529.94 1911.1 1530.35 Q1909.25 1530.77 1907.3 1531.65 L1907.3 1514.29 Z\" fill=\"#000000\" fill-rule=\"nonzero\" fill-opacity=\"1\" /><path clip-path=\"url(#clip530)\" d=\"M2296.33 1529.7 Q2293.18 1529.7 2291.33 1531.86 Q2289.5 1534.01 2289.5 1537.76 Q2289.5 1541.49 2291.33 1543.66 Q2293.18 1545.82 2296.33 1545.82 Q2299.47 1545.82 2301.3 1543.66 Q2303.16 1541.49 2303.16 1537.76 Q2303.16 1534.01 2301.3 1531.86 Q2299.47 1529.7 2296.33 1529.7 M2305.61 1515.05 L2305.61 1519.31 Q2303.85 1518.48 2302.04 1518.04 Q2300.26 1517.6 2298.5 1517.6 Q2293.87 1517.6 2291.42 1520.72 Q2288.99 1523.85 2288.64 1530.17 Q2290.01 1528.15 2292.07 1527.09 Q2294.13 1526 2296.6 1526 Q2301.81 1526 2304.82 1529.17 Q2307.85 1532.32 2307.85 1537.76 Q2307.85 1543.08 2304.71 1546.3 Q2301.56 1549.52 2296.33 1549.52 Q2290.33 1549.52 2287.16 1544.94 Q2283.99 1540.33 2283.99 1531.6 Q2283.99 1523.41 2287.88 1518.55 Q2291.77 1513.66 2298.32 1513.66 Q2300.08 1513.66 2301.86 1514.01 Q2303.66 1514.36 2305.61 1515.05 Z\" fill=\"#000000\" fill-rule=\"nonzero\" fill-opacity=\"1\" /><polyline clip-path=\"url(#clip530)\" style=\"stroke:#000000; stroke-linecap:round; stroke-linejoin:round; stroke-width:4; stroke-opacity:1; fill:none\" points=\"344.606,1486.45 344.606,47.2441 \"/>\n",
       "<polyline clip-path=\"url(#clip530)\" style=\"stroke:#000000; stroke-linecap:round; stroke-linejoin:round; stroke-width:4; stroke-opacity:1; fill:none\" points=\"344.606,1205.07 363.504,1205.07 \"/>\n",
       "<polyline clip-path=\"url(#clip530)\" style=\"stroke:#000000; stroke-linecap:round; stroke-linejoin:round; stroke-width:4; stroke-opacity:1; fill:none\" points=\"344.606,832.076 363.504,832.076 \"/>\n",
       "<polyline clip-path=\"url(#clip530)\" style=\"stroke:#000000; stroke-linecap:round; stroke-linejoin:round; stroke-width:4; stroke-opacity:1; fill:none\" points=\"344.606,459.082 363.504,459.082 \"/>\n",
       "<polyline clip-path=\"url(#clip530)\" style=\"stroke:#000000; stroke-linecap:round; stroke-linejoin:round; stroke-width:4; stroke-opacity:1; fill:none\" points=\"344.606,86.0869 363.504,86.0869 \"/>\n",
       "<path clip-path=\"url(#clip530)\" d=\"M50.9921 1211.97 L80.6679 1211.97 L80.6679 1215.91 L50.9921 1215.91 L50.9921 1211.97 Z\" fill=\"#000000\" fill-rule=\"nonzero\" fill-opacity=\"1\" /><path clip-path=\"url(#clip530)\" d=\"M91.5706 1224.86 L99.2095 1224.86 L99.2095 1198.5 L90.8993 1200.16 L90.8993 1195.91 L99.1632 1194.24 L103.839 1194.24 L103.839 1224.86 L111.478 1224.86 L111.478 1228.8 L91.5706 1228.8 L91.5706 1224.86 Z\" fill=\"#000000\" fill-rule=\"nonzero\" fill-opacity=\"1\" /><path clip-path=\"url(#clip530)\" d=\"M120.922 1222.92 L125.807 1222.92 L125.807 1228.8 L120.922 1228.8 L120.922 1222.92 Z\" fill=\"#000000\" fill-rule=\"nonzero\" fill-opacity=\"1\" /><path clip-path=\"url(#clip530)\" d=\"M136.038 1194.24 L154.394 1194.24 L154.394 1198.17 L140.32 1198.17 L140.32 1206.65 Q141.339 1206.3 142.357 1206.14 Q143.376 1205.95 144.394 1205.95 Q150.181 1205.95 153.561 1209.12 Q156.941 1212.29 156.941 1217.71 Q156.941 1223.29 153.468 1226.39 Q149.996 1229.47 143.677 1229.47 Q141.501 1229.47 139.232 1229.1 Q136.987 1228.73 134.58 1227.99 L134.58 1223.29 Q136.663 1224.42 138.885 1224.98 Q141.107 1225.53 143.584 1225.53 Q147.589 1225.53 149.927 1223.43 Q152.265 1221.32 152.265 1217.71 Q152.265 1214.1 149.927 1211.99 Q147.589 1209.89 143.584 1209.89 Q141.709 1209.89 139.834 1210.3 Q137.982 1210.72 136.038 1211.6 L136.038 1194.24 Z\" fill=\"#000000\" fill-rule=\"nonzero\" fill-opacity=\"1\" /><path clip-path=\"url(#clip530)\" d=\"M176.153 1197.32 Q172.542 1197.32 170.714 1200.88 Q168.908 1204.42 168.908 1211.55 Q168.908 1218.66 170.714 1222.22 Q172.542 1225.77 176.153 1225.77 Q179.788 1225.77 181.593 1222.22 Q183.422 1218.66 183.422 1211.55 Q183.422 1204.42 181.593 1200.88 Q179.788 1197.32 176.153 1197.32 M176.153 1193.61 Q181.964 1193.61 185.019 1198.22 Q188.098 1202.8 188.098 1211.55 Q188.098 1220.28 185.019 1224.89 Q181.964 1229.47 176.153 1229.47 Q170.343 1229.47 167.265 1224.89 Q164.209 1220.28 164.209 1211.55 Q164.209 1202.8 167.265 1198.22 Q170.343 1193.61 176.153 1193.61 Z\" fill=\"#000000\" fill-rule=\"nonzero\" fill-opacity=\"1\" /><path clip-path=\"url(#clip530)\" d=\"M224.487 1203.34 L213.908 1213.96 L224.487 1224.54 L221.732 1227.34 L211.107 1216.72 L200.482 1227.34 L197.751 1224.54 L208.306 1213.96 L197.751 1203.34 L200.482 1200.53 L211.107 1211.16 L221.732 1200.53 L224.487 1203.34 Z\" fill=\"#000000\" fill-rule=\"nonzero\" fill-opacity=\"1\" /><path clip-path=\"url(#clip530)\" d=\"M236.848 1224.86 L244.486 1224.86 L244.486 1198.5 L236.176 1200.16 L236.176 1195.91 L244.44 1194.24 L249.116 1194.24 L249.116 1224.86 L256.755 1224.86 L256.755 1228.8 L236.848 1228.8 L236.848 1224.86 Z\" fill=\"#000000\" fill-rule=\"nonzero\" fill-opacity=\"1\" /><path clip-path=\"url(#clip530)\" d=\"M276.199 1197.32 Q272.588 1197.32 270.759 1200.88 Q268.954 1204.42 268.954 1211.55 Q268.954 1218.66 270.759 1222.22 Q272.588 1225.77 276.199 1225.77 Q279.833 1225.77 281.639 1222.22 Q283.468 1218.66 283.468 1211.55 Q283.468 1204.42 281.639 1200.88 Q279.833 1197.32 276.199 1197.32 M276.199 1193.61 Q282.009 1193.61 285.065 1198.22 Q288.144 1202.8 288.144 1211.55 Q288.144 1220.28 285.065 1224.89 Q282.009 1229.47 276.199 1229.47 Q270.389 1229.47 267.31 1224.89 Q264.255 1220.28 264.255 1211.55 Q264.255 1202.8 267.31 1198.22 Q270.389 1193.61 276.199 1193.61 Z\" fill=\"#000000\" fill-rule=\"nonzero\" fill-opacity=\"1\" /><path clip-path=\"url(#clip530)\" d=\"M300.82 1176.62 L291.228 1191.61 L300.82 1191.61 L300.82 1176.62 M299.823 1173.31 L304.6 1173.31 L304.6 1191.61 L308.606 1191.61 L308.606 1194.77 L304.6 1194.77 L304.6 1201.39 L300.82 1201.39 L300.82 1194.77 L288.144 1194.77 L288.144 1191.1 L299.823 1173.31 Z\" fill=\"#000000\" fill-rule=\"nonzero\" fill-opacity=\"1\" /><path clip-path=\"url(#clip530)\" d=\"M50.9921 838.975 L80.6679 838.975 L80.6679 842.91 L50.9921 842.91 L50.9921 838.975 Z\" fill=\"#000000\" fill-rule=\"nonzero\" fill-opacity=\"1\" /><path clip-path=\"url(#clip530)\" d=\"M91.5706 851.869 L99.2095 851.869 L99.2095 825.503 L90.8993 827.17 L90.8993 822.911 L99.1632 821.244 L103.839 821.244 L103.839 851.869 L111.478 851.869 L111.478 855.804 L91.5706 855.804 L91.5706 851.869 Z\" fill=\"#000000\" fill-rule=\"nonzero\" fill-opacity=\"1\" /><path clip-path=\"url(#clip530)\" d=\"M120.922 849.924 L125.807 849.924 L125.807 855.804 L120.922 855.804 L120.922 849.924 Z\" fill=\"#000000\" fill-rule=\"nonzero\" fill-opacity=\"1\" /><path clip-path=\"url(#clip530)\" d=\"M145.992 824.323 Q142.381 824.323 140.552 827.887 Q138.746 831.429 138.746 838.559 Q138.746 845.665 140.552 849.23 Q142.381 852.771 145.992 852.771 Q149.626 852.771 151.431 849.23 Q153.26 845.665 153.26 838.559 Q153.26 831.429 151.431 827.887 Q149.626 824.323 145.992 824.323 M145.992 820.619 Q151.802 820.619 154.857 825.225 Q157.936 829.809 157.936 838.559 Q157.936 847.285 154.857 851.892 Q151.802 856.475 145.992 856.475 Q140.181 856.475 137.103 851.892 Q134.047 847.285 134.047 838.559 Q134.047 829.809 137.103 825.225 Q140.181 820.619 145.992 820.619 Z\" fill=\"#000000\" fill-rule=\"nonzero\" fill-opacity=\"1\" /><path clip-path=\"url(#clip530)\" d=\"M176.153 824.323 Q172.542 824.323 170.714 827.887 Q168.908 831.429 168.908 838.559 Q168.908 845.665 170.714 849.23 Q172.542 852.771 176.153 852.771 Q179.788 852.771 181.593 849.23 Q183.422 845.665 183.422 838.559 Q183.422 831.429 181.593 827.887 Q179.788 824.323 176.153 824.323 M176.153 820.619 Q181.964 820.619 185.019 825.225 Q188.098 829.809 188.098 838.559 Q188.098 847.285 185.019 851.892 Q181.964 856.475 176.153 856.475 Q170.343 856.475 167.265 851.892 Q164.209 847.285 164.209 838.559 Q164.209 829.809 167.265 825.225 Q170.343 820.619 176.153 820.619 Z\" fill=\"#000000\" fill-rule=\"nonzero\" fill-opacity=\"1\" /><path clip-path=\"url(#clip530)\" d=\"M224.487 830.341 L213.908 840.966 L224.487 851.545 L221.732 854.346 L211.107 843.721 L200.482 854.346 L197.751 851.545 L208.306 840.966 L197.751 830.341 L200.482 827.54 L211.107 838.165 L221.732 827.54 L224.487 830.341 Z\" fill=\"#000000\" fill-rule=\"nonzero\" fill-opacity=\"1\" /><path clip-path=\"url(#clip530)\" d=\"M236.848 851.869 L244.486 851.869 L244.486 825.503 L236.176 827.17 L236.176 822.911 L244.44 821.244 L249.116 821.244 L249.116 851.869 L256.755 851.869 L256.755 855.804 L236.848 855.804 L236.848 851.869 Z\" fill=\"#000000\" fill-rule=\"nonzero\" fill-opacity=\"1\" /><path clip-path=\"url(#clip530)\" d=\"M276.199 824.323 Q272.588 824.323 270.759 827.887 Q268.954 831.429 268.954 838.559 Q268.954 845.665 270.759 849.23 Q272.588 852.771 276.199 852.771 Q279.833 852.771 281.639 849.23 Q283.468 845.665 283.468 838.559 Q283.468 831.429 281.639 827.887 Q279.833 824.323 276.199 824.323 M276.199 820.619 Q282.009 820.619 285.065 825.225 Q288.144 829.809 288.144 838.559 Q288.144 847.285 285.065 851.892 Q282.009 856.475 276.199 856.475 Q270.389 856.475 267.31 851.892 Q264.255 847.285 264.255 838.559 Q264.255 829.809 267.31 825.225 Q270.389 820.619 276.199 820.619 Z\" fill=\"#000000\" fill-rule=\"nonzero\" fill-opacity=\"1\" /><path clip-path=\"url(#clip530)\" d=\"M300.82 803.624 L291.228 818.613 L300.82 818.613 L300.82 803.624 M299.823 800.313 L304.6 800.313 L304.6 818.613 L308.606 818.613 L308.606 821.773 L304.6 821.773 L304.6 828.393 L300.82 828.393 L300.82 821.773 L288.144 821.773 L288.144 818.106 L299.823 800.313 Z\" fill=\"#000000\" fill-rule=\"nonzero\" fill-opacity=\"1\" /><path clip-path=\"url(#clip530)\" d=\"M52.9669 465.981 L82.6427 465.981 L82.6427 469.916 L52.9669 469.916 L52.9669 465.981 Z\" fill=\"#000000\" fill-rule=\"nonzero\" fill-opacity=\"1\" /><path clip-path=\"url(#clip530)\" d=\"M92.7815 448.249 L111.138 448.249 L111.138 452.184 L97.0639 452.184 L97.0639 460.657 Q98.0824 460.309 99.101 460.147 Q100.119 459.962 101.138 459.962 Q106.925 459.962 110.305 463.133 Q113.684 466.305 113.684 471.721 Q113.684 477.3 110.212 480.402 Q106.74 483.48 100.42 483.48 Q98.2445 483.48 95.976 483.11 Q93.7306 482.74 91.3232 481.999 L91.3232 477.3 Q93.4065 478.434 95.6288 478.99 Q97.851 479.545 100.328 479.545 Q104.332 479.545 106.67 477.439 Q109.008 475.332 109.008 471.721 Q109.008 468.11 106.67 466.004 Q104.332 463.897 100.328 463.897 Q98.4528 463.897 96.5778 464.314 Q94.726 464.731 92.7815 465.61 L92.7815 448.249 Z\" fill=\"#000000\" fill-rule=\"nonzero\" fill-opacity=\"1\" /><path clip-path=\"url(#clip530)\" d=\"M122.897 476.93 L127.781 476.93 L127.781 482.809 L122.897 482.809 L122.897 476.93 Z\" fill=\"#000000\" fill-rule=\"nonzero\" fill-opacity=\"1\" /><path clip-path=\"url(#clip530)\" d=\"M147.966 451.328 Q144.355 451.328 142.527 454.893 Q140.721 458.434 140.721 465.564 Q140.721 472.67 142.527 476.235 Q144.355 479.777 147.966 479.777 Q151.601 479.777 153.406 476.235 Q155.235 472.67 155.235 465.564 Q155.235 458.434 153.406 454.893 Q151.601 451.328 147.966 451.328 M147.966 447.624 Q153.777 447.624 156.832 452.231 Q159.911 456.814 159.911 465.564 Q159.911 474.291 156.832 478.897 Q153.777 483.48 147.966 483.48 Q142.156 483.48 139.078 478.897 Q136.022 474.291 136.022 465.564 Q136.022 456.814 139.078 452.231 Q142.156 447.624 147.966 447.624 Z\" fill=\"#000000\" fill-rule=\"nonzero\" fill-opacity=\"1\" /><path clip-path=\"url(#clip530)\" d=\"M178.128 451.328 Q174.517 451.328 172.689 454.893 Q170.883 458.434 170.883 465.564 Q170.883 472.67 172.689 476.235 Q174.517 479.777 178.128 479.777 Q181.763 479.777 183.568 476.235 Q185.397 472.67 185.397 465.564 Q185.397 458.434 183.568 454.893 Q181.763 451.328 178.128 451.328 M178.128 447.624 Q183.938 447.624 186.994 452.231 Q190.073 456.814 190.073 465.564 Q190.073 474.291 186.994 478.897 Q183.938 483.48 178.128 483.48 Q172.318 483.48 169.239 478.897 Q166.184 474.291 166.184 465.564 Q166.184 456.814 169.239 452.231 Q172.318 447.624 178.128 447.624 Z\" fill=\"#000000\" fill-rule=\"nonzero\" fill-opacity=\"1\" /><path clip-path=\"url(#clip530)\" d=\"M226.461 457.346 L215.883 467.971 L226.461 478.55 L223.707 481.351 L213.082 470.726 L202.457 481.351 L199.725 478.55 L210.281 467.971 L199.725 457.346 L202.457 454.545 L213.082 465.17 L223.707 454.545 L226.461 457.346 Z\" fill=\"#000000\" fill-rule=\"nonzero\" fill-opacity=\"1\" /><path clip-path=\"url(#clip530)\" d=\"M238.822 478.874 L246.461 478.874 L246.461 452.508 L238.151 454.175 L238.151 449.916 L246.415 448.249 L251.091 448.249 L251.091 478.874 L258.73 478.874 L258.73 482.809 L238.822 482.809 L238.822 478.874 Z\" fill=\"#000000\" fill-rule=\"nonzero\" fill-opacity=\"1\" /><path clip-path=\"url(#clip530)\" d=\"M278.174 451.328 Q274.563 451.328 272.734 454.893 Q270.929 458.434 270.929 465.564 Q270.929 472.67 272.734 476.235 Q274.563 479.777 278.174 479.777 Q281.808 479.777 283.614 476.235 Q285.443 472.67 285.443 465.564 Q285.443 458.434 283.614 454.893 Q281.808 451.328 278.174 451.328 M278.174 447.624 Q283.984 447.624 287.04 452.231 Q290.118 456.814 290.118 465.564 Q290.118 474.291 287.04 478.897 Q283.984 483.48 278.174 483.48 Q272.364 483.48 269.285 478.897 Q266.23 474.291 266.23 465.564 Q266.23 456.814 269.285 452.231 Q272.364 447.624 278.174 447.624 Z\" fill=\"#000000\" fill-rule=\"nonzero\" fill-opacity=\"1\" /><path clip-path=\"url(#clip530)\" d=\"M302.814 440.259 Q305.541 440.842 307.064 442.685 Q308.606 444.528 308.606 447.236 Q308.606 451.393 305.748 453.668 Q302.889 455.944 297.623 455.944 Q295.855 455.944 293.974 455.587 Q292.112 455.248 290.118 454.552 L290.118 450.885 Q291.698 451.806 293.579 452.277 Q295.46 452.747 297.51 452.747 Q301.083 452.747 302.945 451.336 Q304.826 449.926 304.826 447.236 Q304.826 444.754 303.077 443.362 Q301.347 441.951 298.243 441.951 L294.971 441.951 L294.971 438.829 L298.394 438.829 Q301.196 438.829 302.682 437.719 Q304.168 436.591 304.168 434.485 Q304.168 432.322 302.626 431.174 Q301.102 430.008 298.243 430.008 Q296.682 430.008 294.896 430.347 Q293.109 430.685 290.965 431.4 L290.965 428.015 Q293.128 427.413 295.008 427.112 Q296.908 426.811 298.582 426.811 Q302.908 426.811 305.428 428.786 Q307.948 430.742 307.948 434.09 Q307.948 436.422 306.613 438.039 Q305.278 439.638 302.814 440.259 Z\" fill=\"#000000\" fill-rule=\"nonzero\" fill-opacity=\"1\" /><path clip-path=\"url(#clip530)\" d=\"M296.662 71.8856 Q293.051 71.8856 291.222 75.4504 Q289.417 78.992 289.417 86.1216 Q289.417 93.2281 291.222 96.7928 Q293.051 100.334 296.662 100.334 Q300.296 100.334 302.102 96.7928 Q303.931 93.2281 303.931 86.1216 Q303.931 78.992 302.102 75.4504 Q300.296 71.8856 296.662 71.8856 M296.662 68.1819 Q302.472 68.1819 305.528 72.7883 Q308.606 77.3717 308.606 86.1216 Q308.606 94.8484 305.528 99.4549 Q302.472 104.038 296.662 104.038 Q290.852 104.038 287.773 99.4549 Q284.718 94.8484 284.718 86.1216 Q284.718 77.3717 287.773 72.7883 Q290.852 68.1819 296.662 68.1819 Z\" fill=\"#000000\" fill-rule=\"nonzero\" fill-opacity=\"1\" /><polyline clip-path=\"url(#clip532)\" style=\"stroke:#009af9; stroke-linecap:round; stroke-linejoin:round; stroke-width:4; stroke-opacity:1; fill:none\" points=\"780.337,1445.72 1159.23,652.643 1538.13,105.645 1917.03,87.9763 2295.92,87.9763 \"/>\n",
       "<path clip-path=\"url(#clip530)\" d=\"M2032.57 1438.47 L2285.82 1438.47 L2285.82 1334.79 L2032.57 1334.79  Z\" fill=\"#ffffff\" fill-rule=\"evenodd\" fill-opacity=\"1\"/>\n",
       "<polyline clip-path=\"url(#clip530)\" style=\"stroke:#000000; stroke-linecap:round; stroke-linejoin:round; stroke-width:4; stroke-opacity:1; fill:none\" points=\"2032.57,1438.47 2285.82,1438.47 2285.82,1334.79 2032.57,1334.79 2032.57,1438.47 \"/>\n",
       "<polyline clip-path=\"url(#clip530)\" style=\"stroke:#009af9; stroke-linecap:round; stroke-linejoin:round; stroke-width:4; stroke-opacity:1; fill:none\" points=\"2054.89,1386.63 2188.76,1386.63 \"/>\n",
       "<path clip-path=\"url(#clip530)\" d=\"M2224.92 1406.32 Q2223.11 1410.95 2221.4 1412.36 Q2219.69 1413.78 2216.82 1413.78 L2213.41 1413.78 L2213.41 1410.21 L2215.91 1410.21 Q2217.67 1410.21 2218.64 1409.38 Q2219.62 1408.54 2220.8 1405.44 L2221.56 1403.5 L2211.07 1377.99 L2215.59 1377.99 L2223.69 1398.27 L2231.79 1377.99 L2236.31 1377.99 L2224.92 1406.32 Z\" fill=\"#000000\" fill-rule=\"nonzero\" fill-opacity=\"1\" /><path clip-path=\"url(#clip530)\" d=\"M2243.6 1399.98 L2251.24 1399.98 L2251.24 1373.61 L2242.93 1375.28 L2242.93 1371.02 L2251.19 1369.35 L2255.87 1369.35 L2255.87 1399.98 L2263.5 1399.98 L2263.5 1403.91 L2243.6 1403.91 L2243.6 1399.98 Z\" fill=\"#000000\" fill-rule=\"nonzero\" fill-opacity=\"1\" /></svg>\n"
      ]
     },
     "metadata": {},
     "output_type": "display_data"
    }
   ],
   "source": [
    "plot(ll)"
   ]
  },
  {
   "cell_type": "code",
   "execution_count": 6,
   "metadata": {},
   "outputs": [
    {
     "data": {
      "text/plain": [
       "2×1 Matrix{Float64}:\n",
       " 1.0000000000000002\n",
       " 1.0000000000000002"
      ]
     },
     "metadata": {},
     "output_type": "display_data"
    }
   ],
   "source": [
    "sum(test_model.A, dims=2)"
   ]
  },
  {
   "cell_type": "markdown",
   "metadata": {},
   "source": [
    "# Gaussian HMM"
   ]
  },
  {
   "cell_type": "code",
   "execution_count": 2,
   "metadata": {},
   "outputs": [
    {
     "name": "stdout",
     "output_type": "stream",
     "text": [
      "truetrue"
     ]
    }
   ],
   "source": [
    "\"\"\"\n",
    "Create an underlying GaussianHMM to generate data\n",
    "\"\"\"\n",
    "\n",
    "# Create Guassian Emission Models\n",
    "output_dim = 2\n",
    "μ = [0.0, 0.0]\n",
    "Σ = 0.1 * Matrix{Float64}(I, output_dim, output_dim)\n",
    "emission_1 = GaussianEmission(output_dim, μ, Σ)\n",
    "\n",
    "output_dim = 2\n",
    "μ = [0.0, 1.0]\n",
    "Σ = 0.1 * Matrix{Float64}(I, output_dim, output_dim)\n",
    "emission_3 = GaussianEmission(output_dim, μ, Σ)\n",
    "\n",
    "μ = [2.0, 1.0]\n",
    "Σ = 0.1 * Matrix{Float64}(I, output_dim, output_dim)\n",
    "emission_2 = GaussianEmission(output_dim, μ, Σ)\n",
    "#\n",
    "# Create GaussianHMM\n",
    "true_model = SSD.GaussianHMM(K=2, output_dim=2)\n",
    "true_model.B[1] = emission_1\n",
    "true_model.B[2] = emission_2\n",
    "true_model.A = [0.9 0.1; 0.8 0.2]\n",
    "\n",
    "# Sample from the model\n",
    "n=10000\n",
    "true_labels, data = SSD.sample(true_model, n=n)\n",
    "\n",
    "# Fit a gaussian hmm to the data\n",
    "test_model = SSD.GaussianHMM(K=2, output_dim=2)\n",
    "test_model.B[1] = emission_1\n",
    "test_model.A = [0.8 0.2; 0.05 0.95]\n",
    "lls = SSD.fit!(test_model, data)\n",
    "\n",
    "print(isapprox(test_model.B[1].μ, true_model.B[1].μ, atol=0.1) || isapprox(test_model.B[1].μ, true_model.B[2].μ, atol=0.1))\n",
    "print(isapprox(test_model.B[2].μ, true_model.B[2].μ, atol=0.1) || isapprox(test_model.B[2].μ, true_model.B[1].μ, atol=0.1))"
   ]
  },
  {
   "cell_type": "code",
   "execution_count": 37,
   "metadata": {},
   "outputs": [
    {
     "data": {
      "text/plain": [
       "2-element Vector{Float64}:\n",
       " 1.996792362755173\n",
       " 0.9899091291424154"
      ]
     },
     "metadata": {},
     "output_type": "display_data"
    }
   ],
   "source": [
    "test_model.B[2].μ"
   ]
  },
  {
   "cell_type": "code",
   "execution_count": 45,
   "metadata": {},
   "outputs": [],
   "source": [
    "lls = [-Inf]\n",
    "data = (data,)\n",
    "# transpose data so that correct dimensions are passed to EmissionModels.jl, a bit hacky but works for now.\n",
    "transpose_data = Matrix.(transpose.(data))\n",
    "\n",
    "num_obs = size(transpose_data[1], 1)\n",
    "# initialize forward backward storage\n",
    "FB_storage = SSD.initialize_forward_backward(test_model, num_obs)\n",
    "\n",
    "SSD.estep!(test_model, transpose_data, FB_storage)"
   ]
  },
  {
   "cell_type": "code",
   "execution_count": 50,
   "metadata": {},
   "outputs": [
    {
     "data": {
      "text/plain": [
       "2×10000 Matrix{Float64}:\n",
       " -436.323         0.240644   -0.572088  …  -8587.79  -8587.75  -8612.11\n",
       "   -0.00823141  -26.347     -17.1795       -8609.28  -8618.49  -8590.46"
      ]
     },
     "metadata": {},
     "output_type": "display_data"
    }
   ],
   "source": [
    "FB_storage.α"
   ]
  },
  {
   "cell_type": "code",
   "execution_count": 48,
   "metadata": {},
   "outputs": [
    {
     "data": {
      "text/plain": [
       "10000×2 Matrix{Float64}:\n",
       "  2.25584     0.837458\n",
       "  0.0196819  -0.0816484\n",
       "  0.361558    0.320145\n",
       "  1.43208     0.69254\n",
       " -0.04613    -0.276725\n",
       "  0.440059    0.132799\n",
       "  1.74184     1.72583\n",
       "  1.97492     0.761777\n",
       " -0.255154    0.186409\n",
       "  0.069949   -0.0889173\n",
       "  ⋮          \n",
       " -0.169008   -0.391008\n",
       "  0.361558   -0.179718\n",
       "  2.06916     0.995074\n",
       " -0.397545   -0.112927\n",
       "  1.81584     1.34284\n",
       "  0.339271   -0.0533657\n",
       "  0.300483   -0.051962\n",
       " -0.240998    0.086352\n",
       "  2.12374     0.617698"
      ]
     },
     "metadata": {},
     "output_type": "display_data"
    }
   ],
   "source": [
    "transpose_data[1]"
   ]
  },
  {
   "cell_type": "code",
   "execution_count": 4,
   "metadata": {},
   "outputs": [
    {
     "data": {
      "text/plain": [
       "2×10000 Matrix{Float64}:\n",
       " -15.8482   -0.205209  -0.159205  …  -0.248589  -3.90579  -24.8337\n",
       "  -3.46916  -1.90487   -1.90027      -1.90921   -2.27493   -4.36772"
      ]
     },
     "metadata": {},
     "output_type": "display_data"
    }
   ],
   "source": [
    "SSD.emission_loglikelihoods!(test_model, FB_storage, transpose_data...)\n",
    "FB_storage.loglikelihoods"
   ]
  },
  {
   "cell_type": "code",
   "execution_count": 5,
   "metadata": {},
   "outputs": [
    {
     "data": {
      "text/plain": [
       "2×10000 Matrix{Float64}:\n",
       " -18.3935   -6.7518   -6.93775  -7.88035  …  -14167.7  -14171.8  -14196.7\n",
       "  -3.55086  -5.50702  -7.39972  -9.12288     -14170.5  -14171.3  -14175.6"
      ]
     },
     "metadata": {},
     "output_type": "display_data"
    }
   ],
   "source": [
    "SSD.forward!(test_model, FB_storage)\n",
    "FB_storage.α"
   ]
  },
  {
   "cell_type": "code",
   "execution_count": 6,
   "metadata": {},
   "outputs": [
    {
     "data": {
      "text/plain": [
       "2×10000 Matrix{Float64}:\n",
       " -14169.5  -14169.1  -14168.7  -14167.7  …  -8.44509  -8.15078  -5.97716  0.0\n",
       " -14172.0  -14171.6  -14171.1  -14170.2     -8.63799  -6.74307  -4.41901  0.0"
      ]
     },
     "metadata": {},
     "output_type": "display_data"
    }
   ],
   "source": [
    "SSD.backward!(test_model, FB_storage)\n",
    "FB_storage.β"
   ]
  },
  {
   "cell_type": "code",
   "execution_count": 7,
   "metadata": {},
   "outputs": [
    {
     "data": {
      "text/plain": [
       "2×10000 Matrix{Float64}:\n",
       " -12.3159      -0.249621  -0.0573202  …  -0.220628  -2.17216  -21.1544\n",
       "  -4.47991e-6  -1.51003   -2.88763       -1.61956   -0.12096   -6.49379e-10"
      ]
     },
     "metadata": {},
     "output_type": "display_data"
    }
   ],
   "source": [
    "SSD.calculate_γ!(test_model, FB_storage)\n",
    "FB_storage.γ"
   ]
  },
  {
   "cell_type": "code",
   "execution_count": 15,
   "metadata": {},
   "outputs": [
    {
     "data": {
      "text/plain": [
       "nearest_covariance_matrix"
      ]
     },
     "metadata": {},
     "output_type": "display_data"
    }
   ],
   "source": [
    "\"\"\"\n",
    "Find the nearest covariance matrix to matrix A in Frobenius norm using Higham's algorithm.\n",
    "\n",
    "Arguments:\n",
    "- `A`: Input matrix (should be square)\n",
    "- `max_iter`: Maximum number of iterations\n",
    "- `tol`: Convergence tolerance\n",
    "\n",
    "Returns:\n",
    "- The nearest covariance matrix to A\n",
    "\"\"\"\n",
    "function nearest_covariance_matrix(A; max_iter=100, tol=1e-6)\n",
    "    # Convert to Matrix{Float64} to ensure numerical stability\n",
    "    A = convert(Matrix{Float64}, A)\n",
    "    n = size(A, 1)\n",
    "    \n",
    "    # Symmetrize A\n",
    "    A = (A + A') / 2\n",
    "    \n",
    "    # Initial projection onto PSD cone\n",
    "    F = eigen(Symmetric(A))\n",
    "    eigvals = max.(F.values, 0)\n",
    "    X = F.vectors * Diagonal(eigvals) * F.vectors'\n",
    "    \n",
    "    # Initialize Dykstra's correction matrices\n",
    "    Y = zeros(n, n)\n",
    "    S = zeros(n, n)\n",
    "    \n",
    "    for _ in 1:max_iter\n",
    "        X_old = copy(X)\n",
    "        \n",
    "        # Project onto symmetric matrices with unit diagonal\n",
    "        R = X - Y\n",
    "        R = (R + R') / 2  # Ensure symmetry\n",
    "        Y = R - Diagonal(diag(R)) + I\n",
    "        \n",
    "        # Project onto PSD cone\n",
    "        R = Y - S\n",
    "        F = eigen(Symmetric(R))\n",
    "        eigvals = max.(F.values, 0)\n",
    "        X = F.vectors * Diagonal(eigvals) * F.vectors'\n",
    "        S = X - R\n",
    "        \n",
    "        # Check convergence using Frobenius norm\n",
    "        if norm(X - X_old) < tol\n",
    "            break\n",
    "        end\n",
    "    end\n",
    "    \n",
    "    # Ensure perfect symmetry in output\n",
    "    return (X + X') / 2\n",
    "end"
   ]
  },
  {
   "cell_type": "code",
   "execution_count": null,
   "metadata": {},
   "outputs": [
    {
     "data": {
      "text/plain": [
       "nearest_covariance_simple"
      ]
     },
     "metadata": {},
     "output_type": "display_data"
    }
   ],
   "source": [
    "\"\"\"\n",
    "Find nearest covariance matrix by simple eigenvalue projection.\n",
    "Just sets negative eigenvalues to zero.\n",
    "\"\"\"\n",
    "function enforce_posdef(A)\n",
    "    # Symmetrize first\n",
    "    A = (A + A') / 2\n",
    "    \n",
    "    # Eigendecomposition and fix negative eigenvalues\n",
    "    F = eigen(Symmetric(A))\n",
    "    eigvals = max.(F.values, 0)\n",
    "    return F.vectors * Diagonal(eigvals) * F.vectors'\n",
    "end"
   ]
  },
  {
   "cell_type": "code",
   "execution_count": 33,
   "metadata": {},
   "outputs": [
    {
     "data": {
      "text/plain": [
       "2×2 Matrix{Float64}:\n",
       " 1.0          1.66533e-16\n",
       " 1.66533e-16  1.0"
      ]
     },
     "metadata": {},
     "output_type": "display_data"
    }
   ],
   "source": [
    "nearest_covariance_matrix([0.98 0.92; 0.92 1.0])"
   ]
  },
  {
   "cell_type": "code",
   "execution_count": 42,
   "metadata": {},
   "outputs": [
    {
     "data": {
      "text/plain": [
       "4×4 Matrix{Float64}:\n",
       " 0.764114  0.624749  0.628557  0.715401\n",
       " 0.624749  0.673734  0.345721  0.488553\n",
       " 0.628557  0.345721  0.828511  0.593067\n",
       " 0.715401  0.488553  0.593067  0.792134"
      ]
     },
     "metadata": {},
     "output_type": "display_data"
    }
   ],
   "source": [
    "nearest_covariance_simple(rand(4, 4))"
   ]
  },
  {
   "cell_type": "code",
   "execution_count": 1,
   "metadata": {},
   "outputs": [
    {
     "data": {
      "text/plain": [
       "StateSpaceDynamics"
      ]
     },
     "metadata": {},
     "output_type": "display_data"
    }
   ],
   "source": [
    "using LinearAlgebra\n",
    "# using Plots\n",
    "using Random\n",
    "using StateSpaceDynamics\n",
    "\n",
    "\n",
    "const SSD = StateSpaceDynamics"
   ]
  },
  {
   "cell_type": "markdown",
   "metadata": {},
   "source": [
    "# Section for timing and memory improvements of forward backward"
   ]
  },
  {
   "cell_type": "code",
   "execution_count": 10,
   "metadata": {},
   "outputs": [
    {
     "name": "stdout",
     "output_type": "stream",
     "text": [
      "100\n"
     ]
    },
    {
     "data": {
      "text/plain": [
       "4-element Vector{Float64}:\n",
       "   -Inf\n",
       " -1459.014642217791\n",
       "  -689.4429633312888\n",
       "  -689.4429633312888"
      ]
     },
     "metadata": {},
     "output_type": "display_data"
    }
   ],
   "source": [
    "\"\"\"\n",
    "Sample from true model and initialize model to fit\n",
    "\"\"\"\n",
    "\n",
    "# Create Emission Models\n",
    "emission_1 = GaussianRegressionEmission(input_dim=3, output_dim=1, include_intercept=true, β=reshape([3, 2, 2, 3], :, 1))\n",
    "emission_2 = GaussianRegressionEmission(input_dim=3, output_dim=1, include_intercept=true, β=reshape([-4, -2, 3, 2], :, 1))\n",
    "\n",
    "# Create Switching Regression Model\n",
    "true_model = SwitchingGaussianRegression(K=2, input_dim=3, output_dim=1, include_intercept=true)\n",
    "\n",
    "# Plug in the emission models\n",
    "true_model.B[1] = emission_1\n",
    "true_model.B[2] = emission_2\n",
    "\n",
    "# Sample from the model\n",
    "n = 100\n",
    "Φ = randn(3, n)\n",
    "true_labels, data = SSD.sample(true_model, Φ, n=n)\n",
    "\n",
    "test_model = SSD.SwitchingGaussianRegression(K=2, input_dim=3, output_dim=1, include_intercept=true)\n",
    "\n",
    "\"\"\"\n",
    "Time the forward backward algorithm\n",
    "\"\"\"\n",
    "X=Φ\n",
    "Y=data\n",
    "lls = [-Inf]\n",
    "\n",
    "SSD.fit!(test_model, data, Φ)\n",
    "\n",
    "# model=test_model\n",
    "# data = X === nothing ? (Y,) : (X, Y)\n",
    "# # transpose data so that correct dimensions are passed to EmissionModels.jl, a bit hacky but works for now.\n",
    "# transpose_data = Matrix.(transpose.(data))\n",
    "# log_likelihood = -Inf\n",
    "\n"
   ]
  },
  {
   "cell_type": "code",
   "execution_count": null,
   "metadata": {},
   "outputs": [],
   "source": [
    "num_obs = size(transpose_data[1], 1)\n",
    "FB_storage = SSD.initialize_forward_backward(model, num_obs)"
   ]
  },
  {
   "cell_type": "code",
   "execution_count": 21,
   "metadata": {},
   "outputs": [
    {
     "data": {
      "text/plain": [
       "emission_loglikelihoods2! (generic function with 2 methods)"
      ]
     },
     "metadata": {},
     "output_type": "display_data"
    }
   ],
   "source": [
    "# Using a local reference\n",
    "function emission_loglikelihoods!(model::HiddenMarkovModel, FB_storage::SSD.ForwardBackward, data)\n",
    "    loglikelihoods = FB_storage.loglikelihoods\n",
    "    for k in 1:model.K\n",
    "        loglikelihoods[k, :] .= loglikelihood(model.B[k], data...)\n",
    "    end\n",
    "end\n",
    "\n",
    "function emission_loglikelihoods2!(model::HiddenMarkovModel, FB_storage::SSD.ForwardBackward, data)\n",
    "    for k in 1:model.K\n",
    "        FB_storage.loglikelihoods[k, :] .= loglikelihood(model.B[k], data...)\n",
    "    end\n",
    "end"
   ]
  },
  {
   "cell_type": "code",
   "execution_count": 58,
   "metadata": {},
   "outputs": [
    {
     "name": "stdout",
     "output_type": "stream",
     "text": [
      "  0.000144 seconds (38 allocations: 314.812 KiB)\n",
      "  0.000154 seconds (38 allocations: 314.812 KiB)\n"
     ]
    }
   ],
   "source": [
    "@time emission_loglikelihoods!(model, FB_storage, transpose_data)\n",
    "@time emission_loglikelihoods2!(model, FB_storage, transpose_data)"
   ]
  },
  {
   "cell_type": "code",
   "execution_count": 17,
   "metadata": {},
   "outputs": [
    {
     "data": {
      "text/plain": [
       "2000"
      ]
     },
     "metadata": {},
     "output_type": "display_data"
    }
   ],
   "source": [
    "size(transpose_data[1])[1]"
   ]
  },
  {
   "cell_type": "code",
   "execution_count": 3,
   "metadata": {},
   "outputs": [
    {
     "name": "stdout",
     "output_type": "stream",
     "text": [
      "  1.684387 seconds (2.63 M allocations: 171.443 MiB, 1.31% gc time, 265.26% compilation time)\n"
     ]
    }
   ],
   "source": [
    "@time γ, ξ, α, β = estep(model, transpose_data);"
   ]
  },
  {
   "cell_type": "code",
   "execution_count": 19,
   "metadata": {},
   "outputs": [
    {
     "name": "stdout",
     "output_type": "stream",
     "text": [
      "emission_loglikelihoods stats:\n",
      "  0.000186 seconds (113 allocations: 354.211 KiB)\n",
      "forward stats:\n",
      "  0.000715 seconds (31.99 k allocations: 531.125 KiB)\n",
      "backward stats:\n",
      "  0.000830 seconds (47.98 k allocations: 781.000 KiB)\n",
      "γ stats:\n",
      "  0.377217 seconds (273.81 k allocations: 18.531 MiB, 443.97% compilation time)\n",
      "ξ stats:\n",
      "  0.124611 seconds (335.17 k allocations: 20.343 MiB, 8.55% gc time, 99.45% compilation time)\n"
     ]
    },
    {
     "data": {
      "text/plain": [
       "2×2×1999 Array{Float64, 3}:\n",
       "[:, :, 1] =\n",
       " -2.50659  -0.937908\n",
       " -2.49195  -0.811346\n",
       "\n",
       "[:, :, 2] =\n",
       " -3.564    -1.99532\n",
       " -2.03089  -0.350286\n",
       "\n",
       "[:, :, 3] =\n",
       " -3.59334  -2.02467\n",
       " -2.02522  -0.344618\n",
       "\n",
       ";;; … \n",
       "\n",
       "[:, :, 1997] =\n",
       " -3.59381  -2.02513\n",
       " -2.02513  -0.34453\n",
       "\n",
       "[:, :, 1998] =\n",
       " -3.59381  -2.02513\n",
       " -2.02513  -0.34453\n",
       "\n",
       "[:, :, 1999] =\n",
       " -3.59381  -2.02513\n",
       " -2.02513  -0.34453"
      ]
     },
     "metadata": {},
     "output_type": "display_data"
    }
   ],
   "source": [
    "# compute lls of the observations\n",
    "println(\"emission_loglikelihoods stats:\")\n",
    "@time loglikelihoods = SSD.emission_loglikelihoods(model, transpose_data...);\n",
    "\n",
    "# run forward-backward algorithm\n",
    "println(\"forward stats:\")\n",
    "@time α = SSD.forward(model, loglikelihoods);\n",
    "\n",
    "println(\"backward stats:\")\n",
    "@time β = SSD.backward(model, loglikelihoods);\n",
    "\n",
    "println(\"γ stats:\")\n",
    "@time γ = SSD.calculate_γ(model, α, β)\n",
    "\n",
    "println(\"ξ stats:\")\n",
    "@time ξ = SSD.calculate_ξ(model, α, β, loglikelihoods)\n"
   ]
  },
  {
   "cell_type": "code",
   "execution_count": null,
   "metadata": {},
   "outputs": [],
   "source": []
  },
  {
   "cell_type": "markdown",
   "metadata": {},
   "source": [
    "# Switching Gaussian Regression #"
   ]
  },
  {
   "cell_type": "code",
   "execution_count": 4,
   "metadata": {},
   "outputs": [
    {
     "name": "stdout",
     "output_type": "stream",
     "text": [
      "truetrue"
     ]
    }
   ],
   "source": [
    "# Create Emission Models\n",
    "emission_1 = GaussianRegressionEmission(input_dim=3, output_dim=1, include_intercept=true, β=reshape([3, 2, 2, 3], :, 1))\n",
    "emission_2 = GaussianRegressionEmission(input_dim=3, output_dim=1, include_intercept=true, β=reshape([-4, -2, 3, 2], :, 1))\n",
    "\n",
    "# Create Switching Regression Model\n",
    "true_model = SwitchingGaussianRegression(K=2, input_dim=3, output_dim=1, include_intercept=true)\n",
    "\n",
    "# Plug in the emission models\n",
    "true_model.B[1] = emission_1\n",
    "true_model.B[2] = emission_2\n",
    "\n",
    "# Sample from the model\n",
    "n = 20000\n",
    "Φ = randn(3, n)\n",
    "true_labels, data = SSD.sample(true_model, Φ, n=n)\n",
    "\n",
    "# Try to fit a new model to the data\n",
    "test_model = SSD.SwitchingGaussianRegression(K=2, input_dim=3, output_dim=1, include_intercept=true)\n",
    "ll = SSD.fit!(test_model, data, Φ)\n",
    "\n",
    "# # Test output -> not quite right yet\n",
    "print(isapprox(test_model.B[1].β, true_model.B[1].β, atol=0.1) || isapprox(test_model.B[1].β, true_model.B[2].β, atol=0.1))\n",
    "print(isapprox(test_model.B[2].β, true_model.B[2].β, atol=0.1) || isapprox(test_model.B[2].β, true_model.B[1].β, atol=0.1))"
   ]
  },
  {
   "cell_type": "code",
   "execution_count": 5,
   "metadata": {},
   "outputs": [
    {
     "name": "stdout",
     "output_type": "stream",
     "text": [
      "truetrue"
     ]
    }
   ],
   "source": [
    "\"\"\"\n",
    "Create a Switching Poisson Regression\n",
    "\"\"\"\n",
    "# Create the emission models\n",
    "emission_1 = PoissonRegressionEmission(input_dim=3, output_dim=2, include_intercept=false, β=[1 2; 1 2; 1 2])\n",
    "emission_2 = PoissonRegressionEmission(input_dim=3, output_dim=2, include_intercept=false, β=[2 1; 2 1; 2 1])\n",
    "\n",
    "# Initialize the SwitchingPoissonRegression\n",
    "true_model = SwitchingPoissonRegression(K=2, input_dim=3, output_dim=2, include_intercept=false)\n",
    "\n",
    "# Plug in the emission models\n",
    "true_model.B[1] = emission_1\n",
    "true_model.B[2] = emission_2\n",
    "\n",
    "# Sample from the HMM\n",
    "n=20000\n",
    "Φ = randn(3, n)\n",
    "true_labels, data = SSD.sample(true_model, Φ, n=n)\n",
    "\n",
    "# Create a new SwitchingPoissonRegression and try to recover parameters\n",
    "test_model = SwitchingPoissonRegression(K=2, input_dim=3, output_dim=2, include_intercept=false)\n",
    "\n",
    "# Create the emission models for warm start\n",
    "emission_1 = PoissonRegressionEmission(input_dim=3, output_dim=2, include_intercept=false, β=[1.0 2.0; 1.0 2.0; 1.0 2.0])\n",
    "emission_2 = PoissonRegressionEmission(input_dim=3, output_dim=2, include_intercept=false, β=[2.0 1.0; 2.0 1.0; 2.0 1.0])\n",
    "test_model.B[1], test_model.B[2] = emission_1, emission_2\n",
    "\n",
    "ll = SSD.fit!(test_model, data, Φ, max_iters=100)\n",
    "\n",
    "print(isapprox(test_model.B[1].β, true_model.B[1].β, atol=0.1) || isapprox(test_model.B[1].β, true_model.B[2].β, atol=0.1))\n",
    "print(isapprox(test_model.B[2].β, true_model.B[2].β, atol=0.1) || isapprox(test_model.B[2].β, true_model.B[1].β, atol=0.1))\n"
   ]
  },
  {
   "cell_type": "markdown",
   "metadata": {},
   "source": [
    "# Switching Bernoulli Regression #"
   ]
  },
  {
   "cell_type": "code",
   "execution_count": 8,
   "metadata": {},
   "outputs": [
    {
     "name": "stdout",
     "output_type": "stream",
     "text": [
      "truefalse"
     ]
    }
   ],
   "source": [
    "# Make Emission Models\n",
    "emission_1 = StateSpaceDynamics.BernoulliRegressionEmission(input_dim=2, output_dim=1, include_intercept=true, β = reshape([3, 1, 2], :, 1))\n",
    "emission_2 = StateSpaceDynamics.BernoulliRegressionEmission(input_dim=2, output_dim=1, include_intercept=true, β = reshape([-3, -2, 0.1], :, 1))\n",
    "\n",
    "# Create Switching Bernoulli Regression and add the emissions\n",
    "true_model = StateSpaceDynamics.SwitchingBernoulliRegression(K=2, input_dim=2)\n",
    "true_model.A = [0.9 0.1; 0.2 0.8]\n",
    "true_model.B[1] = emission_1\n",
    "true_model.B[2] = emission_2\n",
    "\n",
    "# Sample from the model\n",
    "n=20000\n",
    "Φ = randn(2, n)\n",
    "true_labels, data = StateSpaceDynamics.sample(true_model, Φ, n=n)\n",
    "\n",
    "# Fit a new Bernoulli Regression Model to the data\n",
    "test_model = StateSpaceDynamics.SwitchingBernoulliRegression(K=2, input_dim=2, λ=1.0)\n",
    "test_model.A = [0.75 0.25; 0.1 0.9]\n",
    "test_model.B[1] = StateSpaceDynamics.BernoulliRegressionEmission(input_dim=2, output_dim=1, include_intercept=true, β = reshape([2.5, 0.25, 1.0], :, 1))\n",
    "test_model.B[2] = StateSpaceDynamics.BernoulliRegressionEmission(input_dim=2, output_dim=1, include_intercept=true, β = reshape([-2.0, -3.0, -1.0], :, 1))\n",
    "ll = StateSpaceDynamics.fit!(test_model, data, Φ, max_iters=200)\n",
    "print(isapprox(test_model.B[1].β, true_model.B[1].β, atol=0.2) || isapprox(test_model.B[1].β, true_model.B[2].β, atol=0.2))\n",
    "print(isapprox(test_model.B[2].β, true_model.B[2].β, atol=0.2) || isapprox(test_model.B[2].β, true_model.B[1].β, atol=0.2))\n"
   ]
  },
  {
   "cell_type": "markdown",
   "metadata": {},
   "source": [
    "# Switching Poisson Regression"
   ]
  },
  {
   "cell_type": "code",
   "execution_count": 10,
   "metadata": {},
   "outputs": [
    {
     "name": "stdout",
     "output_type": "stream",
     "text": [
      "truetrue"
     ]
    }
   ],
   "source": [
    "\"\"\"\n",
    "Create a Switching Poisson Regression\n",
    "\"\"\"\n",
    "# Create the emission models\n",
    "emission_1 = PoissonRegressionEmission(input_dim=3, output_dim=1, include_intercept=true, β=reshape([4, 3, 2, 4], :, 1))\n",
    "emission_2 = PoissonRegressionEmission(input_dim=3, output_dim=1, include_intercept=true, β=reshape([-4, -2, 1, 3], :, 1))\n",
    "\n",
    "# Initialize the SwitchingPoissonRegression\n",
    "true_model = SwitchingPoissonRegression(K=2, input_dim=3, output_dim=1)\n",
    "\n",
    "# Plug in the emission models\n",
    "true_model.B[1] = emission_1\n",
    "true_model.B[2] = emission_2\n",
    "\n",
    "# Sample from the HMM\n",
    "n=20000\n",
    "Φ = randn(3, n)\n",
    "true_labels, data = SSD.sample(true_model, Φ, n=n)\n",
    "\n",
    "# Create a new SwitchingPoissonRegression and try to recover parameters\n",
    "test_model = SwitchingPoissonRegression(K=2, input_dim=3, output_dim=1)\n",
    "\n",
    "# Create the emission models for warm start\n",
    "emission_1 = PoissonRegressionEmission(input_dim=3, output_dim=1, include_intercept=true, β=reshape([2.0, 1.0, 4.0, 2.0], :, 1))\n",
    "emission_2 = PoissonRegressionEmission(input_dim=3, output_dim=1, include_intercept=true, β=reshape([-5.0, -1.0, 0.0, 2.0], :, 1))\n",
    "test_model.B[1], test_model.B[2] = emission_1, emission_2\n",
    "\n",
    "ll = SSD.fit!(test_model, data, Φ, max_iters=200)\n",
    "\n",
    "print(isapprox(test_model.B[1].β, true_model.B[1].β, atol=0.1) || isapprox(test_model.B[1].β, true_model.B[2].β, atol=0.1))\n",
    "print(isapprox(test_model.B[2].β, true_model.B[2].β, atol=0.1) || isapprox(test_model.B[2].β, true_model.B[1].β, atol=0.1))\n"
   ]
  }
 ],
 "metadata": {
  "kernelspec": {
   "display_name": "Julia 1.10.4",
   "language": "julia",
   "name": "julia-1.10"
  },
  "language_info": {
   "file_extension": ".jl",
   "mimetype": "application/julia",
   "name": "julia",
   "version": "1.10.4"
  },
  "orig_nbformat": 4
 },
 "nbformat": 4,
 "nbformat_minor": 2
}
