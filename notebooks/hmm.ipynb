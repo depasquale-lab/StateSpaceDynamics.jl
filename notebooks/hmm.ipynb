{
 "cells": [
  {
   "cell_type": "code",
   "execution_count": 2,
   "metadata": {},
   "outputs": [
    {
     "data": {
      "text/plain": [
       "StateSpaceDynamics"
      ]
     },
     "metadata": {},
     "output_type": "display_data"
    }
   ],
   "source": [
    "using LinearAlgebra\n",
    "# using Plots\n",
    "using Random\n",
    "using StateSpaceDynamics\n",
    "using Plots\n",
    "\n",
    "const SSD = StateSpaceDynamics"
   ]
  },
  {
   "cell_type": "code",
   "execution_count": null,
   "metadata": {},
   "outputs": [],
   "source": [
    "# Define parameters\n",
    "num_trials = 50  # Number of trials\n",
    "trial_length = 1000  # Number of time steps per trial\n",
    "\n",
    "# Create the emission models\n",
    "emission_1 = PoissonRegressionEmission(;\n",
    "    input_dim=3, output_dim=1, include_intercept=true, β=reshape([4, 3, 2, 4], :, 1)\n",
    ")\n",
    "emission_2 = PoissonRegressionEmission(;\n",
    "    input_dim=3, output_dim=1, include_intercept=true, β=reshape([-4, -2, 1, 3], :, 1)\n",
    ")\n",
    "\n",
    "# Initialize the SwitchingPoissonRegression model\n",
    "true_model = SwitchingPoissonRegression(; K=2, input_dim=3, output_dim=1)\n",
    "true_model.A = [0.9 0.1; 0.2 0.8]\n",
    "\n",
    "# Plug in the emission models\n",
    "true_model.B[1] = emission_1\n",
    "true_model.B[2] = emission_2\n",
    "\n",
    "# Create lists to hold data and labels for each trial\n",
    "Φ_trials = [randn(3, trial_length) for _ in 1:num_trials]  # Input features for each trial\n",
    "true_labels_trials = Vector{Vector{Int}}(undef, num_trials)\n",
    "data_trials = Vector{Matrix{Float64}}(undef, num_trials)\n",
    "\n",
    "# Sample data for each trial\n",
    "for i in 1:num_trials\n",
    "    true_labels_trials[i], data_trials[i] = StateSpaceDynamics.sample(\n",
    "        true_model, Φ_trials[i]; n=trial_length\n",
    "    )\n",
    "end\n",
    "\n",
    "# Create a new SwitchingPoissonRegression and try to recover parameters\n",
    "test_model = SwitchingPoissonRegression(; K=2, input_dim=3, output_dim=1)\n",
    "\n",
    "# Initialize the emission models for warm start\n",
    "emission_1 = PoissonRegressionEmission(;\n",
    "    input_dim=3,\n",
    "    output_dim=1,\n",
    "    include_intercept=true,\n",
    "    β=reshape([2.0, 1.0, 4.0, 2.0], :, 1),\n",
    ")\n",
    "emission_2 = PoissonRegressionEmission(;\n",
    "    input_dim=3,\n",
    "    output_dim=1,\n",
    "    include_intercept=true,\n",
    "    β=reshape([-5.0, -1.0, 0.0, 2.0], :, 1),\n",
    ")\n",
    "test_model.B[1], test_model.B[2] = emission_1, emission_2\n",
    "\n",
    "# Fit the model using data from all trials\n",
    "ll = StateSpaceDynamics.fit!(test_model, data_trials, Φ_trials; max_iters=200)"
   ]
  },
  {
   "cell_type": "markdown",
   "metadata": {},
   "source": [
    "# Gaussian HMM"
   ]
  },
  {
   "cell_type": "code",
   "execution_count": 6,
   "metadata": {},
   "outputs": [
    {
     "name": "stdout",
     "output_type": "stream",
     "text": [
      "truetrue"
     ]
    }
   ],
   "source": [
    "\"\"\"\n",
    "Create an underlying GaussianHMM to generate data\n",
    "\"\"\"\n",
    "\n",
    "# Create Guassian Emission Models\n",
    "output_dim = 2\n",
    "μ = [0.0, 0.0]\n",
    "Σ = 0.1 * Matrix{Float64}(I, output_dim, output_dim)\n",
    "emission_1 = GaussianEmission(output_dim, μ, Σ)\n",
    "\n",
    "output_dim = 2\n",
    "μ = [0.0, 1.0]\n",
    "Σ = 0.1 * Matrix{Float64}(I, output_dim, output_dim)\n",
    "emission_3 = GaussianEmission(output_dim, μ, Σ)\n",
    "\n",
    "μ = [2.0, 1.0]\n",
    "Σ = 0.1 * Matrix{Float64}(I, output_dim, output_dim)\n",
    "emission_2 = GaussianEmission(output_dim, μ, Σ)\n",
    "#\n",
    "# Create GaussianHMM\n",
    "true_model = SSD.GaussianHMM(K=2, output_dim=2)\n",
    "true_model.B[1] = emission_1\n",
    "true_model.B[2] = emission_2\n",
    "true_model.A = [0.9 0.1; 0.8 0.2]\n",
    "\n",
    "# Sample from the model\n",
    "n=10000\n",
    "true_labels, data = SSD.sample(true_model, n=n)\n",
    "\n",
    "# Fit a gaussian hmm to the data\n",
    "test_model = SSD.GaussianHMM(K=2, output_dim=2)\n",
    "# test_model.B[1] = emission_1\n",
    "test_model.A = [0.4 0.6; 0.7 0.3]\n",
    "lls = SSD.fit!(test_model, data)\n",
    "\n",
    "print(isapprox(test_model.B[1].μ, true_model.B[1].μ, atol=0.1) || isapprox(test_model.B[1].μ, true_model.B[2].μ, atol=0.1))\n",
    "print(isapprox(test_model.B[2].μ, true_model.B[2].μ, atol=0.1) || isapprox(test_model.B[2].μ, true_model.B[1].μ, atol=0.1))"
   ]
  },
  {
   "cell_type": "code",
   "execution_count": 37,
   "metadata": {},
   "outputs": [
    {
     "data": {
      "text/plain": [
       "2-element Vector{Float64}:\n",
       " 1.996792362755173\n",
       " 0.9899091291424154"
      ]
     },
     "metadata": {},
     "output_type": "display_data"
    }
   ],
   "source": [
    "test_model.B[2].μ"
   ]
  },
  {
   "cell_type": "code",
   "execution_count": 45,
   "metadata": {},
   "outputs": [],
   "source": [
    "lls = [-Inf]\n",
    "data = (data,)\n",
    "# transpose data so that correct dimensions are passed to EmissionModels.jl, a bit hacky but works for now.\n",
    "transpose_data = Matrix.(transpose.(data))\n",
    "\n",
    "num_obs = size(transpose_data[1], 1)\n",
    "# initialize forward backward storage\n",
    "FB_storage = SSD.initialize_forward_backward(test_model, num_obs)\n",
    "\n",
    "SSD.estep!(test_model, transpose_data, FB_storage)"
   ]
  },
  {
   "cell_type": "code",
   "execution_count": 50,
   "metadata": {},
   "outputs": [
    {
     "data": {
      "text/plain": [
       "2×10000 Matrix{Float64}:\n",
       " -436.323         0.240644   -0.572088  …  -8587.79  -8587.75  -8612.11\n",
       "   -0.00823141  -26.347     -17.1795       -8609.28  -8618.49  -8590.46"
      ]
     },
     "metadata": {},
     "output_type": "display_data"
    }
   ],
   "source": [
    "FB_storage.α"
   ]
  },
  {
   "cell_type": "code",
   "execution_count": 48,
   "metadata": {},
   "outputs": [
    {
     "data": {
      "text/plain": [
       "10000×2 Matrix{Float64}:\n",
       "  2.25584     0.837458\n",
       "  0.0196819  -0.0816484\n",
       "  0.361558    0.320145\n",
       "  1.43208     0.69254\n",
       " -0.04613    -0.276725\n",
       "  0.440059    0.132799\n",
       "  1.74184     1.72583\n",
       "  1.97492     0.761777\n",
       " -0.255154    0.186409\n",
       "  0.069949   -0.0889173\n",
       "  ⋮          \n",
       " -0.169008   -0.391008\n",
       "  0.361558   -0.179718\n",
       "  2.06916     0.995074\n",
       " -0.397545   -0.112927\n",
       "  1.81584     1.34284\n",
       "  0.339271   -0.0533657\n",
       "  0.300483   -0.051962\n",
       " -0.240998    0.086352\n",
       "  2.12374     0.617698"
      ]
     },
     "metadata": {},
     "output_type": "display_data"
    }
   ],
   "source": [
    "transpose_data[1]"
   ]
  },
  {
   "cell_type": "code",
   "execution_count": 4,
   "metadata": {},
   "outputs": [
    {
     "data": {
      "text/plain": [
       "2×10000 Matrix{Float64}:\n",
       " -15.8482   -0.205209  -0.159205  …  -0.248589  -3.90579  -24.8337\n",
       "  -3.46916  -1.90487   -1.90027      -1.90921   -2.27493   -4.36772"
      ]
     },
     "metadata": {},
     "output_type": "display_data"
    }
   ],
   "source": [
    "SSD.emission_loglikelihoods!(test_model, FB_storage, transpose_data...)\n",
    "FB_storage.loglikelihoods"
   ]
  },
  {
   "cell_type": "code",
   "execution_count": 5,
   "metadata": {},
   "outputs": [
    {
     "data": {
      "text/plain": [
       "2×10000 Matrix{Float64}:\n",
       " -18.3935   -6.7518   -6.93775  -7.88035  …  -14167.7  -14171.8  -14196.7\n",
       "  -3.55086  -5.50702  -7.39972  -9.12288     -14170.5  -14171.3  -14175.6"
      ]
     },
     "metadata": {},
     "output_type": "display_data"
    }
   ],
   "source": [
    "SSD.forward!(test_model, FB_storage)\n",
    "FB_storage.α"
   ]
  },
  {
   "cell_type": "code",
   "execution_count": 6,
   "metadata": {},
   "outputs": [
    {
     "data": {
      "text/plain": [
       "2×10000 Matrix{Float64}:\n",
       " -14169.5  -14169.1  -14168.7  -14167.7  …  -8.44509  -8.15078  -5.97716  0.0\n",
       " -14172.0  -14171.6  -14171.1  -14170.2     -8.63799  -6.74307  -4.41901  0.0"
      ]
     },
     "metadata": {},
     "output_type": "display_data"
    }
   ],
   "source": [
    "SSD.backward!(test_model, FB_storage)\n",
    "FB_storage.β"
   ]
  },
  {
   "cell_type": "code",
   "execution_count": 7,
   "metadata": {},
   "outputs": [
    {
     "data": {
      "text/plain": [
       "2×10000 Matrix{Float64}:\n",
       " -12.3159      -0.249621  -0.0573202  …  -0.220628  -2.17216  -21.1544\n",
       "  -4.47991e-6  -1.51003   -2.88763       -1.61956   -0.12096   -6.49379e-10"
      ]
     },
     "metadata": {},
     "output_type": "display_data"
    }
   ],
   "source": [
    "SSD.calculate_γ!(test_model, FB_storage)\n",
    "FB_storage.γ"
   ]
  },
  {
   "cell_type": "code",
   "execution_count": 15,
   "metadata": {},
   "outputs": [
    {
     "data": {
      "text/plain": [
       "nearest_covariance_matrix"
      ]
     },
     "metadata": {},
     "output_type": "display_data"
    }
   ],
   "source": [
    "\"\"\"\n",
    "Find the nearest covariance matrix to matrix A in Frobenius norm using Higham's algorithm.\n",
    "\n",
    "Arguments:\n",
    "- `A`: Input matrix (should be square)\n",
    "- `max_iter`: Maximum number of iterations\n",
    "- `tol`: Convergence tolerance\n",
    "\n",
    "Returns:\n",
    "- The nearest covariance matrix to A\n",
    "\"\"\"\n",
    "function nearest_covariance_matrix(A; max_iter=100, tol=1e-6)\n",
    "    # Convert to Matrix{Float64} to ensure numerical stability\n",
    "    A = convert(Matrix{Float64}, A)\n",
    "    n = size(A, 1)\n",
    "    \n",
    "    # Symmetrize A\n",
    "    A = (A + A') / 2\n",
    "    \n",
    "    # Initial projection onto PSD cone\n",
    "    F = eigen(Symmetric(A))\n",
    "    eigvals = max.(F.values, 0)\n",
    "    X = F.vectors * Diagonal(eigvals) * F.vectors'\n",
    "    \n",
    "    # Initialize Dykstra's correction matrices\n",
    "    Y = zeros(n, n)\n",
    "    S = zeros(n, n)\n",
    "    \n",
    "    for _ in 1:max_iter\n",
    "        X_old = copy(X)\n",
    "        \n",
    "        # Project onto symmetric matrices with unit diagonal\n",
    "        R = X - Y\n",
    "        R = (R + R') / 2  # Ensure symmetry\n",
    "        Y = R - Diagonal(diag(R)) + I\n",
    "        \n",
    "        # Project onto PSD cone\n",
    "        R = Y - S\n",
    "        F = eigen(Symmetric(R))\n",
    "        eigvals = max.(F.values, 0)\n",
    "        X = F.vectors * Diagonal(eigvals) * F.vectors'\n",
    "        S = X - R\n",
    "        \n",
    "        # Check convergence using Frobenius norm\n",
    "        if norm(X - X_old) < tol\n",
    "            break\n",
    "        end\n",
    "    end\n",
    "    \n",
    "    # Ensure perfect symmetry in output\n",
    "    return (X + X') / 2\n",
    "end"
   ]
  },
  {
   "cell_type": "code",
   "execution_count": null,
   "metadata": {},
   "outputs": [
    {
     "data": {
      "text/plain": [
       "nearest_covariance_simple"
      ]
     },
     "metadata": {},
     "output_type": "display_data"
    }
   ],
   "source": [
    "\"\"\"\n",
    "Find nearest covariance matrix by simple eigenvalue projection.\n",
    "Just sets negative eigenvalues to zero.\n",
    "\"\"\"\n",
    "function enforce_posdef(A)\n",
    "    # Symmetrize first\n",
    "    A = (A + A') / 2\n",
    "    \n",
    "    # Eigendecomposition and fix negative eigenvalues\n",
    "    F = eigen(Symmetric(A))\n",
    "    eigvals = max.(F.values, 0)\n",
    "    return F.vectors * Diagonal(eigvals) * F.vectors'\n",
    "end"
   ]
  },
  {
   "cell_type": "code",
   "execution_count": 33,
   "metadata": {},
   "outputs": [
    {
     "data": {
      "text/plain": [
       "2×2 Matrix{Float64}:\n",
       " 1.0          1.66533e-16\n",
       " 1.66533e-16  1.0"
      ]
     },
     "metadata": {},
     "output_type": "display_data"
    }
   ],
   "source": [
    "nearest_covariance_matrix([0.98 0.92; 0.92 1.0])"
   ]
  },
  {
   "cell_type": "code",
   "execution_count": 42,
   "metadata": {},
   "outputs": [
    {
     "data": {
      "text/plain": [
       "4×4 Matrix{Float64}:\n",
       " 0.764114  0.624749  0.628557  0.715401\n",
       " 0.624749  0.673734  0.345721  0.488553\n",
       " 0.628557  0.345721  0.828511  0.593067\n",
       " 0.715401  0.488553  0.593067  0.792134"
      ]
     },
     "metadata": {},
     "output_type": "display_data"
    }
   ],
   "source": [
    "nearest_covariance_simple(rand(4, 4))"
   ]
  },
  {
   "cell_type": "code",
   "execution_count": 1,
   "metadata": {},
   "outputs": [
    {
     "data": {
      "text/plain": [
       "StateSpaceDynamics"
      ]
     },
     "metadata": {},
     "output_type": "display_data"
    }
   ],
   "source": [
    "using LinearAlgebra\n",
    "# using Plots\n",
    "using Random\n",
    "using StateSpaceDynamics\n",
    "\n",
    "\n",
    "const SSD = StateSpaceDynamics"
   ]
  },
  {
   "cell_type": "markdown",
   "metadata": {},
   "source": [
    "# Section for timing and memory improvements of forward backward"
   ]
  },
  {
   "cell_type": "code",
   "execution_count": 10,
   "metadata": {},
   "outputs": [
    {
     "name": "stdout",
     "output_type": "stream",
     "text": [
      "100\n"
     ]
    },
    {
     "data": {
      "text/plain": [
       "4-element Vector{Float64}:\n",
       "   -Inf\n",
       " -1459.014642217791\n",
       "  -689.4429633312888\n",
       "  -689.4429633312888"
      ]
     },
     "metadata": {},
     "output_type": "display_data"
    }
   ],
   "source": [
    "\"\"\"\n",
    "Sample from true model and initialize model to fit\n",
    "\"\"\"\n",
    "\n",
    "# Create Emission Models\n",
    "emission_1 = GaussianRegressionEmission(input_dim=3, output_dim=1, include_intercept=true, β=reshape([3, 2, 2, 3], :, 1))\n",
    "emission_2 = GaussianRegressionEmission(input_dim=3, output_dim=1, include_intercept=true, β=reshape([-4, -2, 3, 2], :, 1))\n",
    "\n",
    "# Create Switching Regression Model\n",
    "true_model = SwitchingGaussianRegression(K=2, input_dim=3, output_dim=1, include_intercept=true)\n",
    "\n",
    "# Plug in the emission models\n",
    "true_model.B[1] = emission_1\n",
    "true_model.B[2] = emission_2\n",
    "\n",
    "# Sample from the model\n",
    "n = 100\n",
    "Φ = randn(3, n)\n",
    "true_labels, data = SSD.sample(true_model, Φ, n=n)\n",
    "\n",
    "test_model = SSD.SwitchingGaussianRegression(K=2, input_dim=3, output_dim=1, include_intercept=true)\n",
    "\n",
    "\"\"\"\n",
    "Time the forward backward algorithm\n",
    "\"\"\"\n",
    "X=Φ\n",
    "Y=data\n",
    "lls = [-Inf]\n",
    "\n",
    "SSD.fit!(test_model, data, Φ)\n",
    "\n",
    "# model=test_model\n",
    "# data = X === nothing ? (Y,) : (X, Y)\n",
    "# # transpose data so that correct dimensions are passed to EmissionModels.jl, a bit hacky but works for now.\n",
    "# transpose_data = Matrix.(transpose.(data))\n",
    "# log_likelihood = -Inf\n",
    "\n"
   ]
  },
  {
   "cell_type": "code",
   "execution_count": null,
   "metadata": {},
   "outputs": [],
   "source": [
    "num_obs = size(transpose_data[1], 1)\n",
    "FB_storage = SSD.initialize_forward_backward(model, num_obs)"
   ]
  },
  {
   "cell_type": "code",
   "execution_count": 21,
   "metadata": {},
   "outputs": [
    {
     "data": {
      "text/plain": [
       "emission_loglikelihoods2! (generic function with 2 methods)"
      ]
     },
     "metadata": {},
     "output_type": "display_data"
    }
   ],
   "source": [
    "# Using a local reference\n",
    "function emission_loglikelihoods!(model::HiddenMarkovModel, FB_storage::SSD.ForwardBackward, data)\n",
    "    loglikelihoods = FB_storage.loglikelihoods\n",
    "    for k in 1:model.K\n",
    "        loglikelihoods[k, :] .= loglikelihood(model.B[k], data...)\n",
    "    end\n",
    "end\n",
    "\n",
    "function emission_loglikelihoods2!(model::HiddenMarkovModel, FB_storage::SSD.ForwardBackward, data)\n",
    "    for k in 1:model.K\n",
    "        FB_storage.loglikelihoods[k, :] .= loglikelihood(model.B[k], data...)\n",
    "    end\n",
    "end"
   ]
  },
  {
   "cell_type": "code",
   "execution_count": 58,
   "metadata": {},
   "outputs": [
    {
     "name": "stdout",
     "output_type": "stream",
     "text": [
      "  0.000144 seconds (38 allocations: 314.812 KiB)\n",
      "  0.000154 seconds (38 allocations: 314.812 KiB)\n"
     ]
    }
   ],
   "source": [
    "@time emission_loglikelihoods!(model, FB_storage, transpose_data)\n",
    "@time emission_loglikelihoods2!(model, FB_storage, transpose_data)"
   ]
  },
  {
   "cell_type": "code",
   "execution_count": 17,
   "metadata": {},
   "outputs": [
    {
     "data": {
      "text/plain": [
       "2000"
      ]
     },
     "metadata": {},
     "output_type": "display_data"
    }
   ],
   "source": [
    "size(transpose_data[1])[1]"
   ]
  },
  {
   "cell_type": "code",
   "execution_count": 3,
   "metadata": {},
   "outputs": [
    {
     "name": "stdout",
     "output_type": "stream",
     "text": [
      "  1.684387 seconds (2.63 M allocations: 171.443 MiB, 1.31% gc time, 265.26% compilation time)\n"
     ]
    }
   ],
   "source": [
    "@time γ, ξ, α, β = estep(model, transpose_data);"
   ]
  },
  {
   "cell_type": "code",
   "execution_count": 19,
   "metadata": {},
   "outputs": [
    {
     "name": "stdout",
     "output_type": "stream",
     "text": [
      "emission_loglikelihoods stats:\n",
      "  0.000186 seconds (113 allocations: 354.211 KiB)\n",
      "forward stats:\n",
      "  0.000715 seconds (31.99 k allocations: 531.125 KiB)\n",
      "backward stats:\n",
      "  0.000830 seconds (47.98 k allocations: 781.000 KiB)\n",
      "γ stats:\n",
      "  0.377217 seconds (273.81 k allocations: 18.531 MiB, 443.97% compilation time)\n",
      "ξ stats:\n",
      "  0.124611 seconds (335.17 k allocations: 20.343 MiB, 8.55% gc time, 99.45% compilation time)\n"
     ]
    },
    {
     "data": {
      "text/plain": [
       "2×2×1999 Array{Float64, 3}:\n",
       "[:, :, 1] =\n",
       " -2.50659  -0.937908\n",
       " -2.49195  -0.811346\n",
       "\n",
       "[:, :, 2] =\n",
       " -3.564    -1.99532\n",
       " -2.03089  -0.350286\n",
       "\n",
       "[:, :, 3] =\n",
       " -3.59334  -2.02467\n",
       " -2.02522  -0.344618\n",
       "\n",
       ";;; … \n",
       "\n",
       "[:, :, 1997] =\n",
       " -3.59381  -2.02513\n",
       " -2.02513  -0.34453\n",
       "\n",
       "[:, :, 1998] =\n",
       " -3.59381  -2.02513\n",
       " -2.02513  -0.34453\n",
       "\n",
       "[:, :, 1999] =\n",
       " -3.59381  -2.02513\n",
       " -2.02513  -0.34453"
      ]
     },
     "metadata": {},
     "output_type": "display_data"
    }
   ],
   "source": [
    "# compute lls of the observations\n",
    "println(\"emission_loglikelihoods stats:\")\n",
    "@time loglikelihoods = SSD.emission_loglikelihoods(model, transpose_data...);\n",
    "\n",
    "# run forward-backward algorithm\n",
    "println(\"forward stats:\")\n",
    "@time α = SSD.forward(model, loglikelihoods);\n",
    "\n",
    "println(\"backward stats:\")\n",
    "@time β = SSD.backward(model, loglikelihoods);\n",
    "\n",
    "println(\"γ stats:\")\n",
    "@time γ = SSD.calculate_γ(model, α, β)\n",
    "\n",
    "println(\"ξ stats:\")\n",
    "@time ξ = SSD.calculate_ξ(model, α, β, loglikelihoods)\n"
   ]
  },
  {
   "cell_type": "code",
   "execution_count": null,
   "metadata": {},
   "outputs": [],
   "source": []
  },
  {
   "cell_type": "markdown",
   "metadata": {},
   "source": [
    "# Switching Gaussian Regression #"
   ]
  },
  {
   "cell_type": "code",
   "execution_count": 2,
   "metadata": {},
   "outputs": [
    {
     "name": "stdout",
     "output_type": "stream",
     "text": [
      "[0.3347745603700436 0.6652254396299563; 0.16428961944054915 0.8357103805594508]\n",
      "truetrue"
     ]
    }
   ],
   "source": [
    "# Create Emission Models\n",
    "emission_1 = GaussianRegressionEmission(input_dim=3, output_dim=1, include_intercept=true, β=reshape([3, 2, 2, 3], :, 1))\n",
    "emission_2 = GaussianRegressionEmission(input_dim=3, output_dim=1, include_intercept=true, β=reshape([-4, -2, 3, 2], :, 1))\n",
    "\n",
    "# Create Switching Regression Model\n",
    "true_model = SwitchingGaussianRegression(K=2, input_dim=3, output_dim=1, include_intercept=true)\n",
    "\n",
    "# Plug in the emission models\n",
    "true_model.B[1] = emission_1\n",
    "true_model.B[2] = emission_2\n",
    "\n",
    "# Sample from the model\n",
    "n = 20000\n",
    "Φ = randn(3, n)\n",
    "true_labels, data = SSD.sample(true_model, Φ, n=n)\n",
    "\n",
    "# Try to fit a new model to the data\n",
    "test_model = SSD.SwitchingGaussianRegression(K=2, input_dim=3, output_dim=1, include_intercept=true)\n",
    "println(test_model.A)\n",
    "ll = SSD.fit!(test_model, data, Φ)\n",
    "\n",
    "# # Test output -> not quite right yet\n",
    "print(isapprox(test_model.B[1].β, true_model.B[1].β, atol=0.1) || isapprox(test_model.B[1].β, true_model.B[2].β, atol=0.1))\n",
    "print(isapprox(test_model.B[2].β, true_model.B[2].β, atol=0.1) || isapprox(test_model.B[2].β, true_model.B[1].β, atol=0.1))"
   ]
  },
  {
   "cell_type": "markdown",
   "metadata": {},
   "source": [
    "# Switching Multivariate Gaussian Regression"
   ]
  },
  {
   "cell_type": "code",
   "execution_count": 50,
   "metadata": {},
   "outputs": [
    {
     "name": "stdout",
     "output_type": "stream",
     "text": [
      "falsefalse"
     ]
    }
   ],
   "source": [
    "# Create Emission Models\n",
    "emission_1 = GaussianRegressionEmission(input_dim=50, output_dim=100, include_intercept=true, β=50*rand(51, 100))\n",
    "emission_2 = GaussianRegressionEmission(input_dim=50, output_dim=100, include_intercept=true, β=-30*rand(51, 100))\n",
    "\n",
    "# Create Switching Regression Model\n",
    "true_model = SwitchingGaussianRegression(K=2, input_dim=50, output_dim=100, include_intercept=true)\n",
    "true_model.A = [0.6 0.4; 0.3 0.7]\n",
    "\n",
    "# Plug in the emission models\n",
    "true_model.B[1] = emission_1\n",
    "true_model.B[2] = emission_2\n",
    "\n",
    "# Sample from the model\n",
    "n = 20000\n",
    "Φ = randn(50, n)\n",
    "true_labels, data = SSD.sample(true_model, Φ, n=n)\n",
    "\n",
    "# Try to fit a new model to the data\n",
    "test_model = SSD.SwitchingGaussianRegression(K=2, input_dim=50, output_dim=100, include_intercept=true)\n",
    "test_model.A = [0.9999 0.1111; 0.8888 0.2222]\n",
    "ll = SSD.fit!(test_model, data, Φ)\n",
    "\n",
    "# # # Test output -> not quite right yet\n",
    "print(isapprox(test_model.B[1].β, true_model.B[1].β, atol=0.1) || isapprox(test_model.B[1].β, true_model.B[2].β, atol=0.1))\n",
    "print(isapprox(test_model.B[2].β, true_model.B[2].β, atol=0.1) || isapprox(test_model.B[2].β, true_model.B[1].β, atol=0.1))"
   ]
  },
  {
   "cell_type": "code",
   "execution_count": 51,
   "metadata": {},
   "outputs": [
    {
     "data": {
      "image/png": "[encoded data removed]",
      "image/svg+xml": [
       "<?xml version=\"1.0\" encoding=\"utf-8\"?>\n",
       "<svg xmlns=\"http://www.w3.org/2000/svg\" xmlns:xlink=\"http://www.w3.org/1999/xlink\" width=\"600\" height=\"400\" viewBox=\"0 0 2400 1600\">\n",
       "<defs>\n",
       "  <clipPath id=\"clip400\">\n",
       "    <rect x=\"0\" y=\"0\" width=\"2400\" height=\"1600\"/>\n",
       "  </clipPath>\n",
       "</defs>\n",
       "<path clip-path=\"url(#clip400)\" d=\"M0 1600 L2400 1600 L2400 0 L0 0  Z\" fill=\"#ffffff\" fill-rule=\"evenodd\" fill-opacity=\"1\"/>\n",
       "<defs>\n",
       "  <clipPath id=\"clip401\">\n",
       "    <rect x=\"480\" y=\"0\" width=\"1681\" height=\"1600\"/>\n",
       "  </clipPath>\n",
       "</defs>\n",
       "<path clip-path=\"url(#clip400)\" d=\"M366.367 1486.45 L2352.76 1486.45 L2352.76 47.2441 L366.367 47.2441  Z\" fill=\"#ffffff\" fill-rule=\"evenodd\" fill-opacity=\"1\"/>\n",
       "<defs>\n",
       "  <clipPath id=\"clip402\">\n",
       "    <rect x=\"366\" y=\"47\" width=\"1987\" height=\"1440\"/>\n",
       "  </clipPath>\n",
       "</defs>\n",
       "<polyline clip-path=\"url(#clip402)\" style=\"stroke:#000000; stroke-linecap:round; stroke-linejoin:round; stroke-width:2; stroke-opacity:0.1; fill:none\" points=\"656.83,1486.45 656.83,47.2441 \"/>\n",
       "<polyline clip-path=\"url(#clip402)\" style=\"stroke:#000000; stroke-linecap:round; stroke-linejoin:round; stroke-width:2; stroke-opacity:0.1; fill:none\" points=\"1125.32,1486.45 1125.32,47.2441 \"/>\n",
       "<polyline clip-path=\"url(#clip402)\" style=\"stroke:#000000; stroke-linecap:round; stroke-linejoin:round; stroke-width:2; stroke-opacity:0.1; fill:none\" points=\"1593.81,1486.45 1593.81,47.2441 \"/>\n",
       "<polyline clip-path=\"url(#clip402)\" style=\"stroke:#000000; stroke-linecap:round; stroke-linejoin:round; stroke-width:2; stroke-opacity:0.1; fill:none\" points=\"2062.29,1486.45 2062.29,47.2441 \"/>\n",
       "<polyline clip-path=\"url(#clip402)\" style=\"stroke:#000000; stroke-linecap:round; stroke-linejoin:round; stroke-width:2; stroke-opacity:0.1; fill:none\" points=\"366.367,1355.14 2352.76,1355.14 \"/>\n",
       "<polyline clip-path=\"url(#clip402)\" style=\"stroke:#000000; stroke-linecap:round; stroke-linejoin:round; stroke-width:2; stroke-opacity:0.1; fill:none\" points=\"366.367,1101.7 2352.76,1101.7 \"/>\n",
       "<polyline clip-path=\"url(#clip402)\" style=\"stroke:#000000; stroke-linecap:round; stroke-linejoin:round; stroke-width:2; stroke-opacity:0.1; fill:none\" points=\"366.367,848.255 2352.76,848.255 \"/>\n",
       "<polyline clip-path=\"url(#clip402)\" style=\"stroke:#000000; stroke-linecap:round; stroke-linejoin:round; stroke-width:2; stroke-opacity:0.1; fill:none\" points=\"366.367,594.812 2352.76,594.812 \"/>\n",
       "<polyline clip-path=\"url(#clip402)\" style=\"stroke:#000000; stroke-linecap:round; stroke-linejoin:round; stroke-width:2; stroke-opacity:0.1; fill:none\" points=\"366.367,341.369 2352.76,341.369 \"/>\n",
       "<polyline clip-path=\"url(#clip402)\" style=\"stroke:#000000; stroke-linecap:round; stroke-linejoin:round; stroke-width:2; stroke-opacity:0.1; fill:none\" points=\"366.367,87.9252 2352.76,87.9252 \"/>\n",
       "<polyline clip-path=\"url(#clip400)\" style=\"stroke:#000000; stroke-linecap:round; stroke-linejoin:round; stroke-width:4; stroke-opacity:1; fill:none\" points=\"366.367,1486.45 2352.76,1486.45 \"/>\n",
       "<polyline clip-path=\"url(#clip400)\" style=\"stroke:#000000; stroke-linecap:round; stroke-linejoin:round; stroke-width:4; stroke-opacity:1; fill:none\" points=\"656.83,1486.45 656.83,1467.55 \"/>\n",
       "<polyline clip-path=\"url(#clip400)\" style=\"stroke:#000000; stroke-linecap:round; stroke-linejoin:round; stroke-width:4; stroke-opacity:1; fill:none\" points=\"1125.32,1486.45 1125.32,1467.55 \"/>\n",
       "<polyline clip-path=\"url(#clip400)\" style=\"stroke:#000000; stroke-linecap:round; stroke-linejoin:round; stroke-width:4; stroke-opacity:1; fill:none\" points=\"1593.81,1486.45 1593.81,1467.55 \"/>\n",
       "<polyline clip-path=\"url(#clip400)\" style=\"stroke:#000000; stroke-linecap:round; stroke-linejoin:round; stroke-width:4; stroke-opacity:1; fill:none\" points=\"2062.29,1486.45 2062.29,1467.55 \"/>\n",
       "<path clip-path=\"url(#clip400)\" d=\"M651.482 1544.91 L667.802 1544.91 L667.802 1548.85 L645.857 1548.85 L645.857 1544.91 Q648.519 1542.16 653.103 1537.53 Q657.709 1532.88 658.89 1531.53 Q661.135 1529.01 662.015 1527.27 Q662.918 1525.51 662.918 1523.82 Q662.918 1521.07 660.973 1519.33 Q659.052 1517.6 655.95 1517.6 Q653.751 1517.6 651.297 1518.36 Q648.867 1519.13 646.089 1520.68 L646.089 1515.95 Q648.913 1514.82 651.367 1514.24 Q653.82 1513.66 655.857 1513.66 Q661.228 1513.66 664.422 1516.35 Q667.617 1519.03 667.617 1523.52 Q667.617 1525.65 666.806 1527.57 Q666.019 1529.47 663.913 1532.07 Q663.334 1532.74 660.232 1535.95 Q657.131 1539.15 651.482 1544.91 Z\" fill=\"#000000\" fill-rule=\"nonzero\" fill-opacity=\"1\" /><path clip-path=\"url(#clip400)\" d=\"M1128.33 1518.36 L1116.52 1536.81 L1128.33 1536.81 L1128.33 1518.36 M1127.1 1514.29 L1132.98 1514.29 L1132.98 1536.81 L1137.91 1536.81 L1137.91 1540.7 L1132.98 1540.7 L1132.98 1548.85 L1128.33 1548.85 L1128.33 1540.7 L1112.72 1540.7 L1112.72 1536.19 L1127.1 1514.29 Z\" fill=\"#000000\" fill-rule=\"nonzero\" fill-opacity=\"1\" /><path clip-path=\"url(#clip400)\" d=\"M1594.21 1529.7 Q1591.06 1529.7 1589.21 1531.86 Q1587.38 1534.01 1587.38 1537.76 Q1587.38 1541.49 1589.21 1543.66 Q1591.06 1545.82 1594.21 1545.82 Q1597.36 1545.82 1599.19 1543.66 Q1601.04 1541.49 1601.04 1537.76 Q1601.04 1534.01 1599.19 1531.86 Q1597.36 1529.7 1594.21 1529.7 M1603.49 1515.05 L1603.49 1519.31 Q1601.73 1518.48 1599.93 1518.04 Q1598.15 1517.6 1596.39 1517.6 Q1591.76 1517.6 1589.3 1520.72 Q1586.87 1523.85 1586.53 1530.17 Q1587.89 1528.15 1589.95 1527.09 Q1592.01 1526 1594.49 1526 Q1599.7 1526 1602.71 1529.17 Q1605.74 1532.32 1605.74 1537.76 Q1605.74 1543.08 1602.59 1546.3 Q1599.44 1549.52 1594.21 1549.52 Q1588.22 1549.52 1585.04 1544.94 Q1581.87 1540.33 1581.87 1531.6 Q1581.87 1523.41 1585.76 1518.55 Q1589.65 1513.66 1596.2 1513.66 Q1597.96 1513.66 1599.74 1514.01 Q1601.55 1514.36 1603.49 1515.05 Z\" fill=\"#000000\" fill-rule=\"nonzero\" fill-opacity=\"1\" /><path clip-path=\"url(#clip400)\" d=\"M2062.29 1532.44 Q2058.96 1532.44 2057.04 1534.22 Q2055.14 1536 2055.14 1539.13 Q2055.14 1542.25 2057.04 1544.03 Q2058.96 1545.82 2062.29 1545.82 Q2065.63 1545.82 2067.55 1544.03 Q2069.47 1542.23 2069.47 1539.13 Q2069.47 1536 2067.55 1534.22 Q2065.65 1532.44 2062.29 1532.44 M2057.62 1530.45 Q2054.61 1529.7 2052.92 1527.64 Q2051.25 1525.58 2051.25 1522.62 Q2051.25 1518.48 2054.19 1516.07 Q2057.15 1513.66 2062.29 1513.66 Q2067.46 1513.66 2070.4 1516.07 Q2073.33 1518.48 2073.33 1522.62 Q2073.33 1525.58 2071.65 1527.64 Q2069.98 1529.7 2066.99 1530.45 Q2070.37 1531.23 2072.25 1533.52 Q2074.15 1535.82 2074.15 1539.13 Q2074.15 1544.15 2071.07 1546.83 Q2068.01 1549.52 2062.29 1549.52 Q2056.58 1549.52 2053.5 1546.83 Q2050.44 1544.15 2050.44 1539.13 Q2050.44 1535.82 2052.34 1533.52 Q2054.24 1531.23 2057.62 1530.45 M2055.9 1523.06 Q2055.9 1525.75 2057.57 1527.25 Q2059.26 1528.76 2062.29 1528.76 Q2065.3 1528.76 2066.99 1527.25 Q2068.71 1525.75 2068.71 1523.06 Q2068.71 1520.38 2066.99 1518.87 Q2065.3 1517.37 2062.29 1517.37 Q2059.26 1517.37 2057.57 1518.87 Q2055.9 1520.38 2055.9 1523.06 Z\" fill=\"#000000\" fill-rule=\"nonzero\" fill-opacity=\"1\" /><polyline clip-path=\"url(#clip400)\" style=\"stroke:#000000; stroke-linecap:round; stroke-linejoin:round; stroke-width:4; stroke-opacity:1; fill:none\" points=\"366.367,1486.45 366.367,47.2441 \"/>\n",
       "<polyline clip-path=\"url(#clip400)\" style=\"stroke:#000000; stroke-linecap:round; stroke-linejoin:round; stroke-width:4; stroke-opacity:1; fill:none\" points=\"366.367,1355.14 385.265,1355.14 \"/>\n",
       "<polyline clip-path=\"url(#clip400)\" style=\"stroke:#000000; stroke-linecap:round; stroke-linejoin:round; stroke-width:4; stroke-opacity:1; fill:none\" points=\"366.367,1101.7 385.265,1101.7 \"/>\n",
       "<polyline clip-path=\"url(#clip400)\" style=\"stroke:#000000; stroke-linecap:round; stroke-linejoin:round; stroke-width:4; stroke-opacity:1; fill:none\" points=\"366.367,848.255 385.265,848.255 \"/>\n",
       "<polyline clip-path=\"url(#clip400)\" style=\"stroke:#000000; stroke-linecap:round; stroke-linejoin:round; stroke-width:4; stroke-opacity:1; fill:none\" points=\"366.367,594.812 385.265,594.812 \"/>\n",
       "<polyline clip-path=\"url(#clip400)\" style=\"stroke:#000000; stroke-linecap:round; stroke-linejoin:round; stroke-width:4; stroke-opacity:1; fill:none\" points=\"366.367,341.369 385.265,341.369 \"/>\n",
       "<polyline clip-path=\"url(#clip400)\" style=\"stroke:#000000; stroke-linecap:round; stroke-linejoin:round; stroke-width:4; stroke-opacity:1; fill:none\" points=\"366.367,87.9252 385.265,87.9252 \"/>\n",
       "<path clip-path=\"url(#clip400)\" d=\"M50.9921 1362.04 L80.6679 1362.04 L80.6679 1365.98 L50.9921 1365.98 L50.9921 1362.04 Z\" fill=\"#000000\" fill-rule=\"nonzero\" fill-opacity=\"1\" /><path clip-path=\"url(#clip400)\" d=\"M94.7882 1374.93 L111.108 1374.93 L111.108 1378.87 L89.1632 1378.87 L89.1632 1374.93 Q91.8252 1372.18 96.4085 1367.55 Q101.015 1362.9 102.196 1361.55 Q104.441 1359.03 105.321 1357.3 Q106.223 1355.54 106.223 1353.85 Q106.223 1351.09 104.279 1349.36 Q102.358 1347.62 99.2558 1347.62 Q97.0567 1347.62 94.603 1348.38 Q92.1725 1349.15 89.3947 1350.7 L89.3947 1345.98 Q92.2188 1344.84 94.6724 1344.26 Q97.1261 1343.68 99.1632 1343.68 Q104.534 1343.68 107.728 1346.37 Q110.922 1349.05 110.922 1353.55 Q110.922 1355.68 110.112 1357.6 Q109.325 1359.49 107.219 1362.09 Q106.64 1362.76 103.538 1365.98 Q100.436 1369.17 94.7882 1374.93 Z\" fill=\"#000000\" fill-rule=\"nonzero\" fill-opacity=\"1\" /><path clip-path=\"url(#clip400)\" d=\"M120.922 1372.99 L125.807 1372.99 L125.807 1378.87 L120.922 1378.87 L120.922 1372.99 Z\" fill=\"#000000\" fill-rule=\"nonzero\" fill-opacity=\"1\" /><path clip-path=\"url(#clip400)\" d=\"M136.038 1344.31 L154.394 1344.31 L154.394 1348.24 L140.32 1348.24 L140.32 1356.72 Q141.339 1356.37 142.357 1356.21 Q143.376 1356.02 144.394 1356.02 Q150.181 1356.02 153.561 1359.19 Q156.941 1362.37 156.941 1367.78 Q156.941 1373.36 153.468 1376.46 Q149.996 1379.54 143.677 1379.54 Q141.501 1379.54 139.232 1379.17 Q136.987 1378.8 134.58 1378.06 L134.58 1373.36 Q136.663 1374.49 138.885 1375.05 Q141.107 1375.61 143.584 1375.61 Q147.589 1375.61 149.927 1373.5 Q152.265 1371.39 152.265 1367.78 Q152.265 1364.17 149.927 1362.06 Q147.589 1359.96 143.584 1359.96 Q141.709 1359.96 139.834 1360.37 Q137.982 1360.79 136.038 1361.67 L136.038 1344.31 Z\" fill=\"#000000\" fill-rule=\"nonzero\" fill-opacity=\"1\" /><path clip-path=\"url(#clip400)\" d=\"M176.153 1347.39 Q172.542 1347.39 170.714 1350.95 Q168.908 1354.49 168.908 1361.62 Q168.908 1368.73 170.714 1372.3 Q172.542 1375.84 176.153 1375.84 Q179.788 1375.84 181.593 1372.3 Q183.422 1368.73 183.422 1361.62 Q183.422 1354.49 181.593 1350.95 Q179.788 1347.39 176.153 1347.39 M176.153 1343.68 Q181.964 1343.68 185.019 1348.29 Q188.098 1352.87 188.098 1361.62 Q188.098 1370.35 185.019 1374.96 Q181.964 1379.54 176.153 1379.54 Q170.343 1379.54 167.265 1374.96 Q164.209 1370.35 164.209 1361.62 Q164.209 1352.87 167.265 1348.29 Q170.343 1343.68 176.153 1343.68 Z\" fill=\"#000000\" fill-rule=\"nonzero\" fill-opacity=\"1\" /><path clip-path=\"url(#clip400)\" d=\"M224.487 1353.41 L213.908 1364.03 L224.487 1374.61 L221.732 1377.41 L211.107 1366.79 L200.482 1377.41 L197.751 1374.61 L208.306 1364.03 L197.751 1353.41 L200.482 1350.61 L211.107 1361.23 L221.732 1350.61 L224.487 1353.41 Z\" fill=\"#000000\" fill-rule=\"nonzero\" fill-opacity=\"1\" /><path clip-path=\"url(#clip400)\" d=\"M236.848 1374.93 L244.486 1374.93 L244.486 1348.57 L236.176 1350.24 L236.176 1345.98 L244.44 1344.31 L249.116 1344.31 L249.116 1374.93 L256.755 1374.93 L256.755 1378.87 L236.848 1378.87 L236.848 1374.93 Z\" fill=\"#000000\" fill-rule=\"nonzero\" fill-opacity=\"1\" /><path clip-path=\"url(#clip400)\" d=\"M276.199 1347.39 Q272.588 1347.39 270.759 1350.95 Q268.954 1354.49 268.954 1361.62 Q268.954 1368.73 270.759 1372.3 Q272.588 1375.84 276.199 1375.84 Q279.833 1375.84 281.639 1372.3 Q283.468 1368.73 283.468 1361.62 Q283.468 1354.49 281.639 1350.95 Q279.833 1347.39 276.199 1347.39 M276.199 1343.68 Q282.009 1343.68 285.065 1348.29 Q288.144 1352.87 288.144 1361.62 Q288.144 1370.35 285.065 1374.96 Q282.009 1379.54 276.199 1379.54 Q270.389 1379.54 267.31 1374.96 Q264.255 1370.35 264.255 1361.62 Q264.255 1352.87 267.31 1348.29 Q270.389 1343.68 276.199 1343.68 Z\" fill=\"#000000\" fill-rule=\"nonzero\" fill-opacity=\"1\" /><path clip-path=\"url(#clip400)\" d=\"M288.689 1348.26 L294.896 1348.26 L294.896 1326.84 L288.144 1328.19 L288.144 1324.73 L294.858 1323.38 L298.657 1323.38 L298.657 1348.26 L304.864 1348.26 L304.864 1351.46 L288.689 1351.46 L288.689 1348.26 Z\" fill=\"#000000\" fill-rule=\"nonzero\" fill-opacity=\"1\" /><path clip-path=\"url(#clip400)\" d=\"M320.662 1325.88 Q317.728 1325.88 316.242 1328.78 Q314.775 1331.65 314.775 1337.45 Q314.775 1343.22 316.242 1346.12 Q317.728 1349 320.662 1349 Q323.615 1349 325.082 1346.12 Q326.568 1343.22 326.568 1337.45 Q326.568 1331.65 325.082 1328.78 Q323.615 1325.88 320.662 1325.88 M320.662 1322.87 Q325.383 1322.87 327.866 1326.61 Q330.367 1330.34 330.367 1337.45 Q330.367 1344.54 327.866 1348.28 Q325.383 1352 320.662 1352 Q315.942 1352 313.44 1348.28 Q310.957 1344.54 310.957 1337.45 Q310.957 1330.34 313.44 1326.61 Q315.942 1322.87 320.662 1322.87 Z\" fill=\"#000000\" fill-rule=\"nonzero\" fill-opacity=\"1\" /><path clip-path=\"url(#clip400)\" d=\"M50.9921 1108.6 L80.6679 1108.6 L80.6679 1112.53 L50.9921 1112.53 L50.9921 1108.6 Z\" fill=\"#000000\" fill-rule=\"nonzero\" fill-opacity=\"1\" /><path clip-path=\"url(#clip400)\" d=\"M94.7882 1121.49 L111.108 1121.49 L111.108 1125.43 L89.1632 1125.43 L89.1632 1121.49 Q91.8252 1118.74 96.4085 1114.11 Q101.015 1109.45 102.196 1108.11 Q104.441 1105.59 105.321 1103.85 Q106.223 1102.09 106.223 1100.4 Q106.223 1097.65 104.279 1095.91 Q102.358 1094.18 99.2558 1094.18 Q97.0567 1094.18 94.603 1094.94 Q92.1725 1095.7 89.3947 1097.26 L89.3947 1092.53 Q92.2188 1091.4 94.6724 1090.82 Q97.1261 1090.24 99.1632 1090.24 Q104.534 1090.24 107.728 1092.93 Q110.922 1095.61 110.922 1100.1 Q110.922 1102.23 110.112 1104.15 Q109.325 1106.05 107.219 1108.64 Q106.64 1109.32 103.538 1112.53 Q100.436 1115.73 94.7882 1121.49 Z\" fill=\"#000000\" fill-rule=\"nonzero\" fill-opacity=\"1\" /><path clip-path=\"url(#clip400)\" d=\"M120.922 1119.55 L125.807 1119.55 L125.807 1125.43 L120.922 1125.43 L120.922 1119.55 Z\" fill=\"#000000\" fill-rule=\"nonzero\" fill-opacity=\"1\" /><path clip-path=\"url(#clip400)\" d=\"M145.992 1093.94 Q142.381 1093.94 140.552 1097.51 Q138.746 1101.05 138.746 1108.18 Q138.746 1115.29 140.552 1118.85 Q142.381 1122.39 145.992 1122.39 Q149.626 1122.39 151.431 1118.85 Q153.26 1115.29 153.26 1108.18 Q153.26 1101.05 151.431 1097.51 Q149.626 1093.94 145.992 1093.94 M145.992 1090.24 Q151.802 1090.24 154.857 1094.85 Q157.936 1099.43 157.936 1108.18 Q157.936 1116.91 154.857 1121.51 Q151.802 1126.1 145.992 1126.1 Q140.181 1126.1 137.103 1121.51 Q134.047 1116.91 134.047 1108.18 Q134.047 1099.43 137.103 1094.85 Q140.181 1090.24 145.992 1090.24 Z\" fill=\"#000000\" fill-rule=\"nonzero\" fill-opacity=\"1\" /><path clip-path=\"url(#clip400)\" d=\"M176.153 1093.94 Q172.542 1093.94 170.714 1097.51 Q168.908 1101.05 168.908 1108.18 Q168.908 1115.29 170.714 1118.85 Q172.542 1122.39 176.153 1122.39 Q179.788 1122.39 181.593 1118.85 Q183.422 1115.29 183.422 1108.18 Q183.422 1101.05 181.593 1097.51 Q179.788 1093.94 176.153 1093.94 M176.153 1090.24 Q181.964 1090.24 185.019 1094.85 Q188.098 1099.43 188.098 1108.18 Q188.098 1116.91 185.019 1121.51 Q181.964 1126.1 176.153 1126.1 Q170.343 1126.1 167.265 1121.51 Q164.209 1116.91 164.209 1108.18 Q164.209 1099.43 167.265 1094.85 Q170.343 1090.24 176.153 1090.24 Z\" fill=\"#000000\" fill-rule=\"nonzero\" fill-opacity=\"1\" /><path clip-path=\"url(#clip400)\" d=\"M224.487 1099.96 L213.908 1110.59 L224.487 1121.17 L221.732 1123.97 L211.107 1113.34 L200.482 1123.97 L197.751 1121.17 L208.306 1110.59 L197.751 1099.96 L200.482 1097.16 L211.107 1107.79 L221.732 1097.16 L224.487 1099.96 Z\" fill=\"#000000\" fill-rule=\"nonzero\" fill-opacity=\"1\" /><path clip-path=\"url(#clip400)\" d=\"M236.848 1121.49 L244.486 1121.49 L244.486 1095.13 L236.176 1096.79 L236.176 1092.53 L244.44 1090.87 L249.116 1090.87 L249.116 1121.49 L256.755 1121.49 L256.755 1125.43 L236.848 1125.43 L236.848 1121.49 Z\" fill=\"#000000\" fill-rule=\"nonzero\" fill-opacity=\"1\" /><path clip-path=\"url(#clip400)\" d=\"M276.199 1093.94 Q272.588 1093.94 270.759 1097.51 Q268.954 1101.05 268.954 1108.18 Q268.954 1115.29 270.759 1118.85 Q272.588 1122.39 276.199 1122.39 Q279.833 1122.39 281.639 1118.85 Q283.468 1115.29 283.468 1108.18 Q283.468 1101.05 281.639 1097.51 Q279.833 1093.94 276.199 1093.94 M276.199 1090.24 Q282.009 1090.24 285.065 1094.85 Q288.144 1099.43 288.144 1108.18 Q288.144 1116.91 285.065 1121.51 Q282.009 1126.1 276.199 1126.1 Q270.389 1126.1 267.31 1121.51 Q264.255 1116.91 264.255 1108.18 Q264.255 1099.43 267.31 1094.85 Q270.389 1090.24 276.199 1090.24 Z\" fill=\"#000000\" fill-rule=\"nonzero\" fill-opacity=\"1\" /><path clip-path=\"url(#clip400)\" d=\"M288.689 1094.82 L294.896 1094.82 L294.896 1073.4 L288.144 1074.75 L288.144 1071.29 L294.858 1069.94 L298.657 1069.94 L298.657 1094.82 L304.864 1094.82 L304.864 1098.02 L288.689 1098.02 L288.689 1094.82 Z\" fill=\"#000000\" fill-rule=\"nonzero\" fill-opacity=\"1\" /><path clip-path=\"url(#clip400)\" d=\"M320.662 1072.44 Q317.728 1072.44 316.242 1075.33 Q314.775 1078.21 314.775 1084 Q314.775 1089.78 316.242 1092.67 Q317.728 1095.55 320.662 1095.55 Q323.615 1095.55 325.082 1092.67 Q326.568 1089.78 326.568 1084 Q326.568 1078.21 325.082 1075.33 Q323.615 1072.44 320.662 1072.44 M320.662 1069.43 Q325.383 1069.43 327.866 1073.17 Q330.367 1076.89 330.367 1084 Q330.367 1091.09 327.866 1094.84 Q325.383 1098.56 320.662 1098.56 Q315.942 1098.56 313.44 1094.84 Q310.957 1091.09 310.957 1084 Q310.957 1076.89 313.44 1073.17 Q315.942 1069.43 320.662 1069.43 Z\" fill=\"#000000\" fill-rule=\"nonzero\" fill-opacity=\"1\" /><path clip-path=\"url(#clip400)\" d=\"M50.9921 855.154 L80.6679 855.154 L80.6679 859.089 L50.9921 859.089 L50.9921 855.154 Z\" fill=\"#000000\" fill-rule=\"nonzero\" fill-opacity=\"1\" /><path clip-path=\"url(#clip400)\" d=\"M91.5706 868.048 L99.2095 868.048 L99.2095 841.682 L90.8993 843.349 L90.8993 839.09 L99.1632 837.423 L103.839 837.423 L103.839 868.048 L111.478 868.048 L111.478 871.983 L91.5706 871.983 L91.5706 868.048 Z\" fill=\"#000000\" fill-rule=\"nonzero\" fill-opacity=\"1\" /><path clip-path=\"url(#clip400)\" d=\"M120.922 866.103 L125.807 866.103 L125.807 871.983 L120.922 871.983 L120.922 866.103 Z\" fill=\"#000000\" fill-rule=\"nonzero\" fill-opacity=\"1\" /><path clip-path=\"url(#clip400)\" d=\"M136.038 837.423 L154.394 837.423 L154.394 841.358 L140.32 841.358 L140.32 849.83 Q141.339 849.483 142.357 849.321 Q143.376 849.136 144.394 849.136 Q150.181 849.136 153.561 852.307 Q156.941 855.478 156.941 860.895 Q156.941 866.474 153.468 869.575 Q149.996 872.654 143.677 872.654 Q141.501 872.654 139.232 872.284 Q136.987 871.913 134.58 871.173 L134.58 866.474 Q136.663 867.608 138.885 868.163 Q141.107 868.719 143.584 868.719 Q147.589 868.719 149.927 866.613 Q152.265 864.506 152.265 860.895 Q152.265 857.284 149.927 855.177 Q147.589 853.071 143.584 853.071 Q141.709 853.071 139.834 853.488 Q137.982 853.904 136.038 854.784 L136.038 837.423 Z\" fill=\"#000000\" fill-rule=\"nonzero\" fill-opacity=\"1\" /><path clip-path=\"url(#clip400)\" d=\"M176.153 840.502 Q172.542 840.502 170.714 844.066 Q168.908 847.608 168.908 854.738 Q168.908 861.844 170.714 865.409 Q172.542 868.95 176.153 868.95 Q179.788 868.95 181.593 865.409 Q183.422 861.844 183.422 854.738 Q183.422 847.608 181.593 844.066 Q179.788 840.502 176.153 840.502 M176.153 836.798 Q181.964 836.798 185.019 841.404 Q188.098 845.988 188.098 854.738 Q188.098 863.464 185.019 868.071 Q181.964 872.654 176.153 872.654 Q170.343 872.654 167.265 868.071 Q164.209 863.464 164.209 854.738 Q164.209 845.988 167.265 841.404 Q170.343 836.798 176.153 836.798 Z\" fill=\"#000000\" fill-rule=\"nonzero\" fill-opacity=\"1\" /><path clip-path=\"url(#clip400)\" d=\"M224.487 846.52 L213.908 857.145 L224.487 867.724 L221.732 870.525 L211.107 859.9 L200.482 870.525 L197.751 867.724 L208.306 857.145 L197.751 846.52 L200.482 843.719 L211.107 854.344 L221.732 843.719 L224.487 846.52 Z\" fill=\"#000000\" fill-rule=\"nonzero\" fill-opacity=\"1\" /><path clip-path=\"url(#clip400)\" d=\"M236.848 868.048 L244.486 868.048 L244.486 841.682 L236.176 843.349 L236.176 839.09 L244.44 837.423 L249.116 837.423 L249.116 868.048 L256.755 868.048 L256.755 871.983 L236.848 871.983 L236.848 868.048 Z\" fill=\"#000000\" fill-rule=\"nonzero\" fill-opacity=\"1\" /><path clip-path=\"url(#clip400)\" d=\"M276.199 840.502 Q272.588 840.502 270.759 844.066 Q268.954 847.608 268.954 854.738 Q268.954 861.844 270.759 865.409 Q272.588 868.95 276.199 868.95 Q279.833 868.95 281.639 865.409 Q283.468 861.844 283.468 854.738 Q283.468 847.608 281.639 844.066 Q279.833 840.502 276.199 840.502 M276.199 836.798 Q282.009 836.798 285.065 841.404 Q288.144 845.988 288.144 854.738 Q288.144 863.464 285.065 868.071 Q282.009 872.654 276.199 872.654 Q270.389 872.654 267.31 868.071 Q264.255 863.464 264.255 854.738 Q264.255 845.988 267.31 841.404 Q270.389 836.798 276.199 836.798 Z\" fill=\"#000000\" fill-rule=\"nonzero\" fill-opacity=\"1\" /><path clip-path=\"url(#clip400)\" d=\"M288.689 841.375 L294.896 841.375 L294.896 819.953 L288.144 821.307 L288.144 817.847 L294.858 816.492 L298.657 816.492 L298.657 841.375 L304.864 841.375 L304.864 844.572 L288.689 844.572 L288.689 841.375 Z\" fill=\"#000000\" fill-rule=\"nonzero\" fill-opacity=\"1\" /><path clip-path=\"url(#clip400)\" d=\"M320.662 818.994 Q317.728 818.994 316.242 821.89 Q314.775 824.768 314.775 830.561 Q314.775 836.335 316.242 839.231 Q317.728 842.109 320.662 842.109 Q323.615 842.109 325.082 839.231 Q326.568 836.335 326.568 830.561 Q326.568 824.768 325.082 821.89 Q323.615 818.994 320.662 818.994 M320.662 815.985 Q325.383 815.985 327.866 819.727 Q330.367 823.451 330.367 830.561 Q330.367 837.651 327.866 841.394 Q325.383 845.118 320.662 845.118 Q315.942 845.118 313.44 841.394 Q310.957 837.651 310.957 830.561 Q310.957 823.451 313.44 819.727 Q315.942 815.985 320.662 815.985 Z\" fill=\"#000000\" fill-rule=\"nonzero\" fill-opacity=\"1\" /><path clip-path=\"url(#clip400)\" d=\"M50.9921 601.711 L80.6679 601.711 L80.6679 605.646 L50.9921 605.646 L50.9921 601.711 Z\" fill=\"#000000\" fill-rule=\"nonzero\" fill-opacity=\"1\" /><path clip-path=\"url(#clip400)\" d=\"M91.5706 614.604 L99.2095 614.604 L99.2095 588.239 L90.8993 589.905 L90.8993 585.646 L99.1632 583.98 L103.839 583.98 L103.839 614.604 L111.478 614.604 L111.478 618.54 L91.5706 618.54 L91.5706 614.604 Z\" fill=\"#000000\" fill-rule=\"nonzero\" fill-opacity=\"1\" /><path clip-path=\"url(#clip400)\" d=\"M120.922 612.66 L125.807 612.66 L125.807 618.54 L120.922 618.54 L120.922 612.66 Z\" fill=\"#000000\" fill-rule=\"nonzero\" fill-opacity=\"1\" /><path clip-path=\"url(#clip400)\" d=\"M145.992 587.058 Q142.381 587.058 140.552 590.623 Q138.746 594.165 138.746 601.294 Q138.746 608.401 140.552 611.965 Q142.381 615.507 145.992 615.507 Q149.626 615.507 151.431 611.965 Q153.26 608.401 153.26 601.294 Q153.26 594.165 151.431 590.623 Q149.626 587.058 145.992 587.058 M145.992 583.355 Q151.802 583.355 154.857 587.961 Q157.936 592.544 157.936 601.294 Q157.936 610.021 154.857 614.628 Q151.802 619.211 145.992 619.211 Q140.181 619.211 137.103 614.628 Q134.047 610.021 134.047 601.294 Q134.047 592.544 137.103 587.961 Q140.181 583.355 145.992 583.355 Z\" fill=\"#000000\" fill-rule=\"nonzero\" fill-opacity=\"1\" /><path clip-path=\"url(#clip400)\" d=\"M176.153 587.058 Q172.542 587.058 170.714 590.623 Q168.908 594.165 168.908 601.294 Q168.908 608.401 170.714 611.965 Q172.542 615.507 176.153 615.507 Q179.788 615.507 181.593 611.965 Q183.422 608.401 183.422 601.294 Q183.422 594.165 181.593 590.623 Q179.788 587.058 176.153 587.058 M176.153 583.355 Q181.964 583.355 185.019 587.961 Q188.098 592.544 188.098 601.294 Q188.098 610.021 185.019 614.628 Q181.964 619.211 176.153 619.211 Q170.343 619.211 167.265 614.628 Q164.209 610.021 164.209 601.294 Q164.209 592.544 167.265 587.961 Q170.343 583.355 176.153 583.355 Z\" fill=\"#000000\" fill-rule=\"nonzero\" fill-opacity=\"1\" /><path clip-path=\"url(#clip400)\" d=\"M224.487 593.077 L213.908 603.702 L224.487 614.28 L221.732 617.081 L211.107 606.456 L200.482 617.081 L197.751 614.28 L208.306 603.702 L197.751 593.077 L200.482 590.276 L211.107 600.901 L221.732 590.276 L224.487 593.077 Z\" fill=\"#000000\" fill-rule=\"nonzero\" fill-opacity=\"1\" /><path clip-path=\"url(#clip400)\" d=\"M236.848 614.604 L244.486 614.604 L244.486 588.239 L236.176 589.905 L236.176 585.646 L244.44 583.98 L249.116 583.98 L249.116 614.604 L256.755 614.604 L256.755 618.54 L236.848 618.54 L236.848 614.604 Z\" fill=\"#000000\" fill-rule=\"nonzero\" fill-opacity=\"1\" /><path clip-path=\"url(#clip400)\" d=\"M276.199 587.058 Q272.588 587.058 270.759 590.623 Q268.954 594.165 268.954 601.294 Q268.954 608.401 270.759 611.965 Q272.588 615.507 276.199 615.507 Q279.833 615.507 281.639 611.965 Q283.468 608.401 283.468 601.294 Q283.468 594.165 281.639 590.623 Q279.833 587.058 276.199 587.058 M276.199 583.355 Q282.009 583.355 285.065 587.961 Q288.144 592.544 288.144 601.294 Q288.144 610.021 285.065 614.628 Q282.009 619.211 276.199 619.211 Q270.389 619.211 267.31 614.628 Q264.255 610.021 264.255 601.294 Q264.255 592.544 267.31 587.961 Q270.389 583.355 276.199 583.355 Z\" fill=\"#000000\" fill-rule=\"nonzero\" fill-opacity=\"1\" /><path clip-path=\"url(#clip400)\" d=\"M288.689 587.932 L294.896 587.932 L294.896 566.51 L288.144 567.864 L288.144 564.403 L294.858 563.049 L298.657 563.049 L298.657 587.932 L304.864 587.932 L304.864 591.129 L288.689 591.129 L288.689 587.932 Z\" fill=\"#000000\" fill-rule=\"nonzero\" fill-opacity=\"1\" /><path clip-path=\"url(#clip400)\" d=\"M320.662 565.551 Q317.728 565.551 316.242 568.447 Q314.775 571.325 314.775 577.117 Q314.775 582.891 316.242 585.788 Q317.728 588.665 320.662 588.665 Q323.615 588.665 325.082 585.788 Q326.568 582.891 326.568 577.117 Q326.568 571.325 325.082 568.447 Q323.615 565.551 320.662 565.551 M320.662 562.541 Q325.383 562.541 327.866 566.284 Q330.367 570.008 330.367 577.117 Q330.367 584.208 327.866 587.951 Q325.383 591.675 320.662 591.675 Q315.942 591.675 313.44 587.951 Q310.957 584.208 310.957 577.117 Q310.957 570.008 313.44 566.284 Q315.942 562.541 320.662 562.541 Z\" fill=\"#000000\" fill-rule=\"nonzero\" fill-opacity=\"1\" /><path clip-path=\"url(#clip400)\" d=\"M73.8436 348.268 L103.519 348.268 L103.519 352.203 L73.8436 352.203 L73.8436 348.268 Z\" fill=\"#000000\" fill-rule=\"nonzero\" fill-opacity=\"1\" /><path clip-path=\"url(#clip400)\" d=\"M113.658 330.536 L132.015 330.536 L132.015 334.471 L117.941 334.471 L117.941 342.943 Q118.959 342.596 119.978 342.434 Q120.996 342.249 122.015 342.249 Q127.802 342.249 131.181 345.42 Q134.561 348.592 134.561 354.008 Q134.561 359.587 131.089 362.689 Q127.616 365.767 121.297 365.767 Q119.121 365.767 116.853 365.397 Q114.607 365.027 112.2 364.286 L112.2 359.587 Q114.283 360.721 116.505 361.277 Q118.728 361.832 121.204 361.832 Q125.209 361.832 127.547 359.726 Q129.885 357.619 129.885 354.008 Q129.885 350.397 127.547 348.291 Q125.209 346.184 121.204 346.184 Q119.329 346.184 117.454 346.601 Q115.603 347.018 113.658 347.897 L113.658 330.536 Z\" fill=\"#000000\" fill-rule=\"nonzero\" fill-opacity=\"1\" /><path clip-path=\"url(#clip400)\" d=\"M143.774 359.217 L148.658 359.217 L148.658 365.096 L143.774 365.096 L143.774 359.217 Z\" fill=\"#000000\" fill-rule=\"nonzero\" fill-opacity=\"1\" /><path clip-path=\"url(#clip400)\" d=\"M168.843 333.615 Q165.232 333.615 163.403 337.18 Q161.598 340.721 161.598 347.851 Q161.598 354.957 163.403 358.522 Q165.232 362.064 168.843 362.064 Q172.477 362.064 174.283 358.522 Q176.112 354.957 176.112 347.851 Q176.112 340.721 174.283 337.18 Q172.477 333.615 168.843 333.615 M168.843 329.911 Q174.653 329.911 177.709 334.518 Q180.787 339.101 180.787 347.851 Q180.787 356.578 177.709 361.184 Q174.653 365.767 168.843 365.767 Q163.033 365.767 159.954 361.184 Q156.899 356.578 156.899 347.851 Q156.899 339.101 159.954 334.518 Q163.033 329.911 168.843 329.911 Z\" fill=\"#000000\" fill-rule=\"nonzero\" fill-opacity=\"1\" /><path clip-path=\"url(#clip400)\" d=\"M199.005 333.615 Q195.394 333.615 193.565 337.18 Q191.76 340.721 191.76 347.851 Q191.76 354.957 193.565 358.522 Q195.394 362.064 199.005 362.064 Q202.639 362.064 204.445 358.522 Q206.273 354.957 206.273 347.851 Q206.273 340.721 204.445 337.18 Q202.639 333.615 199.005 333.615 M199.005 329.911 Q204.815 329.911 207.871 334.518 Q210.949 339.101 210.949 347.851 Q210.949 356.578 207.871 361.184 Q204.815 365.767 199.005 365.767 Q193.195 365.767 190.116 361.184 Q187.061 356.578 187.061 347.851 Q187.061 339.101 190.116 334.518 Q193.195 329.911 199.005 329.911 Z\" fill=\"#000000\" fill-rule=\"nonzero\" fill-opacity=\"1\" /><path clip-path=\"url(#clip400)\" d=\"M247.338 339.633 L236.759 350.258 L247.338 360.837 L244.583 363.638 L233.958 353.013 L223.334 363.638 L220.602 360.837 L231.158 350.258 L220.602 339.633 L223.334 336.832 L233.958 347.457 L244.583 336.832 L247.338 339.633 Z\" fill=\"#000000\" fill-rule=\"nonzero\" fill-opacity=\"1\" /><path clip-path=\"url(#clip400)\" d=\"M259.699 361.161 L267.338 361.161 L267.338 334.795 L259.028 336.462 L259.028 332.203 L267.292 330.536 L271.968 330.536 L271.968 361.161 L279.606 361.161 L279.606 365.096 L259.699 365.096 L259.699 361.161 Z\" fill=\"#000000\" fill-rule=\"nonzero\" fill-opacity=\"1\" /><path clip-path=\"url(#clip400)\" d=\"M299.051 333.615 Q295.44 333.615 293.611 337.18 Q291.805 340.721 291.805 347.851 Q291.805 354.957 293.611 358.522 Q295.44 362.064 299.051 362.064 Q302.685 362.064 304.49 358.522 Q306.319 354.957 306.319 347.851 Q306.319 340.721 304.49 337.18 Q302.685 333.615 299.051 333.615 M299.051 329.911 Q304.861 329.911 307.916 334.518 Q310.995 339.101 310.995 347.851 Q310.995 356.578 307.916 361.184 Q304.861 365.767 299.051 365.767 Q293.241 365.767 290.162 361.184 Q287.106 356.578 287.106 347.851 Q287.106 339.101 290.162 334.518 Q293.241 329.911 299.051 329.911 Z\" fill=\"#000000\" fill-rule=\"nonzero\" fill-opacity=\"1\" /><path clip-path=\"url(#clip400)\" d=\"M312.801 337.103 L312.801 333.642 Q314.23 334.319 315.697 334.677 Q317.164 335.034 318.575 335.034 Q322.336 335.034 324.311 332.514 Q326.305 329.975 326.587 324.821 Q325.496 326.439 323.822 327.304 Q322.148 328.169 320.117 328.169 Q315.904 328.169 313.44 325.63 Q310.995 323.072 310.995 318.652 Q310.995 314.327 313.553 311.712 Q316.111 309.098 320.361 309.098 Q325.233 309.098 327.79 312.841 Q330.367 316.565 330.367 323.674 Q330.367 330.313 327.207 334.282 Q324.066 338.231 318.744 338.231 Q317.314 338.231 315.847 337.949 Q314.38 337.667 312.801 337.103 M320.361 325.197 Q322.919 325.197 324.405 323.448 Q325.91 321.699 325.91 318.652 Q325.91 315.624 324.405 313.875 Q322.919 312.107 320.361 312.107 Q317.803 312.107 316.299 313.875 Q314.813 315.624 314.813 318.652 Q314.813 321.699 316.299 323.448 Q317.803 325.197 320.361 325.197 Z\" fill=\"#000000\" fill-rule=\"nonzero\" fill-opacity=\"1\" /><path clip-path=\"url(#clip400)\" d=\"M318.423 73.7239 Q314.812 73.7239 312.983 77.2887 Q311.177 80.8303 311.177 87.9599 Q311.177 95.0664 312.983 98.6312 Q314.812 102.173 318.423 102.173 Q322.057 102.173 323.862 98.6312 Q325.691 95.0664 325.691 87.9599 Q325.691 80.8303 323.862 77.2887 Q322.057 73.7239 318.423 73.7239 M318.423 70.0202 Q324.233 70.0202 327.288 74.6267 Q330.367 79.21 330.367 87.9599 Q330.367 96.6867 327.288 101.293 Q324.233 105.876 318.423 105.876 Q312.613 105.876 309.534 101.293 Q306.478 96.6867 306.478 87.9599 Q306.478 79.21 309.534 74.6267 Q312.613 70.0202 318.423 70.0202 Z\" fill=\"#000000\" fill-rule=\"nonzero\" fill-opacity=\"1\" /><polyline clip-path=\"url(#clip402)\" style=\"stroke:#009af9; stroke-linecap:round; stroke-linejoin:round; stroke-width:4; stroke-opacity:1; fill:none\" points=\"656.83,1445.72 891.074,1266.74 1125.32,791.405 1359.56,597.135 1593.81,239.993 1828.05,88.5205 2062.29,87.9763 2296.54,87.9763 \"/>\n",
       "<path clip-path=\"url(#clip400)\" d=\"M2035.47 1438.47 L2286.54 1438.47 L2286.54 1334.79 L2035.47 1334.79  Z\" fill=\"#ffffff\" fill-rule=\"evenodd\" fill-opacity=\"1\"/>\n",
       "<polyline clip-path=\"url(#clip400)\" style=\"stroke:#000000; stroke-linecap:round; stroke-linejoin:round; stroke-width:4; stroke-opacity:1; fill:none\" points=\"2035.47,1438.47 2286.54,1438.47 2286.54,1334.79 2035.47,1334.79 2035.47,1438.47 \"/>\n",
       "<polyline clip-path=\"url(#clip400)\" style=\"stroke:#009af9; stroke-linecap:round; stroke-linejoin:round; stroke-width:4; stroke-opacity:1; fill:none\" points=\"2057.54,1386.63 2189.97,1386.63 \"/>\n",
       "<path clip-path=\"url(#clip400)\" d=\"M2225.88 1406.32 Q2224.08 1410.95 2222.37 1412.36 Q2220.65 1413.78 2217.78 1413.78 L2214.38 1413.78 L2214.38 1410.21 L2216.88 1410.21 Q2218.64 1410.21 2219.61 1409.38 Q2220.58 1408.54 2221.76 1405.44 L2222.53 1403.5 L2212.04 1377.99 L2216.56 1377.99 L2224.66 1398.27 L2232.76 1377.99 L2237.27 1377.99 L2225.88 1406.32 Z\" fill=\"#000000\" fill-rule=\"nonzero\" fill-opacity=\"1\" /><path clip-path=\"url(#clip400)\" d=\"M2244.56 1399.98 L2252.2 1399.98 L2252.2 1373.61 L2243.89 1375.28 L2243.89 1371.02 L2252.16 1369.35 L2256.83 1369.35 L2256.83 1399.98 L2264.47 1399.98 L2264.47 1403.91 L2244.56 1403.91 L2244.56 1399.98 Z\" fill=\"#000000\" fill-rule=\"nonzero\" fill-opacity=\"1\" /></svg>\n"
      ],
      "text/html": [
       "<?xml version=\"1.0\" encoding=\"utf-8\"?>\n",
       "<svg xmlns=\"http://www.w3.org/2000/svg\" xmlns:xlink=\"http://www.w3.org/1999/xlink\" width=\"600\" height=\"400\" viewBox=\"0 0 2400 1600\">\n",
       "<defs>\n",
       "  <clipPath id=\"clip450\">\n",
       "    <rect x=\"0\" y=\"0\" width=\"2400\" height=\"1600\"/>\n",
       "  </clipPath>\n",
       "</defs>\n",
       "<path clip-path=\"url(#clip450)\" d=\"M0 1600 L2400 1600 L2400 0 L0 0  Z\" fill=\"#ffffff\" fill-rule=\"evenodd\" fill-opacity=\"1\"/>\n",
       "<defs>\n",
       "  <clipPath id=\"clip451\">\n",
       "    <rect x=\"480\" y=\"0\" width=\"1681\" height=\"1600\"/>\n",
       "  </clipPath>\n",
       "</defs>\n",
       "<path clip-path=\"url(#clip450)\" d=\"M366.367 1486.45 L2352.76 1486.45 L2352.76 47.2441 L366.367 47.2441  Z\" fill=\"#ffffff\" fill-rule=\"evenodd\" fill-opacity=\"1\"/>\n",
       "<defs>\n",
       "  <clipPath id=\"clip452\">\n",
       "    <rect x=\"366\" y=\"47\" width=\"1987\" height=\"1440\"/>\n",
       "  </clipPath>\n",
       "</defs>\n",
       "<polyline clip-path=\"url(#clip452)\" style=\"stroke:#000000; stroke-linecap:round; stroke-linejoin:round; stroke-width:2; stroke-opacity:0.1; fill:none\" points=\"656.83,1486.45 656.83,47.2441 \"/>\n",
       "<polyline clip-path=\"url(#clip452)\" style=\"stroke:#000000; stroke-linecap:round; stroke-linejoin:round; stroke-width:2; stroke-opacity:0.1; fill:none\" points=\"1125.32,1486.45 1125.32,47.2441 \"/>\n",
       "<polyline clip-path=\"url(#clip452)\" style=\"stroke:#000000; stroke-linecap:round; stroke-linejoin:round; stroke-width:2; stroke-opacity:0.1; fill:none\" points=\"1593.81,1486.45 1593.81,47.2441 \"/>\n",
       "<polyline clip-path=\"url(#clip452)\" style=\"stroke:#000000; stroke-linecap:round; stroke-linejoin:round; stroke-width:2; stroke-opacity:0.1; fill:none\" points=\"2062.29,1486.45 2062.29,47.2441 \"/>\n",
       "<polyline clip-path=\"url(#clip452)\" style=\"stroke:#000000; stroke-linecap:round; stroke-linejoin:round; stroke-width:2; stroke-opacity:0.1; fill:none\" points=\"366.367,1355.14 2352.76,1355.14 \"/>\n",
       "<polyline clip-path=\"url(#clip452)\" style=\"stroke:#000000; stroke-linecap:round; stroke-linejoin:round; stroke-width:2; stroke-opacity:0.1; fill:none\" points=\"366.367,1101.7 2352.76,1101.7 \"/>\n",
       "<polyline clip-path=\"url(#clip452)\" style=\"stroke:#000000; stroke-linecap:round; stroke-linejoin:round; stroke-width:2; stroke-opacity:0.1; fill:none\" points=\"366.367,848.255 2352.76,848.255 \"/>\n",
       "<polyline clip-path=\"url(#clip452)\" style=\"stroke:#000000; stroke-linecap:round; stroke-linejoin:round; stroke-width:2; stroke-opacity:0.1; fill:none\" points=\"366.367,594.812 2352.76,594.812 \"/>\n",
       "<polyline clip-path=\"url(#clip452)\" style=\"stroke:#000000; stroke-linecap:round; stroke-linejoin:round; stroke-width:2; stroke-opacity:0.1; fill:none\" points=\"366.367,341.369 2352.76,341.369 \"/>\n",
       "<polyline clip-path=\"url(#clip452)\" style=\"stroke:#000000; stroke-linecap:round; stroke-linejoin:round; stroke-width:2; stroke-opacity:0.1; fill:none\" points=\"366.367,87.9252 2352.76,87.9252 \"/>\n",
       "<polyline clip-path=\"url(#clip450)\" style=\"stroke:#000000; stroke-linecap:round; stroke-linejoin:round; stroke-width:4; stroke-opacity:1; fill:none\" points=\"366.367,1486.45 2352.76,1486.45 \"/>\n",
       "<polyline clip-path=\"url(#clip450)\" style=\"stroke:#000000; stroke-linecap:round; stroke-linejoin:round; stroke-width:4; stroke-opacity:1; fill:none\" points=\"656.83,1486.45 656.83,1467.55 \"/>\n",
       "<polyline clip-path=\"url(#clip450)\" style=\"stroke:#000000; stroke-linecap:round; stroke-linejoin:round; stroke-width:4; stroke-opacity:1; fill:none\" points=\"1125.32,1486.45 1125.32,1467.55 \"/>\n",
       "<polyline clip-path=\"url(#clip450)\" style=\"stroke:#000000; stroke-linecap:round; stroke-linejoin:round; stroke-width:4; stroke-opacity:1; fill:none\" points=\"1593.81,1486.45 1593.81,1467.55 \"/>\n",
       "<polyline clip-path=\"url(#clip450)\" style=\"stroke:#000000; stroke-linecap:round; stroke-linejoin:round; stroke-width:4; stroke-opacity:1; fill:none\" points=\"2062.29,1486.45 2062.29,1467.55 \"/>\n",
       "<path clip-path=\"url(#clip450)\" d=\"M651.482 1544.91 L667.802 1544.91 L667.802 1548.85 L645.857 1548.85 L645.857 1544.91 Q648.519 1542.16 653.103 1537.53 Q657.709 1532.88 658.89 1531.53 Q661.135 1529.01 662.015 1527.27 Q662.918 1525.51 662.918 1523.82 Q662.918 1521.07 660.973 1519.33 Q659.052 1517.6 655.95 1517.6 Q653.751 1517.6 651.297 1518.36 Q648.867 1519.13 646.089 1520.68 L646.089 1515.95 Q648.913 1514.82 651.367 1514.24 Q653.82 1513.66 655.857 1513.66 Q661.228 1513.66 664.422 1516.35 Q667.617 1519.03 667.617 1523.52 Q667.617 1525.65 666.806 1527.57 Q666.019 1529.47 663.913 1532.07 Q663.334 1532.74 660.232 1535.95 Q657.131 1539.15 651.482 1544.91 Z\" fill=\"#000000\" fill-rule=\"nonzero\" fill-opacity=\"1\" /><path clip-path=\"url(#clip450)\" d=\"M1128.33 1518.36 L1116.52 1536.81 L1128.33 1536.81 L1128.33 1518.36 M1127.1 1514.29 L1132.98 1514.29 L1132.98 1536.81 L1137.91 1536.81 L1137.91 1540.7 L1132.98 1540.7 L1132.98 1548.85 L1128.33 1548.85 L1128.33 1540.7 L1112.72 1540.7 L1112.72 1536.19 L1127.1 1514.29 Z\" fill=\"#000000\" fill-rule=\"nonzero\" fill-opacity=\"1\" /><path clip-path=\"url(#clip450)\" d=\"M1594.21 1529.7 Q1591.06 1529.7 1589.21 1531.86 Q1587.38 1534.01 1587.38 1537.76 Q1587.38 1541.49 1589.21 1543.66 Q1591.06 1545.82 1594.21 1545.82 Q1597.36 1545.82 1599.19 1543.66 Q1601.04 1541.49 1601.04 1537.76 Q1601.04 1534.01 1599.19 1531.86 Q1597.36 1529.7 1594.21 1529.7 M1603.49 1515.05 L1603.49 1519.31 Q1601.73 1518.48 1599.93 1518.04 Q1598.15 1517.6 1596.39 1517.6 Q1591.76 1517.6 1589.3 1520.72 Q1586.87 1523.85 1586.53 1530.17 Q1587.89 1528.15 1589.95 1527.09 Q1592.01 1526 1594.49 1526 Q1599.7 1526 1602.71 1529.17 Q1605.74 1532.32 1605.74 1537.76 Q1605.74 1543.08 1602.59 1546.3 Q1599.44 1549.52 1594.21 1549.52 Q1588.22 1549.52 1585.04 1544.94 Q1581.87 1540.33 1581.87 1531.6 Q1581.87 1523.41 1585.76 1518.55 Q1589.65 1513.66 1596.2 1513.66 Q1597.96 1513.66 1599.74 1514.01 Q1601.55 1514.36 1603.49 1515.05 Z\" fill=\"#000000\" fill-rule=\"nonzero\" fill-opacity=\"1\" /><path clip-path=\"url(#clip450)\" d=\"M2062.29 1532.44 Q2058.96 1532.44 2057.04 1534.22 Q2055.14 1536 2055.14 1539.13 Q2055.14 1542.25 2057.04 1544.03 Q2058.96 1545.82 2062.29 1545.82 Q2065.63 1545.82 2067.55 1544.03 Q2069.47 1542.23 2069.47 1539.13 Q2069.47 1536 2067.55 1534.22 Q2065.65 1532.44 2062.29 1532.44 M2057.62 1530.45 Q2054.61 1529.7 2052.92 1527.64 Q2051.25 1525.58 2051.25 1522.62 Q2051.25 1518.48 2054.19 1516.07 Q2057.15 1513.66 2062.29 1513.66 Q2067.46 1513.66 2070.4 1516.07 Q2073.33 1518.48 2073.33 1522.62 Q2073.33 1525.58 2071.65 1527.64 Q2069.98 1529.7 2066.99 1530.45 Q2070.37 1531.23 2072.25 1533.52 Q2074.15 1535.82 2074.15 1539.13 Q2074.15 1544.15 2071.07 1546.83 Q2068.01 1549.52 2062.29 1549.52 Q2056.58 1549.52 2053.5 1546.83 Q2050.44 1544.15 2050.44 1539.13 Q2050.44 1535.82 2052.34 1533.52 Q2054.24 1531.23 2057.62 1530.45 M2055.9 1523.06 Q2055.9 1525.75 2057.57 1527.25 Q2059.26 1528.76 2062.29 1528.76 Q2065.3 1528.76 2066.99 1527.25 Q2068.71 1525.75 2068.71 1523.06 Q2068.71 1520.38 2066.99 1518.87 Q2065.3 1517.37 2062.29 1517.37 Q2059.26 1517.37 2057.57 1518.87 Q2055.9 1520.38 2055.9 1523.06 Z\" fill=\"#000000\" fill-rule=\"nonzero\" fill-opacity=\"1\" /><polyline clip-path=\"url(#clip450)\" style=\"stroke:#000000; stroke-linecap:round; stroke-linejoin:round; stroke-width:4; stroke-opacity:1; fill:none\" points=\"366.367,1486.45 366.367,47.2441 \"/>\n",
       "<polyline clip-path=\"url(#clip450)\" style=\"stroke:#000000; stroke-linecap:round; stroke-linejoin:round; stroke-width:4; stroke-opacity:1; fill:none\" points=\"366.367,1355.14 385.265,1355.14 \"/>\n",
       "<polyline clip-path=\"url(#clip450)\" style=\"stroke:#000000; stroke-linecap:round; stroke-linejoin:round; stroke-width:4; stroke-opacity:1; fill:none\" points=\"366.367,1101.7 385.265,1101.7 \"/>\n",
       "<polyline clip-path=\"url(#clip450)\" style=\"stroke:#000000; stroke-linecap:round; stroke-linejoin:round; stroke-width:4; stroke-opacity:1; fill:none\" points=\"366.367,848.255 385.265,848.255 \"/>\n",
       "<polyline clip-path=\"url(#clip450)\" style=\"stroke:#000000; stroke-linecap:round; stroke-linejoin:round; stroke-width:4; stroke-opacity:1; fill:none\" points=\"366.367,594.812 385.265,594.812 \"/>\n",
       "<polyline clip-path=\"url(#clip450)\" style=\"stroke:#000000; stroke-linecap:round; stroke-linejoin:round; stroke-width:4; stroke-opacity:1; fill:none\" points=\"366.367,341.369 385.265,341.369 \"/>\n",
       "<polyline clip-path=\"url(#clip450)\" style=\"stroke:#000000; stroke-linecap:round; stroke-linejoin:round; stroke-width:4; stroke-opacity:1; fill:none\" points=\"366.367,87.9252 385.265,87.9252 \"/>\n",
       "<path clip-path=\"url(#clip450)\" d=\"M50.9921 1362.04 L80.6679 1362.04 L80.6679 1365.98 L50.9921 1365.98 L50.9921 1362.04 Z\" fill=\"#000000\" fill-rule=\"nonzero\" fill-opacity=\"1\" /><path clip-path=\"url(#clip450)\" d=\"M94.7882 1374.93 L111.108 1374.93 L111.108 1378.87 L89.1632 1378.87 L89.1632 1374.93 Q91.8252 1372.18 96.4085 1367.55 Q101.015 1362.9 102.196 1361.55 Q104.441 1359.03 105.321 1357.3 Q106.223 1355.54 106.223 1353.85 Q106.223 1351.09 104.279 1349.36 Q102.358 1347.62 99.2558 1347.62 Q97.0567 1347.62 94.603 1348.38 Q92.1725 1349.15 89.3947 1350.7 L89.3947 1345.98 Q92.2188 1344.84 94.6724 1344.26 Q97.1261 1343.68 99.1632 1343.68 Q104.534 1343.68 107.728 1346.37 Q110.922 1349.05 110.922 1353.55 Q110.922 1355.68 110.112 1357.6 Q109.325 1359.49 107.219 1362.09 Q106.64 1362.76 103.538 1365.98 Q100.436 1369.17 94.7882 1374.93 Z\" fill=\"#000000\" fill-rule=\"nonzero\" fill-opacity=\"1\" /><path clip-path=\"url(#clip450)\" d=\"M120.922 1372.99 L125.807 1372.99 L125.807 1378.87 L120.922 1378.87 L120.922 1372.99 Z\" fill=\"#000000\" fill-rule=\"nonzero\" fill-opacity=\"1\" /><path clip-path=\"url(#clip450)\" d=\"M136.038 1344.31 L154.394 1344.31 L154.394 1348.24 L140.32 1348.24 L140.32 1356.72 Q141.339 1356.37 142.357 1356.21 Q143.376 1356.02 144.394 1356.02 Q150.181 1356.02 153.561 1359.19 Q156.941 1362.37 156.941 1367.78 Q156.941 1373.36 153.468 1376.46 Q149.996 1379.54 143.677 1379.54 Q141.501 1379.54 139.232 1379.17 Q136.987 1378.8 134.58 1378.06 L134.58 1373.36 Q136.663 1374.49 138.885 1375.05 Q141.107 1375.61 143.584 1375.61 Q147.589 1375.61 149.927 1373.5 Q152.265 1371.39 152.265 1367.78 Q152.265 1364.17 149.927 1362.06 Q147.589 1359.96 143.584 1359.96 Q141.709 1359.96 139.834 1360.37 Q137.982 1360.79 136.038 1361.67 L136.038 1344.31 Z\" fill=\"#000000\" fill-rule=\"nonzero\" fill-opacity=\"1\" /><path clip-path=\"url(#clip450)\" d=\"M176.153 1347.39 Q172.542 1347.39 170.714 1350.95 Q168.908 1354.49 168.908 1361.62 Q168.908 1368.73 170.714 1372.3 Q172.542 1375.84 176.153 1375.84 Q179.788 1375.84 181.593 1372.3 Q183.422 1368.73 183.422 1361.62 Q183.422 1354.49 181.593 1350.95 Q179.788 1347.39 176.153 1347.39 M176.153 1343.68 Q181.964 1343.68 185.019 1348.29 Q188.098 1352.87 188.098 1361.62 Q188.098 1370.35 185.019 1374.96 Q181.964 1379.54 176.153 1379.54 Q170.343 1379.54 167.265 1374.96 Q164.209 1370.35 164.209 1361.62 Q164.209 1352.87 167.265 1348.29 Q170.343 1343.68 176.153 1343.68 Z\" fill=\"#000000\" fill-rule=\"nonzero\" fill-opacity=\"1\" /><path clip-path=\"url(#clip450)\" d=\"M224.487 1353.41 L213.908 1364.03 L224.487 1374.61 L221.732 1377.41 L211.107 1366.79 L200.482 1377.41 L197.751 1374.61 L208.306 1364.03 L197.751 1353.41 L200.482 1350.61 L211.107 1361.23 L221.732 1350.61 L224.487 1353.41 Z\" fill=\"#000000\" fill-rule=\"nonzero\" fill-opacity=\"1\" /><path clip-path=\"url(#clip450)\" d=\"M236.848 1374.93 L244.486 1374.93 L244.486 1348.57 L236.176 1350.24 L236.176 1345.98 L244.44 1344.31 L249.116 1344.31 L249.116 1374.93 L256.755 1374.93 L256.755 1378.87 L236.848 1378.87 L236.848 1374.93 Z\" fill=\"#000000\" fill-rule=\"nonzero\" fill-opacity=\"1\" /><path clip-path=\"url(#clip450)\" d=\"M276.199 1347.39 Q272.588 1347.39 270.759 1350.95 Q268.954 1354.49 268.954 1361.62 Q268.954 1368.73 270.759 1372.3 Q272.588 1375.84 276.199 1375.84 Q279.833 1375.84 281.639 1372.3 Q283.468 1368.73 283.468 1361.62 Q283.468 1354.49 281.639 1350.95 Q279.833 1347.39 276.199 1347.39 M276.199 1343.68 Q282.009 1343.68 285.065 1348.29 Q288.144 1352.87 288.144 1361.62 Q288.144 1370.35 285.065 1374.96 Q282.009 1379.54 276.199 1379.54 Q270.389 1379.54 267.31 1374.96 Q264.255 1370.35 264.255 1361.62 Q264.255 1352.87 267.31 1348.29 Q270.389 1343.68 276.199 1343.68 Z\" fill=\"#000000\" fill-rule=\"nonzero\" fill-opacity=\"1\" /><path clip-path=\"url(#clip450)\" d=\"M288.689 1348.26 L294.896 1348.26 L294.896 1326.84 L288.144 1328.19 L288.144 1324.73 L294.858 1323.38 L298.657 1323.38 L298.657 1348.26 L304.864 1348.26 L304.864 1351.46 L288.689 1351.46 L288.689 1348.26 Z\" fill=\"#000000\" fill-rule=\"nonzero\" fill-opacity=\"1\" /><path clip-path=\"url(#clip450)\" d=\"M320.662 1325.88 Q317.728 1325.88 316.242 1328.78 Q314.775 1331.65 314.775 1337.45 Q314.775 1343.22 316.242 1346.12 Q317.728 1349 320.662 1349 Q323.615 1349 325.082 1346.12 Q326.568 1343.22 326.568 1337.45 Q326.568 1331.65 325.082 1328.78 Q323.615 1325.88 320.662 1325.88 M320.662 1322.87 Q325.383 1322.87 327.866 1326.61 Q330.367 1330.34 330.367 1337.45 Q330.367 1344.54 327.866 1348.28 Q325.383 1352 320.662 1352 Q315.942 1352 313.44 1348.28 Q310.957 1344.54 310.957 1337.45 Q310.957 1330.34 313.44 1326.61 Q315.942 1322.87 320.662 1322.87 Z\" fill=\"#000000\" fill-rule=\"nonzero\" fill-opacity=\"1\" /><path clip-path=\"url(#clip450)\" d=\"M50.9921 1108.6 L80.6679 1108.6 L80.6679 1112.53 L50.9921 1112.53 L50.9921 1108.6 Z\" fill=\"#000000\" fill-rule=\"nonzero\" fill-opacity=\"1\" /><path clip-path=\"url(#clip450)\" d=\"M94.7882 1121.49 L111.108 1121.49 L111.108 1125.43 L89.1632 1125.43 L89.1632 1121.49 Q91.8252 1118.74 96.4085 1114.11 Q101.015 1109.45 102.196 1108.11 Q104.441 1105.59 105.321 1103.85 Q106.223 1102.09 106.223 1100.4 Q106.223 1097.65 104.279 1095.91 Q102.358 1094.18 99.2558 1094.18 Q97.0567 1094.18 94.603 1094.94 Q92.1725 1095.7 89.3947 1097.26 L89.3947 1092.53 Q92.2188 1091.4 94.6724 1090.82 Q97.1261 1090.24 99.1632 1090.24 Q104.534 1090.24 107.728 1092.93 Q110.922 1095.61 110.922 1100.1 Q110.922 1102.23 110.112 1104.15 Q109.325 1106.05 107.219 1108.64 Q106.64 1109.32 103.538 1112.53 Q100.436 1115.73 94.7882 1121.49 Z\" fill=\"#000000\" fill-rule=\"nonzero\" fill-opacity=\"1\" /><path clip-path=\"url(#clip450)\" d=\"M120.922 1119.55 L125.807 1119.55 L125.807 1125.43 L120.922 1125.43 L120.922 1119.55 Z\" fill=\"#000000\" fill-rule=\"nonzero\" fill-opacity=\"1\" /><path clip-path=\"url(#clip450)\" d=\"M145.992 1093.94 Q142.381 1093.94 140.552 1097.51 Q138.746 1101.05 138.746 1108.18 Q138.746 1115.29 140.552 1118.85 Q142.381 1122.39 145.992 1122.39 Q149.626 1122.39 151.431 1118.85 Q153.26 1115.29 153.26 1108.18 Q153.26 1101.05 151.431 1097.51 Q149.626 1093.94 145.992 1093.94 M145.992 1090.24 Q151.802 1090.24 154.857 1094.85 Q157.936 1099.43 157.936 1108.18 Q157.936 1116.91 154.857 1121.51 Q151.802 1126.1 145.992 1126.1 Q140.181 1126.1 137.103 1121.51 Q134.047 1116.91 134.047 1108.18 Q134.047 1099.43 137.103 1094.85 Q140.181 1090.24 145.992 1090.24 Z\" fill=\"#000000\" fill-rule=\"nonzero\" fill-opacity=\"1\" /><path clip-path=\"url(#clip450)\" d=\"M176.153 1093.94 Q172.542 1093.94 170.714 1097.51 Q168.908 1101.05 168.908 1108.18 Q168.908 1115.29 170.714 1118.85 Q172.542 1122.39 176.153 1122.39 Q179.788 1122.39 181.593 1118.85 Q183.422 1115.29 183.422 1108.18 Q183.422 1101.05 181.593 1097.51 Q179.788 1093.94 176.153 1093.94 M176.153 1090.24 Q181.964 1090.24 185.019 1094.85 Q188.098 1099.43 188.098 1108.18 Q188.098 1116.91 185.019 1121.51 Q181.964 1126.1 176.153 1126.1 Q170.343 1126.1 167.265 1121.51 Q164.209 1116.91 164.209 1108.18 Q164.209 1099.43 167.265 1094.85 Q170.343 1090.24 176.153 1090.24 Z\" fill=\"#000000\" fill-rule=\"nonzero\" fill-opacity=\"1\" /><path clip-path=\"url(#clip450)\" d=\"M224.487 1099.96 L213.908 1110.59 L224.487 1121.17 L221.732 1123.97 L211.107 1113.34 L200.482 1123.97 L197.751 1121.17 L208.306 1110.59 L197.751 1099.96 L200.482 1097.16 L211.107 1107.79 L221.732 1097.16 L224.487 1099.96 Z\" fill=\"#000000\" fill-rule=\"nonzero\" fill-opacity=\"1\" /><path clip-path=\"url(#clip450)\" d=\"M236.848 1121.49 L244.486 1121.49 L244.486 1095.13 L236.176 1096.79 L236.176 1092.53 L244.44 1090.87 L249.116 1090.87 L249.116 1121.49 L256.755 1121.49 L256.755 1125.43 L236.848 1125.43 L236.848 1121.49 Z\" fill=\"#000000\" fill-rule=\"nonzero\" fill-opacity=\"1\" /><path clip-path=\"url(#clip450)\" d=\"M276.199 1093.94 Q272.588 1093.94 270.759 1097.51 Q268.954 1101.05 268.954 1108.18 Q268.954 1115.29 270.759 1118.85 Q272.588 1122.39 276.199 1122.39 Q279.833 1122.39 281.639 1118.85 Q283.468 1115.29 283.468 1108.18 Q283.468 1101.05 281.639 1097.51 Q279.833 1093.94 276.199 1093.94 M276.199 1090.24 Q282.009 1090.24 285.065 1094.85 Q288.144 1099.43 288.144 1108.18 Q288.144 1116.91 285.065 1121.51 Q282.009 1126.1 276.199 1126.1 Q270.389 1126.1 267.31 1121.51 Q264.255 1116.91 264.255 1108.18 Q264.255 1099.43 267.31 1094.85 Q270.389 1090.24 276.199 1090.24 Z\" fill=\"#000000\" fill-rule=\"nonzero\" fill-opacity=\"1\" /><path clip-path=\"url(#clip450)\" d=\"M288.689 1094.82 L294.896 1094.82 L294.896 1073.4 L288.144 1074.75 L288.144 1071.29 L294.858 1069.94 L298.657 1069.94 L298.657 1094.82 L304.864 1094.82 L304.864 1098.02 L288.689 1098.02 L288.689 1094.82 Z\" fill=\"#000000\" fill-rule=\"nonzero\" fill-opacity=\"1\" /><path clip-path=\"url(#clip450)\" d=\"M320.662 1072.44 Q317.728 1072.44 316.242 1075.33 Q314.775 1078.21 314.775 1084 Q314.775 1089.78 316.242 1092.67 Q317.728 1095.55 320.662 1095.55 Q323.615 1095.55 325.082 1092.67 Q326.568 1089.78 326.568 1084 Q326.568 1078.21 325.082 1075.33 Q323.615 1072.44 320.662 1072.44 M320.662 1069.43 Q325.383 1069.43 327.866 1073.17 Q330.367 1076.89 330.367 1084 Q330.367 1091.09 327.866 1094.84 Q325.383 1098.56 320.662 1098.56 Q315.942 1098.56 313.44 1094.84 Q310.957 1091.09 310.957 1084 Q310.957 1076.89 313.44 1073.17 Q315.942 1069.43 320.662 1069.43 Z\" fill=\"#000000\" fill-rule=\"nonzero\" fill-opacity=\"1\" /><path clip-path=\"url(#clip450)\" d=\"M50.9921 855.154 L80.6679 855.154 L80.6679 859.089 L50.9921 859.089 L50.9921 855.154 Z\" fill=\"#000000\" fill-rule=\"nonzero\" fill-opacity=\"1\" /><path clip-path=\"url(#clip450)\" d=\"M91.5706 868.048 L99.2095 868.048 L99.2095 841.682 L90.8993 843.349 L90.8993 839.09 L99.1632 837.423 L103.839 837.423 L103.839 868.048 L111.478 868.048 L111.478 871.983 L91.5706 871.983 L91.5706 868.048 Z\" fill=\"#000000\" fill-rule=\"nonzero\" fill-opacity=\"1\" /><path clip-path=\"url(#clip450)\" d=\"M120.922 866.103 L125.807 866.103 L125.807 871.983 L120.922 871.983 L120.922 866.103 Z\" fill=\"#000000\" fill-rule=\"nonzero\" fill-opacity=\"1\" /><path clip-path=\"url(#clip450)\" d=\"M136.038 837.423 L154.394 837.423 L154.394 841.358 L140.32 841.358 L140.32 849.83 Q141.339 849.483 142.357 849.321 Q143.376 849.136 144.394 849.136 Q150.181 849.136 153.561 852.307 Q156.941 855.478 156.941 860.895 Q156.941 866.474 153.468 869.575 Q149.996 872.654 143.677 872.654 Q141.501 872.654 139.232 872.284 Q136.987 871.913 134.58 871.173 L134.58 866.474 Q136.663 867.608 138.885 868.163 Q141.107 868.719 143.584 868.719 Q147.589 868.719 149.927 866.613 Q152.265 864.506 152.265 860.895 Q152.265 857.284 149.927 855.177 Q147.589 853.071 143.584 853.071 Q141.709 853.071 139.834 853.488 Q137.982 853.904 136.038 854.784 L136.038 837.423 Z\" fill=\"#000000\" fill-rule=\"nonzero\" fill-opacity=\"1\" /><path clip-path=\"url(#clip450)\" d=\"M176.153 840.502 Q172.542 840.502 170.714 844.066 Q168.908 847.608 168.908 854.738 Q168.908 861.844 170.714 865.409 Q172.542 868.95 176.153 868.95 Q179.788 868.95 181.593 865.409 Q183.422 861.844 183.422 854.738 Q183.422 847.608 181.593 844.066 Q179.788 840.502 176.153 840.502 M176.153 836.798 Q181.964 836.798 185.019 841.404 Q188.098 845.988 188.098 854.738 Q188.098 863.464 185.019 868.071 Q181.964 872.654 176.153 872.654 Q170.343 872.654 167.265 868.071 Q164.209 863.464 164.209 854.738 Q164.209 845.988 167.265 841.404 Q170.343 836.798 176.153 836.798 Z\" fill=\"#000000\" fill-rule=\"nonzero\" fill-opacity=\"1\" /><path clip-path=\"url(#clip450)\" d=\"M224.487 846.52 L213.908 857.145 L224.487 867.724 L221.732 870.525 L211.107 859.9 L200.482 870.525 L197.751 867.724 L208.306 857.145 L197.751 846.52 L200.482 843.719 L211.107 854.344 L221.732 843.719 L224.487 846.52 Z\" fill=\"#000000\" fill-rule=\"nonzero\" fill-opacity=\"1\" /><path clip-path=\"url(#clip450)\" d=\"M236.848 868.048 L244.486 868.048 L244.486 841.682 L236.176 843.349 L236.176 839.09 L244.44 837.423 L249.116 837.423 L249.116 868.048 L256.755 868.048 L256.755 871.983 L236.848 871.983 L236.848 868.048 Z\" fill=\"#000000\" fill-rule=\"nonzero\" fill-opacity=\"1\" /><path clip-path=\"url(#clip450)\" d=\"M276.199 840.502 Q272.588 840.502 270.759 844.066 Q268.954 847.608 268.954 854.738 Q268.954 861.844 270.759 865.409 Q272.588 868.95 276.199 868.95 Q279.833 868.95 281.639 865.409 Q283.468 861.844 283.468 854.738 Q283.468 847.608 281.639 844.066 Q279.833 840.502 276.199 840.502 M276.199 836.798 Q282.009 836.798 285.065 841.404 Q288.144 845.988 288.144 854.738 Q288.144 863.464 285.065 868.071 Q282.009 872.654 276.199 872.654 Q270.389 872.654 267.31 868.071 Q264.255 863.464 264.255 854.738 Q264.255 845.988 267.31 841.404 Q270.389 836.798 276.199 836.798 Z\" fill=\"#000000\" fill-rule=\"nonzero\" fill-opacity=\"1\" /><path clip-path=\"url(#clip450)\" d=\"M288.689 841.375 L294.896 841.375 L294.896 819.953 L288.144 821.307 L288.144 817.847 L294.858 816.492 L298.657 816.492 L298.657 841.375 L304.864 841.375 L304.864 844.572 L288.689 844.572 L288.689 841.375 Z\" fill=\"#000000\" fill-rule=\"nonzero\" fill-opacity=\"1\" /><path clip-path=\"url(#clip450)\" d=\"M320.662 818.994 Q317.728 818.994 316.242 821.89 Q314.775 824.768 314.775 830.561 Q314.775 836.335 316.242 839.231 Q317.728 842.109 320.662 842.109 Q323.615 842.109 325.082 839.231 Q326.568 836.335 326.568 830.561 Q326.568 824.768 325.082 821.89 Q323.615 818.994 320.662 818.994 M320.662 815.985 Q325.383 815.985 327.866 819.727 Q330.367 823.451 330.367 830.561 Q330.367 837.651 327.866 841.394 Q325.383 845.118 320.662 845.118 Q315.942 845.118 313.44 841.394 Q310.957 837.651 310.957 830.561 Q310.957 823.451 313.44 819.727 Q315.942 815.985 320.662 815.985 Z\" fill=\"#000000\" fill-rule=\"nonzero\" fill-opacity=\"1\" /><path clip-path=\"url(#clip450)\" d=\"M50.9921 601.711 L80.6679 601.711 L80.6679 605.646 L50.9921 605.646 L50.9921 601.711 Z\" fill=\"#000000\" fill-rule=\"nonzero\" fill-opacity=\"1\" /><path clip-path=\"url(#clip450)\" d=\"M91.5706 614.604 L99.2095 614.604 L99.2095 588.239 L90.8993 589.905 L90.8993 585.646 L99.1632 583.98 L103.839 583.98 L103.839 614.604 L111.478 614.604 L111.478 618.54 L91.5706 618.54 L91.5706 614.604 Z\" fill=\"#000000\" fill-rule=\"nonzero\" fill-opacity=\"1\" /><path clip-path=\"url(#clip450)\" d=\"M120.922 612.66 L125.807 612.66 L125.807 618.54 L120.922 618.54 L120.922 612.66 Z\" fill=\"#000000\" fill-rule=\"nonzero\" fill-opacity=\"1\" /><path clip-path=\"url(#clip450)\" d=\"M145.992 587.058 Q142.381 587.058 140.552 590.623 Q138.746 594.165 138.746 601.294 Q138.746 608.401 140.552 611.965 Q142.381 615.507 145.992 615.507 Q149.626 615.507 151.431 611.965 Q153.26 608.401 153.26 601.294 Q153.26 594.165 151.431 590.623 Q149.626 587.058 145.992 587.058 M145.992 583.355 Q151.802 583.355 154.857 587.961 Q157.936 592.544 157.936 601.294 Q157.936 610.021 154.857 614.628 Q151.802 619.211 145.992 619.211 Q140.181 619.211 137.103 614.628 Q134.047 610.021 134.047 601.294 Q134.047 592.544 137.103 587.961 Q140.181 583.355 145.992 583.355 Z\" fill=\"#000000\" fill-rule=\"nonzero\" fill-opacity=\"1\" /><path clip-path=\"url(#clip450)\" d=\"M176.153 587.058 Q172.542 587.058 170.714 590.623 Q168.908 594.165 168.908 601.294 Q168.908 608.401 170.714 611.965 Q172.542 615.507 176.153 615.507 Q179.788 615.507 181.593 611.965 Q183.422 608.401 183.422 601.294 Q183.422 594.165 181.593 590.623 Q179.788 587.058 176.153 587.058 M176.153 583.355 Q181.964 583.355 185.019 587.961 Q188.098 592.544 188.098 601.294 Q188.098 610.021 185.019 614.628 Q181.964 619.211 176.153 619.211 Q170.343 619.211 167.265 614.628 Q164.209 610.021 164.209 601.294 Q164.209 592.544 167.265 587.961 Q170.343 583.355 176.153 583.355 Z\" fill=\"#000000\" fill-rule=\"nonzero\" fill-opacity=\"1\" /><path clip-path=\"url(#clip450)\" d=\"M224.487 593.077 L213.908 603.702 L224.487 614.28 L221.732 617.081 L211.107 606.456 L200.482 617.081 L197.751 614.28 L208.306 603.702 L197.751 593.077 L200.482 590.276 L211.107 600.901 L221.732 590.276 L224.487 593.077 Z\" fill=\"#000000\" fill-rule=\"nonzero\" fill-opacity=\"1\" /><path clip-path=\"url(#clip450)\" d=\"M236.848 614.604 L244.486 614.604 L244.486 588.239 L236.176 589.905 L236.176 585.646 L244.44 583.98 L249.116 583.98 L249.116 614.604 L256.755 614.604 L256.755 618.54 L236.848 618.54 L236.848 614.604 Z\" fill=\"#000000\" fill-rule=\"nonzero\" fill-opacity=\"1\" /><path clip-path=\"url(#clip450)\" d=\"M276.199 587.058 Q272.588 587.058 270.759 590.623 Q268.954 594.165 268.954 601.294 Q268.954 608.401 270.759 611.965 Q272.588 615.507 276.199 615.507 Q279.833 615.507 281.639 611.965 Q283.468 608.401 283.468 601.294 Q283.468 594.165 281.639 590.623 Q279.833 587.058 276.199 587.058 M276.199 583.355 Q282.009 583.355 285.065 587.961 Q288.144 592.544 288.144 601.294 Q288.144 610.021 285.065 614.628 Q282.009 619.211 276.199 619.211 Q270.389 619.211 267.31 614.628 Q264.255 610.021 264.255 601.294 Q264.255 592.544 267.31 587.961 Q270.389 583.355 276.199 583.355 Z\" fill=\"#000000\" fill-rule=\"nonzero\" fill-opacity=\"1\" /><path clip-path=\"url(#clip450)\" d=\"M288.689 587.932 L294.896 587.932 L294.896 566.51 L288.144 567.864 L288.144 564.403 L294.858 563.049 L298.657 563.049 L298.657 587.932 L304.864 587.932 L304.864 591.129 L288.689 591.129 L288.689 587.932 Z\" fill=\"#000000\" fill-rule=\"nonzero\" fill-opacity=\"1\" /><path clip-path=\"url(#clip450)\" d=\"M320.662 565.551 Q317.728 565.551 316.242 568.447 Q314.775 571.325 314.775 577.117 Q314.775 582.891 316.242 585.788 Q317.728 588.665 320.662 588.665 Q323.615 588.665 325.082 585.788 Q326.568 582.891 326.568 577.117 Q326.568 571.325 325.082 568.447 Q323.615 565.551 320.662 565.551 M320.662 562.541 Q325.383 562.541 327.866 566.284 Q330.367 570.008 330.367 577.117 Q330.367 584.208 327.866 587.951 Q325.383 591.675 320.662 591.675 Q315.942 591.675 313.44 587.951 Q310.957 584.208 310.957 577.117 Q310.957 570.008 313.44 566.284 Q315.942 562.541 320.662 562.541 Z\" fill=\"#000000\" fill-rule=\"nonzero\" fill-opacity=\"1\" /><path clip-path=\"url(#clip450)\" d=\"M73.8436 348.268 L103.519 348.268 L103.519 352.203 L73.8436 352.203 L73.8436 348.268 Z\" fill=\"#000000\" fill-rule=\"nonzero\" fill-opacity=\"1\" /><path clip-path=\"url(#clip450)\" d=\"M113.658 330.536 L132.015 330.536 L132.015 334.471 L117.941 334.471 L117.941 342.943 Q118.959 342.596 119.978 342.434 Q120.996 342.249 122.015 342.249 Q127.802 342.249 131.181 345.42 Q134.561 348.592 134.561 354.008 Q134.561 359.587 131.089 362.689 Q127.616 365.767 121.297 365.767 Q119.121 365.767 116.853 365.397 Q114.607 365.027 112.2 364.286 L112.2 359.587 Q114.283 360.721 116.505 361.277 Q118.728 361.832 121.204 361.832 Q125.209 361.832 127.547 359.726 Q129.885 357.619 129.885 354.008 Q129.885 350.397 127.547 348.291 Q125.209 346.184 121.204 346.184 Q119.329 346.184 117.454 346.601 Q115.603 347.018 113.658 347.897 L113.658 330.536 Z\" fill=\"#000000\" fill-rule=\"nonzero\" fill-opacity=\"1\" /><path clip-path=\"url(#clip450)\" d=\"M143.774 359.217 L148.658 359.217 L148.658 365.096 L143.774 365.096 L143.774 359.217 Z\" fill=\"#000000\" fill-rule=\"nonzero\" fill-opacity=\"1\" /><path clip-path=\"url(#clip450)\" d=\"M168.843 333.615 Q165.232 333.615 163.403 337.18 Q161.598 340.721 161.598 347.851 Q161.598 354.957 163.403 358.522 Q165.232 362.064 168.843 362.064 Q172.477 362.064 174.283 358.522 Q176.112 354.957 176.112 347.851 Q176.112 340.721 174.283 337.18 Q172.477 333.615 168.843 333.615 M168.843 329.911 Q174.653 329.911 177.709 334.518 Q180.787 339.101 180.787 347.851 Q180.787 356.578 177.709 361.184 Q174.653 365.767 168.843 365.767 Q163.033 365.767 159.954 361.184 Q156.899 356.578 156.899 347.851 Q156.899 339.101 159.954 334.518 Q163.033 329.911 168.843 329.911 Z\" fill=\"#000000\" fill-rule=\"nonzero\" fill-opacity=\"1\" /><path clip-path=\"url(#clip450)\" d=\"M199.005 333.615 Q195.394 333.615 193.565 337.18 Q191.76 340.721 191.76 347.851 Q191.76 354.957 193.565 358.522 Q195.394 362.064 199.005 362.064 Q202.639 362.064 204.445 358.522 Q206.273 354.957 206.273 347.851 Q206.273 340.721 204.445 337.18 Q202.639 333.615 199.005 333.615 M199.005 329.911 Q204.815 329.911 207.871 334.518 Q210.949 339.101 210.949 347.851 Q210.949 356.578 207.871 361.184 Q204.815 365.767 199.005 365.767 Q193.195 365.767 190.116 361.184 Q187.061 356.578 187.061 347.851 Q187.061 339.101 190.116 334.518 Q193.195 329.911 199.005 329.911 Z\" fill=\"#000000\" fill-rule=\"nonzero\" fill-opacity=\"1\" /><path clip-path=\"url(#clip450)\" d=\"M247.338 339.633 L236.759 350.258 L247.338 360.837 L244.583 363.638 L233.958 353.013 L223.334 363.638 L220.602 360.837 L231.158 350.258 L220.602 339.633 L223.334 336.832 L233.958 347.457 L244.583 336.832 L247.338 339.633 Z\" fill=\"#000000\" fill-rule=\"nonzero\" fill-opacity=\"1\" /><path clip-path=\"url(#clip450)\" d=\"M259.699 361.161 L267.338 361.161 L267.338 334.795 L259.028 336.462 L259.028 332.203 L267.292 330.536 L271.968 330.536 L271.968 361.161 L279.606 361.161 L279.606 365.096 L259.699 365.096 L259.699 361.161 Z\" fill=\"#000000\" fill-rule=\"nonzero\" fill-opacity=\"1\" /><path clip-path=\"url(#clip450)\" d=\"M299.051 333.615 Q295.44 333.615 293.611 337.18 Q291.805 340.721 291.805 347.851 Q291.805 354.957 293.611 358.522 Q295.44 362.064 299.051 362.064 Q302.685 362.064 304.49 358.522 Q306.319 354.957 306.319 347.851 Q306.319 340.721 304.49 337.18 Q302.685 333.615 299.051 333.615 M299.051 329.911 Q304.861 329.911 307.916 334.518 Q310.995 339.101 310.995 347.851 Q310.995 356.578 307.916 361.184 Q304.861 365.767 299.051 365.767 Q293.241 365.767 290.162 361.184 Q287.106 356.578 287.106 347.851 Q287.106 339.101 290.162 334.518 Q293.241 329.911 299.051 329.911 Z\" fill=\"#000000\" fill-rule=\"nonzero\" fill-opacity=\"1\" /><path clip-path=\"url(#clip450)\" d=\"M312.801 337.103 L312.801 333.642 Q314.23 334.319 315.697 334.677 Q317.164 335.034 318.575 335.034 Q322.336 335.034 324.311 332.514 Q326.305 329.975 326.587 324.821 Q325.496 326.439 323.822 327.304 Q322.148 328.169 320.117 328.169 Q315.904 328.169 313.44 325.63 Q310.995 323.072 310.995 318.652 Q310.995 314.327 313.553 311.712 Q316.111 309.098 320.361 309.098 Q325.233 309.098 327.79 312.841 Q330.367 316.565 330.367 323.674 Q330.367 330.313 327.207 334.282 Q324.066 338.231 318.744 338.231 Q317.314 338.231 315.847 337.949 Q314.38 337.667 312.801 337.103 M320.361 325.197 Q322.919 325.197 324.405 323.448 Q325.91 321.699 325.91 318.652 Q325.91 315.624 324.405 313.875 Q322.919 312.107 320.361 312.107 Q317.803 312.107 316.299 313.875 Q314.813 315.624 314.813 318.652 Q314.813 321.699 316.299 323.448 Q317.803 325.197 320.361 325.197 Z\" fill=\"#000000\" fill-rule=\"nonzero\" fill-opacity=\"1\" /><path clip-path=\"url(#clip450)\" d=\"M318.423 73.7239 Q314.812 73.7239 312.983 77.2887 Q311.177 80.8303 311.177 87.9599 Q311.177 95.0664 312.983 98.6312 Q314.812 102.173 318.423 102.173 Q322.057 102.173 323.862 98.6312 Q325.691 95.0664 325.691 87.9599 Q325.691 80.8303 323.862 77.2887 Q322.057 73.7239 318.423 73.7239 M318.423 70.0202 Q324.233 70.0202 327.288 74.6267 Q330.367 79.21 330.367 87.9599 Q330.367 96.6867 327.288 101.293 Q324.233 105.876 318.423 105.876 Q312.613 105.876 309.534 101.293 Q306.478 96.6867 306.478 87.9599 Q306.478 79.21 309.534 74.6267 Q312.613 70.0202 318.423 70.0202 Z\" fill=\"#000000\" fill-rule=\"nonzero\" fill-opacity=\"1\" /><polyline clip-path=\"url(#clip452)\" style=\"stroke:#009af9; stroke-linecap:round; stroke-linejoin:round; stroke-width:4; stroke-opacity:1; fill:none\" points=\"656.83,1445.72 891.074,1266.74 1125.32,791.405 1359.56,597.135 1593.81,239.993 1828.05,88.5205 2062.29,87.9763 2296.54,87.9763 \"/>\n",
       "<path clip-path=\"url(#clip450)\" d=\"M2035.47 1438.47 L2286.54 1438.47 L2286.54 1334.79 L2035.47 1334.79  Z\" fill=\"#ffffff\" fill-rule=\"evenodd\" fill-opacity=\"1\"/>\n",
       "<polyline clip-path=\"url(#clip450)\" style=\"stroke:#000000; stroke-linecap:round; stroke-linejoin:round; stroke-width:4; stroke-opacity:1; fill:none\" points=\"2035.47,1438.47 2286.54,1438.47 2286.54,1334.79 2035.47,1334.79 2035.47,1438.47 \"/>\n",
       "<polyline clip-path=\"url(#clip450)\" style=\"stroke:#009af9; stroke-linecap:round; stroke-linejoin:round; stroke-width:4; stroke-opacity:1; fill:none\" points=\"2057.54,1386.63 2189.97,1386.63 \"/>\n",
       "<path clip-path=\"url(#clip450)\" d=\"M2225.88 1406.32 Q2224.08 1410.95 2222.37 1412.36 Q2220.65 1413.78 2217.78 1413.78 L2214.38 1413.78 L2214.38 1410.21 L2216.88 1410.21 Q2218.64 1410.21 2219.61 1409.38 Q2220.58 1408.54 2221.76 1405.44 L2222.53 1403.5 L2212.04 1377.99 L2216.56 1377.99 L2224.66 1398.27 L2232.76 1377.99 L2237.27 1377.99 L2225.88 1406.32 Z\" fill=\"#000000\" fill-rule=\"nonzero\" fill-opacity=\"1\" /><path clip-path=\"url(#clip450)\" d=\"M2244.56 1399.98 L2252.2 1399.98 L2252.2 1373.61 L2243.89 1375.28 L2243.89 1371.02 L2252.16 1369.35 L2256.83 1369.35 L2256.83 1399.98 L2264.47 1399.98 L2264.47 1403.91 L2244.56 1403.91 L2244.56 1399.98 Z\" fill=\"#000000\" fill-rule=\"nonzero\" fill-opacity=\"1\" /></svg>\n"
      ]
     },
     "metadata": {},
     "output_type": "display_data"
    }
   ],
   "source": [
    "plot(ll)"
   ]
  },
  {
   "cell_type": "markdown",
   "metadata": {},
   "source": [
    "# Trialized Multivariate Switching Gaussian Regression Model"
   ]
  },
  {
   "cell_type": "code",
   "execution_count": 18,
   "metadata": {},
   "outputs": [
    {
     "name": "stderr",
     "output_type": "stream",
     "text": [
      "\u001b[32mRunning EM algorithm... 100%|██████████████████████████████████████████████████| Time: 0:00:03 (39.29 ms/it)\u001b[39m\u001b[K\n"
     ]
    },
    {
     "name": "stdout",
     "output_type": "stream",
     "text": [
      "falsefalse"
     ]
    }
   ],
   "source": [
    "# Create Emission Models\n",
    "emission_1 = GaussianRegressionEmission(input_dim=50, output_dim=100, include_intercept=true, β=50*rand(51, 100))\n",
    "emission_2 = GaussianRegressionEmission(input_dim=50, output_dim=100, include_intercept=true, β=-30*rand(51, 100))\n",
    "\n",
    "# Create Switching Regression Model\n",
    "true_model = SwitchingGaussianRegression(K=5, input_dim=50, output_dim=100, include_intercept=true)\n",
    "# true_model.A = [0.6 0.4; 0.3 0.7]\n",
    "\n",
    "# Plug in the emission models\n",
    "true_model.B[1] = emission_1\n",
    "true_model.B[2] = emission_2\n",
    "\n",
    "# Sample trials from the model 100 time points 50 trials or something\n",
    "num_trials = 10  # Number of times you want to sample\n",
    "n = 100\n",
    "\n",
    "\n",
    "all_labels = Vector{Matrix{Int}}()  # Store each true_labels matrix\n",
    "all_data = Vector{Matrix{Float64}}()  # Store each data matrix\n",
    "Φ_total = Vector{Matrix{Float64}}()\n",
    "\n",
    "for _ in 1:num_trials\n",
    "    Φ = randn(50, n)\n",
    "    true_labels, data = SSD.sample(true_model, Φ, n=n)\n",
    "    # push!(all_labels, true_labels)\n",
    "    push!(all_data, data)\n",
    "    push!(Φ_total, Φ)\n",
    "end\n",
    "\n",
    "\n",
    "# # Try to fit a new model to the data\n",
    "test_model = SSD.SwitchingGaussianRegression(K=5, input_dim=50, output_dim=100, include_intercept=true)\n",
    "# test_model.A = [.1111 0.9999; 0.2222 0.8888]\n",
    "ll = SSD.fit!(test_model, all_data, Φ_total)\n",
    "\n",
    "# # # Test output -> not quite right yet\n",
    "print(isapprox(test_model.B[1].β, true_model.B[1].β, atol=0.1) || isapprox(test_model.B[1].β, true_model.B[2].β, atol=0.1))\n",
    "print(isapprox(test_model.B[2].β, true_model.B[2].β, atol=0.1) || isapprox(test_model.B[2].β, true_model.B[1].β, atol=0.1))"
   ]
  },
  {
   "cell_type": "code",
   "execution_count": 19,
   "metadata": {},
   "outputs": [
    {
     "data": {
      "image/png": "[encoded data removed]",
      "image/svg+xml": [
       "<?xml version=\"1.0\" encoding=\"utf-8\"?>\n",
       "<svg xmlns=\"http://www.w3.org/2000/svg\" xmlns:xlink=\"http://www.w3.org/1999/xlink\" width=\"600\" height=\"400\" viewBox=\"0 0 2400 1600\">\n",
       "<defs>\n",
       "  <clipPath id=\"clip260\">\n",
       "    <rect x=\"0\" y=\"0\" width=\"2400\" height=\"1600\"/>\n",
       "  </clipPath>\n",
       "</defs>\n",
       "<path clip-path=\"url(#clip260)\" d=\"M0 1600 L2400 1600 L2400 0 L0 0  Z\" fill=\"#ffffff\" fill-rule=\"evenodd\" fill-opacity=\"1\"/>\n",
       "<defs>\n",
       "  <clipPath id=\"clip261\">\n",
       "    <rect x=\"480\" y=\"0\" width=\"1681\" height=\"1600\"/>\n",
       "  </clipPath>\n",
       "</defs>\n",
       "<path clip-path=\"url(#clip260)\" d=\"M312.037 1486.45 L2352.76 1486.45 L2352.76 47.2441 L312.037 47.2441  Z\" fill=\"#ffffff\" fill-rule=\"evenodd\" fill-opacity=\"1\"/>\n",
       "<defs>\n",
       "  <clipPath id=\"clip262\">\n",
       "    <rect x=\"312\" y=\"47\" width=\"2042\" height=\"1440\"/>\n",
       "  </clipPath>\n",
       "</defs>\n",
       "<polyline clip-path=\"url(#clip262)\" style=\"stroke:#000000; stroke-linecap:round; stroke-linejoin:round; stroke-width:2; stroke-opacity:0.1; fill:none\" points=\"626.488,1486.45 626.488,47.2441 \"/>\n",
       "<polyline clip-path=\"url(#clip262)\" style=\"stroke:#000000; stroke-linecap:round; stroke-linejoin:round; stroke-width:2; stroke-opacity:0.1; fill:none\" points=\"947.355,1486.45 947.355,47.2441 \"/>\n",
       "<polyline clip-path=\"url(#clip262)\" style=\"stroke:#000000; stroke-linecap:round; stroke-linejoin:round; stroke-width:2; stroke-opacity:0.1; fill:none\" points=\"1268.22,1486.45 1268.22,47.2441 \"/>\n",
       "<polyline clip-path=\"url(#clip262)\" style=\"stroke:#000000; stroke-linecap:round; stroke-linejoin:round; stroke-width:2; stroke-opacity:0.1; fill:none\" points=\"1589.09,1486.45 1589.09,47.2441 \"/>\n",
       "<polyline clip-path=\"url(#clip262)\" style=\"stroke:#000000; stroke-linecap:round; stroke-linejoin:round; stroke-width:2; stroke-opacity:0.1; fill:none\" points=\"1909.96,1486.45 1909.96,47.2441 \"/>\n",
       "<polyline clip-path=\"url(#clip262)\" style=\"stroke:#000000; stroke-linecap:round; stroke-linejoin:round; stroke-width:2; stroke-opacity:0.1; fill:none\" points=\"2230.83,1486.45 2230.83,47.2441 \"/>\n",
       "<polyline clip-path=\"url(#clip262)\" style=\"stroke:#000000; stroke-linecap:round; stroke-linejoin:round; stroke-width:2; stroke-opacity:0.1; fill:none\" points=\"312.037,1354.98 2352.76,1354.98 \"/>\n",
       "<polyline clip-path=\"url(#clip262)\" style=\"stroke:#000000; stroke-linecap:round; stroke-linejoin:round; stroke-width:2; stroke-opacity:0.1; fill:none\" points=\"312.037,1101.51 2352.76,1101.51 \"/>\n",
       "<polyline clip-path=\"url(#clip262)\" style=\"stroke:#000000; stroke-linecap:round; stroke-linejoin:round; stroke-width:2; stroke-opacity:0.1; fill:none\" points=\"312.037,848.051 2352.76,848.051 \"/>\n",
       "<polyline clip-path=\"url(#clip262)\" style=\"stroke:#000000; stroke-linecap:round; stroke-linejoin:round; stroke-width:2; stroke-opacity:0.1; fill:none\" points=\"312.037,594.587 2352.76,594.587 \"/>\n",
       "<polyline clip-path=\"url(#clip262)\" style=\"stroke:#000000; stroke-linecap:round; stroke-linejoin:round; stroke-width:2; stroke-opacity:0.1; fill:none\" points=\"312.037,341.124 2352.76,341.124 \"/>\n",
       "<polyline clip-path=\"url(#clip262)\" style=\"stroke:#000000; stroke-linecap:round; stroke-linejoin:round; stroke-width:2; stroke-opacity:0.1; fill:none\" points=\"312.037,87.6601 2352.76,87.6601 \"/>\n",
       "<polyline clip-path=\"url(#clip260)\" style=\"stroke:#000000; stroke-linecap:round; stroke-linejoin:round; stroke-width:4; stroke-opacity:1; fill:none\" points=\"312.037,1486.45 2352.76,1486.45 \"/>\n",
       "<polyline clip-path=\"url(#clip260)\" style=\"stroke:#000000; stroke-linecap:round; stroke-linejoin:round; stroke-width:4; stroke-opacity:1; fill:none\" points=\"626.488,1486.45 626.488,1467.55 \"/>\n",
       "<polyline clip-path=\"url(#clip260)\" style=\"stroke:#000000; stroke-linecap:round; stroke-linejoin:round; stroke-width:4; stroke-opacity:1; fill:none\" points=\"947.355,1486.45 947.355,1467.55 \"/>\n",
       "<polyline clip-path=\"url(#clip260)\" style=\"stroke:#000000; stroke-linecap:round; stroke-linejoin:round; stroke-width:4; stroke-opacity:1; fill:none\" points=\"1268.22,1486.45 1268.22,1467.55 \"/>\n",
       "<polyline clip-path=\"url(#clip260)\" style=\"stroke:#000000; stroke-linecap:round; stroke-linejoin:round; stroke-width:4; stroke-opacity:1; fill:none\" points=\"1589.09,1486.45 1589.09,1467.55 \"/>\n",
       "<polyline clip-path=\"url(#clip260)\" style=\"stroke:#000000; stroke-linecap:round; stroke-linejoin:round; stroke-width:4; stroke-opacity:1; fill:none\" points=\"1909.96,1486.45 1909.96,1467.55 \"/>\n",
       "<polyline clip-path=\"url(#clip260)\" style=\"stroke:#000000; stroke-linecap:round; stroke-linejoin:round; stroke-width:4; stroke-opacity:1; fill:none\" points=\"2230.83,1486.45 2230.83,1467.55 \"/>\n",
       "<path clip-path=\"url(#clip260)\" d=\"M616.765 1514.29 L635.122 1514.29 L635.122 1518.22 L621.048 1518.22 L621.048 1526.7 Q622.066 1526.35 623.085 1526.19 Q624.103 1526 625.122 1526 Q630.909 1526 634.288 1529.17 Q637.668 1532.34 637.668 1537.76 Q637.668 1543.34 634.196 1546.44 Q630.724 1549.52 624.404 1549.52 Q622.228 1549.52 619.96 1549.15 Q617.714 1548.78 615.307 1548.04 L615.307 1543.34 Q617.39 1544.47 619.613 1545.03 Q621.835 1545.58 624.312 1545.58 Q628.316 1545.58 630.654 1543.48 Q632.992 1541.37 632.992 1537.76 Q632.992 1534.15 630.654 1532.04 Q628.316 1529.94 624.312 1529.94 Q622.437 1529.94 620.562 1530.35 Q618.71 1530.77 616.765 1531.65 L616.765 1514.29 Z\" fill=\"#000000\" fill-rule=\"nonzero\" fill-opacity=\"1\" /><path clip-path=\"url(#clip260)\" d=\"M922.043 1544.91 L929.682 1544.91 L929.682 1518.55 L921.372 1520.21 L921.372 1515.95 L929.635 1514.29 L934.311 1514.29 L934.311 1544.91 L941.95 1544.91 L941.95 1548.85 L922.043 1548.85 L922.043 1544.91 Z\" fill=\"#000000\" fill-rule=\"nonzero\" fill-opacity=\"1\" /><path clip-path=\"url(#clip260)\" d=\"M961.395 1517.37 Q957.783 1517.37 955.955 1520.93 Q954.149 1524.47 954.149 1531.6 Q954.149 1538.71 955.955 1542.27 Q957.783 1545.82 961.395 1545.82 Q965.029 1545.82 966.834 1542.27 Q968.663 1538.71 968.663 1531.6 Q968.663 1524.47 966.834 1520.93 Q965.029 1517.37 961.395 1517.37 M961.395 1513.66 Q967.205 1513.66 970.26 1518.27 Q973.339 1522.85 973.339 1531.6 Q973.339 1540.33 970.26 1544.94 Q967.205 1549.52 961.395 1549.52 Q955.584 1549.52 952.506 1544.94 Q949.45 1540.33 949.45 1531.6 Q949.45 1522.85 952.506 1518.27 Q955.584 1513.66 961.395 1513.66 Z\" fill=\"#000000\" fill-rule=\"nonzero\" fill-opacity=\"1\" /><path clip-path=\"url(#clip260)\" d=\"M1243.41 1544.91 L1251.05 1544.91 L1251.05 1518.55 L1242.74 1520.21 L1242.74 1515.95 L1251 1514.29 L1255.68 1514.29 L1255.68 1544.91 L1263.32 1544.91 L1263.32 1548.85 L1243.41 1548.85 L1243.41 1544.91 Z\" fill=\"#000000\" fill-rule=\"nonzero\" fill-opacity=\"1\" /><path clip-path=\"url(#clip260)\" d=\"M1272.81 1514.29 L1291.16 1514.29 L1291.16 1518.22 L1277.09 1518.22 L1277.09 1526.7 Q1278.11 1526.35 1279.13 1526.19 Q1280.14 1526 1281.16 1526 Q1286.95 1526 1290.33 1529.17 Q1293.71 1532.34 1293.71 1537.76 Q1293.71 1543.34 1290.24 1546.44 Q1286.76 1549.52 1280.45 1549.52 Q1278.27 1549.52 1276 1549.15 Q1273.76 1548.78 1271.35 1548.04 L1271.35 1543.34 Q1273.43 1544.47 1275.65 1545.03 Q1277.88 1545.58 1280.35 1545.58 Q1284.36 1545.58 1286.7 1543.48 Q1289.03 1541.37 1289.03 1537.76 Q1289.03 1534.15 1286.7 1532.04 Q1284.36 1529.94 1280.35 1529.94 Q1278.48 1529.94 1276.6 1530.35 Q1274.75 1530.77 1272.81 1531.65 L1272.81 1514.29 Z\" fill=\"#000000\" fill-rule=\"nonzero\" fill-opacity=\"1\" /><path clip-path=\"url(#clip260)\" d=\"M1567.86 1544.91 L1584.18 1544.91 L1584.18 1548.85 L1562.24 1548.85 L1562.24 1544.91 Q1564.9 1542.16 1569.48 1537.53 Q1574.09 1532.88 1575.27 1531.53 Q1577.52 1529.01 1578.4 1527.27 Q1579.3 1525.51 1579.3 1523.82 Q1579.3 1521.07 1577.35 1519.33 Q1575.43 1517.6 1572.33 1517.6 Q1570.13 1517.6 1567.68 1518.36 Q1565.25 1519.13 1562.47 1520.68 L1562.47 1515.95 Q1565.29 1514.82 1567.75 1514.24 Q1570.2 1513.66 1572.24 1513.66 Q1577.61 1513.66 1580.8 1516.35 Q1584 1519.03 1584 1523.52 Q1584 1525.65 1583.19 1527.57 Q1582.4 1529.47 1580.29 1532.07 Q1579.72 1532.74 1576.61 1535.95 Q1573.51 1539.15 1567.86 1544.91 Z\" fill=\"#000000\" fill-rule=\"nonzero\" fill-opacity=\"1\" /><path clip-path=\"url(#clip260)\" d=\"M1604 1517.37 Q1600.39 1517.37 1598.56 1520.93 Q1596.75 1524.47 1596.75 1531.6 Q1596.75 1538.71 1598.56 1542.27 Q1600.39 1545.82 1604 1545.82 Q1607.63 1545.82 1609.44 1542.27 Q1611.27 1538.71 1611.27 1531.6 Q1611.27 1524.47 1609.44 1520.93 Q1607.63 1517.37 1604 1517.37 M1604 1513.66 Q1609.81 1513.66 1612.86 1518.27 Q1615.94 1522.85 1615.94 1531.6 Q1615.94 1540.33 1612.86 1544.94 Q1609.81 1549.52 1604 1549.52 Q1598.19 1549.52 1595.11 1544.94 Q1592.05 1540.33 1592.05 1531.6 Q1592.05 1522.85 1595.11 1518.27 Q1598.19 1513.66 1604 1513.66 Z\" fill=\"#000000\" fill-rule=\"nonzero\" fill-opacity=\"1\" /><path clip-path=\"url(#clip260)\" d=\"M1889.23 1544.91 L1905.55 1544.91 L1905.55 1548.85 L1883.6 1548.85 L1883.6 1544.91 Q1886.27 1542.16 1890.85 1537.53 Q1895.46 1532.88 1896.64 1531.53 Q1898.88 1529.01 1899.76 1527.27 Q1900.66 1525.51 1900.66 1523.82 Q1900.66 1521.07 1898.72 1519.33 Q1896.8 1517.6 1893.7 1517.6 Q1891.5 1517.6 1889.04 1518.36 Q1886.61 1519.13 1883.84 1520.68 L1883.84 1515.95 Q1886.66 1514.82 1889.11 1514.24 Q1891.57 1513.66 1893.6 1513.66 Q1898.97 1513.66 1902.17 1516.35 Q1905.36 1519.03 1905.36 1523.52 Q1905.36 1525.65 1904.55 1527.57 Q1903.77 1529.47 1901.66 1532.07 Q1901.08 1532.74 1897.98 1535.95 Q1894.88 1539.15 1889.23 1544.91 Z\" fill=\"#000000\" fill-rule=\"nonzero\" fill-opacity=\"1\" /><path clip-path=\"url(#clip260)\" d=\"M1915.41 1514.29 L1933.77 1514.29 L1933.77 1518.22 L1919.69 1518.22 L1919.69 1526.7 Q1920.71 1526.35 1921.73 1526.19 Q1922.75 1526 1923.77 1526 Q1929.55 1526 1932.93 1529.17 Q1936.31 1532.34 1936.31 1537.76 Q1936.31 1543.34 1932.84 1546.44 Q1929.37 1549.52 1923.05 1549.52 Q1920.87 1549.52 1918.6 1549.15 Q1916.36 1548.78 1913.95 1548.04 L1913.95 1543.34 Q1916.03 1544.47 1918.26 1545.03 Q1920.48 1545.58 1922.96 1545.58 Q1926.96 1545.58 1929.3 1543.48 Q1931.64 1541.37 1931.64 1537.76 Q1931.64 1534.15 1929.3 1532.04 Q1926.96 1529.94 1922.96 1529.94 Q1921.08 1529.94 1919.21 1530.35 Q1917.35 1530.77 1915.41 1531.65 L1915.41 1514.29 Z\" fill=\"#000000\" fill-rule=\"nonzero\" fill-opacity=\"1\" /><path clip-path=\"url(#clip260)\" d=\"M2219.67 1530.21 Q2223.03 1530.93 2224.9 1533.2 Q2226.8 1535.47 2226.8 1538.8 Q2226.8 1543.92 2223.28 1546.72 Q2219.76 1549.52 2213.28 1549.52 Q2211.1 1549.52 2208.79 1549.08 Q2206.5 1548.66 2204.04 1547.81 L2204.04 1543.29 Q2205.99 1544.43 2208.3 1545.01 Q2210.62 1545.58 2213.14 1545.58 Q2217.54 1545.58 2219.83 1543.85 Q2222.15 1542.11 2222.15 1538.8 Q2222.15 1535.75 2219.99 1534.03 Q2217.86 1532.3 2214.04 1532.3 L2210.02 1532.3 L2210.02 1528.45 L2214.23 1528.45 Q2217.68 1528.45 2219.51 1527.09 Q2221.34 1525.7 2221.34 1523.11 Q2221.34 1520.45 2219.44 1519.03 Q2217.56 1517.6 2214.04 1517.6 Q2212.12 1517.6 2209.92 1518.01 Q2207.72 1518.43 2205.09 1519.31 L2205.09 1515.14 Q2207.75 1514.4 2210.06 1514.03 Q2212.4 1513.66 2214.46 1513.66 Q2219.78 1513.66 2222.89 1516.09 Q2225.99 1518.5 2225.99 1522.62 Q2225.99 1525.49 2224.34 1527.48 Q2222.7 1529.45 2219.67 1530.21 Z\" fill=\"#000000\" fill-rule=\"nonzero\" fill-opacity=\"1\" /><path clip-path=\"url(#clip260)\" d=\"M2245.66 1517.37 Q2242.05 1517.37 2240.22 1520.93 Q2238.42 1524.47 2238.42 1531.6 Q2238.42 1538.71 2240.22 1542.27 Q2242.05 1545.82 2245.66 1545.82 Q2249.3 1545.82 2251.1 1542.27 Q2252.93 1538.71 2252.93 1531.6 Q2252.93 1524.47 2251.1 1520.93 Q2249.3 1517.37 2245.66 1517.37 M2245.66 1513.66 Q2251.47 1513.66 2254.53 1518.27 Q2257.61 1522.85 2257.61 1531.6 Q2257.61 1540.33 2254.53 1544.94 Q2251.47 1549.52 2245.66 1549.52 Q2239.85 1549.52 2236.78 1544.94 Q2233.72 1540.33 2233.72 1531.6 Q2233.72 1522.85 2236.78 1518.27 Q2239.85 1513.66 2245.66 1513.66 Z\" fill=\"#000000\" fill-rule=\"nonzero\" fill-opacity=\"1\" /><polyline clip-path=\"url(#clip260)\" style=\"stroke:#000000; stroke-linecap:round; stroke-linejoin:round; stroke-width:4; stroke-opacity:1; fill:none\" points=\"312.037,1486.45 312.037,47.2441 \"/>\n",
       "<polyline clip-path=\"url(#clip260)\" style=\"stroke:#000000; stroke-linecap:round; stroke-linejoin:round; stroke-width:4; stroke-opacity:1; fill:none\" points=\"312.037,1354.98 330.935,1354.98 \"/>\n",
       "<polyline clip-path=\"url(#clip260)\" style=\"stroke:#000000; stroke-linecap:round; stroke-linejoin:round; stroke-width:4; stroke-opacity:1; fill:none\" points=\"312.037,1101.51 330.935,1101.51 \"/>\n",
       "<polyline clip-path=\"url(#clip260)\" style=\"stroke:#000000; stroke-linecap:round; stroke-linejoin:round; stroke-width:4; stroke-opacity:1; fill:none\" points=\"312.037,848.051 330.935,848.051 \"/>\n",
       "<polyline clip-path=\"url(#clip260)\" style=\"stroke:#000000; stroke-linecap:round; stroke-linejoin:round; stroke-width:4; stroke-opacity:1; fill:none\" points=\"312.037,594.587 330.935,594.587 \"/>\n",
       "<polyline clip-path=\"url(#clip260)\" style=\"stroke:#000000; stroke-linecap:round; stroke-linejoin:round; stroke-width:4; stroke-opacity:1; fill:none\" points=\"312.037,341.124 330.935,341.124 \"/>\n",
       "<polyline clip-path=\"url(#clip260)\" style=\"stroke:#000000; stroke-linecap:round; stroke-linejoin:round; stroke-width:4; stroke-opacity:1; fill:none\" points=\"312.037,87.6601 330.935,87.6601 \"/>\n",
       "<path clip-path=\"url(#clip260)\" d=\"M50.9921 1361.88 L80.6679 1361.88 L80.6679 1365.81 L50.9921 1365.81 L50.9921 1361.88 Z\" fill=\"#000000\" fill-rule=\"nonzero\" fill-opacity=\"1\" /><path clip-path=\"url(#clip260)\" d=\"M90.8067 1344.15 L109.163 1344.15 L109.163 1348.08 L95.0891 1348.08 L95.0891 1356.55 Q96.1076 1356.21 97.1261 1356.04 Q98.1447 1355.86 99.1632 1355.86 Q104.95 1355.86 108.33 1359.03 Q111.709 1362.2 111.709 1367.62 Q111.709 1373.2 108.237 1376.3 Q104.765 1379.38 98.4456 1379.38 Q96.2697 1379.38 94.0012 1379.01 Q91.7558 1378.64 89.3484 1377.9 L89.3484 1373.2 Q91.4317 1374.33 93.6539 1374.89 Q95.8761 1375.44 98.353 1375.44 Q102.358 1375.44 104.696 1373.34 Q107.033 1371.23 107.033 1367.62 Q107.033 1364.01 104.696 1361.9 Q102.358 1359.79 98.353 1359.79 Q96.478 1359.79 94.603 1360.21 Q92.7512 1360.63 90.8067 1361.51 L90.8067 1344.15 Z\" fill=\"#000000\" fill-rule=\"nonzero\" fill-opacity=\"1\" /><path clip-path=\"url(#clip260)\" d=\"M120.922 1372.83 L125.807 1372.83 L125.807 1378.71 L120.922 1378.71 L120.922 1372.83 Z\" fill=\"#000000\" fill-rule=\"nonzero\" fill-opacity=\"1\" /><path clip-path=\"url(#clip260)\" d=\"M145.992 1347.22 Q142.381 1347.22 140.552 1350.79 Q138.746 1354.33 138.746 1361.46 Q138.746 1368.57 140.552 1372.13 Q142.381 1375.67 145.992 1375.67 Q149.626 1375.67 151.431 1372.13 Q153.26 1368.57 153.26 1361.46 Q153.26 1354.33 151.431 1350.79 Q149.626 1347.22 145.992 1347.22 M145.992 1343.52 Q151.802 1343.52 154.857 1348.13 Q157.936 1352.71 157.936 1361.46 Q157.936 1370.19 154.857 1374.79 Q151.802 1379.38 145.992 1379.38 Q140.181 1379.38 137.103 1374.79 Q134.047 1370.19 134.047 1361.46 Q134.047 1352.71 137.103 1348.13 Q140.181 1343.52 145.992 1343.52 Z\" fill=\"#000000\" fill-rule=\"nonzero\" fill-opacity=\"1\" /><path clip-path=\"url(#clip260)\" d=\"M194.325 1353.24 L183.746 1363.87 L194.325 1374.45 L191.57 1377.25 L180.945 1366.62 L170.32 1377.25 L167.589 1374.45 L178.144 1363.87 L167.589 1353.24 L170.32 1350.44 L180.945 1361.07 L191.57 1350.44 L194.325 1353.24 Z\" fill=\"#000000\" fill-rule=\"nonzero\" fill-opacity=\"1\" /><path clip-path=\"url(#clip260)\" d=\"M206.686 1374.77 L214.325 1374.77 L214.325 1348.41 L206.014 1350.07 L206.014 1345.81 L214.278 1344.15 L218.954 1344.15 L218.954 1374.77 L226.593 1374.77 L226.593 1378.71 L206.686 1378.71 L206.686 1374.77 Z\" fill=\"#000000\" fill-rule=\"nonzero\" fill-opacity=\"1\" /><path clip-path=\"url(#clip260)\" d=\"M246.037 1347.22 Q242.426 1347.22 240.598 1350.79 Q238.792 1354.33 238.792 1361.46 Q238.792 1368.57 240.598 1372.13 Q242.426 1375.67 246.037 1375.67 Q249.672 1375.67 251.477 1372.13 Q253.306 1368.57 253.306 1361.46 Q253.306 1354.33 251.477 1350.79 Q249.672 1347.22 246.037 1347.22 M246.037 1343.52 Q251.848 1343.52 254.903 1348.13 Q257.982 1352.71 257.982 1361.46 Q257.982 1370.19 254.903 1374.79 Q251.848 1379.38 246.037 1379.38 Q240.227 1379.38 237.149 1374.79 Q234.093 1370.19 234.093 1361.46 Q234.093 1352.71 237.149 1348.13 Q240.227 1343.52 246.037 1343.52 Z\" fill=\"#000000\" fill-rule=\"nonzero\" fill-opacity=\"1\" /><path clip-path=\"url(#clip260)\" d=\"M257.982 1323.22 L276.037 1323.22 L276.037 1324.83 L265.843 1351.3 L261.875 1351.3 L271.467 1326.41 L257.982 1326.41 L257.982 1323.22 Z\" fill=\"#000000\" fill-rule=\"nonzero\" fill-opacity=\"1\" /><path clip-path=\"url(#clip260)\" d=\"M50.9921 1108.41 L80.6679 1108.41 L80.6679 1112.35 L50.9921 1112.35 L50.9921 1108.41 Z\" fill=\"#000000\" fill-rule=\"nonzero\" fill-opacity=\"1\" /><path clip-path=\"url(#clip260)\" d=\"M103.608 1094.76 L91.8021 1113.21 L103.608 1113.21 L103.608 1094.76 M102.381 1090.68 L108.26 1090.68 L108.26 1113.21 L113.191 1113.21 L113.191 1117.09 L108.26 1117.09 L108.26 1125.24 L103.608 1125.24 L103.608 1117.09 L88.0058 1117.09 L88.0058 1112.58 L102.381 1090.68 Z\" fill=\"#000000\" fill-rule=\"nonzero\" fill-opacity=\"1\" /><path clip-path=\"url(#clip260)\" d=\"M120.922 1119.36 L125.807 1119.36 L125.807 1125.24 L120.922 1125.24 L120.922 1119.36 Z\" fill=\"#000000\" fill-rule=\"nonzero\" fill-opacity=\"1\" /><path clip-path=\"url(#clip260)\" d=\"M145.992 1093.76 Q142.381 1093.76 140.552 1097.33 Q138.746 1100.87 138.746 1108 Q138.746 1115.1 140.552 1118.67 Q142.381 1122.21 145.992 1122.21 Q149.626 1122.21 151.431 1118.67 Q153.26 1115.1 153.26 1108 Q153.26 1100.87 151.431 1097.33 Q149.626 1093.76 145.992 1093.76 M145.992 1090.06 Q151.802 1090.06 154.857 1094.66 Q157.936 1099.25 157.936 1108 Q157.936 1116.72 154.857 1121.33 Q151.802 1125.91 145.992 1125.91 Q140.181 1125.91 137.103 1121.33 Q134.047 1116.72 134.047 1108 Q134.047 1099.25 137.103 1094.66 Q140.181 1090.06 145.992 1090.06 Z\" fill=\"#000000\" fill-rule=\"nonzero\" fill-opacity=\"1\" /><path clip-path=\"url(#clip260)\" d=\"M194.325 1099.78 L183.746 1110.4 L194.325 1120.98 L191.57 1123.78 L180.945 1113.16 L170.32 1123.78 L167.589 1120.98 L178.144 1110.4 L167.589 1099.78 L170.32 1096.98 L180.945 1107.6 L191.57 1096.98 L194.325 1099.78 Z\" fill=\"#000000\" fill-rule=\"nonzero\" fill-opacity=\"1\" /><path clip-path=\"url(#clip260)\" d=\"M206.686 1121.31 L214.325 1121.31 L214.325 1094.94 L206.014 1096.61 L206.014 1092.35 L214.278 1090.68 L218.954 1090.68 L218.954 1121.31 L226.593 1121.31 L226.593 1125.24 L206.686 1125.24 L206.686 1121.31 Z\" fill=\"#000000\" fill-rule=\"nonzero\" fill-opacity=\"1\" /><path clip-path=\"url(#clip260)\" d=\"M246.037 1093.76 Q242.426 1093.76 240.598 1097.33 Q238.792 1100.87 238.792 1108 Q238.792 1115.1 240.598 1118.67 Q242.426 1122.21 246.037 1122.21 Q249.672 1122.21 251.477 1118.67 Q253.306 1115.1 253.306 1108 Q253.306 1100.87 251.477 1097.33 Q249.672 1093.76 246.037 1093.76 M246.037 1090.06 Q251.848 1090.06 254.903 1094.66 Q257.982 1099.25 257.982 1108 Q257.982 1116.72 254.903 1121.33 Q251.848 1125.91 246.037 1125.91 Q240.227 1125.91 237.149 1121.33 Q234.093 1116.72 234.093 1108 Q234.093 1099.25 237.149 1094.66 Q240.227 1090.06 246.037 1090.06 Z\" fill=\"#000000\" fill-rule=\"nonzero\" fill-opacity=\"1\" /><path clip-path=\"url(#clip260)\" d=\"M257.982 1069.75 L276.037 1069.75 L276.037 1071.37 L265.843 1097.83 L261.875 1097.83 L271.467 1072.95 L257.982 1072.95 L257.982 1069.75 Z\" fill=\"#000000\" fill-rule=\"nonzero\" fill-opacity=\"1\" /><path clip-path=\"url(#clip260)\" d=\"M50.9921 854.95 L80.6679 854.95 L80.6679 858.885 L50.9921 858.885 L50.9921 854.95 Z\" fill=\"#000000\" fill-rule=\"nonzero\" fill-opacity=\"1\" /><path clip-path=\"url(#clip260)\" d=\"M104.927 853.145 Q108.283 853.862 110.158 856.131 Q112.057 858.399 112.057 861.732 Q112.057 866.848 108.538 869.649 Q105.02 872.45 98.5382 872.45 Q96.3623 872.45 94.0475 872.01 Q91.7558 871.594 89.3021 870.737 L89.3021 866.223 Q91.2465 867.357 93.5613 867.936 Q95.8761 868.515 98.3993 868.515 Q102.797 868.515 105.089 866.779 Q107.404 865.043 107.404 861.732 Q107.404 858.677 105.251 856.964 Q103.121 855.228 99.3021 855.228 L95.2743 855.228 L95.2743 851.385 L99.4872 851.385 Q102.936 851.385 104.765 850.02 Q106.594 848.631 106.594 846.038 Q106.594 843.376 104.696 841.964 Q102.821 840.529 99.3021 840.529 Q97.3808 840.529 95.1817 840.946 Q92.9826 841.362 90.3438 842.242 L90.3438 838.075 Q93.0058 837.334 95.3206 836.964 Q97.6585 836.594 99.7187 836.594 Q105.043 836.594 108.145 839.024 Q111.246 841.432 111.246 845.552 Q111.246 848.422 109.603 850.413 Q107.959 852.381 104.927 853.145 Z\" fill=\"#000000\" fill-rule=\"nonzero\" fill-opacity=\"1\" /><path clip-path=\"url(#clip260)\" d=\"M120.922 865.899 L125.807 865.899 L125.807 871.779 L120.922 871.779 L120.922 865.899 Z\" fill=\"#000000\" fill-rule=\"nonzero\" fill-opacity=\"1\" /><path clip-path=\"url(#clip260)\" d=\"M145.992 840.297 Q142.381 840.297 140.552 843.862 Q138.746 847.404 138.746 854.533 Q138.746 861.64 140.552 865.205 Q142.381 868.746 145.992 868.746 Q149.626 868.746 151.431 865.205 Q153.26 861.64 153.26 854.533 Q153.26 847.404 151.431 843.862 Q149.626 840.297 145.992 840.297 M145.992 836.594 Q151.802 836.594 154.857 841.2 Q157.936 845.784 157.936 854.533 Q157.936 863.26 154.857 867.867 Q151.802 872.45 145.992 872.45 Q140.181 872.45 137.103 867.867 Q134.047 863.26 134.047 854.533 Q134.047 845.784 137.103 841.2 Q140.181 836.594 145.992 836.594 Z\" fill=\"#000000\" fill-rule=\"nonzero\" fill-opacity=\"1\" /><path clip-path=\"url(#clip260)\" d=\"M194.325 846.316 L183.746 856.941 L194.325 867.52 L191.57 870.32 L180.945 859.695 L170.32 870.32 L167.589 867.52 L178.144 856.941 L167.589 846.316 L170.32 843.515 L180.945 854.14 L191.57 843.515 L194.325 846.316 Z\" fill=\"#000000\" fill-rule=\"nonzero\" fill-opacity=\"1\" /><path clip-path=\"url(#clip260)\" d=\"M206.686 867.844 L214.325 867.844 L214.325 841.478 L206.014 843.145 L206.014 838.885 L214.278 837.219 L218.954 837.219 L218.954 867.844 L226.593 867.844 L226.593 871.779 L206.686 871.779 L206.686 867.844 Z\" fill=\"#000000\" fill-rule=\"nonzero\" fill-opacity=\"1\" /><path clip-path=\"url(#clip260)\" d=\"M246.037 840.297 Q242.426 840.297 240.598 843.862 Q238.792 847.404 238.792 854.533 Q238.792 861.64 240.598 865.205 Q242.426 868.746 246.037 868.746 Q249.672 868.746 251.477 865.205 Q253.306 861.64 253.306 854.533 Q253.306 847.404 251.477 843.862 Q249.672 840.297 246.037 840.297 M246.037 836.594 Q251.848 836.594 254.903 841.2 Q257.982 845.784 257.982 854.533 Q257.982 863.26 254.903 867.867 Q251.848 872.45 246.037 872.45 Q240.227 872.45 237.149 867.867 Q234.093 863.26 234.093 854.533 Q234.093 845.784 237.149 841.2 Q240.227 836.594 246.037 836.594 Z\" fill=\"#000000\" fill-rule=\"nonzero\" fill-opacity=\"1\" /><path clip-path=\"url(#clip260)\" d=\"M257.982 816.288 L276.037 816.288 L276.037 817.906 L265.843 844.368 L261.875 844.368 L271.467 819.486 L257.982 819.486 L257.982 816.288 Z\" fill=\"#000000\" fill-rule=\"nonzero\" fill-opacity=\"1\" /><path clip-path=\"url(#clip260)\" d=\"M50.9921 601.486 L80.6679 601.486 L80.6679 605.422 L50.9921 605.422 L50.9921 601.486 Z\" fill=\"#000000\" fill-rule=\"nonzero\" fill-opacity=\"1\" /><path clip-path=\"url(#clip260)\" d=\"M94.7882 614.38 L111.108 614.38 L111.108 618.315 L89.1632 618.315 L89.1632 614.38 Q91.8252 611.625 96.4085 606.996 Q101.015 602.343 102.196 601 Q104.441 598.477 105.321 596.741 Q106.223 594.982 106.223 593.292 Q106.223 590.537 104.279 588.801 Q102.358 587.065 99.2558 587.065 Q97.0567 587.065 94.603 587.829 Q92.1725 588.593 89.3947 590.144 L89.3947 585.422 Q92.2188 584.287 94.6724 583.709 Q97.1261 583.13 99.1632 583.13 Q104.534 583.13 107.728 585.815 Q110.922 588.5 110.922 592.991 Q110.922 595.121 110.112 597.042 Q109.325 598.94 107.219 601.533 Q106.64 602.204 103.538 605.422 Q100.436 608.616 94.7882 614.38 Z\" fill=\"#000000\" fill-rule=\"nonzero\" fill-opacity=\"1\" /><path clip-path=\"url(#clip260)\" d=\"M120.922 612.435 L125.807 612.435 L125.807 618.315 L120.922 618.315 L120.922 612.435 Z\" fill=\"#000000\" fill-rule=\"nonzero\" fill-opacity=\"1\" /><path clip-path=\"url(#clip260)\" d=\"M145.992 586.834 Q142.381 586.834 140.552 590.399 Q138.746 593.94 138.746 601.07 Q138.746 608.176 140.552 611.741 Q142.381 615.283 145.992 615.283 Q149.626 615.283 151.431 611.741 Q153.26 608.176 153.26 601.07 Q153.26 593.94 151.431 590.399 Q149.626 586.834 145.992 586.834 M145.992 583.13 Q151.802 583.13 154.857 587.737 Q157.936 592.32 157.936 601.07 Q157.936 609.797 154.857 614.403 Q151.802 618.986 145.992 618.986 Q140.181 618.986 137.103 614.403 Q134.047 609.797 134.047 601.07 Q134.047 592.32 137.103 587.737 Q140.181 583.13 145.992 583.13 Z\" fill=\"#000000\" fill-rule=\"nonzero\" fill-opacity=\"1\" /><path clip-path=\"url(#clip260)\" d=\"M194.325 592.852 L183.746 603.477 L194.325 614.056 L191.57 616.857 L180.945 606.232 L170.32 616.857 L167.589 614.056 L178.144 603.477 L167.589 592.852 L170.32 590.051 L180.945 600.676 L191.57 590.051 L194.325 592.852 Z\" fill=\"#000000\" fill-rule=\"nonzero\" fill-opacity=\"1\" /><path clip-path=\"url(#clip260)\" d=\"M206.686 614.38 L214.325 614.38 L214.325 588.014 L206.014 589.681 L206.014 585.422 L214.278 583.755 L218.954 583.755 L218.954 614.38 L226.593 614.38 L226.593 618.315 L206.686 618.315 L206.686 614.38 Z\" fill=\"#000000\" fill-rule=\"nonzero\" fill-opacity=\"1\" /><path clip-path=\"url(#clip260)\" d=\"M246.037 586.834 Q242.426 586.834 240.598 590.399 Q238.792 593.94 238.792 601.07 Q238.792 608.176 240.598 611.741 Q242.426 615.283 246.037 615.283 Q249.672 615.283 251.477 611.741 Q253.306 608.176 253.306 601.07 Q253.306 593.94 251.477 590.399 Q249.672 586.834 246.037 586.834 M246.037 583.13 Q251.848 583.13 254.903 587.737 Q257.982 592.32 257.982 601.07 Q257.982 609.797 254.903 614.403 Q251.848 618.986 246.037 618.986 Q240.227 618.986 237.149 614.403 Q234.093 609.797 234.093 601.07 Q234.093 592.32 237.149 587.737 Q240.227 583.13 246.037 583.13 Z\" fill=\"#000000\" fill-rule=\"nonzero\" fill-opacity=\"1\" /><path clip-path=\"url(#clip260)\" d=\"M257.982 562.825 L276.037 562.825 L276.037 564.442 L265.843 590.905 L261.875 590.905 L271.467 566.022 L257.982 566.022 L257.982 562.825 Z\" fill=\"#000000\" fill-rule=\"nonzero\" fill-opacity=\"1\" /><path clip-path=\"url(#clip260)\" d=\"M50.9921 348.023 L80.6679 348.023 L80.6679 351.958 L50.9921 351.958 L50.9921 348.023 Z\" fill=\"#000000\" fill-rule=\"nonzero\" fill-opacity=\"1\" /><path clip-path=\"url(#clip260)\" d=\"M91.5706 360.916 L99.2095 360.916 L99.2095 334.551 L90.8993 336.217 L90.8993 331.958 L99.1632 330.291 L103.839 330.291 L103.839 360.916 L111.478 360.916 L111.478 364.851 L91.5706 364.851 L91.5706 360.916 Z\" fill=\"#000000\" fill-rule=\"nonzero\" fill-opacity=\"1\" /><path clip-path=\"url(#clip260)\" d=\"M120.922 358.972 L125.807 358.972 L125.807 364.851 L120.922 364.851 L120.922 358.972 Z\" fill=\"#000000\" fill-rule=\"nonzero\" fill-opacity=\"1\" /><path clip-path=\"url(#clip260)\" d=\"M145.992 333.37 Q142.381 333.37 140.552 336.935 Q138.746 340.477 138.746 347.606 Q138.746 354.713 140.552 358.277 Q142.381 361.819 145.992 361.819 Q149.626 361.819 151.431 358.277 Q153.26 354.713 153.26 347.606 Q153.26 340.477 151.431 336.935 Q149.626 333.37 145.992 333.37 M145.992 329.666 Q151.802 329.666 154.857 334.273 Q157.936 338.856 157.936 347.606 Q157.936 356.333 154.857 360.939 Q151.802 365.523 145.992 365.523 Q140.181 365.523 137.103 360.939 Q134.047 356.333 134.047 347.606 Q134.047 338.856 137.103 334.273 Q140.181 329.666 145.992 329.666 Z\" fill=\"#000000\" fill-rule=\"nonzero\" fill-opacity=\"1\" /><path clip-path=\"url(#clip260)\" d=\"M194.325 339.389 L183.746 350.014 L194.325 360.592 L191.57 363.393 L180.945 352.768 L170.32 363.393 L167.589 360.592 L178.144 350.014 L167.589 339.389 L170.32 336.588 L180.945 347.213 L191.57 336.588 L194.325 339.389 Z\" fill=\"#000000\" fill-rule=\"nonzero\" fill-opacity=\"1\" /><path clip-path=\"url(#clip260)\" d=\"M206.686 360.916 L214.325 360.916 L214.325 334.551 L206.014 336.217 L206.014 331.958 L214.278 330.291 L218.954 330.291 L218.954 360.916 L226.593 360.916 L226.593 364.851 L206.686 364.851 L206.686 360.916 Z\" fill=\"#000000\" fill-rule=\"nonzero\" fill-opacity=\"1\" /><path clip-path=\"url(#clip260)\" d=\"M246.037 333.37 Q242.426 333.37 240.598 336.935 Q238.792 340.477 238.792 347.606 Q238.792 354.713 240.598 358.277 Q242.426 361.819 246.037 361.819 Q249.672 361.819 251.477 358.277 Q253.306 354.713 253.306 347.606 Q253.306 340.477 251.477 336.935 Q249.672 333.37 246.037 333.37 M246.037 329.666 Q251.848 329.666 254.903 334.273 Q257.982 338.856 257.982 347.606 Q257.982 356.333 254.903 360.939 Q251.848 365.523 246.037 365.523 Q240.227 365.523 237.149 360.939 Q234.093 356.333 234.093 347.606 Q234.093 338.856 237.149 334.273 Q240.227 329.666 246.037 329.666 Z\" fill=\"#000000\" fill-rule=\"nonzero\" fill-opacity=\"1\" /><path clip-path=\"url(#clip260)\" d=\"M257.982 309.361 L276.037 309.361 L276.037 310.978 L265.843 337.441 L261.875 337.441 L271.467 312.558 L257.982 312.558 L257.982 309.361 Z\" fill=\"#000000\" fill-rule=\"nonzero\" fill-opacity=\"1\" /><path clip-path=\"url(#clip260)\" d=\"M264.093 73.4588 Q260.482 73.4588 258.653 77.0236 Q256.848 80.5652 256.848 87.6948 Q256.848 94.8013 258.653 98.3661 Q260.482 101.908 264.093 101.908 Q267.727 101.908 269.533 98.3661 Q271.361 94.8013 271.361 87.6948 Q271.361 80.5652 269.533 77.0236 Q267.727 73.4588 264.093 73.4588 M264.093 69.7551 Q269.903 69.7551 272.959 74.3616 Q276.037 78.9449 276.037 87.6948 Q276.037 96.4216 272.959 101.028 Q269.903 105.611 264.093 105.611 Q258.283 105.611 255.204 101.028 Q252.148 96.4216 252.148 87.6948 Q252.148 78.9449 255.204 74.3616 Q258.283 69.7551 264.093 69.7551 Z\" fill=\"#000000\" fill-rule=\"nonzero\" fill-opacity=\"1\" /><polyline clip-path=\"url(#clip262)\" style=\"stroke:#009af9; stroke-linecap:round; stroke-linejoin:round; stroke-width:4; stroke-opacity:1; fill:none\" points=\"433.967,1445.72 498.14,1250.26 562.314,496.308 626.488,172.479 690.661,106.308 754.835,89.4134 819.008,87.9763 883.182,87.9763 947.355,87.9763 1011.53,87.9763 1075.7,87.9763 1139.88,87.9763 1204.05,87.9763 1268.22,87.9763 1332.4,87.9763 1396.57,87.9763 1460.74,87.9763 1524.92,87.9763 1589.09,87.9763 1653.26,87.9763 1717.44,87.9763 1781.61,87.9763 1845.78,87.9763 1909.96,87.9763 1974.13,87.9763 2038.31,87.9763 2102.48,87.9763 2166.65,87.9763 2230.83,87.9763 2295,87.9763 \"/>\n",
       "<path clip-path=\"url(#clip260)\" d=\"M2028.23 1438.47 L2284.73 1438.47 L2284.73 1334.79 L2028.23 1334.79  Z\" fill=\"#ffffff\" fill-rule=\"evenodd\" fill-opacity=\"1\"/>\n",
       "<polyline clip-path=\"url(#clip260)\" style=\"stroke:#000000; stroke-linecap:round; stroke-linejoin:round; stroke-width:4; stroke-opacity:1; fill:none\" points=\"2028.23,1438.47 2284.73,1438.47 2284.73,1334.79 2028.23,1334.79 2028.23,1438.47 \"/>\n",
       "<polyline clip-path=\"url(#clip260)\" style=\"stroke:#009af9; stroke-linecap:round; stroke-linejoin:round; stroke-width:4; stroke-opacity:1; fill:none\" points=\"2050.9,1386.63 2186.95,1386.63 \"/>\n",
       "<path clip-path=\"url(#clip260)\" d=\"M2223.47 1406.32 Q2221.66 1410.95 2219.95 1412.36 Q2218.24 1413.78 2215.37 1413.78 L2211.96 1413.78 L2211.96 1410.21 L2214.46 1410.21 Q2216.22 1410.21 2217.2 1409.38 Q2218.17 1408.54 2219.35 1405.44 L2220.11 1403.5 L2209.63 1377.99 L2214.14 1377.99 L2222.24 1398.27 L2230.34 1377.99 L2234.86 1377.99 L2223.47 1406.32 Z\" fill=\"#000000\" fill-rule=\"nonzero\" fill-opacity=\"1\" /><path clip-path=\"url(#clip260)\" d=\"M2242.15 1399.98 L2249.79 1399.98 L2249.79 1373.61 L2241.48 1375.28 L2241.48 1371.02 L2249.74 1369.35 L2254.42 1369.35 L2254.42 1399.98 L2262.06 1399.98 L2262.06 1403.91 L2242.15 1403.91 L2242.15 1399.98 Z\" fill=\"#000000\" fill-rule=\"nonzero\" fill-opacity=\"1\" /></svg>\n"
      ],
      "text/html": [
       "<?xml version=\"1.0\" encoding=\"utf-8\"?>\n",
       "<svg xmlns=\"http://www.w3.org/2000/svg\" xmlns:xlink=\"http://www.w3.org/1999/xlink\" width=\"600\" height=\"400\" viewBox=\"0 0 2400 1600\">\n",
       "<defs>\n",
       "  <clipPath id=\"clip310\">\n",
       "    <rect x=\"0\" y=\"0\" width=\"2400\" height=\"1600\"/>\n",
       "  </clipPath>\n",
       "</defs>\n",
       "<path clip-path=\"url(#clip310)\" d=\"M0 1600 L2400 1600 L2400 0 L0 0  Z\" fill=\"#ffffff\" fill-rule=\"evenodd\" fill-opacity=\"1\"/>\n",
       "<defs>\n",
       "  <clipPath id=\"clip311\">\n",
       "    <rect x=\"480\" y=\"0\" width=\"1681\" height=\"1600\"/>\n",
       "  </clipPath>\n",
       "</defs>\n",
       "<path clip-path=\"url(#clip310)\" d=\"M312.037 1486.45 L2352.76 1486.45 L2352.76 47.2441 L312.037 47.2441  Z\" fill=\"#ffffff\" fill-rule=\"evenodd\" fill-opacity=\"1\"/>\n",
       "<defs>\n",
       "  <clipPath id=\"clip312\">\n",
       "    <rect x=\"312\" y=\"47\" width=\"2042\" height=\"1440\"/>\n",
       "  </clipPath>\n",
       "</defs>\n",
       "<polyline clip-path=\"url(#clip312)\" style=\"stroke:#000000; stroke-linecap:round; stroke-linejoin:round; stroke-width:2; stroke-opacity:0.1; fill:none\" points=\"626.488,1486.45 626.488,47.2441 \"/>\n",
       "<polyline clip-path=\"url(#clip312)\" style=\"stroke:#000000; stroke-linecap:round; stroke-linejoin:round; stroke-width:2; stroke-opacity:0.1; fill:none\" points=\"947.355,1486.45 947.355,47.2441 \"/>\n",
       "<polyline clip-path=\"url(#clip312)\" style=\"stroke:#000000; stroke-linecap:round; stroke-linejoin:round; stroke-width:2; stroke-opacity:0.1; fill:none\" points=\"1268.22,1486.45 1268.22,47.2441 \"/>\n",
       "<polyline clip-path=\"url(#clip312)\" style=\"stroke:#000000; stroke-linecap:round; stroke-linejoin:round; stroke-width:2; stroke-opacity:0.1; fill:none\" points=\"1589.09,1486.45 1589.09,47.2441 \"/>\n",
       "<polyline clip-path=\"url(#clip312)\" style=\"stroke:#000000; stroke-linecap:round; stroke-linejoin:round; stroke-width:2; stroke-opacity:0.1; fill:none\" points=\"1909.96,1486.45 1909.96,47.2441 \"/>\n",
       "<polyline clip-path=\"url(#clip312)\" style=\"stroke:#000000; stroke-linecap:round; stroke-linejoin:round; stroke-width:2; stroke-opacity:0.1; fill:none\" points=\"2230.83,1486.45 2230.83,47.2441 \"/>\n",
       "<polyline clip-path=\"url(#clip312)\" style=\"stroke:#000000; stroke-linecap:round; stroke-linejoin:round; stroke-width:2; stroke-opacity:0.1; fill:none\" points=\"312.037,1354.98 2352.76,1354.98 \"/>\n",
       "<polyline clip-path=\"url(#clip312)\" style=\"stroke:#000000; stroke-linecap:round; stroke-linejoin:round; stroke-width:2; stroke-opacity:0.1; fill:none\" points=\"312.037,1101.51 2352.76,1101.51 \"/>\n",
       "<polyline clip-path=\"url(#clip312)\" style=\"stroke:#000000; stroke-linecap:round; stroke-linejoin:round; stroke-width:2; stroke-opacity:0.1; fill:none\" points=\"312.037,848.051 2352.76,848.051 \"/>\n",
       "<polyline clip-path=\"url(#clip312)\" style=\"stroke:#000000; stroke-linecap:round; stroke-linejoin:round; stroke-width:2; stroke-opacity:0.1; fill:none\" points=\"312.037,594.587 2352.76,594.587 \"/>\n",
       "<polyline clip-path=\"url(#clip312)\" style=\"stroke:#000000; stroke-linecap:round; stroke-linejoin:round; stroke-width:2; stroke-opacity:0.1; fill:none\" points=\"312.037,341.124 2352.76,341.124 \"/>\n",
       "<polyline clip-path=\"url(#clip312)\" style=\"stroke:#000000; stroke-linecap:round; stroke-linejoin:round; stroke-width:2; stroke-opacity:0.1; fill:none\" points=\"312.037,87.6601 2352.76,87.6601 \"/>\n",
       "<polyline clip-path=\"url(#clip310)\" style=\"stroke:#000000; stroke-linecap:round; stroke-linejoin:round; stroke-width:4; stroke-opacity:1; fill:none\" points=\"312.037,1486.45 2352.76,1486.45 \"/>\n",
       "<polyline clip-path=\"url(#clip310)\" style=\"stroke:#000000; stroke-linecap:round; stroke-linejoin:round; stroke-width:4; stroke-opacity:1; fill:none\" points=\"626.488,1486.45 626.488,1467.55 \"/>\n",
       "<polyline clip-path=\"url(#clip310)\" style=\"stroke:#000000; stroke-linecap:round; stroke-linejoin:round; stroke-width:4; stroke-opacity:1; fill:none\" points=\"947.355,1486.45 947.355,1467.55 \"/>\n",
       "<polyline clip-path=\"url(#clip310)\" style=\"stroke:#000000; stroke-linecap:round; stroke-linejoin:round; stroke-width:4; stroke-opacity:1; fill:none\" points=\"1268.22,1486.45 1268.22,1467.55 \"/>\n",
       "<polyline clip-path=\"url(#clip310)\" style=\"stroke:#000000; stroke-linecap:round; stroke-linejoin:round; stroke-width:4; stroke-opacity:1; fill:none\" points=\"1589.09,1486.45 1589.09,1467.55 \"/>\n",
       "<polyline clip-path=\"url(#clip310)\" style=\"stroke:#000000; stroke-linecap:round; stroke-linejoin:round; stroke-width:4; stroke-opacity:1; fill:none\" points=\"1909.96,1486.45 1909.96,1467.55 \"/>\n",
       "<polyline clip-path=\"url(#clip310)\" style=\"stroke:#000000; stroke-linecap:round; stroke-linejoin:round; stroke-width:4; stroke-opacity:1; fill:none\" points=\"2230.83,1486.45 2230.83,1467.55 \"/>\n",
       "<path clip-path=\"url(#clip310)\" d=\"M616.765 1514.29 L635.122 1514.29 L635.122 1518.22 L621.048 1518.22 L621.048 1526.7 Q622.066 1526.35 623.085 1526.19 Q624.103 1526 625.122 1526 Q630.909 1526 634.288 1529.17 Q637.668 1532.34 637.668 1537.76 Q637.668 1543.34 634.196 1546.44 Q630.724 1549.52 624.404 1549.52 Q622.228 1549.52 619.96 1549.15 Q617.714 1548.78 615.307 1548.04 L615.307 1543.34 Q617.39 1544.47 619.613 1545.03 Q621.835 1545.58 624.312 1545.58 Q628.316 1545.58 630.654 1543.48 Q632.992 1541.37 632.992 1537.76 Q632.992 1534.15 630.654 1532.04 Q628.316 1529.94 624.312 1529.94 Q622.437 1529.94 620.562 1530.35 Q618.71 1530.77 616.765 1531.65 L616.765 1514.29 Z\" fill=\"#000000\" fill-rule=\"nonzero\" fill-opacity=\"1\" /><path clip-path=\"url(#clip310)\" d=\"M922.043 1544.91 L929.682 1544.91 L929.682 1518.55 L921.372 1520.21 L921.372 1515.95 L929.635 1514.29 L934.311 1514.29 L934.311 1544.91 L941.95 1544.91 L941.95 1548.85 L922.043 1548.85 L922.043 1544.91 Z\" fill=\"#000000\" fill-rule=\"nonzero\" fill-opacity=\"1\" /><path clip-path=\"url(#clip310)\" d=\"M961.395 1517.37 Q957.783 1517.37 955.955 1520.93 Q954.149 1524.47 954.149 1531.6 Q954.149 1538.71 955.955 1542.27 Q957.783 1545.82 961.395 1545.82 Q965.029 1545.82 966.834 1542.27 Q968.663 1538.71 968.663 1531.6 Q968.663 1524.47 966.834 1520.93 Q965.029 1517.37 961.395 1517.37 M961.395 1513.66 Q967.205 1513.66 970.26 1518.27 Q973.339 1522.85 973.339 1531.6 Q973.339 1540.33 970.26 1544.94 Q967.205 1549.52 961.395 1549.52 Q955.584 1549.52 952.506 1544.94 Q949.45 1540.33 949.45 1531.6 Q949.45 1522.85 952.506 1518.27 Q955.584 1513.66 961.395 1513.66 Z\" fill=\"#000000\" fill-rule=\"nonzero\" fill-opacity=\"1\" /><path clip-path=\"url(#clip310)\" d=\"M1243.41 1544.91 L1251.05 1544.91 L1251.05 1518.55 L1242.74 1520.21 L1242.74 1515.95 L1251 1514.29 L1255.68 1514.29 L1255.68 1544.91 L1263.32 1544.91 L1263.32 1548.85 L1243.41 1548.85 L1243.41 1544.91 Z\" fill=\"#000000\" fill-rule=\"nonzero\" fill-opacity=\"1\" /><path clip-path=\"url(#clip310)\" d=\"M1272.81 1514.29 L1291.16 1514.29 L1291.16 1518.22 L1277.09 1518.22 L1277.09 1526.7 Q1278.11 1526.35 1279.13 1526.19 Q1280.14 1526 1281.16 1526 Q1286.95 1526 1290.33 1529.17 Q1293.71 1532.34 1293.71 1537.76 Q1293.71 1543.34 1290.24 1546.44 Q1286.76 1549.52 1280.45 1549.52 Q1278.27 1549.52 1276 1549.15 Q1273.76 1548.78 1271.35 1548.04 L1271.35 1543.34 Q1273.43 1544.47 1275.65 1545.03 Q1277.88 1545.58 1280.35 1545.58 Q1284.36 1545.58 1286.7 1543.48 Q1289.03 1541.37 1289.03 1537.76 Q1289.03 1534.15 1286.7 1532.04 Q1284.36 1529.94 1280.35 1529.94 Q1278.48 1529.94 1276.6 1530.35 Q1274.75 1530.77 1272.81 1531.65 L1272.81 1514.29 Z\" fill=\"#000000\" fill-rule=\"nonzero\" fill-opacity=\"1\" /><path clip-path=\"url(#clip310)\" d=\"M1567.86 1544.91 L1584.18 1544.91 L1584.18 1548.85 L1562.24 1548.85 L1562.24 1544.91 Q1564.9 1542.16 1569.48 1537.53 Q1574.09 1532.88 1575.27 1531.53 Q1577.52 1529.01 1578.4 1527.27 Q1579.3 1525.51 1579.3 1523.82 Q1579.3 1521.07 1577.35 1519.33 Q1575.43 1517.6 1572.33 1517.6 Q1570.13 1517.6 1567.68 1518.36 Q1565.25 1519.13 1562.47 1520.68 L1562.47 1515.95 Q1565.29 1514.82 1567.75 1514.24 Q1570.2 1513.66 1572.24 1513.66 Q1577.61 1513.66 1580.8 1516.35 Q1584 1519.03 1584 1523.52 Q1584 1525.65 1583.19 1527.57 Q1582.4 1529.47 1580.29 1532.07 Q1579.72 1532.74 1576.61 1535.95 Q1573.51 1539.15 1567.86 1544.91 Z\" fill=\"#000000\" fill-rule=\"nonzero\" fill-opacity=\"1\" /><path clip-path=\"url(#clip310)\" d=\"M1604 1517.37 Q1600.39 1517.37 1598.56 1520.93 Q1596.75 1524.47 1596.75 1531.6 Q1596.75 1538.71 1598.56 1542.27 Q1600.39 1545.82 1604 1545.82 Q1607.63 1545.82 1609.44 1542.27 Q1611.27 1538.71 1611.27 1531.6 Q1611.27 1524.47 1609.44 1520.93 Q1607.63 1517.37 1604 1517.37 M1604 1513.66 Q1609.81 1513.66 1612.86 1518.27 Q1615.94 1522.85 1615.94 1531.6 Q1615.94 1540.33 1612.86 1544.94 Q1609.81 1549.52 1604 1549.52 Q1598.19 1549.52 1595.11 1544.94 Q1592.05 1540.33 1592.05 1531.6 Q1592.05 1522.85 1595.11 1518.27 Q1598.19 1513.66 1604 1513.66 Z\" fill=\"#000000\" fill-rule=\"nonzero\" fill-opacity=\"1\" /><path clip-path=\"url(#clip310)\" d=\"M1889.23 1544.91 L1905.55 1544.91 L1905.55 1548.85 L1883.6 1548.85 L1883.6 1544.91 Q1886.27 1542.16 1890.85 1537.53 Q1895.46 1532.88 1896.64 1531.53 Q1898.88 1529.01 1899.76 1527.27 Q1900.66 1525.51 1900.66 1523.82 Q1900.66 1521.07 1898.72 1519.33 Q1896.8 1517.6 1893.7 1517.6 Q1891.5 1517.6 1889.04 1518.36 Q1886.61 1519.13 1883.84 1520.68 L1883.84 1515.95 Q1886.66 1514.82 1889.11 1514.24 Q1891.57 1513.66 1893.6 1513.66 Q1898.97 1513.66 1902.17 1516.35 Q1905.36 1519.03 1905.36 1523.52 Q1905.36 1525.65 1904.55 1527.57 Q1903.77 1529.47 1901.66 1532.07 Q1901.08 1532.74 1897.98 1535.95 Q1894.88 1539.15 1889.23 1544.91 Z\" fill=\"#000000\" fill-rule=\"nonzero\" fill-opacity=\"1\" /><path clip-path=\"url(#clip310)\" d=\"M1915.41 1514.29 L1933.77 1514.29 L1933.77 1518.22 L1919.69 1518.22 L1919.69 1526.7 Q1920.71 1526.35 1921.73 1526.19 Q1922.75 1526 1923.77 1526 Q1929.55 1526 1932.93 1529.17 Q1936.31 1532.34 1936.31 1537.76 Q1936.31 1543.34 1932.84 1546.44 Q1929.37 1549.52 1923.05 1549.52 Q1920.87 1549.52 1918.6 1549.15 Q1916.36 1548.78 1913.95 1548.04 L1913.95 1543.34 Q1916.03 1544.47 1918.26 1545.03 Q1920.48 1545.58 1922.96 1545.58 Q1926.96 1545.58 1929.3 1543.48 Q1931.64 1541.37 1931.64 1537.76 Q1931.64 1534.15 1929.3 1532.04 Q1926.96 1529.94 1922.96 1529.94 Q1921.08 1529.94 1919.21 1530.35 Q1917.35 1530.77 1915.41 1531.65 L1915.41 1514.29 Z\" fill=\"#000000\" fill-rule=\"nonzero\" fill-opacity=\"1\" /><path clip-path=\"url(#clip310)\" d=\"M2219.67 1530.21 Q2223.03 1530.93 2224.9 1533.2 Q2226.8 1535.47 2226.8 1538.8 Q2226.8 1543.92 2223.28 1546.72 Q2219.76 1549.52 2213.28 1549.52 Q2211.1 1549.52 2208.79 1549.08 Q2206.5 1548.66 2204.04 1547.81 L2204.04 1543.29 Q2205.99 1544.43 2208.3 1545.01 Q2210.62 1545.58 2213.14 1545.58 Q2217.54 1545.58 2219.83 1543.85 Q2222.15 1542.11 2222.15 1538.8 Q2222.15 1535.75 2219.99 1534.03 Q2217.86 1532.3 2214.04 1532.3 L2210.02 1532.3 L2210.02 1528.45 L2214.23 1528.45 Q2217.68 1528.45 2219.51 1527.09 Q2221.34 1525.7 2221.34 1523.11 Q2221.34 1520.45 2219.44 1519.03 Q2217.56 1517.6 2214.04 1517.6 Q2212.12 1517.6 2209.92 1518.01 Q2207.72 1518.43 2205.09 1519.31 L2205.09 1515.14 Q2207.75 1514.4 2210.06 1514.03 Q2212.4 1513.66 2214.46 1513.66 Q2219.78 1513.66 2222.89 1516.09 Q2225.99 1518.5 2225.99 1522.62 Q2225.99 1525.49 2224.34 1527.48 Q2222.7 1529.45 2219.67 1530.21 Z\" fill=\"#000000\" fill-rule=\"nonzero\" fill-opacity=\"1\" /><path clip-path=\"url(#clip310)\" d=\"M2245.66 1517.37 Q2242.05 1517.37 2240.22 1520.93 Q2238.42 1524.47 2238.42 1531.6 Q2238.42 1538.71 2240.22 1542.27 Q2242.05 1545.82 2245.66 1545.82 Q2249.3 1545.82 2251.1 1542.27 Q2252.93 1538.71 2252.93 1531.6 Q2252.93 1524.47 2251.1 1520.93 Q2249.3 1517.37 2245.66 1517.37 M2245.66 1513.66 Q2251.47 1513.66 2254.53 1518.27 Q2257.61 1522.85 2257.61 1531.6 Q2257.61 1540.33 2254.53 1544.94 Q2251.47 1549.52 2245.66 1549.52 Q2239.85 1549.52 2236.78 1544.94 Q2233.72 1540.33 2233.72 1531.6 Q2233.72 1522.85 2236.78 1518.27 Q2239.85 1513.66 2245.66 1513.66 Z\" fill=\"#000000\" fill-rule=\"nonzero\" fill-opacity=\"1\" /><polyline clip-path=\"url(#clip310)\" style=\"stroke:#000000; stroke-linecap:round; stroke-linejoin:round; stroke-width:4; stroke-opacity:1; fill:none\" points=\"312.037,1486.45 312.037,47.2441 \"/>\n",
       "<polyline clip-path=\"url(#clip310)\" style=\"stroke:#000000; stroke-linecap:round; stroke-linejoin:round; stroke-width:4; stroke-opacity:1; fill:none\" points=\"312.037,1354.98 330.935,1354.98 \"/>\n",
       "<polyline clip-path=\"url(#clip310)\" style=\"stroke:#000000; stroke-linecap:round; stroke-linejoin:round; stroke-width:4; stroke-opacity:1; fill:none\" points=\"312.037,1101.51 330.935,1101.51 \"/>\n",
       "<polyline clip-path=\"url(#clip310)\" style=\"stroke:#000000; stroke-linecap:round; stroke-linejoin:round; stroke-width:4; stroke-opacity:1; fill:none\" points=\"312.037,848.051 330.935,848.051 \"/>\n",
       "<polyline clip-path=\"url(#clip310)\" style=\"stroke:#000000; stroke-linecap:round; stroke-linejoin:round; stroke-width:4; stroke-opacity:1; fill:none\" points=\"312.037,594.587 330.935,594.587 \"/>\n",
       "<polyline clip-path=\"url(#clip310)\" style=\"stroke:#000000; stroke-linecap:round; stroke-linejoin:round; stroke-width:4; stroke-opacity:1; fill:none\" points=\"312.037,341.124 330.935,341.124 \"/>\n",
       "<polyline clip-path=\"url(#clip310)\" style=\"stroke:#000000; stroke-linecap:round; stroke-linejoin:round; stroke-width:4; stroke-opacity:1; fill:none\" points=\"312.037,87.6601 330.935,87.6601 \"/>\n",
       "<path clip-path=\"url(#clip310)\" d=\"M50.9921 1361.88 L80.6679 1361.88 L80.6679 1365.81 L50.9921 1365.81 L50.9921 1361.88 Z\" fill=\"#000000\" fill-rule=\"nonzero\" fill-opacity=\"1\" /><path clip-path=\"url(#clip310)\" d=\"M90.8067 1344.15 L109.163 1344.15 L109.163 1348.08 L95.0891 1348.08 L95.0891 1356.55 Q96.1076 1356.21 97.1261 1356.04 Q98.1447 1355.86 99.1632 1355.86 Q104.95 1355.86 108.33 1359.03 Q111.709 1362.2 111.709 1367.62 Q111.709 1373.2 108.237 1376.3 Q104.765 1379.38 98.4456 1379.38 Q96.2697 1379.38 94.0012 1379.01 Q91.7558 1378.64 89.3484 1377.9 L89.3484 1373.2 Q91.4317 1374.33 93.6539 1374.89 Q95.8761 1375.44 98.353 1375.44 Q102.358 1375.44 104.696 1373.34 Q107.033 1371.23 107.033 1367.62 Q107.033 1364.01 104.696 1361.9 Q102.358 1359.79 98.353 1359.79 Q96.478 1359.79 94.603 1360.21 Q92.7512 1360.63 90.8067 1361.51 L90.8067 1344.15 Z\" fill=\"#000000\" fill-rule=\"nonzero\" fill-opacity=\"1\" /><path clip-path=\"url(#clip310)\" d=\"M120.922 1372.83 L125.807 1372.83 L125.807 1378.71 L120.922 1378.71 L120.922 1372.83 Z\" fill=\"#000000\" fill-rule=\"nonzero\" fill-opacity=\"1\" /><path clip-path=\"url(#clip310)\" d=\"M145.992 1347.22 Q142.381 1347.22 140.552 1350.79 Q138.746 1354.33 138.746 1361.46 Q138.746 1368.57 140.552 1372.13 Q142.381 1375.67 145.992 1375.67 Q149.626 1375.67 151.431 1372.13 Q153.26 1368.57 153.26 1361.46 Q153.26 1354.33 151.431 1350.79 Q149.626 1347.22 145.992 1347.22 M145.992 1343.52 Q151.802 1343.52 154.857 1348.13 Q157.936 1352.71 157.936 1361.46 Q157.936 1370.19 154.857 1374.79 Q151.802 1379.38 145.992 1379.38 Q140.181 1379.38 137.103 1374.79 Q134.047 1370.19 134.047 1361.46 Q134.047 1352.71 137.103 1348.13 Q140.181 1343.52 145.992 1343.52 Z\" fill=\"#000000\" fill-rule=\"nonzero\" fill-opacity=\"1\" /><path clip-path=\"url(#clip310)\" d=\"M194.325 1353.24 L183.746 1363.87 L194.325 1374.45 L191.57 1377.25 L180.945 1366.62 L170.32 1377.25 L167.589 1374.45 L178.144 1363.87 L167.589 1353.24 L170.32 1350.44 L180.945 1361.07 L191.57 1350.44 L194.325 1353.24 Z\" fill=\"#000000\" fill-rule=\"nonzero\" fill-opacity=\"1\" /><path clip-path=\"url(#clip310)\" d=\"M206.686 1374.77 L214.325 1374.77 L214.325 1348.41 L206.014 1350.07 L206.014 1345.81 L214.278 1344.15 L218.954 1344.15 L218.954 1374.77 L226.593 1374.77 L226.593 1378.71 L206.686 1378.71 L206.686 1374.77 Z\" fill=\"#000000\" fill-rule=\"nonzero\" fill-opacity=\"1\" /><path clip-path=\"url(#clip310)\" d=\"M246.037 1347.22 Q242.426 1347.22 240.598 1350.79 Q238.792 1354.33 238.792 1361.46 Q238.792 1368.57 240.598 1372.13 Q242.426 1375.67 246.037 1375.67 Q249.672 1375.67 251.477 1372.13 Q253.306 1368.57 253.306 1361.46 Q253.306 1354.33 251.477 1350.79 Q249.672 1347.22 246.037 1347.22 M246.037 1343.52 Q251.848 1343.52 254.903 1348.13 Q257.982 1352.71 257.982 1361.46 Q257.982 1370.19 254.903 1374.79 Q251.848 1379.38 246.037 1379.38 Q240.227 1379.38 237.149 1374.79 Q234.093 1370.19 234.093 1361.46 Q234.093 1352.71 237.149 1348.13 Q240.227 1343.52 246.037 1343.52 Z\" fill=\"#000000\" fill-rule=\"nonzero\" fill-opacity=\"1\" /><path clip-path=\"url(#clip310)\" d=\"M257.982 1323.22 L276.037 1323.22 L276.037 1324.83 L265.843 1351.3 L261.875 1351.3 L271.467 1326.41 L257.982 1326.41 L257.982 1323.22 Z\" fill=\"#000000\" fill-rule=\"nonzero\" fill-opacity=\"1\" /><path clip-path=\"url(#clip310)\" d=\"M50.9921 1108.41 L80.6679 1108.41 L80.6679 1112.35 L50.9921 1112.35 L50.9921 1108.41 Z\" fill=\"#000000\" fill-rule=\"nonzero\" fill-opacity=\"1\" /><path clip-path=\"url(#clip310)\" d=\"M103.608 1094.76 L91.8021 1113.21 L103.608 1113.21 L103.608 1094.76 M102.381 1090.68 L108.26 1090.68 L108.26 1113.21 L113.191 1113.21 L113.191 1117.09 L108.26 1117.09 L108.26 1125.24 L103.608 1125.24 L103.608 1117.09 L88.0058 1117.09 L88.0058 1112.58 L102.381 1090.68 Z\" fill=\"#000000\" fill-rule=\"nonzero\" fill-opacity=\"1\" /><path clip-path=\"url(#clip310)\" d=\"M120.922 1119.36 L125.807 1119.36 L125.807 1125.24 L120.922 1125.24 L120.922 1119.36 Z\" fill=\"#000000\" fill-rule=\"nonzero\" fill-opacity=\"1\" /><path clip-path=\"url(#clip310)\" d=\"M145.992 1093.76 Q142.381 1093.76 140.552 1097.33 Q138.746 1100.87 138.746 1108 Q138.746 1115.1 140.552 1118.67 Q142.381 1122.21 145.992 1122.21 Q149.626 1122.21 151.431 1118.67 Q153.26 1115.1 153.26 1108 Q153.26 1100.87 151.431 1097.33 Q149.626 1093.76 145.992 1093.76 M145.992 1090.06 Q151.802 1090.06 154.857 1094.66 Q157.936 1099.25 157.936 1108 Q157.936 1116.72 154.857 1121.33 Q151.802 1125.91 145.992 1125.91 Q140.181 1125.91 137.103 1121.33 Q134.047 1116.72 134.047 1108 Q134.047 1099.25 137.103 1094.66 Q140.181 1090.06 145.992 1090.06 Z\" fill=\"#000000\" fill-rule=\"nonzero\" fill-opacity=\"1\" /><path clip-path=\"url(#clip310)\" d=\"M194.325 1099.78 L183.746 1110.4 L194.325 1120.98 L191.57 1123.78 L180.945 1113.16 L170.32 1123.78 L167.589 1120.98 L178.144 1110.4 L167.589 1099.78 L170.32 1096.98 L180.945 1107.6 L191.57 1096.98 L194.325 1099.78 Z\" fill=\"#000000\" fill-rule=\"nonzero\" fill-opacity=\"1\" /><path clip-path=\"url(#clip310)\" d=\"M206.686 1121.31 L214.325 1121.31 L214.325 1094.94 L206.014 1096.61 L206.014 1092.35 L214.278 1090.68 L218.954 1090.68 L218.954 1121.31 L226.593 1121.31 L226.593 1125.24 L206.686 1125.24 L206.686 1121.31 Z\" fill=\"#000000\" fill-rule=\"nonzero\" fill-opacity=\"1\" /><path clip-path=\"url(#clip310)\" d=\"M246.037 1093.76 Q242.426 1093.76 240.598 1097.33 Q238.792 1100.87 238.792 1108 Q238.792 1115.1 240.598 1118.67 Q242.426 1122.21 246.037 1122.21 Q249.672 1122.21 251.477 1118.67 Q253.306 1115.1 253.306 1108 Q253.306 1100.87 251.477 1097.33 Q249.672 1093.76 246.037 1093.76 M246.037 1090.06 Q251.848 1090.06 254.903 1094.66 Q257.982 1099.25 257.982 1108 Q257.982 1116.72 254.903 1121.33 Q251.848 1125.91 246.037 1125.91 Q240.227 1125.91 237.149 1121.33 Q234.093 1116.72 234.093 1108 Q234.093 1099.25 237.149 1094.66 Q240.227 1090.06 246.037 1090.06 Z\" fill=\"#000000\" fill-rule=\"nonzero\" fill-opacity=\"1\" /><path clip-path=\"url(#clip310)\" d=\"M257.982 1069.75 L276.037 1069.75 L276.037 1071.37 L265.843 1097.83 L261.875 1097.83 L271.467 1072.95 L257.982 1072.95 L257.982 1069.75 Z\" fill=\"#000000\" fill-rule=\"nonzero\" fill-opacity=\"1\" /><path clip-path=\"url(#clip310)\" d=\"M50.9921 854.95 L80.6679 854.95 L80.6679 858.885 L50.9921 858.885 L50.9921 854.95 Z\" fill=\"#000000\" fill-rule=\"nonzero\" fill-opacity=\"1\" /><path clip-path=\"url(#clip310)\" d=\"M104.927 853.145 Q108.283 853.862 110.158 856.131 Q112.057 858.399 112.057 861.732 Q112.057 866.848 108.538 869.649 Q105.02 872.45 98.5382 872.45 Q96.3623 872.45 94.0475 872.01 Q91.7558 871.594 89.3021 870.737 L89.3021 866.223 Q91.2465 867.357 93.5613 867.936 Q95.8761 868.515 98.3993 868.515 Q102.797 868.515 105.089 866.779 Q107.404 865.043 107.404 861.732 Q107.404 858.677 105.251 856.964 Q103.121 855.228 99.3021 855.228 L95.2743 855.228 L95.2743 851.385 L99.4872 851.385 Q102.936 851.385 104.765 850.02 Q106.594 848.631 106.594 846.038 Q106.594 843.376 104.696 841.964 Q102.821 840.529 99.3021 840.529 Q97.3808 840.529 95.1817 840.946 Q92.9826 841.362 90.3438 842.242 L90.3438 838.075 Q93.0058 837.334 95.3206 836.964 Q97.6585 836.594 99.7187 836.594 Q105.043 836.594 108.145 839.024 Q111.246 841.432 111.246 845.552 Q111.246 848.422 109.603 850.413 Q107.959 852.381 104.927 853.145 Z\" fill=\"#000000\" fill-rule=\"nonzero\" fill-opacity=\"1\" /><path clip-path=\"url(#clip310)\" d=\"M120.922 865.899 L125.807 865.899 L125.807 871.779 L120.922 871.779 L120.922 865.899 Z\" fill=\"#000000\" fill-rule=\"nonzero\" fill-opacity=\"1\" /><path clip-path=\"url(#clip310)\" d=\"M145.992 840.297 Q142.381 840.297 140.552 843.862 Q138.746 847.404 138.746 854.533 Q138.746 861.64 140.552 865.205 Q142.381 868.746 145.992 868.746 Q149.626 868.746 151.431 865.205 Q153.26 861.64 153.26 854.533 Q153.26 847.404 151.431 843.862 Q149.626 840.297 145.992 840.297 M145.992 836.594 Q151.802 836.594 154.857 841.2 Q157.936 845.784 157.936 854.533 Q157.936 863.26 154.857 867.867 Q151.802 872.45 145.992 872.45 Q140.181 872.45 137.103 867.867 Q134.047 863.26 134.047 854.533 Q134.047 845.784 137.103 841.2 Q140.181 836.594 145.992 836.594 Z\" fill=\"#000000\" fill-rule=\"nonzero\" fill-opacity=\"1\" /><path clip-path=\"url(#clip310)\" d=\"M194.325 846.316 L183.746 856.941 L194.325 867.52 L191.57 870.32 L180.945 859.695 L170.32 870.32 L167.589 867.52 L178.144 856.941 L167.589 846.316 L170.32 843.515 L180.945 854.14 L191.57 843.515 L194.325 846.316 Z\" fill=\"#000000\" fill-rule=\"nonzero\" fill-opacity=\"1\" /><path clip-path=\"url(#clip310)\" d=\"M206.686 867.844 L214.325 867.844 L214.325 841.478 L206.014 843.145 L206.014 838.885 L214.278 837.219 L218.954 837.219 L218.954 867.844 L226.593 867.844 L226.593 871.779 L206.686 871.779 L206.686 867.844 Z\" fill=\"#000000\" fill-rule=\"nonzero\" fill-opacity=\"1\" /><path clip-path=\"url(#clip310)\" d=\"M246.037 840.297 Q242.426 840.297 240.598 843.862 Q238.792 847.404 238.792 854.533 Q238.792 861.64 240.598 865.205 Q242.426 868.746 246.037 868.746 Q249.672 868.746 251.477 865.205 Q253.306 861.64 253.306 854.533 Q253.306 847.404 251.477 843.862 Q249.672 840.297 246.037 840.297 M246.037 836.594 Q251.848 836.594 254.903 841.2 Q257.982 845.784 257.982 854.533 Q257.982 863.26 254.903 867.867 Q251.848 872.45 246.037 872.45 Q240.227 872.45 237.149 867.867 Q234.093 863.26 234.093 854.533 Q234.093 845.784 237.149 841.2 Q240.227 836.594 246.037 836.594 Z\" fill=\"#000000\" fill-rule=\"nonzero\" fill-opacity=\"1\" /><path clip-path=\"url(#clip310)\" d=\"M257.982 816.288 L276.037 816.288 L276.037 817.906 L265.843 844.368 L261.875 844.368 L271.467 819.486 L257.982 819.486 L257.982 816.288 Z\" fill=\"#000000\" fill-rule=\"nonzero\" fill-opacity=\"1\" /><path clip-path=\"url(#clip310)\" d=\"M50.9921 601.486 L80.6679 601.486 L80.6679 605.422 L50.9921 605.422 L50.9921 601.486 Z\" fill=\"#000000\" fill-rule=\"nonzero\" fill-opacity=\"1\" /><path clip-path=\"url(#clip310)\" d=\"M94.7882 614.38 L111.108 614.38 L111.108 618.315 L89.1632 618.315 L89.1632 614.38 Q91.8252 611.625 96.4085 606.996 Q101.015 602.343 102.196 601 Q104.441 598.477 105.321 596.741 Q106.223 594.982 106.223 593.292 Q106.223 590.537 104.279 588.801 Q102.358 587.065 99.2558 587.065 Q97.0567 587.065 94.603 587.829 Q92.1725 588.593 89.3947 590.144 L89.3947 585.422 Q92.2188 584.287 94.6724 583.709 Q97.1261 583.13 99.1632 583.13 Q104.534 583.13 107.728 585.815 Q110.922 588.5 110.922 592.991 Q110.922 595.121 110.112 597.042 Q109.325 598.94 107.219 601.533 Q106.64 602.204 103.538 605.422 Q100.436 608.616 94.7882 614.38 Z\" fill=\"#000000\" fill-rule=\"nonzero\" fill-opacity=\"1\" /><path clip-path=\"url(#clip310)\" d=\"M120.922 612.435 L125.807 612.435 L125.807 618.315 L120.922 618.315 L120.922 612.435 Z\" fill=\"#000000\" fill-rule=\"nonzero\" fill-opacity=\"1\" /><path clip-path=\"url(#clip310)\" d=\"M145.992 586.834 Q142.381 586.834 140.552 590.399 Q138.746 593.94 138.746 601.07 Q138.746 608.176 140.552 611.741 Q142.381 615.283 145.992 615.283 Q149.626 615.283 151.431 611.741 Q153.26 608.176 153.26 601.07 Q153.26 593.94 151.431 590.399 Q149.626 586.834 145.992 586.834 M145.992 583.13 Q151.802 583.13 154.857 587.737 Q157.936 592.32 157.936 601.07 Q157.936 609.797 154.857 614.403 Q151.802 618.986 145.992 618.986 Q140.181 618.986 137.103 614.403 Q134.047 609.797 134.047 601.07 Q134.047 592.32 137.103 587.737 Q140.181 583.13 145.992 583.13 Z\" fill=\"#000000\" fill-rule=\"nonzero\" fill-opacity=\"1\" /><path clip-path=\"url(#clip310)\" d=\"M194.325 592.852 L183.746 603.477 L194.325 614.056 L191.57 616.857 L180.945 606.232 L170.32 616.857 L167.589 614.056 L178.144 603.477 L167.589 592.852 L170.32 590.051 L180.945 600.676 L191.57 590.051 L194.325 592.852 Z\" fill=\"#000000\" fill-rule=\"nonzero\" fill-opacity=\"1\" /><path clip-path=\"url(#clip310)\" d=\"M206.686 614.38 L214.325 614.38 L214.325 588.014 L206.014 589.681 L206.014 585.422 L214.278 583.755 L218.954 583.755 L218.954 614.38 L226.593 614.38 L226.593 618.315 L206.686 618.315 L206.686 614.38 Z\" fill=\"#000000\" fill-rule=\"nonzero\" fill-opacity=\"1\" /><path clip-path=\"url(#clip310)\" d=\"M246.037 586.834 Q242.426 586.834 240.598 590.399 Q238.792 593.94 238.792 601.07 Q238.792 608.176 240.598 611.741 Q242.426 615.283 246.037 615.283 Q249.672 615.283 251.477 611.741 Q253.306 608.176 253.306 601.07 Q253.306 593.94 251.477 590.399 Q249.672 586.834 246.037 586.834 M246.037 583.13 Q251.848 583.13 254.903 587.737 Q257.982 592.32 257.982 601.07 Q257.982 609.797 254.903 614.403 Q251.848 618.986 246.037 618.986 Q240.227 618.986 237.149 614.403 Q234.093 609.797 234.093 601.07 Q234.093 592.32 237.149 587.737 Q240.227 583.13 246.037 583.13 Z\" fill=\"#000000\" fill-rule=\"nonzero\" fill-opacity=\"1\" /><path clip-path=\"url(#clip310)\" d=\"M257.982 562.825 L276.037 562.825 L276.037 564.442 L265.843 590.905 L261.875 590.905 L271.467 566.022 L257.982 566.022 L257.982 562.825 Z\" fill=\"#000000\" fill-rule=\"nonzero\" fill-opacity=\"1\" /><path clip-path=\"url(#clip310)\" d=\"M50.9921 348.023 L80.6679 348.023 L80.6679 351.958 L50.9921 351.958 L50.9921 348.023 Z\" fill=\"#000000\" fill-rule=\"nonzero\" fill-opacity=\"1\" /><path clip-path=\"url(#clip310)\" d=\"M91.5706 360.916 L99.2095 360.916 L99.2095 334.551 L90.8993 336.217 L90.8993 331.958 L99.1632 330.291 L103.839 330.291 L103.839 360.916 L111.478 360.916 L111.478 364.851 L91.5706 364.851 L91.5706 360.916 Z\" fill=\"#000000\" fill-rule=\"nonzero\" fill-opacity=\"1\" /><path clip-path=\"url(#clip310)\" d=\"M120.922 358.972 L125.807 358.972 L125.807 364.851 L120.922 364.851 L120.922 358.972 Z\" fill=\"#000000\" fill-rule=\"nonzero\" fill-opacity=\"1\" /><path clip-path=\"url(#clip310)\" d=\"M145.992 333.37 Q142.381 333.37 140.552 336.935 Q138.746 340.477 138.746 347.606 Q138.746 354.713 140.552 358.277 Q142.381 361.819 145.992 361.819 Q149.626 361.819 151.431 358.277 Q153.26 354.713 153.26 347.606 Q153.26 340.477 151.431 336.935 Q149.626 333.37 145.992 333.37 M145.992 329.666 Q151.802 329.666 154.857 334.273 Q157.936 338.856 157.936 347.606 Q157.936 356.333 154.857 360.939 Q151.802 365.523 145.992 365.523 Q140.181 365.523 137.103 360.939 Q134.047 356.333 134.047 347.606 Q134.047 338.856 137.103 334.273 Q140.181 329.666 145.992 329.666 Z\" fill=\"#000000\" fill-rule=\"nonzero\" fill-opacity=\"1\" /><path clip-path=\"url(#clip310)\" d=\"M194.325 339.389 L183.746 350.014 L194.325 360.592 L191.57 363.393 L180.945 352.768 L170.32 363.393 L167.589 360.592 L178.144 350.014 L167.589 339.389 L170.32 336.588 L180.945 347.213 L191.57 336.588 L194.325 339.389 Z\" fill=\"#000000\" fill-rule=\"nonzero\" fill-opacity=\"1\" /><path clip-path=\"url(#clip310)\" d=\"M206.686 360.916 L214.325 360.916 L214.325 334.551 L206.014 336.217 L206.014 331.958 L214.278 330.291 L218.954 330.291 L218.954 360.916 L226.593 360.916 L226.593 364.851 L206.686 364.851 L206.686 360.916 Z\" fill=\"#000000\" fill-rule=\"nonzero\" fill-opacity=\"1\" /><path clip-path=\"url(#clip310)\" d=\"M246.037 333.37 Q242.426 333.37 240.598 336.935 Q238.792 340.477 238.792 347.606 Q238.792 354.713 240.598 358.277 Q242.426 361.819 246.037 361.819 Q249.672 361.819 251.477 358.277 Q253.306 354.713 253.306 347.606 Q253.306 340.477 251.477 336.935 Q249.672 333.37 246.037 333.37 M246.037 329.666 Q251.848 329.666 254.903 334.273 Q257.982 338.856 257.982 347.606 Q257.982 356.333 254.903 360.939 Q251.848 365.523 246.037 365.523 Q240.227 365.523 237.149 360.939 Q234.093 356.333 234.093 347.606 Q234.093 338.856 237.149 334.273 Q240.227 329.666 246.037 329.666 Z\" fill=\"#000000\" fill-rule=\"nonzero\" fill-opacity=\"1\" /><path clip-path=\"url(#clip310)\" d=\"M257.982 309.361 L276.037 309.361 L276.037 310.978 L265.843 337.441 L261.875 337.441 L271.467 312.558 L257.982 312.558 L257.982 309.361 Z\" fill=\"#000000\" fill-rule=\"nonzero\" fill-opacity=\"1\" /><path clip-path=\"url(#clip310)\" d=\"M264.093 73.4588 Q260.482 73.4588 258.653 77.0236 Q256.848 80.5652 256.848 87.6948 Q256.848 94.8013 258.653 98.3661 Q260.482 101.908 264.093 101.908 Q267.727 101.908 269.533 98.3661 Q271.361 94.8013 271.361 87.6948 Q271.361 80.5652 269.533 77.0236 Q267.727 73.4588 264.093 73.4588 M264.093 69.7551 Q269.903 69.7551 272.959 74.3616 Q276.037 78.9449 276.037 87.6948 Q276.037 96.4216 272.959 101.028 Q269.903 105.611 264.093 105.611 Q258.283 105.611 255.204 101.028 Q252.148 96.4216 252.148 87.6948 Q252.148 78.9449 255.204 74.3616 Q258.283 69.7551 264.093 69.7551 Z\" fill=\"#000000\" fill-rule=\"nonzero\" fill-opacity=\"1\" /><polyline clip-path=\"url(#clip312)\" style=\"stroke:#009af9; stroke-linecap:round; stroke-linejoin:round; stroke-width:4; stroke-opacity:1; fill:none\" points=\"433.967,1445.72 498.14,1250.26 562.314,496.308 626.488,172.479 690.661,106.308 754.835,89.4134 819.008,87.9763 883.182,87.9763 947.355,87.9763 1011.53,87.9763 1075.7,87.9763 1139.88,87.9763 1204.05,87.9763 1268.22,87.9763 1332.4,87.9763 1396.57,87.9763 1460.74,87.9763 1524.92,87.9763 1589.09,87.9763 1653.26,87.9763 1717.44,87.9763 1781.61,87.9763 1845.78,87.9763 1909.96,87.9763 1974.13,87.9763 2038.31,87.9763 2102.48,87.9763 2166.65,87.9763 2230.83,87.9763 2295,87.9763 \"/>\n",
       "<path clip-path=\"url(#clip310)\" d=\"M2028.23 1438.47 L2284.73 1438.47 L2284.73 1334.79 L2028.23 1334.79  Z\" fill=\"#ffffff\" fill-rule=\"evenodd\" fill-opacity=\"1\"/>\n",
       "<polyline clip-path=\"url(#clip310)\" style=\"stroke:#000000; stroke-linecap:round; stroke-linejoin:round; stroke-width:4; stroke-opacity:1; fill:none\" points=\"2028.23,1438.47 2284.73,1438.47 2284.73,1334.79 2028.23,1334.79 2028.23,1438.47 \"/>\n",
       "<polyline clip-path=\"url(#clip310)\" style=\"stroke:#009af9; stroke-linecap:round; stroke-linejoin:round; stroke-width:4; stroke-opacity:1; fill:none\" points=\"2050.9,1386.63 2186.95,1386.63 \"/>\n",
       "<path clip-path=\"url(#clip310)\" d=\"M2223.47 1406.32 Q2221.66 1410.95 2219.95 1412.36 Q2218.24 1413.78 2215.37 1413.78 L2211.96 1413.78 L2211.96 1410.21 L2214.46 1410.21 Q2216.22 1410.21 2217.2 1409.38 Q2218.17 1408.54 2219.35 1405.44 L2220.11 1403.5 L2209.63 1377.99 L2214.14 1377.99 L2222.24 1398.27 L2230.34 1377.99 L2234.86 1377.99 L2223.47 1406.32 Z\" fill=\"#000000\" fill-rule=\"nonzero\" fill-opacity=\"1\" /><path clip-path=\"url(#clip310)\" d=\"M2242.15 1399.98 L2249.79 1399.98 L2249.79 1373.61 L2241.48 1375.28 L2241.48 1371.02 L2249.74 1369.35 L2254.42 1369.35 L2254.42 1399.98 L2262.06 1399.98 L2262.06 1403.91 L2242.15 1403.91 L2242.15 1399.98 Z\" fill=\"#000000\" fill-rule=\"nonzero\" fill-opacity=\"1\" /></svg>\n"
      ]
     },
     "metadata": {},
     "output_type": "display_data"
    }
   ],
   "source": [
    "plot(ll)"
   ]
  },
  {
   "cell_type": "code",
   "execution_count": 5,
   "metadata": {},
   "outputs": [
    {
     "name": "stderr",
     "output_type": "stream",
     "text": [
      "\u001b[32mRunning EM algorithm... 100%|██████████████████████████████████████████████████| Time: 0:01:56 ( 1.16  s/it)\u001b[39m\u001b[K\n"
     ]
    },
    {
     "name": "stdout",
     "output_type": "stream",
     "text": [
      "truetrue"
     ]
    }
   ],
   "source": [
    "\"\"\"\n",
    "Create a Switching Poisson Regression\n",
    "\"\"\"\n",
    "# Create the emission models\n",
    "emission_1 = PoissonRegressionEmission(input_dim=3, output_dim=2, include_intercept=false, β=[1 2; 1 2; 1 2])\n",
    "emission_2 = PoissonRegressionEmission(input_dim=3, output_dim=2, include_intercept=false, β=[2 1; 2 1; 2 1])\n",
    "\n",
    "# Initialize the SwitchingPoissonRegression\n",
    "true_model = SwitchingPoissonRegression(K=2, input_dim=3, output_dim=2, include_intercept=false)\n",
    "\n",
    "# Plug in the emission models\n",
    "true_model.B[1] = emission_1\n",
    "true_model.B[2] = emission_2\n",
    "\n",
    "# Sample from the HMM\n",
    "n=20000\n",
    "Φ = randn(3, n)\n",
    "true_labels, data = SSD.sample(true_model, Φ, n=n)\n",
    "\n",
    "# Create a new SwitchingPoissonRegression and try to recover parameters\n",
    "test_model = SwitchingPoissonRegression(K=2, input_dim=3, output_dim=2, include_intercept=false)\n",
    "\n",
    "# Create the emission models for warm start\n",
    "emission_1 = PoissonRegressionEmission(input_dim=3, output_dim=2, include_intercept=false, β=[1.0 2.0; 1.0 2.0; 1.0 2.0])\n",
    "emission_2 = PoissonRegressionEmission(input_dim=3, output_dim=2, include_intercept=false, β=[2.0 1.0; 2.0 1.0; 2.0 1.0])\n",
    "test_model.B[1], test_model.B[2] = emission_1, emission_2\n",
    "\n",
    "ll = SSD.fit!(test_model, data, Φ, max_iters=100)\n",
    "\n",
    "print(isapprox(test_model.B[1].β, true_model.B[1].β, atol=0.1) || isapprox(test_model.B[1].β, true_model.B[2].β, atol=0.1))\n",
    "print(isapprox(test_model.B[2].β, true_model.B[2].β, atol=0.1) || isapprox(test_model.B[2].β, true_model.B[1].β, atol=0.1))\n"
   ]
  },
  {
   "cell_type": "markdown",
   "metadata": {},
   "source": [
    "# Switching Bernoulli Regression #"
   ]
  },
  {
   "cell_type": "code",
   "execution_count": 19,
   "metadata": {},
   "outputs": [
    {
     "name": "stdout",
     "output_type": "stream",
     "text": [
      "truetrue"
     ]
    }
   ],
   "source": [
    "# Make Emission Models\n",
    "emission_1 = StateSpaceDynamics.BernoulliRegressionEmission(input_dim=2, output_dim=1, include_intercept=true, β = reshape([3, 1, 2], :, 1))\n",
    "emission_2 = StateSpaceDynamics.BernoulliRegressionEmission(input_dim=2, output_dim=1, include_intercept=true, β = reshape([-3, -2, 0.1], :, 1))\n",
    "\n",
    "# Create Switching Bernoulli Regression and add the emissions\n",
    "true_model = StateSpaceDynamics.SwitchingBernoulliRegression(K=2, input_dim=2)\n",
    "true_model.A = [0.9 0.1; 0.2 0.8]\n",
    "true_model.B[1] = emission_1\n",
    "true_model.B[2] = emission_2\n",
    "\n",
    "# Sample from the model\n",
    "n=20000\n",
    "Φ = randn(2, n)\n",
    "true_labels, data = StateSpaceDynamics.sample(true_model, Φ, n=n)\n",
    "\n",
    "# Fit a new Bernoulli Regression Model to the data\n",
    "test_model = StateSpaceDynamics.SwitchingBernoulliRegression(K=2, input_dim=2, λ=1.0)\n",
    "test_model.A = [0.75 0.25; 0.1 0.9]\n",
    "test_model.B[1] = StateSpaceDynamics.BernoulliRegressionEmission(input_dim=2, output_dim=1, include_intercept=true, β = reshape([2.5, 0.25, 1.0], :, 1))\n",
    "test_model.B[2] = StateSpaceDynamics.BernoulliRegressionEmission(input_dim=2, output_dim=1, include_intercept=true, β = reshape([-2.0, -3.0, -1.0], :, 1))\n",
    "ll = StateSpaceDynamics.fit!(test_model, data, Φ, max_iters=200)\n",
    "print(isapprox(test_model.B[1].β, true_model.B[1].β, atol=0.2) || isapprox(test_model.B[1].β, true_model.B[2].β, atol=0.2))\n",
    "print(isapprox(test_model.B[2].β, true_model.B[2].β, atol=0.2) || isapprox(test_model.B[2].β, true_model.B[1].β, atol=0.2))\n"
   ]
  },
  {
   "cell_type": "markdown",
   "metadata": {},
   "source": [
    "# Switching Poisson Regression"
   ]
  },
  {
   "cell_type": "code",
   "execution_count": 20,
   "metadata": {},
   "outputs": [
    {
     "name": "stdout",
     "output_type": "stream",
     "text": [
      "truetrue"
     ]
    }
   ],
   "source": [
    "\"\"\"\n",
    "Create a Switching Poisson Regression\n",
    "\"\"\"\n",
    "# Create the emission models\n",
    "emission_1 = PoissonRegressionEmission(input_dim=3, output_dim=1, include_intercept=true, β=reshape([4, 3, 2, 4], :, 1))\n",
    "emission_2 = PoissonRegressionEmission(input_dim=3, output_dim=1, include_intercept=true, β=reshape([-4, -2, 1, 3], :, 1))\n",
    "\n",
    "# Initialize the SwitchingPoissonRegression\n",
    "true_model = SwitchingPoissonRegression(K=2, input_dim=3, output_dim=1)\n",
    "\n",
    "# Plug in the emission models\n",
    "true_model.B[1] = emission_1\n",
    "true_model.B[2] = emission_2\n",
    "\n",
    "# Sample from the HMM\n",
    "n=20000\n",
    "Φ = randn(3, n)\n",
    "true_labels, data = SSD.sample(true_model, Φ, n=n)\n",
    "\n",
    "# Create a new SwitchingPoissonRegression and try to recover parameters\n",
    "test_model = SwitchingPoissonRegression(K=2, input_dim=3, output_dim=1)\n",
    "\n",
    "# Create the emission models for warm start\n",
    "emission_1 = PoissonRegressionEmission(input_dim=3, output_dim=1, include_intercept=true, β=reshape([2.0, 1.0, 4.0, 2.0], :, 1))\n",
    "emission_2 = PoissonRegressionEmission(input_dim=3, output_dim=1, include_intercept=true, β=reshape([-5.0, -1.0, 0.0, 2.0], :, 1))\n",
    "test_model.B[1], test_model.B[2] = emission_1, emission_2\n",
    "\n",
    "ll = SSD.fit!(test_model, data, Φ, max_iters=200)\n",
    "\n",
    "print(isapprox(test_model.B[1].β, true_model.B[1].β, atol=0.1) || isapprox(test_model.B[1].β, true_model.B[2].β, atol=0.1))\n",
    "print(isapprox(test_model.B[2].β, true_model.B[2].β, atol=0.1) || isapprox(test_model.B[2].β, true_model.B[1].β, atol=0.1))\n"
   ]
  }
 ],
 "metadata": {
  "kernelspec": {
   "display_name": "Julia 1.10.4",
   "language": "julia",
   "name": "julia-1.10"
  },
  "language_info": {
   "file_extension": ".jl",
   "mimetype": "application/julia",
   "name": "julia",
   "version": "1.10.4"
  },
  "orig_nbformat": 4
 },
 "nbformat": 4,
 "nbformat_minor": 2
}
