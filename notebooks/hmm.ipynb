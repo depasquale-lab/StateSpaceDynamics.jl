{
 "cells": [
  {
   "cell_type": "code",
   "execution_count": 1,
   "metadata": {},
   "outputs": [
    {
     "data": {
      "text/plain": [
       "StateSpaceDynamics"
      ]
     },
     "metadata": {},
     "output_type": "display_data"
    }
   ],
   "source": [
    "using Pkg\n",
    "using LinearAlgebra\n",
    "using Plots\n",
    "using Distributions\n",
    "using Random\n",
    "using StateSpaceDynamics\n",
    "using StatsBase\n",
    "\n",
    "const SSD = StateSpaceDynamics"
   ]
  },
  {
   "cell_type": "code",
   "execution_count": 5,
   "metadata": {},
   "outputs": [
    {
     "name": "stdout",
     "output_type": "stream",
     "text": [
      "New Function in use...\n"
     ]
    },
    {
     "name": "stderr",
     "output_type": "stream",
     "text": [
      "\u001b[32mRunning EM algorithm...   2%|█                           |  ETA: 0:01:43\u001b[39m\u001b[K\n",
      "\n",
      "\u001b[32mRunning EM algorithm... 100%|████████████████████████████| Time: 0:00:02\u001b[39m\u001b[K\n"
     ]
    },
    {
     "data": {
      "text/plain": [
       "27-element Vector{Float64}:\n",
       "   -Inf\n",
       " -2217.842078557841\n",
       " -1454.149217583665\n",
       " -1454.149195143956\n",
       " -1454.1489559467034\n",
       " -1454.1462277888927\n",
       " -1454.115000075573\n",
       " -1453.7609597394826\n",
       " -1449.9293468581757\n",
       " -1416.614367965934\n",
       "     ⋮\n",
       "  -957.2253772853561\n",
       "  -950.2030951498441\n",
       "  -940.9603963582243\n",
       "  -926.8135433522898\n",
       "  -905.497908893608\n",
       "  -887.8710418255791\n",
       "  -885.9366520163506\n",
       "  -885.9349574413794\n",
       "  -885.9349573051783"
      ]
     },
     "metadata": {},
     "output_type": "display_data"
    }
   ],
   "source": [
    "\"\"\"\n",
    "Create an underlying GaussianHMM to generate data\n",
    "\"\"\"\n",
    "\n",
    "# Create Guassian Emission Models\n",
    "output_dim = 2\n",
    "μ = [0.0, 0.0]\n",
    "Σ = 0.1 * Matrix{Float64}(I, output_dim, output_dim)\n",
    "emission_1 = GaussianEmission(output_dim, μ, Σ)\n",
    "\n",
    "μ = [2.0, 1.0]\n",
    "Σ = 0.1 * Matrix{Float64}(I, output_dim, output_dim)\n",
    "emission_2 = GaussianEmission(output_dim, μ, Σ)\n",
    "\n",
    "# Create GaussianHMM\n",
    "true_model = SSD.GaussianHMM(K=2, output_dim=2)\n",
    "true_model.B[1] = emission_1\n",
    "true_model.B[2] = emission_2\n",
    "true_model.A = [0.9 0.1; 0.8 0.2]\n",
    "\n",
    "# Sample from the model\n",
    "n=1000\n",
    "true_labels, data = SSD.sample(true_model, n=n)\n",
    "\n",
    "\n",
    "# Fit a gaussian hmm to the data\n",
    "test_model = SSD.GaussianHMM(K=2, output_dim=2)\n",
    "ll = SSD.fit!(test_model, data)"
   ]
  },
  {
   "cell_type": "code",
   "execution_count": 6,
   "metadata": {},
   "outputs": [],
   "source": [
    "\"\"\"\n",
    "Create a new GaussianHMM and try to fit the synthetic data\n",
    "\"\"\"\n",
    "n = 10  # Number of samples per trial\n",
    "num_trials = 3  # Number of trials\n",
    "trial_inputs = Vector{Matrix{Float64}}(undef, num_trials)  # Vector to store data matrices\n",
    "trial_labels = Vector{Vector{Int}}(undef, num_trials)  # Vector to store label vectors\n",
    "trial_outputs = Vector{Matrix{Float64}}(undef, num_trials)\n",
    "\n",
    "for i in 1:num_trials\n",
    "    true_labels, data = SSD.sample(true_model, n=n)  # Generate data and labels\n",
    "    trial_labels[i] = true_labels  # Store labels for the ith trial\n",
    "    trial_inputs[i] = data  # Store data matrix for the ith trial\n",
    "\n",
    "    true_labels, data = SSD.sample(true_model, n=n)  # Generate data and labels\n",
    "    trial_outputs[i] = data  # Store data matrix for the ith trial\n",
    "end"
   ]
  },
  {
   "cell_type": "code",
   "execution_count": 7,
   "metadata": {},
   "outputs": [
    {
     "name": "stdout",
     "output_type": "stream",
     "text": [
      "Using new GLM function\n"
     ]
    },
    {
     "data": {
      "text/plain": [
       "37-element Vector{Float64}:\n",
       " -Inf\n",
       " -69.57571317658578\n",
       " -47.27362715191971\n",
       " -45.210661790770786\n",
       " -41.607514134029955\n",
       " -39.67200479435205\n",
       " -39.14661625247484\n",
       " -38.10636010669805\n",
       " -34.75008233183769\n",
       " -33.92373592973038\n",
       "   ⋮\n",
       " -32.791234596962404\n",
       " -32.658444246265844\n",
       " -32.4108921471398\n",
       " -31.952521064628108\n",
       " -31.223020677020674\n",
       " -29.730689068630422\n",
       " -27.806849409805423\n",
       " -27.786775873569034\n",
       " -27.78677587356904"
      ]
     },
     "metadata": {},
     "output_type": "display_data"
    }
   ],
   "source": [
    "\"\"\"\n",
    "Generate a multiple trial GaussianHMM Dataset from the fit model\n",
    "\"\"\"\n",
    "model2 =SSD.GaussianHMM(K=2, output_dim=2)\n",
    "ll = SSD.fit!(model2, trial_inputs)"
   ]
  },
  {
   "cell_type": "code",
   "execution_count": 8,
   "metadata": {},
   "outputs": [
    {
     "ename": "MethodError",
     "evalue": "MethodError: Cannot `convert` an object of type GaussianRegression to an object of type EmissionModel\n\nClosest candidates are:\n  convert(::Type{T}, !Matched::T) where T\n   @ Base Base.jl:84\n",
     "output_type": "error",
     "traceback": [
      "MethodError: Cannot `convert` an object of type GaussianRegression to an object of type EmissionModel\n",
      "\n",
      "Closest candidates are:\n",
      "  convert(::Type{T}, !Matched::T) where T\n",
      "   @ Base Base.jl:84\n",
      "\n",
      "\n",
      "Stacktrace:\n",
      "  [1] setindex!(A::Vector{EmissionModel}, x::GaussianRegression, i1::Int64)\n",
      "    @ Base .\\array.jl:1021\n",
      "  [2] _unsafe_copyto!(dest::Vector{EmissionModel}, doffs::Int64, src::Vector{GaussianRegression}, soffs::Int64, n::Int64)\n",
      "    @ Base .\\array.jl:299\n",
      "  [3] unsafe_copyto!\n",
      "    @ .\\array.jl:353 [inlined]\n",
      "  [4] _copyto_impl!\n",
      "    @ .\\array.jl:376 [inlined]\n",
      "  [5] copyto!\n",
      "    @ .\\array.jl:363 [inlined]\n",
      "  [6] copyto!\n",
      "    @ .\\array.jl:385 [inlined]\n",
      "  [7] copyto_axcheck!\n",
      "    @ .\\abstractarray.jl:1177 [inlined]\n",
      "  [8] Vector{EmissionModel}(x::Vector{GaussianRegression})\n",
      "    @ Base .\\array.jl:673\n",
      "  [9] convert\n",
      "    @ .\\array.jl:665 [inlined]\n",
      " [10] HiddenMarkovModel\n",
      "    @ c:\\Users\\zachl\\OneDrive\\Documents\\GitHub\\StateSpaceDynamics.jl\\src\\HiddenMarkovModels.jl:31 [inlined]\n",
      " [11] #HiddenMarkovModel#103\n",
      "    @ c:\\Users\\zachl\\OneDrive\\Documents\\GitHub\\StateSpaceDynamics.jl\\src\\HiddenMarkovModels.jl:146 [inlined]\n",
      " [12] HiddenMarkovModel\n",
      "    @ c:\\Users\\zachl\\OneDrive\\Documents\\GitHub\\StateSpaceDynamics.jl\\src\\HiddenMarkovModels.jl:129 [inlined]\n",
      " [13] #SwitchingGaussianRegression#72\n",
      "    @ c:\\Users\\zachl\\OneDrive\\Documents\\GitHub\\StateSpaceDynamics.jl\\src\\EmissionModels.jl:332 [inlined]\n",
      " [14] top-level scope\n",
      "    @ c:\\Users\\zachl\\OneDrive\\Documents\\GitHub\\StateSpaceDynamics.jl\\notebooks\\jl_notebook_cell_df34fa98e69747e1a8f8a730347b8e2f_X15sZmlsZQ==.jl:1"
     ]
    }
   ],
   "source": [
    "model3 = SSD.SwitchingGaussianRegression(K=2, input_dim=2, output_dim=2)\n",
    "ll2 = SSD.fit!(model3, trial_outputs, trial_inputs, max_iters=100)"
   ]
  },
  {
   "cell_type": "code",
   "execution_count": 6,
   "metadata": {},
   "outputs": [
    {
     "ename": "MethodError",
     "evalue": "MethodError: no method matching fit!(::HiddenMarkovModel, ::Vector{Matrix{Float64}}, ::Vector{Matrix{Float64}}; trials::Bool, max_iters::Int64)\n\nClosest candidates are:\n  fit!(::HiddenMarkovModel, ::Vector{<:Matrix{<:Real}}, ::Union{Nothing, Vector{<:Matrix{<:Real}}}; max_iters, tol) got unsupported keyword argument \"trials\"\n   @ StateSpaceDynamics c:\\Users\\zachl\\OneDrive\\Documents\\GitHub\\StateSpaceDynamics.jl\\src\\HiddenMarkovModels.jl:479\n  fit!(!Matched::CompositeModel, ::Vector, ::Vector, !Matched::Vector{Float64}) got unsupported keyword arguments \"trials\", \"max_iters\"\n   @ StateSpaceDynamics c:\\Users\\zachl\\OneDrive\\Documents\\GitHub\\StateSpaceDynamics.jl\\src\\CompositeModel.jl:69\n  fit!(!Matched::CompositeModel, ::Vector, ::Vector) got unsupported keyword arguments \"trials\", \"max_iters\"\n   @ StateSpaceDynamics c:\\Users\\zachl\\OneDrive\\Documents\\GitHub\\StateSpaceDynamics.jl\\src\\CompositeModel.jl:69\n  ...\n",
     "output_type": "error",
     "traceback": [
      "MethodError: no method matching fit!(::HiddenMarkovModel, ::Vector{Matrix{Float64}}, ::Vector{Matrix{Float64}}; trials::Bool, max_iters::Int64)\n",
      "\n",
      "Closest candidates are:\n",
      "  fit!(::HiddenMarkovModel, ::Vector{<:Matrix{<:Real}}, ::Union{Nothing, Vector{<:Matrix{<:Real}}}; max_iters, tol) got unsupported keyword argument \"trials\"\n",
      "   @ StateSpaceDynamics c:\\Users\\zachl\\OneDrive\\Documents\\GitHub\\StateSpaceDynamics.jl\\src\\HiddenMarkovModels.jl:479\n",
      "  fit!(!Matched::CompositeModel, ::Vector, ::Vector, !Matched::Vector{Float64}) got unsupported keyword arguments \"trials\", \"max_iters\"\n",
      "   @ StateSpaceDynamics c:\\Users\\zachl\\OneDrive\\Documents\\GitHub\\StateSpaceDynamics.jl\\src\\CompositeModel.jl:69\n",
      "  fit!(!Matched::CompositeModel, ::Vector, ::Vector) got unsupported keyword arguments \"trials\", \"max_iters\"\n",
      "   @ StateSpaceDynamics c:\\Users\\zachl\\OneDrive\\Documents\\GitHub\\StateSpaceDynamics.jl\\src\\CompositeModel.jl:69\n",
      "  ...\n",
      "\n",
      "\n",
      "Stacktrace:\n",
      " [1] kwerr(::@NamedTuple{trials::Bool, max_iters::Int64}, ::Function, ::HiddenMarkovModel, ::Vector{Matrix{Float64}}, ::Vector{Matrix{Float64}})\n",
      "   @ Base .\\error.jl:165\n",
      " [2] top-level scope\n",
      "   @ c:\\Users\\zachl\\OneDrive\\Documents\\GitHub\\StateSpaceDynamics.jl\\notebooks\\jl_notebook_cell_df34fa98e69747e1a8f8a730347b8e2f_W5sZmlsZQ==.jl:60"
     ]
    }
   ],
   "source": [
    "\n",
    "# Function to sample from initial state and transition matrix\n",
    "function sample_states(num_samples, initial_probs, transition_matrix)\n",
    "    states = Vector{Int}(undef, num_samples)\n",
    "    states[1] = rand(Categorical(initial_probs))  # Initial state\n",
    "    for i in 2:num_samples\n",
    "        states[i] = rand(Categorical(transition_matrix[states[i - 1], :]))  # State transitions\n",
    "    end\n",
    "    return states\n",
    "end\n",
    "\n",
    "\n",
    "# Create a true underlying model\n",
    "model = SSD.SwitchingGaussianRegression(K=2, input_dim=1, output_dim=1)\n",
    "model.B[1].β = [100; 100;;]\n",
    "model.B[2].β = [-100; -100;;]\n",
    "model.B[1].Σ = [2.0;;]\n",
    "model.B[2].Σ = [3.0;;]\n",
    "\n",
    "# Define initial state probabilities (π) and transition matrix (A)\n",
    "initial_probs = [0.6, 0.4]  # Probability to start in state 1 or state 2\n",
    "transition_matrix = [0.9 0.1; 0.4 0.6]  # State transition probabilities\n",
    "\n",
    "n = 100 # Number of samples per trial\n",
    "num_trials = 50  # Number of trials\n",
    "n1_std = 10\n",
    "n2_std = 5\n",
    "\n",
    "# Vectors to store generated data\n",
    "trial_inputs = Vector{Matrix{Float64}}(undef, num_trials)\n",
    "trial_labels = Vector{Vector{Int}}(undef, num_trials)\n",
    "trial_outputs = Vector{Matrix{Float64}}(undef, num_trials)\n",
    "\n",
    "\n",
    "\n",
    "# Generate trials\n",
    "for trial in 1:num_trials\n",
    "    # Random input data\n",
    "    x_data = randn(n, 1)  # Random input data for this trial\n",
    "    trial_inputs[trial] = x_data\n",
    "\n",
    "    # Generate state sequence\n",
    "    state_sequence = sample_states(n, initial_probs, transition_matrix)\n",
    "    trial_labels[trial] = state_sequence\n",
    "\n",
    "    # Generate output data based on state and linear relationships\n",
    "    y_data = zeros(n, 1)\n",
    "    for i in 1:n\n",
    "        if state_sequence[i] == 1\n",
    "            y_data[i] = (model.B[1].β[2] * x_data[i] + model.B[1].β[1]) + (randn() * n1_std)\n",
    "        else\n",
    "            y_data[i] = (model.B[2].β[2] * x_data[i] + model.B[2].β[1]) + (randn() * n2_std)\n",
    "        end\n",
    "    end\n",
    "    trial_outputs[trial] = y_data\n",
    "end\n",
    "\n",
    "# Create new model and fit the data\n",
    "est_model = SSD.SwitchingGaussianRegression(K=2, input_dim=1, output_dim=1)\n",
    "ll = SSD.fit!(est_model, trial_inputs, trial_outputs, trials=true, max_iters=200)\n",
    "\n",
    "# Run tests to assess model fit\n",
    "print(isapprox(est_model.B[1].β, model.B[1].β, atol=0.1) || isapprox(est_model.B[1].β, model.B[2].β, atol=0.1))\n",
    "print(isapprox(est_model.B[2].β, model.B[2].β, atol=0.1) || isapprox(est_model.B[2].β, model.B[1].β, atol=0.1))\n",
    "print(isapprox(est_model.B[1].Σ, model.B[1].Σ, atol=0.01) || isapprox(est_model.B[1].Σ, model.B[2].Σ, atol=0.01))\n",
    "print(isapprox(est_model.B[2].Σ, model.B[2].Σ, atol=0.01) || isapprox(est_model.B[2].Σ, model.B[1].Σ, atol=0.01))\n",
    "\n",
    "\n"
   ]
  },
  {
   "cell_type": "code",
   "execution_count": 8,
   "metadata": {},
   "outputs": [
    {
     "data": {
      "image/png": "[encoded data removed]",
      "image/svg+xml": [
       "<?xml version=\"1.0\" encoding=\"utf-8\"?>\n",
       "<svg xmlns=\"http://www.w3.org/2000/svg\" xmlns:xlink=\"http://www.w3.org/1999/xlink\" width=\"600\" height=\"400\" viewBox=\"0 0 2400 1600\">\n",
       "<defs>\n",
       "  <clipPath id=\"clip070\">\n",
       "    <rect x=\"0\" y=\"0\" width=\"2400\" height=\"1600\"/>\n",
       "  </clipPath>\n",
       "</defs>\n",
       "<path clip-path=\"url(#clip070)\" d=\"M0 1600 L2400 1600 L2400 0 L0 0  Z\" fill=\"#ffffff\" fill-rule=\"evenodd\" fill-opacity=\"1\"/>\n",
       "<defs>\n",
       "  <clipPath id=\"clip071\">\n",
       "    <rect x=\"480\" y=\"0\" width=\"1681\" height=\"1600\"/>\n",
       "  </clipPath>\n",
       "</defs>\n",
       "<path clip-path=\"url(#clip070)\" d=\"M269.352 1486.45 L2352.76 1486.45 L2352.76 47.2441 L269.352 47.2441  Z\" fill=\"#ffffff\" fill-rule=\"evenodd\" fill-opacity=\"1\"/>\n",
       "<defs>\n",
       "  <clipPath id=\"clip072\">\n",
       "    <rect x=\"269\" y=\"47\" width=\"2084\" height=\"1440\"/>\n",
       "  </clipPath>\n",
       "</defs>\n",
       "<polyline clip-path=\"url(#clip072)\" style=\"stroke:#000000; stroke-linecap:round; stroke-linejoin:round; stroke-width:2; stroke-opacity:0.1; fill:none\" points=\"590.38,1486.45 590.38,47.2441 \"/>\n",
       "<polyline clip-path=\"url(#clip072)\" style=\"stroke:#000000; stroke-linecap:round; stroke-linejoin:round; stroke-width:2; stroke-opacity:0.1; fill:none\" points=\"983.475,1486.45 983.475,47.2441 \"/>\n",
       "<polyline clip-path=\"url(#clip072)\" style=\"stroke:#000000; stroke-linecap:round; stroke-linejoin:round; stroke-width:2; stroke-opacity:0.1; fill:none\" points=\"1376.57,1486.45 1376.57,47.2441 \"/>\n",
       "<polyline clip-path=\"url(#clip072)\" style=\"stroke:#000000; stroke-linecap:round; stroke-linejoin:round; stroke-width:2; stroke-opacity:0.1; fill:none\" points=\"1769.66,1486.45 1769.66,47.2441 \"/>\n",
       "<polyline clip-path=\"url(#clip072)\" style=\"stroke:#000000; stroke-linecap:round; stroke-linejoin:round; stroke-width:2; stroke-opacity:0.1; fill:none\" points=\"2162.76,1486.45 2162.76,47.2441 \"/>\n",
       "<polyline clip-path=\"url(#clip070)\" style=\"stroke:#000000; stroke-linecap:round; stroke-linejoin:round; stroke-width:4; stroke-opacity:1; fill:none\" points=\"269.352,1486.45 2352.76,1486.45 \"/>\n",
       "<polyline clip-path=\"url(#clip070)\" style=\"stroke:#000000; stroke-linecap:round; stroke-linejoin:round; stroke-width:4; stroke-opacity:1; fill:none\" points=\"590.38,1486.45 590.38,1467.55 \"/>\n",
       "<polyline clip-path=\"url(#clip070)\" style=\"stroke:#000000; stroke-linecap:round; stroke-linejoin:round; stroke-width:4; stroke-opacity:1; fill:none\" points=\"983.475,1486.45 983.475,1467.55 \"/>\n",
       "<polyline clip-path=\"url(#clip070)\" style=\"stroke:#000000; stroke-linecap:round; stroke-linejoin:round; stroke-width:4; stroke-opacity:1; fill:none\" points=\"1376.57,1486.45 1376.57,1467.55 \"/>\n",
       "<polyline clip-path=\"url(#clip070)\" style=\"stroke:#000000; stroke-linecap:round; stroke-linejoin:round; stroke-width:4; stroke-opacity:1; fill:none\" points=\"1769.66,1486.45 1769.66,1467.55 \"/>\n",
       "<polyline clip-path=\"url(#clip070)\" style=\"stroke:#000000; stroke-linecap:round; stroke-linejoin:round; stroke-width:4; stroke-opacity:1; fill:none\" points=\"2162.76,1486.45 2162.76,1467.55 \"/>\n",
       "<path clip-path=\"url(#clip070)\" d=\"M594.628 1530.21 Q597.984 1530.93 599.859 1533.2 Q601.757 1535.47 601.757 1538.8 Q601.757 1543.92 598.239 1546.72 Q594.72 1549.52 588.239 1549.52 Q586.063 1549.52 583.748 1549.08 Q581.456 1548.66 579.003 1547.81 L579.003 1543.29 Q580.947 1544.43 583.262 1545.01 Q585.577 1545.58 588.1 1545.58 Q592.498 1545.58 594.79 1543.85 Q597.104 1542.11 597.104 1538.8 Q597.104 1535.75 594.952 1534.03 Q592.822 1532.3 589.003 1532.3 L584.975 1532.3 L584.975 1528.45 L589.188 1528.45 Q592.637 1528.45 594.465 1527.09 Q596.294 1525.7 596.294 1523.11 Q596.294 1520.45 594.396 1519.03 Q592.521 1517.6 589.003 1517.6 Q587.081 1517.6 584.882 1518.01 Q582.683 1518.43 580.044 1519.31 L580.044 1515.14 Q582.706 1514.4 585.021 1514.03 Q587.359 1513.66 589.419 1513.66 Q594.743 1513.66 597.845 1516.09 Q600.947 1518.5 600.947 1522.62 Q600.947 1525.49 599.303 1527.48 Q597.66 1529.45 594.628 1530.21 Z\" fill=\"#000000\" fill-rule=\"nonzero\" fill-opacity=\"1\" /><path clip-path=\"url(#clip070)\" d=\"M983.88 1529.7 Q980.732 1529.7 978.88 1531.86 Q977.051 1534.01 977.051 1537.76 Q977.051 1541.49 978.88 1543.66 Q980.732 1545.82 983.88 1545.82 Q987.028 1545.82 988.857 1543.66 Q990.709 1541.49 990.709 1537.76 Q990.709 1534.01 988.857 1531.86 Q987.028 1529.7 983.88 1529.7 M993.162 1515.05 L993.162 1519.31 Q991.403 1518.48 989.598 1518.04 Q987.815 1517.6 986.056 1517.6 Q981.426 1517.6 978.973 1520.72 Q976.542 1523.85 976.195 1530.17 Q977.561 1528.15 979.621 1527.09 Q981.681 1526 984.158 1526 Q989.366 1526 992.375 1529.17 Q995.408 1532.32 995.408 1537.76 Q995.408 1543.08 992.26 1546.3 Q989.111 1549.52 983.88 1549.52 Q977.885 1549.52 974.713 1544.94 Q971.542 1540.33 971.542 1531.6 Q971.542 1523.41 975.431 1518.55 Q979.32 1513.66 985.871 1513.66 Q987.63 1513.66 989.412 1514.01 Q991.218 1514.36 993.162 1515.05 Z\" fill=\"#000000\" fill-rule=\"nonzero\" fill-opacity=\"1\" /><path clip-path=\"url(#clip070)\" d=\"M1366.87 1548.13 L1366.87 1543.87 Q1368.63 1544.7 1370.44 1545.14 Q1372.24 1545.58 1373.98 1545.58 Q1378.61 1545.58 1381.04 1542.48 Q1383.49 1539.36 1383.84 1533.01 Q1382.5 1535.01 1380.44 1536.07 Q1378.38 1537.13 1375.88 1537.13 Q1370.69 1537.13 1367.66 1534.01 Q1364.65 1530.86 1364.65 1525.42 Q1364.65 1520.1 1367.8 1516.88 Q1370.94 1513.66 1376.18 1513.66 Q1382.17 1513.66 1385.32 1518.27 Q1388.49 1522.85 1388.49 1531.6 Q1388.49 1539.77 1384.6 1544.66 Q1380.74 1549.52 1374.19 1549.52 Q1372.43 1549.52 1370.62 1549.17 Q1368.82 1548.82 1366.87 1548.13 M1376.18 1533.48 Q1379.32 1533.48 1381.15 1531.32 Q1383.01 1529.17 1383.01 1525.42 Q1383.01 1521.7 1381.15 1519.54 Q1379.32 1517.37 1376.18 1517.37 Q1373.03 1517.37 1371.18 1519.54 Q1369.35 1521.7 1369.35 1525.42 Q1369.35 1529.17 1371.18 1531.32 Q1373.03 1533.48 1376.18 1533.48 Z\" fill=\"#000000\" fill-rule=\"nonzero\" fill-opacity=\"1\" /><path clip-path=\"url(#clip070)\" d=\"M1745.15 1544.91 L1752.79 1544.91 L1752.79 1518.55 L1744.48 1520.21 L1744.48 1515.95 L1752.74 1514.29 L1757.42 1514.29 L1757.42 1544.91 L1765.06 1544.91 L1765.06 1548.85 L1745.15 1548.85 L1745.15 1544.91 Z\" fill=\"#000000\" fill-rule=\"nonzero\" fill-opacity=\"1\" /><path clip-path=\"url(#clip070)\" d=\"M1778.53 1544.91 L1794.85 1544.91 L1794.85 1548.85 L1772.91 1548.85 L1772.91 1544.91 Q1775.57 1542.16 1780.15 1537.53 Q1784.76 1532.88 1785.94 1531.53 Q1788.18 1529.01 1789.06 1527.27 Q1789.97 1525.51 1789.97 1523.82 Q1789.97 1521.07 1788.02 1519.33 Q1786.1 1517.6 1783 1517.6 Q1780.8 1517.6 1778.35 1518.36 Q1775.91 1519.13 1773.14 1520.68 L1773.14 1515.95 Q1775.96 1514.82 1778.41 1514.24 Q1780.87 1513.66 1782.91 1513.66 Q1788.28 1513.66 1791.47 1516.35 Q1794.66 1519.03 1794.66 1523.52 Q1794.66 1525.65 1793.85 1527.57 Q1793.07 1529.47 1790.96 1532.07 Q1790.38 1532.74 1787.28 1535.95 Q1784.18 1539.15 1778.53 1544.91 Z\" fill=\"#000000\" fill-rule=\"nonzero\" fill-opacity=\"1\" /><path clip-path=\"url(#clip070)\" d=\"M2137.95 1544.91 L2145.58 1544.91 L2145.58 1518.55 L2137.27 1520.21 L2137.27 1515.95 L2145.54 1514.29 L2150.21 1514.29 L2150.21 1544.91 L2157.85 1544.91 L2157.85 1548.85 L2137.95 1548.85 L2137.95 1544.91 Z\" fill=\"#000000\" fill-rule=\"nonzero\" fill-opacity=\"1\" /><path clip-path=\"url(#clip070)\" d=\"M2167.34 1514.29 L2185.7 1514.29 L2185.7 1518.22 L2171.63 1518.22 L2171.63 1526.7 Q2172.64 1526.35 2173.66 1526.19 Q2174.68 1526 2175.7 1526 Q2181.49 1526 2184.87 1529.17 Q2188.25 1532.34 2188.25 1537.76 Q2188.25 1543.34 2184.77 1546.44 Q2181.3 1549.52 2174.98 1549.52 Q2172.81 1549.52 2170.54 1549.15 Q2168.29 1548.78 2165.88 1548.04 L2165.88 1543.34 Q2167.97 1544.47 2170.19 1545.03 Q2172.41 1545.58 2174.89 1545.58 Q2178.89 1545.58 2181.23 1543.48 Q2183.57 1541.37 2183.57 1537.76 Q2183.57 1534.15 2181.23 1532.04 Q2178.89 1529.94 2174.89 1529.94 Q2173.01 1529.94 2171.14 1530.35 Q2169.29 1530.77 2167.34 1531.65 L2167.34 1514.29 Z\" fill=\"#000000\" fill-rule=\"nonzero\" fill-opacity=\"1\" /><polyline clip-path=\"url(#clip072)\" style=\"stroke:#000000; stroke-linecap:round; stroke-linejoin:round; stroke-width:2; stroke-opacity:0.1; fill:none\" points=\"269.352,1261.32 2352.76,1261.32 \"/>\n",
       "<polyline clip-path=\"url(#clip072)\" style=\"stroke:#000000; stroke-linecap:round; stroke-linejoin:round; stroke-width:2; stroke-opacity:0.1; fill:none\" points=\"269.352,999.605 2352.76,999.605 \"/>\n",
       "<polyline clip-path=\"url(#clip072)\" style=\"stroke:#000000; stroke-linecap:round; stroke-linejoin:round; stroke-width:2; stroke-opacity:0.1; fill:none\" points=\"269.352,737.887 2352.76,737.887 \"/>\n",
       "<polyline clip-path=\"url(#clip072)\" style=\"stroke:#000000; stroke-linecap:round; stroke-linejoin:round; stroke-width:2; stroke-opacity:0.1; fill:none\" points=\"269.352,476.169 2352.76,476.169 \"/>\n",
       "<polyline clip-path=\"url(#clip072)\" style=\"stroke:#000000; stroke-linecap:round; stroke-linejoin:round; stroke-width:2; stroke-opacity:0.1; fill:none\" points=\"269.352,214.45 2352.76,214.45 \"/>\n",
       "<polyline clip-path=\"url(#clip070)\" style=\"stroke:#000000; stroke-linecap:round; stroke-linejoin:round; stroke-width:4; stroke-opacity:1; fill:none\" points=\"269.352,1486.45 269.352,47.2441 \"/>\n",
       "<polyline clip-path=\"url(#clip070)\" style=\"stroke:#000000; stroke-linecap:round; stroke-linejoin:round; stroke-width:4; stroke-opacity:1; fill:none\" points=\"269.352,1261.32 288.25,1261.32 \"/>\n",
       "<polyline clip-path=\"url(#clip070)\" style=\"stroke:#000000; stroke-linecap:round; stroke-linejoin:round; stroke-width:4; stroke-opacity:1; fill:none\" points=\"269.352,999.605 288.25,999.605 \"/>\n",
       "<polyline clip-path=\"url(#clip070)\" style=\"stroke:#000000; stroke-linecap:round; stroke-linejoin:round; stroke-width:4; stroke-opacity:1; fill:none\" points=\"269.352,737.887 288.25,737.887 \"/>\n",
       "<polyline clip-path=\"url(#clip070)\" style=\"stroke:#000000; stroke-linecap:round; stroke-linejoin:round; stroke-width:4; stroke-opacity:1; fill:none\" points=\"269.352,476.169 288.25,476.169 \"/>\n",
       "<polyline clip-path=\"url(#clip070)\" style=\"stroke:#000000; stroke-linecap:round; stroke-linejoin:round; stroke-width:4; stroke-opacity:1; fill:none\" points=\"269.352,214.45 288.25,214.45 \"/>\n",
       "<path clip-path=\"url(#clip070)\" d=\"M50.9921 1261.78 L80.6679 1261.78 L80.6679 1265.71 L50.9921 1265.71 L50.9921 1261.78 Z\" fill=\"#000000\" fill-rule=\"nonzero\" fill-opacity=\"1\" /><path clip-path=\"url(#clip070)\" d=\"M104.927 1259.97 Q108.283 1260.69 110.158 1262.96 Q112.057 1265.22 112.057 1268.56 Q112.057 1273.67 108.538 1276.47 Q105.02 1279.27 98.5382 1279.27 Q96.3623 1279.27 94.0475 1278.84 Q91.7558 1278.42 89.3021 1277.56 L89.3021 1273.05 Q91.2465 1274.18 93.5613 1274.76 Q95.8761 1275.34 98.3993 1275.34 Q102.797 1275.34 105.089 1273.6 Q107.404 1271.87 107.404 1268.56 Q107.404 1265.5 105.251 1263.79 Q103.121 1262.05 99.3021 1262.05 L95.2743 1262.05 L95.2743 1258.21 L99.4872 1258.21 Q102.936 1258.21 104.765 1256.84 Q106.594 1255.46 106.594 1252.86 Q106.594 1250.2 104.696 1248.79 Q102.821 1247.35 99.3021 1247.35 Q97.3808 1247.35 95.1817 1247.77 Q92.9826 1248.19 90.3438 1249.07 L90.3438 1244.9 Q93.0058 1244.16 95.3206 1243.79 Q97.6585 1243.42 99.7187 1243.42 Q105.043 1243.42 108.145 1245.85 Q111.246 1248.26 111.246 1252.38 Q111.246 1255.25 109.603 1257.24 Q107.959 1259.21 104.927 1259.97 Z\" fill=\"#000000\" fill-rule=\"nonzero\" fill-opacity=\"1\" /><path clip-path=\"url(#clip070)\" d=\"M133.769 1248.12 L121.964 1266.57 L133.769 1266.57 L133.769 1248.12 M132.543 1244.04 L138.422 1244.04 L138.422 1266.57 L143.353 1266.57 L143.353 1270.46 L138.422 1270.46 L138.422 1278.6 L133.769 1278.6 L133.769 1270.46 L118.168 1270.46 L118.168 1265.94 L132.543 1244.04 Z\" fill=\"#000000\" fill-rule=\"nonzero\" fill-opacity=\"1\" /><path clip-path=\"url(#clip070)\" d=\"M161.084 1247.12 Q157.473 1247.12 155.644 1250.69 Q153.839 1254.23 153.839 1261.36 Q153.839 1268.46 155.644 1272.03 Q157.473 1275.57 161.084 1275.57 Q164.718 1275.57 166.524 1272.03 Q168.353 1268.46 168.353 1261.36 Q168.353 1254.23 166.524 1250.69 Q164.718 1247.12 161.084 1247.12 M161.084 1243.42 Q166.894 1243.42 169.95 1248.03 Q173.029 1252.61 173.029 1261.36 Q173.029 1270.09 169.95 1274.69 Q166.894 1279.27 161.084 1279.27 Q155.274 1279.27 152.195 1274.69 Q149.14 1270.09 149.14 1261.36 Q149.14 1252.61 152.195 1248.03 Q155.274 1243.42 161.084 1243.42 Z\" fill=\"#000000\" fill-rule=\"nonzero\" fill-opacity=\"1\" /><path clip-path=\"url(#clip070)\" d=\"M191.246 1247.12 Q187.635 1247.12 185.806 1250.69 Q184.001 1254.23 184.001 1261.36 Q184.001 1268.46 185.806 1272.03 Q187.635 1275.57 191.246 1275.57 Q194.88 1275.57 196.686 1272.03 Q198.514 1268.46 198.514 1261.36 Q198.514 1254.23 196.686 1250.69 Q194.88 1247.12 191.246 1247.12 M191.246 1243.42 Q197.056 1243.42 200.112 1248.03 Q203.19 1252.61 203.19 1261.36 Q203.19 1270.09 200.112 1274.69 Q197.056 1279.27 191.246 1279.27 Q185.436 1279.27 182.357 1274.69 Q179.302 1270.09 179.302 1261.36 Q179.302 1252.61 182.357 1248.03 Q185.436 1243.42 191.246 1243.42 Z\" fill=\"#000000\" fill-rule=\"nonzero\" fill-opacity=\"1\" /><path clip-path=\"url(#clip070)\" d=\"M221.408 1247.12 Q217.797 1247.12 215.968 1250.69 Q214.163 1254.23 214.163 1261.36 Q214.163 1268.46 215.968 1272.03 Q217.797 1275.57 221.408 1275.57 Q225.042 1275.57 226.848 1272.03 Q228.676 1268.46 228.676 1261.36 Q228.676 1254.23 226.848 1250.69 Q225.042 1247.12 221.408 1247.12 M221.408 1243.42 Q227.218 1243.42 230.274 1248.03 Q233.352 1252.61 233.352 1261.36 Q233.352 1270.09 230.274 1274.69 Q227.218 1279.27 221.408 1279.27 Q215.598 1279.27 212.519 1274.69 Q209.463 1270.09 209.463 1261.36 Q209.463 1252.61 212.519 1248.03 Q215.598 1243.42 221.408 1243.42 Z\" fill=\"#000000\" fill-rule=\"nonzero\" fill-opacity=\"1\" /><path clip-path=\"url(#clip070)\" d=\"M50.9921 1000.06 L80.6679 1000.06 L80.6679 1003.99 L50.9921 1003.99 L50.9921 1000.06 Z\" fill=\"#000000\" fill-rule=\"nonzero\" fill-opacity=\"1\" /><path clip-path=\"url(#clip070)\" d=\"M104.927 998.251 Q108.283 998.969 110.158 1001.24 Q112.057 1003.51 112.057 1006.84 Q112.057 1011.95 108.538 1014.76 Q105.02 1017.56 98.5382 1017.56 Q96.3623 1017.56 94.0475 1017.12 Q91.7558 1016.7 89.3021 1015.84 L89.3021 1011.33 Q91.2465 1012.46 93.5613 1013.04 Q95.8761 1013.62 98.3993 1013.62 Q102.797 1013.62 105.089 1011.89 Q107.404 1010.15 107.404 1006.84 Q107.404 1003.78 105.251 1002.07 Q103.121 1000.33 99.3021 1000.33 L95.2743 1000.33 L95.2743 996.492 L99.4872 996.492 Q102.936 996.492 104.765 995.126 Q106.594 993.737 106.594 991.145 Q106.594 988.483 104.696 987.071 Q102.821 985.636 99.3021 985.636 Q97.3808 985.636 95.1817 986.052 Q92.9826 986.469 90.3438 987.348 L90.3438 983.182 Q93.0058 982.441 95.3206 982.071 Q97.6585 981.7 99.7187 981.7 Q105.043 981.7 108.145 984.131 Q111.246 986.538 111.246 990.659 Q111.246 993.529 109.603 995.52 Q107.959 997.487 104.927 998.251 Z\" fill=\"#000000\" fill-rule=\"nonzero\" fill-opacity=\"1\" /><path clip-path=\"url(#clip070)\" d=\"M124.95 1012.95 L141.269 1012.95 L141.269 1016.89 L119.325 1016.89 L119.325 1012.95 Q121.987 1010.2 126.57 1005.57 Q131.177 1000.91 132.357 999.571 Q134.603 997.048 135.482 995.311 Q136.385 993.552 136.385 991.862 Q136.385 989.108 134.441 987.372 Q132.519 985.636 129.418 985.636 Q127.219 985.636 124.765 986.399 Q122.334 987.163 119.557 988.714 L119.557 983.992 Q122.381 982.858 124.834 982.279 Q127.288 981.7 129.325 981.7 Q134.695 981.7 137.89 984.386 Q141.084 987.071 141.084 991.561 Q141.084 993.691 140.274 995.612 Q139.487 997.51 137.381 1000.1 Q136.802 1000.77 133.7 1003.99 Q130.598 1007.19 124.95 1012.95 Z\" fill=\"#000000\" fill-rule=\"nonzero\" fill-opacity=\"1\" /><path clip-path=\"url(#clip070)\" d=\"M161.084 985.404 Q157.473 985.404 155.644 988.969 Q153.839 992.511 153.839 999.64 Q153.839 1006.75 155.644 1010.31 Q157.473 1013.85 161.084 1013.85 Q164.718 1013.85 166.524 1010.31 Q168.353 1006.75 168.353 999.64 Q168.353 992.511 166.524 988.969 Q164.718 985.404 161.084 985.404 M161.084 981.7 Q166.894 981.7 169.95 986.307 Q173.029 990.89 173.029 999.64 Q173.029 1008.37 169.95 1012.97 Q166.894 1017.56 161.084 1017.56 Q155.274 1017.56 152.195 1012.97 Q149.14 1008.37 149.14 999.64 Q149.14 990.89 152.195 986.307 Q155.274 981.7 161.084 981.7 Z\" fill=\"#000000\" fill-rule=\"nonzero\" fill-opacity=\"1\" /><path clip-path=\"url(#clip070)\" d=\"M191.246 985.404 Q187.635 985.404 185.806 988.969 Q184.001 992.511 184.001 999.64 Q184.001 1006.75 185.806 1010.31 Q187.635 1013.85 191.246 1013.85 Q194.88 1013.85 196.686 1010.31 Q198.514 1006.75 198.514 999.64 Q198.514 992.511 196.686 988.969 Q194.88 985.404 191.246 985.404 M191.246 981.7 Q197.056 981.7 200.112 986.307 Q203.19 990.89 203.19 999.64 Q203.19 1008.37 200.112 1012.97 Q197.056 1017.56 191.246 1017.56 Q185.436 1017.56 182.357 1012.97 Q179.302 1008.37 179.302 999.64 Q179.302 990.89 182.357 986.307 Q185.436 981.7 191.246 981.7 Z\" fill=\"#000000\" fill-rule=\"nonzero\" fill-opacity=\"1\" /><path clip-path=\"url(#clip070)\" d=\"M221.408 985.404 Q217.797 985.404 215.968 988.969 Q214.163 992.511 214.163 999.64 Q214.163 1006.75 215.968 1010.31 Q217.797 1013.85 221.408 1013.85 Q225.042 1013.85 226.848 1010.31 Q228.676 1006.75 228.676 999.64 Q228.676 992.511 226.848 988.969 Q225.042 985.404 221.408 985.404 M221.408 981.7 Q227.218 981.7 230.274 986.307 Q233.352 990.89 233.352 999.64 Q233.352 1008.37 230.274 1012.97 Q227.218 1017.56 221.408 1017.56 Q215.598 1017.56 212.519 1012.97 Q209.463 1008.37 209.463 999.64 Q209.463 990.89 212.519 986.307 Q215.598 981.7 221.408 981.7 Z\" fill=\"#000000\" fill-rule=\"nonzero\" fill-opacity=\"1\" /><path clip-path=\"url(#clip070)\" d=\"M50.9921 738.338 L80.6679 738.338 L80.6679 742.274 L50.9921 742.274 L50.9921 738.338 Z\" fill=\"#000000\" fill-rule=\"nonzero\" fill-opacity=\"1\" /><path clip-path=\"url(#clip070)\" d=\"M104.927 736.533 Q108.283 737.25 110.158 739.519 Q112.057 741.788 112.057 745.121 Q112.057 750.237 108.538 753.037 Q105.02 755.838 98.5382 755.838 Q96.3623 755.838 94.0475 755.399 Q91.7558 754.982 89.3021 754.125 L89.3021 749.612 Q91.2465 750.746 93.5613 751.324 Q95.8761 751.903 98.3993 751.903 Q102.797 751.903 105.089 750.167 Q107.404 748.431 107.404 745.121 Q107.404 742.065 105.251 740.352 Q103.121 738.616 99.3021 738.616 L95.2743 738.616 L95.2743 734.774 L99.4872 734.774 Q102.936 734.774 104.765 733.408 Q106.594 732.019 106.594 729.426 Q106.594 726.764 104.696 725.352 Q102.821 723.917 99.3021 723.917 Q97.3808 723.917 95.1817 724.334 Q92.9826 724.751 90.3438 725.63 L90.3438 721.464 Q93.0058 720.723 95.3206 720.352 Q97.6585 719.982 99.7187 719.982 Q105.043 719.982 108.145 722.413 Q111.246 724.82 111.246 728.94 Q111.246 731.811 109.603 733.801 Q107.959 735.769 104.927 736.533 Z\" fill=\"#000000\" fill-rule=\"nonzero\" fill-opacity=\"1\" /><path clip-path=\"url(#clip070)\" d=\"M130.922 723.686 Q127.311 723.686 125.482 727.251 Q123.677 730.792 123.677 737.922 Q123.677 745.028 125.482 748.593 Q127.311 752.135 130.922 752.135 Q134.556 752.135 136.362 748.593 Q138.191 745.028 138.191 737.922 Q138.191 730.792 136.362 727.251 Q134.556 723.686 130.922 723.686 M130.922 719.982 Q136.732 719.982 139.788 724.589 Q142.867 729.172 142.867 737.922 Q142.867 746.649 139.788 751.255 Q136.732 755.838 130.922 755.838 Q125.112 755.838 122.033 751.255 Q118.978 746.649 118.978 737.922 Q118.978 729.172 122.033 724.589 Q125.112 719.982 130.922 719.982 Z\" fill=\"#000000\" fill-rule=\"nonzero\" fill-opacity=\"1\" /><path clip-path=\"url(#clip070)\" d=\"M161.084 723.686 Q157.473 723.686 155.644 727.251 Q153.839 730.792 153.839 737.922 Q153.839 745.028 155.644 748.593 Q157.473 752.135 161.084 752.135 Q164.718 752.135 166.524 748.593 Q168.353 745.028 168.353 737.922 Q168.353 730.792 166.524 727.251 Q164.718 723.686 161.084 723.686 M161.084 719.982 Q166.894 719.982 169.95 724.589 Q173.029 729.172 173.029 737.922 Q173.029 746.649 169.95 751.255 Q166.894 755.838 161.084 755.838 Q155.274 755.838 152.195 751.255 Q149.14 746.649 149.14 737.922 Q149.14 729.172 152.195 724.589 Q155.274 719.982 161.084 719.982 Z\" fill=\"#000000\" fill-rule=\"nonzero\" fill-opacity=\"1\" /><path clip-path=\"url(#clip070)\" d=\"M191.246 723.686 Q187.635 723.686 185.806 727.251 Q184.001 730.792 184.001 737.922 Q184.001 745.028 185.806 748.593 Q187.635 752.135 191.246 752.135 Q194.88 752.135 196.686 748.593 Q198.514 745.028 198.514 737.922 Q198.514 730.792 196.686 727.251 Q194.88 723.686 191.246 723.686 M191.246 719.982 Q197.056 719.982 200.112 724.589 Q203.19 729.172 203.19 737.922 Q203.19 746.649 200.112 751.255 Q197.056 755.838 191.246 755.838 Q185.436 755.838 182.357 751.255 Q179.302 746.649 179.302 737.922 Q179.302 729.172 182.357 724.589 Q185.436 719.982 191.246 719.982 Z\" fill=\"#000000\" fill-rule=\"nonzero\" fill-opacity=\"1\" /><path clip-path=\"url(#clip070)\" d=\"M221.408 723.686 Q217.797 723.686 215.968 727.251 Q214.163 730.792 214.163 737.922 Q214.163 745.028 215.968 748.593 Q217.797 752.135 221.408 752.135 Q225.042 752.135 226.848 748.593 Q228.676 745.028 228.676 737.922 Q228.676 730.792 226.848 727.251 Q225.042 723.686 221.408 723.686 M221.408 719.982 Q227.218 719.982 230.274 724.589 Q233.352 729.172 233.352 737.922 Q233.352 746.649 230.274 751.255 Q227.218 755.838 221.408 755.838 Q215.598 755.838 212.519 751.255 Q209.463 746.649 209.463 737.922 Q209.463 729.172 212.519 724.589 Q215.598 719.982 221.408 719.982 Z\" fill=\"#000000\" fill-rule=\"nonzero\" fill-opacity=\"1\" /><path clip-path=\"url(#clip070)\" d=\"M50.9921 476.62 L80.6679 476.62 L80.6679 480.555 L50.9921 480.555 L50.9921 476.62 Z\" fill=\"#000000\" fill-rule=\"nonzero\" fill-opacity=\"1\" /><path clip-path=\"url(#clip070)\" d=\"M94.7882 489.514 L111.108 489.514 L111.108 493.449 L89.1632 493.449 L89.1632 489.514 Q91.8252 486.759 96.4085 482.129 Q101.015 477.477 102.196 476.134 Q104.441 473.611 105.321 471.875 Q106.223 470.116 106.223 468.426 Q106.223 465.671 104.279 463.935 Q102.358 462.199 99.2558 462.199 Q97.0567 462.199 94.603 462.963 Q92.1725 463.727 89.3947 465.278 L89.3947 460.555 Q92.2188 459.421 94.6724 458.842 Q97.1261 458.264 99.1632 458.264 Q104.534 458.264 107.728 460.949 Q110.922 463.634 110.922 468.125 Q110.922 470.254 110.112 472.176 Q109.325 474.074 107.219 476.666 Q106.64 477.338 103.538 480.555 Q100.436 483.75 94.7882 489.514 Z\" fill=\"#000000\" fill-rule=\"nonzero\" fill-opacity=\"1\" /><path clip-path=\"url(#clip070)\" d=\"M130.922 477.037 Q127.589 477.037 125.668 478.819 Q123.77 480.602 123.77 483.727 Q123.77 486.852 125.668 488.634 Q127.589 490.416 130.922 490.416 Q134.256 490.416 136.177 488.634 Q138.098 486.828 138.098 483.727 Q138.098 480.602 136.177 478.819 Q134.279 477.037 130.922 477.037 M126.246 475.046 Q123.237 474.305 121.547 472.245 Q119.881 470.185 119.881 467.222 Q119.881 463.079 122.82 460.671 Q125.783 458.264 130.922 458.264 Q136.084 458.264 139.024 460.671 Q141.964 463.079 141.964 467.222 Q141.964 470.185 140.274 472.245 Q138.607 474.305 135.621 475.046 Q139.001 475.833 140.876 478.125 Q142.774 480.416 142.774 483.727 Q142.774 488.75 139.695 491.435 Q136.64 494.12 130.922 494.12 Q125.205 494.12 122.126 491.435 Q119.07 488.75 119.07 483.727 Q119.07 480.416 120.969 478.125 Q122.867 475.833 126.246 475.046 M124.533 467.662 Q124.533 470.347 126.2 471.852 Q127.89 473.356 130.922 473.356 Q133.931 473.356 135.621 471.852 Q137.334 470.347 137.334 467.662 Q137.334 464.977 135.621 463.472 Q133.931 461.967 130.922 461.967 Q127.89 461.967 126.2 463.472 Q124.533 464.977 124.533 467.662 Z\" fill=\"#000000\" fill-rule=\"nonzero\" fill-opacity=\"1\" /><path clip-path=\"url(#clip070)\" d=\"M161.084 461.967 Q157.473 461.967 155.644 465.532 Q153.839 469.074 153.839 476.203 Q153.839 483.31 155.644 486.875 Q157.473 490.416 161.084 490.416 Q164.718 490.416 166.524 486.875 Q168.353 483.31 168.353 476.203 Q168.353 469.074 166.524 465.532 Q164.718 461.967 161.084 461.967 M161.084 458.264 Q166.894 458.264 169.95 462.87 Q173.029 467.454 173.029 476.203 Q173.029 484.93 169.95 489.537 Q166.894 494.12 161.084 494.12 Q155.274 494.12 152.195 489.537 Q149.14 484.93 149.14 476.203 Q149.14 467.454 152.195 462.87 Q155.274 458.264 161.084 458.264 Z\" fill=\"#000000\" fill-rule=\"nonzero\" fill-opacity=\"1\" /><path clip-path=\"url(#clip070)\" d=\"M191.246 461.967 Q187.635 461.967 185.806 465.532 Q184.001 469.074 184.001 476.203 Q184.001 483.31 185.806 486.875 Q187.635 490.416 191.246 490.416 Q194.88 490.416 196.686 486.875 Q198.514 483.31 198.514 476.203 Q198.514 469.074 196.686 465.532 Q194.88 461.967 191.246 461.967 M191.246 458.264 Q197.056 458.264 200.112 462.87 Q203.19 467.454 203.19 476.203 Q203.19 484.93 200.112 489.537 Q197.056 494.12 191.246 494.12 Q185.436 494.12 182.357 489.537 Q179.302 484.93 179.302 476.203 Q179.302 467.454 182.357 462.87 Q185.436 458.264 191.246 458.264 Z\" fill=\"#000000\" fill-rule=\"nonzero\" fill-opacity=\"1\" /><path clip-path=\"url(#clip070)\" d=\"M221.408 461.967 Q217.797 461.967 215.968 465.532 Q214.163 469.074 214.163 476.203 Q214.163 483.31 215.968 486.875 Q217.797 490.416 221.408 490.416 Q225.042 490.416 226.848 486.875 Q228.676 483.31 228.676 476.203 Q228.676 469.074 226.848 465.532 Q225.042 461.967 221.408 461.967 M221.408 458.264 Q227.218 458.264 230.274 462.87 Q233.352 467.454 233.352 476.203 Q233.352 484.93 230.274 489.537 Q227.218 494.12 221.408 494.12 Q215.598 494.12 212.519 489.537 Q209.463 484.93 209.463 476.203 Q209.463 467.454 212.519 462.87 Q215.598 458.264 221.408 458.264 Z\" fill=\"#000000\" fill-rule=\"nonzero\" fill-opacity=\"1\" /><path clip-path=\"url(#clip070)\" d=\"M50.9921 214.902 L80.6679 214.902 L80.6679 218.837 L50.9921 218.837 L50.9921 214.902 Z\" fill=\"#000000\" fill-rule=\"nonzero\" fill-opacity=\"1\" /><path clip-path=\"url(#clip070)\" d=\"M94.7882 227.795 L111.108 227.795 L111.108 231.73 L89.1632 231.73 L89.1632 227.795 Q91.8252 225.041 96.4085 220.411 Q101.015 215.758 102.196 214.416 Q104.441 211.893 105.321 210.156 Q106.223 208.397 106.223 206.707 Q106.223 203.953 104.279 202.217 Q102.358 200.481 99.2558 200.481 Q97.0567 200.481 94.603 201.244 Q92.1725 202.008 89.3947 203.559 L89.3947 198.837 Q92.2188 197.703 94.6724 197.124 Q97.1261 196.545 99.1632 196.545 Q104.534 196.545 107.728 199.231 Q110.922 201.916 110.922 206.406 Q110.922 208.536 110.112 210.457 Q109.325 212.356 107.219 214.948 Q106.64 215.619 103.538 218.837 Q100.436 222.031 94.7882 227.795 Z\" fill=\"#000000\" fill-rule=\"nonzero\" fill-opacity=\"1\" /><path clip-path=\"url(#clip070)\" d=\"M131.501 212.587 Q128.353 212.587 126.501 214.74 Q124.672 216.893 124.672 220.643 Q124.672 224.369 126.501 226.545 Q128.353 228.698 131.501 228.698 Q134.649 228.698 136.478 226.545 Q138.33 224.369 138.33 220.643 Q138.33 216.893 136.478 214.74 Q134.649 212.587 131.501 212.587 M140.783 197.934 L140.783 202.194 Q139.024 201.36 137.219 200.92 Q135.436 200.481 133.677 200.481 Q129.047 200.481 126.594 203.606 Q124.163 206.731 123.816 213.05 Q125.182 211.036 127.242 209.971 Q129.302 208.883 131.779 208.883 Q136.987 208.883 139.996 212.055 Q143.029 215.203 143.029 220.643 Q143.029 225.967 139.881 229.184 Q136.732 232.402 131.501 232.402 Q125.506 232.402 122.334 227.818 Q119.163 223.212 119.163 214.485 Q119.163 206.291 123.052 201.43 Q126.941 196.545 133.492 196.545 Q135.251 196.545 137.033 196.893 Q138.839 197.24 140.783 197.934 Z\" fill=\"#000000\" fill-rule=\"nonzero\" fill-opacity=\"1\" /><path clip-path=\"url(#clip070)\" d=\"M161.084 200.249 Q157.473 200.249 155.644 203.814 Q153.839 207.356 153.839 214.485 Q153.839 221.592 155.644 225.156 Q157.473 228.698 161.084 228.698 Q164.718 228.698 166.524 225.156 Q168.353 221.592 168.353 214.485 Q168.353 207.356 166.524 203.814 Q164.718 200.249 161.084 200.249 M161.084 196.545 Q166.894 196.545 169.95 201.152 Q173.029 205.735 173.029 214.485 Q173.029 223.212 169.95 227.818 Q166.894 232.402 161.084 232.402 Q155.274 232.402 152.195 227.818 Q149.14 223.212 149.14 214.485 Q149.14 205.735 152.195 201.152 Q155.274 196.545 161.084 196.545 Z\" fill=\"#000000\" fill-rule=\"nonzero\" fill-opacity=\"1\" /><path clip-path=\"url(#clip070)\" d=\"M191.246 200.249 Q187.635 200.249 185.806 203.814 Q184.001 207.356 184.001 214.485 Q184.001 221.592 185.806 225.156 Q187.635 228.698 191.246 228.698 Q194.88 228.698 196.686 225.156 Q198.514 221.592 198.514 214.485 Q198.514 207.356 196.686 203.814 Q194.88 200.249 191.246 200.249 M191.246 196.545 Q197.056 196.545 200.112 201.152 Q203.19 205.735 203.19 214.485 Q203.19 223.212 200.112 227.818 Q197.056 232.402 191.246 232.402 Q185.436 232.402 182.357 227.818 Q179.302 223.212 179.302 214.485 Q179.302 205.735 182.357 201.152 Q185.436 196.545 191.246 196.545 Z\" fill=\"#000000\" fill-rule=\"nonzero\" fill-opacity=\"1\" /><path clip-path=\"url(#clip070)\" d=\"M221.408 200.249 Q217.797 200.249 215.968 203.814 Q214.163 207.356 214.163 214.485 Q214.163 221.592 215.968 225.156 Q217.797 228.698 221.408 228.698 Q225.042 228.698 226.848 225.156 Q228.676 221.592 228.676 214.485 Q228.676 207.356 226.848 203.814 Q225.042 200.249 221.408 200.249 M221.408 196.545 Q227.218 196.545 230.274 201.152 Q233.352 205.735 233.352 214.485 Q233.352 223.212 230.274 227.818 Q227.218 232.402 221.408 232.402 Q215.598 232.402 212.519 227.818 Q209.463 223.212 209.463 214.485 Q209.463 205.735 212.519 201.152 Q215.598 196.545 221.408 196.545 Z\" fill=\"#000000\" fill-rule=\"nonzero\" fill-opacity=\"1\" /><polyline clip-path=\"url(#clip072)\" style=\"stroke:#009af9; stroke-linecap:round; stroke-linejoin:round; stroke-width:4; stroke-opacity:1; fill:none\" points=\"328.317,1445.72 459.348,862.772 590.38,355.115 721.412,87.9763 852.443,91.9132 983.475,164.626 1114.51,170.913 1245.54,171.603 1376.57,171.684 1507.6,171.693 1638.63,171.695 1769.66,171.695 1900.7,171.695 2031.73,171.695 2162.76,171.695 2293.79,171.695 \"/>\n",
       "<path clip-path=\"url(#clip070)\" d=\"M2022.54 1438.47 L2283.31 1438.47 L2283.31 1334.79 L2022.54 1334.79  Z\" fill=\"#ffffff\" fill-rule=\"evenodd\" fill-opacity=\"1\"/>\n",
       "<polyline clip-path=\"url(#clip070)\" style=\"stroke:#000000; stroke-linecap:round; stroke-linejoin:round; stroke-width:4; stroke-opacity:1; fill:none\" points=\"2022.54,1438.47 2283.31,1438.47 2283.31,1334.79 2022.54,1334.79 2022.54,1438.47 \"/>\n",
       "<polyline clip-path=\"url(#clip070)\" style=\"stroke:#009af9; stroke-linecap:round; stroke-linejoin:round; stroke-width:4; stroke-opacity:1; fill:none\" points=\"2045.69,1386.63 2184.58,1386.63 \"/>\n",
       "<path clip-path=\"url(#clip070)\" d=\"M2221.57 1406.32 Q2219.77 1410.95 2218.05 1412.36 Q2216.34 1413.78 2213.47 1413.78 L2210.07 1413.78 L2210.07 1410.21 L2212.57 1410.21 Q2214.33 1410.21 2215.3 1409.38 Q2216.27 1408.54 2217.45 1405.44 L2218.22 1403.5 L2207.73 1377.99 L2212.24 1377.99 L2220.35 1398.27 L2228.45 1377.99 L2232.96 1377.99 L2221.57 1406.32 Z\" fill=\"#000000\" fill-rule=\"nonzero\" fill-opacity=\"1\" /><path clip-path=\"url(#clip070)\" d=\"M2240.25 1399.98 L2247.89 1399.98 L2247.89 1373.61 L2239.58 1375.28 L2239.58 1371.02 L2247.85 1369.35 L2252.52 1369.35 L2252.52 1399.98 L2260.16 1399.98 L2260.16 1403.91 L2240.25 1403.91 L2240.25 1399.98 Z\" fill=\"#000000\" fill-rule=\"nonzero\" fill-opacity=\"1\" /></svg>\n"
      ],
      "text/html": [
       "<?xml version=\"1.0\" encoding=\"utf-8\"?>\n",
       "<svg xmlns=\"http://www.w3.org/2000/svg\" xmlns:xlink=\"http://www.w3.org/1999/xlink\" width=\"600\" height=\"400\" viewBox=\"0 0 2400 1600\">\n",
       "<defs>\n",
       "  <clipPath id=\"clip120\">\n",
       "    <rect x=\"0\" y=\"0\" width=\"2400\" height=\"1600\"/>\n",
       "  </clipPath>\n",
       "</defs>\n",
       "<path clip-path=\"url(#clip120)\" d=\"M0 1600 L2400 1600 L2400 0 L0 0  Z\" fill=\"#ffffff\" fill-rule=\"evenodd\" fill-opacity=\"1\"/>\n",
       "<defs>\n",
       "  <clipPath id=\"clip121\">\n",
       "    <rect x=\"480\" y=\"0\" width=\"1681\" height=\"1600\"/>\n",
       "  </clipPath>\n",
       "</defs>\n",
       "<path clip-path=\"url(#clip120)\" d=\"M269.352 1486.45 L2352.76 1486.45 L2352.76 47.2441 L269.352 47.2441  Z\" fill=\"#ffffff\" fill-rule=\"evenodd\" fill-opacity=\"1\"/>\n",
       "<defs>\n",
       "  <clipPath id=\"clip122\">\n",
       "    <rect x=\"269\" y=\"47\" width=\"2084\" height=\"1440\"/>\n",
       "  </clipPath>\n",
       "</defs>\n",
       "<polyline clip-path=\"url(#clip122)\" style=\"stroke:#000000; stroke-linecap:round; stroke-linejoin:round; stroke-width:2; stroke-opacity:0.1; fill:none\" points=\"590.38,1486.45 590.38,47.2441 \"/>\n",
       "<polyline clip-path=\"url(#clip122)\" style=\"stroke:#000000; stroke-linecap:round; stroke-linejoin:round; stroke-width:2; stroke-opacity:0.1; fill:none\" points=\"983.475,1486.45 983.475,47.2441 \"/>\n",
       "<polyline clip-path=\"url(#clip122)\" style=\"stroke:#000000; stroke-linecap:round; stroke-linejoin:round; stroke-width:2; stroke-opacity:0.1; fill:none\" points=\"1376.57,1486.45 1376.57,47.2441 \"/>\n",
       "<polyline clip-path=\"url(#clip122)\" style=\"stroke:#000000; stroke-linecap:round; stroke-linejoin:round; stroke-width:2; stroke-opacity:0.1; fill:none\" points=\"1769.66,1486.45 1769.66,47.2441 \"/>\n",
       "<polyline clip-path=\"url(#clip122)\" style=\"stroke:#000000; stroke-linecap:round; stroke-linejoin:round; stroke-width:2; stroke-opacity:0.1; fill:none\" points=\"2162.76,1486.45 2162.76,47.2441 \"/>\n",
       "<polyline clip-path=\"url(#clip120)\" style=\"stroke:#000000; stroke-linecap:round; stroke-linejoin:round; stroke-width:4; stroke-opacity:1; fill:none\" points=\"269.352,1486.45 2352.76,1486.45 \"/>\n",
       "<polyline clip-path=\"url(#clip120)\" style=\"stroke:#000000; stroke-linecap:round; stroke-linejoin:round; stroke-width:4; stroke-opacity:1; fill:none\" points=\"590.38,1486.45 590.38,1467.55 \"/>\n",
       "<polyline clip-path=\"url(#clip120)\" style=\"stroke:#000000; stroke-linecap:round; stroke-linejoin:round; stroke-width:4; stroke-opacity:1; fill:none\" points=\"983.475,1486.45 983.475,1467.55 \"/>\n",
       "<polyline clip-path=\"url(#clip120)\" style=\"stroke:#000000; stroke-linecap:round; stroke-linejoin:round; stroke-width:4; stroke-opacity:1; fill:none\" points=\"1376.57,1486.45 1376.57,1467.55 \"/>\n",
       "<polyline clip-path=\"url(#clip120)\" style=\"stroke:#000000; stroke-linecap:round; stroke-linejoin:round; stroke-width:4; stroke-opacity:1; fill:none\" points=\"1769.66,1486.45 1769.66,1467.55 \"/>\n",
       "<polyline clip-path=\"url(#clip120)\" style=\"stroke:#000000; stroke-linecap:round; stroke-linejoin:round; stroke-width:4; stroke-opacity:1; fill:none\" points=\"2162.76,1486.45 2162.76,1467.55 \"/>\n",
       "<path clip-path=\"url(#clip120)\" d=\"M594.628 1530.21 Q597.984 1530.93 599.859 1533.2 Q601.757 1535.47 601.757 1538.8 Q601.757 1543.92 598.239 1546.72 Q594.72 1549.52 588.239 1549.52 Q586.063 1549.52 583.748 1549.08 Q581.456 1548.66 579.003 1547.81 L579.003 1543.29 Q580.947 1544.43 583.262 1545.01 Q585.577 1545.58 588.1 1545.58 Q592.498 1545.58 594.79 1543.85 Q597.104 1542.11 597.104 1538.8 Q597.104 1535.75 594.952 1534.03 Q592.822 1532.3 589.003 1532.3 L584.975 1532.3 L584.975 1528.45 L589.188 1528.45 Q592.637 1528.45 594.465 1527.09 Q596.294 1525.7 596.294 1523.11 Q596.294 1520.45 594.396 1519.03 Q592.521 1517.6 589.003 1517.6 Q587.081 1517.6 584.882 1518.01 Q582.683 1518.43 580.044 1519.31 L580.044 1515.14 Q582.706 1514.4 585.021 1514.03 Q587.359 1513.66 589.419 1513.66 Q594.743 1513.66 597.845 1516.09 Q600.947 1518.5 600.947 1522.62 Q600.947 1525.49 599.303 1527.48 Q597.66 1529.45 594.628 1530.21 Z\" fill=\"#000000\" fill-rule=\"nonzero\" fill-opacity=\"1\" /><path clip-path=\"url(#clip120)\" d=\"M983.88 1529.7 Q980.732 1529.7 978.88 1531.86 Q977.051 1534.01 977.051 1537.76 Q977.051 1541.49 978.88 1543.66 Q980.732 1545.82 983.88 1545.82 Q987.028 1545.82 988.857 1543.66 Q990.709 1541.49 990.709 1537.76 Q990.709 1534.01 988.857 1531.86 Q987.028 1529.7 983.88 1529.7 M993.162 1515.05 L993.162 1519.31 Q991.403 1518.48 989.598 1518.04 Q987.815 1517.6 986.056 1517.6 Q981.426 1517.6 978.973 1520.72 Q976.542 1523.85 976.195 1530.17 Q977.561 1528.15 979.621 1527.09 Q981.681 1526 984.158 1526 Q989.366 1526 992.375 1529.17 Q995.408 1532.32 995.408 1537.76 Q995.408 1543.08 992.26 1546.3 Q989.111 1549.52 983.88 1549.52 Q977.885 1549.52 974.713 1544.94 Q971.542 1540.33 971.542 1531.6 Q971.542 1523.41 975.431 1518.55 Q979.32 1513.66 985.871 1513.66 Q987.63 1513.66 989.412 1514.01 Q991.218 1514.36 993.162 1515.05 Z\" fill=\"#000000\" fill-rule=\"nonzero\" fill-opacity=\"1\" /><path clip-path=\"url(#clip120)\" d=\"M1366.87 1548.13 L1366.87 1543.87 Q1368.63 1544.7 1370.44 1545.14 Q1372.24 1545.58 1373.98 1545.58 Q1378.61 1545.58 1381.04 1542.48 Q1383.49 1539.36 1383.84 1533.01 Q1382.5 1535.01 1380.44 1536.07 Q1378.38 1537.13 1375.88 1537.13 Q1370.69 1537.13 1367.66 1534.01 Q1364.65 1530.86 1364.65 1525.42 Q1364.65 1520.1 1367.8 1516.88 Q1370.94 1513.66 1376.18 1513.66 Q1382.17 1513.66 1385.32 1518.27 Q1388.49 1522.85 1388.49 1531.6 Q1388.49 1539.77 1384.6 1544.66 Q1380.74 1549.52 1374.19 1549.52 Q1372.43 1549.52 1370.62 1549.17 Q1368.82 1548.82 1366.87 1548.13 M1376.18 1533.48 Q1379.32 1533.48 1381.15 1531.32 Q1383.01 1529.17 1383.01 1525.42 Q1383.01 1521.7 1381.15 1519.54 Q1379.32 1517.37 1376.18 1517.37 Q1373.03 1517.37 1371.18 1519.54 Q1369.35 1521.7 1369.35 1525.42 Q1369.35 1529.17 1371.18 1531.32 Q1373.03 1533.48 1376.18 1533.48 Z\" fill=\"#000000\" fill-rule=\"nonzero\" fill-opacity=\"1\" /><path clip-path=\"url(#clip120)\" d=\"M1745.15 1544.91 L1752.79 1544.91 L1752.79 1518.55 L1744.48 1520.21 L1744.48 1515.95 L1752.74 1514.29 L1757.42 1514.29 L1757.42 1544.91 L1765.06 1544.91 L1765.06 1548.85 L1745.15 1548.85 L1745.15 1544.91 Z\" fill=\"#000000\" fill-rule=\"nonzero\" fill-opacity=\"1\" /><path clip-path=\"url(#clip120)\" d=\"M1778.53 1544.91 L1794.85 1544.91 L1794.85 1548.85 L1772.91 1548.85 L1772.91 1544.91 Q1775.57 1542.16 1780.15 1537.53 Q1784.76 1532.88 1785.94 1531.53 Q1788.18 1529.01 1789.06 1527.27 Q1789.97 1525.51 1789.97 1523.82 Q1789.97 1521.07 1788.02 1519.33 Q1786.1 1517.6 1783 1517.6 Q1780.8 1517.6 1778.35 1518.36 Q1775.91 1519.13 1773.14 1520.68 L1773.14 1515.95 Q1775.96 1514.82 1778.41 1514.24 Q1780.87 1513.66 1782.91 1513.66 Q1788.28 1513.66 1791.47 1516.35 Q1794.66 1519.03 1794.66 1523.52 Q1794.66 1525.65 1793.85 1527.57 Q1793.07 1529.47 1790.96 1532.07 Q1790.38 1532.74 1787.28 1535.95 Q1784.18 1539.15 1778.53 1544.91 Z\" fill=\"#000000\" fill-rule=\"nonzero\" fill-opacity=\"1\" /><path clip-path=\"url(#clip120)\" d=\"M2137.95 1544.91 L2145.58 1544.91 L2145.58 1518.55 L2137.27 1520.21 L2137.27 1515.95 L2145.54 1514.29 L2150.21 1514.29 L2150.21 1544.91 L2157.85 1544.91 L2157.85 1548.85 L2137.95 1548.85 L2137.95 1544.91 Z\" fill=\"#000000\" fill-rule=\"nonzero\" fill-opacity=\"1\" /><path clip-path=\"url(#clip120)\" d=\"M2167.34 1514.29 L2185.7 1514.29 L2185.7 1518.22 L2171.63 1518.22 L2171.63 1526.7 Q2172.64 1526.35 2173.66 1526.19 Q2174.68 1526 2175.7 1526 Q2181.49 1526 2184.87 1529.17 Q2188.25 1532.34 2188.25 1537.76 Q2188.25 1543.34 2184.77 1546.44 Q2181.3 1549.52 2174.98 1549.52 Q2172.81 1549.52 2170.54 1549.15 Q2168.29 1548.78 2165.88 1548.04 L2165.88 1543.34 Q2167.97 1544.47 2170.19 1545.03 Q2172.41 1545.58 2174.89 1545.58 Q2178.89 1545.58 2181.23 1543.48 Q2183.57 1541.37 2183.57 1537.76 Q2183.57 1534.15 2181.23 1532.04 Q2178.89 1529.94 2174.89 1529.94 Q2173.01 1529.94 2171.14 1530.35 Q2169.29 1530.77 2167.34 1531.65 L2167.34 1514.29 Z\" fill=\"#000000\" fill-rule=\"nonzero\" fill-opacity=\"1\" /><polyline clip-path=\"url(#clip122)\" style=\"stroke:#000000; stroke-linecap:round; stroke-linejoin:round; stroke-width:2; stroke-opacity:0.1; fill:none\" points=\"269.352,1261.32 2352.76,1261.32 \"/>\n",
       "<polyline clip-path=\"url(#clip122)\" style=\"stroke:#000000; stroke-linecap:round; stroke-linejoin:round; stroke-width:2; stroke-opacity:0.1; fill:none\" points=\"269.352,999.605 2352.76,999.605 \"/>\n",
       "<polyline clip-path=\"url(#clip122)\" style=\"stroke:#000000; stroke-linecap:round; stroke-linejoin:round; stroke-width:2; stroke-opacity:0.1; fill:none\" points=\"269.352,737.887 2352.76,737.887 \"/>\n",
       "<polyline clip-path=\"url(#clip122)\" style=\"stroke:#000000; stroke-linecap:round; stroke-linejoin:round; stroke-width:2; stroke-opacity:0.1; fill:none\" points=\"269.352,476.169 2352.76,476.169 \"/>\n",
       "<polyline clip-path=\"url(#clip122)\" style=\"stroke:#000000; stroke-linecap:round; stroke-linejoin:round; stroke-width:2; stroke-opacity:0.1; fill:none\" points=\"269.352,214.45 2352.76,214.45 \"/>\n",
       "<polyline clip-path=\"url(#clip120)\" style=\"stroke:#000000; stroke-linecap:round; stroke-linejoin:round; stroke-width:4; stroke-opacity:1; fill:none\" points=\"269.352,1486.45 269.352,47.2441 \"/>\n",
       "<polyline clip-path=\"url(#clip120)\" style=\"stroke:#000000; stroke-linecap:round; stroke-linejoin:round; stroke-width:4; stroke-opacity:1; fill:none\" points=\"269.352,1261.32 288.25,1261.32 \"/>\n",
       "<polyline clip-path=\"url(#clip120)\" style=\"stroke:#000000; stroke-linecap:round; stroke-linejoin:round; stroke-width:4; stroke-opacity:1; fill:none\" points=\"269.352,999.605 288.25,999.605 \"/>\n",
       "<polyline clip-path=\"url(#clip120)\" style=\"stroke:#000000; stroke-linecap:round; stroke-linejoin:round; stroke-width:4; stroke-opacity:1; fill:none\" points=\"269.352,737.887 288.25,737.887 \"/>\n",
       "<polyline clip-path=\"url(#clip120)\" style=\"stroke:#000000; stroke-linecap:round; stroke-linejoin:round; stroke-width:4; stroke-opacity:1; fill:none\" points=\"269.352,476.169 288.25,476.169 \"/>\n",
       "<polyline clip-path=\"url(#clip120)\" style=\"stroke:#000000; stroke-linecap:round; stroke-linejoin:round; stroke-width:4; stroke-opacity:1; fill:none\" points=\"269.352,214.45 288.25,214.45 \"/>\n",
       "<path clip-path=\"url(#clip120)\" d=\"M50.9921 1261.78 L80.6679 1261.78 L80.6679 1265.71 L50.9921 1265.71 L50.9921 1261.78 Z\" fill=\"#000000\" fill-rule=\"nonzero\" fill-opacity=\"1\" /><path clip-path=\"url(#clip120)\" d=\"M104.927 1259.97 Q108.283 1260.69 110.158 1262.96 Q112.057 1265.22 112.057 1268.56 Q112.057 1273.67 108.538 1276.47 Q105.02 1279.27 98.5382 1279.27 Q96.3623 1279.27 94.0475 1278.84 Q91.7558 1278.42 89.3021 1277.56 L89.3021 1273.05 Q91.2465 1274.18 93.5613 1274.76 Q95.8761 1275.34 98.3993 1275.34 Q102.797 1275.34 105.089 1273.6 Q107.404 1271.87 107.404 1268.56 Q107.404 1265.5 105.251 1263.79 Q103.121 1262.05 99.3021 1262.05 L95.2743 1262.05 L95.2743 1258.21 L99.4872 1258.21 Q102.936 1258.21 104.765 1256.84 Q106.594 1255.46 106.594 1252.86 Q106.594 1250.2 104.696 1248.79 Q102.821 1247.35 99.3021 1247.35 Q97.3808 1247.35 95.1817 1247.77 Q92.9826 1248.19 90.3438 1249.07 L90.3438 1244.9 Q93.0058 1244.16 95.3206 1243.79 Q97.6585 1243.42 99.7187 1243.42 Q105.043 1243.42 108.145 1245.85 Q111.246 1248.26 111.246 1252.38 Q111.246 1255.25 109.603 1257.24 Q107.959 1259.21 104.927 1259.97 Z\" fill=\"#000000\" fill-rule=\"nonzero\" fill-opacity=\"1\" /><path clip-path=\"url(#clip120)\" d=\"M133.769 1248.12 L121.964 1266.57 L133.769 1266.57 L133.769 1248.12 M132.543 1244.04 L138.422 1244.04 L138.422 1266.57 L143.353 1266.57 L143.353 1270.46 L138.422 1270.46 L138.422 1278.6 L133.769 1278.6 L133.769 1270.46 L118.168 1270.46 L118.168 1265.94 L132.543 1244.04 Z\" fill=\"#000000\" fill-rule=\"nonzero\" fill-opacity=\"1\" /><path clip-path=\"url(#clip120)\" d=\"M161.084 1247.12 Q157.473 1247.12 155.644 1250.69 Q153.839 1254.23 153.839 1261.36 Q153.839 1268.46 155.644 1272.03 Q157.473 1275.57 161.084 1275.57 Q164.718 1275.57 166.524 1272.03 Q168.353 1268.46 168.353 1261.36 Q168.353 1254.23 166.524 1250.69 Q164.718 1247.12 161.084 1247.12 M161.084 1243.42 Q166.894 1243.42 169.95 1248.03 Q173.029 1252.61 173.029 1261.36 Q173.029 1270.09 169.95 1274.69 Q166.894 1279.27 161.084 1279.27 Q155.274 1279.27 152.195 1274.69 Q149.14 1270.09 149.14 1261.36 Q149.14 1252.61 152.195 1248.03 Q155.274 1243.42 161.084 1243.42 Z\" fill=\"#000000\" fill-rule=\"nonzero\" fill-opacity=\"1\" /><path clip-path=\"url(#clip120)\" d=\"M191.246 1247.12 Q187.635 1247.12 185.806 1250.69 Q184.001 1254.23 184.001 1261.36 Q184.001 1268.46 185.806 1272.03 Q187.635 1275.57 191.246 1275.57 Q194.88 1275.57 196.686 1272.03 Q198.514 1268.46 198.514 1261.36 Q198.514 1254.23 196.686 1250.69 Q194.88 1247.12 191.246 1247.12 M191.246 1243.42 Q197.056 1243.42 200.112 1248.03 Q203.19 1252.61 203.19 1261.36 Q203.19 1270.09 200.112 1274.69 Q197.056 1279.27 191.246 1279.27 Q185.436 1279.27 182.357 1274.69 Q179.302 1270.09 179.302 1261.36 Q179.302 1252.61 182.357 1248.03 Q185.436 1243.42 191.246 1243.42 Z\" fill=\"#000000\" fill-rule=\"nonzero\" fill-opacity=\"1\" /><path clip-path=\"url(#clip120)\" d=\"M221.408 1247.12 Q217.797 1247.12 215.968 1250.69 Q214.163 1254.23 214.163 1261.36 Q214.163 1268.46 215.968 1272.03 Q217.797 1275.57 221.408 1275.57 Q225.042 1275.57 226.848 1272.03 Q228.676 1268.46 228.676 1261.36 Q228.676 1254.23 226.848 1250.69 Q225.042 1247.12 221.408 1247.12 M221.408 1243.42 Q227.218 1243.42 230.274 1248.03 Q233.352 1252.61 233.352 1261.36 Q233.352 1270.09 230.274 1274.69 Q227.218 1279.27 221.408 1279.27 Q215.598 1279.27 212.519 1274.69 Q209.463 1270.09 209.463 1261.36 Q209.463 1252.61 212.519 1248.03 Q215.598 1243.42 221.408 1243.42 Z\" fill=\"#000000\" fill-rule=\"nonzero\" fill-opacity=\"1\" /><path clip-path=\"url(#clip120)\" d=\"M50.9921 1000.06 L80.6679 1000.06 L80.6679 1003.99 L50.9921 1003.99 L50.9921 1000.06 Z\" fill=\"#000000\" fill-rule=\"nonzero\" fill-opacity=\"1\" /><path clip-path=\"url(#clip120)\" d=\"M104.927 998.251 Q108.283 998.969 110.158 1001.24 Q112.057 1003.51 112.057 1006.84 Q112.057 1011.95 108.538 1014.76 Q105.02 1017.56 98.5382 1017.56 Q96.3623 1017.56 94.0475 1017.12 Q91.7558 1016.7 89.3021 1015.84 L89.3021 1011.33 Q91.2465 1012.46 93.5613 1013.04 Q95.8761 1013.62 98.3993 1013.62 Q102.797 1013.62 105.089 1011.89 Q107.404 1010.15 107.404 1006.84 Q107.404 1003.78 105.251 1002.07 Q103.121 1000.33 99.3021 1000.33 L95.2743 1000.33 L95.2743 996.492 L99.4872 996.492 Q102.936 996.492 104.765 995.126 Q106.594 993.737 106.594 991.145 Q106.594 988.483 104.696 987.071 Q102.821 985.636 99.3021 985.636 Q97.3808 985.636 95.1817 986.052 Q92.9826 986.469 90.3438 987.348 L90.3438 983.182 Q93.0058 982.441 95.3206 982.071 Q97.6585 981.7 99.7187 981.7 Q105.043 981.7 108.145 984.131 Q111.246 986.538 111.246 990.659 Q111.246 993.529 109.603 995.52 Q107.959 997.487 104.927 998.251 Z\" fill=\"#000000\" fill-rule=\"nonzero\" fill-opacity=\"1\" /><path clip-path=\"url(#clip120)\" d=\"M124.95 1012.95 L141.269 1012.95 L141.269 1016.89 L119.325 1016.89 L119.325 1012.95 Q121.987 1010.2 126.57 1005.57 Q131.177 1000.91 132.357 999.571 Q134.603 997.048 135.482 995.311 Q136.385 993.552 136.385 991.862 Q136.385 989.108 134.441 987.372 Q132.519 985.636 129.418 985.636 Q127.219 985.636 124.765 986.399 Q122.334 987.163 119.557 988.714 L119.557 983.992 Q122.381 982.858 124.834 982.279 Q127.288 981.7 129.325 981.7 Q134.695 981.7 137.89 984.386 Q141.084 987.071 141.084 991.561 Q141.084 993.691 140.274 995.612 Q139.487 997.51 137.381 1000.1 Q136.802 1000.77 133.7 1003.99 Q130.598 1007.19 124.95 1012.95 Z\" fill=\"#000000\" fill-rule=\"nonzero\" fill-opacity=\"1\" /><path clip-path=\"url(#clip120)\" d=\"M161.084 985.404 Q157.473 985.404 155.644 988.969 Q153.839 992.511 153.839 999.64 Q153.839 1006.75 155.644 1010.31 Q157.473 1013.85 161.084 1013.85 Q164.718 1013.85 166.524 1010.31 Q168.353 1006.75 168.353 999.64 Q168.353 992.511 166.524 988.969 Q164.718 985.404 161.084 985.404 M161.084 981.7 Q166.894 981.7 169.95 986.307 Q173.029 990.89 173.029 999.64 Q173.029 1008.37 169.95 1012.97 Q166.894 1017.56 161.084 1017.56 Q155.274 1017.56 152.195 1012.97 Q149.14 1008.37 149.14 999.64 Q149.14 990.89 152.195 986.307 Q155.274 981.7 161.084 981.7 Z\" fill=\"#000000\" fill-rule=\"nonzero\" fill-opacity=\"1\" /><path clip-path=\"url(#clip120)\" d=\"M191.246 985.404 Q187.635 985.404 185.806 988.969 Q184.001 992.511 184.001 999.64 Q184.001 1006.75 185.806 1010.31 Q187.635 1013.85 191.246 1013.85 Q194.88 1013.85 196.686 1010.31 Q198.514 1006.75 198.514 999.64 Q198.514 992.511 196.686 988.969 Q194.88 985.404 191.246 985.404 M191.246 981.7 Q197.056 981.7 200.112 986.307 Q203.19 990.89 203.19 999.64 Q203.19 1008.37 200.112 1012.97 Q197.056 1017.56 191.246 1017.56 Q185.436 1017.56 182.357 1012.97 Q179.302 1008.37 179.302 999.64 Q179.302 990.89 182.357 986.307 Q185.436 981.7 191.246 981.7 Z\" fill=\"#000000\" fill-rule=\"nonzero\" fill-opacity=\"1\" /><path clip-path=\"url(#clip120)\" d=\"M221.408 985.404 Q217.797 985.404 215.968 988.969 Q214.163 992.511 214.163 999.64 Q214.163 1006.75 215.968 1010.31 Q217.797 1013.85 221.408 1013.85 Q225.042 1013.85 226.848 1010.31 Q228.676 1006.75 228.676 999.64 Q228.676 992.511 226.848 988.969 Q225.042 985.404 221.408 985.404 M221.408 981.7 Q227.218 981.7 230.274 986.307 Q233.352 990.89 233.352 999.64 Q233.352 1008.37 230.274 1012.97 Q227.218 1017.56 221.408 1017.56 Q215.598 1017.56 212.519 1012.97 Q209.463 1008.37 209.463 999.64 Q209.463 990.89 212.519 986.307 Q215.598 981.7 221.408 981.7 Z\" fill=\"#000000\" fill-rule=\"nonzero\" fill-opacity=\"1\" /><path clip-path=\"url(#clip120)\" d=\"M50.9921 738.338 L80.6679 738.338 L80.6679 742.274 L50.9921 742.274 L50.9921 738.338 Z\" fill=\"#000000\" fill-rule=\"nonzero\" fill-opacity=\"1\" /><path clip-path=\"url(#clip120)\" d=\"M104.927 736.533 Q108.283 737.25 110.158 739.519 Q112.057 741.788 112.057 745.121 Q112.057 750.237 108.538 753.037 Q105.02 755.838 98.5382 755.838 Q96.3623 755.838 94.0475 755.399 Q91.7558 754.982 89.3021 754.125 L89.3021 749.612 Q91.2465 750.746 93.5613 751.324 Q95.8761 751.903 98.3993 751.903 Q102.797 751.903 105.089 750.167 Q107.404 748.431 107.404 745.121 Q107.404 742.065 105.251 740.352 Q103.121 738.616 99.3021 738.616 L95.2743 738.616 L95.2743 734.774 L99.4872 734.774 Q102.936 734.774 104.765 733.408 Q106.594 732.019 106.594 729.426 Q106.594 726.764 104.696 725.352 Q102.821 723.917 99.3021 723.917 Q97.3808 723.917 95.1817 724.334 Q92.9826 724.751 90.3438 725.63 L90.3438 721.464 Q93.0058 720.723 95.3206 720.352 Q97.6585 719.982 99.7187 719.982 Q105.043 719.982 108.145 722.413 Q111.246 724.82 111.246 728.94 Q111.246 731.811 109.603 733.801 Q107.959 735.769 104.927 736.533 Z\" fill=\"#000000\" fill-rule=\"nonzero\" fill-opacity=\"1\" /><path clip-path=\"url(#clip120)\" d=\"M130.922 723.686 Q127.311 723.686 125.482 727.251 Q123.677 730.792 123.677 737.922 Q123.677 745.028 125.482 748.593 Q127.311 752.135 130.922 752.135 Q134.556 752.135 136.362 748.593 Q138.191 745.028 138.191 737.922 Q138.191 730.792 136.362 727.251 Q134.556 723.686 130.922 723.686 M130.922 719.982 Q136.732 719.982 139.788 724.589 Q142.867 729.172 142.867 737.922 Q142.867 746.649 139.788 751.255 Q136.732 755.838 130.922 755.838 Q125.112 755.838 122.033 751.255 Q118.978 746.649 118.978 737.922 Q118.978 729.172 122.033 724.589 Q125.112 719.982 130.922 719.982 Z\" fill=\"#000000\" fill-rule=\"nonzero\" fill-opacity=\"1\" /><path clip-path=\"url(#clip120)\" d=\"M161.084 723.686 Q157.473 723.686 155.644 727.251 Q153.839 730.792 153.839 737.922 Q153.839 745.028 155.644 748.593 Q157.473 752.135 161.084 752.135 Q164.718 752.135 166.524 748.593 Q168.353 745.028 168.353 737.922 Q168.353 730.792 166.524 727.251 Q164.718 723.686 161.084 723.686 M161.084 719.982 Q166.894 719.982 169.95 724.589 Q173.029 729.172 173.029 737.922 Q173.029 746.649 169.95 751.255 Q166.894 755.838 161.084 755.838 Q155.274 755.838 152.195 751.255 Q149.14 746.649 149.14 737.922 Q149.14 729.172 152.195 724.589 Q155.274 719.982 161.084 719.982 Z\" fill=\"#000000\" fill-rule=\"nonzero\" fill-opacity=\"1\" /><path clip-path=\"url(#clip120)\" d=\"M191.246 723.686 Q187.635 723.686 185.806 727.251 Q184.001 730.792 184.001 737.922 Q184.001 745.028 185.806 748.593 Q187.635 752.135 191.246 752.135 Q194.88 752.135 196.686 748.593 Q198.514 745.028 198.514 737.922 Q198.514 730.792 196.686 727.251 Q194.88 723.686 191.246 723.686 M191.246 719.982 Q197.056 719.982 200.112 724.589 Q203.19 729.172 203.19 737.922 Q203.19 746.649 200.112 751.255 Q197.056 755.838 191.246 755.838 Q185.436 755.838 182.357 751.255 Q179.302 746.649 179.302 737.922 Q179.302 729.172 182.357 724.589 Q185.436 719.982 191.246 719.982 Z\" fill=\"#000000\" fill-rule=\"nonzero\" fill-opacity=\"1\" /><path clip-path=\"url(#clip120)\" d=\"M221.408 723.686 Q217.797 723.686 215.968 727.251 Q214.163 730.792 214.163 737.922 Q214.163 745.028 215.968 748.593 Q217.797 752.135 221.408 752.135 Q225.042 752.135 226.848 748.593 Q228.676 745.028 228.676 737.922 Q228.676 730.792 226.848 727.251 Q225.042 723.686 221.408 723.686 M221.408 719.982 Q227.218 719.982 230.274 724.589 Q233.352 729.172 233.352 737.922 Q233.352 746.649 230.274 751.255 Q227.218 755.838 221.408 755.838 Q215.598 755.838 212.519 751.255 Q209.463 746.649 209.463 737.922 Q209.463 729.172 212.519 724.589 Q215.598 719.982 221.408 719.982 Z\" fill=\"#000000\" fill-rule=\"nonzero\" fill-opacity=\"1\" /><path clip-path=\"url(#clip120)\" d=\"M50.9921 476.62 L80.6679 476.62 L80.6679 480.555 L50.9921 480.555 L50.9921 476.62 Z\" fill=\"#000000\" fill-rule=\"nonzero\" fill-opacity=\"1\" /><path clip-path=\"url(#clip120)\" d=\"M94.7882 489.514 L111.108 489.514 L111.108 493.449 L89.1632 493.449 L89.1632 489.514 Q91.8252 486.759 96.4085 482.129 Q101.015 477.477 102.196 476.134 Q104.441 473.611 105.321 471.875 Q106.223 470.116 106.223 468.426 Q106.223 465.671 104.279 463.935 Q102.358 462.199 99.2558 462.199 Q97.0567 462.199 94.603 462.963 Q92.1725 463.727 89.3947 465.278 L89.3947 460.555 Q92.2188 459.421 94.6724 458.842 Q97.1261 458.264 99.1632 458.264 Q104.534 458.264 107.728 460.949 Q110.922 463.634 110.922 468.125 Q110.922 470.254 110.112 472.176 Q109.325 474.074 107.219 476.666 Q106.64 477.338 103.538 480.555 Q100.436 483.75 94.7882 489.514 Z\" fill=\"#000000\" fill-rule=\"nonzero\" fill-opacity=\"1\" /><path clip-path=\"url(#clip120)\" d=\"M130.922 477.037 Q127.589 477.037 125.668 478.819 Q123.77 480.602 123.77 483.727 Q123.77 486.852 125.668 488.634 Q127.589 490.416 130.922 490.416 Q134.256 490.416 136.177 488.634 Q138.098 486.828 138.098 483.727 Q138.098 480.602 136.177 478.819 Q134.279 477.037 130.922 477.037 M126.246 475.046 Q123.237 474.305 121.547 472.245 Q119.881 470.185 119.881 467.222 Q119.881 463.079 122.82 460.671 Q125.783 458.264 130.922 458.264 Q136.084 458.264 139.024 460.671 Q141.964 463.079 141.964 467.222 Q141.964 470.185 140.274 472.245 Q138.607 474.305 135.621 475.046 Q139.001 475.833 140.876 478.125 Q142.774 480.416 142.774 483.727 Q142.774 488.75 139.695 491.435 Q136.64 494.12 130.922 494.12 Q125.205 494.12 122.126 491.435 Q119.07 488.75 119.07 483.727 Q119.07 480.416 120.969 478.125 Q122.867 475.833 126.246 475.046 M124.533 467.662 Q124.533 470.347 126.2 471.852 Q127.89 473.356 130.922 473.356 Q133.931 473.356 135.621 471.852 Q137.334 470.347 137.334 467.662 Q137.334 464.977 135.621 463.472 Q133.931 461.967 130.922 461.967 Q127.89 461.967 126.2 463.472 Q124.533 464.977 124.533 467.662 Z\" fill=\"#000000\" fill-rule=\"nonzero\" fill-opacity=\"1\" /><path clip-path=\"url(#clip120)\" d=\"M161.084 461.967 Q157.473 461.967 155.644 465.532 Q153.839 469.074 153.839 476.203 Q153.839 483.31 155.644 486.875 Q157.473 490.416 161.084 490.416 Q164.718 490.416 166.524 486.875 Q168.353 483.31 168.353 476.203 Q168.353 469.074 166.524 465.532 Q164.718 461.967 161.084 461.967 M161.084 458.264 Q166.894 458.264 169.95 462.87 Q173.029 467.454 173.029 476.203 Q173.029 484.93 169.95 489.537 Q166.894 494.12 161.084 494.12 Q155.274 494.12 152.195 489.537 Q149.14 484.93 149.14 476.203 Q149.14 467.454 152.195 462.87 Q155.274 458.264 161.084 458.264 Z\" fill=\"#000000\" fill-rule=\"nonzero\" fill-opacity=\"1\" /><path clip-path=\"url(#clip120)\" d=\"M191.246 461.967 Q187.635 461.967 185.806 465.532 Q184.001 469.074 184.001 476.203 Q184.001 483.31 185.806 486.875 Q187.635 490.416 191.246 490.416 Q194.88 490.416 196.686 486.875 Q198.514 483.31 198.514 476.203 Q198.514 469.074 196.686 465.532 Q194.88 461.967 191.246 461.967 M191.246 458.264 Q197.056 458.264 200.112 462.87 Q203.19 467.454 203.19 476.203 Q203.19 484.93 200.112 489.537 Q197.056 494.12 191.246 494.12 Q185.436 494.12 182.357 489.537 Q179.302 484.93 179.302 476.203 Q179.302 467.454 182.357 462.87 Q185.436 458.264 191.246 458.264 Z\" fill=\"#000000\" fill-rule=\"nonzero\" fill-opacity=\"1\" /><path clip-path=\"url(#clip120)\" d=\"M221.408 461.967 Q217.797 461.967 215.968 465.532 Q214.163 469.074 214.163 476.203 Q214.163 483.31 215.968 486.875 Q217.797 490.416 221.408 490.416 Q225.042 490.416 226.848 486.875 Q228.676 483.31 228.676 476.203 Q228.676 469.074 226.848 465.532 Q225.042 461.967 221.408 461.967 M221.408 458.264 Q227.218 458.264 230.274 462.87 Q233.352 467.454 233.352 476.203 Q233.352 484.93 230.274 489.537 Q227.218 494.12 221.408 494.12 Q215.598 494.12 212.519 489.537 Q209.463 484.93 209.463 476.203 Q209.463 467.454 212.519 462.87 Q215.598 458.264 221.408 458.264 Z\" fill=\"#000000\" fill-rule=\"nonzero\" fill-opacity=\"1\" /><path clip-path=\"url(#clip120)\" d=\"M50.9921 214.902 L80.6679 214.902 L80.6679 218.837 L50.9921 218.837 L50.9921 214.902 Z\" fill=\"#000000\" fill-rule=\"nonzero\" fill-opacity=\"1\" /><path clip-path=\"url(#clip120)\" d=\"M94.7882 227.795 L111.108 227.795 L111.108 231.73 L89.1632 231.73 L89.1632 227.795 Q91.8252 225.041 96.4085 220.411 Q101.015 215.758 102.196 214.416 Q104.441 211.893 105.321 210.156 Q106.223 208.397 106.223 206.707 Q106.223 203.953 104.279 202.217 Q102.358 200.481 99.2558 200.481 Q97.0567 200.481 94.603 201.244 Q92.1725 202.008 89.3947 203.559 L89.3947 198.837 Q92.2188 197.703 94.6724 197.124 Q97.1261 196.545 99.1632 196.545 Q104.534 196.545 107.728 199.231 Q110.922 201.916 110.922 206.406 Q110.922 208.536 110.112 210.457 Q109.325 212.356 107.219 214.948 Q106.64 215.619 103.538 218.837 Q100.436 222.031 94.7882 227.795 Z\" fill=\"#000000\" fill-rule=\"nonzero\" fill-opacity=\"1\" /><path clip-path=\"url(#clip120)\" d=\"M131.501 212.587 Q128.353 212.587 126.501 214.74 Q124.672 216.893 124.672 220.643 Q124.672 224.369 126.501 226.545 Q128.353 228.698 131.501 228.698 Q134.649 228.698 136.478 226.545 Q138.33 224.369 138.33 220.643 Q138.33 216.893 136.478 214.74 Q134.649 212.587 131.501 212.587 M140.783 197.934 L140.783 202.194 Q139.024 201.36 137.219 200.92 Q135.436 200.481 133.677 200.481 Q129.047 200.481 126.594 203.606 Q124.163 206.731 123.816 213.05 Q125.182 211.036 127.242 209.971 Q129.302 208.883 131.779 208.883 Q136.987 208.883 139.996 212.055 Q143.029 215.203 143.029 220.643 Q143.029 225.967 139.881 229.184 Q136.732 232.402 131.501 232.402 Q125.506 232.402 122.334 227.818 Q119.163 223.212 119.163 214.485 Q119.163 206.291 123.052 201.43 Q126.941 196.545 133.492 196.545 Q135.251 196.545 137.033 196.893 Q138.839 197.24 140.783 197.934 Z\" fill=\"#000000\" fill-rule=\"nonzero\" fill-opacity=\"1\" /><path clip-path=\"url(#clip120)\" d=\"M161.084 200.249 Q157.473 200.249 155.644 203.814 Q153.839 207.356 153.839 214.485 Q153.839 221.592 155.644 225.156 Q157.473 228.698 161.084 228.698 Q164.718 228.698 166.524 225.156 Q168.353 221.592 168.353 214.485 Q168.353 207.356 166.524 203.814 Q164.718 200.249 161.084 200.249 M161.084 196.545 Q166.894 196.545 169.95 201.152 Q173.029 205.735 173.029 214.485 Q173.029 223.212 169.95 227.818 Q166.894 232.402 161.084 232.402 Q155.274 232.402 152.195 227.818 Q149.14 223.212 149.14 214.485 Q149.14 205.735 152.195 201.152 Q155.274 196.545 161.084 196.545 Z\" fill=\"#000000\" fill-rule=\"nonzero\" fill-opacity=\"1\" /><path clip-path=\"url(#clip120)\" d=\"M191.246 200.249 Q187.635 200.249 185.806 203.814 Q184.001 207.356 184.001 214.485 Q184.001 221.592 185.806 225.156 Q187.635 228.698 191.246 228.698 Q194.88 228.698 196.686 225.156 Q198.514 221.592 198.514 214.485 Q198.514 207.356 196.686 203.814 Q194.88 200.249 191.246 200.249 M191.246 196.545 Q197.056 196.545 200.112 201.152 Q203.19 205.735 203.19 214.485 Q203.19 223.212 200.112 227.818 Q197.056 232.402 191.246 232.402 Q185.436 232.402 182.357 227.818 Q179.302 223.212 179.302 214.485 Q179.302 205.735 182.357 201.152 Q185.436 196.545 191.246 196.545 Z\" fill=\"#000000\" fill-rule=\"nonzero\" fill-opacity=\"1\" /><path clip-path=\"url(#clip120)\" d=\"M221.408 200.249 Q217.797 200.249 215.968 203.814 Q214.163 207.356 214.163 214.485 Q214.163 221.592 215.968 225.156 Q217.797 228.698 221.408 228.698 Q225.042 228.698 226.848 225.156 Q228.676 221.592 228.676 214.485 Q228.676 207.356 226.848 203.814 Q225.042 200.249 221.408 200.249 M221.408 196.545 Q227.218 196.545 230.274 201.152 Q233.352 205.735 233.352 214.485 Q233.352 223.212 230.274 227.818 Q227.218 232.402 221.408 232.402 Q215.598 232.402 212.519 227.818 Q209.463 223.212 209.463 214.485 Q209.463 205.735 212.519 201.152 Q215.598 196.545 221.408 196.545 Z\" fill=\"#000000\" fill-rule=\"nonzero\" fill-opacity=\"1\" /><polyline clip-path=\"url(#clip122)\" style=\"stroke:#009af9; stroke-linecap:round; stroke-linejoin:round; stroke-width:4; stroke-opacity:1; fill:none\" points=\"328.317,1445.72 459.348,862.772 590.38,355.115 721.412,87.9763 852.443,91.9132 983.475,164.626 1114.51,170.913 1245.54,171.603 1376.57,171.684 1507.6,171.693 1638.63,171.695 1769.66,171.695 1900.7,171.695 2031.73,171.695 2162.76,171.695 2293.79,171.695 \"/>\n",
       "<path clip-path=\"url(#clip120)\" d=\"M2022.54 1438.47 L2283.31 1438.47 L2283.31 1334.79 L2022.54 1334.79  Z\" fill=\"#ffffff\" fill-rule=\"evenodd\" fill-opacity=\"1\"/>\n",
       "<polyline clip-path=\"url(#clip120)\" style=\"stroke:#000000; stroke-linecap:round; stroke-linejoin:round; stroke-width:4; stroke-opacity:1; fill:none\" points=\"2022.54,1438.47 2283.31,1438.47 2283.31,1334.79 2022.54,1334.79 2022.54,1438.47 \"/>\n",
       "<polyline clip-path=\"url(#clip120)\" style=\"stroke:#009af9; stroke-linecap:round; stroke-linejoin:round; stroke-width:4; stroke-opacity:1; fill:none\" points=\"2045.69,1386.63 2184.58,1386.63 \"/>\n",
       "<path clip-path=\"url(#clip120)\" d=\"M2221.57 1406.32 Q2219.77 1410.95 2218.05 1412.36 Q2216.34 1413.78 2213.47 1413.78 L2210.07 1413.78 L2210.07 1410.21 L2212.57 1410.21 Q2214.33 1410.21 2215.3 1409.38 Q2216.27 1408.54 2217.45 1405.44 L2218.22 1403.5 L2207.73 1377.99 L2212.24 1377.99 L2220.35 1398.27 L2228.45 1377.99 L2232.96 1377.99 L2221.57 1406.32 Z\" fill=\"#000000\" fill-rule=\"nonzero\" fill-opacity=\"1\" /><path clip-path=\"url(#clip120)\" d=\"M2240.25 1399.98 L2247.89 1399.98 L2247.89 1373.61 L2239.58 1375.28 L2239.58 1371.02 L2247.85 1369.35 L2252.52 1369.35 L2252.52 1399.98 L2260.16 1399.98 L2260.16 1403.91 L2240.25 1403.91 L2240.25 1399.98 Z\" fill=\"#000000\" fill-rule=\"nonzero\" fill-opacity=\"1\" /></svg>\n"
      ]
     },
     "metadata": {},
     "output_type": "display_data"
    }
   ],
   "source": [
    "plot(ll[3:end])"
   ]
  },
  {
   "cell_type": "code",
   "execution_count": 9,
   "metadata": {},
   "outputs": [
    {
     "name": "stdout",
     "output_type": "stream",
     "text": [
      "[-100.16529418592583; -99.78208319008141;;]\n",
      "[99.77928664177995; 100.01796213003568;;]\n",
      "[100; 100;;]\n",
      "[-100; -100;;]\n",
      "4.6499901789329945\n",
      "80.97933963184009\n"
     ]
    }
   ],
   "source": [
    "println(est_model.B[1].β)\n",
    "println(est_model.B[2].β)\n",
    "\n",
    "println(model.B[1].β)\n",
    "println(model.B[2].β)\n",
    "\n",
    "\n",
    "println(est_model.B[1].Σ[1])\n",
    "println(est_model.B[2].Σ[1])"
   ]
  }
 ],
 "metadata": {
  "kernelspec": {
   "display_name": "Julia 1.10.1",
   "language": "julia",
   "name": "julia-1.10"
  },
  "language_info": {
   "file_extension": ".jl",
   "mimetype": "application/julia",
   "name": "julia",
   "version": "1.10.1"
  },
  "orig_nbformat": 4
 },
 "nbformat": 4,
 "nbformat_minor": 2
}
