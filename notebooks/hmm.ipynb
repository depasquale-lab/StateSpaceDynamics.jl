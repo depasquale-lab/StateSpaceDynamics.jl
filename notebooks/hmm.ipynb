{
 "cells": [
  {
   "cell_type": "code",
   "execution_count": null,
   "metadata": {},
   "outputs": [
    {
     "data": {
      "text/plain": [
       "StateSpaceDynamics"
      ]
     },
     "metadata": {},
     "output_type": "display_data"
    }
   ],
   "source": [
    "using Pkg\n",
    "using LinearAlgebra\n",
    "# using Plots\n",
    "using Distributions\n",
    "using Random\n",
    "using StateSpaceDynamics\n",
    "\n",
    "\n",
    "const SSD = StateSpaceDynamics"
   ]
  },
  {
   "cell_type": "markdown",
   "metadata": {},
   "source": [
    "# Gaussian HMM"
   ]
  },
  {
   "cell_type": "code",
   "execution_count": 2,
   "metadata": {},
   "outputs": [
    {
     "name": "stderr",
     "output_type": "stream",
     "text": [
      "\u001b[32mRunning EM algorithm... 100%|██████████████████████████████████████████████████| Time: 0:00:18 ( 0.18  s/it)\u001b[39m\u001b[K\n"
     ]
    },
    {
     "name": "stdout",
     "output_type": "stream",
     "text": [
      "truetrue"
     ]
    }
   ],
   "source": [
    "\"\"\"\n",
    "Create an underlying GaussianHMM to generate data\n",
    "\"\"\"\n",
    "\n",
    "# Create Guassian Emission Models\n",
    "output_dim = 2\n",
    "μ = [0.0, 0.0]\n",
    "Σ = 0.1 * Matrix{Float64}(I, output_dim, output_dim)\n",
    "emission_1 = GaussianEmission(output_dim, μ, Σ)\n",
    "\n",
    "μ = [2.0, 1.0]\n",
    "Σ = 0.1 * Matrix{Float64}(I, output_dim, output_dim)\n",
    "emission_2 = GaussianEmission(output_dim, μ, Σ)\n",
    "\n",
    "# Create GaussianHMM\n",
    "true_model = SSD.GaussianHMM(K=2, output_dim=2)\n",
    "true_model.B[1] = emission_1\n",
    "true_model.B[2] = emission_2\n",
    "true_model.A = [0.9 0.1; 0.8 0.2]\n",
    "\n",
    "# Sample from the model\n",
    "n=10000\n",
    "true_labels, data = SSD.sample(true_model, n=n)\n",
    "\n",
    "# Fit a gaussian hmm to the data\n",
    "test_model = SSD.GaussianHMM(K=2, output_dim=2)\n",
    "test_model.A = [0.8 0.2; 0.05 0.95]\n",
    "ll = SSD.fit!(test_model, data)\n",
    "\n",
    "print(isapprox(test_model.B[1].μ, true_model.B[1].μ, atol=0.1) || isapprox(test_model.B[1].μ, true_model.B[2].μ, atol=0.1))\n",
    "print(isapprox(test_model.B[2].μ, true_model.B[2].μ, atol=0.1) || isapprox(test_model.B[2].μ, true_model.B[1].μ, atol=0.1))"
   ]
  },
  {
   "cell_type": "markdown",
   "metadata": {},
   "source": [
    "# Switching Gaussian Regression #"
   ]
  },
  {
   "cell_type": "code",
   "execution_count": 3,
   "metadata": {},
   "outputs": [
    {
     "name": "stderr",
     "output_type": "stream",
     "text": [
      "\u001b[32mRunning EM algorithm... 100%|██████████████████████████████████████████████████| Time: 0:00:24 ( 0.25  s/it)\u001b[39m\u001b[K\n"
     ]
    },
    {
     "name": "stdout",
     "output_type": "stream",
     "text": [
      "truetrue"
     ]
    }
   ],
   "source": [
    "# Create Emission Models\n",
    "emission_1 = GaussianRegressionEmission(input_dim=3, output_dim=1, include_intercept=true, β=reshape([3, 2, 2, 3], :, 1))\n",
    "emission_2 = GaussianRegressionEmission(input_dim=3, output_dim=1, include_intercept=true, β=reshape([-4, -2, 3, 2], :, 1))\n",
    "\n",
    "# Create Switching Regression Model\n",
    "true_model = SwitchingGaussianRegression(K=2, input_dim=3, output_dim=1, include_intercept=true)\n",
    "\n",
    "# Plug in the emission models\n",
    "true_model.B[1] = emission_1\n",
    "true_model.B[2] = emission_2\n",
    "\n",
    "# Sample from the model\n",
    "n = 20000\n",
    "Φ = randn(3, n)\n",
    "true_labels, data = SSD.sample(true_model, Φ, n=n)\n",
    "\n",
    "# Try to fit a new model to the data\n",
    "test_model = SSD.SwitchingGaussianRegression(K=2, input_dim=3, output_dim=1, include_intercept=true)\n",
    "ll = SSD.fit!(test_model, data, Φ)\n",
    "\n",
    "# Test output -> not quite right yet\n",
    "print(isapprox(test_model.B[1].β, true_model.B[1].β, atol=0.1) || isapprox(test_model.B[1].β, true_model.B[2].β, atol=0.1))\n",
    "print(isapprox(test_model.B[2].β, true_model.B[2].β, atol=0.1) || isapprox(test_model.B[2].β, true_model.B[1].β, atol=0.1))"
   ]
  },
  {
   "cell_type": "markdown",
   "metadata": {},
   "source": [
    "# Switching Bernoulli Regression #"
   ]
  },
  {
   "cell_type": "code",
   "execution_count": 6,
   "metadata": {},
   "outputs": [
    {
     "name": "stderr",
     "output_type": "stream",
     "text": [
      "\u001b[32mRunning EM algorithm... 100%|██████████████████████████████████████████████████| Time: 0:01:45 ( 0.53  s/it)\u001b[39m\u001b[K\n"
     ]
    },
    {
     "name": "stdout",
     "output_type": "stream",
     "text": [
      "truetrue"
     ]
    }
   ],
   "source": [
    "\"\"\"\n",
    "Create Bernoulli Regression Model\n",
    "\"\"\"\n",
    "# Make Emission Models\n",
    "emission_1 = SSD.BernoulliRegressionEmission(input_dim=2, output_dim=1, include_intercept=true, β = reshape([3, 1, 2], :, 1))\n",
    "emission_2 = SSD.BernoulliRegressionEmission(input_dim=2, output_dim=1, include_intercept=true, β = reshape([-3, -2, 0.1], :, 1))\n",
    "\n",
    "# Create Switching Bernoulli Regression and add the emissions\n",
    "true_model = SSD.SwitchingBernoulliRegression(K=2, input_dim=2)\n",
    "true_model.A = [0.9 0.1; 0.2 0.8]\n",
    "true_model.B[1] = emission_1\n",
    "true_model.B[2] = emission_2\n",
    "\n",
    "# Sample from the model\n",
    "n=40000\n",
    "Φ = randn(2, n)\n",
    "true_labels, data = SSD.sample(true_model, Φ, n=n)\n",
    "\n",
    "# Fit a new Bernoulli Regression Model to the data\n",
    "test_model = SSD.SwitchingBernoulliRegression(K=2, input_dim=2, λ=1.0)\n",
    "test_model.A = [0.75 0.25; 0.1 0.9]\n",
    "test_model.B[1] = SSD.BernoulliRegressionEmission(input_dim=2, output_dim=1, include_intercept=true, β = reshape([2.5, 0.25, 1.0], :, 1))\n",
    "test_model.B[2] = SSD.BernoulliRegressionEmission(input_dim=2, output_dim=1, include_intercept=true, β = reshape([-2.0, -3.0, -1.0], :, 1))\n",
    "ll = SSD.fit!(test_model, data, Φ, max_iters=200)\n",
    "\n",
    "# # Test it works alright\n",
    "print(isapprox(test_model.B[1].β, true_model.B[1].β, atol=0.2) || isapprox(test_model.B[1].β, true_model.B[2].β, atol=0.2))\n",
    "print(isapprox(test_model.B[2].β, true_model.B[2].β, atol=0.2) || isapprox(test_model.B[2].β, true_model.B[1].β, atol=0.2))"
   ]
  },
  {
   "cell_type": "code",
   "execution_count": 9,
   "metadata": {},
   "outputs": [
    {
     "name": "stderr",
     "output_type": "stream",
     "text": [
      "\u001b[32mRunning EM algorithm... 100%|██████████████████████████████████████████████████| Time: 0:00:49 ( 0.25  s/it)\u001b[39m\u001b[K\n"
     ]
    },
    {
     "data": {
      "text/plain": [
       "34-element Vector{Float64}:\n",
       "    -Inf\n",
       " -12999.549711873935\n",
       " -10283.761323822177\n",
       " -10182.552576531894\n",
       " -10163.157497212167\n",
       " -10157.805164091475\n",
       " -10155.77386284353\n",
       " -10154.79874771744\n",
       " -10154.27340076818\n",
       " -10153.976910824515\n",
       "      ⋮\n",
       " -10153.573519534973\n",
       " -10153.573490853676\n",
       " -10153.573474870735\n",
       " -10153.573464835481\n",
       " -10153.573459206586\n",
       " -10153.573455784823\n",
       " -10153.573453857767\n",
       " -10153.57345270621\n",
       " -10153.5734520551"
      ]
     },
     "metadata": {},
     "output_type": "display_data"
    }
   ],
   "source": [
    " # Make Emission Models\n",
    " emission_1 = StateSpaceDynamics.BernoulliRegressionEmission(input_dim=2, output_dim=1, include_intercept=true, β = reshape([3, 1, 2], :, 1))\n",
    " emission_2 = StateSpaceDynamics.BernoulliRegressionEmission(input_dim=2, output_dim=1, include_intercept=true, β = reshape([-3, -2, 0.1], :, 1))\n",
    "\n",
    " # Create Switching Bernoulli Regression and add the emissions\n",
    " true_model = StateSpaceDynamics.SwitchingBernoulliRegression(K=2, input_dim=2)\n",
    " true_model.A = [0.9 0.1; 0.2 0.8]\n",
    " true_model.B[1] = emission_1\n",
    " true_model.B[2] = emission_2\n",
    "\n",
    " # Sample from the model\n",
    " n=20000\n",
    " Φ = randn(2, n)\n",
    " true_labels, data = StateSpaceDynamics.sample(true_model, Φ, n=n)\n",
    "\n",
    " # Fit a new Bernoulli Regression Model to the data\n",
    " test_model = StateSpaceDynamics.SwitchingBernoulliRegression(K=2, input_dim=2, λ=1.0)\n",
    " test_model.A = [0.75 0.25; 0.1 0.9]\n",
    " test_model.B[1] = StateSpaceDynamics.BernoulliRegressionEmission(input_dim=2, output_dim=1, include_intercept=true, β = reshape([2.5, 0.25, 1.0], :, 1))\n",
    " test_model.B[2] = StateSpaceDynamics.BernoulliRegressionEmission(input_dim=2, output_dim=1, include_intercept=true, β = reshape([-2.0, -3.0, -1.0], :, 1))\n",
    " ll = StateSpaceDynamics.fit!(test_model, data, Φ, max_iters=200)\n"
   ]
  },
  {
   "cell_type": "markdown",
   "metadata": {},
   "source": [
    "# Switching Poisson Regression"
   ]
  },
  {
   "cell_type": "code",
   "execution_count": 10,
   "metadata": {},
   "outputs": [
    {
     "name": "stderr",
     "output_type": "stream",
     "text": [
      "\u001b[32mRunning EM algorithm... 100%|██████████████████████████████████████████████████| Time: 0:00:23 ( 0.12  s/it)\u001b[39m\u001b[K\n"
     ]
    },
    {
     "name": "stdout",
     "output_type": "stream",
     "text": [
      "truetrue"
     ]
    }
   ],
   "source": [
    "\"\"\"\n",
    "Create a Switching Poisson Regression\n",
    "\"\"\"\n",
    "# Create the emission models\n",
    "emission_1 = PoissonRegressionEmission(input_dim=3, output_dim=1, include_intercept=true, β=reshape([4, 3, 2, 4], :, 1))\n",
    "emission_2 = PoissonRegressionEmission(input_dim=3, output_dim=1, include_intercept=true, β=reshape([-4, -2, 1, 3], :, 1))\n",
    "\n",
    "# Initialize the SwitchingPoissonRegression\n",
    "true_model = SwitchingPoissonRegression(K=2, input_dim=3, output_dim=1)\n",
    "\n",
    "# Plug in the emission models\n",
    "true_model.B[1] = emission_1\n",
    "true_model.B[2] = emission_2\n",
    "\n",
    "# Sample from the HMM\n",
    "n=20000\n",
    "Φ = randn(3, n)\n",
    "true_labels, data = SSD.sample(true_model, Φ, n=n)\n",
    "\n",
    "# Create a new SwitchingPoissonRegression and try to recover parameters\n",
    "test_model = SwitchingPoissonRegression(K=2, input_dim=3, output_dim=1)\n",
    "\n",
    "# Create the emission models for warm start\n",
    "emission_1 = PoissonRegressionEmission(input_dim=3, output_dim=1, include_intercept=true, β=reshape([2.0, 1.0, 4.0, 2.0], :, 1))\n",
    "emission_2 = PoissonRegressionEmission(input_dim=3, output_dim=1, include_intercept=true, β=reshape([-5.0, -1.0, 0.0, 2.0], :, 1))\n",
    "test_model.B[1], test_model.B[2] = emission_1, emission_2\n",
    "\n",
    "ll = SSD.fit!(test_model, data, Φ, max_iters=200)\n",
    "\n",
    "print(isapprox(test_model.B[1].β, true_model.B[1].β, atol=0.1) || isapprox(test_model.B[1].β, true_model.B[2].β, atol=0.1))\n",
    "print(isapprox(test_model.B[2].β, true_model.B[2].β, atol=0.1) || isapprox(test_model.B[2].β, true_model.B[1].β, atol=0.1))\n"
   ]
  },
  {
   "cell_type": "code",
   "execution_count": null,
   "metadata": {},
   "outputs": [
    {
     "name": "stderr",
     "output_type": "stream",
     "text": [
      "\u001b[32mRunning EM algorithm... 100%|██████████████████████████████████████████████████| Time: 0:00:21 ( 0.22  s/it)\u001b[39m\u001b[K\n"
     ]
    },
    {
     "ename": "LoadError",
     "evalue": "LoadError: UndefVarError: `@test` not defined\nin expression starting at c:\\Users\\ryansenne\\Documents\\GitHub\\ssm_julia\\notebooks\\jl_notebook_cell_df34fa98e69747e1a8f8a730347b8e2f_X13sZmlsZQ==.jl:34",
     "output_type": "error",
     "traceback": [
      "LoadError: UndefVarError: `@test` not defined\n",
      "in expression starting at c:\\Users\\ryansenne\\Documents\\GitHub\\ssm_julia\\notebooks\\jl_notebook_cell_df34fa98e69747e1a8f8a730347b8e2f_X13sZmlsZQ==.jl:34\n"
     ]
    }
   ],
   "source": [
    "# Create Guassian Emission Models\n",
    "output_dim = 2\n",
    "μ = [-5.0, -4.0]\n",
    "Σ = 0.1 * Matrix{Float64}(I, output_dim, output_dim)\n",
    "emission_1 = GaussianEmission(output_dim=output_dim, μ=μ, Σ=Σ)\n",
    "\n",
    "μ = [2.0, 1.0]\n",
    "Σ = 0.1 * Matrix{Float64}(I, output_dim, output_dim)\n",
    "emission_2 = GaussianEmission(output_dim=output_dim, μ=μ, Σ=Σ)\n",
    "\n",
    "# Create GaussianHMM\n",
    "true_model = GaussianHMM(K=2, output_dim=2)\n",
    "true_model.B[1] = emission_1\n",
    "true_model.B[2] = emission_2\n",
    "true_model.A = [0.9 0.1; 0.8 0.2]\n",
    "\n",
    "# Generate trialized synthetic data\n",
    "n = 100\n",
    "num_trials = 30\n",
    "Y = Vector{Matrix{Float64}}(undef, num_trials)\n",
    "trial_labels = Vector{Vector{Int}}(undef, num_trials)  \n",
    "\n",
    "for i in 1:num_trials\n",
    "    true_labels, data = StateSpaceDynamics.sample(true_model, n=n)  # Generate data and labels\n",
    "    Y[i] = data  # Store data matrix for the ith trial\n",
    "end\n",
    "\n",
    "# Fit a model to the trialized synthetic data\n",
    "est_model = GaussianHMM(K=2, output_dim=2)\n",
    "lls = StateSpaceDynamics.fit!(est_model, Y, max_iters=100)"
   ]
  },
  {
   "cell_type": "code",
   "execution_count": 4,
   "metadata": {},
   "outputs": [
    {
     "data": {
      "text/plain": [
       "2×2 Matrix{Float64}:\n",
       " 86.0          6.0\n",
       "  3.77397e107  6.28994e106"
      ]
     },
     "metadata": {},
     "output_type": "display_data"
    }
   ],
   "source": [
    "est_model.A"
   ]
  }
 ],
 "metadata": {
  "kernelspec": {
   "display_name": "Julia 1.10.1",
   "language": "julia",
   "name": "julia-1.10"
  },
  "language_info": {
   "file_extension": ".jl",
   "mimetype": "application/julia",
   "name": "julia",
   "version": "1.10.1"
  },
  "orig_nbformat": 4
 },
 "nbformat": 4,
 "nbformat_minor": 2
}
