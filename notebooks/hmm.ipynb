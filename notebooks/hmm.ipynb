{
 "cells": [
  {
   "cell_type": "code",
   "execution_count": 1,
   "metadata": {},
   "outputs": [
    {
     "data": {
      "text/plain": [
       "StateSpaceDynamics"
      ]
     },
     "metadata": {},
     "output_type": "display_data"
    }
   ],
   "source": [
    "using Pkg\n",
    "using LinearAlgebra\n",
    "# using Plots\n",
    "using Distributions\n",
    "using Random\n",
    "using StateSpaceDynamics\n",
    "using StatsBase\n",
    "\n",
    "const SSD = StateSpaceDynamics"
   ]
  },
  {
   "cell_type": "markdown",
   "metadata": {},
   "source": [
    "# Gaussian HMM"
   ]
  },
  {
   "cell_type": "code",
   "execution_count": 2,
   "metadata": {},
   "outputs": [
    {
     "name": "stderr",
     "output_type": "stream",
     "text": [
      "\u001b[32mRunning EM algorithm... 100%|██████████████████████████████████████████████████| Time: 0:00:22 ( 0.22  s/it)\u001b[39m\u001b[K\n"
     ]
    },
    {
     "name": "stdout",
     "output_type": "stream",
     "text": [
      "truetrue"
     ]
    }
   ],
   "source": [
    "\"\"\"\n",
    "Create an underlying GaussianHMM to generate data\n",
    "\"\"\"\n",
    "\n",
    "# Create Guassian Emission Models\n",
    "output_dim = 2\n",
    "μ = [0.0, 0.0]\n",
    "Σ = 0.1 * Matrix{Float64}(I, output_dim, output_dim)\n",
    "emission_1 = GaussianEmission(output_dim, μ, Σ)\n",
    "\n",
    "μ = [2.0, 1.0]\n",
    "Σ = 0.1 * Matrix{Float64}(I, output_dim, output_dim)\n",
    "emission_2 = GaussianEmission(output_dim, μ, Σ)\n",
    "\n",
    "# Create GaussianHMM\n",
    "true_model = SSD.GaussianHMM(K=2, output_dim=2)\n",
    "true_model.B[1] = emission_1\n",
    "true_model.B[2] = emission_2\n",
    "true_model.A = [0.9 0.1; 0.8 0.2]\n",
    "\n",
    "# Sample from the model\n",
    "n=10000\n",
    "true_labels, data = SSD.sample(true_model, n=n)\n",
    "\n",
    "# Fit a gaussian hmm to the data\n",
    "test_model = SSD.GaussianHMM(K=2, output_dim=2)\n",
    "test_model.A = [0.8 0.2; 0.05 0.95]\n",
    "ll = SSD.fit!(test_model, data)\n",
    "\n",
    "print(isapprox(test_model.B[1].μ, true_model.B[1].μ, atol=0.1) || isapprox(test_model.B[1].μ, true_model.B[2].μ, atol=0.1))\n",
    "print(isapprox(test_model.B[2].μ, true_model.B[2].μ, atol=0.1) || isapprox(test_model.B[2].μ, true_model.B[1].μ, atol=0.1))"
   ]
  },
  {
   "cell_type": "code",
   "execution_count": null,
   "metadata": {},
   "outputs": [
    {
     "data": {
      "text/plain": [
       "([-0.5372440468090645 -0.7168921322117967 … -1.60943791243335 -1.609437912436988; -0.8779273437648953 -0.6699529989091388 … -0.22314355131311459 -0.22314355131311459], [-0.760387598122179 -2.1466819592424145; -3.8736596173184807 -0.9292206381542201;;; -0.9400356835285493 -2.3263300446451467; -3.665685272466362 -0.7212462932948256;;; -1.0997316475040861 -2.4860260086206836; -3.5339299986953847 -0.5894910195238481;;; … ;;; -1.8325814637501026 -3.2188758248667; -3.2188758248667 -0.2744368457024393;;; -1.8325814637537405 -3.218875824870338; -3.2188758248667 -0.2744368457024393;;; -1.8325814637501026 -3.2188758248667; -3.2188758248667 -0.2744368457024393], [-5.267286702587403 -7.438494613951806 … -22139.192720225157 -22141.049279804505; -5.607969999546872 -7.391555480649791 … -22137.806425864037 -22139.66298544338], [-22134.709799236916 -22132.71823941095 … -1.856559579344148 0.0; -22134.709799236913 -22132.71823941095 … -1.8565595793446803 0.0])"
      ]
     },
     "metadata": {},
     "output_type": "display_data"
    }
   ],
   "source": [
    "# lls = SSD.emission_loglikelihoods(test_model, permutedims(data))\n",
    "# α = SSD.forward(test_model, lls)\n",
    "# β = SSD.backward(test_model, lls)\n",
    "# γ = SSD.calculate_γ(test_model, α, β)\n",
    "# ξ = SSD.calculate_ξ(test_model, α, β, lls)\n",
    "γ, ξ, α, β = SSD.estep(test_model, (data,))\n"
   ]
  },
  {
   "cell_type": "code",
   "execution_count": 4,
   "metadata": {},
   "outputs": [
    {
     "ename": "UndefVarError",
     "evalue": "UndefVarError: `plot` not defined",
     "output_type": "error",
     "traceback": [
      "UndefVarError: `plot` not defined\n",
      "\n",
      "Stacktrace:\n",
      " [1] top-level scope\n",
      "   @ c:\\Users\\ryansenne\\Documents\\GitHub\\ssm_julia\\notebooks\\jl_notebook_cell_df34fa98e69747e1a8f8a730347b8e2f_W4sZmlsZQ==.jl:1"
     ]
    }
   ],
   "source": [
    "plot(ll)"
   ]
  },
  {
   "cell_type": "markdown",
   "metadata": {},
   "source": [
    "# Switching Gaussian Regression #"
   ]
  },
  {
   "cell_type": "code",
   "execution_count": 5,
   "metadata": {},
   "outputs": [
    {
     "ename": "DimensionMismatch",
     "evalue": "DimensionMismatch: matrix A has dimensions (1,20001), matrix B has dimensions (4,1)",
     "output_type": "error",
     "traceback": [
      "DimensionMismatch: matrix A has dimensions (1,20001), matrix B has dimensions (4,1)\n",
      "\n",
      "Stacktrace:\n",
      " [1] _generic_matmatmul!(C::Matrix{Float64}, tA::Char, tB::Char, A::Matrix{Float64}, B::Matrix{Int64}, _add::LinearAlgebra.MulAddMul{true, true, Bool, Bool})\n",
      "   @ LinearAlgebra C:\\Users\\ryansenne\\.julia\\juliaup\\julia-1.10.4+0.x64.w64.mingw32\\share\\julia\\stdlib\\v1.10\\LinearAlgebra\\src\\matmul.jl:796\n",
      " [2] generic_matmatmul!(C::Matrix{Float64}, tA::Char, tB::Char, A::Matrix{Float64}, B::Matrix{Int64}, _add::LinearAlgebra.MulAddMul{true, true, Bool, Bool})\n",
      "   @ LinearAlgebra C:\\Users\\ryansenne\\.julia\\juliaup\\julia-1.10.4+0.x64.w64.mingw32\\share\\julia\\stdlib\\v1.10\\LinearAlgebra\\src\\matmul.jl:785\n",
      " [3] mul!\n",
      "   @ C:\\Users\\ryansenne\\.julia\\juliaup\\julia-1.10.4+0.x64.w64.mingw32\\share\\julia\\stdlib\\v1.10\\LinearAlgebra\\src\\matmul.jl:263 [inlined]\n",
      " [4] mul!\n",
      "   @ C:\\Users\\ryansenne\\.julia\\juliaup\\julia-1.10.4+0.x64.w64.mingw32\\share\\julia\\stdlib\\v1.10\\LinearAlgebra\\src\\matmul.jl:237 [inlined]\n",
      " [5] *(A::Matrix{Float64}, B::Matrix{Int64})\n",
      "   @ LinearAlgebra C:\\Users\\ryansenne\\.julia\\juliaup\\julia-1.10.4+0.x64.w64.mingw32\\share\\julia\\stdlib\\v1.10\\LinearAlgebra\\src\\matmul.jl:106\n",
      " [6] sample(model::GaussianRegressionEmission, Φ::Vector{Float64})\n",
      "   @ StateSpaceDynamics C:\\Users\\ryansenne\\Documents\\GitHub\\ssm_julia\\src\\EmissionModels.jl:295\n",
      " [7] sample(model::HiddenMarkovModel, X::Matrix{Float64}; n::Int64)\n",
      "   @ StateSpaceDynamics C:\\Users\\ryansenne\\Documents\\GitHub\\ssm_julia\\src\\HiddenMarkovModels.jl:128\n",
      " [8] top-level scope\n",
      "   @ c:\\Users\\ryansenne\\Documents\\GitHub\\ssm_julia\\notebooks\\jl_notebook_cell_df34fa98e69747e1a8f8a730347b8e2f_W6sZmlsZQ==.jl:15"
     ]
    }
   ],
   "source": [
    "# Create Emission Models\n",
    "emission_1 = GaussianRegressionEmission(input_dim=3, output_dim=1, include_intercept=true, β=reshape([3, 2, 2, 3], :, 1))\n",
    "emission_2 = GaussianRegressionEmission(input_dim=3, output_dim=1, include_intercept=true, β=reshape([-4, -2, 3, 2], :, 1))\n",
    "\n",
    "# Create Switching Regression Model\n",
    "true_model = SwitchingGaussianRegression(K=2, input_dim=3, output_dim=1, include_intercept=true)\n",
    "\n",
    "# Plug in the emission models\n",
    "true_model.B[1] = emission_1\n",
    "true_model.B[2] = emission_2\n",
    "\n",
    "# Sample from the model\n",
    "n = 20000\n",
    "Φ = randn(n, 3)\n",
    "true_labels, data = SSD.sample(true_model, Φ, n=n)\n",
    "\n",
    "# Try to fit a new model to the data\n",
    "test_model = SSD.SwitchingGaussianRegression(K=2, input_dim=3, output_dim=1, include_intercept=true)\n",
    "ll = SSD.fit!(test_model, data, Φ)\n",
    "\n",
    "# Test output -> not quite right yet\n",
    "print(isapprox(test_model.B[1].β, true_model.B[1].β, atol=0.1) || isapprox(test_model.B[1].β, true_model.B[2].β, atol=0.1))\n",
    "print(isapprox(test_model.B[2].β, true_model.B[2].β, atol=0.1) || isapprox(test_model.B[2].β, true_model.B[1].β, atol=0.1))"
   ]
  },
  {
   "cell_type": "code",
   "execution_count": 6,
   "metadata": {},
   "outputs": [
    {
     "name": "stdout",
     "output_type": "stream",
     "text": [
      "[0.9386837913023849 0.06131620869761511; 0.9058390587776387 0.09416094122236134]\n",
      "[0.8 0.2; 0.05 0.95]\n"
     ]
    }
   ],
   "source": [
    "println(true_model.A)\n",
    "println(test_model.A)"
   ]
  },
  {
   "cell_type": "code",
   "execution_count": 7,
   "metadata": {},
   "outputs": [
    {
     "ename": "UndefVarError",
     "evalue": "UndefVarError: `plot` not defined",
     "output_type": "error",
     "traceback": [
      "UndefVarError: `plot` not defined\n",
      "\n",
      "Stacktrace:\n",
      " [1] top-level scope\n",
      "   @ c:\\Users\\ryansenne\\Documents\\GitHub\\ssm_julia\\notebooks\\jl_notebook_cell_df34fa98e69747e1a8f8a730347b8e2f_X11sZmlsZQ==.jl:1"
     ]
    }
   ],
   "source": [
    "plot(ll)"
   ]
  },
  {
   "cell_type": "markdown",
   "metadata": {},
   "source": [
    "# Switching Bernoulli Regression #"
   ]
  },
  {
   "cell_type": "code",
   "execution_count": 8,
   "metadata": {},
   "outputs": [
    {
     "ename": "DimensionMismatch",
     "evalue": "DimensionMismatch: matrix A has dimensions (1,40000), matrix B has dimensions (3,1)",
     "output_type": "error",
     "traceback": [
      "DimensionMismatch: matrix A has dimensions (1,40000), matrix B has dimensions (3,1)\n",
      "\n",
      "Stacktrace:\n",
      " [1] _generic_matmatmul!(C::Matrix{Float64}, tA::Char, tB::Char, A::Matrix{Float64}, B::Matrix{Int64}, _add::LinearAlgebra.MulAddMul{true, true, Bool, Bool})\n",
      "   @ LinearAlgebra C:\\Users\\ryansenne\\.julia\\juliaup\\julia-1.10.4+0.x64.w64.mingw32\\share\\julia\\stdlib\\v1.10\\LinearAlgebra\\src\\matmul.jl:796\n",
      " [2] generic_matmatmul!(C::Matrix{Float64}, tA::Char, tB::Char, A::Matrix{Float64}, B::Matrix{Int64}, _add::LinearAlgebra.MulAddMul{true, true, Bool, Bool})\n",
      "   @ LinearAlgebra C:\\Users\\ryansenne\\.julia\\juliaup\\julia-1.10.4+0.x64.w64.mingw32\\share\\julia\\stdlib\\v1.10\\LinearAlgebra\\src\\matmul.jl:785\n",
      " [3] mul!\n",
      "   @ C:\\Users\\ryansenne\\.julia\\juliaup\\julia-1.10.4+0.x64.w64.mingw32\\share\\julia\\stdlib\\v1.10\\LinearAlgebra\\src\\matmul.jl:263 [inlined]\n",
      " [4] mul!\n",
      "   @ C:\\Users\\ryansenne\\.julia\\juliaup\\julia-1.10.4+0.x64.w64.mingw32\\share\\julia\\stdlib\\v1.10\\LinearAlgebra\\src\\matmul.jl:237 [inlined]\n",
      " [5] *(A::Matrix{Float64}, B::Matrix{Int64})\n",
      "   @ LinearAlgebra C:\\Users\\ryansenne\\.julia\\juliaup\\julia-1.10.4+0.x64.w64.mingw32\\share\\julia\\stdlib\\v1.10\\LinearAlgebra\\src\\matmul.jl:106\n",
      " [6] sample(model::BernoulliRegressionEmission, Φ::Vector{Float64})\n",
      "   @ StateSpaceDynamics C:\\Users\\ryansenne\\Documents\\GitHub\\ssm_julia\\src\\EmissionModels.jl:432\n",
      " [7] sample(model::HiddenMarkovModel, X::Matrix{Float64}; n::Int64)\n",
      "   @ StateSpaceDynamics C:\\Users\\ryansenne\\Documents\\GitHub\\ssm_julia\\src\\HiddenMarkovModels.jl:128\n",
      " [8] top-level scope\n",
      "   @ c:\\Users\\ryansenne\\Documents\\GitHub\\ssm_julia\\notebooks\\jl_notebook_cell_df34fa98e69747e1a8f8a730347b8e2f_X13sZmlsZQ==.jl:17"
     ]
    }
   ],
   "source": [
    "\"\"\"\n",
    "Create Bernoulli Regression Model\n",
    "\"\"\"\n",
    "# Make Emission Models\n",
    "emission_1 = SSD.BernoulliRegressionEmission(input_dim=2, output_dim=1, include_intercept=true, β = reshape([3, 1, 2], :, 1))\n",
    "emission_2 = SSD.BernoulliRegressionEmission(input_dim=2, output_dim=1, include_intercept=true, β = reshape([-3, -2, 0.1], :, 1))\n",
    "\n",
    "# Create Switching Bernoulli Regression and add the emissions\n",
    "true_model = SSD.SwitchingBernoulliRegression(K=2, input_dim=2)\n",
    "true_model.A = [0.9 0.1; 0.2 0.8]\n",
    "true_model.B[1] = emission_1\n",
    "true_model.B[2] = emission_2\n",
    "\n",
    "# Sample from the model\n",
    "n=40000\n",
    "Φ = randn(n, 2)\n",
    "true_labels, data = SSD.sample(true_model, Φ, n=n)\n",
    "\n",
    "# Fit a new Bernoulli Regression Model to the data\n",
    "test_model = SSD.SwitchingBernoulliRegression(K=2, input_dim=2, λ=1.0)\n",
    "test_model.A = [0.75 0.25; 0.1 0.9]\n",
    "test_model.B[1] = SSD.BernoulliRegressionEmission(input_dim=2, output_dim=1, include_intercept=true, β = reshape([2.5, 0.25, 1.0], :, 1))\n",
    "test_model.B[2] = SSD.BernoulliRegressionEmission(input_dim=2, output_dim=1, include_intercept=true, β = reshape([-2.0, -3.0, -1.0], :, 1))\n",
    "ll = SSD.fit!(test_model, data, Φ, max_iters=200)\n",
    "\n",
    "# # Test it works alright\n",
    "print(isapprox(test_model.B[1].β, true_model.B[1].β, atol=0.2) || isapprox(test_model.B[1].β, true_model.B[2].β, atol=0.2))\n",
    "print(isapprox(test_model.B[2].β, true_model.B[2].β, atol=0.2) || isapprox(test_model.B[2].β, true_model.B[1].β, atol=0.2))"
   ]
  },
  {
   "cell_type": "code",
   "execution_count": 9,
   "metadata": {},
   "outputs": [
    {
     "ename": "DimensionMismatch",
     "evalue": "DimensionMismatch: A has dimensions (1,20000) but B has dimensions (3,1)",
     "output_type": "error",
     "traceback": [
      "DimensionMismatch: A has dimensions (1,20000) but B has dimensions (3,1)\n",
      "\n",
      "Stacktrace:\n",
      " [1] gemm_wrapper!(C::Matrix{Float64}, tA::Char, tB::Char, A::Matrix{Float64}, B::Matrix{Float64}, _add::LinearAlgebra.MulAddMul{true, true, Bool, Bool})\n",
      "   @ LinearAlgebra C:\\Users\\ryansenne\\.julia\\juliaup\\julia-1.10.4+0.x64.w64.mingw32\\share\\julia\\stdlib\\v1.10\\LinearAlgebra\\src\\matmul.jl:577\n",
      " [2] generic_matmatmul!\n",
      "   @ C:\\Users\\ryansenne\\.julia\\juliaup\\julia-1.10.4+0.x64.w64.mingw32\\share\\julia\\stdlib\\v1.10\\LinearAlgebra\\src\\matmul.jl:352 [inlined]\n",
      " [3] mul!\n",
      "   @ C:\\Users\\ryansenne\\.julia\\juliaup\\julia-1.10.4+0.x64.w64.mingw32\\share\\julia\\stdlib\\v1.10\\LinearAlgebra\\src\\matmul.jl:263 [inlined]\n",
      " [4] mul!\n",
      "   @ C:\\Users\\ryansenne\\.julia\\juliaup\\julia-1.10.4+0.x64.w64.mingw32\\share\\julia\\stdlib\\v1.10\\LinearAlgebra\\src\\matmul.jl:237 [inlined]\n",
      " [5] *(A::Matrix{Float64}, B::Matrix{Float64})\n",
      "   @ LinearAlgebra C:\\Users\\ryansenne\\.julia\\juliaup\\julia-1.10.4+0.x64.w64.mingw32\\share\\julia\\stdlib\\v1.10\\LinearAlgebra\\src\\matmul.jl:113\n",
      " [6] sample(model::BernoulliRegressionEmission, Φ::Vector{Float64})\n",
      "   @ StateSpaceDynamics C:\\Users\\ryansenne\\Documents\\GitHub\\ssm_julia\\src\\EmissionModels.jl:432\n",
      " [7] sample(model::HiddenMarkovModel, X::Matrix{Float64}; n::Int64)\n",
      "   @ StateSpaceDynamics C:\\Users\\ryansenne\\Documents\\GitHub\\ssm_julia\\src\\HiddenMarkovModels.jl:128\n",
      " [8] top-level scope\n",
      "   @ c:\\Users\\ryansenne\\Documents\\GitHub\\ssm_julia\\notebooks\\jl_notebook_cell_df34fa98e69747e1a8f8a730347b8e2f_X14sZmlsZQ==.jl:14"
     ]
    }
   ],
   "source": [
    " # Make Emission Models\n",
    " emission_1 = StateSpaceDynamics.BernoulliRegressionEmission(input_dim=2, output_dim=1, include_intercept=true, β = reshape([3, 1, 2], :, 1))\n",
    " emission_2 = StateSpaceDynamics.BernoulliRegressionEmission(input_dim=2, output_dim=1, include_intercept=true, β = reshape([-3, -2, 0.1], :, 1))\n",
    "\n",
    " # Create Switching Bernoulli Regression and add the emissions\n",
    " true_model = StateSpaceDynamics.SwitchingBernoulliRegression(K=2, input_dim=2)\n",
    " true_model.A = [0.9 0.1; 0.2 0.8]\n",
    " true_model.B[1] = emission_1\n",
    " true_model.B[2] = emission_2\n",
    "\n",
    " # Sample from the model\n",
    " n=20000\n",
    " Φ = randn(n, 2)\n",
    " true_labels, data = StateSpaceDynamics.sample(true_model, Φ, n=n)\n",
    "\n",
    " # Fit a new Bernoulli Regression Model to the data\n",
    " test_model = StateSpaceDynamics.SwitchingBernoulliRegression(K=2, input_dim=2, λ=1.0)\n",
    " test_model.A = [0.75 0.25; 0.1 0.9]\n",
    " test_model.B[1] = StateSpaceDynamics.BernoulliRegressionEmission(input_dim=2, output_dim=1, include_intercept=true, β = reshape([2.5, 0.25, 1.0], :, 1))\n",
    " test_model.B[2] = StateSpaceDynamics.BernoulliRegressionEmission(input_dim=2, output_dim=1, include_intercept=true, β = reshape([-2.0, -3.0, -1.0], :, 1))\n",
    " ll = StateSpaceDynamics.fit!(test_model, data, Φ, max_iters=200)\n"
   ]
  },
  {
   "cell_type": "code",
   "execution_count": 10,
   "metadata": {},
   "outputs": [
    {
     "ename": "ErrorException",
     "evalue": "type GaussianEmission has no field β",
     "output_type": "error",
     "traceback": [
      "type GaussianEmission has no field β\n",
      "\n",
      "Stacktrace:\n",
      " [1] getproperty(x::GaussianEmission, f::Symbol)\n",
      "   @ Base .\\Base.jl:37\n",
      " [2] top-level scope\n",
      "   @ c:\\Users\\ryansenne\\Documents\\GitHub\\ssm_julia\\notebooks\\jl_notebook_cell_df34fa98e69747e1a8f8a730347b8e2f_X15sZmlsZQ==.jl:1"
     ]
    }
   ],
   "source": [
    "test_model.B[2].β"
   ]
  },
  {
   "cell_type": "code",
   "execution_count": 11,
   "metadata": {},
   "outputs": [
    {
     "name": "stdout",
     "output_type": "stream",
     "text": [
      "[0.8 0.2; 0.05 0.95]\n",
      "[0.9 0.1; 0.2 0.8]\n"
     ]
    },
    {
     "ename": "ErrorException",
     "evalue": "type GaussianEmission has no field β",
     "output_type": "error",
     "traceback": [
      "type GaussianEmission has no field β\n",
      "\n",
      "Stacktrace:\n",
      " [1] getproperty(x::GaussianEmission, f::Symbol)\n",
      "   @ Base .\\Base.jl:37\n",
      " [2] top-level scope\n",
      "   @ c:\\Users\\ryansenne\\Documents\\GitHub\\ssm_julia\\notebooks\\jl_notebook_cell_df34fa98e69747e1a8f8a730347b8e2f_X16sZmlsZQ==.jl:3"
     ]
    }
   ],
   "source": [
    "println(test_model.A)   \n",
    "println(true_model.A)\n",
    "println(test_model.B[1].β)\n",
    "println(test_model.B[2].β)"
   ]
  },
  {
   "cell_type": "code",
   "execution_count": 12,
   "metadata": {},
   "outputs": [
    {
     "ename": "UndefVarError",
     "evalue": "UndefVarError: `ll` not defined",
     "output_type": "error",
     "traceback": [
      "UndefVarError: `ll` not defined\n",
      "\n",
      "Stacktrace:\n",
      " [1] top-level scope\n",
      "   @ c:\\Users\\ryansenne\\Documents\\GitHub\\ssm_julia\\notebooks\\jl_notebook_cell_df34fa98e69747e1a8f8a730347b8e2f_X20sZmlsZQ==.jl:1"
     ]
    }
   ],
   "source": [
    "plot(ll[3:end])"
   ]
  },
  {
   "cell_type": "markdown",
   "metadata": {},
   "source": [
    "# Switching Poisson Regression"
   ]
  },
  {
   "cell_type": "code",
   "execution_count": 13,
   "metadata": {},
   "outputs": [
    {
     "ename": "DimensionMismatch",
     "evalue": "DimensionMismatch: matrix A has dimensions (1,20000), matrix B has dimensions (4,1)",
     "output_type": "error",
     "traceback": [
      "DimensionMismatch: matrix A has dimensions (1,20000), matrix B has dimensions (4,1)\n",
      "\n",
      "Stacktrace:\n",
      " [1] _generic_matmatmul!(C::Matrix{Float64}, tA::Char, tB::Char, A::Matrix{Float64}, B::Matrix{Int64}, _add::LinearAlgebra.MulAddMul{true, true, Bool, Bool})\n",
      "   @ LinearAlgebra C:\\Users\\ryansenne\\.julia\\juliaup\\julia-1.10.4+0.x64.w64.mingw32\\share\\julia\\stdlib\\v1.10\\LinearAlgebra\\src\\matmul.jl:796\n",
      " [2] generic_matmatmul!(C::Matrix{Float64}, tA::Char, tB::Char, A::Matrix{Float64}, B::Matrix{Int64}, _add::LinearAlgebra.MulAddMul{true, true, Bool, Bool})\n",
      "   @ LinearAlgebra C:\\Users\\ryansenne\\.julia\\juliaup\\julia-1.10.4+0.x64.w64.mingw32\\share\\julia\\stdlib\\v1.10\\LinearAlgebra\\src\\matmul.jl:785\n",
      " [3] mul!\n",
      "   @ C:\\Users\\ryansenne\\.julia\\juliaup\\julia-1.10.4+0.x64.w64.mingw32\\share\\julia\\stdlib\\v1.10\\LinearAlgebra\\src\\matmul.jl:263 [inlined]\n",
      " [4] mul!\n",
      "   @ C:\\Users\\ryansenne\\.julia\\juliaup\\julia-1.10.4+0.x64.w64.mingw32\\share\\julia\\stdlib\\v1.10\\LinearAlgebra\\src\\matmul.jl:237 [inlined]\n",
      " [5] *(A::Matrix{Float64}, B::Matrix{Int64})\n",
      "   @ LinearAlgebra C:\\Users\\ryansenne\\.julia\\juliaup\\julia-1.10.4+0.x64.w64.mingw32\\share\\julia\\stdlib\\v1.10\\LinearAlgebra\\src\\matmul.jl:106\n",
      " [6] sample(model::PoissonRegressionEmission, Φ::Vector{Float64})\n",
      "   @ StateSpaceDynamics C:\\Users\\ryansenne\\Documents\\GitHub\\ssm_julia\\src\\EmissionModels.jl:565\n",
      " [7] sample(model::HiddenMarkovModel, X::Matrix{Float64}; n::Int64)\n",
      "   @ StateSpaceDynamics C:\\Users\\ryansenne\\Documents\\GitHub\\ssm_julia\\src\\HiddenMarkovModels.jl:128\n",
      " [8] top-level scope\n",
      "   @ c:\\Users\\ryansenne\\Documents\\GitHub\\ssm_julia\\notebooks\\jl_notebook_cell_df34fa98e69747e1a8f8a730347b8e2f_X22sZmlsZQ==.jl:18"
     ]
    }
   ],
   "source": [
    "\"\"\"\n",
    "Create a Switching Poisson Regression\n",
    "\"\"\"\n",
    "# Create the emission models\n",
    "emission_1 = PoissonRegressionEmission(input_dim=3, output_dim=1, include_intercept=true, β=reshape([4, 3, 2, 4], :, 1))\n",
    "emission_2 = PoissonRegressionEmission(input_dim=3, output_dim=1, include_intercept=true, β=reshape([-4, -2, 1, 3], :, 1))\n",
    "\n",
    "# Initialize the SwitchingPoissonRegression\n",
    "true_model = SwitchingPoissonRegression(K=2, input_dim=3, output_dim=1)\n",
    "\n",
    "# Plug in the emission models\n",
    "true_model.B[1] = emission_1\n",
    "true_model.B[2] = emission_2\n",
    "\n",
    "# Sample from the HMM\n",
    "n=20000\n",
    "Φ = randn(n, 3)\n",
    "true_labels, data = SSD.sample(true_model, Φ, n=n)\n",
    "\n",
    "# Create a new SwitchingPoissonRegression and try to recover parameters\n",
    "test_model = SwitchingPoissonRegression(K=2, input_dim=3, output_dim=1)\n",
    "\n",
    "# Create the emission models for warm start\n",
    "emission_1 = PoissonRegressionEmission(input_dim=3, output_dim=1, include_intercept=true, β=reshape([2.0, 1.0, 4.0, 2.0], :, 1))\n",
    "emission_2 = PoissonRegressionEmission(input_dim=3, output_dim=1, include_intercept=true, β=reshape([-5.0, -1.0, 0.0, 2.0], :, 1))\n",
    "test_model.B[1], test_model.B[2] = emission_1, emission_2\n",
    "\n",
    "ll = SSD.fit!(test_model, data, Φ, max_iters=200)\n",
    "\n",
    "print(isapprox(test_model.B[1].β, true_model.B[1].β, atol=0.1) || isapprox(test_model.B[1].β, true_model.B[2].β, atol=0.1))\n",
    "print(isapprox(test_model.B[2].β, true_model.B[2].β, atol=0.1) || isapprox(test_model.B[2].β, true_model.B[1].β, atol=0.1))\n"
   ]
  },
  {
   "cell_type": "code",
   "execution_count": 14,
   "metadata": {},
   "outputs": [
    {
     "ename": "UndefVarError",
     "evalue": "UndefVarError: `plot` not defined",
     "output_type": "error",
     "traceback": [
      "UndefVarError: `plot` not defined\n",
      "\n",
      "Stacktrace:\n",
      " [1] top-level scope\n",
      "   @ c:\\Users\\ryansenne\\Documents\\GitHub\\ssm_julia\\notebooks\\jl_notebook_cell_df34fa98e69747e1a8f8a730347b8e2f_X23sZmlsZQ==.jl:1"
     ]
    }
   ],
   "source": [
    "plot(ll)"
   ]
  },
  {
   "cell_type": "code",
   "execution_count": 15,
   "metadata": {},
   "outputs": [
    {
     "ename": "CompositeException",
     "evalue": "TaskFailedException\n\n    nested task error: DimensionMismatch: arrays could not be broadcast to a common size; got a dimension with lengths 20000 and 2\n    Stacktrace:\n      [1] _bcs1\n        @ .\\broadcast.jl:555 [inlined]\n      [2] _bcs\n        @ .\\broadcast.jl:549 [inlined]\n      [3] broadcast_shape\n        @ .\\broadcast.jl:543 [inlined]\n      [4] combine_axes\n        @ .\\broadcast.jl:524 [inlined]\n      [5] instantiate\n        @ .\\broadcast.jl:306 [inlined]\n      [6] materialize\n        @ .\\broadcast.jl:903 [inlined]\n      [7] fit!(model::GaussianEmission, Y::Matrix{Float64}, w::Vector{Float64})\n        @ StateSpaceDynamics C:\\Users\\ryansenne\\Documents\\GitHub\\ssm_julia\\src\\EmissionModels.jl:125\n      [8] macro expansion\n        @ C:\\Users\\ryansenne\\Documents\\GitHub\\ssm_julia\\src\\HiddenMarkovModels.jl:291 [inlined]\n      [9] (::StateSpaceDynamics.var\"#321#threadsfor_fun#100\"{StateSpaceDynamics.var\"#321#threadsfor_fun#99#101\"{HiddenMarkovModel, Matrix{Float64}, Tuple{Matrix{Float64}}, UnitRange{Int64}}})(tid::Int64; onethread::Bool)\n        @ StateSpaceDynamics .\\threadingconstructs.jl:215\n     [10] #321#threadsfor_fun\n        @ .\\threadingconstructs.jl:182 [inlined]\n     [11] (::Base.Threads.var\"#1#2\"{StateSpaceDynamics.var\"#321#threadsfor_fun#100\"{StateSpaceDynamics.var\"#321#threadsfor_fun#99#101\"{HiddenMarkovModel, Matrix{Float64}, Tuple{Matrix{Float64}}, UnitRange{Int64}}}, Int64})()\n        @ Base.Threads .\\threadingconstructs.jl:154\n\n...and 1 more exception.\n",
     "output_type": "error",
     "traceback": [
      "TaskFailedException\n",
      "\n",
      "    nested task error: DimensionMismatch: arrays could not be broadcast to a common size; got a dimension with lengths 20000 and 2\n",
      "    Stacktrace:\n",
      "      [1] _bcs1\n",
      "        @ .\\broadcast.jl:555 [inlined]\n",
      "      [2] _bcs\n",
      "        @ .\\broadcast.jl:549 [inlined]\n",
      "      [3] broadcast_shape\n",
      "        @ .\\broadcast.jl:543 [inlined]\n",
      "      [4] combine_axes\n",
      "        @ .\\broadcast.jl:524 [inlined]\n",
      "      [5] instantiate\n",
      "        @ .\\broadcast.jl:306 [inlined]\n",
      "      [6] materialize\n",
      "        @ .\\broadcast.jl:903 [inlined]\n",
      "      [7] fit!(model::GaussianEmission, Y::Matrix{Float64}, w::Vector{Float64})\n",
      "        @ StateSpaceDynamics C:\\Users\\ryansenne\\Documents\\GitHub\\ssm_julia\\src\\EmissionModels.jl:125\n",
      "      [8] macro expansion\n",
      "        @ C:\\Users\\ryansenne\\Documents\\GitHub\\ssm_julia\\src\\HiddenMarkovModels.jl:291 [inlined]\n",
      "      [9] (::StateSpaceDynamics.var\"#321#threadsfor_fun#100\"{StateSpaceDynamics.var\"#321#threadsfor_fun#99#101\"{HiddenMarkovModel, Matrix{Float64}, Tuple{Matrix{Float64}}, UnitRange{Int64}}})(tid::Int64; onethread::Bool)\n",
      "        @ StateSpaceDynamics .\\threadingconstructs.jl:215\n",
      "     [10] #321#threadsfor_fun\n",
      "        @ .\\threadingconstructs.jl:182 [inlined]\n",
      "     [11] (::Base.Threads.var\"#1#2\"{StateSpaceDynamics.var\"#321#threadsfor_fun#100\"{StateSpaceDynamics.var\"#321#threadsfor_fun#99#101\"{HiddenMarkovModel, Matrix{Float64}, Tuple{Matrix{Float64}}, UnitRange{Int64}}}, Int64})()\n",
      "        @ Base.Threads .\\threadingconstructs.jl:154\n",
      "\n",
      "...and 1 more exception.\n",
      "\n",
      "\n",
      "Stacktrace:\n",
      " [1] threading_run(fun::StateSpaceDynamics.var\"#321#threadsfor_fun#100\"{StateSpaceDynamics.var\"#321#threadsfor_fun#99#101\"{HiddenMarkovModel, Matrix{Float64}, Tuple{Matrix{Float64}}, UnitRange{Int64}}}, static::Bool)\n",
      "   @ Base.Threads .\\threadingconstructs.jl:172\n",
      " [2] macro expansion\n",
      "   @ .\\threadingconstructs.jl:220 [inlined]\n",
      " [3] update_emissions!\n",
      "   @ C:\\Users\\ryansenne\\Documents\\GitHub\\ssm_julia\\src\\HiddenMarkovModels.jl:290 [inlined]\n",
      " [4] mstep!(model::HiddenMarkovModel, γ::Matrix{Float64}, ξ::Array{Float64, 3}, data::Tuple{Matrix{Float64}})\n",
      "   @ StateSpaceDynamics C:\\Users\\ryansenne\\Documents\\GitHub\\ssm_julia\\src\\HiddenMarkovModels.jl:302\n",
      " [5] fit!(model::HiddenMarkovModel, Y::Matrix{Float64}, X::Nothing; max_iters::Int64, tol::Float64)\n",
      "   @ StateSpaceDynamics C:\\Users\\ryansenne\\Documents\\GitHub\\ssm_julia\\src\\HiddenMarkovModels.jl:392\n",
      " [6] fit!\n",
      "   @ C:\\Users\\ryansenne\\Documents\\GitHub\\ssm_julia\\src\\HiddenMarkovModels.jl:369 [inlined]\n",
      " [7] fit!(model::HiddenMarkovModel, Y::Matrix{Float64})\n",
      "   @ StateSpaceDynamics C:\\Users\\ryansenne\\Documents\\GitHub\\ssm_julia\\src\\HiddenMarkovModels.jl:369\n",
      " [8] top-level scope\n",
      "   @ c:\\Users\\ryansenne\\Documents\\GitHub\\ssm_julia\\notebooks\\jl_notebook_cell_df34fa98e69747e1a8f8a730347b8e2f_X24sZmlsZQ==.jl:23"
     ]
    }
   ],
   "source": [
    "# Create Guassian Emission Models\n",
    "output_dim = 2\n",
    "μ = [0.0, 0.0]\n",
    "Σ = 0.1 * Matrix{Float64}(I, output_dim, output_dim)\n",
    "emission_1 = GaussianEmission(output_dim, μ, Σ)\n",
    "\n",
    "μ = [2.0, 1.0]\n",
    "Σ = 0.1 * Matrix{Float64}(I, output_dim, output_dim)\n",
    "emission_2 = GaussianEmission(output_dim, μ, Σ)\n",
    "\n",
    "# Create GaussianHMM\n",
    "true_model = GaussianHMM(K=2, output_dim=2)\n",
    "true_model.B[1] = emission_1\n",
    "true_model.B[2] = emission_2\n",
    "true_model.A = [0.9 0.1; 0.8 0.2]\n",
    "\n",
    "# Sample from the model\n",
    "n=20000\n",
    "true_labels, data = StateSpaceDynamics.sample(true_model, n=n)\n",
    "\n",
    "# Fit a new gaussian hmm to the data\n",
    "test_model = GaussianHMM(K=2, output_dim=2)\n",
    "ll = SSD.fit!(test_model, data)"
   ]
  },
  {
   "cell_type": "code",
   "execution_count": 16,
   "metadata": {},
   "outputs": [
    {
     "name": "stdout",
     "output_type": "stream",
     "text": [
      "[0.9 0.1; 0.8 0.2]\n",
      "[0.12071916710001702 0.8792808329012788; 0.9753464170187637 0.024653582981984033]\n"
     ]
    }
   ],
   "source": [
    "println(true_model.A)\n",
    "println(test_model.A)"
   ]
  }
 ],
 "metadata": {
  "kernelspec": {
   "display_name": "Julia 1.10.4",
   "language": "julia",
   "name": "julia-1.10"
  },
  "language_info": {
   "file_extension": ".jl",
   "mimetype": "application/julia",
   "name": "julia",
   "version": "1.10.4"
  },
  "orig_nbformat": 4
 },
 "nbformat": 4,
 "nbformat_minor": 2
}
