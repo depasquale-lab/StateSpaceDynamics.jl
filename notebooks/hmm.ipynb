{
 "cells": [
  {
   "cell_type": "code",
   "execution_count": 1,
   "metadata": {},
   "outputs": [
    {
     "data": {
      "text/plain": [
       "StateSpaceDynamics"
      ]
     },
     "metadata": {},
     "output_type": "display_data"
    }
   ],
   "source": [
    "using LinearAlgebra\n",
    "# using Plots\n",
    "using Random\n",
    "using StateSpaceDynamics\n",
    "using Plots\n",
    "\n",
    "const SSD = StateSpaceDynamics"
   ]
  },
  {
   "cell_type": "code",
   "execution_count": null,
   "metadata": {},
   "outputs": [],
   "source": [
    "# Define parameters\n",
    "num_trials = 50  # Number of trials\n",
    "trial_length = 1000  # Number of time steps per trial\n",
    "\n",
    "# Create the emission models\n",
    "emission_1 = PoissonRegressionEmission(;\n",
    "    input_dim=3, output_dim=1, include_intercept=true, β=reshape([4, 3, 2, 4], :, 1)\n",
    ")\n",
    "emission_2 = PoissonRegressionEmission(;\n",
    "    input_dim=3, output_dim=1, include_intercept=true, β=reshape([-4, -2, 1, 3], :, 1)\n",
    ")\n",
    "\n",
    "# Initialize the SwitchingPoissonRegression model\n",
    "true_model = SwitchingPoissonRegression(; K=2, input_dim=3, output_dim=1)\n",
    "true_model.A = [0.9 0.1; 0.2 0.8]\n",
    "\n",
    "# Plug in the emission models\n",
    "true_model.B[1] = emission_1\n",
    "true_model.B[2] = emission_2\n",
    "\n",
    "# Create lists to hold data and labels for each trial\n",
    "Φ_trials = [randn(3, trial_length) for _ in 1:num_trials]  # Input features for each trial\n",
    "true_labels_trials = Vector{Vector{Int}}(undef, num_trials)\n",
    "data_trials = Vector{Matrix{Float64}}(undef, num_trials)\n",
    "\n",
    "# Sample data for each trial\n",
    "for i in 1:num_trials\n",
    "    true_labels_trials[i], data_trials[i] = StateSpaceDynamics.sample(\n",
    "        true_model, Φ_trials[i]; n=trial_length\n",
    "    )\n",
    "end\n",
    "\n",
    "# Create a new SwitchingPoissonRegression and try to recover parameters\n",
    "test_model = SwitchingPoissonRegression(; K=2, input_dim=3, output_dim=1)\n",
    "\n",
    "# Initialize the emission models for warm start\n",
    "emission_1 = PoissonRegressionEmission(;\n",
    "    input_dim=3,\n",
    "    output_dim=1,\n",
    "    include_intercept=true,\n",
    "    β=reshape([2.0, 1.0, 4.0, 2.0], :, 1),\n",
    ")\n",
    "emission_2 = PoissonRegressionEmission(;\n",
    "    input_dim=3,\n",
    "    output_dim=1,\n",
    "    include_intercept=true,\n",
    "    β=reshape([-5.0, -1.0, 0.0, 2.0], :, 1),\n",
    ")\n",
    "test_model.B[1], test_model.B[2] = emission_1, emission_2\n",
    "\n",
    "# Fit the model using data from all trials\n",
    "ll = StateSpaceDynamics.fit!(test_model, data_trials, Φ_trials; max_iters=200)"
   ]
  },
  {
   "cell_type": "markdown",
   "metadata": {},
   "source": [
    "# Gaussian HMM"
   ]
  },
  {
   "cell_type": "code",
   "execution_count": 6,
   "metadata": {},
   "outputs": [
    {
     "name": "stdout",
     "output_type": "stream",
     "text": [
      "truetrue"
     ]
    }
   ],
   "source": [
    "\"\"\"\n",
    "Create an underlying GaussianHMM to generate data\n",
    "\"\"\"\n",
    "\n",
    "# Create Guassian Emission Models\n",
    "output_dim = 2\n",
    "μ = [0.0, 0.0]\n",
    "Σ = 0.1 * Matrix{Float64}(I, output_dim, output_dim)\n",
    "emission_1 = GaussianEmission(output_dim, μ, Σ)\n",
    "\n",
    "output_dim = 2\n",
    "μ = [0.0, 1.0]\n",
    "Σ = 0.1 * Matrix{Float64}(I, output_dim, output_dim)\n",
    "emission_3 = GaussianEmission(output_dim, μ, Σ)\n",
    "\n",
    "μ = [2.0, 1.0]\n",
    "Σ = 0.1 * Matrix{Float64}(I, output_dim, output_dim)\n",
    "emission_2 = GaussianEmission(output_dim, μ, Σ)\n",
    "#\n",
    "# Create GaussianHMM\n",
    "true_model = SSD.GaussianHMM(K=2, output_dim=2)\n",
    "true_model.B[1] = emission_1\n",
    "true_model.B[2] = emission_2\n",
    "true_model.A = [0.9 0.1; 0.8 0.2]\n",
    "\n",
    "# Sample from the model\n",
    "n=10000\n",
    "true_labels, data = SSD.sample(true_model, n=n)\n",
    "\n",
    "# Fit a gaussian hmm to the data\n",
    "test_model = SSD.GaussianHMM(K=2, output_dim=2)\n",
    "# test_model.B[1] = emission_1\n",
    "test_model.A = [0.4 0.6; 0.7 0.3]\n",
    "lls = SSD.fit!(test_model, data)\n",
    "\n",
    "print(isapprox(test_model.B[1].μ, true_model.B[1].μ, atol=0.1) || isapprox(test_model.B[1].μ, true_model.B[2].μ, atol=0.1))\n",
    "print(isapprox(test_model.B[2].μ, true_model.B[2].μ, atol=0.1) || isapprox(test_model.B[2].μ, true_model.B[1].μ, atol=0.1))"
   ]
  },
  {
   "cell_type": "code",
   "execution_count": 37,
   "metadata": {},
   "outputs": [
    {
     "data": {
      "text/plain": [
       "2-element Vector{Float64}:\n",
       " 1.996792362755173\n",
       " 0.9899091291424154"
      ]
     },
     "metadata": {},
     "output_type": "display_data"
    }
   ],
   "source": [
    "test_model.B[2].μ"
   ]
  },
  {
   "cell_type": "code",
   "execution_count": 45,
   "metadata": {},
   "outputs": [],
   "source": [
    "lls = [-Inf]\n",
    "data = (data,)\n",
    "# transpose data so that correct dimensions are passed to EmissionModels.jl, a bit hacky but works for now.\n",
    "transpose_data = Matrix.(transpose.(data))\n",
    "\n",
    "num_obs = size(transpose_data[1], 1)\n",
    "# initialize forward backward storage\n",
    "FB_storage = SSD.initialize_forward_backward(test_model, num_obs)\n",
    "\n",
    "SSD.estep!(test_model, transpose_data, FB_storage)"
   ]
  },
  {
   "cell_type": "code",
   "execution_count": 50,
   "metadata": {},
   "outputs": [
    {
     "data": {
      "text/plain": [
       "2×10000 Matrix{Float64}:\n",
       " -436.323         0.240644   -0.572088  …  -8587.79  -8587.75  -8612.11\n",
       "   -0.00823141  -26.347     -17.1795       -8609.28  -8618.49  -8590.46"
      ]
     },
     "metadata": {},
     "output_type": "display_data"
    }
   ],
   "source": [
    "FB_storage.α"
   ]
  },
  {
   "cell_type": "code",
   "execution_count": 48,
   "metadata": {},
   "outputs": [
    {
     "data": {
      "text/plain": [
       "10000×2 Matrix{Float64}:\n",
       "  2.25584     0.837458\n",
       "  0.0196819  -0.0816484\n",
       "  0.361558    0.320145\n",
       "  1.43208     0.69254\n",
       " -0.04613    -0.276725\n",
       "  0.440059    0.132799\n",
       "  1.74184     1.72583\n",
       "  1.97492     0.761777\n",
       " -0.255154    0.186409\n",
       "  0.069949   -0.0889173\n",
       "  ⋮          \n",
       " -0.169008   -0.391008\n",
       "  0.361558   -0.179718\n",
       "  2.06916     0.995074\n",
       " -0.397545   -0.112927\n",
       "  1.81584     1.34284\n",
       "  0.339271   -0.0533657\n",
       "  0.300483   -0.051962\n",
       " -0.240998    0.086352\n",
       "  2.12374     0.617698"
      ]
     },
     "metadata": {},
     "output_type": "display_data"
    }
   ],
   "source": [
    "transpose_data[1]"
   ]
  },
  {
   "cell_type": "code",
   "execution_count": 4,
   "metadata": {},
   "outputs": [
    {
     "data": {
      "text/plain": [
       "2×10000 Matrix{Float64}:\n",
       " -15.8482   -0.205209  -0.159205  …  -0.248589  -3.90579  -24.8337\n",
       "  -3.46916  -1.90487   -1.90027      -1.90921   -2.27493   -4.36772"
      ]
     },
     "metadata": {},
     "output_type": "display_data"
    }
   ],
   "source": [
    "SSD.emission_loglikelihoods!(test_model, FB_storage, transpose_data...)\n",
    "FB_storage.loglikelihoods"
   ]
  },
  {
   "cell_type": "code",
   "execution_count": 5,
   "metadata": {},
   "outputs": [
    {
     "data": {
      "text/plain": [
       "2×10000 Matrix{Float64}:\n",
       " -18.3935   -6.7518   -6.93775  -7.88035  …  -14167.7  -14171.8  -14196.7\n",
       "  -3.55086  -5.50702  -7.39972  -9.12288     -14170.5  -14171.3  -14175.6"
      ]
     },
     "metadata": {},
     "output_type": "display_data"
    }
   ],
   "source": [
    "SSD.forward!(test_model, FB_storage)\n",
    "FB_storage.α"
   ]
  },
  {
   "cell_type": "code",
   "execution_count": 6,
   "metadata": {},
   "outputs": [
    {
     "data": {
      "text/plain": [
       "2×10000 Matrix{Float64}:\n",
       " -14169.5  -14169.1  -14168.7  -14167.7  …  -8.44509  -8.15078  -5.97716  0.0\n",
       " -14172.0  -14171.6  -14171.1  -14170.2     -8.63799  -6.74307  -4.41901  0.0"
      ]
     },
     "metadata": {},
     "output_type": "display_data"
    }
   ],
   "source": [
    "SSD.backward!(test_model, FB_storage)\n",
    "FB_storage.β"
   ]
  },
  {
   "cell_type": "code",
   "execution_count": 7,
   "metadata": {},
   "outputs": [
    {
     "data": {
      "text/plain": [
       "2×10000 Matrix{Float64}:\n",
       " -12.3159      -0.249621  -0.0573202  …  -0.220628  -2.17216  -21.1544\n",
       "  -4.47991e-6  -1.51003   -2.88763       -1.61956   -0.12096   -6.49379e-10"
      ]
     },
     "metadata": {},
     "output_type": "display_data"
    }
   ],
   "source": [
    "SSD.calculate_γ!(test_model, FB_storage)\n",
    "FB_storage.γ"
   ]
  },
  {
   "cell_type": "code",
   "execution_count": 15,
   "metadata": {},
   "outputs": [
    {
     "data": {
      "text/plain": [
       "nearest_covariance_matrix"
      ]
     },
     "metadata": {},
     "output_type": "display_data"
    }
   ],
   "source": [
    "\"\"\"\n",
    "Find the nearest covariance matrix to matrix A in Frobenius norm using Higham's algorithm.\n",
    "\n",
    "Arguments:\n",
    "- `A`: Input matrix (should be square)\n",
    "- `max_iter`: Maximum number of iterations\n",
    "- `tol`: Convergence tolerance\n",
    "\n",
    "Returns:\n",
    "- The nearest covariance matrix to A\n",
    "\"\"\"\n",
    "function nearest_covariance_matrix(A; max_iter=100, tol=1e-6)\n",
    "    # Convert to Matrix{Float64} to ensure numerical stability\n",
    "    A = convert(Matrix{Float64}, A)\n",
    "    n = size(A, 1)\n",
    "    \n",
    "    # Symmetrize A\n",
    "    A = (A + A') / 2\n",
    "    \n",
    "    # Initial projection onto PSD cone\n",
    "    F = eigen(Symmetric(A))\n",
    "    eigvals = max.(F.values, 0)\n",
    "    X = F.vectors * Diagonal(eigvals) * F.vectors'\n",
    "    \n",
    "    # Initialize Dykstra's correction matrices\n",
    "    Y = zeros(n, n)\n",
    "    S = zeros(n, n)\n",
    "    \n",
    "    for _ in 1:max_iter\n",
    "        X_old = copy(X)\n",
    "        \n",
    "        # Project onto symmetric matrices with unit diagonal\n",
    "        R = X - Y\n",
    "        R = (R + R') / 2  # Ensure symmetry\n",
    "        Y = R - Diagonal(diag(R)) + I\n",
    "        \n",
    "        # Project onto PSD cone\n",
    "        R = Y - S\n",
    "        F = eigen(Symmetric(R))\n",
    "        eigvals = max.(F.values, 0)\n",
    "        X = F.vectors * Diagonal(eigvals) * F.vectors'\n",
    "        S = X - R\n",
    "        \n",
    "        # Check convergence using Frobenius norm\n",
    "        if norm(X - X_old) < tol\n",
    "            break\n",
    "        end\n",
    "    end\n",
    "    \n",
    "    # Ensure perfect symmetry in output\n",
    "    return (X + X') / 2\n",
    "end"
   ]
  },
  {
   "cell_type": "code",
   "execution_count": null,
   "metadata": {},
   "outputs": [
    {
     "data": {
      "text/plain": [
       "nearest_covariance_simple"
      ]
     },
     "metadata": {},
     "output_type": "display_data"
    }
   ],
   "source": [
    "\"\"\"\n",
    "Find nearest covariance matrix by simple eigenvalue projection.\n",
    "Just sets negative eigenvalues to zero.\n",
    "\"\"\"\n",
    "function enforce_posdef(A)\n",
    "    # Symmetrize first\n",
    "    A = (A + A') / 2\n",
    "    \n",
    "    # Eigendecomposition and fix negative eigenvalues\n",
    "    F = eigen(Symmetric(A))\n",
    "    eigvals = max.(F.values, 0)\n",
    "    return F.vectors * Diagonal(eigvals) * F.vectors'\n",
    "end"
   ]
  },
  {
   "cell_type": "code",
   "execution_count": 33,
   "metadata": {},
   "outputs": [
    {
     "data": {
      "text/plain": [
       "2×2 Matrix{Float64}:\n",
       " 1.0          1.66533e-16\n",
       " 1.66533e-16  1.0"
      ]
     },
     "metadata": {},
     "output_type": "display_data"
    }
   ],
   "source": [
    "nearest_covariance_matrix([0.98 0.92; 0.92 1.0])"
   ]
  },
  {
   "cell_type": "code",
   "execution_count": 42,
   "metadata": {},
   "outputs": [
    {
     "data": {
      "text/plain": [
       "4×4 Matrix{Float64}:\n",
       " 0.764114  0.624749  0.628557  0.715401\n",
       " 0.624749  0.673734  0.345721  0.488553\n",
       " 0.628557  0.345721  0.828511  0.593067\n",
       " 0.715401  0.488553  0.593067  0.792134"
      ]
     },
     "metadata": {},
     "output_type": "display_data"
    }
   ],
   "source": [
    "nearest_covariance_simple(rand(4, 4))"
   ]
  },
  {
   "cell_type": "code",
   "execution_count": 1,
   "metadata": {},
   "outputs": [
    {
     "data": {
      "text/plain": [
       "StateSpaceDynamics"
      ]
     },
     "metadata": {},
     "output_type": "display_data"
    }
   ],
   "source": [
    "using LinearAlgebra\n",
    "# using Plots\n",
    "using Random\n",
    "using StateSpaceDynamics\n",
    "\n",
    "\n",
    "const SSD = StateSpaceDynamics"
   ]
  },
  {
   "cell_type": "markdown",
   "metadata": {},
   "source": [
    "# Section for timing and memory improvements of forward backward"
   ]
  },
  {
   "cell_type": "code",
   "execution_count": 10,
   "metadata": {},
   "outputs": [
    {
     "name": "stdout",
     "output_type": "stream",
     "text": [
      "100\n"
     ]
    },
    {
     "data": {
      "text/plain": [
       "4-element Vector{Float64}:\n",
       "   -Inf\n",
       " -1459.014642217791\n",
       "  -689.4429633312888\n",
       "  -689.4429633312888"
      ]
     },
     "metadata": {},
     "output_type": "display_data"
    }
   ],
   "source": [
    "\"\"\"\n",
    "Sample from true model and initialize model to fit\n",
    "\"\"\"\n",
    "\n",
    "# Create Emission Models\n",
    "emission_1 = GaussianRegressionEmission(input_dim=3, output_dim=1, include_intercept=true, β=reshape([3, 2, 2, 3], :, 1))\n",
    "emission_2 = GaussianRegressionEmission(input_dim=3, output_dim=1, include_intercept=true, β=reshape([-4, -2, 3, 2], :, 1))\n",
    "\n",
    "# Create Switching Regression Model\n",
    "true_model = SwitchingGaussianRegression(K=2, input_dim=3, output_dim=1, include_intercept=true)\n",
    "\n",
    "# Plug in the emission models\n",
    "true_model.B[1] = emission_1\n",
    "true_model.B[2] = emission_2\n",
    "\n",
    "# Sample from the model\n",
    "n = 100\n",
    "Φ = randn(3, n)\n",
    "true_labels, data = SSD.sample(true_model, Φ, n=n)\n",
    "\n",
    "test_model = SSD.SwitchingGaussianRegression(K=2, input_dim=3, output_dim=1, include_intercept=true)\n",
    "\n",
    "\"\"\"\n",
    "Time the forward backward algorithm\n",
    "\"\"\"\n",
    "X=Φ\n",
    "Y=data\n",
    "lls = [-Inf]\n",
    "\n",
    "SSD.fit!(test_model, data, Φ)\n",
    "\n",
    "# model=test_model\n",
    "# data = X === nothing ? (Y,) : (X, Y)\n",
    "# # transpose data so that correct dimensions are passed to EmissionModels.jl, a bit hacky but works for now.\n",
    "# transpose_data = Matrix.(transpose.(data))\n",
    "# log_likelihood = -Inf\n",
    "\n"
   ]
  },
  {
   "cell_type": "code",
   "execution_count": null,
   "metadata": {},
   "outputs": [],
   "source": [
    "num_obs = size(transpose_data[1], 1)\n",
    "FB_storage = SSD.initialize_forward_backward(model, num_obs)"
   ]
  },
  {
   "cell_type": "code",
   "execution_count": 21,
   "metadata": {},
   "outputs": [
    {
     "data": {
      "text/plain": [
       "emission_loglikelihoods2! (generic function with 2 methods)"
      ]
     },
     "metadata": {},
     "output_type": "display_data"
    }
   ],
   "source": [
    "# Using a local reference\n",
    "function emission_loglikelihoods!(model::HiddenMarkovModel, FB_storage::SSD.ForwardBackward, data)\n",
    "    loglikelihoods = FB_storage.loglikelihoods\n",
    "    for k in 1:model.K\n",
    "        loglikelihoods[k, :] .= loglikelihood(model.B[k], data...)\n",
    "    end\n",
    "end\n",
    "\n",
    "function emission_loglikelihoods2!(model::HiddenMarkovModel, FB_storage::SSD.ForwardBackward, data)\n",
    "    for k in 1:model.K\n",
    "        FB_storage.loglikelihoods[k, :] .= loglikelihood(model.B[k], data...)\n",
    "    end\n",
    "end"
   ]
  },
  {
   "cell_type": "code",
   "execution_count": 58,
   "metadata": {},
   "outputs": [
    {
     "name": "stdout",
     "output_type": "stream",
     "text": [
      "  0.000144 seconds (38 allocations: 314.812 KiB)\n",
      "  0.000154 seconds (38 allocations: 314.812 KiB)\n"
     ]
    }
   ],
   "source": [
    "@time emission_loglikelihoods!(model, FB_storage, transpose_data)\n",
    "@time emission_loglikelihoods2!(model, FB_storage, transpose_data)"
   ]
  },
  {
   "cell_type": "code",
   "execution_count": 17,
   "metadata": {},
   "outputs": [
    {
     "data": {
      "text/plain": [
       "2000"
      ]
     },
     "metadata": {},
     "output_type": "display_data"
    }
   ],
   "source": [
    "size(transpose_data[1])[1]"
   ]
  },
  {
   "cell_type": "code",
   "execution_count": 3,
   "metadata": {},
   "outputs": [
    {
     "name": "stdout",
     "output_type": "stream",
     "text": [
      "  1.684387 seconds (2.63 M allocations: 171.443 MiB, 1.31% gc time, 265.26% compilation time)\n"
     ]
    }
   ],
   "source": [
    "@time γ, ξ, α, β = estep(model, transpose_data);"
   ]
  },
  {
   "cell_type": "code",
   "execution_count": 19,
   "metadata": {},
   "outputs": [
    {
     "name": "stdout",
     "output_type": "stream",
     "text": [
      "emission_loglikelihoods stats:\n",
      "  0.000186 seconds (113 allocations: 354.211 KiB)\n",
      "forward stats:\n",
      "  0.000715 seconds (31.99 k allocations: 531.125 KiB)\n",
      "backward stats:\n",
      "  0.000830 seconds (47.98 k allocations: 781.000 KiB)\n",
      "γ stats:\n",
      "  0.377217 seconds (273.81 k allocations: 18.531 MiB, 443.97% compilation time)\n",
      "ξ stats:\n",
      "  0.124611 seconds (335.17 k allocations: 20.343 MiB, 8.55% gc time, 99.45% compilation time)\n"
     ]
    },
    {
     "data": {
      "text/plain": [
       "2×2×1999 Array{Float64, 3}:\n",
       "[:, :, 1] =\n",
       " -2.50659  -0.937908\n",
       " -2.49195  -0.811346\n",
       "\n",
       "[:, :, 2] =\n",
       " -3.564    -1.99532\n",
       " -2.03089  -0.350286\n",
       "\n",
       "[:, :, 3] =\n",
       " -3.59334  -2.02467\n",
       " -2.02522  -0.344618\n",
       "\n",
       ";;; … \n",
       "\n",
       "[:, :, 1997] =\n",
       " -3.59381  -2.02513\n",
       " -2.02513  -0.34453\n",
       "\n",
       "[:, :, 1998] =\n",
       " -3.59381  -2.02513\n",
       " -2.02513  -0.34453\n",
       "\n",
       "[:, :, 1999] =\n",
       " -3.59381  -2.02513\n",
       " -2.02513  -0.34453"
      ]
     },
     "metadata": {},
     "output_type": "display_data"
    }
   ],
   "source": [
    "# compute lls of the observations\n",
    "println(\"emission_loglikelihoods stats:\")\n",
    "@time loglikelihoods = SSD.emission_loglikelihoods(model, transpose_data...);\n",
    "\n",
    "# run forward-backward algorithm\n",
    "println(\"forward stats:\")\n",
    "@time α = SSD.forward(model, loglikelihoods);\n",
    "\n",
    "println(\"backward stats:\")\n",
    "@time β = SSD.backward(model, loglikelihoods);\n",
    "\n",
    "println(\"γ stats:\")\n",
    "@time γ = SSD.calculate_γ(model, α, β)\n",
    "\n",
    "println(\"ξ stats:\")\n",
    "@time ξ = SSD.calculate_ξ(model, α, β, loglikelihoods)\n"
   ]
  },
  {
   "cell_type": "code",
   "execution_count": null,
   "metadata": {},
   "outputs": [],
   "source": []
  },
  {
   "cell_type": "markdown",
   "metadata": {},
   "source": [
    "# Switching Gaussian Regression #"
   ]
  },
  {
   "cell_type": "code",
   "execution_count": 2,
   "metadata": {},
   "outputs": [
    {
     "name": "stdout",
     "output_type": "stream",
     "text": [
      "[0.3347745603700436 0.6652254396299563; 0.16428961944054915 0.8357103805594508]\n",
      "truetrue"
     ]
    }
   ],
   "source": [
    "# Create Emission Models\n",
    "emission_1 = GaussianRegressionEmission(input_dim=3, output_dim=1, include_intercept=true, β=reshape([3, 2, 2, 3], :, 1))\n",
    "emission_2 = GaussianRegressionEmission(input_dim=3, output_dim=1, include_intercept=true, β=reshape([-4, -2, 3, 2], :, 1))\n",
    "\n",
    "# Create Switching Regression Model\n",
    "true_model = SwitchingGaussianRegression(K=2, input_dim=3, output_dim=1, include_intercept=true)\n",
    "\n",
    "# Plug in the emission models\n",
    "true_model.B[1] = emission_1\n",
    "true_model.B[2] = emission_2\n",
    "\n",
    "# Sample from the model\n",
    "n = 20000\n",
    "Φ = randn(3, n)\n",
    "true_labels, data = SSD.sample(true_model, Φ, n=n)\n",
    "\n",
    "# Try to fit a new model to the data\n",
    "test_model = SSD.SwitchingGaussianRegression(K=2, input_dim=3, output_dim=1, include_intercept=true)\n",
    "println(test_model.A)\n",
    "ll = SSD.fit!(test_model, data, Φ)\n",
    "\n",
    "# # Test output -> not quite right yet\n",
    "print(isapprox(test_model.B[1].β, true_model.B[1].β, atol=0.1) || isapprox(test_model.B[1].β, true_model.B[2].β, atol=0.1))\n",
    "print(isapprox(test_model.B[2].β, true_model.B[2].β, atol=0.1) || isapprox(test_model.B[2].β, true_model.B[1].β, atol=0.1))"
   ]
  },
  {
   "cell_type": "markdown",
   "metadata": {},
   "source": [
    "# Switching Multivariate Gaussian Regression"
   ]
  },
  {
   "cell_type": "code",
   "execution_count": 13,
   "metadata": {},
   "outputs": [
    {
     "name": "stdout",
     "output_type": "stream",
     "text": [
      "truetrue"
     ]
    }
   ],
   "source": [
    "# Create Emission Models\n",
    "emission_1 = GaussianRegressionEmission(input_dim=3, output_dim=2, include_intercept=true, β=[-1 5; 3 -2; 6 2; -1 -2])\n",
    "emission_2 = GaussianRegressionEmission(input_dim=3, output_dim=2, include_intercept=true, β=[-2 5; 2 -1; 2 1; -2 -9])\n",
    "\n",
    "# Create Switching Regression Model\n",
    "true_model = SwitchingGaussianRegression(K=2, input_dim=3, output_dim=1, include_intercept=true)\n",
    "true_model.A = [0.9 0.1; 0.2 0.8]\n",
    "\n",
    "# Plug in the emission models\n",
    "true_model.B[1] = emission_1\n",
    "true_model.B[2] = emission_2\n",
    "\n",
    "# Sample from the model\n",
    "n = 20000\n",
    "Φ = randn(3, n)\n",
    "true_labels, data = SSD.sample(true_model, Φ, n=n)\n",
    "\n",
    "# Try to fit a new model to the data\n",
    "test_model = SSD.SwitchingGaussianRegression(K=2, input_dim=3, output_dim=2, include_intercept=true)\n",
    "test_model.A = [0.9999 0.0001; 0.0002 0.9998]\n",
    "ll = SSD.fit!(test_model, data, Φ)\n",
    "\n",
    "# # # Test output -> not quite right yet\n",
    "print(isapprox(test_model.B[1].β, true_model.B[1].β, atol=0.1) || isapprox(test_model.B[1].β, true_model.B[2].β, atol=0.1))\n",
    "print(isapprox(test_model.B[2].β, true_model.B[2].β, atol=0.1) || isapprox(test_model.B[2].β, true_model.B[1].β, atol=0.1))"
   ]
  },
  {
   "cell_type": "code",
   "execution_count": 14,
   "metadata": {},
   "outputs": [
    {
     "data": {
      "image/png": "[encoded data removed]",
      "image/svg+xml": [
       "<?xml version=\"1.0\" encoding=\"utf-8\"?>\n",
       "<svg xmlns=\"http://www.w3.org/2000/svg\" xmlns:xlink=\"http://www.w3.org/1999/xlink\" width=\"600\" height=\"400\" viewBox=\"0 0 2400 1600\">\n",
       "<defs>\n",
       "  <clipPath id=\"clip500\">\n",
       "    <rect x=\"0\" y=\"0\" width=\"2400\" height=\"1600\"/>\n",
       "  </clipPath>\n",
       "</defs>\n",
       "<path clip-path=\"url(#clip500)\" d=\"M0 1600 L2400 1600 L2400 0 L0 0  Z\" fill=\"#ffffff\" fill-rule=\"evenodd\" fill-opacity=\"1\"/>\n",
       "<defs>\n",
       "  <clipPath id=\"clip501\">\n",
       "    <rect x=\"480\" y=\"0\" width=\"1681\" height=\"1600\"/>\n",
       "  </clipPath>\n",
       "</defs>\n",
       "<path clip-path=\"url(#clip500)\" d=\"M343.534 1486.45 L2352.76 1486.45 L2352.76 47.2441 L343.534 47.2441  Z\" fill=\"#ffffff\" fill-rule=\"evenodd\" fill-opacity=\"1\"/>\n",
       "<defs>\n",
       "  <clipPath id=\"clip502\">\n",
       "    <rect x=\"343\" y=\"47\" width=\"2010\" height=\"1440\"/>\n",
       "  </clipPath>\n",
       "</defs>\n",
       "<polyline clip-path=\"url(#clip502)\" style=\"stroke:#000000; stroke-linecap:round; stroke-linejoin:round; stroke-width:2; stroke-opacity:0.1; fill:none\" points=\"589.948,1486.45 589.948,47.2441 \"/>\n",
       "<polyline clip-path=\"url(#clip502)\" style=\"stroke:#000000; stroke-linecap:round; stroke-linejoin:round; stroke-width:2; stroke-opacity:0.1; fill:none\" points=\"969.047,1486.45 969.047,47.2441 \"/>\n",
       "<polyline clip-path=\"url(#clip502)\" style=\"stroke:#000000; stroke-linecap:round; stroke-linejoin:round; stroke-width:2; stroke-opacity:0.1; fill:none\" points=\"1348.15,1486.45 1348.15,47.2441 \"/>\n",
       "<polyline clip-path=\"url(#clip502)\" style=\"stroke:#000000; stroke-linecap:round; stroke-linejoin:round; stroke-width:2; stroke-opacity:0.1; fill:none\" points=\"1727.24,1486.45 1727.24,47.2441 \"/>\n",
       "<polyline clip-path=\"url(#clip502)\" style=\"stroke:#000000; stroke-linecap:round; stroke-linejoin:round; stroke-width:2; stroke-opacity:0.1; fill:none\" points=\"2106.34,1486.45 2106.34,47.2441 \"/>\n",
       "<polyline clip-path=\"url(#clip502)\" style=\"stroke:#000000; stroke-linecap:round; stroke-linejoin:round; stroke-width:2; stroke-opacity:0.1; fill:none\" points=\"343.534,1469.33 2352.76,1469.33 \"/>\n",
       "<polyline clip-path=\"url(#clip502)\" style=\"stroke:#000000; stroke-linecap:round; stroke-linejoin:round; stroke-width:2; stroke-opacity:0.1; fill:none\" points=\"343.534,1114.45 2352.76,1114.45 \"/>\n",
       "<polyline clip-path=\"url(#clip502)\" style=\"stroke:#000000; stroke-linecap:round; stroke-linejoin:round; stroke-width:2; stroke-opacity:0.1; fill:none\" points=\"343.534,759.576 2352.76,759.576 \"/>\n",
       "<polyline clip-path=\"url(#clip502)\" style=\"stroke:#000000; stroke-linecap:round; stroke-linejoin:round; stroke-width:2; stroke-opacity:0.1; fill:none\" points=\"343.534,404.7 2352.76,404.7 \"/>\n",
       "<polyline clip-path=\"url(#clip502)\" style=\"stroke:#000000; stroke-linecap:round; stroke-linejoin:round; stroke-width:2; stroke-opacity:0.1; fill:none\" points=\"343.534,49.8243 2352.76,49.8243 \"/>\n",
       "<polyline clip-path=\"url(#clip500)\" style=\"stroke:#000000; stroke-linecap:round; stroke-linejoin:round; stroke-width:4; stroke-opacity:1; fill:none\" points=\"343.534,1486.45 2352.76,1486.45 \"/>\n",
       "<polyline clip-path=\"url(#clip500)\" style=\"stroke:#000000; stroke-linecap:round; stroke-linejoin:round; stroke-width:4; stroke-opacity:1; fill:none\" points=\"589.948,1486.45 589.948,1467.55 \"/>\n",
       "<polyline clip-path=\"url(#clip500)\" style=\"stroke:#000000; stroke-linecap:round; stroke-linejoin:round; stroke-width:4; stroke-opacity:1; fill:none\" points=\"969.047,1486.45 969.047,1467.55 \"/>\n",
       "<polyline clip-path=\"url(#clip500)\" style=\"stroke:#000000; stroke-linecap:round; stroke-linejoin:round; stroke-width:4; stroke-opacity:1; fill:none\" points=\"1348.15,1486.45 1348.15,1467.55 \"/>\n",
       "<polyline clip-path=\"url(#clip500)\" style=\"stroke:#000000; stroke-linecap:round; stroke-linejoin:round; stroke-width:4; stroke-opacity:1; fill:none\" points=\"1727.24,1486.45 1727.24,1467.55 \"/>\n",
       "<polyline clip-path=\"url(#clip500)\" style=\"stroke:#000000; stroke-linecap:round; stroke-linejoin:round; stroke-width:4; stroke-opacity:1; fill:none\" points=\"2106.34,1486.45 2106.34,1467.55 \"/>\n",
       "<path clip-path=\"url(#clip500)\" d=\"M584.601 1544.91 L600.921 1544.91 L600.921 1548.85 L578.976 1548.85 L578.976 1544.91 Q581.638 1542.16 586.222 1537.53 Q590.828 1532.88 592.009 1531.53 Q594.254 1529.01 595.134 1527.27 Q596.036 1525.51 596.036 1523.82 Q596.036 1521.07 594.092 1519.33 Q592.171 1517.6 589.069 1517.6 Q586.87 1517.6 584.416 1518.36 Q581.985 1519.13 579.208 1520.68 L579.208 1515.95 Q582.032 1514.82 584.485 1514.24 Q586.939 1513.66 588.976 1513.66 Q594.347 1513.66 597.541 1516.35 Q600.735 1519.03 600.735 1523.52 Q600.735 1525.65 599.925 1527.57 Q599.138 1529.47 597.032 1532.07 Q596.453 1532.74 593.351 1535.95 Q590.249 1539.15 584.601 1544.91 Z\" fill=\"#000000\" fill-rule=\"nonzero\" fill-opacity=\"1\" /><path clip-path=\"url(#clip500)\" d=\"M972.056 1518.36 L960.251 1536.81 L972.056 1536.81 L972.056 1518.36 M970.829 1514.29 L976.709 1514.29 L976.709 1536.81 L981.639 1536.81 L981.639 1540.7 L976.709 1540.7 L976.709 1548.85 L972.056 1548.85 L972.056 1540.7 L956.454 1540.7 L956.454 1536.19 L970.829 1514.29 Z\" fill=\"#000000\" fill-rule=\"nonzero\" fill-opacity=\"1\" /><path clip-path=\"url(#clip500)\" d=\"M1348.55 1529.7 Q1345.4 1529.7 1343.55 1531.86 Q1341.72 1534.01 1341.72 1537.76 Q1341.72 1541.49 1343.55 1543.66 Q1345.4 1545.82 1348.55 1545.82 Q1351.7 1545.82 1353.53 1543.66 Q1355.38 1541.49 1355.38 1537.76 Q1355.38 1534.01 1353.53 1531.86 Q1351.7 1529.7 1348.55 1529.7 M1357.83 1515.05 L1357.83 1519.31 Q1356.07 1518.48 1354.27 1518.04 Q1352.49 1517.6 1350.73 1517.6 Q1346.1 1517.6 1343.64 1520.72 Q1341.21 1523.85 1340.87 1530.17 Q1342.23 1528.15 1344.29 1527.09 Q1346.35 1526 1348.83 1526 Q1354.04 1526 1357.05 1529.17 Q1360.08 1532.32 1360.08 1537.76 Q1360.08 1543.08 1356.93 1546.3 Q1353.78 1549.52 1348.55 1549.52 Q1342.55 1549.52 1339.38 1544.94 Q1336.21 1540.33 1336.21 1531.6 Q1336.21 1523.41 1340.1 1518.55 Q1343.99 1513.66 1350.54 1513.66 Q1352.3 1513.66 1354.08 1514.01 Q1355.89 1514.36 1357.83 1515.05 Z\" fill=\"#000000\" fill-rule=\"nonzero\" fill-opacity=\"1\" /><path clip-path=\"url(#clip500)\" d=\"M1727.24 1532.44 Q1723.91 1532.44 1721.99 1534.22 Q1720.09 1536 1720.09 1539.13 Q1720.09 1542.25 1721.99 1544.03 Q1723.91 1545.82 1727.24 1545.82 Q1730.58 1545.82 1732.5 1544.03 Q1734.42 1542.23 1734.42 1539.13 Q1734.42 1536 1732.5 1534.22 Q1730.6 1532.44 1727.24 1532.44 M1722.57 1530.45 Q1719.56 1529.7 1717.87 1527.64 Q1716.2 1525.58 1716.2 1522.62 Q1716.2 1518.48 1719.14 1516.07 Q1722.1 1513.66 1727.24 1513.66 Q1732.41 1513.66 1735.35 1516.07 Q1738.29 1518.48 1738.29 1522.62 Q1738.29 1525.58 1736.6 1527.64 Q1734.93 1529.7 1731.94 1530.45 Q1735.32 1531.23 1737.2 1533.52 Q1739.1 1535.82 1739.1 1539.13 Q1739.1 1544.15 1736.02 1546.83 Q1732.96 1549.52 1727.24 1549.52 Q1721.53 1549.52 1718.45 1546.83 Q1715.39 1544.15 1715.39 1539.13 Q1715.39 1535.82 1717.29 1533.52 Q1719.19 1531.23 1722.57 1530.45 M1720.85 1523.06 Q1720.85 1525.75 1722.52 1527.25 Q1724.21 1528.76 1727.24 1528.76 Q1730.25 1528.76 1731.94 1527.25 Q1733.66 1525.75 1733.66 1523.06 Q1733.66 1520.38 1731.94 1518.87 Q1730.25 1517.37 1727.24 1517.37 Q1724.21 1517.37 1722.52 1518.87 Q1720.85 1520.38 1720.85 1523.06 Z\" fill=\"#000000\" fill-rule=\"nonzero\" fill-opacity=\"1\" /><path clip-path=\"url(#clip500)\" d=\"M2081.03 1544.91 L2088.67 1544.91 L2088.67 1518.55 L2080.36 1520.21 L2080.36 1515.95 L2088.62 1514.29 L2093.3 1514.29 L2093.3 1544.91 L2100.94 1544.91 L2100.94 1548.85 L2081.03 1548.85 L2081.03 1544.91 Z\" fill=\"#000000\" fill-rule=\"nonzero\" fill-opacity=\"1\" /><path clip-path=\"url(#clip500)\" d=\"M2120.38 1517.37 Q2116.77 1517.37 2114.94 1520.93 Q2113.14 1524.47 2113.14 1531.6 Q2113.14 1538.71 2114.94 1542.27 Q2116.77 1545.82 2120.38 1545.82 Q2124.02 1545.82 2125.82 1542.27 Q2127.65 1538.71 2127.65 1531.6 Q2127.65 1524.47 2125.82 1520.93 Q2124.02 1517.37 2120.38 1517.37 M2120.38 1513.66 Q2126.19 1513.66 2129.25 1518.27 Q2132.33 1522.85 2132.33 1531.6 Q2132.33 1540.33 2129.25 1544.94 Q2126.19 1549.52 2120.38 1549.52 Q2114.57 1549.52 2111.49 1544.94 Q2108.44 1540.33 2108.44 1531.6 Q2108.44 1522.85 2111.49 1518.27 Q2114.57 1513.66 2120.38 1513.66 Z\" fill=\"#000000\" fill-rule=\"nonzero\" fill-opacity=\"1\" /><polyline clip-path=\"url(#clip500)\" style=\"stroke:#000000; stroke-linecap:round; stroke-linejoin:round; stroke-width:4; stroke-opacity:1; fill:none\" points=\"343.534,1486.45 343.534,47.2441 \"/>\n",
       "<polyline clip-path=\"url(#clip500)\" style=\"stroke:#000000; stroke-linecap:round; stroke-linejoin:round; stroke-width:4; stroke-opacity:1; fill:none\" points=\"343.534,1469.33 362.432,1469.33 \"/>\n",
       "<polyline clip-path=\"url(#clip500)\" style=\"stroke:#000000; stroke-linecap:round; stroke-linejoin:round; stroke-width:4; stroke-opacity:1; fill:none\" points=\"343.534,1114.45 362.432,1114.45 \"/>\n",
       "<polyline clip-path=\"url(#clip500)\" style=\"stroke:#000000; stroke-linecap:round; stroke-linejoin:round; stroke-width:4; stroke-opacity:1; fill:none\" points=\"343.534,759.576 362.432,759.576 \"/>\n",
       "<polyline clip-path=\"url(#clip500)\" style=\"stroke:#000000; stroke-linecap:round; stroke-linejoin:round; stroke-width:4; stroke-opacity:1; fill:none\" points=\"343.534,404.7 362.432,404.7 \"/>\n",
       "<polyline clip-path=\"url(#clip500)\" style=\"stroke:#000000; stroke-linecap:round; stroke-linejoin:round; stroke-width:4; stroke-opacity:1; fill:none\" points=\"343.534,49.8243 362.432,49.8243 \"/>\n",
       "<path clip-path=\"url(#clip500)\" d=\"M50.9921 1476.23 L80.6679 1476.23 L80.6679 1480.16 L50.9921 1480.16 L50.9921 1476.23 Z\" fill=\"#000000\" fill-rule=\"nonzero\" fill-opacity=\"1\" /><path clip-path=\"url(#clip500)\" d=\"M91.5706 1489.12 L99.2095 1489.12 L99.2095 1462.75 L90.8993 1464.42 L90.8993 1460.16 L99.1632 1458.5 L103.839 1458.5 L103.839 1489.12 L111.478 1489.12 L111.478 1493.06 L91.5706 1493.06 L91.5706 1489.12 Z\" fill=\"#000000\" fill-rule=\"nonzero\" fill-opacity=\"1\" /><path clip-path=\"url(#clip500)\" d=\"M120.922 1487.18 L125.807 1487.18 L125.807 1493.06 L120.922 1493.06 L120.922 1487.18 Z\" fill=\"#000000\" fill-rule=\"nonzero\" fill-opacity=\"1\" /><path clip-path=\"url(#clip500)\" d=\"M145.992 1461.57 Q142.381 1461.57 140.552 1465.14 Q138.746 1468.68 138.746 1475.81 Q138.746 1482.92 140.552 1486.48 Q142.381 1490.02 145.992 1490.02 Q149.626 1490.02 151.431 1486.48 Q153.26 1482.92 153.26 1475.81 Q153.26 1468.68 151.431 1465.14 Q149.626 1461.57 145.992 1461.57 M145.992 1457.87 Q151.802 1457.87 154.857 1462.48 Q157.936 1467.06 157.936 1475.81 Q157.936 1484.54 154.857 1489.14 Q151.802 1493.73 145.992 1493.73 Q140.181 1493.73 137.103 1489.14 Q134.047 1484.54 134.047 1475.81 Q134.047 1467.06 137.103 1462.48 Q140.181 1457.87 145.992 1457.87 Z\" fill=\"#000000\" fill-rule=\"nonzero\" fill-opacity=\"1\" /><path clip-path=\"url(#clip500)\" d=\"M176.153 1461.57 Q172.542 1461.57 170.714 1465.14 Q168.908 1468.68 168.908 1475.81 Q168.908 1482.92 170.714 1486.48 Q172.542 1490.02 176.153 1490.02 Q179.788 1490.02 181.593 1486.48 Q183.422 1482.92 183.422 1475.81 Q183.422 1468.68 181.593 1465.14 Q179.788 1461.57 176.153 1461.57 M176.153 1457.87 Q181.964 1457.87 185.019 1462.48 Q188.098 1467.06 188.098 1475.81 Q188.098 1484.54 185.019 1489.14 Q181.964 1493.73 176.153 1493.73 Q170.343 1493.73 167.265 1489.14 Q164.209 1484.54 164.209 1475.81 Q164.209 1467.06 167.265 1462.48 Q170.343 1457.87 176.153 1457.87 Z\" fill=\"#000000\" fill-rule=\"nonzero\" fill-opacity=\"1\" /><path clip-path=\"url(#clip500)\" d=\"M224.487 1467.59 L213.908 1478.22 L224.487 1488.8 L221.732 1491.6 L211.107 1480.97 L200.482 1491.6 L197.751 1488.8 L208.306 1478.22 L197.751 1467.59 L200.482 1464.79 L211.107 1475.42 L221.732 1464.79 L224.487 1467.59 Z\" fill=\"#000000\" fill-rule=\"nonzero\" fill-opacity=\"1\" /><path clip-path=\"url(#clip500)\" d=\"M236.848 1489.12 L244.486 1489.12 L244.486 1462.75 L236.176 1464.42 L236.176 1460.16 L244.44 1458.5 L249.116 1458.5 L249.116 1489.12 L256.755 1489.12 L256.755 1493.06 L236.848 1493.06 L236.848 1489.12 Z\" fill=\"#000000\" fill-rule=\"nonzero\" fill-opacity=\"1\" /><path clip-path=\"url(#clip500)\" d=\"M276.199 1461.57 Q272.588 1461.57 270.759 1465.14 Q268.954 1468.68 268.954 1475.81 Q268.954 1482.92 270.759 1486.48 Q272.588 1490.02 276.199 1490.02 Q279.833 1490.02 281.639 1486.48 Q283.468 1482.92 283.468 1475.81 Q283.468 1468.68 281.639 1465.14 Q279.833 1461.57 276.199 1461.57 M276.199 1457.87 Q282.009 1457.87 285.065 1462.48 Q288.144 1467.06 288.144 1475.81 Q288.144 1484.54 285.065 1489.14 Q282.009 1493.73 276.199 1493.73 Q270.389 1493.73 267.31 1489.14 Q264.255 1484.54 264.255 1475.81 Q264.255 1467.06 267.31 1462.48 Q270.389 1457.87 276.199 1457.87 Z\" fill=\"#000000\" fill-rule=\"nonzero\" fill-opacity=\"1\" /><path clip-path=\"url(#clip500)\" d=\"M298.168 1450.09 Q295.61 1450.09 294.106 1451.84 Q292.62 1453.59 292.62 1456.64 Q292.62 1459.66 294.106 1461.43 Q295.61 1463.18 298.168 1463.18 Q300.726 1463.18 302.212 1461.43 Q303.716 1459.66 303.716 1456.64 Q303.716 1453.59 302.212 1451.84 Q300.726 1450.09 298.168 1450.09 M305.71 1438.19 L305.71 1441.65 Q304.281 1440.97 302.814 1440.61 Q301.365 1440.25 299.936 1440.25 Q296.175 1440.25 294.181 1442.79 Q292.206 1445.33 291.924 1450.47 Q293.034 1448.83 294.708 1447.97 Q296.381 1447.08 298.394 1447.08 Q302.626 1447.08 305.071 1449.66 Q307.534 1452.22 307.534 1456.64 Q307.534 1460.96 304.977 1463.58 Q302.419 1466.19 298.168 1466.19 Q293.297 1466.19 290.72 1462.47 Q288.144 1458.72 288.144 1451.63 Q288.144 1444.98 291.303 1441.03 Q294.463 1437.06 299.786 1437.06 Q301.215 1437.06 302.663 1437.34 Q304.13 1437.62 305.71 1438.19 Z\" fill=\"#000000\" fill-rule=\"nonzero\" fill-opacity=\"1\" /><path clip-path=\"url(#clip500)\" d=\"M52.2146 1121.35 L81.8904 1121.35 L81.8904 1125.29 L52.2146 1125.29 L52.2146 1121.35 Z\" fill=\"#000000\" fill-rule=\"nonzero\" fill-opacity=\"1\" /><path clip-path=\"url(#clip500)\" d=\"M90.8024 1103.62 L113.024 1103.62 L113.024 1105.61 L100.478 1138.18 L95.594 1138.18 L107.4 1107.55 L90.8024 1107.55 L90.8024 1103.62 Z\" fill=\"#000000\" fill-rule=\"nonzero\" fill-opacity=\"1\" /><path clip-path=\"url(#clip500)\" d=\"M122.145 1132.3 L127.029 1132.3 L127.029 1138.18 L122.145 1138.18 L122.145 1132.3 Z\" fill=\"#000000\" fill-rule=\"nonzero\" fill-opacity=\"1\" /><path clip-path=\"url(#clip500)\" d=\"M137.26 1103.62 L155.617 1103.62 L155.617 1107.55 L141.543 1107.55 L141.543 1116.03 Q142.561 1115.68 143.58 1115.52 Q144.598 1115.33 145.617 1115.33 Q151.404 1115.33 154.784 1118.5 Q158.163 1121.67 158.163 1127.09 Q158.163 1132.67 154.691 1135.77 Q151.219 1138.85 144.899 1138.85 Q142.723 1138.85 140.455 1138.48 Q138.21 1138.11 135.802 1137.37 L135.802 1132.67 Q137.885 1133.8 140.108 1134.36 Q142.33 1134.92 144.807 1134.92 Q148.811 1134.92 151.149 1132.81 Q153.487 1130.7 153.487 1127.09 Q153.487 1123.48 151.149 1121.37 Q148.811 1119.27 144.807 1119.27 Q142.932 1119.27 141.057 1119.68 Q139.205 1120.1 137.26 1120.98 L137.26 1103.62 Z\" fill=\"#000000\" fill-rule=\"nonzero\" fill-opacity=\"1\" /><path clip-path=\"url(#clip500)\" d=\"M177.376 1106.7 Q173.765 1106.7 171.936 1110.26 Q170.131 1113.8 170.131 1120.93 Q170.131 1128.04 171.936 1131.61 Q173.765 1135.15 177.376 1135.15 Q181.01 1135.15 182.816 1131.61 Q184.644 1128.04 184.644 1120.93 Q184.644 1113.8 182.816 1110.26 Q181.01 1106.7 177.376 1106.7 M177.376 1102.99 Q183.186 1102.99 186.242 1107.6 Q189.32 1112.18 189.32 1120.93 Q189.32 1129.66 186.242 1134.27 Q183.186 1138.85 177.376 1138.85 Q171.566 1138.85 168.487 1134.27 Q165.432 1129.66 165.432 1120.93 Q165.432 1112.18 168.487 1107.6 Q171.566 1102.99 177.376 1102.99 Z\" fill=\"#000000\" fill-rule=\"nonzero\" fill-opacity=\"1\" /><path clip-path=\"url(#clip500)\" d=\"M225.709 1112.72 L215.13 1123.34 L225.709 1133.92 L222.954 1136.72 L212.33 1126.1 L201.705 1136.72 L198.973 1133.92 L209.529 1123.34 L198.973 1112.72 L201.705 1109.92 L212.33 1120.54 L222.954 1109.92 L225.709 1112.72 Z\" fill=\"#000000\" fill-rule=\"nonzero\" fill-opacity=\"1\" /><path clip-path=\"url(#clip500)\" d=\"M238.07 1134.24 L245.709 1134.24 L245.709 1107.88 L237.399 1109.55 L237.399 1105.29 L245.663 1103.62 L250.339 1103.62 L250.339 1134.24 L257.977 1134.24 L257.977 1138.18 L238.07 1138.18 L238.07 1134.24 Z\" fill=\"#000000\" fill-rule=\"nonzero\" fill-opacity=\"1\" /><path clip-path=\"url(#clip500)\" d=\"M277.422 1106.7 Q273.811 1106.7 271.982 1110.26 Q270.176 1113.8 270.176 1120.93 Q270.176 1128.04 271.982 1131.61 Q273.811 1135.15 277.422 1135.15 Q281.056 1135.15 282.862 1131.61 Q284.69 1128.04 284.69 1120.93 Q284.69 1113.8 282.862 1110.26 Q281.056 1106.7 277.422 1106.7 M277.422 1102.99 Q283.232 1102.99 286.287 1107.6 Q289.366 1112.18 289.366 1120.93 Q289.366 1129.66 286.287 1134.27 Q283.232 1138.85 277.422 1138.85 Q271.612 1138.85 268.533 1134.27 Q265.477 1129.66 265.477 1120.93 Q265.477 1112.18 268.533 1107.6 Q271.612 1102.99 277.422 1102.99 Z\" fill=\"#000000\" fill-rule=\"nonzero\" fill-opacity=\"1\" /><path clip-path=\"url(#clip500)\" d=\"M290.551 1082.69 L305.466 1082.69 L305.466 1085.89 L294.03 1085.89 L294.03 1092.77 Q294.858 1092.49 295.686 1092.36 Q296.513 1092.21 297.341 1092.21 Q302.043 1092.21 304.789 1094.78 Q307.534 1097.36 307.534 1101.76 Q307.534 1106.29 304.713 1108.81 Q301.892 1111.31 296.758 1111.31 Q294.99 1111.31 293.146 1111.01 Q291.322 1110.71 289.366 1110.11 L289.366 1106.29 Q291.059 1107.21 292.864 1107.67 Q294.67 1108.12 296.682 1108.12 Q299.936 1108.12 301.836 1106.41 Q303.735 1104.69 303.735 1101.76 Q303.735 1098.83 301.836 1097.11 Q299.936 1095.4 296.682 1095.4 Q295.159 1095.4 293.636 1095.74 Q292.131 1096.08 290.551 1096.79 L290.551 1082.69 Z\" fill=\"#000000\" fill-rule=\"nonzero\" fill-opacity=\"1\" /><path clip-path=\"url(#clip500)\" d=\"M52.2146 766.475 L81.8904 766.475 L81.8904 770.41 L52.2146 770.41 L52.2146 766.475 Z\" fill=\"#000000\" fill-rule=\"nonzero\" fill-opacity=\"1\" /><path clip-path=\"url(#clip500)\" d=\"M92.0292 748.744 L110.386 748.744 L110.386 752.679 L96.3116 752.679 L96.3116 761.151 Q97.3301 760.804 98.3486 760.642 Q99.3672 760.456 100.386 760.456 Q106.173 760.456 109.552 763.628 Q112.932 766.799 112.932 772.216 Q112.932 777.794 109.46 780.896 Q105.987 783.975 99.6681 783.975 Q97.4922 783.975 95.2237 783.604 Q92.9783 783.234 90.5709 782.493 L90.5709 777.794 Q92.6542 778.929 94.8764 779.484 Q97.0986 780.04 99.5755 780.04 Q103.58 780.04 105.918 777.933 Q108.256 775.827 108.256 772.216 Q108.256 768.605 105.918 766.498 Q103.58 764.392 99.5755 764.392 Q97.7005 764.392 95.8255 764.808 Q93.9737 765.225 92.0292 766.105 L92.0292 748.744 Z\" fill=\"#000000\" fill-rule=\"nonzero\" fill-opacity=\"1\" /><path clip-path=\"url(#clip500)\" d=\"M122.145 777.424 L127.029 777.424 L127.029 783.304 L122.145 783.304 L122.145 777.424 Z\" fill=\"#000000\" fill-rule=\"nonzero\" fill-opacity=\"1\" /><path clip-path=\"url(#clip500)\" d=\"M147.214 751.822 Q143.603 751.822 141.774 755.387 Q139.969 758.929 139.969 766.058 Q139.969 773.165 141.774 776.729 Q143.603 780.271 147.214 780.271 Q150.848 780.271 152.654 776.729 Q154.483 773.165 154.483 766.058 Q154.483 758.929 152.654 755.387 Q150.848 751.822 147.214 751.822 M147.214 748.119 Q153.024 748.119 156.08 752.725 Q159.159 757.308 159.159 766.058 Q159.159 774.785 156.08 779.392 Q153.024 783.975 147.214 783.975 Q141.404 783.975 138.325 779.392 Q135.27 774.785 135.27 766.058 Q135.27 757.308 138.325 752.725 Q141.404 748.119 147.214 748.119 Z\" fill=\"#000000\" fill-rule=\"nonzero\" fill-opacity=\"1\" /><path clip-path=\"url(#clip500)\" d=\"M177.376 751.822 Q173.765 751.822 171.936 755.387 Q170.131 758.929 170.131 766.058 Q170.131 773.165 171.936 776.729 Q173.765 780.271 177.376 780.271 Q181.01 780.271 182.816 776.729 Q184.644 773.165 184.644 766.058 Q184.644 758.929 182.816 755.387 Q181.01 751.822 177.376 751.822 M177.376 748.119 Q183.186 748.119 186.242 752.725 Q189.32 757.308 189.32 766.058 Q189.32 774.785 186.242 779.392 Q183.186 783.975 177.376 783.975 Q171.566 783.975 168.487 779.392 Q165.432 774.785 165.432 766.058 Q165.432 757.308 168.487 752.725 Q171.566 748.119 177.376 748.119 Z\" fill=\"#000000\" fill-rule=\"nonzero\" fill-opacity=\"1\" /><path clip-path=\"url(#clip500)\" d=\"M225.709 757.841 L215.13 768.466 L225.709 779.044 L222.954 781.845 L212.33 771.22 L201.705 781.845 L198.973 779.044 L209.529 768.466 L198.973 757.841 L201.705 755.04 L212.33 765.665 L222.954 755.04 L225.709 757.841 Z\" fill=\"#000000\" fill-rule=\"nonzero\" fill-opacity=\"1\" /><path clip-path=\"url(#clip500)\" d=\"M238.07 779.368 L245.709 779.368 L245.709 753.003 L237.399 754.669 L237.399 750.41 L245.663 748.744 L250.339 748.744 L250.339 779.368 L257.977 779.368 L257.977 783.304 L238.07 783.304 L238.07 779.368 Z\" fill=\"#000000\" fill-rule=\"nonzero\" fill-opacity=\"1\" /><path clip-path=\"url(#clip500)\" d=\"M277.422 751.822 Q273.811 751.822 271.982 755.387 Q270.176 758.929 270.176 766.058 Q270.176 773.165 271.982 776.729 Q273.811 780.271 277.422 780.271 Q281.056 780.271 282.862 776.729 Q284.69 773.165 284.69 766.058 Q284.69 758.929 282.862 755.387 Q281.056 751.822 277.422 751.822 M277.422 748.119 Q283.232 748.119 286.287 752.725 Q289.366 757.308 289.366 766.058 Q289.366 774.785 286.287 779.392 Q283.232 783.975 277.422 783.975 Q271.612 783.975 268.533 779.392 Q265.477 774.785 265.477 766.058 Q265.477 757.308 268.533 752.725 Q271.612 748.119 277.422 748.119 Z\" fill=\"#000000\" fill-rule=\"nonzero\" fill-opacity=\"1\" /><path clip-path=\"url(#clip500)\" d=\"M290.551 727.813 L305.466 727.813 L305.466 731.01 L294.03 731.01 L294.03 737.894 Q294.858 737.612 295.686 737.48 Q296.513 737.33 297.341 737.33 Q302.043 737.33 304.789 739.907 Q307.534 742.483 307.534 746.884 Q307.534 751.417 304.713 753.937 Q301.892 756.439 296.758 756.439 Q294.99 756.439 293.146 756.138 Q291.322 755.837 289.366 755.235 L289.366 751.417 Q291.059 752.338 292.864 752.79 Q294.67 753.241 296.682 753.241 Q299.936 753.241 301.836 751.53 Q303.735 749.818 303.735 746.884 Q303.735 743.95 301.836 742.239 Q299.936 740.527 296.682 740.527 Q295.159 740.527 293.636 740.866 Q292.131 741.204 290.551 741.919 L290.551 727.813 Z\" fill=\"#000000\" fill-rule=\"nonzero\" fill-opacity=\"1\" /><path clip-path=\"url(#clip500)\" d=\"M52.2146 411.599 L81.8904 411.599 L81.8904 415.534 L52.2146 415.534 L52.2146 411.599 Z\" fill=\"#000000\" fill-rule=\"nonzero\" fill-opacity=\"1\" /><path clip-path=\"url(#clip500)\" d=\"M96.0107 424.493 L112.33 424.493 L112.33 428.428 L90.3857 428.428 L90.3857 424.493 Q93.0477 421.738 97.6311 417.108 Q102.238 412.456 103.418 411.113 Q105.663 408.59 106.543 406.854 Q107.446 405.095 107.446 403.405 Q107.446 400.65 105.501 398.914 Q103.58 397.178 100.478 397.178 Q98.2792 397.178 95.8255 397.942 Q93.395 398.706 90.6172 400.257 L90.6172 395.534 Q93.4413 394.4 95.895 393.821 Q98.3486 393.243 100.386 393.243 Q105.756 393.243 108.95 395.928 Q112.145 398.613 112.145 403.104 Q112.145 405.233 111.335 407.155 Q110.548 409.053 108.441 411.645 Q107.862 412.317 104.761 415.534 Q101.659 418.729 96.0107 424.493 Z\" fill=\"#000000\" fill-rule=\"nonzero\" fill-opacity=\"1\" /><path clip-path=\"url(#clip500)\" d=\"M122.145 422.548 L127.029 422.548 L127.029 428.428 L122.145 428.428 L122.145 422.548 Z\" fill=\"#000000\" fill-rule=\"nonzero\" fill-opacity=\"1\" /><path clip-path=\"url(#clip500)\" d=\"M137.26 393.868 L155.617 393.868 L155.617 397.803 L141.543 397.803 L141.543 406.275 Q142.561 405.928 143.58 405.766 Q144.598 405.581 145.617 405.581 Q151.404 405.581 154.784 408.752 Q158.163 411.923 158.163 417.34 Q158.163 422.918 154.691 426.02 Q151.219 429.099 144.899 429.099 Q142.723 429.099 140.455 428.729 Q138.21 428.358 135.802 427.618 L135.802 422.918 Q137.885 424.053 140.108 424.608 Q142.33 425.164 144.807 425.164 Q148.811 425.164 151.149 423.057 Q153.487 420.951 153.487 417.34 Q153.487 413.729 151.149 411.622 Q148.811 409.516 144.807 409.516 Q142.932 409.516 141.057 409.932 Q139.205 410.349 137.26 411.229 L137.26 393.868 Z\" fill=\"#000000\" fill-rule=\"nonzero\" fill-opacity=\"1\" /><path clip-path=\"url(#clip500)\" d=\"M177.376 396.946 Q173.765 396.946 171.936 400.511 Q170.131 404.053 170.131 411.182 Q170.131 418.289 171.936 421.854 Q173.765 425.395 177.376 425.395 Q181.01 425.395 182.816 421.854 Q184.644 418.289 184.644 411.182 Q184.644 404.053 182.816 400.511 Q181.01 396.946 177.376 396.946 M177.376 393.243 Q183.186 393.243 186.242 397.849 Q189.32 402.432 189.32 411.182 Q189.32 419.909 186.242 424.516 Q183.186 429.099 177.376 429.099 Q171.566 429.099 168.487 424.516 Q165.432 419.909 165.432 411.182 Q165.432 402.432 168.487 397.849 Q171.566 393.243 177.376 393.243 Z\" fill=\"#000000\" fill-rule=\"nonzero\" fill-opacity=\"1\" /><path clip-path=\"url(#clip500)\" d=\"M225.709 402.965 L215.13 413.59 L225.709 424.168 L222.954 426.969 L212.33 416.344 L201.705 426.969 L198.973 424.168 L209.529 413.59 L198.973 402.965 L201.705 400.164 L212.33 410.789 L222.954 400.164 L225.709 402.965 Z\" fill=\"#000000\" fill-rule=\"nonzero\" fill-opacity=\"1\" /><path clip-path=\"url(#clip500)\" d=\"M238.07 424.493 L245.709 424.493 L245.709 398.127 L237.399 399.794 L237.399 395.534 L245.663 393.868 L250.339 393.868 L250.339 424.493 L257.977 424.493 L257.977 428.428 L238.07 428.428 L238.07 424.493 Z\" fill=\"#000000\" fill-rule=\"nonzero\" fill-opacity=\"1\" /><path clip-path=\"url(#clip500)\" d=\"M277.422 396.946 Q273.811 396.946 271.982 400.511 Q270.176 404.053 270.176 411.182 Q270.176 418.289 271.982 421.854 Q273.811 425.395 277.422 425.395 Q281.056 425.395 282.862 421.854 Q284.69 418.289 284.69 411.182 Q284.69 404.053 282.862 400.511 Q281.056 396.946 277.422 396.946 M277.422 393.243 Q283.232 393.243 286.287 397.849 Q289.366 402.432 289.366 411.182 Q289.366 419.909 286.287 424.516 Q283.232 429.099 277.422 429.099 Q271.612 429.099 268.533 424.516 Q265.477 419.909 265.477 411.182 Q265.477 402.432 268.533 397.849 Q271.612 393.243 277.422 393.243 Z\" fill=\"#000000\" fill-rule=\"nonzero\" fill-opacity=\"1\" /><path clip-path=\"url(#clip500)\" d=\"M290.551 372.937 L305.466 372.937 L305.466 376.135 L294.03 376.135 L294.03 383.018 Q294.858 382.736 295.686 382.605 Q296.513 382.454 297.341 382.454 Q302.043 382.454 304.789 385.031 Q307.534 387.607 307.534 392.008 Q307.534 396.541 304.713 399.061 Q301.892 401.563 296.758 401.563 Q294.99 401.563 293.146 401.262 Q291.322 400.961 289.366 400.359 L289.366 396.541 Q291.059 397.463 292.864 397.914 Q294.67 398.365 296.682 398.365 Q299.936 398.365 301.836 396.654 Q303.735 394.942 303.735 392.008 Q303.735 389.074 301.836 387.363 Q299.936 385.651 296.682 385.651 Q295.159 385.651 293.636 385.99 Q292.131 386.328 290.551 387.043 L290.551 372.937 Z\" fill=\"#000000\" fill-rule=\"nonzero\" fill-opacity=\"1\" /><path clip-path=\"url(#clip500)\" d=\"M295.59 35.623 Q291.979 35.623 290.15 39.1878 Q288.345 42.7294 288.345 49.859 Q288.345 56.9655 290.15 60.5303 Q291.979 64.0719 295.59 64.0719 Q299.224 64.0719 301.03 60.5303 Q302.859 56.9655 302.859 49.859 Q302.859 42.7294 301.03 39.1878 Q299.224 35.623 295.59 35.623 M295.59 31.9193 Q301.4 31.9193 304.456 36.5258 Q307.534 41.1091 307.534 49.859 Q307.534 58.5858 304.456 63.1923 Q301.4 67.7756 295.59 67.7756 Q289.78 67.7756 286.701 63.1923 Q283.646 58.5858 283.646 49.859 Q283.646 41.1091 286.701 36.5258 Q289.78 31.9193 295.59 31.9193 Z\" fill=\"#000000\" fill-rule=\"nonzero\" fill-opacity=\"1\" /><polyline clip-path=\"url(#clip502)\" style=\"stroke:#009af9; stroke-linecap:round; stroke-linejoin:round; stroke-width:4; stroke-opacity:1; fill:none\" points=\"589.948,1445.72 779.498,290.434 969.047,269.297 1158.6,99.6329 1348.15,87.988 1537.69,87.9764 1727.24,87.9763 1916.79,87.9763 2106.34,87.9763 2295.89,87.9763 \"/>\n",
       "<path clip-path=\"url(#clip500)\" d=\"M2032.43 1438.47 L2285.78 1438.47 L2285.78 1334.79 L2032.43 1334.79  Z\" fill=\"#ffffff\" fill-rule=\"evenodd\" fill-opacity=\"1\"/>\n",
       "<polyline clip-path=\"url(#clip500)\" style=\"stroke:#000000; stroke-linecap:round; stroke-linejoin:round; stroke-width:4; stroke-opacity:1; fill:none\" points=\"2032.43,1438.47 2285.78,1438.47 2285.78,1334.79 2032.43,1334.79 2032.43,1438.47 \"/>\n",
       "<polyline clip-path=\"url(#clip500)\" style=\"stroke:#009af9; stroke-linecap:round; stroke-linejoin:round; stroke-width:4; stroke-opacity:1; fill:none\" points=\"2054.75,1386.63 2188.7,1386.63 \"/>\n",
       "<path clip-path=\"url(#clip500)\" d=\"M2224.87 1406.32 Q2223.06 1410.95 2221.35 1412.36 Q2219.64 1413.78 2216.77 1413.78 L2213.36 1413.78 L2213.36 1410.21 L2215.86 1410.21 Q2217.62 1410.21 2218.6 1409.38 Q2219.57 1408.54 2220.75 1405.44 L2221.51 1403.5 L2211.03 1377.99 L2215.54 1377.99 L2223.64 1398.27 L2231.74 1377.99 L2236.26 1377.99 L2224.87 1406.32 Z\" fill=\"#000000\" fill-rule=\"nonzero\" fill-opacity=\"1\" /><path clip-path=\"url(#clip500)\" d=\"M2243.55 1399.98 L2251.19 1399.98 L2251.19 1373.61 L2242.88 1375.28 L2242.88 1371.02 L2251.14 1369.35 L2255.82 1369.35 L2255.82 1399.98 L2263.46 1399.98 L2263.46 1403.91 L2243.55 1403.91 L2243.55 1399.98 Z\" fill=\"#000000\" fill-rule=\"nonzero\" fill-opacity=\"1\" /></svg>\n"
      ],
      "text/html": [
       "<?xml version=\"1.0\" encoding=\"utf-8\"?>\n",
       "<svg xmlns=\"http://www.w3.org/2000/svg\" xmlns:xlink=\"http://www.w3.org/1999/xlink\" width=\"600\" height=\"400\" viewBox=\"0 0 2400 1600\">\n",
       "<defs>\n",
       "  <clipPath id=\"clip550\">\n",
       "    <rect x=\"0\" y=\"0\" width=\"2400\" height=\"1600\"/>\n",
       "  </clipPath>\n",
       "</defs>\n",
       "<path clip-path=\"url(#clip550)\" d=\"M0 1600 L2400 1600 L2400 0 L0 0  Z\" fill=\"#ffffff\" fill-rule=\"evenodd\" fill-opacity=\"1\"/>\n",
       "<defs>\n",
       "  <clipPath id=\"clip551\">\n",
       "    <rect x=\"480\" y=\"0\" width=\"1681\" height=\"1600\"/>\n",
       "  </clipPath>\n",
       "</defs>\n",
       "<path clip-path=\"url(#clip550)\" d=\"M343.534 1486.45 L2352.76 1486.45 L2352.76 47.2441 L343.534 47.2441  Z\" fill=\"#ffffff\" fill-rule=\"evenodd\" fill-opacity=\"1\"/>\n",
       "<defs>\n",
       "  <clipPath id=\"clip552\">\n",
       "    <rect x=\"343\" y=\"47\" width=\"2010\" height=\"1440\"/>\n",
       "  </clipPath>\n",
       "</defs>\n",
       "<polyline clip-path=\"url(#clip552)\" style=\"stroke:#000000; stroke-linecap:round; stroke-linejoin:round; stroke-width:2; stroke-opacity:0.1; fill:none\" points=\"589.948,1486.45 589.948,47.2441 \"/>\n",
       "<polyline clip-path=\"url(#clip552)\" style=\"stroke:#000000; stroke-linecap:round; stroke-linejoin:round; stroke-width:2; stroke-opacity:0.1; fill:none\" points=\"969.047,1486.45 969.047,47.2441 \"/>\n",
       "<polyline clip-path=\"url(#clip552)\" style=\"stroke:#000000; stroke-linecap:round; stroke-linejoin:round; stroke-width:2; stroke-opacity:0.1; fill:none\" points=\"1348.15,1486.45 1348.15,47.2441 \"/>\n",
       "<polyline clip-path=\"url(#clip552)\" style=\"stroke:#000000; stroke-linecap:round; stroke-linejoin:round; stroke-width:2; stroke-opacity:0.1; fill:none\" points=\"1727.24,1486.45 1727.24,47.2441 \"/>\n",
       "<polyline clip-path=\"url(#clip552)\" style=\"stroke:#000000; stroke-linecap:round; stroke-linejoin:round; stroke-width:2; stroke-opacity:0.1; fill:none\" points=\"2106.34,1486.45 2106.34,47.2441 \"/>\n",
       "<polyline clip-path=\"url(#clip552)\" style=\"stroke:#000000; stroke-linecap:round; stroke-linejoin:round; stroke-width:2; stroke-opacity:0.1; fill:none\" points=\"343.534,1469.33 2352.76,1469.33 \"/>\n",
       "<polyline clip-path=\"url(#clip552)\" style=\"stroke:#000000; stroke-linecap:round; stroke-linejoin:round; stroke-width:2; stroke-opacity:0.1; fill:none\" points=\"343.534,1114.45 2352.76,1114.45 \"/>\n",
       "<polyline clip-path=\"url(#clip552)\" style=\"stroke:#000000; stroke-linecap:round; stroke-linejoin:round; stroke-width:2; stroke-opacity:0.1; fill:none\" points=\"343.534,759.576 2352.76,759.576 \"/>\n",
       "<polyline clip-path=\"url(#clip552)\" style=\"stroke:#000000; stroke-linecap:round; stroke-linejoin:round; stroke-width:2; stroke-opacity:0.1; fill:none\" points=\"343.534,404.7 2352.76,404.7 \"/>\n",
       "<polyline clip-path=\"url(#clip552)\" style=\"stroke:#000000; stroke-linecap:round; stroke-linejoin:round; stroke-width:2; stroke-opacity:0.1; fill:none\" points=\"343.534,49.8243 2352.76,49.8243 \"/>\n",
       "<polyline clip-path=\"url(#clip550)\" style=\"stroke:#000000; stroke-linecap:round; stroke-linejoin:round; stroke-width:4; stroke-opacity:1; fill:none\" points=\"343.534,1486.45 2352.76,1486.45 \"/>\n",
       "<polyline clip-path=\"url(#clip550)\" style=\"stroke:#000000; stroke-linecap:round; stroke-linejoin:round; stroke-width:4; stroke-opacity:1; fill:none\" points=\"589.948,1486.45 589.948,1467.55 \"/>\n",
       "<polyline clip-path=\"url(#clip550)\" style=\"stroke:#000000; stroke-linecap:round; stroke-linejoin:round; stroke-width:4; stroke-opacity:1; fill:none\" points=\"969.047,1486.45 969.047,1467.55 \"/>\n",
       "<polyline clip-path=\"url(#clip550)\" style=\"stroke:#000000; stroke-linecap:round; stroke-linejoin:round; stroke-width:4; stroke-opacity:1; fill:none\" points=\"1348.15,1486.45 1348.15,1467.55 \"/>\n",
       "<polyline clip-path=\"url(#clip550)\" style=\"stroke:#000000; stroke-linecap:round; stroke-linejoin:round; stroke-width:4; stroke-opacity:1; fill:none\" points=\"1727.24,1486.45 1727.24,1467.55 \"/>\n",
       "<polyline clip-path=\"url(#clip550)\" style=\"stroke:#000000; stroke-linecap:round; stroke-linejoin:round; stroke-width:4; stroke-opacity:1; fill:none\" points=\"2106.34,1486.45 2106.34,1467.55 \"/>\n",
       "<path clip-path=\"url(#clip550)\" d=\"M584.601 1544.91 L600.921 1544.91 L600.921 1548.85 L578.976 1548.85 L578.976 1544.91 Q581.638 1542.16 586.222 1537.53 Q590.828 1532.88 592.009 1531.53 Q594.254 1529.01 595.134 1527.27 Q596.036 1525.51 596.036 1523.82 Q596.036 1521.07 594.092 1519.33 Q592.171 1517.6 589.069 1517.6 Q586.87 1517.6 584.416 1518.36 Q581.985 1519.13 579.208 1520.68 L579.208 1515.95 Q582.032 1514.82 584.485 1514.24 Q586.939 1513.66 588.976 1513.66 Q594.347 1513.66 597.541 1516.35 Q600.735 1519.03 600.735 1523.52 Q600.735 1525.65 599.925 1527.57 Q599.138 1529.47 597.032 1532.07 Q596.453 1532.74 593.351 1535.95 Q590.249 1539.15 584.601 1544.91 Z\" fill=\"#000000\" fill-rule=\"nonzero\" fill-opacity=\"1\" /><path clip-path=\"url(#clip550)\" d=\"M972.056 1518.36 L960.251 1536.81 L972.056 1536.81 L972.056 1518.36 M970.829 1514.29 L976.709 1514.29 L976.709 1536.81 L981.639 1536.81 L981.639 1540.7 L976.709 1540.7 L976.709 1548.85 L972.056 1548.85 L972.056 1540.7 L956.454 1540.7 L956.454 1536.19 L970.829 1514.29 Z\" fill=\"#000000\" fill-rule=\"nonzero\" fill-opacity=\"1\" /><path clip-path=\"url(#clip550)\" d=\"M1348.55 1529.7 Q1345.4 1529.7 1343.55 1531.86 Q1341.72 1534.01 1341.72 1537.76 Q1341.72 1541.49 1343.55 1543.66 Q1345.4 1545.82 1348.55 1545.82 Q1351.7 1545.82 1353.53 1543.66 Q1355.38 1541.49 1355.38 1537.76 Q1355.38 1534.01 1353.53 1531.86 Q1351.7 1529.7 1348.55 1529.7 M1357.83 1515.05 L1357.83 1519.31 Q1356.07 1518.48 1354.27 1518.04 Q1352.49 1517.6 1350.73 1517.6 Q1346.1 1517.6 1343.64 1520.72 Q1341.21 1523.85 1340.87 1530.17 Q1342.23 1528.15 1344.29 1527.09 Q1346.35 1526 1348.83 1526 Q1354.04 1526 1357.05 1529.17 Q1360.08 1532.32 1360.08 1537.76 Q1360.08 1543.08 1356.93 1546.3 Q1353.78 1549.52 1348.55 1549.52 Q1342.55 1549.52 1339.38 1544.94 Q1336.21 1540.33 1336.21 1531.6 Q1336.21 1523.41 1340.1 1518.55 Q1343.99 1513.66 1350.54 1513.66 Q1352.3 1513.66 1354.08 1514.01 Q1355.89 1514.36 1357.83 1515.05 Z\" fill=\"#000000\" fill-rule=\"nonzero\" fill-opacity=\"1\" /><path clip-path=\"url(#clip550)\" d=\"M1727.24 1532.44 Q1723.91 1532.44 1721.99 1534.22 Q1720.09 1536 1720.09 1539.13 Q1720.09 1542.25 1721.99 1544.03 Q1723.91 1545.82 1727.24 1545.82 Q1730.58 1545.82 1732.5 1544.03 Q1734.42 1542.23 1734.42 1539.13 Q1734.42 1536 1732.5 1534.22 Q1730.6 1532.44 1727.24 1532.44 M1722.57 1530.45 Q1719.56 1529.7 1717.87 1527.64 Q1716.2 1525.58 1716.2 1522.62 Q1716.2 1518.48 1719.14 1516.07 Q1722.1 1513.66 1727.24 1513.66 Q1732.41 1513.66 1735.35 1516.07 Q1738.29 1518.48 1738.29 1522.62 Q1738.29 1525.58 1736.6 1527.64 Q1734.93 1529.7 1731.94 1530.45 Q1735.32 1531.23 1737.2 1533.52 Q1739.1 1535.82 1739.1 1539.13 Q1739.1 1544.15 1736.02 1546.83 Q1732.96 1549.52 1727.24 1549.52 Q1721.53 1549.52 1718.45 1546.83 Q1715.39 1544.15 1715.39 1539.13 Q1715.39 1535.82 1717.29 1533.52 Q1719.19 1531.23 1722.57 1530.45 M1720.85 1523.06 Q1720.85 1525.75 1722.52 1527.25 Q1724.21 1528.76 1727.24 1528.76 Q1730.25 1528.76 1731.94 1527.25 Q1733.66 1525.75 1733.66 1523.06 Q1733.66 1520.38 1731.94 1518.87 Q1730.25 1517.37 1727.24 1517.37 Q1724.21 1517.37 1722.52 1518.87 Q1720.85 1520.38 1720.85 1523.06 Z\" fill=\"#000000\" fill-rule=\"nonzero\" fill-opacity=\"1\" /><path clip-path=\"url(#clip550)\" d=\"M2081.03 1544.91 L2088.67 1544.91 L2088.67 1518.55 L2080.36 1520.21 L2080.36 1515.95 L2088.62 1514.29 L2093.3 1514.29 L2093.3 1544.91 L2100.94 1544.91 L2100.94 1548.85 L2081.03 1548.85 L2081.03 1544.91 Z\" fill=\"#000000\" fill-rule=\"nonzero\" fill-opacity=\"1\" /><path clip-path=\"url(#clip550)\" d=\"M2120.38 1517.37 Q2116.77 1517.37 2114.94 1520.93 Q2113.14 1524.47 2113.14 1531.6 Q2113.14 1538.71 2114.94 1542.27 Q2116.77 1545.82 2120.38 1545.82 Q2124.02 1545.82 2125.82 1542.27 Q2127.65 1538.71 2127.65 1531.6 Q2127.65 1524.47 2125.82 1520.93 Q2124.02 1517.37 2120.38 1517.37 M2120.38 1513.66 Q2126.19 1513.66 2129.25 1518.27 Q2132.33 1522.85 2132.33 1531.6 Q2132.33 1540.33 2129.25 1544.94 Q2126.19 1549.52 2120.38 1549.52 Q2114.57 1549.52 2111.49 1544.94 Q2108.44 1540.33 2108.44 1531.6 Q2108.44 1522.85 2111.49 1518.27 Q2114.57 1513.66 2120.38 1513.66 Z\" fill=\"#000000\" fill-rule=\"nonzero\" fill-opacity=\"1\" /><polyline clip-path=\"url(#clip550)\" style=\"stroke:#000000; stroke-linecap:round; stroke-linejoin:round; stroke-width:4; stroke-opacity:1; fill:none\" points=\"343.534,1486.45 343.534,47.2441 \"/>\n",
       "<polyline clip-path=\"url(#clip550)\" style=\"stroke:#000000; stroke-linecap:round; stroke-linejoin:round; stroke-width:4; stroke-opacity:1; fill:none\" points=\"343.534,1469.33 362.432,1469.33 \"/>\n",
       "<polyline clip-path=\"url(#clip550)\" style=\"stroke:#000000; stroke-linecap:round; stroke-linejoin:round; stroke-width:4; stroke-opacity:1; fill:none\" points=\"343.534,1114.45 362.432,1114.45 \"/>\n",
       "<polyline clip-path=\"url(#clip550)\" style=\"stroke:#000000; stroke-linecap:round; stroke-linejoin:round; stroke-width:4; stroke-opacity:1; fill:none\" points=\"343.534,759.576 362.432,759.576 \"/>\n",
       "<polyline clip-path=\"url(#clip550)\" style=\"stroke:#000000; stroke-linecap:round; stroke-linejoin:round; stroke-width:4; stroke-opacity:1; fill:none\" points=\"343.534,404.7 362.432,404.7 \"/>\n",
       "<polyline clip-path=\"url(#clip550)\" style=\"stroke:#000000; stroke-linecap:round; stroke-linejoin:round; stroke-width:4; stroke-opacity:1; fill:none\" points=\"343.534,49.8243 362.432,49.8243 \"/>\n",
       "<path clip-path=\"url(#clip550)\" d=\"M50.9921 1476.23 L80.6679 1476.23 L80.6679 1480.16 L50.9921 1480.16 L50.9921 1476.23 Z\" fill=\"#000000\" fill-rule=\"nonzero\" fill-opacity=\"1\" /><path clip-path=\"url(#clip550)\" d=\"M91.5706 1489.12 L99.2095 1489.12 L99.2095 1462.75 L90.8993 1464.42 L90.8993 1460.16 L99.1632 1458.5 L103.839 1458.5 L103.839 1489.12 L111.478 1489.12 L111.478 1493.06 L91.5706 1493.06 L91.5706 1489.12 Z\" fill=\"#000000\" fill-rule=\"nonzero\" fill-opacity=\"1\" /><path clip-path=\"url(#clip550)\" d=\"M120.922 1487.18 L125.807 1487.18 L125.807 1493.06 L120.922 1493.06 L120.922 1487.18 Z\" fill=\"#000000\" fill-rule=\"nonzero\" fill-opacity=\"1\" /><path clip-path=\"url(#clip550)\" d=\"M145.992 1461.57 Q142.381 1461.57 140.552 1465.14 Q138.746 1468.68 138.746 1475.81 Q138.746 1482.92 140.552 1486.48 Q142.381 1490.02 145.992 1490.02 Q149.626 1490.02 151.431 1486.48 Q153.26 1482.92 153.26 1475.81 Q153.26 1468.68 151.431 1465.14 Q149.626 1461.57 145.992 1461.57 M145.992 1457.87 Q151.802 1457.87 154.857 1462.48 Q157.936 1467.06 157.936 1475.81 Q157.936 1484.54 154.857 1489.14 Q151.802 1493.73 145.992 1493.73 Q140.181 1493.73 137.103 1489.14 Q134.047 1484.54 134.047 1475.81 Q134.047 1467.06 137.103 1462.48 Q140.181 1457.87 145.992 1457.87 Z\" fill=\"#000000\" fill-rule=\"nonzero\" fill-opacity=\"1\" /><path clip-path=\"url(#clip550)\" d=\"M176.153 1461.57 Q172.542 1461.57 170.714 1465.14 Q168.908 1468.68 168.908 1475.81 Q168.908 1482.92 170.714 1486.48 Q172.542 1490.02 176.153 1490.02 Q179.788 1490.02 181.593 1486.48 Q183.422 1482.92 183.422 1475.81 Q183.422 1468.68 181.593 1465.14 Q179.788 1461.57 176.153 1461.57 M176.153 1457.87 Q181.964 1457.87 185.019 1462.48 Q188.098 1467.06 188.098 1475.81 Q188.098 1484.54 185.019 1489.14 Q181.964 1493.73 176.153 1493.73 Q170.343 1493.73 167.265 1489.14 Q164.209 1484.54 164.209 1475.81 Q164.209 1467.06 167.265 1462.48 Q170.343 1457.87 176.153 1457.87 Z\" fill=\"#000000\" fill-rule=\"nonzero\" fill-opacity=\"1\" /><path clip-path=\"url(#clip550)\" d=\"M224.487 1467.59 L213.908 1478.22 L224.487 1488.8 L221.732 1491.6 L211.107 1480.97 L200.482 1491.6 L197.751 1488.8 L208.306 1478.22 L197.751 1467.59 L200.482 1464.79 L211.107 1475.42 L221.732 1464.79 L224.487 1467.59 Z\" fill=\"#000000\" fill-rule=\"nonzero\" fill-opacity=\"1\" /><path clip-path=\"url(#clip550)\" d=\"M236.848 1489.12 L244.486 1489.12 L244.486 1462.75 L236.176 1464.42 L236.176 1460.16 L244.44 1458.5 L249.116 1458.5 L249.116 1489.12 L256.755 1489.12 L256.755 1493.06 L236.848 1493.06 L236.848 1489.12 Z\" fill=\"#000000\" fill-rule=\"nonzero\" fill-opacity=\"1\" /><path clip-path=\"url(#clip550)\" d=\"M276.199 1461.57 Q272.588 1461.57 270.759 1465.14 Q268.954 1468.68 268.954 1475.81 Q268.954 1482.92 270.759 1486.48 Q272.588 1490.02 276.199 1490.02 Q279.833 1490.02 281.639 1486.48 Q283.468 1482.92 283.468 1475.81 Q283.468 1468.68 281.639 1465.14 Q279.833 1461.57 276.199 1461.57 M276.199 1457.87 Q282.009 1457.87 285.065 1462.48 Q288.144 1467.06 288.144 1475.81 Q288.144 1484.54 285.065 1489.14 Q282.009 1493.73 276.199 1493.73 Q270.389 1493.73 267.31 1489.14 Q264.255 1484.54 264.255 1475.81 Q264.255 1467.06 267.31 1462.48 Q270.389 1457.87 276.199 1457.87 Z\" fill=\"#000000\" fill-rule=\"nonzero\" fill-opacity=\"1\" /><path clip-path=\"url(#clip550)\" d=\"M298.168 1450.09 Q295.61 1450.09 294.106 1451.84 Q292.62 1453.59 292.62 1456.64 Q292.62 1459.66 294.106 1461.43 Q295.61 1463.18 298.168 1463.18 Q300.726 1463.18 302.212 1461.43 Q303.716 1459.66 303.716 1456.64 Q303.716 1453.59 302.212 1451.84 Q300.726 1450.09 298.168 1450.09 M305.71 1438.19 L305.71 1441.65 Q304.281 1440.97 302.814 1440.61 Q301.365 1440.25 299.936 1440.25 Q296.175 1440.25 294.181 1442.79 Q292.206 1445.33 291.924 1450.47 Q293.034 1448.83 294.708 1447.97 Q296.381 1447.08 298.394 1447.08 Q302.626 1447.08 305.071 1449.66 Q307.534 1452.22 307.534 1456.64 Q307.534 1460.96 304.977 1463.58 Q302.419 1466.19 298.168 1466.19 Q293.297 1466.19 290.72 1462.47 Q288.144 1458.72 288.144 1451.63 Q288.144 1444.98 291.303 1441.03 Q294.463 1437.06 299.786 1437.06 Q301.215 1437.06 302.663 1437.34 Q304.13 1437.62 305.71 1438.19 Z\" fill=\"#000000\" fill-rule=\"nonzero\" fill-opacity=\"1\" /><path clip-path=\"url(#clip550)\" d=\"M52.2146 1121.35 L81.8904 1121.35 L81.8904 1125.29 L52.2146 1125.29 L52.2146 1121.35 Z\" fill=\"#000000\" fill-rule=\"nonzero\" fill-opacity=\"1\" /><path clip-path=\"url(#clip550)\" d=\"M90.8024 1103.62 L113.024 1103.62 L113.024 1105.61 L100.478 1138.18 L95.594 1138.18 L107.4 1107.55 L90.8024 1107.55 L90.8024 1103.62 Z\" fill=\"#000000\" fill-rule=\"nonzero\" fill-opacity=\"1\" /><path clip-path=\"url(#clip550)\" d=\"M122.145 1132.3 L127.029 1132.3 L127.029 1138.18 L122.145 1138.18 L122.145 1132.3 Z\" fill=\"#000000\" fill-rule=\"nonzero\" fill-opacity=\"1\" /><path clip-path=\"url(#clip550)\" d=\"M137.26 1103.62 L155.617 1103.62 L155.617 1107.55 L141.543 1107.55 L141.543 1116.03 Q142.561 1115.68 143.58 1115.52 Q144.598 1115.33 145.617 1115.33 Q151.404 1115.33 154.784 1118.5 Q158.163 1121.67 158.163 1127.09 Q158.163 1132.67 154.691 1135.77 Q151.219 1138.85 144.899 1138.85 Q142.723 1138.85 140.455 1138.48 Q138.21 1138.11 135.802 1137.37 L135.802 1132.67 Q137.885 1133.8 140.108 1134.36 Q142.33 1134.92 144.807 1134.92 Q148.811 1134.92 151.149 1132.81 Q153.487 1130.7 153.487 1127.09 Q153.487 1123.48 151.149 1121.37 Q148.811 1119.27 144.807 1119.27 Q142.932 1119.27 141.057 1119.68 Q139.205 1120.1 137.26 1120.98 L137.26 1103.62 Z\" fill=\"#000000\" fill-rule=\"nonzero\" fill-opacity=\"1\" /><path clip-path=\"url(#clip550)\" d=\"M177.376 1106.7 Q173.765 1106.7 171.936 1110.26 Q170.131 1113.8 170.131 1120.93 Q170.131 1128.04 171.936 1131.61 Q173.765 1135.15 177.376 1135.15 Q181.01 1135.15 182.816 1131.61 Q184.644 1128.04 184.644 1120.93 Q184.644 1113.8 182.816 1110.26 Q181.01 1106.7 177.376 1106.7 M177.376 1102.99 Q183.186 1102.99 186.242 1107.6 Q189.32 1112.18 189.32 1120.93 Q189.32 1129.66 186.242 1134.27 Q183.186 1138.85 177.376 1138.85 Q171.566 1138.85 168.487 1134.27 Q165.432 1129.66 165.432 1120.93 Q165.432 1112.18 168.487 1107.6 Q171.566 1102.99 177.376 1102.99 Z\" fill=\"#000000\" fill-rule=\"nonzero\" fill-opacity=\"1\" /><path clip-path=\"url(#clip550)\" d=\"M225.709 1112.72 L215.13 1123.34 L225.709 1133.92 L222.954 1136.72 L212.33 1126.1 L201.705 1136.72 L198.973 1133.92 L209.529 1123.34 L198.973 1112.72 L201.705 1109.92 L212.33 1120.54 L222.954 1109.92 L225.709 1112.72 Z\" fill=\"#000000\" fill-rule=\"nonzero\" fill-opacity=\"1\" /><path clip-path=\"url(#clip550)\" d=\"M238.07 1134.24 L245.709 1134.24 L245.709 1107.88 L237.399 1109.55 L237.399 1105.29 L245.663 1103.62 L250.339 1103.62 L250.339 1134.24 L257.977 1134.24 L257.977 1138.18 L238.07 1138.18 L238.07 1134.24 Z\" fill=\"#000000\" fill-rule=\"nonzero\" fill-opacity=\"1\" /><path clip-path=\"url(#clip550)\" d=\"M277.422 1106.7 Q273.811 1106.7 271.982 1110.26 Q270.176 1113.8 270.176 1120.93 Q270.176 1128.04 271.982 1131.61 Q273.811 1135.15 277.422 1135.15 Q281.056 1135.15 282.862 1131.61 Q284.69 1128.04 284.69 1120.93 Q284.69 1113.8 282.862 1110.26 Q281.056 1106.7 277.422 1106.7 M277.422 1102.99 Q283.232 1102.99 286.287 1107.6 Q289.366 1112.18 289.366 1120.93 Q289.366 1129.66 286.287 1134.27 Q283.232 1138.85 277.422 1138.85 Q271.612 1138.85 268.533 1134.27 Q265.477 1129.66 265.477 1120.93 Q265.477 1112.18 268.533 1107.6 Q271.612 1102.99 277.422 1102.99 Z\" fill=\"#000000\" fill-rule=\"nonzero\" fill-opacity=\"1\" /><path clip-path=\"url(#clip550)\" d=\"M290.551 1082.69 L305.466 1082.69 L305.466 1085.89 L294.03 1085.89 L294.03 1092.77 Q294.858 1092.49 295.686 1092.36 Q296.513 1092.21 297.341 1092.21 Q302.043 1092.21 304.789 1094.78 Q307.534 1097.36 307.534 1101.76 Q307.534 1106.29 304.713 1108.81 Q301.892 1111.31 296.758 1111.31 Q294.99 1111.31 293.146 1111.01 Q291.322 1110.71 289.366 1110.11 L289.366 1106.29 Q291.059 1107.21 292.864 1107.67 Q294.67 1108.12 296.682 1108.12 Q299.936 1108.12 301.836 1106.41 Q303.735 1104.69 303.735 1101.76 Q303.735 1098.83 301.836 1097.11 Q299.936 1095.4 296.682 1095.4 Q295.159 1095.4 293.636 1095.74 Q292.131 1096.08 290.551 1096.79 L290.551 1082.69 Z\" fill=\"#000000\" fill-rule=\"nonzero\" fill-opacity=\"1\" /><path clip-path=\"url(#clip550)\" d=\"M52.2146 766.475 L81.8904 766.475 L81.8904 770.41 L52.2146 770.41 L52.2146 766.475 Z\" fill=\"#000000\" fill-rule=\"nonzero\" fill-opacity=\"1\" /><path clip-path=\"url(#clip550)\" d=\"M92.0292 748.744 L110.386 748.744 L110.386 752.679 L96.3116 752.679 L96.3116 761.151 Q97.3301 760.804 98.3486 760.642 Q99.3672 760.456 100.386 760.456 Q106.173 760.456 109.552 763.628 Q112.932 766.799 112.932 772.216 Q112.932 777.794 109.46 780.896 Q105.987 783.975 99.6681 783.975 Q97.4922 783.975 95.2237 783.604 Q92.9783 783.234 90.5709 782.493 L90.5709 777.794 Q92.6542 778.929 94.8764 779.484 Q97.0986 780.04 99.5755 780.04 Q103.58 780.04 105.918 777.933 Q108.256 775.827 108.256 772.216 Q108.256 768.605 105.918 766.498 Q103.58 764.392 99.5755 764.392 Q97.7005 764.392 95.8255 764.808 Q93.9737 765.225 92.0292 766.105 L92.0292 748.744 Z\" fill=\"#000000\" fill-rule=\"nonzero\" fill-opacity=\"1\" /><path clip-path=\"url(#clip550)\" d=\"M122.145 777.424 L127.029 777.424 L127.029 783.304 L122.145 783.304 L122.145 777.424 Z\" fill=\"#000000\" fill-rule=\"nonzero\" fill-opacity=\"1\" /><path clip-path=\"url(#clip550)\" d=\"M147.214 751.822 Q143.603 751.822 141.774 755.387 Q139.969 758.929 139.969 766.058 Q139.969 773.165 141.774 776.729 Q143.603 780.271 147.214 780.271 Q150.848 780.271 152.654 776.729 Q154.483 773.165 154.483 766.058 Q154.483 758.929 152.654 755.387 Q150.848 751.822 147.214 751.822 M147.214 748.119 Q153.024 748.119 156.08 752.725 Q159.159 757.308 159.159 766.058 Q159.159 774.785 156.08 779.392 Q153.024 783.975 147.214 783.975 Q141.404 783.975 138.325 779.392 Q135.27 774.785 135.27 766.058 Q135.27 757.308 138.325 752.725 Q141.404 748.119 147.214 748.119 Z\" fill=\"#000000\" fill-rule=\"nonzero\" fill-opacity=\"1\" /><path clip-path=\"url(#clip550)\" d=\"M177.376 751.822 Q173.765 751.822 171.936 755.387 Q170.131 758.929 170.131 766.058 Q170.131 773.165 171.936 776.729 Q173.765 780.271 177.376 780.271 Q181.01 780.271 182.816 776.729 Q184.644 773.165 184.644 766.058 Q184.644 758.929 182.816 755.387 Q181.01 751.822 177.376 751.822 M177.376 748.119 Q183.186 748.119 186.242 752.725 Q189.32 757.308 189.32 766.058 Q189.32 774.785 186.242 779.392 Q183.186 783.975 177.376 783.975 Q171.566 783.975 168.487 779.392 Q165.432 774.785 165.432 766.058 Q165.432 757.308 168.487 752.725 Q171.566 748.119 177.376 748.119 Z\" fill=\"#000000\" fill-rule=\"nonzero\" fill-opacity=\"1\" /><path clip-path=\"url(#clip550)\" d=\"M225.709 757.841 L215.13 768.466 L225.709 779.044 L222.954 781.845 L212.33 771.22 L201.705 781.845 L198.973 779.044 L209.529 768.466 L198.973 757.841 L201.705 755.04 L212.33 765.665 L222.954 755.04 L225.709 757.841 Z\" fill=\"#000000\" fill-rule=\"nonzero\" fill-opacity=\"1\" /><path clip-path=\"url(#clip550)\" d=\"M238.07 779.368 L245.709 779.368 L245.709 753.003 L237.399 754.669 L237.399 750.41 L245.663 748.744 L250.339 748.744 L250.339 779.368 L257.977 779.368 L257.977 783.304 L238.07 783.304 L238.07 779.368 Z\" fill=\"#000000\" fill-rule=\"nonzero\" fill-opacity=\"1\" /><path clip-path=\"url(#clip550)\" d=\"M277.422 751.822 Q273.811 751.822 271.982 755.387 Q270.176 758.929 270.176 766.058 Q270.176 773.165 271.982 776.729 Q273.811 780.271 277.422 780.271 Q281.056 780.271 282.862 776.729 Q284.69 773.165 284.69 766.058 Q284.69 758.929 282.862 755.387 Q281.056 751.822 277.422 751.822 M277.422 748.119 Q283.232 748.119 286.287 752.725 Q289.366 757.308 289.366 766.058 Q289.366 774.785 286.287 779.392 Q283.232 783.975 277.422 783.975 Q271.612 783.975 268.533 779.392 Q265.477 774.785 265.477 766.058 Q265.477 757.308 268.533 752.725 Q271.612 748.119 277.422 748.119 Z\" fill=\"#000000\" fill-rule=\"nonzero\" fill-opacity=\"1\" /><path clip-path=\"url(#clip550)\" d=\"M290.551 727.813 L305.466 727.813 L305.466 731.01 L294.03 731.01 L294.03 737.894 Q294.858 737.612 295.686 737.48 Q296.513 737.33 297.341 737.33 Q302.043 737.33 304.789 739.907 Q307.534 742.483 307.534 746.884 Q307.534 751.417 304.713 753.937 Q301.892 756.439 296.758 756.439 Q294.99 756.439 293.146 756.138 Q291.322 755.837 289.366 755.235 L289.366 751.417 Q291.059 752.338 292.864 752.79 Q294.67 753.241 296.682 753.241 Q299.936 753.241 301.836 751.53 Q303.735 749.818 303.735 746.884 Q303.735 743.95 301.836 742.239 Q299.936 740.527 296.682 740.527 Q295.159 740.527 293.636 740.866 Q292.131 741.204 290.551 741.919 L290.551 727.813 Z\" fill=\"#000000\" fill-rule=\"nonzero\" fill-opacity=\"1\" /><path clip-path=\"url(#clip550)\" d=\"M52.2146 411.599 L81.8904 411.599 L81.8904 415.534 L52.2146 415.534 L52.2146 411.599 Z\" fill=\"#000000\" fill-rule=\"nonzero\" fill-opacity=\"1\" /><path clip-path=\"url(#clip550)\" d=\"M96.0107 424.493 L112.33 424.493 L112.33 428.428 L90.3857 428.428 L90.3857 424.493 Q93.0477 421.738 97.6311 417.108 Q102.238 412.456 103.418 411.113 Q105.663 408.59 106.543 406.854 Q107.446 405.095 107.446 403.405 Q107.446 400.65 105.501 398.914 Q103.58 397.178 100.478 397.178 Q98.2792 397.178 95.8255 397.942 Q93.395 398.706 90.6172 400.257 L90.6172 395.534 Q93.4413 394.4 95.895 393.821 Q98.3486 393.243 100.386 393.243 Q105.756 393.243 108.95 395.928 Q112.145 398.613 112.145 403.104 Q112.145 405.233 111.335 407.155 Q110.548 409.053 108.441 411.645 Q107.862 412.317 104.761 415.534 Q101.659 418.729 96.0107 424.493 Z\" fill=\"#000000\" fill-rule=\"nonzero\" fill-opacity=\"1\" /><path clip-path=\"url(#clip550)\" d=\"M122.145 422.548 L127.029 422.548 L127.029 428.428 L122.145 428.428 L122.145 422.548 Z\" fill=\"#000000\" fill-rule=\"nonzero\" fill-opacity=\"1\" /><path clip-path=\"url(#clip550)\" d=\"M137.26 393.868 L155.617 393.868 L155.617 397.803 L141.543 397.803 L141.543 406.275 Q142.561 405.928 143.58 405.766 Q144.598 405.581 145.617 405.581 Q151.404 405.581 154.784 408.752 Q158.163 411.923 158.163 417.34 Q158.163 422.918 154.691 426.02 Q151.219 429.099 144.899 429.099 Q142.723 429.099 140.455 428.729 Q138.21 428.358 135.802 427.618 L135.802 422.918 Q137.885 424.053 140.108 424.608 Q142.33 425.164 144.807 425.164 Q148.811 425.164 151.149 423.057 Q153.487 420.951 153.487 417.34 Q153.487 413.729 151.149 411.622 Q148.811 409.516 144.807 409.516 Q142.932 409.516 141.057 409.932 Q139.205 410.349 137.26 411.229 L137.26 393.868 Z\" fill=\"#000000\" fill-rule=\"nonzero\" fill-opacity=\"1\" /><path clip-path=\"url(#clip550)\" d=\"M177.376 396.946 Q173.765 396.946 171.936 400.511 Q170.131 404.053 170.131 411.182 Q170.131 418.289 171.936 421.854 Q173.765 425.395 177.376 425.395 Q181.01 425.395 182.816 421.854 Q184.644 418.289 184.644 411.182 Q184.644 404.053 182.816 400.511 Q181.01 396.946 177.376 396.946 M177.376 393.243 Q183.186 393.243 186.242 397.849 Q189.32 402.432 189.32 411.182 Q189.32 419.909 186.242 424.516 Q183.186 429.099 177.376 429.099 Q171.566 429.099 168.487 424.516 Q165.432 419.909 165.432 411.182 Q165.432 402.432 168.487 397.849 Q171.566 393.243 177.376 393.243 Z\" fill=\"#000000\" fill-rule=\"nonzero\" fill-opacity=\"1\" /><path clip-path=\"url(#clip550)\" d=\"M225.709 402.965 L215.13 413.59 L225.709 424.168 L222.954 426.969 L212.33 416.344 L201.705 426.969 L198.973 424.168 L209.529 413.59 L198.973 402.965 L201.705 400.164 L212.33 410.789 L222.954 400.164 L225.709 402.965 Z\" fill=\"#000000\" fill-rule=\"nonzero\" fill-opacity=\"1\" /><path clip-path=\"url(#clip550)\" d=\"M238.07 424.493 L245.709 424.493 L245.709 398.127 L237.399 399.794 L237.399 395.534 L245.663 393.868 L250.339 393.868 L250.339 424.493 L257.977 424.493 L257.977 428.428 L238.07 428.428 L238.07 424.493 Z\" fill=\"#000000\" fill-rule=\"nonzero\" fill-opacity=\"1\" /><path clip-path=\"url(#clip550)\" d=\"M277.422 396.946 Q273.811 396.946 271.982 400.511 Q270.176 404.053 270.176 411.182 Q270.176 418.289 271.982 421.854 Q273.811 425.395 277.422 425.395 Q281.056 425.395 282.862 421.854 Q284.69 418.289 284.69 411.182 Q284.69 404.053 282.862 400.511 Q281.056 396.946 277.422 396.946 M277.422 393.243 Q283.232 393.243 286.287 397.849 Q289.366 402.432 289.366 411.182 Q289.366 419.909 286.287 424.516 Q283.232 429.099 277.422 429.099 Q271.612 429.099 268.533 424.516 Q265.477 419.909 265.477 411.182 Q265.477 402.432 268.533 397.849 Q271.612 393.243 277.422 393.243 Z\" fill=\"#000000\" fill-rule=\"nonzero\" fill-opacity=\"1\" /><path clip-path=\"url(#clip550)\" d=\"M290.551 372.937 L305.466 372.937 L305.466 376.135 L294.03 376.135 L294.03 383.018 Q294.858 382.736 295.686 382.605 Q296.513 382.454 297.341 382.454 Q302.043 382.454 304.789 385.031 Q307.534 387.607 307.534 392.008 Q307.534 396.541 304.713 399.061 Q301.892 401.563 296.758 401.563 Q294.99 401.563 293.146 401.262 Q291.322 400.961 289.366 400.359 L289.366 396.541 Q291.059 397.463 292.864 397.914 Q294.67 398.365 296.682 398.365 Q299.936 398.365 301.836 396.654 Q303.735 394.942 303.735 392.008 Q303.735 389.074 301.836 387.363 Q299.936 385.651 296.682 385.651 Q295.159 385.651 293.636 385.99 Q292.131 386.328 290.551 387.043 L290.551 372.937 Z\" fill=\"#000000\" fill-rule=\"nonzero\" fill-opacity=\"1\" /><path clip-path=\"url(#clip550)\" d=\"M295.59 35.623 Q291.979 35.623 290.15 39.1878 Q288.345 42.7294 288.345 49.859 Q288.345 56.9655 290.15 60.5303 Q291.979 64.0719 295.59 64.0719 Q299.224 64.0719 301.03 60.5303 Q302.859 56.9655 302.859 49.859 Q302.859 42.7294 301.03 39.1878 Q299.224 35.623 295.59 35.623 M295.59 31.9193 Q301.4 31.9193 304.456 36.5258 Q307.534 41.1091 307.534 49.859 Q307.534 58.5858 304.456 63.1923 Q301.4 67.7756 295.59 67.7756 Q289.78 67.7756 286.701 63.1923 Q283.646 58.5858 283.646 49.859 Q283.646 41.1091 286.701 36.5258 Q289.78 31.9193 295.59 31.9193 Z\" fill=\"#000000\" fill-rule=\"nonzero\" fill-opacity=\"1\" /><polyline clip-path=\"url(#clip552)\" style=\"stroke:#009af9; stroke-linecap:round; stroke-linejoin:round; stroke-width:4; stroke-opacity:1; fill:none\" points=\"589.948,1445.72 779.498,290.434 969.047,269.297 1158.6,99.6329 1348.15,87.988 1537.69,87.9764 1727.24,87.9763 1916.79,87.9763 2106.34,87.9763 2295.89,87.9763 \"/>\n",
       "<path clip-path=\"url(#clip550)\" d=\"M2032.43 1438.47 L2285.78 1438.47 L2285.78 1334.79 L2032.43 1334.79  Z\" fill=\"#ffffff\" fill-rule=\"evenodd\" fill-opacity=\"1\"/>\n",
       "<polyline clip-path=\"url(#clip550)\" style=\"stroke:#000000; stroke-linecap:round; stroke-linejoin:round; stroke-width:4; stroke-opacity:1; fill:none\" points=\"2032.43,1438.47 2285.78,1438.47 2285.78,1334.79 2032.43,1334.79 2032.43,1438.47 \"/>\n",
       "<polyline clip-path=\"url(#clip550)\" style=\"stroke:#009af9; stroke-linecap:round; stroke-linejoin:round; stroke-width:4; stroke-opacity:1; fill:none\" points=\"2054.75,1386.63 2188.7,1386.63 \"/>\n",
       "<path clip-path=\"url(#clip550)\" d=\"M2224.87 1406.32 Q2223.06 1410.95 2221.35 1412.36 Q2219.64 1413.78 2216.77 1413.78 L2213.36 1413.78 L2213.36 1410.21 L2215.86 1410.21 Q2217.62 1410.21 2218.6 1409.38 Q2219.57 1408.54 2220.75 1405.44 L2221.51 1403.5 L2211.03 1377.99 L2215.54 1377.99 L2223.64 1398.27 L2231.74 1377.99 L2236.26 1377.99 L2224.87 1406.32 Z\" fill=\"#000000\" fill-rule=\"nonzero\" fill-opacity=\"1\" /><path clip-path=\"url(#clip550)\" d=\"M2243.55 1399.98 L2251.19 1399.98 L2251.19 1373.61 L2242.88 1375.28 L2242.88 1371.02 L2251.14 1369.35 L2255.82 1369.35 L2255.82 1399.98 L2263.46 1399.98 L2263.46 1403.91 L2243.55 1403.91 L2243.55 1399.98 Z\" fill=\"#000000\" fill-rule=\"nonzero\" fill-opacity=\"1\" /></svg>\n"
      ]
     },
     "metadata": {},
     "output_type": "display_data"
    }
   ],
   "source": [
    "plot(ll)"
   ]
  },
  {
   "cell_type": "code",
   "execution_count": 5,
   "metadata": {},
   "outputs": [
    {
     "name": "stderr",
     "output_type": "stream",
     "text": [
      "\u001b[32mRunning EM algorithm... 100%|██████████████████████████████████████████████████| Time: 0:01:56 ( 1.16  s/it)\u001b[39m\u001b[K\n"
     ]
    },
    {
     "name": "stdout",
     "output_type": "stream",
     "text": [
      "truetrue"
     ]
    }
   ],
   "source": [
    "\"\"\"\n",
    "Create a Switching Poisson Regression\n",
    "\"\"\"\n",
    "# Create the emission models\n",
    "emission_1 = PoissonRegressionEmission(input_dim=3, output_dim=2, include_intercept=false, β=[1 2; 1 2; 1 2])\n",
    "emission_2 = PoissonRegressionEmission(input_dim=3, output_dim=2, include_intercept=false, β=[2 1; 2 1; 2 1])\n",
    "\n",
    "# Initialize the SwitchingPoissonRegression\n",
    "true_model = SwitchingPoissonRegression(K=2, input_dim=3, output_dim=2, include_intercept=false)\n",
    "\n",
    "# Plug in the emission models\n",
    "true_model.B[1] = emission_1\n",
    "true_model.B[2] = emission_2\n",
    "\n",
    "# Sample from the HMM\n",
    "n=20000\n",
    "Φ = randn(3, n)\n",
    "true_labels, data = SSD.sample(true_model, Φ, n=n)\n",
    "\n",
    "# Create a new SwitchingPoissonRegression and try to recover parameters\n",
    "test_model = SwitchingPoissonRegression(K=2, input_dim=3, output_dim=2, include_intercept=false)\n",
    "\n",
    "# Create the emission models for warm start\n",
    "emission_1 = PoissonRegressionEmission(input_dim=3, output_dim=2, include_intercept=false, β=[1.0 2.0; 1.0 2.0; 1.0 2.0])\n",
    "emission_2 = PoissonRegressionEmission(input_dim=3, output_dim=2, include_intercept=false, β=[2.0 1.0; 2.0 1.0; 2.0 1.0])\n",
    "test_model.B[1], test_model.B[2] = emission_1, emission_2\n",
    "\n",
    "ll = SSD.fit!(test_model, data, Φ, max_iters=100)\n",
    "\n",
    "print(isapprox(test_model.B[1].β, true_model.B[1].β, atol=0.1) || isapprox(test_model.B[1].β, true_model.B[2].β, atol=0.1))\n",
    "print(isapprox(test_model.B[2].β, true_model.B[2].β, atol=0.1) || isapprox(test_model.B[2].β, true_model.B[1].β, atol=0.1))\n"
   ]
  },
  {
   "cell_type": "markdown",
   "metadata": {},
   "source": [
    "# Switching Bernoulli Regression #"
   ]
  },
  {
   "cell_type": "code",
   "execution_count": 19,
   "metadata": {},
   "outputs": [
    {
     "name": "stdout",
     "output_type": "stream",
     "text": [
      "truetrue"
     ]
    }
   ],
   "source": [
    "# Make Emission Models\n",
    "emission_1 = StateSpaceDynamics.BernoulliRegressionEmission(input_dim=2, output_dim=1, include_intercept=true, β = reshape([3, 1, 2], :, 1))\n",
    "emission_2 = StateSpaceDynamics.BernoulliRegressionEmission(input_dim=2, output_dim=1, include_intercept=true, β = reshape([-3, -2, 0.1], :, 1))\n",
    "\n",
    "# Create Switching Bernoulli Regression and add the emissions\n",
    "true_model = StateSpaceDynamics.SwitchingBernoulliRegression(K=2, input_dim=2)\n",
    "true_model.A = [0.9 0.1; 0.2 0.8]\n",
    "true_model.B[1] = emission_1\n",
    "true_model.B[2] = emission_2\n",
    "\n",
    "# Sample from the model\n",
    "n=20000\n",
    "Φ = randn(2, n)\n",
    "true_labels, data = StateSpaceDynamics.sample(true_model, Φ, n=n)\n",
    "\n",
    "# Fit a new Bernoulli Regression Model to the data\n",
    "test_model = StateSpaceDynamics.SwitchingBernoulliRegression(K=2, input_dim=2, λ=1.0)\n",
    "test_model.A = [0.75 0.25; 0.1 0.9]\n",
    "test_model.B[1] = StateSpaceDynamics.BernoulliRegressionEmission(input_dim=2, output_dim=1, include_intercept=true, β = reshape([2.5, 0.25, 1.0], :, 1))\n",
    "test_model.B[2] = StateSpaceDynamics.BernoulliRegressionEmission(input_dim=2, output_dim=1, include_intercept=true, β = reshape([-2.0, -3.0, -1.0], :, 1))\n",
    "ll = StateSpaceDynamics.fit!(test_model, data, Φ, max_iters=200)\n",
    "print(isapprox(test_model.B[1].β, true_model.B[1].β, atol=0.2) || isapprox(test_model.B[1].β, true_model.B[2].β, atol=0.2))\n",
    "print(isapprox(test_model.B[2].β, true_model.B[2].β, atol=0.2) || isapprox(test_model.B[2].β, true_model.B[1].β, atol=0.2))\n"
   ]
  },
  {
   "cell_type": "markdown",
   "metadata": {},
   "source": [
    "# Switching Poisson Regression"
   ]
  },
  {
   "cell_type": "code",
   "execution_count": 20,
   "metadata": {},
   "outputs": [
    {
     "name": "stdout",
     "output_type": "stream",
     "text": [
      "truetrue"
     ]
    }
   ],
   "source": [
    "\"\"\"\n",
    "Create a Switching Poisson Regression\n",
    "\"\"\"\n",
    "# Create the emission models\n",
    "emission_1 = PoissonRegressionEmission(input_dim=3, output_dim=1, include_intercept=true, β=reshape([4, 3, 2, 4], :, 1))\n",
    "emission_2 = PoissonRegressionEmission(input_dim=3, output_dim=1, include_intercept=true, β=reshape([-4, -2, 1, 3], :, 1))\n",
    "\n",
    "# Initialize the SwitchingPoissonRegression\n",
    "true_model = SwitchingPoissonRegression(K=2, input_dim=3, output_dim=1)\n",
    "\n",
    "# Plug in the emission models\n",
    "true_model.B[1] = emission_1\n",
    "true_model.B[2] = emission_2\n",
    "\n",
    "# Sample from the HMM\n",
    "n=20000\n",
    "Φ = randn(3, n)\n",
    "true_labels, data = SSD.sample(true_model, Φ, n=n)\n",
    "\n",
    "# Create a new SwitchingPoissonRegression and try to recover parameters\n",
    "test_model = SwitchingPoissonRegression(K=2, input_dim=3, output_dim=1)\n",
    "\n",
    "# Create the emission models for warm start\n",
    "emission_1 = PoissonRegressionEmission(input_dim=3, output_dim=1, include_intercept=true, β=reshape([2.0, 1.0, 4.0, 2.0], :, 1))\n",
    "emission_2 = PoissonRegressionEmission(input_dim=3, output_dim=1, include_intercept=true, β=reshape([-5.0, -1.0, 0.0, 2.0], :, 1))\n",
    "test_model.B[1], test_model.B[2] = emission_1, emission_2\n",
    "\n",
    "ll = SSD.fit!(test_model, data, Φ, max_iters=200)\n",
    "\n",
    "print(isapprox(test_model.B[1].β, true_model.B[1].β, atol=0.1) || isapprox(test_model.B[1].β, true_model.B[2].β, atol=0.1))\n",
    "print(isapprox(test_model.B[2].β, true_model.B[2].β, atol=0.1) || isapprox(test_model.B[2].β, true_model.B[1].β, atol=0.1))\n"
   ]
  }
 ],
 "metadata": {
  "kernelspec": {
   "display_name": "Julia 1.10.4",
   "language": "julia",
   "name": "julia-1.10"
  },
  "language_info": {
   "file_extension": ".jl",
   "mimetype": "application/julia",
   "name": "julia",
   "version": "1.10.4"
  },
  "orig_nbformat": 4
 },
 "nbformat": 4,
 "nbformat_minor": 2
}
