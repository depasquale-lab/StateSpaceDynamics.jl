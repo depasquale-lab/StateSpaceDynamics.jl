{
 "cells": [
  {
   "cell_type": "code",
   "execution_count": null,
   "metadata": {},
   "outputs": [
    {
     "name": "stderr",
     "output_type": "stream",
     "text": [
      "WARNING: Method definition loglikelihood(StateSpaceDynamics.GaussianRegressionEmission, Array{var\"#s48\", 2} where var\"#s48\"<:Real, Array{var\"#s47\", 2} where var\"#s47\"<:Real) in module StateSpaceDynamics at c:\\Users\\ryansenne\\Documents\\GitHub\\ssm_julia\\src\\EmissionModels.jl:281 overwritten at c:\\Users\\ryansenne\\Documents\\GitHub\\ssm_julia\\src\\EmissionModels.jl:314.\n",
      "ERROR: Method overwriting is not permitted during Module precompilation. Use `__precompile__(false)` to opt-out of precompilation.\n"
     ]
    }
   ],
   "source": [
    "using StateSpaceDynamics\n",
    "using Random\n",
    "using Distributions\n",
    "using Plots\n",
    "using LinearAlgebra\n",
    "using ForwardDiff\n",
    "using StatsFuns\n",
    "using Optim\n",
    "\n"
   ]
  },
  {
   "cell_type": "code",
   "execution_count": null,
   "metadata": {},
   "outputs": [],
   "source": [
    "# generate synthetic data for a switching Gaussian Regression\n",
    "Random.seed!(12345)\n",
    "\n",
    "n = 1000\n",
    "\n",
    "beta_1 = [1.0, 2.0]\n",
    "beta_2 = [3.0, 4.0]\n",
    "\n",
    "sigma_1 = 0.5\n",
    "sigma_2 = 0.5\n",
    "\n",
    "# Simualte data from a switching GLM\n",
    "A = [0.9 0.1; 0.1 0.9]\n",
    "pi_k = [0.5, 0.5]\n",
    "\n",
    "X = randn(n, 2)\n",
    "Y = zeros(n)\n",
    "states = zeros(Int, n)\n",
    "\n",
    "# First state\n",
    "states[1] = Int(rand() < pi_k[1] ? 1 : 2)\n",
    "Y[1] = if states[1] == 1\n",
    "    beta_1[1] + beta_1[2] * X[1, 1] + sigma_1 * randn()\n",
    "else\n",
    "    beta_2[1] + beta_2[2] * X[1, 1] + sigma_2 * randn()\n",
    "end\n",
    "\n",
    "# Remaining states\n",
    "for i in 2:n\n",
    "    states[i] = Int(rand() < A[states[i-1], 1] ? 1 : 2)\n",
    "    Y[i] = if states[i] == 1\n",
    "        beta_1[1] + beta_1[2] * X[i, 1] + sigma_1 * randn()\n",
    "    else\n",
    "        beta_2[1] + beta_2[2] * X[i, 1] + sigma_2 * randn()\n",
    "    end\n",
    "end\n"
   ]
  },
  {
   "cell_type": "code",
   "execution_count": null,
   "metadata": {},
   "outputs": [
    {
     "name": "stdout",
     "output_type": "stream",
     "text": [
      "New Function in use...\n"
     ]
    },
    {
     "ename": "CompositeException",
     "evalue": "TaskFailedException\n\n    nested task error: DimensionMismatch: A has dimensions (1,1001) but B has dimensions (2,1)\n    Stacktrace:\n      [1] gemm_wrapper!(C::Matrix{Float64}, tA::Char, tB::Char, A::Matrix{Float64}, B::Matrix{Float64}, _add::LinearAlgebra.MulAddMul{true, true, Bool, Bool})\n        @ LinearAlgebra C:\\Users\\ryansenne\\.julia\\juliaup\\julia-1.10.4+0.x64.w64.mingw32\\share\\julia\\stdlib\\v1.10\\LinearAlgebra\\src\\matmul.jl:577\n      [2] generic_matmatmul!\n        @ C:\\Users\\ryansenne\\.julia\\juliaup\\julia-1.10.4+0.x64.w64.mingw32\\share\\julia\\stdlib\\v1.10\\LinearAlgebra\\src\\matmul.jl:352 [inlined]\n      [3] mul!\n        @ C:\\Users\\ryansenne\\.julia\\juliaup\\julia-1.10.4+0.x64.w64.mingw32\\share\\julia\\stdlib\\v1.10\\LinearAlgebra\\src\\matmul.jl:263 [inlined]\n      [4] mul!\n        @ C:\\Users\\ryansenne\\.julia\\juliaup\\julia-1.10.4+0.x64.w64.mingw32\\share\\julia\\stdlib\\v1.10\\LinearAlgebra\\src\\matmul.jl:237 [inlined]\n      [5] *(A::Matrix{Float64}, B::Matrix{Float64})\n        @ LinearAlgebra C:\\Users\\ryansenne\\.julia\\juliaup\\julia-1.10.4+0.x64.w64.mingw32\\share\\julia\\stdlib\\v1.10\\LinearAlgebra\\src\\matmul.jl:113\n      [6] loglikelihood(model::GaussianRegressionEmission, Φ::Matrix{Float64}, Y::Matrix{Float64})\n        @ StateSpaceDynamics c:\\Users\\ryansenne\\Documents\\GitHub\\ssm_julia\\src\\EmissionModels.jl:324\n      [7] macro expansion\n        @ c:\\Users\\ryansenne\\Documents\\GitHub\\ssm_julia\\src\\HiddenMarkovModels.jl:150 [inlined]\n      [8] (::StateSpaceDynamics.var\"#258#threadsfor_fun#93\"{StateSpaceDynamics.var\"#258#threadsfor_fun#92#94\"{HiddenMarkovModel, Tuple{Matrix{Float64}, Matrix{Float64}}, Matrix{Float64}, UnitRange{Int64}}})(tid::Int64; onethread::Bool)\n        @ StateSpaceDynamics .\\threadingconstructs.jl:215\n      [9] #258#threadsfor_fun\n        @ .\\threadingconstructs.jl:182 [inlined]\n     [10] (::Base.Threads.var\"#1#2\"{StateSpaceDynamics.var\"#258#threadsfor_fun#93\"{StateSpaceDynamics.var\"#258#threadsfor_fun#92#94\"{HiddenMarkovModel, Tuple{Matrix{Float64}, Matrix{Float64}}, Matrix{Float64}, UnitRange{Int64}}}, Int64})()\n        @ Base.Threads .\\threadingconstructs.jl:154\n\n...and 1 more exception.\n",
     "output_type": "error",
     "traceback": [
      "TaskFailedException\n",
      "\n",
      "    nested task error: DimensionMismatch: A has dimensions (1,1001) but B has dimensions (2,1)\n",
      "    Stacktrace:\n",
      "      [1] gemm_wrapper!(C::Matrix{Float64}, tA::Char, tB::Char, A::Matrix{Float64}, B::Matrix{Float64}, _add::LinearAlgebra.MulAddMul{true, true, Bool, Bool})\n",
      "        @ LinearAlgebra C:\\Users\\ryansenne\\.julia\\juliaup\\julia-1.10.4+0.x64.w64.mingw32\\share\\julia\\stdlib\\v1.10\\LinearAlgebra\\src\\matmul.jl:577\n",
      "      [2] generic_matmatmul!\n",
      "        @ C:\\Users\\ryansenne\\.julia\\juliaup\\julia-1.10.4+0.x64.w64.mingw32\\share\\julia\\stdlib\\v1.10\\LinearAlgebra\\src\\matmul.jl:352 [inlined]\n",
      "      [3] mul!\n",
      "        @ C:\\Users\\ryansenne\\.julia\\juliaup\\julia-1.10.4+0.x64.w64.mingw32\\share\\julia\\stdlib\\v1.10\\LinearAlgebra\\src\\matmul.jl:263 [inlined]\n",
      "      [4] mul!\n",
      "        @ C:\\Users\\ryansenne\\.julia\\juliaup\\julia-1.10.4+0.x64.w64.mingw32\\share\\julia\\stdlib\\v1.10\\LinearAlgebra\\src\\matmul.jl:237 [inlined]\n",
      "      [5] *(A::Matrix{Float64}, B::Matrix{Float64})\n",
      "        @ LinearAlgebra C:\\Users\\ryansenne\\.julia\\juliaup\\julia-1.10.4+0.x64.w64.mingw32\\share\\julia\\stdlib\\v1.10\\LinearAlgebra\\src\\matmul.jl:113\n",
      "      [6] loglikelihood(model::GaussianRegressionEmission, Φ::Matrix{Float64}, Y::Matrix{Float64})\n",
      "        @ StateSpaceDynamics c:\\Users\\ryansenne\\Documents\\GitHub\\ssm_julia\\src\\EmissionModels.jl:324\n",
      "      [7] macro expansion\n",
      "        @ c:\\Users\\ryansenne\\Documents\\GitHub\\ssm_julia\\src\\HiddenMarkovModels.jl:150 [inlined]\n",
      "      [8] (::StateSpaceDynamics.var\"#258#threadsfor_fun#93\"{StateSpaceDynamics.var\"#258#threadsfor_fun#92#94\"{HiddenMarkovModel, Tuple{Matrix{Float64}, Matrix{Float64}}, Matrix{Float64}, UnitRange{Int64}}})(tid::Int64; onethread::Bool)\n",
      "        @ StateSpaceDynamics .\\threadingconstructs.jl:215\n",
      "      [9] #258#threadsfor_fun\n",
      "        @ .\\threadingconstructs.jl:182 [inlined]\n",
      "     [10] (::Base.Threads.var\"#1#2\"{StateSpaceDynamics.var\"#258#threadsfor_fun#93\"{StateSpaceDynamics.var\"#258#threadsfor_fun#92#94\"{HiddenMarkovModel, Tuple{Matrix{Float64}, Matrix{Float64}}, Matrix{Float64}, UnitRange{Int64}}}, Int64})()\n",
      "        @ Base.Threads .\\threadingconstructs.jl:154\n",
      "\n",
      "...and 1 more exception.\n",
      "\n",
      "\n",
      "Stacktrace:\n",
      " [1] threading_run(fun::StateSpaceDynamics.var\"#258#threadsfor_fun#93\"{StateSpaceDynamics.var\"#258#threadsfor_fun#92#94\"{HiddenMarkovModel, Tuple{Matrix{Float64}, Matrix{Float64}}, Matrix{Float64}, UnitRange{Int64}}}, static::Bool)\n",
      "   @ Base.Threads .\\threadingconstructs.jl:172\n",
      " [2] macro expansion\n",
      "   @ .\\threadingconstructs.jl:220 [inlined]\n",
      " [3] emission_loglikelihoods\n",
      "   @ c:\\Users\\ryansenne\\Documents\\GitHub\\ssm_julia\\src\\HiddenMarkovModels.jl:149 [inlined]\n",
      " [4] E_step(model::HiddenMarkovModel, data::Tuple{Matrix{Float64}, Matrix{Float64}})\n",
      "   @ StateSpaceDynamics c:\\Users\\ryansenne\\Documents\\GitHub\\ssm_julia\\src\\HiddenMarkovModels.jl:262\n",
      " [5] fit!(model::HiddenMarkovModel, Y::Matrix{Float64}, X::Matrix{Float64}; max_iters::Int64, tol::Float64)\n",
      "   @ StateSpaceDynamics c:\\Users\\ryansenne\\Documents\\GitHub\\ssm_julia\\src\\HiddenMarkovModels.jl:381\n",
      " [6] fit!(model::HiddenMarkovModel, Y::Matrix{Float64}, X::Matrix{Float64})\n",
      "   @ StateSpaceDynamics c:\\Users\\ryansenne\\Documents\\GitHub\\ssm_julia\\src\\HiddenMarkovModels.jl:368\n",
      " [7] top-level scope\n",
      "   @ c:\\Users\\ryansenne\\Documents\\GitHub\\ssm_julia\\notebooks\\jl_notebook_cell_df34fa98e69747e1a8f8a730347b8e2f_X13sZmlsZQ==.jl:6"
     ]
    }
   ],
   "source": [
    "# reshape x and y to be matrices\n",
    "X_input = reshape(X[:, 1], 1, n)\n",
    "Y = reshape(Y, 1, n)\n",
    "\n",
    "est_model = SwitchingGaussianRegression(K=2, input_dim=1, output_dim=1)\n",
    "fit!(est_model, X_input, Y)"
   ]
  },
  {
   "cell_type": "code",
   "execution_count": null,
   "metadata": {},
   "outputs": [],
   "source": [
    "# generate synthetic data\n",
    "Random.seed!(123)\n",
    "\n",
    "# set parameters\n",
    "n = 1000\n",
    "β = [0.1, 0.9]\n",
    "\n",
    "# generate data\n",
    "X = hcat(ones(n), randn(n, 1))\n",
    "\n",
    "p = logistic.(X * β)\n",
    "y = rand.(Bernoulli.(p));\n",
    "\n",
    "logreg = SSM.BernoulliRegression()\n",
    "SSM.fit!(logreg, reshape(X[:, 2], length(y), 1), y)"
   ]
  },
  {
   "cell_type": "code",
   "execution_count": null,
   "metadata": {},
   "outputs": [],
   "source": [
    "model = SSM.SwitchingBernoulliRegression(;K=2, λ=0.1)\n",
    "SSM.fit!(model, reshape(X[:, 2], length(y), 1), y, 10)"
   ]
  },
  {
   "cell_type": "code",
   "execution_count": null,
   "metadata": {},
   "outputs": [],
   "source": [
    "# synthetic poisson regression data\n",
    "Random.seed!(123)\n",
    "\n",
    "# set parameters\n",
    "n = 100\n",
    "β = [0.1, 0.9]\n",
    "# generate data\n",
    "\n",
    "X = hcat(ones(n), randn(n, 1))\n",
    "λ = exp.(X * β)\n",
    "\n",
    "y = rand.(Poisson.(λ))\n",
    "\n",
    "poisreg = SSM.PoissonRegression()\n",
    "SSM.fit!(poisreg, reshape(X[:, 2], length(y), 1), y)"
   ]
  },
  {
   "cell_type": "code",
   "execution_count": null,
   "metadata": {},
   "outputs": [],
   "source": [
    "model = SSM.SwitchingPoissonRegression(;K=2, λ=0.1)\n",
    "fit!(model, reshape(X[:, 2], length(y), 1), y)"
   ]
  },
  {
   "cell_type": "code",
   "execution_count": null,
   "metadata": {},
   "outputs": [],
   "source": [
    "# Parameters\n",
    "n = 1000\n",
    "β₁ = [0.1, 0.9]\n",
    "β₂ = [0.9, 0.1]\n",
    "σ²₁ = 0.1\n",
    "σ²₂ = 0.1\n",
    "A = [0.9 0.1; 0.1 0.9]\n",
    "\n",
    "# Data generation\n",
    "X = hcat(ones(n), randn(n, 1))\n",
    "y = zeros(n)\n",
    "state = Vector{Int}(undef, n)\n",
    "\n",
    "for i in 1:n\n",
    "    if i == 1\n",
    "        # choose a state at random\n",
    "        state[i] = rand(1:2)\n",
    "    else\n",
    "        # Transition based on previous state\n",
    "        state[i] = rand(Categorical(A[state[i-1], :]))\n",
    "    end\n",
    "\n",
    "    if state[i] == 1\n",
    "        y[i] = X[i, :]' * β₁ + sqrt(σ²₁) * randn()\n",
    "    else\n",
    "        y[i] = X[i, :]' * β₂ + sqrt(σ²₂) * randn()\n",
    "    end\n",
    "end\n",
    "\n",
    "# Fit linear regression model\n",
    "linreg = SSM.SwitchingGaussianRegression(; K=2, λ=0.1)\n",
    "SSM.fit!(linreg, reshape(X[:, 2], length(y), 1), y, 10000, 1e-6)\n",
    "\n",
    "println(\"Fitted coefficients: \", linreg.B[1].regression.β)\n"
   ]
  },
  {
   "cell_type": "code",
   "execution_count": null,
   "metadata": {},
   "outputs": [],
   "source": [
    "γ, ξ, α, β = SSM.E_step(linreg, reshape(X[:, 2], length(y), 1), y)"
   ]
  }
 ],
 "metadata": {
  "kernelspec": {
   "display_name": "Julia 1.10.4",
   "language": "julia",
   "name": "julia-1.10"
  },
  "language_info": {
   "file_extension": ".jl",
   "mimetype": "application/julia",
   "name": "julia",
   "version": "1.10.4"
  }
 },
 "nbformat": 4,
 "nbformat_minor": 2
}
