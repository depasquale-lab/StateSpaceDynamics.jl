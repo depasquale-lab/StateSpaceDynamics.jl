{
 "cells": [
  {
   "cell_type": "code",
   "execution_count": 1,
   "metadata": {},
   "outputs": [
    {
     "name": "stderr",
     "output_type": "stream",
     "text": [
      "WARNING: Method definition sample(StateSpaceDynamics.BernoulliRegressionEmission, Array{var\"#s44\", 2} where var\"#s44\"<:Real) in module StateSpaceDynamics at c:\\Users\\ryansenne\\Documents\\GitHub\\ssm_julia\\src\\RegressionModels.jl:93 overwritten at c:\\Users\\ryansenne\\Documents\\GitHub\\ssm_julia\\src\\EmissionModels.jl:531.\n",
      "ERROR: Method overwriting is not permitted during Module precompilation. Use `__precompile__(false)` to opt-out of precompilation.\n"
     ]
    }
   ],
   "source": [
    "using StateSpaceDynamics\n",
    "using Random\n",
    "using Distributions\n",
    "using Plots\n",
    "using LinearAlgebra\n",
    "using ForwardDiff\n",
    "using StatsFuns\n",
    "using Optim"
   ]
  },
  {
   "cell_type": "code",
   "execution_count": 2,
   "metadata": {},
   "outputs": [],
   "source": [
    "# generate synthetic data for a switching Gaussian Regression\n",
    "Random.seed!(12345)\n",
    "\n",
    "n = 1000\n",
    "\n",
    "beta_1 = [1.0, 2.0]\n",
    "beta_2 = [3.0, 4.0]\n",
    "\n",
    "sigma_1 = 0.5\n",
    "sigma_2 = 0.5\n",
    "\n",
    "# Simualte data from a switching GLM\n",
    "A = [0.9 0.1; 0.1 0.9]\n",
    "pi_k = [0.5, 0.5]\n",
    "\n",
    "X = randn(n, 2)\n",
    "Y = zeros(n)\n",
    "states = zeros(Int, n)\n",
    "\n",
    "# First state\n",
    "states[1] = Int(rand() < pi_k[1] ? 1 : 2)\n",
    "Y[1] = if states[1] == 1\n",
    "    beta_1[1] + beta_1[2] * X[1, 1] + sigma_1 * randn()\n",
    "else\n",
    "    beta_2[1] + beta_2[2] * X[1, 1] + sigma_2 * randn()\n",
    "end\n",
    "\n",
    "# Remaining states\n",
    "for i in 2:n\n",
    "    states[i] = Int(rand() < A[states[i-1], 1] ? 1 : 2)\n",
    "    Y[i] = if states[i] == 1\n",
    "        beta_1[1] + beta_1[2] * X[i, 1] + sigma_1 * randn()\n",
    "    else\n",
    "        beta_2[1] + beta_2[2] * X[i, 1] + sigma_2 * randn()\n",
    "    end\n",
    "end\n"
   ]
  },
  {
   "cell_type": "code",
   "execution_count": 3,
   "metadata": {},
   "outputs": [
    {
     "name": "stdout",
     "output_type": "stream",
     "text": [
      "New Function in use...\n"
     ]
    },
    {
     "name": "stderr",
     "output_type": "stream",
     "text": [
      "\u001b[32mRunning EM algorithm...   2%|█                           |  ETA: 0:08:04\u001b[39m\u001b[K\n",
      "\n",
      "\u001b[32mRunning EM algorithm...  15%|█████                       |  ETA: 0:01:10\u001b[39m\u001b[K\n",
      "\n",
      "\u001b[32mRunning EM algorithm...  27%|████████                    |  ETA: 0:00:37\u001b[39m\u001b[K\n",
      "\n",
      "\u001b[32mRunning EM algorithm...  37%|███████████                 |  ETA: 0:00:25\u001b[39m\u001b[K\n",
      "\n",
      "\u001b[32mRunning EM algorithm...  47%|██████████████              |  ETA: 0:00:18\u001b[39m\u001b[K\n",
      "\n",
      "\u001b[32mRunning EM algorithm...  56%|████████████████            |  ETA: 0:00:13\u001b[39m\u001b[K\n",
      "\n",
      "\u001b[32mRunning EM algorithm...  66%|███████████████████         |  ETA: 0:00:09\u001b[39m\u001b[K\n",
      "\n",
      "\u001b[32mRunning EM algorithm...  77%|██████████████████████      |  ETA: 0:00:06\u001b[39m\u001b[K\n",
      "\n",
      "\u001b[32mRunning EM algorithm...  87%|█████████████████████████   |  ETA: 0:00:03\u001b[39m\u001b[K\n",
      "\n",
      "\u001b[32mRunning EM algorithm...  97%|████████████████████████████|  ETA: 0:00:01\u001b[39m\u001b[K\n",
      "\n",
      "\u001b[32mRunning EM algorithm... 100%|████████████████████████████| Time: 0:00:21\u001b[39m\u001b[K\n",
      "\u001b[34m  iteration:       100\u001b[39m\u001b[K\n",
      "\u001b[34m  log_likelihood:  -74841.85316699692\u001b[39m\u001b[K\n"
     ]
    },
    {
     "data": {
      "text/plain": [
       "101-element Vector{Float64}:\n",
       "     -Inf\n",
       "   -1433.172649791336\n",
       " -545879.6836785846\n",
       "   -6396.079079617949\n",
       "  -14008.250675089454\n",
       "  -34858.99998635821\n",
       "  -89999.15109876319\n",
       " -201737.7469911903\n",
       "  -74085.39317889638\n",
       " -274140.78731034446\n",
       "       ⋮\n",
       " -249344.04075633225\n",
       " -249768.33771563595\n",
       " -249822.97676943138\n",
       "  -74832.55621760219\n",
       "  -74891.69067695455\n",
       "  -74903.57130075173\n",
       " -249346.75341842565\n",
       "  -74841.85316699692\n",
       " -249421.75666097453"
      ]
     },
     "metadata": {},
     "output_type": "display_data"
    }
   ],
   "source": [
    "# reshape x and y to be matrices\n",
    "X_input = reshape(X[:, 1], n, 1)\n",
    "Y = reshape(Y, n, 1)\n",
    "\n",
    "est_model = SwitchingGaussianRegression(K=2, input_dim=1, output_dim=1)\n",
    "fit!(est_model, X_input, Y)"
   ]
  },
  {
   "cell_type": "code",
   "execution_count": 4,
   "metadata": {},
   "outputs": [
    {
     "data": {
      "text/plain": [
       "HiddenMarkovModel([0.7532219087358173 0.24677809126416506; 0.3177473678839959 0.6822526321159564], EmissionModel[GaussianRegressionEmission(1, 1, [-0.7266347042654221; 0.24502849424517972;;], [0.00020071105963722431;;], true, 0.0), GaussianRegressionEmission(1, 1, [-0.3998203261011363; 0.4639521824879004;;], [0.00020071105963722431;;], true, 0.0)], [0.0, 1.0], 2)"
      ]
     },
     "metadata": {},
     "output_type": "display_data"
    }
   ],
   "source": [
    "est_model"
   ]
  },
  {
   "cell_type": "code",
   "execution_count": 4,
   "metadata": {},
   "outputs": [
    {
     "data": {
      "text/plain": [
       "HiddenMarkovModel([0.9038925880407833 0.09610741195921672; 0.9332951140632878 0.06670488593671217], EmissionModel[GaussianRegressionEmission(1, 1, [0.0; 0.0;;], [1.0;;], true, 0.0), GaussianRegressionEmission(1, 1, [0.0; 0.0;;], [1.0;;], true, 0.0)], [0.627130237478469, 0.372869762521531], 2)"
      ]
     },
     "metadata": {},
     "output_type": "display_data"
    }
   ],
   "source": [
    "est_model"
   ]
  },
  {
   "cell_type": "code",
   "execution_count": null,
   "metadata": {},
   "outputs": [],
   "source": [
    "# generate synthetic data\n",
    "Random.seed!(123)\n",
    "\n",
    "# set parameters\n",
    "n = 1000\n",
    "β = [0.1, 0.9]\n",
    "\n",
    "# generate data\n",
    "X = hcat(ones(n), randn(n, 1))\n",
    "\n",
    "p = logistic.(X * β)\n",
    "y = rand.(Bernoulli.(p));\n",
    "\n",
    "logreg = SSM.BernoulliRegression()\n",
    "SSM.fit!(logreg, reshape(X[:, 2], length(y), 1), y)"
   ]
  },
  {
   "cell_type": "code",
   "execution_count": null,
   "metadata": {},
   "outputs": [],
   "source": [
    "model = SSM.SwitchingBernoulliRegression(;K=2, λ=0.1)\n",
    "SSM.fit!(model, reshape(X[:, 2], length(y), 1), y, 10)"
   ]
  },
  {
   "cell_type": "code",
   "execution_count": null,
   "metadata": {},
   "outputs": [],
   "source": [
    "# synthetic poisson regression data\n",
    "Random.seed!(123)\n",
    "\n",
    "# set parameters\n",
    "n = 100\n",
    "β = [0.1, 0.9]\n",
    "# generate data\n",
    "\n",
    "X = hcat(ones(n), randn(n, 1))\n",
    "λ = exp.(X * β)\n",
    "\n",
    "y = rand.(Poisson.(λ))\n",
    "\n",
    "poisreg = SSM.PoissonRegression()\n",
    "SSM.fit!(poisreg, reshape(X[:, 2], length(y), 1), y)"
   ]
  },
  {
   "cell_type": "code",
   "execution_count": null,
   "metadata": {},
   "outputs": [],
   "source": [
    "model = SSM.SwitchingPoissonRegression(;K=2, λ=0.1)\n",
    "fit!(model, reshape(X[:, 2], length(y), 1), y)"
   ]
  },
  {
   "cell_type": "code",
   "execution_count": null,
   "metadata": {},
   "outputs": [],
   "source": [
    "# Parameters\n",
    "n = 1000\n",
    "β₁ = [0.1, 0.9]\n",
    "β₂ = [0.9, 0.1]\n",
    "σ²₁ = 0.1\n",
    "σ²₂ = 0.1\n",
    "A = [0.9 0.1; 0.1 0.9]\n",
    "\n",
    "# Data generation\n",
    "X = hcat(ones(n), randn(n, 1))\n",
    "y = zeros(n)\n",
    "state = Vector{Int}(undef, n)\n",
    "\n",
    "for i in 1:n\n",
    "    if i == 1\n",
    "        # choose a state at random\n",
    "        state[i] = rand(1:2)\n",
    "    else\n",
    "        # Transition based on previous state\n",
    "        state[i] = rand(Categorical(A[state[i-1], :]))\n",
    "    end\n",
    "\n",
    "    if state[i] == 1\n",
    "        y[i] = X[i, :]' * β₁ + sqrt(σ²₁) * randn()\n",
    "    else\n",
    "        y[i] = X[i, :]' * β₂ + sqrt(σ²₂) * randn()\n",
    "    end\n",
    "end\n",
    "\n",
    "# Fit linear regression model\n",
    "linreg = SSM.SwitchingGaussianRegression(; K=2, λ=0.1)\n",
    "SSM.fit!(linreg, reshape(X[:, 2], length(y), 1), y, 10000, 1e-6)\n",
    "\n",
    "println(\"Fitted coefficients: \", linreg.B[1].regression.β)\n"
   ]
  },
  {
   "cell_type": "code",
   "execution_count": null,
   "metadata": {},
   "outputs": [],
   "source": [
    "γ, ξ, α, β = SSM.E_step(linreg, reshape(X[:, 2], length(y), 1), y)"
   ]
  }
 ],
 "metadata": {
  "kernelspec": {
   "display_name": "Julia 1.10.4",
   "language": "julia",
   "name": "julia-1.10"
  },
  "language_info": {
   "file_extension": ".jl",
   "mimetype": "application/julia",
   "name": "julia",
   "version": "1.10.4"
  }
 },
 "nbformat": 4,
 "nbformat_minor": 2
}
