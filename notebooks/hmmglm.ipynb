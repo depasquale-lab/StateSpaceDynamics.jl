{
 "cells": [
  {
   "cell_type": "code",
   "execution_count": 1,
   "metadata": {},
   "outputs": [],
   "source": [
    "using StateSpaceDynamics\n",
    "using Random\n",
    "using Distributions\n",
    "using Plots\n",
    "using LinearAlgebra\n",
    "using ForwardDiff\n",
    "using StatsFuns\n",
    "using Optim"
   ]
  },
  {
   "cell_type": "code",
   "execution_count": 2,
   "metadata": {},
   "outputs": [],
   "source": [
    "# generate synthetic data for a switching Gaussian Regression\n",
    "Random.seed!(12345)\n",
    "\n",
    "n = 1000\n",
    "\n",
    "beta_1 = [1.0, 2.0]\n",
    "beta_2 = [3.0, 4.0]\n",
    "\n",
    "sigma_1 = 0.5\n",
    "sigma_2 = 0.5\n",
    "\n",
    "# Simualte data from a switching GLM\n",
    "A = [0.9 0.1; 0.1 0.9]\n",
    "pi_k = [0.5, 0.5]\n",
    "\n",
    "X = randn(n, 2)\n",
    "Y = zeros(n)\n",
    "states = zeros(Int, n)\n",
    "\n",
    "# First state\n",
    "states[1] = Int(rand() < pi_k[1] ? 1 : 2)\n",
    "Y[1] = if states[1] == 1\n",
    "    beta_1[1] + beta_1[2] * X[1, 1] + sigma_1 * randn()\n",
    "else\n",
    "    beta_2[1] + beta_2[2] * X[1, 1] + sigma_2 * randn()\n",
    "end\n",
    "\n",
    "# Remaining states\n",
    "for i in 2:n\n",
    "    states[i] = Int(rand() < A[states[i-1], 1] ? 1 : 2)\n",
    "    Y[i] = if states[i] == 1\n",
    "        beta_1[1] + beta_1[2] * X[i, 1] + sigma_1 * randn()\n",
    "    else\n",
    "        beta_2[1] + beta_2[2] * X[i, 1] + sigma_2 * randn()\n",
    "    end\n",
    "end\n"
   ]
  },
  {
   "cell_type": "code",
   "execution_count": 3,
   "metadata": {},
   "outputs": [
    {
     "name": "stderr",
     "output_type": "stream",
     "text": [
      "\u001b[32mRunning EM algorithm...   2%|█                           |  ETA: 0:05:38\u001b[39m\u001b[K\n",
      "\n",
      "\u001b[32mRunning EM algorithm... 100%|████████████████████████████| Time: 0:00:08\u001b[39m\u001b[K\n"
     ]
    },
    {
     "data": {
      "text/plain": [
       "5-element Vector{Float64}:\n",
       "  -Inf\n",
       " -514.2341165866646\n",
       " -104.12836956661128\n",
       " -104.12836658096036\n",
       " -104.1283663486642"
      ]
     },
     "metadata": {},
     "output_type": "display_data"
    }
   ],
   "source": [
    "# reshape x and y to be matrices\n",
    "X_input = reshape(X[:, 1], n, 1)\n",
    "Y = reshape(Y, n, 1)\n",
    "\n",
    "est_model = SwitchingGaussianRegression(K=2, input_dim=1, output_dim=1)\n",
    "fit!(est_model, X_input, Y)"
   ]
  },
  {
   "cell_type": "code",
   "execution_count": 4,
   "metadata": {},
   "outputs": [
    {
     "ename": "UndefVarError",
     "evalue": "UndefVarError: `SSM` not defined",
     "output_type": "error",
     "traceback": [
      "UndefVarError: `SSM` not defined\n",
      "\n",
      "Stacktrace:\n",
      " [1] top-level scope\n",
      "   @ c:\\Users\\ryansenne\\Documents\\GitHub\\ssm_julia\\notebooks\\jl_notebook_cell_df34fa98e69747e1a8f8a730347b8e2f_W3sZmlsZQ==.jl:14"
     ]
    }
   ],
   "source": [
    "# generate synthetic data\n",
    "Random.seed!(123)\n",
    "\n",
    "# set parameters\n",
    "n = 1000\n",
    "β = [0.1, 0.9]\n",
    "\n",
    "# generate data\n",
    "X = hcat(ones(n), randn(n, 1))\n",
    "\n",
    "p = logistic.(X * β)\n",
    "y = rand.(Bernoulli.(p));\n",
    "\n",
    "logreg = SSM.BernoulliRegression()\n",
    "SSM.fit!(logreg, reshape(X[:, 2], length(y), 1), y)"
   ]
  },
  {
   "cell_type": "code",
   "execution_count": 5,
   "metadata": {},
   "outputs": [
    {
     "ename": "UndefVarError",
     "evalue": "UndefVarError: `SSM` not defined",
     "output_type": "error",
     "traceback": [
      "UndefVarError: `SSM` not defined\n",
      "\n",
      "Stacktrace:\n",
      " [1] top-level scope\n",
      "   @ c:\\Users\\ryansenne\\Documents\\GitHub\\ssm_julia\\notebooks\\jl_notebook_cell_df34fa98e69747e1a8f8a730347b8e2f_W4sZmlsZQ==.jl:1"
     ]
    }
   ],
   "source": [
    "model = SSM.SwitchingBernoulliRegression(;K=2, λ=0.1)\n",
    "SSM.fit!(model, reshape(X[:, 2], length(y), 1), y, 10)"
   ]
  },
  {
   "cell_type": "code",
   "execution_count": 6,
   "metadata": {},
   "outputs": [
    {
     "ename": "UndefVarError",
     "evalue": "UndefVarError: `SSM` not defined",
     "output_type": "error",
     "traceback": [
      "UndefVarError: `SSM` not defined\n",
      "\n",
      "Stacktrace:\n",
      " [1] top-level scope\n",
      "   @ c:\\Users\\ryansenne\\Documents\\GitHub\\ssm_julia\\notebooks\\jl_notebook_cell_df34fa98e69747e1a8f8a730347b8e2f_W5sZmlsZQ==.jl:14"
     ]
    }
   ],
   "source": [
    "# synthetic poisson regression data\n",
    "Random.seed!(123)\n",
    "\n",
    "# set parameters\n",
    "n = 100\n",
    "β = [0.1, 0.9]\n",
    "# generate data\n",
    "\n",
    "X = hcat(ones(n), randn(n, 1))\n",
    "λ = exp.(X * β)\n",
    "\n",
    "y = rand.(Poisson.(λ))\n",
    "\n",
    "poisreg = SSM.PoissonRegression()\n",
    "SSM.fit!(poisreg, reshape(X[:, 2], length(y), 1), y)"
   ]
  },
  {
   "cell_type": "code",
   "execution_count": 7,
   "metadata": {},
   "outputs": [
    {
     "ename": "UndefVarError",
     "evalue": "UndefVarError: `SSM` not defined",
     "output_type": "error",
     "traceback": [
      "UndefVarError: `SSM` not defined\n",
      "\n",
      "Stacktrace:\n",
      " [1] top-level scope\n",
      "   @ c:\\Users\\ryansenne\\Documents\\GitHub\\ssm_julia\\notebooks\\jl_notebook_cell_df34fa98e69747e1a8f8a730347b8e2f_W6sZmlsZQ==.jl:1"
     ]
    }
   ],
   "source": [
    "model = SSM.SwitchingPoissonRegression(;K=2, λ=0.1)\n",
    "fit!(model, reshape(X[:, 2], length(y), 1), y)"
   ]
  },
  {
   "cell_type": "code",
   "execution_count": 8,
   "metadata": {},
   "outputs": [
    {
     "ename": "UndefVarError",
     "evalue": "UndefVarError: `SSM` not defined",
     "output_type": "error",
     "traceback": [
      "UndefVarError: `SSM` not defined\n",
      "\n",
      "Stacktrace:\n",
      " [1] top-level scope\n",
      "   @ c:\\Users\\ryansenne\\Documents\\GitHub\\ssm_julia\\notebooks\\jl_notebook_cell_df34fa98e69747e1a8f8a730347b8e2f_X10sZmlsZQ==.jl:31"
     ]
    }
   ],
   "source": [
    "# Parameters\n",
    "n = 1000\n",
    "β₁ = [0.1, 0.9]\n",
    "β₂ = [0.9, 0.1]\n",
    "σ²₁ = 0.1\n",
    "σ²₂ = 0.1\n",
    "A = [0.9 0.1; 0.1 0.9]\n",
    "\n",
    "# Data generation\n",
    "X = hcat(ones(n), randn(n, 1))\n",
    "y = zeros(n)\n",
    "state = Vector{Int}(undef, n)\n",
    "\n",
    "for i in 1:n\n",
    "    if i == 1\n",
    "        # choose a state at random\n",
    "        state[i] = rand(1:2)\n",
    "    else\n",
    "        # Transition based on previous state\n",
    "        state[i] = rand(Categorical(A[state[i-1], :]))\n",
    "    end\n",
    "\n",
    "    if state[i] == 1\n",
    "        y[i] = X[i, :]' * β₁ + sqrt(σ²₁) * randn()\n",
    "    else\n",
    "        y[i] = X[i, :]' * β₂ + sqrt(σ²₂) * randn()\n",
    "    end\n",
    "end\n",
    "\n",
    "# Fit linear regression model\n",
    "linreg = SSM.SwitchingGaussianRegression(; K=2, λ=0.1)\n",
    "SSM.fit!(linreg, reshape(X[:, 2], length(y), 1), y, 10000, 1e-6)\n",
    "\n",
    "println(\"Fitted coefficients: \", linreg.B[1].regression.β)\n"
   ]
  },
  {
   "cell_type": "code",
   "execution_count": 9,
   "metadata": {},
   "outputs": [
    {
     "ename": "UndefVarError",
     "evalue": "UndefVarError: `SSM` not defined",
     "output_type": "error",
     "traceback": [
      "UndefVarError: `SSM` not defined\n",
      "\n",
      "Stacktrace:\n",
      " [1] top-level scope\n",
      "   @ c:\\Users\\ryansenne\\Documents\\GitHub\\ssm_julia\\notebooks\\jl_notebook_cell_df34fa98e69747e1a8f8a730347b8e2f_X11sZmlsZQ==.jl:1"
     ]
    }
   ],
   "source": [
    "γ, ξ, α, β = SSM.E_step(linreg, reshape(X[:, 2], length(y), 1), y)"
   ]
  }
 ],
 "metadata": {
  "kernelspec": {
   "display_name": "Julia 1.10.4",
   "language": "julia",
   "name": "julia-1.10"
  },
  "language_info": {
   "file_extension": ".jl",
   "mimetype": "application/julia",
   "name": "julia",
   "version": "1.10.4"
  }
 },
 "nbformat": 4,
 "nbformat_minor": 2
}
