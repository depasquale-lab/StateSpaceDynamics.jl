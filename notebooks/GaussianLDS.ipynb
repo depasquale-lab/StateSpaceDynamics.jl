{
 "cells": [
  {
   "cell_type": "markdown",
   "metadata": {},
   "source": [
    "# Gaussian Linear Dynamical System "
   ]
  },
  {
   "cell_type": "markdown",
   "metadata": {},
   "source": [
    "In this notebook, we will look at how we can fit a \"Gaussian Linear Dynamical System,\" using the StateSpaceDynamics package. This model is a powerful tool for analyzing time series data and understanding underlying latent processes. For a reference of the details of this model please refer to Chapter 13.3 of Pattern Recognition and Machine Learning by Christopher Bishop."
   ]
  },
  {
   "cell_type": "markdown",
   "metadata": {},
   "source": [
    "## Setup"
   ]
  },
  {
   "cell_type": "code",
   "execution_count": 15,
   "metadata": {},
   "outputs": [],
   "source": [
    "# import the relevant packages\n",
    "using StateSpaceDynamics\n",
    "using LinearAlgebra\n",
    "using Random\n",
    "using Plots\n",
    "using LaTeXStrings"
   ]
  },
  {
   "cell_type": "markdown",
   "metadata": {},
   "source": [
    "## Simulate a Gaussian LDS model"
   ]
  },
  {
   "cell_type": "code",
   "execution_count": null,
   "metadata": {},
   "outputs": [],
   "source": [
    "# create a state-space model for the tutorial\n",
    "obs_dim = 10\n",
    "latent_dim = 2\n",
    "\n",
    "# set up the state parameters\n",
    "A = 0.95 * [cos(0.25) -sin(0.25); sin(0.25) cos(0.25)] \n",
    "Q = Matrix(0.1 * I(2))\n",
    "\n",
    "x0 = [0.0; 0.0]\n",
    "P0 = Matrix(0.1 * I(2))\n",
    "\n",
    "# set up the observation parameters\n",
    "C = randn(obs_dim, latent_dim)\n",
    "R = Matrix(0.5 * I(10))\n",
    "\n",
    "\n",
    "# create the state-space model\n",
    "true_ssm = GaussianLDS(;A=A, \n",
    "                        Q=Q, \n",
    "                        C=C, \n",
    "                        R=R, \n",
    "                        x0=x0, \n",
    "                        P0=P0, \n",
    "                        obs_dim=obs_dim, \n",
    "                        latent_dim=latent_dim, \n",
    "                        fit_bool=fill(true, 6))\n",
    "\n",
    "# simulate data from the model\n",
    "tSteps = 500\n",
    "latents, observations = StateSpaceDynamics.sample(true_ssm, tSteps, 1) # one trial for tutorial purposes"
   ]
  },
  {
   "cell_type": "code",
   "execution_count": null,
   "metadata": {},
   "outputs": [],
   "source": [
    "# Create a grid for the vector field\n",
    "x = y = -3:0.5:3\n",
    "X = repeat(x', length(y), 1)\n",
    "Y = repeat(y, 1, length(x))\n",
    "\n",
    "# Assuming x and y are your grid points\n",
    "U = zeros(size(X))\n",
    "V = zeros(size(Y))\n",
    "for i in 1:size(X, 1)\n",
    "    for j in 1:size(X, 2)\n",
    "        v = A * [X[i,j], Y[i,j]]\n",
    "        U[i,j] = v[1] - X[i,j]  # Change in x\n",
    "        V[i,j] = v[2] - Y[i,j]  # Change in y\n",
    "    end\n",
    "end\n",
    "# Normalize the vectors for better visualization\n",
    "magnitude = @. sqrt(U^2 + V^2)\n",
    "U_norm, V_norm = U ./ magnitude, V ./ magnitude\n",
    "\n",
    "magnitude = @. sqrt(U^2 + V^2)\n",
    "U_norm = U ./ magnitude\n",
    "V_norm = V ./ magnitude\n",
    "\n",
    "# Plot\n",
    "p = quiver(X, Y, quiver=(U_norm, V_norm), color=:blue, alpha=0.3,\n",
    "           linewidth=1, arrow=arrow(:closed, :head, 0.1, 0.1))\n",
    "plot!(latents[1, :, 1], latents[2, :, 1], xlabel=\"x₁\", ylabel=\"x₂\", color=:black, linewidth=1.5, title=\"latent dynamics\", legend=false)\n"
   ]
  },
  {
   "cell_type": "code",
   "execution_count": null,
   "metadata": {},
   "outputs": [],
   "source": [
    "# Define parameters\n",
    "state_dim = 2\n",
    "obs_dim = 10\n",
    "time_bins = 500\n",
    "\n",
    "# Generate sample data\n",
    "states = latents[:, :, 1]\n",
    "emissions = observations[:, :, 1]\n",
    "\n",
    "# Create the main plot\n",
    "plot(size=(800, 600), layout=@layout[a{0.3h}; b])\n",
    "\n",
    "# Plot the continuous latent states\n",
    "lim_states = maximum(abs.(states))\n",
    "for d in 1:state_dim\n",
    "    plot!(1:time_bins, states[d, :] .+ lim_states * (d-1), color=:black, linewidth=2, label=\"\", subplot=1)\n",
    "end\n",
    "plot!(subplot=1, yticks=(lim_states .* (0:state_dim-1), [L\"x_%$d\" for d in 1:state_dim]),\n",
    "      xticks=[], xlims=(0, time_bins), title=\"Simulated Latent States\",\n",
    "      yformatter=y->\"\", tickfontsize=12)\n",
    "\n",
    "# Plot the emissions\n",
    "lim_emissions = maximum(abs.(emissions))\n",
    "for n in 1:obs_dim\n",
    "    plot!(1:time_bins, emissions[n, :] .- lim_emissions * (n-1), color=:black, linewidth=2, label=\"\", subplot=2)\n",
    "end\n",
    "plot!(subplot=2, yticks=(-lim_emissions .* (obs_dim-1:-1:0), [L\"y_{%$n}\" for n in 1:obs_dim]),\n",
    "      xlabel=\"time\", xlims=(0, time_bins), title=\"Simulated emissions\",\n",
    "      yformatter=y->\"\", tickfontsize=12)\n",
    "\n",
    "# Adjust layout\n",
    "plot!(link=:x, size=(800, 600), left_margin=10Plots.mm)\n",
    "\n",
    "# Display the plot\n",
    "display(current())\n",
    "\n",
    "# Uncomment to save the figure\n",
    "# savefig(\"simulated_latent_states_and_emissions.png\")"
   ]
  },
  {
   "cell_type": "markdown",
   "metadata": {},
   "source": [
    "## Create and fit a Gaussian LDS model to Data"
   ]
  },
  {
   "cell_type": "code",
   "execution_count": null,
   "metadata": {},
   "outputs": [],
   "source": [
    "# create a Gaussian LDS with unknow parameters (except the dimensions)\n",
    "naive_ssm = GaussianLDS(;obs_dim=obs_dim, latent_dim=latent_dim, fit_bool=fill(true, 6))\n",
    "\n",
    "# smooth the data to look at the predicted latent states\n",
    "x_smooth, p_smooth, _ = StateSpaceDynamics.smooth(naive_ssm, observations)\n",
    "\n",
    "# create a plot to compare the true and predicted latent states\n",
    "plot()\n",
    "\n",
    "# plot the true latent states\n",
    "for d in 1:state_dim\n",
    "    plot!(1:time_bins, states[d, :] .+ lim_states * (d-1), color=:black, linewidth=2, label=\"\", subplot=1)\n",
    "end\n",
    "\n",
    "# plot the predicted latent states\n",
    "for d in 1:state_dim\n",
    "    plot!(1:time_bins, x_smooth[d, :, 1] .+ lim_states * (d-1), color=:firebrick, linewidth=2, label=\"\", subplot=1)\n",
    "end\n",
    "\n",
    "plot!(subplot=1, yticks=(lim_states .* (0:state_dim-1), [L\"x_%$d\" for d in 1:state_dim]),\n",
    "      xticks=[], xlims=(0, time_bins), yformatter=y->\"\", tickfontsize=12, title=\"True vs. Predicted Latent States\")\n"
   ]
  },
  {
   "cell_type": "code",
   "execution_count": null,
   "metadata": {},
   "outputs": [],
   "source": [
    "# now fit the LDS using the EM algorithm\n",
    "elbo, _ = fit!(naive_ssm, observations; max_iter=1000, tol=1e-6)\n",
    "\n",
    "# smooth the data to look at the predicted latent states\n",
    "x_smooth, p_smooth, _ = StateSpaceDynamics.smooth(naive_ssm, observations)\n",
    "\n",
    "# create a plot to compare the true and predicted latent states\n",
    "plot()\n",
    "\n",
    "# plot the true latent states\n",
    "for d in 1:state_dim\n",
    "    plot!(1:time_bins, states[d, :] .+ lim_states * (d-1), color=:black, linewidth=2, label=\"\", subplot=1)\n",
    "end\n",
    "\n",
    "# plot the predicted latent states\n",
    "for d in 1:state_dim\n",
    "    plot!(1:time_bins, x_smooth[d, :, 1] .+ lim_states * (d-1), color=:firebrick, linewidth=2, label=\"\", subplot=1)\n",
    "end\n",
    "\n",
    "plot!(subplot=1, yticks=(lim_states .* (0:state_dim-1), [L\"x_%$d\" for d in 1:state_dim]),\n",
    "      xticks=[], xlims=(0, time_bins), yformatter=y->\"\", tickfontsize=12, title=\"True vs. Predicted Latent States\")"
   ]
  },
  {
   "cell_type": "code",
   "execution_count": null,
   "metadata": {},
   "outputs": [],
   "source": [
    "plot(elbo, xlabel=\"iteration\", ylabel=\"ELBO\", title=\"ELBO (Marginal Loglikelihood)\", legend=false)"
   ]
  },
  {
   "cell_type": "code",
   "execution_count": null,
   "metadata": {},
   "outputs": [],
   "source": [
    "using BenchmarkTools\n",
    "using ArrayLayouts\n",
    "\n",
    "Q = [0.01 0.0; 0.0 0.01]\n",
    "Q_symmetric = Symmetric(Q)\n",
    "\n",
    "@btime pinv(Q)\n"
   ]
  },
  {
   "cell_type": "code",
   "execution_count": null,
   "metadata": {},
   "outputs": [],
   "source": [
    "@btime pinv(Q_symmetric)"
   ]
  },
  {
   "cell_type": "code",
   "execution_count": null,
   "metadata": {},
   "outputs": [],
   "source": [
    "@btime Q \\ I(2)"
   ]
  },
  {
   "cell_type": "code",
   "execution_count": null,
   "metadata": {},
   "outputs": [],
   "source": [
    "function Gradient(\n",
    "    lds::StateSpaceDynamics.LinearDynamicalSystem{S,O}, y::Matrix{T}, x::Matrix{T}\n",
    ") where {T<:Real,S<:StateSpaceDynamics.GaussianStateModel{T},O<:StateSpaceDynamics.GaussianObservationModel{T}}\n",
    "    latent_dim, T_steps = size(x)\n",
    "    obs_dim, _ = size(y)\n",
    "\n",
    "    A, Q, x0, P0 = lds.state_model.A,\n",
    "    lds.state_model.Q, lds.state_model.x0,\n",
    "    lds.state_model.P0\n",
    "    C, R = lds.obs_model.C, lds.obs_model.R\n",
    "\n",
    "    inv_R = pinv(R)\n",
    "    inv_Q = pinv(Q)\n",
    "    inv_P0 = pinv(P0)\n",
    "\n",
    "    grad = zeros(T, latent_dim, T_steps)\n",
    "\n",
    "    # First time step\n",
    "    grad[:, 1] =\n",
    "        A' * inv_Q * (x[:, 2] - A * x[:, 1]) + C' * inv_R * (y[:, 1] - C * x[:, 1]) -\n",
    "        inv_P0 * (x[:, 1] - x0)\n",
    "\n",
    "    # Middle time steps\n",
    "    @Threads.threads for t in 2:(T_steps - 1)\n",
    "        grad[:, t] =\n",
    "            C' * inv_R * (y[:, t] - C * x[:, t]) - inv_Q * (x[:, t] - A * x[:, t - 1]) +\n",
    "            A' * inv_Q * (x[:, t + 1] - A * x[:, t])\n",
    "    end\n",
    "\n",
    "    # Last time step\n",
    "    grad[:, T_steps] =\n",
    "        C' * inv_R * (y[:, T_steps] - C * x[:, T_steps]) -\n",
    "        inv_Q * (x[:, T_steps] - A * x[:, T_steps - 1])\n",
    "\n",
    "    return grad\n",
    "end\n",
    "\n"
   ]
  },
  {
   "cell_type": "code",
   "execution_count": null,
   "metadata": {},
   "outputs": [],
   "source": [
    "@btime Gradient(naive_ssm, observations[:, :, 1], x_smooth[:, :, 1])"
   ]
  }
 ],
 "metadata": {
  "kernelspec": {
   "display_name": "Julia 1.11.1",
   "language": "julia",
   "name": "julia-1.11"
  },
  "language_info": {
   "file_extension": ".jl",
   "mimetype": "application/julia",
   "name": "julia",
   "version": "1.11.1"
  }
 },
 "nbformat": 4,
 "nbformat_minor": 2
}
