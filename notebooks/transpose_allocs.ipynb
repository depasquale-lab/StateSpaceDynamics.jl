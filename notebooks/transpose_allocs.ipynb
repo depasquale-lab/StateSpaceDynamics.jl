{
 "cells": [
  {
   "cell_type": "code",
   "execution_count": 1,
   "id": "d7eca79e",
   "metadata": {},
   "outputs": [
    {
     "name": "stdout",
     "output_type": "stream",
     "text": [
      "Allocations with transposes for iteration 1\n",
      "Allocations with transposes for iteration 2\n",
      "Allocations without transposes for iteration 1\n",
      "Allocations without transposes for iteration 2\n"
     ]
    }
   ],
   "source": [
    "using Random\n",
    "using LinearAlgebra\n",
    "using StateSpaceDynamics\n",
    "using Distributions\n",
    "using ProfileView \n",
    "\n",
    "n = 30000\n",
    "Φ = randn(3, n)\n",
    "Y = randn(1, n)\n",
    "w = ones(n)\n",
    "\n",
    "emission_1 = GaussianRegressionEmission(\n",
    "    input_dim=3, output_dim=1, include_intercept=true,\n",
    "    β=reshape([3.0, 2.0, 2.0, 3.0], :, 1), Σ=[1.0;;], λ=0.0\n",
    ")\n",
    "emission_2 = GaussianRegressionEmission(\n",
    "    input_dim=3, output_dim=1, include_intercept=true,\n",
    "    β=reshape([-4.0, -2.0, 3.0, 2.0], :, 1), Σ=[1.0;;], λ=0.0\n",
    ")\n",
    "\n",
    "A = [0.99 0.01; 0.05 0.95]\n",
    "πₖ = [0.8; 0.2]\n",
    "test_model = HiddenMarkovModel(K=2, A=A, πₖ=πₖ, B=[emission_1, emission_2])\n",
    "\n",
    "\n",
    "for k in 1:test_model.K\n",
    "    println(\"Allocations with transposes for iteration $k\")\n",
    "    @profview_allocs create_optimization(test_model.B[k], Φ', Y', w)\n",
    "end\n",
    "\n",
    "\n",
    "for k in 1:test_model.K\n",
    "    println(\"Allocations without transposes for iteration $k\")\n",
    "    @profview_allocs create_optimization(test_model.B[k], Φ, Y, w)\n",
    "end "
   ]
  }
 ],
 "metadata": {
  "kernelspec": {
   "display_name": "Julia 1.11.5",
   "language": "julia",
   "name": "julia-1.11"
  },
  "language_info": {
   "file_extension": ".jl",
   "mimetype": "application/julia",
   "name": "julia",
   "version": "1.11.5"
  }
 },
 "nbformat": 4,
 "nbformat_minor": 5
}
